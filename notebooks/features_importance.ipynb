{
 "cells": [
  {
   "cell_type": "code",
   "execution_count": 1,
   "id": "4e0ee661",
   "metadata": {},
   "outputs": [],
   "source": [
    "import sys\n",
    "sys.path.append('..')\n",
    "from hamp_pred.src.predictor import Predictor\n",
    "from hamp_pred.src.predictor_config import DEFAULT_CONF, PredictionConfig,SEQ_ENCODING_EXTERNAL\n",
    "import numpy as np\n",
    "import seaborn as sns\n",
    "import matplotlib.pyplot as plt\n",
    "import pandas as pd\n",
    "from Bio import SeqIO\n",
    "import tensorflow as tf\n",
    "from external.SequenceEncoding.SequenceEncoding import SequenceEncoding, get_dict\n",
    "from hamp_pred.src.input_prep.encode import OneHotEncoderSeq, RadianEncoder, MixedEncoder, MultiEncoder\n",
    "from hamp_pred.src.input_prep.prepare_sequence import MultiChainOperator, SeqWindow\n",
    "from hamp_pred.src.models.common.models import BaseConvolutionalWrapper, BaseLinearWrapper\n",
    "from hamp_pred.src.input_prep.encode import RadiousPhobosEncoder\n",
    "from keras.utils.vis_utils import plot_model\n",
    "from Bio.PDB.PDBParser import PDBParser\n",
    "import os\n",
    "import matplotlib.pyplot as plt\n",
    "from Bio.PDB.Polypeptide import aa1\n",
    "from hamp_pred.src.output_analysis.visual import reg_plot"
   ]
  },
  {
   "cell_type": "code",
   "execution_count": 12,
   "id": "4d69673f",
   "metadata": {},
   "outputs": [],
   "source": [
    "sns.set(rc={'figure.figsize':(8.7,4.27)})"
   ]
  },
  {
   "cell_type": "code",
   "execution_count": 3,
   "id": "a3387483",
   "metadata": {},
   "outputs": [
    {
     "name": "stderr",
     "output_type": "stream",
     "text": [
      "/var/folders/kd/py7h1wzs6vbgxk8yw70z36cm0000gn/T/ipykernel_82828/2939851312.py:3: FutureWarning: Passing a set as an indexer is deprecated and will raise in a future version. Use a list instead.\n",
      "  val_data = data.loc[val_ids]\n"
     ]
    }
   ],
   "source": [
    "data = pd.read_pickle('../data/input/full_alpha_data.p')\n",
    "val_ids = set(data[data['class'] == 'val'].index)\n",
    "val_data = data.loc[val_ids]\n",
    "val_fragments = []\n",
    "val_full = []\n",
    "for ind, row in val_data.iterrows():\n",
    "    val_fragments.append(row['n_seq'][1:-1] + row['c_seq'][1:-1])\n",
    "    val_full.append(row['full_sequence'])\n",
    "test_data = pd.read_pickle('../data/input/full_pdb_hamp.p')\n",
    "test_data.rename(columns={'seq1':'n_seq', 'seq2':'c_seq', 'n_list':'n_crick_mut', 'c_list':'c_crick_mut'}, inplace=True)"
   ]
  },
  {
   "cell_type": "code",
   "execution_count": 4,
   "id": "12bdf789",
   "metadata": {},
   "outputs": [],
   "source": [
    "operator = MultiChainOperator(MultiEncoder([RadiousPhobosEncoder(), OneHotEncoderSeq()]), SeqWindow(11, 11), RadianEncoder(100),  SeqWindow(11, 11, null_char=[[0]]),\n",
    "                                      parallel=True)\n",
    "model_conf = model_config = {\n",
    "    'activation': 'tanh',\n",
    "    'norm': True,\n",
    "    'n_layers': 1,\n",
    "    'kernel_sizes': (3, 5, 7),\n",
    "    'lstm': 2,\n",
    "    'dense': 1,\n",
    "    'reshape_out': False,\n",
    "    'epochs': 100\n",
    "}\n",
    "conf = PredictionConfig(BaseConvolutionalWrapper, operator, model_conf)\n",
    "short_model = Predictor('hamp_rot', config=conf)\n",
    "full_model = Predictor('hamp_crick_single_sequence')"
   ]
  },
  {
   "cell_type": "markdown",
   "id": "a3ffa46b",
   "metadata": {},
   "source": [
    "# Af1503 amino acids importance"
   ]
  },
  {
   "cell_type": "markdown",
   "id": "66a94562",
   "metadata": {},
   "source": [
    "## Cutted helices"
   ]
  },
  {
   "cell_type": "code",
   "execution_count": 5,
   "id": "acea6b69",
   "metadata": {},
   "outputs": [],
   "source": [
    "af_seq_short = test_data.loc['2l7h.pdb']['n_seq'][1:-1] + test_data.loc['2l7h.pdb']['c_seq'][1:-1]"
   ]
  },
  {
   "cell_type": "code",
   "execution_count": 26,
   "id": "0014775e",
   "metadata": {},
   "outputs": [
    {
     "name": "stdout",
     "output_type": "stream",
     "text": [
      "1/1 [==============================] - 1s 1s/step\n",
      "1/1 [==============================] - 1s 1s/step\n",
      "1/1 [==============================] - 1s 1s/step\n"
     ]
    }
   ],
   "source": [
    "importance = short_model.process_data([af_seq_short], kind='importance_describer', out_kind='heatmap', mode='replacement', diff_metric='t')"
   ]
  },
  {
   "cell_type": "code",
   "execution_count": 30,
   "id": "7a4b5174",
   "metadata": {},
   "outputs": [
    {
     "data": {
      "text/plain": [
       "Text(0.5, 1.0, 'Amino acids importance in Af1503 sequence')"
      ]
     },
     "execution_count": 30,
     "metadata": {},
     "output_type": "execute_result"
    },
    {
     "data": {
      "image/png": "[encoded data removed]",
      "text/plain": [
       "<Figure size 870x427 with 2 Axes>"
      ]
     },
     "metadata": {},
     "output_type": "display_data"
    }
   ],
   "source": [
    "fig, ax = plt.subplots()\n",
    "\n",
    "sns.heatmap(importance[0], cmap='coolwarm', xticklabels=importance[1], ax=ax, yticklabels=[])\n",
    "ax.set_xlabel('Af1503 sequence')\n",
    "ax.set_ylabel('Importance')\n",
    "ax.set_title(\"Amino acids importance in Af1503 sequence\")"
   ]
  },
  {
   "cell_type": "markdown",
   "id": "0b008745",
   "metadata": {},
   "source": [
    "## Full sequence"
   ]
  },
  {
   "cell_type": "code",
   "execution_count": null,
   "id": "4a35fe08",
   "metadata": {},
   "outputs": [],
   "source": [
    "full_importance = full_model.process_data([test_data.loc['2l7h.pdb']['full_sequence']], kind='importance_describer', out_kind='heatmap', res_col='prediction', stats_col='diff')"
   ]
  },
  {
   "cell_type": "code",
   "execution_count": null,
   "id": "93568539",
   "metadata": {},
   "outputs": [],
   "source": [
    "w = full_model.process_data([test_data.loc['2l7h.pdb']['full_sequence']], kind='importance_describer', res_col='prediction')"
   ]
  },
  {
   "cell_type": "code",
   "execution_count": null,
   "id": "af6e45ba",
   "metadata": {},
   "outputs": [],
   "source": []
  },
  {
   "cell_type": "code",
   "execution_count": null,
   "id": "7c16c24f",
   "metadata": {},
   "outputs": [],
   "source": [
    "fig, ax = plt.subplots(1, 1, figsize=(12, 6), dpi=100)\n",
    "sns.heatmap(full_importance[0], cmap='coolwarm', xticklabels=full_importance[1], ax=ax)"
   ]
  },
  {
   "cell_type": "markdown",
   "id": "31fd13c8",
   "metadata": {},
   "source": [
    "## Overall importance (based on validation set)"
   ]
  },
  {
   "cell_type": "markdown",
   "id": "b98d9f5d",
   "metadata": {},
   "source": [
    "## Cutted helices"
   ]
  },
  {
   "cell_type": "code",
   "execution_count": 14,
   "id": "b6099b09",
   "metadata": {},
   "outputs": [
    {
     "name": "stdout",
     "output_type": "stream",
     "text": [
      "1/1 [==============================] - 1s 1s/step\n",
      "WARNING:tensorflow:5 out of the last 5 calls to <function Model.make_predict_function.<locals>.predict_function at 0x13af0d990> triggered tf.function retracing. Tracing is expensive and the excessive number of tracings could be due to (1) creating @tf.function repeatedly in a loop, (2) passing tensors with different shapes, (3) passing Python objects instead of tensors. For (1), please define your @tf.function outside of the loop. For (2), @tf.function has experimental_relax_shapes=True option that relaxes argument shapes that can avoid unnecessary retracing. For (3), please refer to https://www.tensorflow.org/guide/function#controlling_retracing and https://www.tensorflow.org/api_docs/python/tf/function for  more details.\n",
      "1/1 [==============================] - 1s 1s/step\n",
      "WARNING:tensorflow:6 out of the last 6 calls to <function Model.make_predict_function.<locals>.predict_function at 0x13ae15ab0> triggered tf.function retracing. Tracing is expensive and the excessive number of tracings could be due to (1) creating @tf.function repeatedly in a loop, (2) passing tensors with different shapes, (3) passing Python objects instead of tensors. For (1), please define your @tf.function outside of the loop. For (2), @tf.function has experimental_relax_shapes=True option that relaxes argument shapes that can avoid unnecessary retracing. For (3), please refer to https://www.tensorflow.org/guide/function#controlling_retracing and https://www.tensorflow.org/api_docs/python/tf/function for  more details.\n",
      "128/128 [==============================] - 23s 173ms/step\n"
     ]
    }
   ],
   "source": [
    "importance = short_model.process_data(val_fragments, kind='importance_describer', out_kind='heatmap', mode='replacement')\n"
   ]
  },
  {
   "cell_type": "code",
   "execution_count": 15,
   "id": "37054b1a",
   "metadata": {},
   "outputs": [
    {
     "data": {
      "text/plain": [
       "<AxesSubplot: >"
      ]
     },
     "execution_count": 15,
     "metadata": {},
     "output_type": "execute_result"
    },
    {
     "data": {
      "image/png": "[encoded data removed]",
      "text/plain": [
       "<Figure size 870x427 with 2 Axes>"
      ]
     },
     "metadata": {},
     "output_type": "display_data"
    }
   ],
   "source": [
    "sns.heatmap(importance[0], cmap='coolwarm', xticklabels=aa1)"
   ]
  },
  {
   "cell_type": "markdown",
   "id": "ed474fe3",
   "metadata": {},
   "source": [
    "## Full sequence"
   ]
  },
  {
   "cell_type": "code",
   "execution_count": null,
   "id": "cb791c0c",
   "metadata": {},
   "outputs": [],
   "source": [
    "np.random.shuffle(val_full)\n",
    "importance = full_model.process_data(val_full[:100], kind='importance_describer', out_kind='heatmap', res_col='prediction')\n",
    "sns.heatmap(importance[0], cmap='coolwarm', xticklabels=list(aa1))"
   ]
  },
  {
   "cell_type": "code",
   "execution_count": null,
   "id": "d79c0a8c",
   "metadata": {},
   "outputs": [],
   "source": []
  },
  {
   "cell_type": "code",
   "execution_count": null,
   "id": "262ff965",
   "metadata": {},
   "outputs": [],
   "source": []
  }
 ],
 "metadata": {
  "kernelspec": {
   "display_name": "Python 3 (ipykernel)",
   "language": "python",
   "name": "python3"
  },
  "language_info": {
   "codemirror_mode": {
    "name": "ipython",
    "version": 3
   },
   "file_extension": ".py",
   "mimetype": "text/x-python",
   "name": "python",
   "nbconvert_exporter": "python",
   "pygments_lexer": "ipython3",
   "version": "3.9.16"
  }
 },
 "nbformat": 4,
 "nbformat_minor": 5
}
