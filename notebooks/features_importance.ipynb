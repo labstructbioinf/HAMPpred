{
 "cells": [
  {
   "cell_type": "code",
   "execution_count": 1,
   "id": "4e0ee661",
   "metadata": {},
   "outputs": [],
   "source": [
    "from hamp_pred.src.predictor import Predictor\n",
    "from hamp_pred.src.predictor_config import DEFAULT_CONF, PredictionConfig,SEQ_ENCODING_EXTERNAL\n",
    "import numpy as np\n",
    "import seaborn as sns\n",
    "import matplotlib.pyplot as plt\n",
    "import pandas as pd\n",
    "from Bio import SeqIO\n",
    "import tensorflow as tf\n",
    "from external.SequenceEncoding.SequenceEncoding import SequenceEncoding, get_dict\n",
    "from hamp_pred.src.input_prep.encode import OneHotEncoderSeq, RadianEncoder, MixedEncoder, MultiEncoder\n",
    "from hamp_pred.src.input_prep.prepare_sequence import MultiChainOperator, SeqWindow\n",
    "from hamp_pred.src.models.common.models import BaseConvolutionalWrapper, BaseLinearWrapper\n",
    "from hamp_pred.src.input_prep.encode import RadiousPhobosEncoder\n",
    "from keras.utils.vis_utils import plot_model\n",
    "from Bio.PDB.PDBParser import PDBParser\n",
    "import os\n",
    "import matplotlib.pyplot as plt\n",
    "from hamp_pred.src.output_analysis.visual import reg_plot"
   ]
  },
  {
   "cell_type": "code",
   "execution_count": 19,
   "id": "a3387483",
   "metadata": {},
   "outputs": [
    {
     "name": "stderr",
     "output_type": "stream",
     "text": [
      "/tmp/ipykernel_27870/2939851312.py:3: FutureWarning: Passing a set as an indexer is deprecated and will raise in a future version. Use a list instead.\n",
      "  val_data = data.loc[val_ids]\n"
     ]
    }
   ],
   "source": [
    "data = pd.read_pickle('../data/input/full_alpha_data.p')\n",
    "val_ids = set(data[data['class'] == 'val'].index)\n",
    "val_data = data.loc[val_ids]\n",
    "val_fragments = []\n",
    "val_full = []\n",
    "for ind, row in val_data.iterrows():\n",
    "    val_fragments.append(row['n_seq'][1:-1] + row['c_seq'][1:-1])\n",
    "    val_full.append(row['full_sequence'])\n",
    "test_data = pd.read_pickle('../data/input/full_pdb_hamp.p')\n",
    "test_data.rename(columns={'seq1':'n_seq', 'seq2':'c_seq', 'n_list':'n_crick_mut', 'c_list':'c_crick_mut'}, inplace=True)"
   ]
  },
  {
   "cell_type": "code",
   "execution_count": 20,
   "id": "12bdf789",
   "metadata": {},
   "outputs": [],
   "source": [
    "operator = MultiChainOperator(MultiEncoder([RadiousPhobosEncoder(), OneHotEncoderSeq()]), SeqWindow(11, 11), RadianEncoder(100),  SeqWindow(11, 11, null_char=[[0]]),\n",
    "                                      parallel=True)\n",
    "model_conf = model_config = {\n",
    "    'activation': 'tanh',\n",
    "    'norm': True,\n",
    "    'n_layers': 1,\n",
    "    'kernel_sizes': (3, 5, 7),\n",
    "    'lstm': 2,\n",
    "    'dense': 1,\n",
    "    'reshape_out': False,\n",
    "    'epochs': 100\n",
    "}\n",
    "conf = PredictionConfig(BaseConvolutionalWrapper, operator, model_conf)\n",
    "short_model = Predictor('hamp_rot', config=conf)\n",
    "full_model = Predictor('hamp_crick_single_sequence')"
   ]
  },
  {
   "cell_type": "markdown",
   "id": "a3ffa46b",
   "metadata": {},
   "source": [
    "# Af1503 amino acids importance"
   ]
  },
  {
   "cell_type": "code",
   "execution_count": 4,
   "id": "acea6b69",
   "metadata": {},
   "outputs": [],
   "source": [
    "af_seq_short = test_data.loc['2l7h.pdb']['n_seq'][1:-1] + test_data.loc['2l7h.pdb']['c_seq'][1:-1]"
   ]
  },
  {
   "cell_type": "code",
   "execution_count": 5,
   "id": "0014775e",
   "metadata": {},
   "outputs": [
    {
     "name": "stderr",
     "output_type": "stream",
     "text": [
      "2022-10-03 01:02:04.636915: I tensorflow/core/platform/cpu_feature_guard.cc:193] This TensorFlow binary is optimized with oneAPI Deep Neural Network Library (oneDNN) to use the following CPU instructions in performance-critical operations:  AVX2 FMA\n",
      "To enable them in other operations, rebuild TensorFlow with the appropriate compiler flags.\n",
      "2022-10-03 01:02:05.690470: I tensorflow/core/common_runtime/gpu/gpu_device.cc:1532] Created device /job:localhost/replica:0/task:0/device:GPU:0 with 7390 MB memory:  -> device: 0, name: NVIDIA GeForce GTX 1080, pci bus id: 0000:01:00.0, compute capability: 6.1\n",
      "2022-10-03 01:02:05.691000: I tensorflow/core/common_runtime/gpu/gpu_device.cc:1532] Created device /job:localhost/replica:0/task:0/device:GPU:1 with 7388 MB memory:  -> device: 1, name: NVIDIA GeForce GTX 1080, pci bus id: 0000:02:00.0, compute capability: 6.1\n",
      "2022-10-03 01:02:08.164457: I tensorflow/stream_executor/cuda/cuda_dnn.cc:384] Loaded cuDNN version 8204\n",
      "2022-10-03 01:02:08.377328: I tensorflow/core/platform/default/subprocess.cc:304] Start cannot spawn child process: No such file or directory\n",
      "2022-10-03 01:02:08.377931: I tensorflow/core/platform/default/subprocess.cc:304] Start cannot spawn child process: No such file or directory\n",
      "2022-10-03 01:02:08.377974: W tensorflow/stream_executor/gpu/asm_compiler.cc:80] Couldn't get ptxas version string: INTERNAL: Couldn't invoke ptxas --version\n",
      "2022-10-03 01:02:08.378630: I tensorflow/core/platform/default/subprocess.cc:304] Start cannot spawn child process: No such file or directory\n",
      "2022-10-03 01:02:08.378734: W tensorflow/stream_executor/gpu/redzone_allocator.cc:314] INTERNAL: Failed to launch ptxas\n",
      "Relying on driver to perform ptx compilation. \n",
      "Modify $PATH to customize ptxas location.\n",
      "This message will be only logged once.\n"
     ]
    },
    {
     "name": "stdout",
     "output_type": "stream",
     "text": [
      "1/1 [==============================] - 2s 2s/step\n",
      "1/1 [==============================] - 1s 1s/step\n"
     ]
    }
   ],
   "source": [
    "importance = short_model.process_data([af_seq_short], kind='importance_describer', out_kind='heatmap')"
   ]
  },
  {
   "cell_type": "code",
   "execution_count": 16,
   "id": "7a4b5174",
   "metadata": {},
   "outputs": [
    {
     "data": {
      "text/plain": [
       "<AxesSubplot:>"
      ]
     },
     "execution_count": 16,
     "metadata": {},
     "output_type": "execute_result"
    },
    {
     "data": {
      "image/png": "[encoded data removed]",
      "text/plain": [
       "<Figure size 432x288 with 2 Axes>"
      ]
     },
     "metadata": {
      "needs_background": "light"
     },
     "output_type": "display_data"
    }
   ],
   "source": [
    "sns.heatmap(importance[0], cmap='coolwarm', xticklabels=importance[1])"
   ]
  },
  {
   "cell_type": "code",
   "execution_count": null,
   "id": "99cb4490",
   "metadata": {},
   "outputs": [],
   "source": []
  },
  {
   "cell_type": "markdown",
   "id": "31fd13c8",
   "metadata": {},
   "source": [
    "## Overall importance (based on validation set)"
   ]
  },
  {
   "cell_type": "code",
   "execution_count": 21,
   "id": "b6099b09",
   "metadata": {},
   "outputs": [
    {
     "name": "stdout",
     "output_type": "stream",
     "text": [
      "1/1 [==============================] - 1s 1s/step\n",
      "WARNING:tensorflow:5 out of the last 5 calls to <function Model.make_predict_function.<locals>.predict_function at 0x7f49561ab1f0> triggered tf.function retracing. Tracing is expensive and the excessive number of tracings could be due to (1) creating @tf.function repeatedly in a loop, (2) passing tensors with different shapes, (3) passing Python objects instead of tensors. For (1), please define your @tf.function outside of the loop. For (2), @tf.function has reduce_retracing=True option that can avoid unnecessary retracing. For (3), please refer to https://www.tensorflow.org/guide/function#controlling_retracing and https://www.tensorflow.org/api_docs/python/tf/function for  more details.\n",
      "90/90 [==============================] - 3s 15ms/step\n"
     ]
    },
    {
     "data": {
      "text/plain": [
       "<AxesSubplot:>"
      ]
     },
     "execution_count": 21,
     "metadata": {},
     "output_type": "execute_result"
    },
    {
     "data": {
      "image/png": "[encoded data removed]",
      "text/plain": [
       "<Figure size 432x288 with 2 Axes>"
      ]
     },
     "metadata": {
      "needs_background": "light"
     },
     "output_type": "display_data"
    }
   ],
   "source": [
    "importance = short_model.process_data(val_fragments, kind='importance_describer', out_kind='heatmap')\n",
    "sns.heatmap(importance[0], cmap='coolwarm')"
   ]
  },
  {
   "cell_type": "code",
   "execution_count": null,
   "id": "3d9b462a",
   "metadata": {},
   "outputs": [],
   "source": []
  }
 ],
 "metadata": {
  "kernelspec": {
   "display_name": "Python 3 (ipykernel)",
   "language": "python",
   "name": "python3"
  },
  "language_info": {
   "codemirror_mode": {
    "name": "ipython",
    "version": 3
   },
   "file_extension": ".py",
   "mimetype": "text/x-python",
   "name": "python",
   "nbconvert_exporter": "python",
   "pygments_lexer": "ipython3",
   "version": "3.9.12"
  }
 },
 "nbformat": 4,
 "nbformat_minor": 5
}
