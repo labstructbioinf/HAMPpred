{
 "cells": [
  {
   "cell_type": "code",
   "execution_count": 1,
   "id": "c5ffb0db",
   "metadata": {},
   "outputs": [],
   "source": [
    "from hamp_pred.src.predictor import Predictor\n",
    "from hamp_pred.src.predictor_config import DEFAULT_CONF, PredictionConfig,SEQ_ENCODING_EXTERNAL\n",
    "import numpy as np\n",
    "import seaborn as sns\n",
    "import matplotlib.pyplot as plt\n",
    "import pandas as pd\n",
    "from Bio import SeqIO\n",
    "import tensorflow as tf\n",
    "from external.SequenceEncoding.SequenceEncoding import SequenceEncoding, get_dict\n",
    "from hamp_pred.src.input_prep.encode import OneHotEncoderSeq, RadianEncoder, MixedEncoder, MultiEncoder\n",
    "from hamp_pred.src.input_prep.prepare_sequence import MultiChainOperator, SeqWindow\n",
    "from hamp_pred.src.models.common.models import BaseConvolutionalWrapper, BaseLinearWrapper\n",
    "from hamp_pred.src.input_prep.encode import RadiousPhobosEncoder\n",
    "from keras.utils.vis_utils import plot_model\n",
    "from Bio.PDB.PDBParser import PDBParser\n",
    "import os\n",
    "import matplotlib.pyplot as plt"
   ]
  },
  {
   "cell_type": "code",
   "execution_count": null,
   "id": "52740c90",
   "metadata": {},
   "outputs": [],
   "source": []
  },
  {
   "cell_type": "markdown",
   "id": "a2fed132",
   "metadata": {},
   "source": [
    "## Prepare data"
   ]
  },
  {
   "cell_type": "code",
   "execution_count": 3,
   "id": "f0ae09b2",
   "metadata": {},
   "outputs": [],
   "source": [
    "DATA_DIR = '/home/users/sdunin/calc/TCST'\n",
    "msa = list(SeqIO.parse(f\"{DATA_DIR}/offline_data/hamp/msa/final3.reb2.aln\", \"fasta\"))"
   ]
  },
  {
   "cell_type": "code",
   "execution_count": 10,
   "id": "a9689d8b",
   "metadata": {},
   "outputs": [],
   "source": [
    "full = pd.DataFrame(\n",
    "        [(str(i.seq).replace('-', ''), i.id) for i in msa],\n",
    "    columns=['sequence', 'id']\n",
    ")"
   ]
  },
  {
   "cell_type": "code",
   "execution_count": 7,
   "id": "f7d4e1aa",
   "metadata": {},
   "outputs": [],
   "source": [
    "short = f'{DATA_DIR}/offline_data/cache/af2_true_full.features.p'\n",
    "short = pd.read_pickle(short)"
   ]
  },
  {
   "cell_type": "code",
   "execution_count": 24,
   "id": "72b955ab",
   "metadata": {},
   "outputs": [],
   "source": [
    "def match_sort_with_full(short, full):\n",
    "    full_seq, full_id = [], []\n",
    "    for ind, row in short.iterrows():\n",
    "        has = full[ (full['sequence'].str.contains(row['n_seq'])) &  (full['sequence'].str.contains(row['n_seq']))]\n",
    "        if not has.empty:\n",
    "            full_seq.append(has.iloc[0]['sequence'])\n",
    "            full_id.append(has.iloc[0]['id'])\n",
    "        else: \n",
    "            full_seq.append(None)\n",
    "            full_id.append(None)\n",
    "    short = short.assign(full_sequence=full_seq)\n",
    "    short = short.assign(full_id=full_id)\n",
    "    short = short.dropna(subset=['full_sequence'])\n",
    "    return short"
   ]
  },
  {
   "cell_type": "code",
   "execution_count": 30,
   "id": "ddee041d",
   "metadata": {},
   "outputs": [],
   "source": [
    "def assign_labels(data):\n",
    "    fulls = []\n",
    "    for ind, row in data.iterrows(): \n",
    "        n_c, c_c = row['n_crick_mut'], row['c_crick_mut']\n",
    "        n_c, c_c = (n_c[::2] + n_c[1:2])/2, (c_c[::2] + c_c[1:2])/ 2\n",
    "        full_crick = np.full(len(row['full_sequence']), 10000)\n",
    "        pos_n = row['full_sequence'].find(row['n_seq'])\n",
    "        pos_c = row['full_sequence'].find(row['c_seq'])\n",
    "        full_crick[pos_n+1:pos_n+len(row['n_seq']) - 1] = n_c\n",
    "        full_crick[pos_c+1:pos_c+len(row['c_seq']) - 1] = c_c\n",
    "        fulls.append(full_crick)\n",
    "    data = data.assign(full_crick=fulls)\n",
    "    return data\n",
    "        "
   ]
  },
  {
   "cell_type": "code",
   "execution_count": 25,
   "id": "6d48b2cc",
   "metadata": {},
   "outputs": [],
   "source": [
    "to_train = match_sort_with_full(short, full)"
   ]
  },
  {
   "cell_type": "code",
   "execution_count": 34,
   "id": "97dd398a",
   "metadata": {},
   "outputs": [],
   "source": [
    "to_train = assign_labels(to_train)"
   ]
  },
  {
   "cell_type": "code",
   "execution_count": 32,
   "id": "664106a9",
   "metadata": {},
   "outputs": [],
   "source": [
    "to_train.to_pickle('../data/input/full_alpha_data.p')"
   ]
  },
  {
   "cell_type": "code",
   "execution_count": null,
   "id": "6ce09315",
   "metadata": {},
   "outputs": [],
   "source": []
  },
  {
   "cell_type": "code",
   "execution_count": 48,
   "id": "a7bab0e3",
   "metadata": {},
   "outputs": [],
   "source": [
    "def mse_f1_depend(tr, pred, mi=0.5, unk=1000):\n",
    "    cov = 0\n",
    "    prec, rec = 0, 0\n",
    "    unk_tr, unk_pr =0, 0\n",
    "    cont = 0\n",
    "    mse = 0\n",
    "    for p, c in zip(tr, pred):\n",
    "        cc = c[0]\n",
    "        if p != unk:\n",
    "            unk_tr+=1\n",
    "        if cc != unk:\n",
    "            unk_pr +=1\n",
    "        if p!=unk and cc!=unk:\n",
    "            cont +=1\n",
    "            mse += (p - cc) **2\n",
    "    mse/=cont\n",
    "    rec = cont/ unk_tr\n",
    "    prec = cont /unk_pr\n",
    "    f1 = 2/((1/rec) + (1/prec))\n",
    "#     print(f1)\n",
    "    if f1 > mi:\n",
    "        return mse\n",
    "    return None\n",
    "def get_tr_pred(data, unk=1000):\n",
    "    pr = []\n",
    "    tr = []\n",
    "    for ind, row in data.iterrows():\n",
    "        tpp, tps = [], []\n",
    "        for t, p in zip(row['true'], row['prediction']):\n",
    "            if t != unk and p != unk:\n",
    "                tpp.append(t)\n",
    "                tps.append(p)\n",
    "        tr.append(np.mean(tpp))\n",
    "        pr.append(np.mean(tps))\n",
    "    return tr, pr\n",
    "                \n",
    "    "
   ]
  },
  {
   "cell_type": "markdown",
   "id": "c0f1e50f",
   "metadata": {},
   "source": [
    "## Train and validate"
   ]
  },
  {
   "cell_type": "code",
   "execution_count": null,
   "id": "e0d88837",
   "metadata": {},
   "outputs": [],
   "source": [
    "data = pd.read_pickle('../data/input/full_alpha_data.p')\n",
    "val_ids = set(data[data['class'] == 'val'].index)\n",
    "idx = list(data.index)\n",
    "operator = MultiChainOperator(MultiEncoder([RadiousPhobosEncoder(), OneHotEncoderSeq()]), SeqWindow(140, 140), RadianEncoder(100),  SeqWindow(140, 140, null_char=[[0]]),\n",
    "                                      parallel=True, n_chains=1, chain_names=('seq', ))\n",
    "model_conf = model_config = {\n",
    "    'activation': 'linear',\n",
    "    'norm': True,\n",
    "    'n_layers': 1,\n",
    "    'kernel_sizes': (3, 5, 7),\n",
    "    'lstm': 2,\n",
    "    'dense': 1,\n",
    "    'reshape_out': False,\n",
    "    'epochs': 100\n",
    "}\n",
    "conf = PredictionConfig(BaseConvolutionalWrapper, operator, model_conf)\n",
    "pred = Predictor('hamp_crick_single_sequence', config=conf)\n",
    "pred.train(data, val_ids=val_ids, ids=idx)"
   ]
  },
  {
   "cell_type": "code",
   "execution_count": 19,
   "id": "d3a113c2",
   "metadata": {},
   "outputs": [
    {
     "ename": "NameError",
     "evalue": "name 'trained' is not defined",
     "output_type": "error",
     "traceback": [
      "\u001b[0;31m---------------------------------------------------------------------------\u001b[0m",
      "\u001b[0;31mNameError\u001b[0m                                 Traceback (most recent call last)",
      "Input \u001b[0;32mIn [19]\u001b[0m, in \u001b[0;36m<cell line: 1>\u001b[0;34m()\u001b[0m\n\u001b[0;32m----> 1\u001b[0m plt\u001b[38;5;241m.\u001b[39mplot(\u001b[43mtrained\u001b[49m\u001b[38;5;241m.\u001b[39mhistory\u001b[38;5;241m.\u001b[39mhistory[\u001b[38;5;124m'\u001b[39m\u001b[38;5;124mmae\u001b[39m\u001b[38;5;124m'\u001b[39m])\n\u001b[1;32m      2\u001b[0m plt\u001b[38;5;241m.\u001b[39mplot(trained\u001b[38;5;241m.\u001b[39mhistory\u001b[38;5;241m.\u001b[39mhistory[\u001b[38;5;124m'\u001b[39m\u001b[38;5;124mval_mae\u001b[39m\u001b[38;5;124m'\u001b[39m])\n\u001b[1;32m      3\u001b[0m plt\u001b[38;5;241m.\u001b[39mtitle(\u001b[38;5;124m'\u001b[39m\u001b[38;5;124mmodel absolute error\u001b[39m\u001b[38;5;124m'\u001b[39m)\n",
      "\u001b[0;31mNameError\u001b[0m: name 'trained' is not defined"
     ]
    }
   ],
   "source": [
    "plt.plot(trained.history.history['mae'])\n",
    "plt.plot(trained.history.history['val_mae'])\n",
    "plt.title('model absolute error')\n",
    "plt.ylabel('mean absolute error')\n",
    "plt.xlabel('epoch')\n",
    "plt.legend(['train', 'validation'], loc='upper left')\n",
    "plt.show()"
   ]
  },
  {
   "cell_type": "code",
   "execution_count": null,
   "id": "a5f3b8f5",
   "metadata": {},
   "outputs": [],
   "source": [
    "plt.plot(trained.history.history['loss'])\n",
    "plt.plot(trained.history.history['val_loss'])\n",
    "plt.title('model loss')\n",
    "plt.ylabel('loss')\n",
    "plt.xlabel('epoch')\n",
    "plt.legend(['train', 'validation'], loc='upper left')\n",
    "plt.show()"
   ]
  },
  {
   "cell_type": "markdown",
   "id": "5617372a",
   "metadata": {},
   "source": [
    "## Validate "
   ]
  },
  {
   "cell_type": "code",
   "execution_count": null,
   "id": "a650be6d",
   "metadata": {},
   "outputs": [],
   "source": []
  },
  {
   "cell_type": "code",
   "execution_count": null,
   "id": "9372352b",
   "metadata": {},
   "outputs": [],
   "source": []
  },
  {
   "cell_type": "code",
   "execution_count": null,
   "id": "9b6ff58b",
   "metadata": {},
   "outputs": [],
   "source": []
  },
  {
   "cell_type": "code",
   "execution_count": 46,
   "id": "dd25e940",
   "metadata": {},
   "outputs": [
    {
     "name": "stderr",
     "output_type": "stream",
     "text": [
      "/tmp/ipykernel_32320/833437755.py:1: FutureWarning: Passing a set as an indexer is deprecated and will raise in a future version. Use a list instead.\n",
      "  val = data.loc[val_ids]\n"
     ]
    },
    {
     "data": {
      "text/plain": [
       "0.9375"
      ]
     },
     "execution_count": 46,
     "metadata": {},
     "output_type": "execute_result"
    }
   ],
   "source": [
    "val = data.loc[val_ids]\n",
    "seqs = list(val.full_sequence)\n",
    "# res = pred.predict(seqs)\n",
    "res['true'] = val['full_crick'].values\n",
    "res['mse_f1']  = res.apply(lambda x: mse_f1_depend(x['true'], x['prediction']), axis=1)\n",
    "correct = res[res['mse_f1'].notnull()]\n",
    "len(correct) / len(res)"
   ]
  },
  {
   "cell_type": "code",
   "execution_count": null,
   "id": "da095701",
   "metadata": {},
   "outputs": [],
   "source": []
  },
  {
   "cell_type": "code",
   "execution_count": 49,
   "id": "bbba494a",
   "metadata": {},
   "outputs": [],
   "source": [
    "tr, pr = get_tr_pred(correct)"
   ]
  },
  {
   "cell_type": "code",
   "execution_count": 55,
   "id": "e8381fcf",
   "metadata": {},
   "outputs": [
    {
     "data": {
      "text/plain": [
       "Text(0.5, 1.0, 'Predictions for validation set')"
      ]
     },
     "execution_count": 55,
     "metadata": {},
     "output_type": "execute_result"
    },
    {
     "data": {
      "image/png": "[encoded data removed]",
      "text/plain": [
       "<Figure size 600x600 with 1 Axes>"
      ]
     },
     "metadata": {
      "needs_background": "light"
     },
     "output_type": "display_data"
    }
   ],
   "source": [
    "fig, ax = plt.subplots(1,1, figsize=(6, 6), dpi=100)\n",
    "ax.scatter(pr, tr, color='green', s=25)\n",
    "ax.set_ylim(-26, 26)\n",
    "ax.set_xlim(-26, 26)\n",
    "ax.plot([0, 1], [0, 1], '--', transform=ax.transAxes, color='grey')\n",
    "ax.set_xlabel('Predicted', size=15)\n",
    "ax.set_ylabel('True', size=15)\n",
    "ax.set_title('Predictions for validation set')"
   ]
  },
  {
   "cell_type": "code",
   "execution_count": null,
   "id": "fe2c6cca",
   "metadata": {},
   "outputs": [],
   "source": []
  },
  {
   "cell_type": "code",
   "execution_count": null,
   "id": "5c1a2418",
   "metadata": {},
   "outputs": [],
   "source": []
  }
 ],
 "metadata": {
  "kernelspec": {
   "display_name": "Python 3 (ipykernel)",
   "language": "python",
   "name": "python3"
  },
  "language_info": {
   "codemirror_mode": {
    "name": "ipython",
    "version": 3
   },
   "file_extension": ".py",
   "mimetype": "text/x-python",
   "name": "python",
   "nbconvert_exporter": "python",
   "pygments_lexer": "ipython3",
   "version": "3.9.12"
  }
 },
 "nbformat": 4,
 "nbformat_minor": 5
}
