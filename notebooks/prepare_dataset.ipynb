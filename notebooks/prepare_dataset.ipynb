{
 "cells": [
  {
   "cell_type": "code",
   "execution_count": 9,
   "id": "3b372f00",
   "metadata": {},
   "outputs": [],
   "source": [
    "import sys\n",
    "sys.path.append('..')\n",
    "import pandas as pd\n",
    "import matplotlib.pyplot as plt\n",
    "import numpy as np\n",
    "\n",
    "from hamp_pred.utils.tools import diffangle\n",
    "from hamp_pred.utils.meassure import get_ref_crick, crangles\n",
    "\n",
    "from hamp_pred.external.lbs.sequence import mmseqs2"
   ]
  },
  {
   "cell_type": "code",
   "execution_count": 10,
   "id": "619f0c24",
   "metadata": {},
   "outputs": [],
   "source": [
    "def plot(df, BINS=26):\n",
    "    fig, ax = plt.subplots(1, 1, figsize=(5, 5), dpi=100)\n",
    "    df['rot_mean'].plot.hist(bins=BINS, ax=ax)\n",
    "    ax.axvline(x=-52, c='r')\n",
    "    ax.axvline(x=52, c='r')\n",
    "\n",
    "def balance(df):\n",
    "    df['freq'] = 1./df.groupby('rot_mean_bin')['rot_mean_bin'].transform('count')\n",
    "    idx = [df.sample(1, weights = df.freq).iloc[0].name for _ in range(len(df))]\n",
    "    return idx"
   ]
  },
  {
   "cell_type": "markdown",
   "id": "0618f4b9",
   "metadata": {},
   "source": [
    "## Compute \"rot\" value (difference between crick angle for N and C helices)"
   ]
  },
  {
   "cell_type": "code",
   "execution_count": 11,
   "id": "07124e57",
   "metadata": {},
   "outputs": [
    {
     "data": {
      "text/plain": [
       "5342"
      ]
     },
     "execution_count": 11,
     "metadata": {},
     "output_type": "execute_result"
    }
   ],
   "source": [
    "data_df = pd.read_pickle('../data/input/af2_true_full.p') \n",
    "data_aer2_df = pd.read_pickle('../data/input/af2_aer2.p')\n",
    "data_df = pd.concat([data_df, data_aer2_df])\n",
    "\n",
    "# assymetry is calculated as difference between Crickangle for N and C helices\n",
    "# those 11 values (length of all common fragments in HAMP) is futher predicted\n",
    "data_df['rot'] = diffangle(data_df.n_crick_mut, data_df.c_crick_mut)\n",
    "data_df['rot_mean'] = data_df['rot'].apply(np.mean)\n",
    "data_df['rot_std'] = data_df['rot'].apply(np.std)\n",
    "\n",
    "len(data_df)"
   ]
  },
  {
   "cell_type": "markdown",
   "id": "83b34725",
   "metadata": {},
   "source": [
    "## Delete samples with \"rot\" out of range "
   ]
  },
  {
   "cell_type": "code",
   "execution_count": 12,
   "id": "acc84696",
   "metadata": {},
   "outputs": [
    {
     "data": {
      "text/plain": [
       "4821"
      ]
     },
     "execution_count": 12,
     "metadata": {},
     "output_type": "execute_result"
    }
   ],
   "source": [
    "def check_crick(row, MAXROT=26):\n",
    "    return (np.abs(diffangle(row.n_crick_mut[:2].mean(), crangles['a'])) <= MAXROT) and \\\n",
    "           (np.abs(diffangle(row.c_crick_mut[:2].mean(), crangles['a'])) <= MAXROT) \n",
    "\n",
    "data_df = data_df[data_df.apply(check_crick, axis=1)]\n",
    "len(data_df)"
   ]
  },
  {
   "cell_type": "code",
   "execution_count": 13,
   "id": "0042ea78",
   "metadata": {},
   "outputs": [
    {
     "data": {
      "text/plain": [
       "4305"
      ]
     },
     "execution_count": 13,
     "metadata": {},
     "output_type": "execute_result"
    }
   ],
   "source": [
    "data_df = data_df[data_df.rot_std <= 10]\n",
    "data_df = data_df[data_df.rot_mean.abs() <= 52]\n",
    "len(data_df)"
   ]
  },
  {
   "cell_type": "code",
   "execution_count": 14,
   "id": "f2eae902",
   "metadata": {},
   "outputs": [
    {
     "data": {
      "image/png": "[encoded data removed]",
      "text/plain": [
       "<Figure size 500x500 with 1 Axes>"
      ]
     },
     "metadata": {},
     "output_type": "display_data"
    }
   ],
   "source": [
    "plot(data_df)"
   ]
  },
  {
   "cell_type": "markdown",
   "id": "765ca300",
   "metadata": {},
   "source": [
    "## train/val split with class balance"
   ]
  },
  {
   "cell_type": "code",
   "execution_count": 15,
   "id": "31749390",
   "metadata": {},
   "outputs": [],
   "source": [
    "MAX_VAL_FRAC = 0.3 # fraction of val in the whole set\n",
    "MAX_IDENT = 0.3 # max seq ident between train and validation "
   ]
  },
  {
   "cell_type": "code",
   "execution_count": 18,
   "id": "03cca62c",
   "metadata": {},
   "outputs": [],
   "source": [
    "data_df['sequence'] = data_df['n_seq'] + data_df['c_seq'] # for mmseqs2 clustering\n",
    "c = mmseqs2.MMSeqsClusterer()\n",
    "data_df = c.cluster(data_df, min_identity=MAX_IDENT)#, coverage=0.7)"
   ]
  },
  {
   "cell_type": "code",
   "execution_count": 17,
   "id": "ed110348",
   "metadata": {},
   "outputs": [],
   "source": [
    "def calc_balance(class_name, BINS=26, norm=True):\n",
    "    tmp = pd.cut(data_df[data_df['class']==class_name].rot_mean, bins=BINS, labels=False, retbins=False)#.value_counts().sort_index()\n",
    "    res_vec = np.zeros(BINS)\n",
    "    \n",
    "    for g_idx, g in tmp.groupby(tmp):\n",
    "        res_vec[g_idx] = len(g)\n",
    "\n",
    "    if norm:\n",
    "        res_vec = res_vec / res_vec.sum()\n",
    "        \n",
    "    return res_vec\n"
   ]
  },
  {
   "cell_type": "code",
   "execution_count": null,
   "id": "88674b8d",
   "metadata": {},
   "outputs": [],
   "source": [
    "final_dist = 1\n",
    "\n",
    "while final_dist > 0.05:\n",
    "\n",
    "    data_df['class'] = 'train'\n",
    "    clusters = data_df.clust_id.unique().tolist()\n",
    "    prev_dist = 1\n",
    "    moved=0\n",
    "\n",
    "    while True:\n",
    "        # biggest first\n",
    "        #probability_distribution = \n",
    "        cl_move = np.random.choice(clusters)\n",
    "\n",
    "        data_df.loc[\n",
    "            data_df.clust_id == cl_move,\n",
    "            'class'\n",
    "        ] = 'val'\n",
    "\n",
    "        train_dist = calc_balance('train')\n",
    "        val_dist = calc_balance('val')\n",
    "\n",
    "        dist = np.linalg.norm(train_dist-val_dist)\n",
    "\n",
    "        if dist < prev_dist:\n",
    "            # accept cluster move\n",
    "            clusters.remove(cl_move)\n",
    "            moved+=1\n",
    "        else:\n",
    "            # revert cluster move\n",
    "            data_df.loc[\n",
    "                data_df.clust_id == cl_move,\n",
    "                'class'\n",
    "            ] = 'train'        \n",
    "\n",
    "        val_frac = (data_df['class'] == 'val').sum() / len(data_df)\n",
    "\n",
    "        if val_frac >= MAX_VAL_FRAC: \n",
    "            final_dist = dist\n",
    "            print(final_dist.round(2), moved)\n",
    "            break"
   ]
  },
  {
   "cell_type": "code",
   "execution_count": null,
   "id": "e6910fa9",
   "metadata": {},
   "outputs": [],
   "source": [
    "train_dist = calc_balance('train', norm=False)\n",
    "val_dist = calc_balance('val', norm=False)\n",
    "\n",
    "plt.plot(train_dist, label='train')\n",
    "plt.plot(val_dist, label='val')\n",
    "plt.legend()"
   ]
  },
  {
   "cell_type": "markdown",
   "id": "8ccec3ed",
   "metadata": {},
   "source": [
    "## class balance"
   ]
  },
  {
   "cell_type": "code",
   "execution_count": null,
   "id": "23f4b4a6",
   "metadata": {},
   "outputs": [],
   "source": [
    "BINS=26\n",
    "\n",
    "data_df['rot_mean_bin'] = pd.cut(data_df.rot_mean, bins=BINS, labels=False)\n",
    "\n",
    "data_df_val = data_df[data_df['class'] == 'val'].copy()\n",
    "data_df_train = data_df[data_df['class'] == 'train'].copy()"
   ]
  },
  {
   "cell_type": "code",
   "execution_count": null,
   "id": "5d336802",
   "metadata": {},
   "outputs": [],
   "source": [
    "idx_val = balance(data_df_val)\n",
    "plot(data_df_val.loc[idx_val])"
   ]
  },
  {
   "cell_type": "code",
   "execution_count": null,
   "id": "82af45be",
   "metadata": {},
   "outputs": [],
   "source": [
    "idx_train = balance(data_df_train)\n",
    "plot(data_df_train.loc[idx_train])"
   ]
  },
  {
   "cell_type": "markdown",
   "id": "8eee207d",
   "metadata": {},
   "source": [
    "## Save data"
   ]
  },
  {
   "cell_type": "code",
   "execution_count": null,
   "id": "643a40b5",
   "metadata": {},
   "outputs": [],
   "source": [
    "pd.concat([\n",
    "    data_df_val.loc[idx_val], \n",
    "    data_df_train.loc[idx_train]\n",
    "]).to_pickle('../data/input/af2_true_full.balance.features.p')"
   ]
  }
 ],
 "metadata": {
  "kernelspec": {
   "display_name": "Python 3 (ipykernel)",
   "language": "python",
   "name": "python3"
  },
  "language_info": {
   "codemirror_mode": {
    "name": "ipython",
    "version": 3
   },
   "file_extension": ".py",
   "mimetype": "text/x-python",
   "name": "python",
   "nbconvert_exporter": "python",
   "pygments_lexer": "ipython3",
   "version": "3.9.12"
  }
 },
 "nbformat": 4,
 "nbformat_minor": 5
}
