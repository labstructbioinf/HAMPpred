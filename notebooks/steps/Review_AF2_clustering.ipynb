{
 "cells": [
  {
   "cell_type": "code",
   "execution_count": 1,
   "id": "75f8a590",
   "metadata": {},
   "outputs": [
    {
     "name": "stderr",
     "output_type": "stream",
     "text": [
      "2023-10-18 15:23:25.344136: I tensorflow/core/platform/cpu_feature_guard.cc:193] This TensorFlow binary is optimized with oneAPI Deep Neural Network Library (oneDNN) to use the following CPU instructions in performance-critical operations:  AVX2 FMA\n",
      "To enable them in other operations, rebuild TensorFlow with the appropriate compiler flags.\n",
      "2023-10-18 15:23:25.477889: E tensorflow/stream_executor/cuda/cuda_blas.cc:2981] Unable to register cuBLAS factory: Attempting to register factory for plugin cuBLAS when one has already been registered\n",
      "2023-10-18 15:23:26.092846: W tensorflow/stream_executor/platform/default/dso_loader.cc:64] Could not load dynamic library 'libnvinfer.so.7'; dlerror: libnvinfer.so.7: cannot open shared object file: No such file or directory\n",
      "2023-10-18 15:23:26.092937: W tensorflow/stream_executor/platform/default/dso_loader.cc:64] Could not load dynamic library 'libnvinfer_plugin.so.7'; dlerror: libnvinfer_plugin.so.7: cannot open shared object file: No such file or directory\n",
      "2023-10-18 15:23:26.092945: W tensorflow/compiler/tf2tensorrt/utils/py_utils.cc:38] TF-TRT Warning: Cannot dlopen some TensorRT libraries. If you would like to use Nvidia GPU with TensorRT, please make sure the missing libraries mentioned above are installed properly.\n"
     ]
    }
   ],
   "source": [
    "import os\n",
    "import sys\n",
    "import glob\n",
    "import math\n",
    "import pandas as pd\n",
    "import subprocess\n",
    "from multiprocessing import Pool\n",
    "import multiprocessing \n",
    "from collections import Counter\n",
    "\n",
    "from matplotlib import cm\n",
    "import matplotlib\n",
    "import umap\n",
    "import numpy as np\n",
    "import matplotlib.pyplot as plt\n",
    "from tqdm import tqdm\n",
    "from biopandas.pdb import PandasPdb\n",
    "\n",
    "sys.path.append('../../hamp_pred/')\n",
    "from utils.tools import diffangle\n",
    "\n",
    "\n",
    "data_dir = '../../data/input'"
   ]
  },
  {
   "cell_type": "code",
   "execution_count": 2,
   "id": "19f53229",
   "metadata": {},
   "outputs": [],
   "source": [
    "def shiftedColorMap(cmap, start=0, midpoint=0.5, stop=1.0, name='shiftedcmap'):\n",
    "    '''\n",
    "    Function to offset the \"center\" of a colormap. Useful for\n",
    "    data with a negative min and positive max and you want the\n",
    "    middle of the colormap's dynamic range to be at zero.\n",
    "\n",
    "    Input\n",
    "    -----\n",
    "      cmap : The matplotlib colormap to be altered\n",
    "      start : Offset from lowest point in the colormap's range.\n",
    "          Defaults to 0.0 (no lower offset). Should be between\n",
    "          0.0 and `midpoint`.\n",
    "      midpoint : The new center of the colormap. Defaults to \n",
    "          0.5 (no shift). Should be between 0.0 and 1.0. In\n",
    "          general, this should be  1 - vmax / (vmax + abs(vmin))\n",
    "          For example if your data range from -15.0 to +5.0 and\n",
    "          you want the center of the colormap at 0.0, `midpoint`\n",
    "          should be set to  1 - 5/(5 + 15)) or 0.75\n",
    "      stop : Offset from highest point in the colormap's range.\n",
    "          Defaults to 1.0 (no upper offset). Should be between\n",
    "          `midpoint` and 1.0.\n",
    "    '''\n",
    "    cdict = {\n",
    "        'red': [],\n",
    "        'green': [],\n",
    "        'blue': [],\n",
    "        'alpha': []\n",
    "    }\n",
    "\n",
    "    # regular index to compute the colors\n",
    "    reg_index = np.linspace(start, stop, 257)\n",
    "\n",
    "    # shifted index to match the data\n",
    "    shift_index = np.hstack([\n",
    "        np.linspace(0.0, midpoint, 128, endpoint=False), \n",
    "        np.linspace(midpoint, 1.0, 129, endpoint=True)\n",
    "    ])\n",
    "\n",
    "    for ri, si in zip(reg_index, shift_index):\n",
    "        r, g, b, a = cmap(ri)\n",
    "\n",
    "        cdict['red'].append((si, r, r))\n",
    "        cdict['green'].append((si, g, g))\n",
    "        cdict['blue'].append((si, b, b))\n",
    "        cdict['alpha'].append((si, a, a))\n",
    "\n",
    "    newcmap = matplotlib.colors.LinearSegmentedColormap(name, cdict)\n",
    "    #plt.register_cmap(cmap=newcmap)\n",
    "\n",
    "    return newcmap"
   ]
  },
  {
   "cell_type": "markdown",
   "id": "07bf3ff5",
   "metadata": {},
   "source": [
    "# Read data"
   ]
  },
  {
   "cell_type": "markdown",
   "id": "7e54b5f3",
   "metadata": {},
   "source": [
    "### AF2 models"
   ]
  },
  {
   "cell_type": "code",
   "execution_count": 3,
   "id": "1253498d",
   "metadata": {},
   "outputs": [
    {
     "data": {
      "text/plain": [
       "5314"
      ]
     },
     "execution_count": 3,
     "metadata": {},
     "output_type": "execute_result"
    }
   ],
   "source": [
    "# get group names\n",
    "hamp_groups_df = pd.read_csv('../../../TCST/offline_data/hamp/groupnames.csv', names=['paper_group', 'group'])\n",
    "hamp_groups_df['group'] = hamp_groups_df['group'].apply(lambda x:x.replace('.fas', ''))\n",
    "paper2group = dict(hamp_groups_df.values) #my_array\n",
    "group2paper = dict(hamp_groups_df.values[:, [1, 0]])\n",
    "\n",
    "NEW_RUN = '_newrun'\n",
    "#NEW_RUN = ''\n",
    "\n",
    "# get measured structures from af2\n",
    "data_df = pd.read_pickle(os.path.join(data_dir, f'af2{NEW_RUN}.p'))\n",
    "data_df.group = data_df.group.apply(lambda x:group2paper[x] if x in group2paper else '?')\n",
    "len(data_df)"
   ]
  },
  {
   "cell_type": "code",
   "execution_count": 4,
   "id": "64d79c46",
   "metadata": {},
   "outputs": [],
   "source": [
    "CLEAN = True"
   ]
  },
  {
   "cell_type": "code",
   "execution_count": 5,
   "id": "261b2219",
   "metadata": {},
   "outputs": [],
   "source": [
    "# remove background sequences\n",
    "#if CLEAN:\n",
    "#    data_df = data_df[data_df.group != '?']"
   ]
  },
  {
   "cell_type": "code",
   "execution_count": 6,
   "id": "e8fe78a9",
   "metadata": {},
   "outputs": [
    {
     "data": {
      "text/plain": [
       "5314"
      ]
     },
     "execution_count": 6,
     "metadata": {},
     "output_type": "execute_result"
    }
   ],
   "source": [
    "# calculate the relative rotation (i.e., the per-layer difference between N and C helices rotation) \n",
    "data_df['rot'] = diffangle(data_df.n_crick_mut, data_df.c_crick_mut)\n",
    "data_df['rot_mean'] = data_df['rot'].apply(np.mean)\n",
    "data_df['rot_std'] = data_df['rot'].apply(np.std)\n",
    "data_df['sequence'] = data_df['n_seq'] + data_df['c_seq'] # for mmseqs2 clustering\n",
    "\n",
    "len(data_df)"
   ]
  },
  {
   "cell_type": "code",
   "execution_count": 7,
   "id": "c16af1ef",
   "metadata": {},
   "outputs": [],
   "source": [
    "#data_df[~data_df.apply(check_crick, axis=1)].group.value_counts()"
   ]
  },
  {
   "cell_type": "code",
   "execution_count": 8,
   "id": "91401090",
   "metadata": {},
   "outputs": [
    {
     "data": {
      "text/plain": [
       "5116"
      ]
     },
     "execution_count": 8,
     "metadata": {},
     "output_type": "execute_result"
    }
   ],
   "source": [
    "# referece Crick angles\n",
    "crangles = {'a':19.5,'b':122.35,'c':-134.78,'d': -31.92,'e':70.92 ,'f':173.78,'g':-83.35}\n",
    "\n",
    "def check_crick(row, MAXROT=55):\n",
    "    return (np.abs(diffangle(row.n_crick_mut[:2].mean(), crangles['a'])) <= MAXROT) and \\\n",
    "           (np.abs(diffangle(row.c_crick_mut[:2].mean(), crangles['a'])) <= MAXROT) \n",
    "\n",
    "if CLEAN:\n",
    "    data_df = data_df[data_df.apply(check_crick, axis=1)]\n",
    "len(data_df)"
   ]
  },
  {
   "cell_type": "code",
   "execution_count": 9,
   "id": "984d3d03",
   "metadata": {},
   "outputs": [
    {
     "data": {
      "text/plain": [
       "5094"
      ]
     },
     "execution_count": 9,
     "metadata": {},
     "output_type": "execute_result"
    }
   ],
   "source": [
    "if CLEAN:\n",
    "    data_df = data_df[data_df.rot_mean.abs() <= 52]\n",
    "len(data_df)"
   ]
  },
  {
   "cell_type": "markdown",
   "id": "439e8407",
   "metadata": {},
   "source": [
    "### PDB structures"
   ]
  },
  {
   "cell_type": "code",
   "execution_count": 10,
   "id": "5e7772a1",
   "metadata": {},
   "outputs": [
    {
     "data": {
      "text/plain": [
       "31"
      ]
     },
     "execution_count": 10,
     "metadata": {},
     "output_type": "execute_result"
    }
   ],
   "source": [
    "data_df_exp = pd.read_pickle(os.path.join(data_dir, 'pdb_measure.p'))\n",
    "data_df_exp = data_df_exp[['n_rot', 'c_rot', 'mutant', 'rot', 'rot_mean', 'rot_std', 'seq1', 'seq2']]\n",
    "\n",
    "data_df_exp = data_df_exp[data_df_exp.mutant==False]\n",
    "data_df_exp = data_df_exp.drop('mutant', axis=1)\n",
    "\n",
    "data_df_exp['group'] = 'PDB'\n",
    "data_df_exp['pdb_file'] = [i.split(\"_\")[1] for i in data_df_exp.index]\n",
    "\n",
    "data_df_exp.at['22_4i3m.pdb', 'pdb_file'] = '4i3m_1.pdb'\n",
    "data_df_exp.at['23_4i3m.pdb', 'pdb_file'] = '4i3m_2.pdb'\n",
    "data_df_exp.at['24_4i3m.pdb', 'pdb_file'] = '4i3m_3.pdb'\n",
    "\n",
    "data_df_exp.at['25_3lnr.pdb', 'pdb_file'] = '3lnr_1.pdb'\n",
    "data_df_exp.at['26_3lnr.pdb', 'pdb_file'] = '3lnr_2.pdb'\n",
    "data_df_exp.at['27_3lnr.pdb', 'pdb_file'] = '3lnr_3.pdb'\n",
    "\n",
    "data_df_exp.at['28_4i44.pdb', 'pdb_file'] = '4i44_1.pdb'\n",
    "data_df_exp.at['29_4i44.pdb', 'pdb_file'] = '4i44_2.pdb'\n",
    "data_df_exp.at['30_4i44.pdb', 'pdb_file'] = '4i44_3.pdb'\n",
    "\n",
    "len(data_df_exp)\n"
   ]
  },
  {
   "cell_type": "code",
   "execution_count": 11,
   "id": "8017e677",
   "metadata": {},
   "outputs": [],
   "source": [
    "data_df_exp_copy = data_df_exp.copy()"
   ]
  },
  {
   "cell_type": "code",
   "execution_count": 12,
   "id": "6268d837",
   "metadata": {},
   "outputs": [],
   "source": [
    "data_df=pd.concat([data_df, data_df_exp])\n",
    "\n",
    "#data_df = data_df_exp"
   ]
  },
  {
   "cell_type": "code",
   "execution_count": 13,
   "id": "00d8ba58",
   "metadata": {},
   "outputs": [],
   "source": [
    "data_df.reset_index(drop=True, inplace=True)\n"
   ]
  },
  {
   "cell_type": "code",
   "execution_count": null,
   "id": "19a7e258",
   "metadata": {},
   "outputs": [],
   "source": []
  },
  {
   "cell_type": "code",
   "execution_count": null,
   "id": "bdf53e02",
   "metadata": {},
   "outputs": [],
   "source": []
  },
  {
   "cell_type": "code",
   "execution_count": null,
   "id": "ba804d23",
   "metadata": {},
   "outputs": [],
   "source": []
  },
  {
   "cell_type": "code",
   "execution_count": null,
   "id": "e58721ed",
   "metadata": {},
   "outputs": [],
   "source": []
  },
  {
   "cell_type": "markdown",
   "id": "59ab0436",
   "metadata": {},
   "source": [
    "# Run FoldSeek"
   ]
  },
  {
   "cell_type": "code",
   "execution_count": 15,
   "id": "48a137f1",
   "metadata": {},
   "outputs": [
    {
     "name": "stderr",
     "output_type": "stream",
     "text": [
      "100%|███████████████████████████████████████████████████████████████████████████████████████████████████████████████████| 5156/5156 [00:01<00:00, 3818.56it/s]\n"
     ]
    }
   ],
   "source": [
    "# get symlinks to all pdb files\n",
    "\n",
    "# af2 models\n",
    "pdb_dir = f'/home/users/sdunin/calc/HAMPpred/data/input/af2_full{NEW_RUN}/'\n",
    "\n",
    "# pdb structures\n",
    "exp_dir = '/home/users/sdunin/calc/HAMPpred/data/input/struct_in/'\n",
    "\n",
    "# structures for FoldSeek\n",
    "clust_dir = f'/home/users/sdunin/calc/TCST/HAMP_AF2_cluster{NEW_RUN}/'\n",
    "ln_dir = clust_dir + '/pdbs'\n",
    "\n",
    "#f = open(os.path.join(clust_dir, 'chain_list'), 'w')\n",
    "\n",
    "for _, row in tqdm(data_df.iterrows(), total=len(data_df)):\n",
    "    \n",
    "    if row.group == 'PDB':\n",
    "        os.system(f'ln -sf {os.path.join(exp_dir,row.pdb_file)} {ln_dir}')\n",
    "        #print(row.pdb_file)\n",
    "    else:   \n",
    "        pass\n",
    "        #os.system(f'ln -sf {os.path.join(pdb_dir,row.pdb_file)} {ln_dir}')\n",
    "    \n",
    "    #f.write(f'{os.path.basename(row.pdb_file)}\\n')\n",
    "     \n",
    "#f.close()"
   ]
  },
  {
   "cell_type": "code",
   "execution_count": 36,
   "id": "ca80771b",
   "metadata": {},
   "outputs": [
    {
     "data": {
      "text/plain": [
       "31"
      ]
     },
     "execution_count": 36,
     "metadata": {},
     "output_type": "execute_result"
    }
   ],
   "source": [
    "len(data_df[data_df.group=='PDB'])"
   ]
  },
  {
   "cell_type": "code",
   "execution_count": 48,
   "id": "b9c54bb2",
   "metadata": {},
   "outputs": [],
   "source": [
    "# merge chains \n",
    "in_pdbs = f'/home/users/sdunin/calc/TCST/HAMP_AF2_cluster{NEW_RUN}/pdbs/'\n",
    "\n",
    "def merge_chains(pdb1, pdb2):\n",
    "    \n",
    "    model = PandasPdb().read_pdb(pdb1)\n",
    "    # keep only ATOMs\n",
    "    model._df = {'ATOM':model.df['ATOM']}\n",
    "    model_df = model.df['ATOM']\n",
    "    \n",
    "    # there should be 2 unique chains\n",
    "    assert len(model_df.chain_id.unique())==2, pdb1\n",
    "    \n",
    "    # model_df = model_df[model_df.chain_id.isin(['A', 'B'])]\n",
    "\n",
    "    # Calculate res_count\n",
    "    res_count = model_df[model_df.chain_id == 'A']['residue_number'].max()\n",
    "\n",
    "    # Iterate through rows where chain_id is 'B'\n",
    "    for res_id, g in model_df[model_df.chain_id == 'B'].groupby('residue_number'):\n",
    "        model_df.loc[g.index, 'residue_number'] = res_id + res_count\n",
    "\n",
    "    ca_residue_numbers = model_df[model_df.atom_name == 'CA']['residue_number']\n",
    "    \n",
    "    unique_values, counts = np.unique(ca_residue_numbers, return_counts=True)\n",
    "    duplicates = unique_values[counts > 1]\n",
    "    \n",
    "    assert ca_residue_numbers.is_unique, (pdb1, res_count, duplicates)\n",
    "    assert ca_residue_numbers.is_monotonic_increasing, pdb1\n",
    "\n",
    "    model_df.chain_id = 'A'\n",
    "\n",
    "    model.to_pdb(path=pdb2, \n",
    "            records=None, \n",
    "            gz=False, \n",
    "            append_newline=True)\n",
    "    \n",
    "    \n",
    "\n",
    "    "
   ]
  },
  {
   "cell_type": "code",
   "execution_count": 49,
   "id": "b45bdef7",
   "metadata": {},
   "outputs": [],
   "source": [
    "# inpdb = '/home/users/sdunin/calc/TCST/HAMP_AF2_cluster_newrun/pdbs/2l7i.pdb'\n",
    "# outpdb = '/home/users/sdunin/calc/TCST/HAMP_AF2_cluster_newrun/pdbs_onechain/2l7i.pdb'\n",
    "\n",
    "# merge_chains(inpdb, outpdb)"
   ]
  },
  {
   "cell_type": "code",
   "execution_count": 54,
   "id": "e81b32ab",
   "metadata": {},
   "outputs": [
    {
     "name": "stderr",
     "output_type": "stream",
     "text": [
      "100%|███████████████████████████████████████████████████████████████████████████████████████████████████████████████████| 5125/5125 [00:02<00:00, 2182.56it/s]\n"
     ]
    }
   ],
   "source": [
    "    \n",
    "for in_pdb in tqdm(glob.glob(os.path.join(in_pdbs, '*.pdb'))):\n",
    "    \n",
    "    if len(os.path.basename(in_pdb)) > 11: continue\n",
    "    \n",
    "    out_pdb = in_pdb.replace('/pdbs/', '/pdbs_onechain/')    \n",
    "    model_df= merge_chains(in_pdb, out_pdb)\n"
   ]
  },
  {
   "cell_type": "code",
   "execution_count": 229,
   "id": "440baf08",
   "metadata": {},
   "outputs": [],
   "source": [
    "# run foldseek in /home/users/sdunin/calc/TCST/HAMP_AF2_cluster_newrun"
   ]
  },
  {
   "cell_type": "code",
   "execution_count": null,
   "id": "17a614d8",
   "metadata": {},
   "outputs": [],
   "source": []
  },
  {
   "cell_type": "code",
   "execution_count": null,
   "id": "99fc2c60",
   "metadata": {},
   "outputs": [],
   "source": []
  },
  {
   "cell_type": "code",
   "execution_count": null,
   "id": "2dc58ebe",
   "metadata": {},
   "outputs": [],
   "source": []
  },
  {
   "cell_type": "code",
   "execution_count": null,
   "id": "fe2b30bd",
   "metadata": {},
   "outputs": [],
   "source": []
  },
  {
   "cell_type": "markdown",
   "id": "a44034f5",
   "metadata": {},
   "source": [
    "# Read FoldSeek results"
   ]
  },
  {
   "cell_type": "code",
   "execution_count": 14,
   "id": "8824077d",
   "metadata": {},
   "outputs": [
    {
     "data": {
      "text/html": [
       "<div>\n",
       "<style scoped>\n",
       "    .dataframe tbody tr th:only-of-type {\n",
       "        vertical-align: middle;\n",
       "    }\n",
       "\n",
       "    .dataframe tbody tr th {\n",
       "        vertical-align: top;\n",
       "    }\n",
       "\n",
       "    .dataframe thead th {\n",
       "        text-align: right;\n",
       "    }\n",
       "</style>\n",
       "<table border=\"1\" class=\"dataframe\">\n",
       "  <thead>\n",
       "    <tr style=\"text-align: right;\">\n",
       "      <th></th>\n",
       "      <th>query</th>\n",
       "      <th>target</th>\n",
       "      <th>alnlen</th>\n",
       "      <th>evalue</th>\n",
       "      <th>alntmscore</th>\n",
       "      <th>prob</th>\n",
       "      <th>lddt</th>\n",
       "      <th>rmsd</th>\n",
       "    </tr>\n",
       "  </thead>\n",
       "  <tbody>\n",
       "    <tr>\n",
       "      <th>0</th>\n",
       "      <td>hamp_5856_BACKGROUND_unrelaxed_rank_001_alphaf...</td>\n",
       "      <td>hamp_5856_BACKGROUND_unrelaxed_rank_001_alphaf...</td>\n",
       "      <td>106</td>\n",
       "      <td>1.0000</td>\n",
       "      <td>1.0000</td>\n",
       "      <td>1.000</td>\n",
       "      <td>1.0000</td>\n",
       "      <td>0.0000</td>\n",
       "    </tr>\n",
       "    <tr>\n",
       "      <th>1</th>\n",
       "      <td>hamp_5856_BACKGROUND_unrelaxed_rank_001_alphaf...</td>\n",
       "      <td>hamp_670_A_mgroup_102_unrelaxed_rank_001_alpha...</td>\n",
       "      <td>106</td>\n",
       "      <td>0.9772</td>\n",
       "      <td>0.9842</td>\n",
       "      <td>0.999</td>\n",
       "      <td>0.9348</td>\n",
       "      <td>0.5877</td>\n",
       "    </tr>\n",
       "    <tr>\n",
       "      <th>2</th>\n",
       "      <td>hamp_5856_BACKGROUND_unrelaxed_rank_001_alphaf...</td>\n",
       "      <td>hamp_315_A_group_44_unrelaxed_rank_001_alphafo...</td>\n",
       "      <td>106</td>\n",
       "      <td>0.9750</td>\n",
       "      <td>0.9826</td>\n",
       "      <td>0.999</td>\n",
       "      <td>0.9376</td>\n",
       "      <td>0.6182</td>\n",
       "    </tr>\n",
       "    <tr>\n",
       "      <th>3</th>\n",
       "      <td>hamp_5856_BACKGROUND_unrelaxed_rank_001_alphaf...</td>\n",
       "      <td>hamp_5120_BACKGROUND_unrelaxed_rank_001_alphaf...</td>\n",
       "      <td>106</td>\n",
       "      <td>0.9739</td>\n",
       "      <td>0.9818</td>\n",
       "      <td>0.999</td>\n",
       "      <td>0.9309</td>\n",
       "      <td>0.6345</td>\n",
       "    </tr>\n",
       "    <tr>\n",
       "      <th>4</th>\n",
       "      <td>hamp_5856_BACKGROUND_unrelaxed_rank_001_alphaf...</td>\n",
       "      <td>hamp_281_A_group_44_unrelaxed_rank_001_alphafo...</td>\n",
       "      <td>106</td>\n",
       "      <td>0.9677</td>\n",
       "      <td>0.9775</td>\n",
       "      <td>0.999</td>\n",
       "      <td>0.9245</td>\n",
       "      <td>0.7054</td>\n",
       "    </tr>\n",
       "  </tbody>\n",
       "</table>\n",
       "</div>"
      ],
      "text/plain": [
       "                                               query  \\\n",
       "0  hamp_5856_BACKGROUND_unrelaxed_rank_001_alphaf...   \n",
       "1  hamp_5856_BACKGROUND_unrelaxed_rank_001_alphaf...   \n",
       "2  hamp_5856_BACKGROUND_unrelaxed_rank_001_alphaf...   \n",
       "3  hamp_5856_BACKGROUND_unrelaxed_rank_001_alphaf...   \n",
       "4  hamp_5856_BACKGROUND_unrelaxed_rank_001_alphaf...   \n",
       "\n",
       "                                              target  alnlen  evalue  \\\n",
       "0  hamp_5856_BACKGROUND_unrelaxed_rank_001_alphaf...     106  1.0000   \n",
       "1  hamp_670_A_mgroup_102_unrelaxed_rank_001_alpha...     106  0.9772   \n",
       "2  hamp_315_A_group_44_unrelaxed_rank_001_alphafo...     106  0.9750   \n",
       "3  hamp_5120_BACKGROUND_unrelaxed_rank_001_alphaf...     106  0.9739   \n",
       "4  hamp_281_A_group_44_unrelaxed_rank_001_alphafo...     106  0.9677   \n",
       "\n",
       "   alntmscore   prob    lddt    rmsd  \n",
       "0      1.0000  1.000  1.0000  0.0000  \n",
       "1      0.9842  0.999  0.9348  0.5877  \n",
       "2      0.9826  0.999  0.9376  0.6182  \n",
       "3      0.9818  0.999  0.9309  0.6345  \n",
       "4      0.9775  0.999  0.9245  0.7054  "
      ]
     },
     "execution_count": 14,
     "metadata": {},
     "output_type": "execute_result"
    }
   ],
   "source": [
    "clu_results = f'/home/users/sdunin/calc/TCST/HAMP_AF2_cluster{NEW_RUN}/aln_exhaustive_at1.csv'\n",
    "\n",
    "cols = ['query','target','alnlen','evalue','alntmscore','prob', 'lddt', 'rmsd']\n",
    "\n",
    "res_df = pd.read_csv(clu_results, names=cols, usecols=cols, sep='\\t')\n",
    "res_df.head()"
   ]
  },
  {
   "cell_type": "code",
   "execution_count": 15,
   "id": "5d64933a",
   "metadata": {},
   "outputs": [],
   "source": [
    "# check if all pdb structures were clustered\n",
    "tmp_df = res_df[(~res_df['target'].str.startswith('hamp_')) | (~res_df['query'].str.startswith('hamp_'))]\n",
    "tmp = np.concatenate([\n",
    "    tmp_df['query'].values,\n",
    "    tmp_df['target'].values\n",
    "])\n",
    "tmp = tmp.astype(str)\n",
    "assert len(np.unique(tmp[~np.char.startswith(tmp, 'hamp_')])) == len(data_df_exp)"
   ]
  },
  {
   "cell_type": "code",
   "execution_count": 16,
   "id": "12b46582",
   "metadata": {},
   "outputs": [],
   "source": [
    "# map af2 model name / pdb name to data_df index\n",
    "pdb2idx = {v.split('/')[1] if '/' in v else v: k for k, v in zip(data_df.index, data_df['pdb_file'])}"
   ]
  },
  {
   "cell_type": "code",
   "execution_count": 17,
   "id": "7c072ff0",
   "metadata": {},
   "outputs": [
    {
     "name": "stdout",
     "output_type": "stream",
     "text": [
      "26241643\n",
      "26241643\n"
     ]
    }
   ],
   "source": [
    "# map to data_df indexes\n",
    "res_df['i'] = res_df['query'].apply(lambda x:pdb2idx[x] if x in pdb2idx else -1)\n",
    "res_df['j'] = res_df['target'].apply(lambda x:pdb2idx[x] if x in pdb2idx else -1)\n",
    "pre_len = len(res_df)\n",
    "print(pre_len)\n",
    "# remove hits that involve structures that are not in data_df\n",
    "res_df = res_df[(res_df['i'] != -1) & (res_df['j'] != -1)]\n",
    "post_len = len(res_df)\n",
    "if not CLEAN: assert pre_len == post_len\n",
    "print(len(res_df))"
   ]
  },
  {
   "cell_type": "markdown",
   "id": "1f4c98a8",
   "metadata": {},
   "source": [
    "### Create matrix"
   ]
  },
  {
   "cell_type": "code",
   "execution_count": null,
   "id": "4c6ec5fa",
   "metadata": {},
   "outputs": [],
   "source": [
    "matrix_df = res_df.pivot(index='i', columns='j', values='lddt')"
   ]
  },
  {
   "cell_type": "code",
   "execution_count": null,
   "id": "138b7dc0",
   "metadata": {},
   "outputs": [],
   "source": [
    "matrix_array = matrix_df.to_numpy()\n",
    "matrix_array[np.isnan(matrix_array)] = 0\n",
    "assert matrix_array.shape[0] == matrix_array.shape[1] == len(data_df)\n"
   ]
  },
  {
   "cell_type": "code",
   "execution_count": null,
   "id": "d1a31c4b",
   "metadata": {},
   "outputs": [],
   "source": [
    "plt.imshow(matrix_array, cmap='viridis', interpolation='nearest')"
   ]
  },
  {
   "cell_type": "markdown",
   "id": "1f242840",
   "metadata": {},
   "source": [
    "# Plot"
   ]
  },
  {
   "cell_type": "markdown",
   "id": "a22a0d94",
   "metadata": {},
   "source": [
    "### Reduce with UMAP"
   ]
  },
  {
   "cell_type": "code",
   "execution_count": null,
   "id": "0b658ff7",
   "metadata": {},
   "outputs": [],
   "source": [
    "# If the metric is ‘precomputed’ X must be a square distance matrix. \n",
    "umap_result = umap.UMAP(\n",
    "    n_neighbors = 200, \n",
    "    metric = 'precomputed',\n",
    "    random_state = 123456\n",
    ").fit_transform(1-matrix_array)\n"
   ]
  },
  {
   "cell_type": "markdown",
   "id": "225371e3",
   "metadata": {},
   "source": [
    "### Color by features"
   ]
  },
  {
   "cell_type": "code",
   "execution_count": null,
   "id": "165c21ba",
   "metadata": {},
   "outputs": [],
   "source": [
    "def feature_colors(mode, z_score_cut=3):\n",
    "    \n",
    "    assert mode in ['shift', 'rotation', 'romboid', 'angle']\n",
    "\n",
    "    if mode == 'shift':\n",
    "        title = \"Shift between N- and C-terminal helices [Å]\"\n",
    "    elif mode == 'rotation':\n",
    "        title = 'Axial rotation of all helices [°]'\n",
    "    elif mode == 'romboid':\n",
    "        title = 'Difference between $n_1$ and $n_2$ [Å]'\n",
    "    elif mode == 'angle':\n",
    "        title = 'Bundle periodicity'\n",
    "\n",
    "    def enc(row, mode):\n",
    "\n",
    "        if row['group'] == 'PDB': return np.nan\n",
    "        \n",
    "        if mode == 'shift':\n",
    "            return (row.n_shift - row.c_shift) / 2\n",
    "        elif mode == 'rotation':\n",
    "            return diffangle(row.n_crick_mut , row.c_crick_mut).mean() / 2\n",
    "\n",
    "        elif mode == 'romboid':\n",
    "            return row.n_radius - row.c_radius\n",
    "\n",
    "        elif mode == 'angle':\n",
    "            return np.mean([row.n_P,row.c_P])\n",
    "\n",
    "        #a = row.rot\n",
    "        #return np.mean((a[0::2] + a[1::2]) / 2) / 2\n",
    "\n",
    "\n",
    "    c = [enc(data_df.loc[i], mode=mode) for i in matrix_df.index]\n",
    "    c = np.array(c)\n",
    "\n",
    "    # remove outliers\n",
    "    z_scores = (c - np.nanmean(c)) / np.nanstd(c)\n",
    "    \n",
    "    correct_mask = (abs(z_scores) <= z_score_cut) & ~np.isnan(c)\n",
    "    \n",
    "    print(f'{len(z_scores) - np.sum(correct_mask)} points removed...')\n",
    "    \n",
    "    c = c[correct_mask]\n",
    "\n",
    "    # define cmap centered at data mean\n",
    "    cmap = cm.seismic\n",
    "    min_value = min(c)\n",
    "    max_value = max(c)\n",
    "    c_scaled = [(x - min_value) / (max_value - min_value) for x in c]\n",
    "    cmap = shiftedColorMap(cmap, midpoint=np.mean(c_scaled), name='seismic_new')\n",
    "\n",
    "    return c,correct_mask, cmap, title\n"
   ]
  },
  {
   "cell_type": "markdown",
   "id": "3ab816f6",
   "metadata": {},
   "source": [
    "### Color by groups"
   ]
  },
  {
   "cell_type": "code",
   "execution_count": null,
   "id": "c6099a72",
   "metadata": {},
   "outputs": [],
   "source": [
    "def groups_colors(gr, z_score_cut):\n",
    "\n",
    "    # define colors for groups defined in 'gr'\n",
    "    def assign_colors_to_strings(group_labels, group_colors, X=1):\n",
    "        color_dict = {}\n",
    "\n",
    "        for g in group_labels:\n",
    "            if g in group_colors:\n",
    "                color_dict[g] = group_colors[g]\n",
    "            else:\n",
    "                color_dict[g] = 'grey'\n",
    "\n",
    "        colors = [color_dict[g] for g in group_labels]\n",
    "\n",
    "        return colors\n",
    "\n",
    "    group_labels = [data_df.loc[i].group for i in matrix_df.index]\n",
    "    c = assign_colors_to_strings(group_labels, gr, X=10)\n",
    "    c = np.array(c)\n",
    "    \n",
    "    # mask outliers (probable alignment errors)\n",
    "    full_pos = np.array(range(len(matrix_df.index)))\n",
    "    to_remove = []\n",
    "    \n",
    "    # groups\n",
    "    for g in gr:\n",
    "        # positions (not indexes) of sequences from group `g`        \n",
    "        pos = np.where(c == gr[g])[0]\n",
    "        \n",
    "        # cooridnates in the UMAP space\n",
    "        x = umap_result[pos, 0]\n",
    "        y = umap_result[pos, 1]\n",
    "        \n",
    "        # outlier detection\n",
    "        z_scores_x = (x - np.mean(x)) / np.std(x)\n",
    "        z_scores_y = (y - np.mean(y)) / np.std(y)\n",
    "        \n",
    "        tr = pos[\n",
    "            (np.abs(z_scores_x) > z_score_cut) | (np.abs(z_scores_y) > z_score_cut)\n",
    "        ]\n",
    "        \n",
    "        for tmp in tr: \n",
    "            assert not tmp in to_remove\n",
    "            assert tmp in full_pos, tmp\n",
    "            \n",
    "        to_remove.extend(tr)\n",
    "     \n",
    "    assert len(set(to_remove)) == len(to_remove)\n",
    "    print(f'{len(to_remove)} points will be removed from {len(gr)} groups...')\n",
    "                \n",
    "    mask = np.isin(full_pos, to_remove, invert=True)\n",
    "    #c = c[mask]\n",
    "    \n",
    "    return c, mask\n"
   ]
  },
  {
   "cell_type": "markdown",
   "id": "9a4ac93b",
   "metadata": {},
   "source": [
    "### Plot"
   ]
  },
  {
   "cell_type": "code",
   "execution_count": null,
   "id": "c87191ca",
   "metadata": {},
   "outputs": [],
   "source": [
    "# color by groups\n",
    "\n",
    "# B        300 B, F2-B\n",
    "# C.1      155\n",
    "# A.28     145\n",
    "# D        130\n",
    "# F.2      107 F2-B \n",
    "# A.48      56\n",
    "\n",
    "gr = {    \n",
    "    'B':'limegreen', \n",
    "    'F.2':'orange', \n",
    "    'A.28':'skyblue',\n",
    "    'D':'violet',\n",
    "    'G.1':'cyan',\n",
    "    'F.6':'red',\n",
    "    'C.1':'royalblue', \n",
    "}  \n",
    "\n",
    "c, correct_mask = groups_colors(gr, z_score_cut=3)\n",
    "cmap = None"
   ]
  },
  {
   "cell_type": "code",
   "execution_count": null,
   "id": "0dd3de1d",
   "metadata": {},
   "outputs": [],
   "source": [
    "c = (len(data_df) - len(data_df_exp_copy))*['grey'] \n",
    "\n",
    "for pdbid, pdbrow in data_df_exp_copy.iterrows():\n",
    "    if pdbid in [\n",
    "        '0_2l7h.pdb', '1_2l7i.pdb', '2_2y0q.pdb', '3_2y20.pdb', '4_2y21.pdb',\n",
    "        '5_4gn0.pdb', '6_4cq4.pdb', '12_3zrx.pdb', '13_3zrv.pdb',\n",
    "        '14_3zrw.pdb', '15_3zcc.pdb', '16_2lfr.pdb', '17_2lfs.pdb',\n",
    "        '18_4cti.pdb', '20_3zx6.pdb'\n",
    "    ]:\n",
    "        c.append('red')\n",
    "    \n",
    "    elif pdbid in ['7_5iji.pdb', '8_5jeq.pdb', '9_5jef.pdb', '10_5jgp.pdb', '11_6yue.pdb']:\n",
    "        c.append('green')\n",
    "    \n",
    "    elif pdbid in ['22_4i3m.pdb', '25_3lnr.pdb', '28_4i44.pdb']:\n",
    "        c.append('lightgreen')        \n",
    "   \n",
    "    elif pdbid in ['23_4i3m.pdb', '26_3lnr.pdb', '29_4i44.pdb']:\n",
    "        c.append('lightblue')   \n",
    "        \n",
    "    elif pdbid in ['24_4i3m.pdb', '27_3lnr.pdb', '30_4i44.pdb']:\n",
    "        c.append('orange')  \n",
    "        \n",
    "    elif pdbid in ['19_4biv.pdb', '31_4biu.pdb']:\n",
    "        c.append('blue') \n",
    "        \n",
    "    elif pdbid in ['21_4i5s.pdb']:\n",
    "        c.append('pink') \n",
    "\n",
    "    else:\n",
    "        c.append('black')\n",
    "\n",
    "c = np.asarray(c)\n",
    "len(c), len(data_df)"
   ]
  },
  {
   "cell_type": "code",
   "execution_count": null,
   "id": "7e8f5579",
   "metadata": {},
   "outputs": [],
   "source": [
    "# color by feature\n",
    "c, correct_mask, cmap, title = feature_colors('shift', z_score_cut=3)\n",
    "len(c)"
   ]
  },
  {
   "cell_type": "code",
   "execution_count": null,
   "id": "fd5a4338",
   "metadata": {},
   "outputs": [],
   "source": [
    "label_font_size = 10\n",
    "tick_font_size = 9 # bar\n",
    "title_font_size = 10\n",
    "\n",
    "\n",
    "# plotting structural features with colormap\n",
    "if cmap is not None:\n",
    "    \n",
    "    fig, ax = plt.subplots(1, 1, figsize=(4, 4), dpi=200)\n",
    "    ax.set_axis_off()\n",
    "    \n",
    "    gs = fig.add_gridspec(2, 1, height_ratios=[1, 0.05])\n",
    "    ax = fig.add_subplot(gs[0])\n",
    "    ax.set_axis_off()\n",
    "    \n",
    "    scatter = ax.scatter(umap_result[correct_mask, 0], umap_result[correct_mask, 1], s=0.5, c=c, cmap=cmap) \n",
    "    \n",
    "    # Create the color bar\n",
    "    cbar_ax = fig.add_subplot(gs[1])\n",
    "    cbar = fig.colorbar(scatter, cax=cbar_ax, orientation='horizontal')\n",
    "    cbar.ax.tick_params(labelsize=tick_font_size)  \n",
    "    cbar.set_label(title, fontsize=title_font_size)    \n",
    "    cbar.outline.set_linewidth(0)\n",
    "\n",
    "# ploting categories (e.g. families) without colormap\n",
    "else:\n",
    "    \n",
    "    if len(gr)==1:\n",
    "        fig, ax = plt.subplots(1, 1, figsize=(4, 4), dpi=300)\n",
    "    else:\n",
    "        fig, ax = plt.subplots(1, 1, figsize=(4, 4), dpi=200)\n",
    "        \n",
    "    ax.set_axis_off()\n",
    "\n",
    "    non_grey_indices = (c != 'grey') & correct_mask\n",
    "    grey_indices = (c == 'grey') & correct_mask\n",
    "    \n",
    "    scatter = plt.scatter(umap_result[grey_indices, 0], umap_result[grey_indices, 1], s=4, c=c[grey_indices], zorder=0,\n",
    "                        alpha=0.3, edgecolor='none')    \n",
    "    \n",
    "    # more than one group (famillies)\n",
    "    #if len(gr)>1:\n",
    "        \n",
    "    scatter = plt.scatter(umap_result[non_grey_indices, 0], umap_result[non_grey_indices, 1], s=16, c=c[non_grey_indices],\n",
    "                         edgecolor='black', linewidth=0.5)\n",
    "\n",
    "    # show PDB structures labels\n",
    "    if False:\n",
    "                \n",
    "        pdb_df = data_df_exp_copy.copy()\n",
    "        pdb_df['umap_idx'] = range(len(data_df)-len(data_df_exp), len(data_df))\n",
    "        \n",
    "        for pdbid, pdbrow in pdb_df.iterrows():\n",
    "\n",
    "            if pdbid in pdb2name:\n",
    "                name = pdb2name[pdbid]\n",
    "            else:\n",
    "                name = ''\n",
    "                \n",
    "            #print(f'{name} {pdbid} {pdbrow.umap_idx}')\n",
    "\n",
    "            ax.text(umap_result[pdbrow.umap_idx, 0], umap_result[pdbrow.umap_idx, 1], name, fontsize=8, color='red')\n",
    "\n",
    "            \n",
    "#         # draw arrows between af1503 mutants\n",
    "#         pdb_df = data_df_exp_copy.copy()\n",
    "#         pdb_df['desc'] = [pdb2name[i] if i in pdb2name else '' for i in pdb_df.index]\n",
    "#         pdb_df['umap_idx'] = range(len(data_df)-len(data_df_exp), len(data_df))\n",
    "#         #pdb_df = pdb_df[pdb_df.desc!='']\n",
    "#         #pdb_df = pdb_df.set_index('desc')\n",
    "#         #pdb_df = pdb_df[pdb_df.desc.isin(['Af1503 A291C', 'Af1503 WT', 'Af1503 A291V', 'Af1503 A291I', 'Af1503 A291F'])]\n",
    "\n",
    "#         window_size = 2\n",
    "#         for window in pdb_df.rolling(window=window_size):\n",
    "#             if len(window) == window_size:\n",
    "#                 # Process the window of 2 rows here\n",
    "#                 x,y=umap_result[window.iloc[0].umap_idx]\n",
    "#                 a,b=umap_result[window.iloc[1].umap_idx]\n",
    "#                 ax.arrow(x, y, a - x, b - y, head_width=0.1, head_length=0.1, fc='black', ec='black',\n",
    "#                         length_includes_head=True, zorder=2)\n",
    "                \n",
    "#                 ax.plot(a, b, marker=\"o\", markersize=3, markeredgecolor=\"red\", markerfacecolor=\"red\", zorder=1)\n",
    "#                 ax.plot(x, y, marker=\"o\", markersize=3, markeredgecolor=\"red\", markerfacecolor=\"red\", zorder=1)\n",
    "\n",
    "\n",
    "\n",
    "\n",
    "#plt.tight_layout()\n"
   ]
  },
  {
   "cell_type": "code",
   "execution_count": null,
   "id": "4de84630",
   "metadata": {},
   "outputs": [],
   "source": []
  },
  {
   "cell_type": "code",
   "execution_count": null,
   "id": "9346d415",
   "metadata": {},
   "outputs": [],
   "source": []
  },
  {
   "cell_type": "code",
   "execution_count": null,
   "id": "f27e73bf",
   "metadata": {},
   "outputs": [],
   "source": []
  },
  {
   "cell_type": "code",
   "execution_count": null,
   "id": "b48a89fb",
   "metadata": {},
   "outputs": [],
   "source": []
  },
  {
   "cell_type": "code",
   "execution_count": null,
   "id": "e87c440c",
   "metadata": {},
   "outputs": [],
   "source": []
  },
  {
   "cell_type": "code",
   "execution_count": null,
   "id": "c2d1aa78",
   "metadata": {},
   "outputs": [],
   "source": []
  },
  {
   "cell_type": "code",
   "execution_count": null,
   "id": "031d1df6",
   "metadata": {},
   "outputs": [],
   "source": []
  },
  {
   "cell_type": "code",
   "execution_count": null,
   "id": "70155748",
   "metadata": {},
   "outputs": [],
   "source": []
  },
  {
   "cell_type": "code",
   "execution_count": 82,
   "id": "019faafa",
   "metadata": {},
   "outputs": [
    {
     "name": "stdout",
     "output_type": "stream",
     "text": [
      "0 points will be removed from 1 groups...\n"
     ]
    }
   ],
   "source": [
    "# mark experimental structures from PDB\n",
    "\n",
    "pdb2name={\n",
    "    \n",
    " #   '0_2l7h.pdb': 'Af1503 WT',\n",
    " #'1_2l7i.pdb': 'Af1503 A291F',\n",
    " #'2_2y0q.pdb': 'Af1503 A291C',\n",
    " #'3_2y20.pdb': 'Af1503 A291I',\n",
    " #'4_2y21.pdb': 'Af1503 A291V',\n",
    " #'5_4gn0.pdb': 'Af1503 WT',\n",
    " #'6_4cq4.pdb': 'Af1503 WT',\n",
    " #'7_5iji.pdb': 'NarQ',\n",
    " #'8_5jeq.pdb': 'NarQ',\n",
    " #'9_5jef.pdb': 'NarQ',\n",
    " #'10_5jgp.pdb': 'NarQ',\n",
    " #'11_6yue.pdb': 'NarQ',\n",
    "#  '12_3zrx.pdb': 'Af1503 A291F+DHp(EnvZ)',\n",
    "#  '13_3zrv.pdb': 'Af1503 A291F+DHp(EnvZ)',\n",
    "#  '14_3zrw.pdb': 'Af1503 A291V+DHp(EnvZ)',\n",
    "#  '15_3zcc.pdb': 'Af1503 WT+DHp(EnvZ)R333G ',\n",
    "#  '16_2lfr.pdb': 'Af1503 WT+DHp(EnvZ)',\n",
    "#  '17_2lfs.pdb': 'Af1503 A291F+DHp(EnvZ)',\n",
    "#  '18_4cti.pdb': 'Af1503 A291F+DHp(EnvZ)',\n",
    " # '19_4biv.pdb': 'CpxA',\n",
    "#  '20_3zx6.pdb': 'AF1503 A291V+MA(Tsr)',\n",
    "#  '21_4i5s.pdb': 'VicK',\n",
    "  #'22_4i3m.pdb': 'Aer2_1_m1',\n",
    "  #'23_4i3m.pdb': 'Aer2_2_m1',\n",
    " #'24_4i3m.pdb': 'Aer2_3_m1',\n",
    "  #'25_3lnr.pdb': 'Aer2_1',\n",
    "  #'26_3lnr.pdb': 'Aer2_2',\n",
    "  #'27_3lnr.pdb': 'Aer2_3',\n",
    "  #'28_4i44.pdb': 'Aer2_1_m2',\n",
    "  #'29_4i44.pdb': 'Aer2_2_m2',\n",
    "#  '30_4i44.pdb': 'Aer2_3_m2',\n",
    " #'31_4biu.pdb': 'CpxA'\n",
    "        \n",
    "         }\n",
    "\n",
    "gr = {    \n",
    "    'PDB':'red' \n",
    "}  \n",
    "\n",
    "_, correct_mask = groups_colors(gr, z_score_cut=200)\n",
    "\n",
    "\n",
    "assert sum(c=='red') == len(data_df_exp)\n",
    "cmap = None"
   ]
  },
  {
   "cell_type": "code",
   "execution_count": null,
   "id": "b8870574",
   "metadata": {},
   "outputs": [],
   "source": []
  },
  {
   "cell_type": "code",
   "execution_count": null,
   "id": "9d5023cd",
   "metadata": {},
   "outputs": [],
   "source": []
  },
  {
   "cell_type": "code",
   "execution_count": null,
   "id": "b7b50601",
   "metadata": {},
   "outputs": [],
   "source": []
  },
  {
   "cell_type": "code",
   "execution_count": null,
   "id": "2e1628e9",
   "metadata": {},
   "outputs": [],
   "source": []
  },
  {
   "cell_type": "code",
   "execution_count": null,
   "id": "ccf4b47f",
   "metadata": {},
   "outputs": [],
   "source": []
  },
  {
   "cell_type": "code",
   "execution_count": null,
   "id": "13855887",
   "metadata": {},
   "outputs": [],
   "source": []
  },
  {
   "cell_type": "code",
   "execution_count": null,
   "id": "2e91ad8c",
   "metadata": {},
   "outputs": [],
   "source": []
  },
  {
   "cell_type": "code",
   "execution_count": null,
   "id": "20e44220",
   "metadata": {},
   "outputs": [],
   "source": []
  },
  {
   "cell_type": "code",
   "execution_count": null,
   "id": "f024a624",
   "metadata": {},
   "outputs": [],
   "source": []
  },
  {
   "cell_type": "code",
   "execution_count": null,
   "id": "47a01694",
   "metadata": {},
   "outputs": [],
   "source": []
  },
  {
   "cell_type": "code",
   "execution_count": 43,
   "id": "a2502343",
   "metadata": {},
   "outputs": [
    {
     "data": {
      "text/html": [
       "<div>\n",
       "<style scoped>\n",
       "    .dataframe tbody tr th:only-of-type {\n",
       "        vertical-align: middle;\n",
       "    }\n",
       "\n",
       "    .dataframe tbody tr th {\n",
       "        vertical-align: top;\n",
       "    }\n",
       "\n",
       "    .dataframe thead th {\n",
       "        text-align: right;\n",
       "    }\n",
       "</style>\n",
       "<table border=\"1\" class=\"dataframe\">\n",
       "  <thead>\n",
       "    <tr style=\"text-align: right;\">\n",
       "      <th></th>\n",
       "      <th>group</th>\n",
       "      <th>n_rot</th>\n",
       "      <th>c_rot</th>\n",
       "      <th>rot</th>\n",
       "      <th>n_seq</th>\n",
       "      <th>c_seq</th>\n",
       "      <th>n_crick_mut</th>\n",
       "      <th>c_crick_mut</th>\n",
       "      <th>full_seq</th>\n",
       "      <th>pdb_file</th>\n",
       "      <th>...</th>\n",
       "      <th>c_radius</th>\n",
       "      <th>n_A</th>\n",
       "      <th>c_A</th>\n",
       "      <th>n_P</th>\n",
       "      <th>c_P</th>\n",
       "      <th>rot_mean</th>\n",
       "      <th>rot_std</th>\n",
       "      <th>sequence</th>\n",
       "      <th>seq1</th>\n",
       "      <th>seq2</th>\n",
       "    </tr>\n",
       "  </thead>\n",
       "  <tbody>\n",
       "    <tr>\n",
       "      <th>0_2l7h.pdb</th>\n",
       "      <td>PDB</td>\n",
       "      <td>-19.296311</td>\n",
       "      <td>8.163004</td>\n",
       "      <td>[-21.763853269264587, -24.365479228916485, -21...</td>\n",
       "      <td>NaN</td>\n",
       "      <td>NaN</td>\n",
       "      <td>NaN</td>\n",
       "      <td>NaN</td>\n",
       "      <td>NaN</td>\n",
       "      <td>2l7h.pdb</td>\n",
       "      <td>...</td>\n",
       "      <td>NaN</td>\n",
       "      <td>NaN</td>\n",
       "      <td>NaN</td>\n",
       "      <td>NaN</td>\n",
       "      <td>NaN</td>\n",
       "      <td>-27.459314</td>\n",
       "      <td>4.259076</td>\n",
       "      <td>NaN</td>\n",
       "      <td>PIIELSNTADKIA</td>\n",
       "      <td>EIGILAKSIERLR</td>\n",
       "    </tr>\n",
       "    <tr>\n",
       "      <th>3_2y20.pdb</th>\n",
       "      <td>PDB</td>\n",
       "      <td>-18.736343</td>\n",
       "      <td>7.062672</td>\n",
       "      <td>[-33.384661991503464, -31.152899060893105, -36...</td>\n",
       "      <td>NaN</td>\n",
       "      <td>NaN</td>\n",
       "      <td>NaN</td>\n",
       "      <td>NaN</td>\n",
       "      <td>NaN</td>\n",
       "      <td>2y20.pdb</td>\n",
       "      <td>...</td>\n",
       "      <td>NaN</td>\n",
       "      <td>NaN</td>\n",
       "      <td>NaN</td>\n",
       "      <td>NaN</td>\n",
       "      <td>NaN</td>\n",
       "      <td>-25.799014</td>\n",
       "      <td>6.038796</td>\n",
       "      <td>NaN</td>\n",
       "      <td>PIIELSNTIDKIA</td>\n",
       "      <td>EIGILAKSIERLR</td>\n",
       "    </tr>\n",
       "    <tr>\n",
       "      <th>4_2y21.pdb</th>\n",
       "      <td>PDB</td>\n",
       "      <td>-17.299223</td>\n",
       "      <td>3.459582</td>\n",
       "      <td>[-24.579113703730542, -23.675297459831313, -25...</td>\n",
       "      <td>NaN</td>\n",
       "      <td>NaN</td>\n",
       "      <td>NaN</td>\n",
       "      <td>NaN</td>\n",
       "      <td>NaN</td>\n",
       "      <td>2y21.pdb</td>\n",
       "      <td>...</td>\n",
       "      <td>NaN</td>\n",
       "      <td>NaN</td>\n",
       "      <td>NaN</td>\n",
       "      <td>NaN</td>\n",
       "      <td>NaN</td>\n",
       "      <td>-20.758804</td>\n",
       "      <td>3.242909</td>\n",
       "      <td>NaN</td>\n",
       "      <td>PIIELSNTVDKIA</td>\n",
       "      <td>EIGILAKSIERLR</td>\n",
       "    </tr>\n",
       "    <tr>\n",
       "      <th>2_2y0q.pdb</th>\n",
       "      <td>PDB</td>\n",
       "      <td>-17.979150</td>\n",
       "      <td>1.242494</td>\n",
       "      <td>[-21.791881161870975, -26.72395697889641, -23....</td>\n",
       "      <td>NaN</td>\n",
       "      <td>NaN</td>\n",
       "      <td>NaN</td>\n",
       "      <td>NaN</td>\n",
       "      <td>NaN</td>\n",
       "      <td>2y0q.pdb</td>\n",
       "      <td>...</td>\n",
       "      <td>NaN</td>\n",
       "      <td>NaN</td>\n",
       "      <td>NaN</td>\n",
       "      <td>NaN</td>\n",
       "      <td>NaN</td>\n",
       "      <td>-19.221644</td>\n",
       "      <td>4.166560</td>\n",
       "      <td>NaN</td>\n",
       "      <td>PIIELSNTCDKIA</td>\n",
       "      <td>EIGILAKSIERLR</td>\n",
       "    </tr>\n",
       "    <tr>\n",
       "      <th>23_3lnr.pdb</th>\n",
       "      <td>PDB</td>\n",
       "      <td>-7.711330</td>\n",
       "      <td>10.815936</td>\n",
       "      <td>[3.8522117857427816, 3.8522117857427816, -11.2...</td>\n",
       "      <td>NaN</td>\n",
       "      <td>NaN</td>\n",
       "      <td>NaN</td>\n",
       "      <td>NaN</td>\n",
       "      <td>NaN</td>\n",
       "      <td>3lnr_3.pdb</td>\n",
       "      <td>...</td>\n",
       "      <td>NaN</td>\n",
       "      <td>NaN</td>\n",
       "      <td>NaN</td>\n",
       "      <td>NaN</td>\n",
       "      <td>NaN</td>\n",
       "      <td>-18.527266</td>\n",
       "      <td>8.306609</td>\n",
       "      <td>NaN</td>\n",
       "      <td>VKMKVVSVVTAYG</td>\n",
       "      <td>KKAQITEAIDGVR</td>\n",
       "    </tr>\n",
       "    <tr>\n",
       "      <th>5_5iji.pdb</th>\n",
       "      <td>PDB</td>\n",
       "      <td>-4.087357</td>\n",
       "      <td>7.779974</td>\n",
       "      <td>[-16.715658630383103, -16.71565355119671, -14....</td>\n",
       "      <td>NaN</td>\n",
       "      <td>NaN</td>\n",
       "      <td>NaN</td>\n",
       "      <td>NaN</td>\n",
       "      <td>NaN</td>\n",
       "      <td>5iji.pdb</td>\n",
       "      <td>...</td>\n",
       "      <td>NaN</td>\n",
       "      <td>NaN</td>\n",
       "      <td>NaN</td>\n",
       "      <td>NaN</td>\n",
       "      <td>NaN</td>\n",
       "      <td>-11.867330</td>\n",
       "      <td>3.992330</td>\n",
       "      <td>NaN</td>\n",
       "      <td>PLNQLVTASQRIE</td>\n",
       "      <td>ELGLLAKTFNQMS</td>\n",
       "    </tr>\n",
       "    <tr>\n",
       "      <th>21_3lnr.pdb</th>\n",
       "      <td>PDB</td>\n",
       "      <td>-4.326787</td>\n",
       "      <td>5.352000</td>\n",
       "      <td>[4.170755811044813, 4.170755811044785, -6.9937...</td>\n",
       "      <td>NaN</td>\n",
       "      <td>NaN</td>\n",
       "      <td>NaN</td>\n",
       "      <td>NaN</td>\n",
       "      <td>NaN</td>\n",
       "      <td>3lnr_1.pdb</td>\n",
       "      <td>...</td>\n",
       "      <td>NaN</td>\n",
       "      <td>NaN</td>\n",
       "      <td>NaN</td>\n",
       "      <td>NaN</td>\n",
       "      <td>NaN</td>\n",
       "      <td>-9.678787</td>\n",
       "      <td>7.631665</td>\n",
       "      <td>NaN</td>\n",
       "      <td>RADRIATLLQSFA</td>\n",
       "      <td>GYERLYDSLRALQ</td>\n",
       "    </tr>\n",
       "    <tr>\n",
       "      <th>1_2l7i.pdb</th>\n",
       "      <td>PDB</td>\n",
       "      <td>0.212011</td>\n",
       "      <td>3.933485</td>\n",
       "      <td>[-1.5700224541745627, -1.8857391013366964, -2....</td>\n",
       "      <td>NaN</td>\n",
       "      <td>NaN</td>\n",
       "      <td>NaN</td>\n",
       "      <td>NaN</td>\n",
       "      <td>NaN</td>\n",
       "      <td>2l7i.pdb</td>\n",
       "      <td>...</td>\n",
       "      <td>NaN</td>\n",
       "      <td>NaN</td>\n",
       "      <td>NaN</td>\n",
       "      <td>NaN</td>\n",
       "      <td>NaN</td>\n",
       "      <td>-3.721474</td>\n",
       "      <td>2.435628</td>\n",
       "      <td>NaN</td>\n",
       "      <td>PIIELSNTFDKIA</td>\n",
       "      <td>EIGILAKSIERLR</td>\n",
       "    </tr>\n",
       "    <tr>\n",
       "      <th>20_4i5s.pdb</th>\n",
       "      <td>PDB</td>\n",
       "      <td>-9.233917</td>\n",
       "      <td>-8.081222</td>\n",
       "      <td>[16.40442658865655, -0.7818740290976507, 5.452...</td>\n",
       "      <td>NaN</td>\n",
       "      <td>NaN</td>\n",
       "      <td>NaN</td>\n",
       "      <td>NaN</td>\n",
       "      <td>NaN</td>\n",
       "      <td>4i5s.pdb</td>\n",
       "      <td>...</td>\n",
       "      <td>NaN</td>\n",
       "      <td>NaN</td>\n",
       "      <td>NaN</td>\n",
       "      <td>NaN</td>\n",
       "      <td>NaN</td>\n",
       "      <td>-1.152695</td>\n",
       "      <td>7.464071</td>\n",
       "      <td>NaN</td>\n",
       "      <td>QVKQLNAKVRSLI</td>\n",
       "      <td>DLSELVNNVNDLS</td>\n",
       "    </tr>\n",
       "    <tr>\n",
       "      <th>16_4biv.pdb</th>\n",
       "      <td>PDB</td>\n",
       "      <td>6.374830</td>\n",
       "      <td>-10.497030</td>\n",
       "      <td>[21.146410642958585, 21.1171257389272, 11.1408...</td>\n",
       "      <td>NaN</td>\n",
       "      <td>NaN</td>\n",
       "      <td>NaN</td>\n",
       "      <td>NaN</td>\n",
       "      <td>NaN</td>\n",
       "      <td>4biv.pdb</td>\n",
       "      <td>...</td>\n",
       "      <td>NaN</td>\n",
       "      <td>NaN</td>\n",
       "      <td>NaN</td>\n",
       "      <td>NaN</td>\n",
       "      <td>NaN</td>\n",
       "      <td>16.871860</td>\n",
       "      <td>6.132316</td>\n",
       "      <td>NaN</td>\n",
       "      <td>PARKLKNAADEVA</td>\n",
       "      <td>EFLAAGASFNQMV</td>\n",
       "    </tr>\n",
       "    <tr>\n",
       "      <th>22_3lnr.pdb</th>\n",
       "      <td>PDB</td>\n",
       "      <td>23.110307</td>\n",
       "      <td>-11.239460</td>\n",
       "      <td>[28.779752389433668, 28.779752389433668, 27.81...</td>\n",
       "      <td>NaN</td>\n",
       "      <td>NaN</td>\n",
       "      <td>NaN</td>\n",
       "      <td>NaN</td>\n",
       "      <td>NaN</td>\n",
       "      <td>3lnr_2.pdb</td>\n",
       "      <td>...</td>\n",
       "      <td>NaN</td>\n",
       "      <td>NaN</td>\n",
       "      <td>NaN</td>\n",
       "      <td>NaN</td>\n",
       "      <td>NaN</td>\n",
       "      <td>34.349767</td>\n",
       "      <td>5.936257</td>\n",
       "      <td>NaN</td>\n",
       "      <td>LEAGLAEMSRQHE</td>\n",
       "      <td>RAARIAKGVNELV</td>\n",
       "    </tr>\n",
       "  </tbody>\n",
       "</table>\n",
       "<p>11 rows × 27 columns</p>\n",
       "</div>"
      ],
      "text/plain": [
       "            group      n_rot      c_rot  \\\n",
       "0_2l7h.pdb    PDB -19.296311   8.163004   \n",
       "3_2y20.pdb    PDB -18.736343   7.062672   \n",
       "4_2y21.pdb    PDB -17.299223   3.459582   \n",
       "2_2y0q.pdb    PDB -17.979150   1.242494   \n",
       "23_3lnr.pdb   PDB  -7.711330  10.815936   \n",
       "5_5iji.pdb    PDB  -4.087357   7.779974   \n",
       "21_3lnr.pdb   PDB  -4.326787   5.352000   \n",
       "1_2l7i.pdb    PDB   0.212011   3.933485   \n",
       "20_4i5s.pdb   PDB  -9.233917  -8.081222   \n",
       "16_4biv.pdb   PDB   6.374830 -10.497030   \n",
       "22_3lnr.pdb   PDB  23.110307 -11.239460   \n",
       "\n",
       "                                                           rot n_seq c_seq  \\\n",
       "0_2l7h.pdb   [-21.763853269264587, -24.365479228916485, -21...   NaN   NaN   \n",
       "3_2y20.pdb   [-33.384661991503464, -31.152899060893105, -36...   NaN   NaN   \n",
       "4_2y21.pdb   [-24.579113703730542, -23.675297459831313, -25...   NaN   NaN   \n",
       "2_2y0q.pdb   [-21.791881161870975, -26.72395697889641, -23....   NaN   NaN   \n",
       "23_3lnr.pdb  [3.8522117857427816, 3.8522117857427816, -11.2...   NaN   NaN   \n",
       "5_5iji.pdb   [-16.715658630383103, -16.71565355119671, -14....   NaN   NaN   \n",
       "21_3lnr.pdb  [4.170755811044813, 4.170755811044785, -6.9937...   NaN   NaN   \n",
       "1_2l7i.pdb   [-1.5700224541745627, -1.8857391013366964, -2....   NaN   NaN   \n",
       "20_4i5s.pdb  [16.40442658865655, -0.7818740290976507, 5.452...   NaN   NaN   \n",
       "16_4biv.pdb  [21.146410642958585, 21.1171257389272, 11.1408...   NaN   NaN   \n",
       "22_3lnr.pdb  [28.779752389433668, 28.779752389433668, 27.81...   NaN   NaN   \n",
       "\n",
       "            n_crick_mut c_crick_mut full_seq    pdb_file  ...  c_radius  n_A  \\\n",
       "0_2l7h.pdb          NaN         NaN      NaN    2l7h.pdb  ...       NaN  NaN   \n",
       "3_2y20.pdb          NaN         NaN      NaN    2y20.pdb  ...       NaN  NaN   \n",
       "4_2y21.pdb          NaN         NaN      NaN    2y21.pdb  ...       NaN  NaN   \n",
       "2_2y0q.pdb          NaN         NaN      NaN    2y0q.pdb  ...       NaN  NaN   \n",
       "23_3lnr.pdb         NaN         NaN      NaN  3lnr_3.pdb  ...       NaN  NaN   \n",
       "5_5iji.pdb          NaN         NaN      NaN    5iji.pdb  ...       NaN  NaN   \n",
       "21_3lnr.pdb         NaN         NaN      NaN  3lnr_1.pdb  ...       NaN  NaN   \n",
       "1_2l7i.pdb          NaN         NaN      NaN    2l7i.pdb  ...       NaN  NaN   \n",
       "20_4i5s.pdb         NaN         NaN      NaN    4i5s.pdb  ...       NaN  NaN   \n",
       "16_4biv.pdb         NaN         NaN      NaN    4biv.pdb  ...       NaN  NaN   \n",
       "22_3lnr.pdb         NaN         NaN      NaN  3lnr_2.pdb  ...       NaN  NaN   \n",
       "\n",
       "             c_A  n_P  c_P   rot_mean   rot_std  sequence           seq1  \\\n",
       "0_2l7h.pdb   NaN  NaN  NaN -27.459314  4.259076       NaN  PIIELSNTADKIA   \n",
       "3_2y20.pdb   NaN  NaN  NaN -25.799014  6.038796       NaN  PIIELSNTIDKIA   \n",
       "4_2y21.pdb   NaN  NaN  NaN -20.758804  3.242909       NaN  PIIELSNTVDKIA   \n",
       "2_2y0q.pdb   NaN  NaN  NaN -19.221644  4.166560       NaN  PIIELSNTCDKIA   \n",
       "23_3lnr.pdb  NaN  NaN  NaN -18.527266  8.306609       NaN  VKMKVVSVVTAYG   \n",
       "5_5iji.pdb   NaN  NaN  NaN -11.867330  3.992330       NaN  PLNQLVTASQRIE   \n",
       "21_3lnr.pdb  NaN  NaN  NaN  -9.678787  7.631665       NaN  RADRIATLLQSFA   \n",
       "1_2l7i.pdb   NaN  NaN  NaN  -3.721474  2.435628       NaN  PIIELSNTFDKIA   \n",
       "20_4i5s.pdb  NaN  NaN  NaN  -1.152695  7.464071       NaN  QVKQLNAKVRSLI   \n",
       "16_4biv.pdb  NaN  NaN  NaN  16.871860  6.132316       NaN  PARKLKNAADEVA   \n",
       "22_3lnr.pdb  NaN  NaN  NaN  34.349767  5.936257       NaN  LEAGLAEMSRQHE   \n",
       "\n",
       "                      seq2  \n",
       "0_2l7h.pdb   EIGILAKSIERLR  \n",
       "3_2y20.pdb   EIGILAKSIERLR  \n",
       "4_2y21.pdb   EIGILAKSIERLR  \n",
       "2_2y0q.pdb   EIGILAKSIERLR  \n",
       "23_3lnr.pdb  KKAQITEAIDGVR  \n",
       "5_5iji.pdb   ELGLLAKTFNQMS  \n",
       "21_3lnr.pdb  GYERLYDSLRALQ  \n",
       "1_2l7i.pdb   EIGILAKSIERLR  \n",
       "20_4i5s.pdb  DLSELVNNVNDLS  \n",
       "16_4biv.pdb  EFLAAGASFNQMV  \n",
       "22_3lnr.pdb  RAARIAKGVNELV  \n",
       "\n",
       "[11 rows x 27 columns]"
      ]
     },
     "execution_count": 43,
     "metadata": {},
     "output_type": "execute_result"
    }
   ],
   "source": [
    "data_df[data_df.group=='PDB'].sort_values(by='rot_mean')"
   ]
  },
  {
   "cell_type": "code",
   "execution_count": 109,
   "id": "3d31401e",
   "metadata": {},
   "outputs": [],
   "source": [
    "# measure correlations"
   ]
  },
  {
   "cell_type": "code",
   "execution_count": 111,
   "id": "da53ea8d",
   "metadata": {},
   "outputs": [
    {
     "name": "stdout",
     "output_type": "stream",
     "text": [
      "shift\n",
      "11 points removed...\n",
      "rotation\n",
      "11 points removed...\n",
      "angle\n",
      "11 points removed...\n",
      "romboid\n",
      "11 points removed...\n"
     ]
    }
   ],
   "source": [
    "v = []\n",
    "for feature in ['shift', 'rotation', 'angle', 'romboid']:\n",
    "    print(feature)\n",
    "    c, _, _, _ = feature_colors(feature, z_score_cut=100)\n",
    "    v.append(c)\n",
    "\n",
    "v = np.array(v)\n",
    "assert v.shape[1] == umap_result.shape[0] - 11"
   ]
  },
  {
   "cell_type": "code",
   "execution_count": 167,
   "id": "ea5bec16",
   "metadata": {},
   "outputs": [
    {
     "data": {
      "text/plain": [
       "array([[ 1.        ,  0.55026062,  0.29460744, -0.22878873],\n",
       "       [ 0.55026062,  1.        ,  0.17985949, -0.06079459],\n",
       "       [ 0.29460744,  0.17985949,  1.        ,  0.23051765],\n",
       "       [-0.22878873, -0.06079459,  0.23051765,  1.        ]])"
      ]
     },
     "execution_count": 167,
     "metadata": {},
     "output_type": "execute_result"
    }
   ],
   "source": [
    "np.corrcoef(v)"
   ]
  },
  {
   "cell_type": "code",
   "execution_count": 112,
   "id": "d374ac8a",
   "metadata": {},
   "outputs": [
    {
     "name": "stdout",
     "output_type": "stream",
     "text": [
      "[[ 1.          0.55744264  0.21383511 -0.30322411]\n",
      " [ 0.55744264  1.          0.17863131 -0.19104741]\n",
      " [ 0.21383511  0.17863131  1.          0.24339676]\n",
      " [-0.30322411 -0.19104741  0.24339676  1.        ]]\n"
     ]
    }
   ],
   "source": [
    "from scipy.stats import spearmanr\n",
    "\n",
    "correlation_matrix, pvals = spearmanr(v, axis=1)\n",
    "\n",
    "print(correlation_matrix)"
   ]
  },
  {
   "cell_type": "code",
   "execution_count": 113,
   "id": "8295030c",
   "metadata": {},
   "outputs": [
    {
     "name": "stdout",
     "output_type": "stream",
     "text": [
      "[[0.00000000e+000 0.00000000e+000 9.22482697e-054 8.30976576e-109]\n",
      " [0.00000000e+000 0.00000000e+000 8.63780113e-038 4.49371027e-043]\n",
      " [9.22482697e-054 8.63780113e-038 0.00000000e+000 1.36652751e-069]\n",
      " [8.30976576e-109 4.49371027e-043 1.36652751e-069 0.00000000e+000]]\n"
     ]
    }
   ],
   "source": [
    "print(pvals)"
   ]
  },
  {
   "cell_type": "markdown",
   "id": "c24d6b42",
   "metadata": {},
   "source": [
    "# Old"
   ]
  },
  {
   "cell_type": "markdown",
   "id": "01ff1b1c",
   "metadata": {},
   "source": [
    "# Cluster embeddings (not used)"
   ]
  },
  {
   "cell_type": "code",
   "execution_count": 202,
   "id": "63cc3ca5",
   "metadata": {},
   "outputs": [
    {
     "data": {
      "text/plain": [
       "5314"
      ]
     },
     "execution_count": 202,
     "metadata": {},
     "output_type": "execute_result"
    }
   ],
   "source": [
    "data_full_df = pd.read_pickle(os.path.join(data_dir, 'af2.p'))\n",
    "data_full_df.group = data_full_df.group.apply(lambda x:group2paper[x] if x in group2paper else '?')\n",
    "len(data_full_df)"
   ]
  },
  {
   "cell_type": "code",
   "execution_count": 148,
   "id": "e70471bd",
   "metadata": {},
   "outputs": [],
   "source": [
    "af2_path = '/home/nfs/rmadaj/hamp/HAMPpred/clustering/af2_structures'\n"
   ]
  },
  {
   "cell_type": "code",
   "execution_count": 263,
   "id": "aac36ebc",
   "metadata": {},
   "outputs": [
    {
     "name": "stderr",
     "output_type": "stream",
     "text": [
      "100%|█████████████████████████████████████████████████████████████████████████████████████████████████████████████████████| 5001/5001 [01:53<00:00, 44.24it/s]\n"
     ]
    },
    {
     "data": {
      "text/plain": [
       "(5001, 128)"
      ]
     },
     "execution_count": 263,
     "metadata": {},
     "output_type": "execute_result"
    }
   ],
   "source": [
    "\n",
    "index = []\n",
    "embs = []\n",
    "\n",
    "for n in tqdm(range(5001)):\n",
    "\n",
    "    pdb_files = glob.glob(os.path.join(af2_path, str(n), '*_pair_repr_*rank_001*.npy'))\n",
    "    assert len(pdb_files)==1\n",
    "\n",
    "    pdb_file = pdb_files[0]\n",
    "    embs.append(np.load(pdb_file).mean(axis=(0, 1)))\n",
    "\n",
    "    idx = int(os.path.basename(pdb_file).split('_')[1])\n",
    "    index.append(idx)\n",
    "    \n",
    "    #break\n",
    "    \n",
    "for i in index:\n",
    "    assert i in data_full_df.index, i\n",
    "    \n",
    "embs = np.array(embs)\n",
    "embs.shape"
   ]
  },
  {
   "cell_type": "code",
   "execution_count": 264,
   "id": "20e34484",
   "metadata": {},
   "outputs": [],
   "source": [
    "# UMAP\n",
    "\n",
    "# If the metric is ‘precomputed’ X must be a square distance matrix. \n",
    "umap_result = umap.UMAP(n_neighbors=50, metric='cosine').fit_transform(embs)\n"
   ]
  },
  {
   "cell_type": "code",
   "execution_count": 352,
   "id": "92d2fff3",
   "metadata": {},
   "outputs": [],
   "source": [
    "def enc(row):\n",
    "    \n",
    "    # shift\n",
    "    #return (row.n_shift - row.c_shift) / 2\n",
    "\n",
    "    # rotation\n",
    "    if np.inan(n_crick_mut):\n",
    "        return 0\n",
    "    else:\n",
    "        return diffangle(row.n_crick_mut , row.c_crick_mut).mean() / 2\n",
    "    \n",
    "    # romboid\n",
    "    #return row.n_radius - row.c_radius \n",
    "    \n",
    "\n",
    "    \n",
    "    # global crossing angle\n",
    "    return np.mean([row.n_A,row.c_A])"
   ]
  },
  {
   "cell_type": "code",
   "execution_count": 353,
   "id": "3c167b7e",
   "metadata": {},
   "outputs": [
    {
     "ename": "NameError",
     "evalue": "name 'index' is not defined",
     "output_type": "error",
     "traceback": [
      "\u001b[0;31m---------------------------------------------------------------------------\u001b[0m",
      "\u001b[0;31mNameError\u001b[0m                                 Traceback (most recent call last)",
      "Input \u001b[0;32mIn [353]\u001b[0m, in \u001b[0;36m<cell line: 1>\u001b[0;34m()\u001b[0m\n\u001b[0;32m----> 1\u001b[0m c \u001b[38;5;241m=\u001b[39m [enc(data_full_df\u001b[38;5;241m.\u001b[39mloc[i]) \u001b[38;5;28;01mfor\u001b[39;00m i \u001b[38;5;129;01min\u001b[39;00m \u001b[43mindex\u001b[49m]\n",
      "\u001b[0;31mNameError\u001b[0m: name 'index' is not defined"
     ]
    }
   ],
   "source": [
    "c = [enc(data_full_df.loc[i]) for i in index]"
   ]
  },
  {
   "cell_type": "code",
   "execution_count": 270,
   "id": "580a19d5",
   "metadata": {},
   "outputs": [
    {
     "data": {
      "image/png": "[encoded data removed]",
      "text/plain": [
       "<Figure size 720x576 with 1 Axes>"
      ]
     },
     "metadata": {
      "needs_background": "light"
     },
     "output_type": "display_data"
    }
   ],
   "source": [
    "plt.figure(figsize=(10, 8))  # Adjust the figure size as needed\n",
    "\n",
    "# Create a scatter plot with a color bar\n",
    "scatter = plt.scatter(umap_result[:, 0], umap_result[:, 1], s=4, c=c, cmap=cmap)  # Adjust 's' for point size\n"
   ]
  },
  {
   "cell_type": "code",
   "execution_count": 256,
   "id": "0111bbdb",
   "metadata": {},
   "outputs": [
    {
     "data": {
      "text/plain": [
       "(5001, 2)"
      ]
     },
     "execution_count": 256,
     "metadata": {},
     "output_type": "execute_result"
    }
   ],
   "source": [
    "umap_result.shape"
   ]
  },
  {
   "cell_type": "code",
   "execution_count": 17,
   "id": "8e802454",
   "metadata": {},
   "outputs": [],
   "source": [
    "\n",
    "\n",
    "def run_multiprocess(func, tasks, n_cores, tasks_per_core=1):\n",
    "        \n",
    "    stdout_queue = multiprocessing.Queue()\n",
    "    pool = multiprocessing.Pool(processes=n_cores, initargs=[stdout_queue], maxtasksperchild=tasks_per_core)\n",
    "    for i, data in enumerate(pool.starmap(func, tasks), 1):\n",
    "        yield data\n",
    "    pool.close()\n",
    "    pool.join()\n",
    "\n"
   ]
  },
  {
   "cell_type": "code",
   "execution_count": 29,
   "id": "89c0cd38",
   "metadata": {
    "scrolled": true
   },
   "outputs": [
    {
     "name": "stdout",
     "output_type": "stream",
     "text": [
      "generating jobs...\n",
      "running 4950 jobs on 15 cpus...\n"
     ]
    },
    {
     "name": "stderr",
     "output_type": "stream",
     "text": [
      "49500it [00:38, 1282.17it/s]                                                                                                                                  \n"
     ]
    }
   ],
   "source": [
    "\n",
    "pdb_dir = '/home/users/sdunin/calc/HAMPpred/data/input/af2_full'\n",
    "usexecutable = '/home/users/sdunin/apps/USalign/USalign'\n",
    "\n",
    "def align(i,j,pdb1, pdb2):\n",
    "    usexecutable = '/home/users/sdunin/apps/USalign/MMalign'\n",
    "    \n",
    "    align_res = subprocess.run(\n",
    "        [usexecutable, pdb1, pdb2, '-mm', '1', '-ter', '0', '-outfmt', '2'],\n",
    "        capture_output=True, text=True\n",
    "    )\n",
    "    res = align_res.stdout.split('\\n')[1].split('\\t')\n",
    "    return [i,j]+res\n",
    "\n",
    "num_cpus = 15\n",
    "pool = Pool(processes=num_cpus)\n",
    "\n",
    "#max_index = len(data_df.index)\n",
    "max_index = 100\n",
    "\n",
    "print('generating jobs...')\n",
    "\n",
    "jobs = []\n",
    "\n",
    "for i in range(max_index):\n",
    "    idx1 = data_df.index[i]\n",
    "    row1 = data_df.loc[idx1]\n",
    "    pdb1 = os.path.join(pdb_dir, row1.pdb_file)\n",
    "    \n",
    "    for j in range(i + 1, max_index):\n",
    "        idx2 = data_df.index[j]\n",
    "        row2 = data_df.loc[idx2]\n",
    "        pdb2 = os.path.join(pdb_dir, row2.pdb_file)\n",
    "\n",
    "        jobs.append((idx1, idx2, pdb1, pdb2))\n",
    "\n",
    "jobs_count = len(jobs)\n",
    "print(f'running {jobs_count} jobs on {num_cpus} cpus...')\n",
    "        \n",
    "results = []      \n",
    "with tqdm(total=jobs_count) as pbar:       \n",
    "    for res in run_multiprocess(align, jobs, 10):\n",
    "        results.append(res)\n",
    "        assert len(res)==13\n",
    "        pbar.update(10)"
   ]
  },
  {
   "cell_type": "code",
   "execution_count": null,
   "id": "689395b1",
   "metadata": {},
   "outputs": [],
   "source": [
    "head = ['i', 'j', 'PDBchain1', 'PDBchain2', 'TM1', 'TM2', 'RMSD', 'ID1', 'ID2', 'IDali', 'L1', 'L2', 'Lali']\n",
    "res_df = pd.DataFrame(results, columns=head)\n",
    "res_df.to_pickle('./tmp/AF2_clust.p')"
   ]
  },
  {
   "cell_type": "code",
   "execution_count": 25,
   "id": "982b68ab",
   "metadata": {},
   "outputs": [
    {
     "data": {
      "text/plain": [
       "150"
      ]
     },
     "execution_count": 25,
     "metadata": {},
     "output_type": "execute_result"
    }
   ],
   "source": [
    "len(data_df)"
   ]
  },
  {
   "cell_type": "code",
   "execution_count": null,
   "id": "2f21678c",
   "metadata": {},
   "outputs": [],
   "source": []
  },
  {
   "cell_type": "code",
   "execution_count": null,
   "id": "204f0468",
   "metadata": {},
   "outputs": [],
   "source": []
  }
 ],
 "metadata": {
  "kernelspec": {
   "display_name": "Python [conda env:jup]",
   "language": "python",
   "name": "conda-env-jup-py"
  },
  "language_info": {
   "codemirror_mode": {
    "name": "ipython",
    "version": 3
   },
   "file_extension": ".py",
   "mimetype": "text/x-python",
   "name": "python",
   "nbconvert_exporter": "python",
   "pygments_lexer": "ipython3",
   "version": "3.10.4"
  }
 },
 "nbformat": 4,
 "nbformat_minor": 5
}
