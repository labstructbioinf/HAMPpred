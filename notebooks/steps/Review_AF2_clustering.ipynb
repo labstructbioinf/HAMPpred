{
 "cells": [
  {
   "cell_type": "code",
   "execution_count": 187,
   "id": "75f8a590",
   "metadata": {},
   "outputs": [],
   "source": [
    "import os\n",
    "import sys\n",
    "import glob\n",
    "import math\n",
    "import pandas as pd\n",
    "import subprocess\n",
    "from multiprocessing import Pool\n",
    "import multiprocessing \n",
    "\n",
    "\n",
    "import umap\n",
    "import numpy as np\n",
    "import matplotlib.pyplot as plt\n",
    "from tqdm import tqdm\n",
    "from biopandas.pdb import PandasPdb\n",
    "\n",
    "sys.path.append('../../hamp_pred/')\n",
    "from utils.tools import diffangle\n",
    "\n",
    "\n",
    "data_dir = '../../data/input'"
   ]
  },
  {
   "cell_type": "code",
   "execution_count": 367,
   "id": "1253498d",
   "metadata": {},
   "outputs": [
    {
     "data": {
      "text/plain": [
       "5314"
      ]
     },
     "execution_count": 367,
     "metadata": {},
     "output_type": "execute_result"
    }
   ],
   "source": [
    "hamp_groups_df = pd.read_csv('../../../TCST/offline_data/hamp/groupnames.csv', names=['paper_group', 'group'])\n",
    "hamp_groups_df['group'] = hamp_groups_df['group'].apply(lambda x:x.replace('.fas', ''))\n",
    "paper2group = dict(hamp_groups_df.values) #my_array\n",
    "group2paper = dict(hamp_groups_df.values[:, [1, 0]])\n",
    "data_df = pd.read_pickle(os.path.join(data_dir, 'af2.p'))\n",
    "data_df.group = data_df.group.apply(lambda x:group2paper[x] if x in group2paper else '?')\n",
    "len(data_df)"
   ]
  },
  {
   "cell_type": "code",
   "execution_count": 368,
   "id": "261b2219",
   "metadata": {},
   "outputs": [],
   "source": [
    "# remove background sequences\n",
    "#data_df = data_df[data_df.group != '?']"
   ]
  },
  {
   "cell_type": "code",
   "execution_count": null,
   "id": "e854fe77",
   "metadata": {},
   "outputs": [],
   "source": []
  },
  {
   "cell_type": "code",
   "execution_count": null,
   "id": "be5db25c",
   "metadata": {},
   "outputs": [],
   "source": []
  },
  {
   "cell_type": "code",
   "execution_count": 369,
   "id": "e8fe78a9",
   "metadata": {},
   "outputs": [
    {
     "data": {
      "text/plain": [
       "5314"
      ]
     },
     "execution_count": 369,
     "metadata": {},
     "output_type": "execute_result"
    }
   ],
   "source": [
    "# calculate the relative rotation (i.e., the per-layer difference between N and C helices rotation) \n",
    "data_df['rot'] = diffangle(data_df.n_crick_mut, data_df.c_crick_mut)\n",
    "data_df['rot_mean'] = data_df['rot'].apply(np.mean)\n",
    "data_df['rot_std'] = data_df['rot'].apply(np.std)\n",
    "data_df['sequence'] = data_df['n_seq'] + data_df['c_seq'] # for mmseqs2 clustering\n",
    "\n",
    "len(data_df)"
   ]
  },
  {
   "cell_type": "code",
   "execution_count": 370,
   "id": "91401090",
   "metadata": {},
   "outputs": [
    {
     "data": {
      "text/plain": [
       "5124"
      ]
     },
     "execution_count": 370,
     "metadata": {},
     "output_type": "execute_result"
    }
   ],
   "source": [
    "# referece Crick angles\n",
    "crangles = {'a':19.5,'b':122.35,'c':-134.78,'d': -31.92,'e':70.92 ,'f':173.78,'g':-83.35}\n",
    "\n",
    "def check_crick(row, MAXROT=55):\n",
    "    return (np.abs(diffangle(row.n_crick_mut[:2].mean(), crangles['a'])) <= MAXROT) and \\\n",
    "           (np.abs(diffangle(row.c_crick_mut[:2].mean(), crangles['a'])) <= MAXROT) \n",
    "\n",
    "\n",
    "data_df = data_df[data_df.apply(check_crick, axis=1)]\n",
    "len(data_df)"
   ]
  },
  {
   "cell_type": "code",
   "execution_count": 371,
   "id": "123477ea",
   "metadata": {},
   "outputs": [
    {
     "data": {
      "text/plain": [
       "4972"
      ]
     },
     "execution_count": 371,
     "metadata": {},
     "output_type": "execute_result"
    }
   ],
   "source": [
    "data_df = data_df[data_df.rot_std <= 14]\n",
    "data_df = data_df[data_df.rot_mean.abs() <= 52]\n",
    "len(data_df)"
   ]
  },
  {
   "cell_type": "markdown",
   "id": "59ab0436",
   "metadata": {},
   "source": [
    "# FoldSeek"
   ]
  },
  {
   "cell_type": "code",
   "execution_count": 4,
   "id": "48a137f1",
   "metadata": {},
   "outputs": [
    {
     "name": "stderr",
     "output_type": "stream",
     "text": [
      "100%|█████████████████████████████████████████████████████████████████████████████████████████████████████████████████████| 5314/5314 [01:30<00:00, 58.55it/s]\n"
     ]
    }
   ],
   "source": [
    "# get symlinks to all pdb files\n",
    "\n",
    "pdb_dir = '/home/users/sdunin/calc/HAMPpred/data/input/af2_full'\n",
    "\n",
    "clust_dir = '/home/users/sdunin/calc/TCST/HAMP_AF2_cluster'\n",
    "ln_dir = clust_dir + '/pdbs'\n",
    "\n",
    "f = open(os.path.join(clust_dir, 'chain_list'), 'w')\n",
    "\n",
    "for i, row in tqdm(data_df.iterrows(), total=len(data_df)):\n",
    "    os.system(f'ln -sf {os.path.join(pdb_dir,row.pdb_file)} {ln_dir}')\n",
    "    \n",
    "    f.write(f'{os.path.basename(row.pdb_file)}\\n')\n",
    "     \n",
    "f.close()"
   ]
  },
  {
   "cell_type": "code",
   "execution_count": 5,
   "id": "b9c54bb2",
   "metadata": {},
   "outputs": [
    {
     "name": "stderr",
     "output_type": "stream",
     "text": [
      "100%|█████████████████████████████████████████████████████████████████████████████████████████████████████████████████████| 5314/5314 [07:49<00:00, 11.31it/s]\n"
     ]
    }
   ],
   "source": [
    "# merge chains \n",
    "in_pdbs = '/home/users/sdunin/calc/TCST/HAMP_AF2_cluster/pdbs/'\n",
    "\n",
    "def merge_chains(pdb1, pdb2):\n",
    "\n",
    "    model = PandasPdb().read_pdb(pdb1)\n",
    "    model_df = model.df['ATOM']\n",
    "\n",
    "    # Calculate res_count\n",
    "    res_count = model_df[model_df.chain_id == 'A']['residue_number'].max()\n",
    "\n",
    "    # Iterate through rows where chain_id is 'B'\n",
    "    for res_id, g in model_df[model_df.chain_id == 'B'].groupby('residue_number'):\n",
    "        model_df.loc[g.index, 'residue_number'] = res_id + res_count\n",
    "\n",
    "    ca_residue_numbers = model_df[model_df.atom_name == 'CA']['residue_number']\n",
    "    assert ca_residue_numbers.is_unique and ca_residue_numbers.is_monotonic_increasing\n",
    "\n",
    "    model_df.chain_id = 'A'\n",
    "    \n",
    "    model.to_pdb(path=pdb2, \n",
    "            records=None, \n",
    "            gz=False, \n",
    "            append_newline=True)\n",
    "    \n",
    "for in_pdb in tqdm(glob.glob(os.path.join(in_pdbs, '*.pdb'))):\n",
    "    out_pdb = in_pdb.replace('/pdbs/', '/pdbs_onechain/')\n",
    "    merge_chains(in_pdb, out_pdb)\n",
    "    "
   ]
  },
  {
   "cell_type": "code",
   "execution_count": 95,
   "id": "440baf08",
   "metadata": {},
   "outputs": [],
   "source": [
    "# run foldseek in /home/users/sdunin/calc/TCST/HAMP_AF2_cluster"
   ]
  },
  {
   "cell_type": "markdown",
   "id": "52e74b70",
   "metadata": {},
   "source": [
    "# Parse results"
   ]
  },
  {
   "cell_type": "code",
   "execution_count": 373,
   "id": "8824077d",
   "metadata": {},
   "outputs": [
    {
     "data": {
      "text/html": [
       "<div>\n",
       "<style scoped>\n",
       "    .dataframe tbody tr th:only-of-type {\n",
       "        vertical-align: middle;\n",
       "    }\n",
       "\n",
       "    .dataframe tbody tr th {\n",
       "        vertical-align: top;\n",
       "    }\n",
       "\n",
       "    .dataframe thead th {\n",
       "        text-align: right;\n",
       "    }\n",
       "</style>\n",
       "<table border=\"1\" class=\"dataframe\">\n",
       "  <thead>\n",
       "    <tr style=\"text-align: right;\">\n",
       "      <th></th>\n",
       "      <th>query</th>\n",
       "      <th>target</th>\n",
       "      <th>lnlen</th>\n",
       "      <th>evalue</th>\n",
       "      <th>alntmscore</th>\n",
       "      <th>prob</th>\n",
       "      <th>lddt</th>\n",
       "    </tr>\n",
       "  </thead>\n",
       "  <tbody>\n",
       "    <tr>\n",
       "      <th>0</th>\n",
       "      <td>hamp_3352_relaxed_rank_1_model_3.pdb</td>\n",
       "      <td>hamp_3352_relaxed_rank_1_model_3.pdb</td>\n",
       "      <td>108</td>\n",
       "      <td>1.0000</td>\n",
       "      <td>1.0000</td>\n",
       "      <td>1.000</td>\n",
       "      <td>1.0000</td>\n",
       "    </tr>\n",
       "    <tr>\n",
       "      <th>1</th>\n",
       "      <td>hamp_3352_relaxed_rank_1_model_3.pdb</td>\n",
       "      <td>hamp_3393_relaxed_rank_1_model_3.pdb</td>\n",
       "      <td>110</td>\n",
       "      <td>0.8123</td>\n",
       "      <td>0.8522</td>\n",
       "      <td>0.986</td>\n",
       "      <td>0.7303</td>\n",
       "    </tr>\n",
       "    <tr>\n",
       "      <th>2</th>\n",
       "      <td>hamp_3352_relaxed_rank_1_model_3.pdb</td>\n",
       "      <td>hamp_1089_relaxed_rank_1_model_3.pdb</td>\n",
       "      <td>110</td>\n",
       "      <td>0.8097</td>\n",
       "      <td>0.8484</td>\n",
       "      <td>0.984</td>\n",
       "      <td>0.7385</td>\n",
       "    </tr>\n",
       "    <tr>\n",
       "      <th>3</th>\n",
       "      <td>hamp_3352_relaxed_rank_1_model_3.pdb</td>\n",
       "      <td>hamp_3944_relaxed_rank_1_model_3.pdb</td>\n",
       "      <td>108</td>\n",
       "      <td>0.8084</td>\n",
       "      <td>0.8612</td>\n",
       "      <td>0.981</td>\n",
       "      <td>0.7086</td>\n",
       "    </tr>\n",
       "    <tr>\n",
       "      <th>4</th>\n",
       "      <td>hamp_3352_relaxed_rank_1_model_3.pdb</td>\n",
       "      <td>hamp_1314_relaxed_rank_1_model_2.pdb</td>\n",
       "      <td>110</td>\n",
       "      <td>0.8068</td>\n",
       "      <td>0.8472</td>\n",
       "      <td>0.984</td>\n",
       "      <td>0.7273</td>\n",
       "    </tr>\n",
       "  </tbody>\n",
       "</table>\n",
       "</div>"
      ],
      "text/plain": [
       "                                  query                                target  \\\n",
       "0  hamp_3352_relaxed_rank_1_model_3.pdb  hamp_3352_relaxed_rank_1_model_3.pdb   \n",
       "1  hamp_3352_relaxed_rank_1_model_3.pdb  hamp_3393_relaxed_rank_1_model_3.pdb   \n",
       "2  hamp_3352_relaxed_rank_1_model_3.pdb  hamp_1089_relaxed_rank_1_model_3.pdb   \n",
       "3  hamp_3352_relaxed_rank_1_model_3.pdb  hamp_3944_relaxed_rank_1_model_3.pdb   \n",
       "4  hamp_3352_relaxed_rank_1_model_3.pdb  hamp_1314_relaxed_rank_1_model_2.pdb   \n",
       "\n",
       "   lnlen  evalue  alntmscore   prob    lddt  \n",
       "0    108  1.0000      1.0000  1.000  1.0000  \n",
       "1    110  0.8123      0.8522  0.986  0.7303  \n",
       "2    110  0.8097      0.8484  0.984  0.7385  \n",
       "3    108  0.8084      0.8612  0.981  0.7086  \n",
       "4    110  0.8068      0.8472  0.984  0.7273  "
      ]
     },
     "execution_count": 373,
     "metadata": {},
     "output_type": "execute_result"
    }
   ],
   "source": [
    "clu_results = '/home/users/sdunin/calc/TCST/HAMP_AF2_cluster/aln.csv'\n",
    "res_df = pd.read_csv(clu_results, names=['query','target','lnlen','evalue','alntmscore','prob', 'lddt'], sep='\\t')\n",
    "res_df.head()"
   ]
  },
  {
   "cell_type": "code",
   "execution_count": 374,
   "id": "9ad502ec",
   "metadata": {},
   "outputs": [],
   "source": [
    "# remove hits with low coverage\n",
    "#res_df = res_df[res_df.lnlen >= 100]"
   ]
  },
  {
   "cell_type": "code",
   "execution_count": 375,
   "id": "7c072ff0",
   "metadata": {},
   "outputs": [],
   "source": [
    "# map to data_df indexes\n",
    "pdb2idx = {v.split('/')[1]:k for k,v in zip(data_df.index, data_df['pdb_file'])}\n",
    "res_df['i'] = res_df['query'].apply(lambda x:pdb2idx[x] if x in pdb2idx else -1)\n",
    "res_df['j'] = res_df['target'].apply(lambda x:pdb2idx[x] if x in pdb2idx else -1)\n",
    "\n",
    "# remove hits that involve structures that are not in data_df\n",
    "res_df = res_df[(res_df['i'] != -1) & (res_df['j'] != -1)]"
   ]
  },
  {
   "cell_type": "code",
   "execution_count": 376,
   "id": "e38818da",
   "metadata": {},
   "outputs": [],
   "source": [
    "# #scale e-value\n",
    "# res_df['evalue'] = res_df.evalue.apply(lambda x:-math.log10(x))"
   ]
  },
  {
   "cell_type": "code",
   "execution_count": 377,
   "id": "cf4f91c7",
   "metadata": {},
   "outputs": [
    {
     "data": {
      "text/plain": [
       "(4972, 4972)"
      ]
     },
     "execution_count": 377,
     "metadata": {},
     "output_type": "execute_result"
    }
   ],
   "source": [
    "matrix_df = res_df.pivot(index='i', columns='j', values='alntmscore')\n",
    "\n",
    "# use 0 for alntmscore\n",
    "matrix_df = matrix_df.fillna(0)\n",
    "\n",
    "matrix_array = matrix_df.to_numpy()\n",
    "assert matrix_array.shape[0] == matrix_array.shape[1] == len(data_df)\n",
    "matrix_array.shape"
   ]
  },
  {
   "cell_type": "code",
   "execution_count": 378,
   "id": "bad19c81",
   "metadata": {},
   "outputs": [
    {
     "data": {
      "text/plain": [
       "array([[1.    , 0.969 , 0.9802, ..., 0.863 , 0.764 , 0.7468],\n",
       "       [0.969 , 1.    , 0.9802, ..., 0.8734, 0.7796, 0.7326],\n",
       "       [0.9802, 0.9802, 1.    , ..., 0.8735, 0.7632, 0.7498],\n",
       "       ...,\n",
       "       [0.863 , 0.8734, 0.8735, ..., 1.    , 0.8542, 0.7087],\n",
       "       [0.764 , 0.7796, 0.7632, ..., 0.8542, 1.    , 0.6044],\n",
       "       [0.7468, 0.7326, 0.7498, ..., 0.7087, 0.6044, 1.    ]])"
      ]
     },
     "execution_count": 378,
     "metadata": {},
     "output_type": "execute_result"
    }
   ],
   "source": [
    "matrix_array"
   ]
  },
  {
   "cell_type": "markdown",
   "id": "1f242840",
   "metadata": {},
   "source": [
    "# Plot"
   ]
  },
  {
   "cell_type": "code",
   "execution_count": 314,
   "id": "53e2d8ac",
   "metadata": {},
   "outputs": [],
   "source": [
    "\n",
    "# import pacmap\n",
    "\n",
    "# # initializing the pacmap instance\n",
    "# # Setting n_neighbors to \"None\" leads to a default choice shown below in \"parameter\" section\n",
    "# embedding = pacmap.PaCMAP(n_components=2, n_neighbors=None, MN_ratio=0.5, FP_ratio=2.0) \n",
    "\n",
    "# # fit the data (The index of transformed data corresponds to the index of the original data)\n",
    "# umap_result = embedding.fit_transform(matrix_array, init=\"pca\")"
   ]
  },
  {
   "cell_type": "code",
   "execution_count": 455,
   "id": "165c21ba",
   "metadata": {},
   "outputs": [],
   "source": [
    "# color by rotation\n",
    "\n",
    "def enc(a):\n",
    "    a = a.rot\n",
    "    return np.mean((a[0::2] + a[1::2]) / 2) / 2\n",
    "\n",
    "\n",
    "c = [enc(data_df.loc[i]) for i in matrix_df.index]\n",
    "\n",
    "# scale to mean\n",
    "c_array = np.array(c)\n",
    "current_mean = np.mean(c_array)\n",
    "transformation_factor = 0.5 / current_mean\n",
    "c = c_array * transformation_factor\n"
   ]
  },
  {
   "cell_type": "code",
   "execution_count": 391,
   "id": "15e8932c",
   "metadata": {},
   "outputs": [
    {
     "data": {
      "text/plain": [
       "4972"
      ]
     },
     "execution_count": 391,
     "metadata": {},
     "output_type": "execute_result"
    }
   ],
   "source": [
    "codes = [data_df.loc[i].group for i in matrix_df.index]\n",
    "len(codes)"
   ]
  },
  {
   "cell_type": "code",
   "execution_count": 458,
   "id": "c6099a72",
   "metadata": {},
   "outputs": [],
   "source": [
    "from collections import Counter\n",
    "\n",
    "def assign_colors_to_strings(string_list, group_colors, X=1):\n",
    "    color_dict = {}\n",
    "    \n",
    "    # Use the \"tab20c\" colormap from Matplotlib\n",
    "    cmap = plt.get_cmap(\"tab20c\")\n",
    "    \n",
    "    # Count occurrences of each unique string\n",
    "    string_counts = Counter(string_list)\n",
    "    \n",
    "    for string in string_list:\n",
    "        if string in group_colors:\n",
    "            color_dict[string] = group_colors[string]\n",
    "        else:\n",
    "            color_dict[string] = 'grey'\n",
    "    \n",
    "    colors = [color_dict[string] for string in string_list]\n",
    "    \n",
    "    return colors"
   ]
  },
  {
   "cell_type": "code",
   "execution_count": 474,
   "id": "a28fc974",
   "metadata": {},
   "outputs": [
    {
     "data": {
      "text/plain": [
       "4972"
      ]
     },
     "execution_count": 474,
     "metadata": {},
     "output_type": "execute_result"
    }
   ],
   "source": [
    "gr = {\n",
    "    \n",
    "    'G.1':'red',\n",
    "    'F.6':'orange',\n",
    "    \n",
    "    \n",
    "    #'F.2':'orange',\n",
    "    #'B':'green',\n",
    "    #'C.1':'green',\n",
    "    #'C.2':'lime',\n",
    "    #'D':'green',\n",
    "    #'E.2':'green'\n",
    "}\n",
    "\n",
    "c = assign_colors_to_strings(codes, gr, X=10)\n",
    "len(c)"
   ]
  },
  {
   "cell_type": "code",
   "execution_count": 339,
   "id": "a6e2d11b",
   "metadata": {},
   "outputs": [],
   "source": [
    "#define own colormap\n",
    "import matplotlib.colors as mcolors\n",
    "\n",
    "# Define the custom colormap with a smooth transition\n",
    "colors = [(0, 0, 1), (0,0,0), (1, 0, 0)]  # Blue, Gray, Red\n",
    "n_bins = 20  # Number of bins in the colormap\n",
    "cmap_name = \"BlueGrayRed\"  # Name for the custom colormap\n",
    "\n",
    "# Create the custom colormap\n",
    "custom_cmap = mcolors.LinearSegmentedColormap.from_list(cmap_name, colors, N=n_bins)\n",
    "cmap = custom_cmap"
   ]
  },
  {
   "cell_type": "code",
   "execution_count": 387,
   "id": "c67ceab5",
   "metadata": {},
   "outputs": [],
   "source": [
    "# use predefined\n",
    "cmap = 'seismic'"
   ]
  },
  {
   "cell_type": "code",
   "execution_count": 472,
   "id": "0b658ff7",
   "metadata": {},
   "outputs": [
    {
     "name": "stderr",
     "output_type": "stream",
     "text": [
      "/home/users/sdunin/miniconda3/envs/jup/lib/python3.10/site-packages/umap/umap_.py:1780: UserWarning: using precomputed metric; inverse_transform will be unavailable\n",
      "  warn(\"using precomputed metric; inverse_transform will be unavailable\")\n"
     ]
    }
   ],
   "source": [
    "# UMAP\n",
    "\n",
    "# If the metric is ‘precomputed’ X must be a square distance matrix. \n",
    "umap_result = umap.UMAP(n_neighbors=50, metric='precomputed').fit_transform(1-matrix_array)\n"
   ]
  },
  {
   "cell_type": "code",
   "execution_count": 464,
   "id": "c967e971",
   "metadata": {},
   "outputs": [
    {
     "data": {
      "text/plain": [
       "(array([ 747,  748,  749,  750,  751,  752,  753,  754,  755,  756,  757,\n",
       "         758,  759,  760,  761,  762,  763,  764,  765,  766,  767,  768,\n",
       "         769,  770,  771,  772,  773,  774,  775,  776,  777,  778,  779,\n",
       "         780,  781,  782,  783,  784,  785,  786,  787,  788,  789,  790,\n",
       "         791,  792,  793,  794,  795,  796,  797,  798,  799,  800,  801,\n",
       "         802,  803,  804,  805,  806,  807,  808,  809,  810,  811,  812,\n",
       "         813,  814,  815,  816,  817,  818,  819,  820,  821,  822,  823,\n",
       "         824,  825,  826,  827,  828,  829,  830,  831,  832,  833,  834,\n",
       "         835,  836,  837,  838,  839,  840,  841,  842,  843,  844,  845,\n",
       "         846,  847,  848,  849,  850,  851,  852,  853,  854,  855,  856,\n",
       "         857,  858,  859,  860,  861,  862,  863,  864,  865,  866,  867,\n",
       "         868,  869,  870,  871,  872,  873,  874,  875,  876,  877,  878,\n",
       "         879,  880,  881,  882,  883,  884,  885,  886,  887,  888,  889,\n",
       "         890,  891,  892,  893,  894,  895,  896,  897,  898,  899,  900,\n",
       "         901,  902,  903,  904,  905,  906,  907,  908,  909,  910,  911,\n",
       "         912,  913,  914,  915,  916,  917,  918,  919,  920,  921,  922,\n",
       "         923,  924,  925,  926,  927,  928,  929,  930,  931,  932,  933,\n",
       "         934,  935,  936,  937,  938,  939,  940,  941,  942,  943,  944,\n",
       "         945,  946,  947,  948,  949,  950,  951,  952,  953,  954,  955,\n",
       "         956,  957,  958,  959,  960,  961,  962,  963,  964,  965,  966,\n",
       "         967,  968,  969,  970,  971,  972,  973,  974,  975,  976,  977,\n",
       "         978,  979,  980,  981,  982,  983,  984,  985,  986,  987,  988,\n",
       "         989,  990,  991,  992,  993,  994,  995,  996,  997,  998,  999,\n",
       "        1000, 1001, 1002, 1003, 1004, 1005, 1006, 1007, 1008, 1009, 1010,\n",
       "        1011, 1012, 1013, 1014, 1015, 1016, 1017, 1018, 1019, 1020, 1021,\n",
       "        1022, 1023, 1024, 1025, 1026, 1027, 1028, 1029, 1030, 1031, 1032,\n",
       "        1518, 1519, 1520, 1521, 1522, 1523, 1524, 1525, 1526, 1527, 1528,\n",
       "        1529, 1530, 1531, 1532, 1533, 1534, 1535, 1536, 1537, 1538, 1539,\n",
       "        1540, 1541, 1542, 1543, 1544, 1545, 1546, 1547, 1548, 1549, 1550,\n",
       "        1551, 1552, 1553, 1554, 1555, 1556, 1557, 1558, 1559, 1560, 1561,\n",
       "        1562, 1563, 1564, 1565, 1566, 1567, 1568, 1569, 1570, 1571, 1572,\n",
       "        1573, 1574, 1575, 1576, 1577, 1578, 1579, 1580, 1581, 1582, 1583,\n",
       "        1584, 1585, 1586, 1587, 1588, 1589, 1590, 1591, 1592, 1593, 1594,\n",
       "        1595, 1596, 1597, 1598, 1599, 1600, 1601, 1602, 1603, 3459, 3461,\n",
       "        3462, 3463, 3464, 3465, 3466, 3469, 3470, 3471, 3472, 3473, 3474,\n",
       "        3475, 3477, 3479, 3482]),)"
      ]
     },
     "execution_count": 464,
     "metadata": {},
     "output_type": "execute_result"
    }
   ],
   "source": [
    "non_grey_indices"
   ]
  },
  {
   "cell_type": "code",
   "execution_count": 475,
   "id": "fd5a4338",
   "metadata": {},
   "outputs": [
    {
     "name": "stderr",
     "output_type": "stream",
     "text": [
      "/tmp/ipykernel_16177/540213500.py:13: UserWarning: No data for colormapping provided via 'c'. Parameters 'cmap' will be ignored\n",
      "  scatter = plt.scatter(umap_result[non_grey_indices, 0], umap_result[non_grey_indices, 1], s=4, c=c[non_grey_indices], cmap=cmap)\n",
      "/tmp/ipykernel_16177/540213500.py:15: UserWarning: No data for colormapping provided via 'c'. Parameters 'cmap' will be ignored\n",
      "  scatter = plt.scatter(umap_result[grey_indices, 0], umap_result[grey_indices, 1], s=4, c=c[grey_indices], cmap=cmap, zorder=1,\n"
     ]
    },
    {
     "data": {
      "image/png": "[encoded data removed]",
      "text/plain": [
       "<Figure size 720x576 with 2 Axes>"
      ]
     },
     "metadata": {
      "needs_background": "light"
     },
     "output_type": "display_data"
    }
   ],
   "source": [
    "# Create a larger figure with improved styling\n",
    "plt.figure(figsize=(10, 8))  # Adjust the figure size as needed\n",
    "\n",
    "# Create a scatter plot with a color bar\n",
    "#scatter = plt.scatter(umap_result[:, 0], umap_result[:, 1], s=4, c=c, cmap=cmap)  # Adjust 's' for point size\n",
    "\n",
    "# Filter data to exclude grey points\n",
    "c = np.array(c)\n",
    "non_grey_indices = np.where(c != 'grey')\n",
    "grey_indices = np.where(c == 'grey')\n",
    "\n",
    "# Create the scatter plot\n",
    "scatter = plt.scatter(umap_result[non_grey_indices, 0], umap_result[non_grey_indices, 1], s=4, c=c[non_grey_indices], cmap=cmap)\n",
    "\n",
    "scatter = plt.scatter(umap_result[grey_indices, 0], umap_result[grey_indices, 1], s=4, c=c[grey_indices], cmap=cmap, zorder=1,\n",
    "                     alpha=0.1)\n",
    "\n",
    "\n",
    "plt.title('UMAP Visualization of matrix_df', fontsize=16)\n",
    "plt.xlabel('UMAP Dimension 1', fontsize=14)\n",
    "plt.ylabel('UMAP Dimension 2', fontsize=14)\n",
    "\n",
    "# Customize the color bar\n",
    "cbar = plt.colorbar(scatter)\n",
    "cbar.set_label('Color Bar Label', fontsize=12)  # Replace with an appropriate label\n",
    "cbar.ax.tick_params(labelsize=12)  # Adjust color bar label size\n",
    "\n",
    "# Add grid lines for better readability\n",
    "plt.grid(True, linestyle='--', alpha=0.5)\n",
    "\n",
    "# Show the plot\n",
    "plt.show()\n"
   ]
  },
  {
   "cell_type": "code",
   "execution_count": null,
   "id": "1a5199c0",
   "metadata": {},
   "outputs": [],
   "source": []
  },
  {
   "cell_type": "code",
   "execution_count": null,
   "id": "d8d9bee0",
   "metadata": {},
   "outputs": [],
   "source": []
  },
  {
   "cell_type": "code",
   "execution_count": null,
   "id": "e6224cab",
   "metadata": {},
   "outputs": [],
   "source": []
  },
  {
   "cell_type": "code",
   "execution_count": null,
   "id": "9b02bf40",
   "metadata": {},
   "outputs": [],
   "source": []
  },
  {
   "cell_type": "code",
   "execution_count": null,
   "id": "c89c9432",
   "metadata": {},
   "outputs": [],
   "source": []
  },
  {
   "cell_type": "code",
   "execution_count": 390,
   "id": "5da94336",
   "metadata": {},
   "outputs": [
    {
     "data": {
      "text/plain": [
       "(4972, 2)"
      ]
     },
     "execution_count": 390,
     "metadata": {},
     "output_type": "execute_result"
    }
   ],
   "source": [
    "umap_result.shape"
   ]
  },
  {
   "cell_type": "code",
   "execution_count": null,
   "id": "baddf75e",
   "metadata": {},
   "outputs": [],
   "source": []
  },
  {
   "cell_type": "code",
   "execution_count": null,
   "id": "11bd685b",
   "metadata": {},
   "outputs": [],
   "source": []
  },
  {
   "cell_type": "code",
   "execution_count": null,
   "id": "4572694a",
   "metadata": {},
   "outputs": [],
   "source": []
  },
  {
   "cell_type": "code",
   "execution_count": null,
   "id": "0636b089",
   "metadata": {},
   "outputs": [],
   "source": []
  },
  {
   "cell_type": "code",
   "execution_count": null,
   "id": "740fadec",
   "metadata": {},
   "outputs": [],
   "source": []
  },
  {
   "cell_type": "markdown",
   "id": "070ea158",
   "metadata": {},
   "source": [
    "# Old"
   ]
  },
  {
   "cell_type": "code",
   "execution_count": 17,
   "id": "8e802454",
   "metadata": {},
   "outputs": [],
   "source": [
    "\n",
    "\n",
    "def run_multiprocess(func, tasks, n_cores, tasks_per_core=1):\n",
    "        \n",
    "    stdout_queue = multiprocessing.Queue()\n",
    "    pool = multiprocessing.Pool(processes=n_cores, initargs=[stdout_queue], maxtasksperchild=tasks_per_core)\n",
    "    for i, data in enumerate(pool.starmap(func, tasks), 1):\n",
    "        yield data\n",
    "    pool.close()\n",
    "    pool.join()\n",
    "\n"
   ]
  },
  {
   "cell_type": "code",
   "execution_count": 29,
   "id": "89c0cd38",
   "metadata": {
    "scrolled": true
   },
   "outputs": [
    {
     "name": "stdout",
     "output_type": "stream",
     "text": [
      "generating jobs...\n",
      "running 4950 jobs on 15 cpus...\n"
     ]
    },
    {
     "name": "stderr",
     "output_type": "stream",
     "text": [
      "49500it [00:38, 1282.17it/s]                                                                                                                                  \n"
     ]
    }
   ],
   "source": [
    "\n",
    "pdb_dir = '/home/users/sdunin/calc/HAMPpred/data/input/af2_full'\n",
    "usexecutable = '/home/users/sdunin/apps/USalign/USalign'\n",
    "\n",
    "def align(i,j,pdb1, pdb2):\n",
    "    usexecutable = '/home/users/sdunin/apps/USalign/MMalign'\n",
    "    \n",
    "    align_res = subprocess.run(\n",
    "        [usexecutable, pdb1, pdb2, '-mm', '1', '-ter', '0', '-outfmt', '2'],\n",
    "        capture_output=True, text=True\n",
    "    )\n",
    "    res = align_res.stdout.split('\\n')[1].split('\\t')\n",
    "    return [i,j]+res\n",
    "\n",
    "num_cpus = 15\n",
    "pool = Pool(processes=num_cpus)\n",
    "\n",
    "#max_index = len(data_df.index)\n",
    "max_index = 100\n",
    "\n",
    "print('generating jobs...')\n",
    "\n",
    "jobs = []\n",
    "\n",
    "for i in range(max_index):\n",
    "    idx1 = data_df.index[i]\n",
    "    row1 = data_df.loc[idx1]\n",
    "    pdb1 = os.path.join(pdb_dir, row1.pdb_file)\n",
    "    \n",
    "    for j in range(i + 1, max_index):\n",
    "        idx2 = data_df.index[j]\n",
    "        row2 = data_df.loc[idx2]\n",
    "        pdb2 = os.path.join(pdb_dir, row2.pdb_file)\n",
    "\n",
    "        jobs.append((idx1, idx2, pdb1, pdb2))\n",
    "\n",
    "jobs_count = len(jobs)\n",
    "print(f'running {jobs_count} jobs on {num_cpus} cpus...')\n",
    "        \n",
    "results = []      \n",
    "with tqdm(total=jobs_count) as pbar:       \n",
    "    for res in run_multiprocess(align, jobs, 10):\n",
    "        results.append(res)\n",
    "        assert len(res)==13\n",
    "        pbar.update(10)"
   ]
  },
  {
   "cell_type": "code",
   "execution_count": null,
   "id": "689395b1",
   "metadata": {},
   "outputs": [],
   "source": [
    "head = ['i', 'j', 'PDBchain1', 'PDBchain2', 'TM1', 'TM2', 'RMSD', 'ID1', 'ID2', 'IDali', 'L1', 'L2', 'Lali']\n",
    "res_df = pd.DataFrame(results, columns=head)\n",
    "res_df.to_pickle('./tmp/AF2_clust.p')"
   ]
  },
  {
   "cell_type": "code",
   "execution_count": 25,
   "id": "982b68ab",
   "metadata": {},
   "outputs": [
    {
     "data": {
      "text/plain": [
       "150"
      ]
     },
     "execution_count": 25,
     "metadata": {},
     "output_type": "execute_result"
    }
   ],
   "source": [
    "len(data_df)"
   ]
  },
  {
   "cell_type": "code",
   "execution_count": null,
   "id": "2f21678c",
   "metadata": {},
   "outputs": [],
   "source": []
  },
  {
   "cell_type": "code",
   "execution_count": null,
   "id": "204f0468",
   "metadata": {},
   "outputs": [],
   "source": []
  }
 ],
 "metadata": {
  "kernelspec": {
   "display_name": "Python [conda env:jup]",
   "language": "python",
   "name": "conda-env-jup-py"
  },
  "language_info": {
   "codemirror_mode": {
    "name": "ipython",
    "version": 3
   },
   "file_extension": ".py",
   "mimetype": "text/x-python",
   "name": "python",
   "nbconvert_exporter": "python",
   "pygments_lexer": "ipython3",
   "version": "3.10.4"
  }
 },
 "nbformat": 4,
 "nbformat_minor": 5
}
