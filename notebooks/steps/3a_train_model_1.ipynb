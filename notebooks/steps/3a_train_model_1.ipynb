{
 "cells": [
  {
   "cell_type": "code",
   "execution_count": 1,
   "id": "edd0a63a",
   "metadata": {},
   "outputs": [
    {
     "name": "stderr",
     "output_type": "stream",
     "text": [
      "2023-10-18 16:49:29.162436: I tensorflow/core/platform/cpu_feature_guard.cc:193] This TensorFlow binary is optimized with oneAPI Deep Neural Network Library (oneDNN) to use the following CPU instructions in performance-critical operations:  SSE4.1 SSE4.2 AVX AVX2 FMA\n",
      "To enable them in other operations, rebuild TensorFlow with the appropriate compiler flags.\n"
     ]
    }
   ],
   "source": [
    "import sys\n",
    "import os\n",
    "import pandas as pd\n",
    "import numpy as np\n",
    "import matplotlib.pyplot as plt\n",
    "\n",
    "sys.path.append('../..')\n",
    "from hamp_pred.src.input_prep.prepare_sequence import MultiChainOperator, SeqWindow\n",
    "from hamp_pred.src.input_prep.encode import MultiEncoder, OneHotEncoderSeq, RadianEncoder \n",
    "from hamp_pred.src.input_prep.encode import RadiousPhobosEncoder\n",
    "from hamp_pred.src.predictor_config import PredictionConfig \n",
    "from hamp_pred.src.models.common.models import BaseConvolutionalWrapper \n",
    "from hamp_pred.src.predictor import Predictor"
   ]
  },
  {
   "cell_type": "markdown",
   "id": "dd966887",
   "metadata": {},
   "source": [
    "## Prepare data"
   ]
  },
  {
   "cell_type": "code",
   "execution_count": 2,
   "id": "e41b843f",
   "metadata": {},
   "outputs": [],
   "source": [
    "DATA_DIR = '../../data/input'\n",
    "\n",
    "# data set contains train and validation sets\n",
    "# the val set is used for eraly stopping \n",
    "data = f'{DATA_DIR}/af2_clean_model_1.p'\n",
    "data = pd.read_pickle(data)\n",
    "data['n_seq'] = data['n_seq'].apply(lambda x: x[1:-1])\n",
    "data['c_seq'] = data['c_seq'].apply(lambda x: x[1:-1])\n",
    "data['train_seq'] = data.apply(lambda x: x['n_seq'] + x['c_seq'], axis=1)\n",
    "assert all(data['train_seq'].str.len() == 22)\n",
    "\n",
    "# separate test set used to pick the best model\n",
    "#data_test = f'{DATA_DIR}/af_clean_model_test.p'\n",
    "#data_test = pd.read_pickle(data_test)\n"
   ]
  },
  {
   "cell_type": "code",
   "execution_count": 3,
   "id": "c5f12335",
   "metadata": {},
   "outputs": [
    {
     "data": {
      "text/plain": [
       "train    3978\n",
       "val       994\n",
       "Name: class, dtype: int64"
      ]
     },
     "execution_count": 3,
     "metadata": {},
     "output_type": "execute_result"
    }
   ],
   "source": [
    "data['class'].value_counts()"
   ]
  },
  {
   "cell_type": "code",
   "execution_count": 6,
   "id": "d017fc5f",
   "metadata": {},
   "outputs": [],
   "source": [
    "def get_mod(conf=None, version=None):\n",
    "    operator = MultiChainOperator(MultiEncoder([RadiousPhobosEncoder(), OneHotEncoderSeq()]), SeqWindow(11, 11), RadianEncoder(100),  SeqWindow(11, 11, null_char=[[0]]),\n",
    "                                          parallel=True)\n",
    "    conf = PredictionConfig(BaseConvolutionalWrapper, operator, conf)\n",
    "    mod = Predictor('hamp_rot', config=conf, version=version)\n",
    "    return mod"
   ]
  },
  {
   "cell_type": "markdown",
   "id": "79fdae1e",
   "metadata": {},
   "source": [
    "## Train and validate"
   ]
  },
  {
   "cell_type": "code",
   "execution_count": 4,
   "id": "690f1c3e",
   "metadata": {},
   "outputs": [],
   "source": [
    "def get_rmse(val, mod):\n",
    "    seqs = list(val.train_seq)\n",
    "    tr=[]\n",
    "    for n,r in val.iterrows():\n",
    "        tr.append(np.mean((r['rot'][0::2] + r['rot'][1::2]) / 2)/2)\n",
    "    res = mod.predict(seqs)\n",
    "    pr = []\n",
    "    for n,r in res.iterrows():\n",
    "        pr.append(np.mean(r['N_pred'])/2)\n",
    "        \n",
    "    return np.mean((np.array(tr)-np.array(pr)) **2 ) ** 0.5"
   ]
  },
  {
   "cell_type": "code",
   "execution_count": 5,
   "id": "fc8ef27f",
   "metadata": {},
   "outputs": [],
   "source": [
    "def train(data, conf, version):\n",
    "    operator = MultiChainOperator(MultiEncoder([RadiousPhobosEncoder(), OneHotEncoderSeq()]), SeqWindow(11, 11), RadianEncoder(100),  SeqWindow(11, 11, null_char=[[0]]),\n",
    "                                          parallel=True)\n",
    "    conf = PredictionConfig(BaseConvolutionalWrapper, operator, conf)\n",
    "    mod = Predictor('hamp_rot', config=conf, version=version)\n",
    "    trained = mod.train(data)\n",
    "    return mod, trained\n"
   ]
  },
  {
   "cell_type": "code",
   "execution_count": 6,
   "id": "992c4f27",
   "metadata": {},
   "outputs": [],
   "source": [
    "def opt_conf(data, tune=False):\n",
    "    \n",
    "    # data: train and val (val for the eraly stopping)\n",
    "    \n",
    "    data_val = data[data['class'] == 'val']\n",
    "    \n",
    "    results = {}\n",
    "\n",
    "    # parameters grid\n",
    "    kernels = [(3, 4, 7)]\n",
    "    layers = [3]\n",
    "    lstm = [1, 2]\n",
    "    dense = [1, 3]\n",
    "    \n",
    "    for kern in kernels:\n",
    "        for l in layers:\n",
    "            for ls in lstm:\n",
    "                for d in dense:\n",
    "                    model_config = {\n",
    "                        'activation': 'tanh',\n",
    "                        'norm': True,\n",
    "                        'n_layers': l,\n",
    "                        'kernel_sizes': kern,\n",
    "                        'lstm': ls,\n",
    "                        'dense': d,\n",
    "                        'reshape_out': False,\n",
    "                        'epochs': 100\n",
    "                    }\n",
    "                    version = '_'.join([str(x) for x in [\"_\".join([str(i) for i in kern]), l, ls, d]])\n",
    "                    if tune:\n",
    "                        mod, trained = train(data, model_config, version)\n",
    "                    else:\n",
    "                        mod = get_mod(model_config, version)\n",
    "                        \n",
    "                    results[version] = (get_rmse(data_val, mod), model_config)\n",
    "    return results\n",
    "        "
   ]
  },
  {
   "cell_type": "markdown",
   "id": "08447003",
   "metadata": {},
   "source": [
    "## Tune hiperparameters"
   ]
  },
  {
   "cell_type": "code",
   "execution_count": 7,
   "id": "7c640d33",
   "metadata": {
    "scrolled": true
   },
   "outputs": [],
   "source": [
    "#uncomment me \n",
    "#opt_res = opt_conf(data, tune=True)  "
   ]
  },
  {
   "cell_type": "code",
   "execution_count": 8,
   "id": "d4181008",
   "metadata": {},
   "outputs": [
    {
     "name": "stdout",
     "output_type": "stream",
     "text": [
      "1 3_4_7_3_2_1 4.32\n",
      "2 3_4_7_3_2_3 4.4\n",
      "3 3_4_7_3_1_3 4.4\n",
      "4 3_4_7_3_1_1 4.42\n"
     ]
    }
   ],
   "source": [
    "# kern, layers, lstm, dense\n",
    "for pos, (k, (v, model_config)) in enumerate(sorted(opt_res.items(), key=lambda item: item[1])):\n",
    "    if pos==0:\n",
    "        best_model_config = model_config\n",
    "        best_file = k\n",
    "        \n",
    "    print(pos+1, k, round(v, 2))"
   ]
  },
  {
   "cell_type": "code",
   "execution_count": 9,
   "id": "d5385783",
   "metadata": {},
   "outputs": [
    {
     "data": {
      "text/plain": [
       "{'activation': 'tanh',\n",
       " 'norm': True,\n",
       " 'n_layers': 3,\n",
       " 'kernel_sizes': (3, 4, 7),\n",
       " 'lstm': 2,\n",
       " 'dense': 1,\n",
       " 'reshape_out': False,\n",
       " 'epochs': 100,\n",
       " 'task': 'hamp_rot',\n",
       " 'version': '3_4_7_3_2_1',\n",
       " 'data_dir': '/home/users/sdunin/calc/HAMPpred/data/output/weights/hamp_rot/3_4_7_3_2_1'}"
      ]
     },
     "execution_count": 9,
     "metadata": {},
     "output_type": "execute_result"
    }
   ],
   "source": [
    "best_model_config"
   ]
  },
  {
   "cell_type": "markdown",
   "id": "a0687c04",
   "metadata": {},
   "source": [
    "## Best Config"
   ]
  },
  {
   "cell_type": "code",
   "execution_count": 4,
   "id": "b592b1cc",
   "metadata": {},
   "outputs": [],
   "source": [
    "best_model_config = {'activation': 'tanh',\n",
    " 'norm': True,\n",
    " 'n_layers': 3,\n",
    " 'kernel_sizes': (3, 4, 7),\n",
    " 'lstm': 2,\n",
    " 'dense': 1,\n",
    " 'reshape_out': False,\n",
    " 'epochs': 100,\n",
    " 'task': 'hamp_rot',\n",
    " 'version': '3_4_7_3_2_1',\n",
    " 'data_dir': '/home/users/sdunin/calc/HAMPpred/data/output/weights/hamp_rot/3_4_7_3_2_1'}\n",
    "\n",
    "best_file = '3_4_7_3_2_1'"
   ]
  },
  {
   "cell_type": "code",
   "execution_count": 7,
   "id": "5f916320",
   "metadata": {},
   "outputs": [],
   "source": [
    "mod = get_mod(conf=best_model_config, version=best_file)"
   ]
  },
  {
   "cell_type": "markdown",
   "id": "72cc953f",
   "metadata": {},
   "source": [
    "# PDB set performance"
   ]
  },
  {
   "cell_type": "code",
   "execution_count": 8,
   "id": "3c8a096d",
   "metadata": {},
   "outputs": [],
   "source": [
    "test_data = pd.read_pickle(f'{DATA_DIR}/pdb_measure.p')"
   ]
  },
  {
   "cell_type": "code",
   "execution_count": 9,
   "id": "d8ed8519",
   "metadata": {},
   "outputs": [
    {
     "data": {
      "text/plain": [
       "31"
      ]
     },
     "execution_count": 9,
     "metadata": {},
     "output_type": "execute_result"
    }
   ],
   "source": [
    "test_data = pd.read_pickle(os.path.join(DATA_DIR, 'pdb_measure.p'))\n",
    "test_data = test_data[~test_data.mutant]\n",
    "test_data.rename(columns={'seq1':'n_seq', 'seq2':'c_seq', 'n_list':'n_crick_mut', 'c_list':'c_crick_mut'}, inplace=True)\n",
    "test_data['n_seq'] = test_data['n_seq'].apply(lambda x: x[1:-1])\n",
    "test_data['c_seq'] = test_data['c_seq'].apply(lambda x: x[1:-1])\n",
    "test_data['train_seq'] = test_data.apply(lambda x: x['n_seq'] + x['c_seq'], axis=1)\n",
    "len(test_data)"
   ]
  },
  {
   "cell_type": "code",
   "execution_count": 10,
   "id": "daa9ee05",
   "metadata": {},
   "outputs": [
    {
     "name": "stderr",
     "output_type": "stream",
     "text": [
      "2023-10-18 16:50:19.424090: I tensorflow/core/platform/cpu_feature_guard.cc:193] This TensorFlow binary is optimized with oneAPI Deep Neural Network Library (oneDNN) to use the following CPU instructions in performance-critical operations:  SSE4.1 SSE4.2 AVX AVX2 FMA\n",
      "To enable them in other operations, rebuild TensorFlow with the appropriate compiler flags.\n",
      "2023-10-18 16:50:19.425915: I tensorflow/core/common_runtime/process_util.cc:146] Creating new thread pool with default inter op setting: 2. Tune using inter_op_parallelism_threads for best performance.\n"
     ]
    },
    {
     "name": "stdout",
     "output_type": "stream",
     "text": [
      "1/1 [==============================] - 2s 2s/step\n"
     ]
    }
   ],
   "source": [
    "seq = []\n",
    "tr = []\n",
    "for n,r in test_data.iterrows():\n",
    "    seq.append(r['n_seq'] + r['c_seq'])\n",
    "    tr.append(np.mean((r['rot'][0::2] + r['rot'][1::2]) / 2)/2)\n",
    "res = mod.predict(seq)\n",
    "pr = []\n",
    "for n,r in res.iterrows():\n",
    "    pr.append(np.mean(r['predicted_rotation'])/2)"
   ]
  },
  {
   "cell_type": "code",
   "execution_count": null,
   "id": "4cfad612",
   "metadata": {},
   "outputs": [],
   "source": []
  },
  {
   "cell_type": "code",
   "execution_count": null,
   "id": "b84190c3",
   "metadata": {},
   "outputs": [],
   "source": []
  },
  {
   "cell_type": "code",
   "execution_count": 14,
   "id": "4ccf9d0c",
   "metadata": {},
   "outputs": [],
   "source": [
    "# define colors\n",
    "c=[]\n",
    "\n",
    "for pdbid, pdbrow in test_data.iterrows():\n",
    "    \n",
    "    # af1503\n",
    "    if pdbid in [\n",
    "        '0_2l7h.pdb', '1_2l7i.pdb', '2_2y0q.pdb', '3_2y20.pdb', '4_2y21.pdb',\n",
    "        '5_4gn0.pdb', '6_4cq4.pdb', '12_3zrx.pdb', '13_3zrv.pdb',\n",
    "        '14_3zrw.pdb', '15_3zcc.pdb', '16_2lfr.pdb', '17_2lfs.pdb',\n",
    "        '18_4cti.pdb', '20_3zx6.pdb'\n",
    "    ]:\n",
    "        c.append('#ff0000')\n",
    "    \n",
    "    # narq\n",
    "    elif pdbid in ['7_5iji.pdb', '8_5jeq.pdb', '9_5jef.pdb', '10_5jgp.pdb', '11_6yue.pdb']:\n",
    "        c.append('#ffd700')\n",
    "    \n",
    "    elif pdbid in ['22_4i3m.pdb', '25_3lnr.pdb', '28_4i44.pdb']:\n",
    "        c.append('#c71585')        \n",
    "   \n",
    "    elif pdbid in ['23_4i3m.pdb', '26_3lnr.pdb', '29_4i44.pdb']:\n",
    "        c.append('#00fa9a')   \n",
    "        \n",
    "    elif pdbid in ['24_4i3m.pdb', '27_3lnr.pdb', '30_4i44.pdb']:\n",
    "        c.append('#0000ff')  \n",
    "        \n",
    "    elif pdbid in ['19_4biv.pdb', '31_4biu.pdb']:\n",
    "        c.append('#1e90ff') \n",
    "        \n",
    "    elif pdbid in ['21_4i5s.pdb']:\n",
    "        c.append('#ffdab9') \n",
    "\n",
    "    else:\n",
    "        raise ValueError"
   ]
  },
  {
   "cell_type": "code",
   "execution_count": 15,
   "id": "0e0039a9",
   "metadata": {},
   "outputs": [
    {
     "data": {
      "text/plain": [
       "Text(0.5, 1.0, 'HAMPpred predictions')"
      ]
     },
     "execution_count": 15,
     "metadata": {},
     "output_type": "execute_result"
    },
    {
     "data": {
      "image/png": "[encoded data removed]",
      "text/plain": [
       "<Figure size 800x800 with 1 Axes>"
      ]
     },
     "metadata": {},
     "output_type": "display_data"
    }
   ],
   "source": [
    "title_font_size = 12\n",
    "label_font_size = 10\n",
    "tick_font_size = 8\n",
    "\n",
    "fig, ax = plt.subplots(1,1, figsize=(4, 4), dpi=200)\n",
    "\n",
    "#colors = ['white' if i=='1_2l7i.pdb' else 'grey' for i in test_data.index]\n",
    "\n",
    "ax.scatter(pr, tr, color=c, lw=0.75, edgecolors='k', s=50)\n",
    "\n",
    "ax.set_ylim(-26, 26)\n",
    "ax.set_xlim(-26, 26)\n",
    "ax.plot([0, 1], [0, 1], '--', transform=ax.transAxes, color='grey')\n",
    "\n",
    "ax.set_xlabel(r'Predicted rotation [$\\degree$]', size=label_font_size)\n",
    "ax.set_ylabel(r'Experimental structure rotation [$\\degree$]', size=label_font_size)\n",
    "\n",
    "ax.tick_params(axis='both', which='major', labelsize=tick_font_size)\n",
    "ax.tick_params(axis='both', which='minor', labelsize=tick_font_size)\n",
    "ax.set_title(\"HAMPpred predictions\", size=title_font_size)"
   ]
  },
  {
   "cell_type": "code",
   "execution_count": 12,
   "id": "161ec50c",
   "metadata": {},
   "outputs": [
    {
     "data": {
      "text/plain": [
       "5.604181337613865"
      ]
     },
     "execution_count": 12,
     "metadata": {},
     "output_type": "execute_result"
    }
   ],
   "source": [
    "np.mean((np.asarray(tr)-np.asarray(pr)) **2 ) ** 0.5"
   ]
  },
  {
   "cell_type": "code",
   "execution_count": null,
   "id": "25b63dbf",
   "metadata": {},
   "outputs": [],
   "source": [
    "# Done!"
   ]
  },
  {
   "cell_type": "code",
   "execution_count": 33,
   "id": "c013c739",
   "metadata": {},
   "outputs": [
    {
     "data": {
      "text/plain": [
       "(11, 1)"
      ]
     },
     "execution_count": 33,
     "metadata": {},
     "output_type": "execute_result"
    }
   ],
   "source": [
    "res.iloc[0].N_pred.shape"
   ]
  },
  {
   "cell_type": "code",
   "execution_count": null,
   "id": "fc6cd53a",
   "metadata": {},
   "outputs": [],
   "source": []
  },
  {
   "cell_type": "code",
   "execution_count": null,
   "id": "c6a00dd6",
   "metadata": {},
   "outputs": [],
   "source": []
  }
 ],
 "metadata": {
  "kernelspec": {
   "display_name": "Python [conda env:hamppred]",
   "language": "python",
   "name": "conda-env-hamppred-py"
  },
  "language_info": {
   "codemirror_mode": {
    "name": "ipython",
    "version": 3
   },
   "file_extension": ".py",
   "mimetype": "text/x-python",
   "name": "python",
   "nbconvert_exporter": "python",
   "pygments_lexer": "ipython3",
   "version": "3.10.8"
  }
 },
 "nbformat": 4,
 "nbformat_minor": 5
}
