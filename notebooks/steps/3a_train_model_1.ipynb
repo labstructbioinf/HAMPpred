{
 "cells": [
  {
   "cell_type": "code",
   "execution_count": 1,
   "id": "edd0a63a",
   "metadata": {},
   "outputs": [
    {
     "name": "stderr",
     "output_type": "stream",
     "text": [
      "2023-04-24 17:07:27.169359: I tensorflow/core/platform/cpu_feature_guard.cc:193] This TensorFlow binary is optimized with oneAPI Deep Neural Network Library (oneDNN) to use the following CPU instructions in performance-critical operations:  AVX2 FMA\n",
      "To enable them in other operations, rebuild TensorFlow with the appropriate compiler flags.\n",
      "2023-04-24 17:07:27.350389: E tensorflow/stream_executor/cuda/cuda_blas.cc:2981] Unable to register cuBLAS factory: Attempting to register factory for plugin cuBLAS when one has already been registered\n",
      "2023-04-24 17:07:28.040631: W tensorflow/stream_executor/platform/default/dso_loader.cc:64] Could not load dynamic library 'libnvinfer.so.7'; dlerror: libnvinfer.so.7: cannot open shared object file: No such file or directory\n",
      "2023-04-24 17:07:28.040733: W tensorflow/stream_executor/platform/default/dso_loader.cc:64] Could not load dynamic library 'libnvinfer_plugin.so.7'; dlerror: libnvinfer_plugin.so.7: cannot open shared object file: No such file or directory\n",
      "2023-04-24 17:07:28.040741: W tensorflow/compiler/tf2tensorrt/utils/py_utils.cc:38] TF-TRT Warning: Cannot dlopen some TensorRT libraries. If you would like to use Nvidia GPU with TensorRT, please make sure the missing libraries mentioned above are installed properly.\n"
     ]
    }
   ],
   "source": [
    "import sys\n",
    "import os\n",
    "import pandas as pd\n",
    "import numpy as np\n",
    "import matplotlib.pyplot as plt\n",
    "\n",
    "sys.path.append('../..')\n",
    "from hamp_pred.src.input_prep.prepare_sequence import MultiChainOperator, SeqWindow\n",
    "from hamp_pred.src.input_prep.encode import MultiEncoder, OneHotEncoderSeq, RadianEncoder #, MixedEncoder, \n",
    "from hamp_pred.src.input_prep.encode import RadiousPhobosEncoder\n",
    "from hamp_pred.src.predictor_config import PredictionConfig #,SEQ_ENCODING_EXTERNAL DEFAULT_CONF, \n",
    "from hamp_pred.src.models.common.models import BaseConvolutionalWrapper #, BaseLinearWrapper\n",
    "from hamp_pred.src.predictor import Predictor"
   ]
  },
  {
   "cell_type": "markdown",
   "id": "dd966887",
   "metadata": {},
   "source": [
    "## Prepare data"
   ]
  },
  {
   "cell_type": "code",
   "execution_count": 2,
   "id": "e41b843f",
   "metadata": {},
   "outputs": [],
   "source": [
    "DATA_DIR = '../../data/input'\n",
    "\n",
    "# data set contains train and validation sets\n",
    "# the val set is used for eraly stopping \n",
    "data = f'{DATA_DIR}/af2_clean_model_1.p'\n",
    "data = pd.read_pickle(data)\n",
    "data['n_seq'] = data['n_seq'].apply(lambda x: x[1:-1])\n",
    "data['c_seq'] = data['c_seq'].apply(lambda x: x[1:-1])\n",
    "data['train_seq'] = data.apply(lambda x: x['n_seq'] + x['c_seq'], axis=1)\n",
    "assert all(data['train_seq'].str.len() == 22)\n",
    "\n",
    "# separate test set used to pick the best model\n",
    "#data_test = f'{DATA_DIR}/af_clean_model_test.p'\n",
    "#data_test = pd.read_pickle(data_test)\n"
   ]
  },
  {
   "cell_type": "code",
   "execution_count": 3,
   "id": "c5f12335",
   "metadata": {},
   "outputs": [
    {
     "data": {
      "text/plain": [
       "train    3978\n",
       "val       994\n",
       "Name: class, dtype: int64"
      ]
     },
     "execution_count": 3,
     "metadata": {},
     "output_type": "execute_result"
    }
   ],
   "source": [
    "data['class'].value_counts()"
   ]
  },
  {
   "cell_type": "markdown",
   "id": "79fdae1e",
   "metadata": {},
   "source": [
    "## Train and validate"
   ]
  },
  {
   "cell_type": "code",
   "execution_count": 4,
   "id": "690f1c3e",
   "metadata": {},
   "outputs": [],
   "source": [
    "def get_rmse(val, mod):\n",
    "    seqs = list(val.train_seq)\n",
    "    tr=[]\n",
    "    for n,r in val.iterrows():\n",
    "        tr.append(np.mean((r['rot'][0::2] + r['rot'][1::2]) / 2)/2)\n",
    "    res = mod.predict(seqs)\n",
    "    pr = []\n",
    "    for n,r in res.iterrows():\n",
    "        pr.append(np.mean(r['N_pred'])/2)\n",
    "        \n",
    "    return np.mean((np.array(tr)-np.array(pr)) **2 ) ** 0.5"
   ]
  },
  {
   "cell_type": "code",
   "execution_count": 5,
   "id": "fc8ef27f",
   "metadata": {},
   "outputs": [],
   "source": [
    "def train(data, conf, version):\n",
    "    operator = MultiChainOperator(MultiEncoder([RadiousPhobosEncoder(), OneHotEncoderSeq()]), SeqWindow(11, 11), RadianEncoder(100),  SeqWindow(11, 11, null_char=[[0]]),\n",
    "                                          parallel=True)\n",
    "    conf = PredictionConfig(BaseConvolutionalWrapper, operator, conf)\n",
    "    mod = Predictor('hamp_rot', config=conf, version=version)\n",
    "    trained = mod.train(data)\n",
    "    return mod, trained\n",
    "\n",
    "def get_mod(conf=None, version=None):\n",
    "    operator = MultiChainOperator(MultiEncoder([RadiousPhobosEncoder(), OneHotEncoderSeq()]), SeqWindow(11, 11), RadianEncoder(100),  SeqWindow(11, 11, null_char=[[0]]),\n",
    "                                          parallel=True)\n",
    "    conf = PredictionConfig(BaseConvolutionalWrapper, operator, conf)\n",
    "    mod = Predictor('hamp_rot', config=conf, version=version)\n",
    "    return mod\n",
    "    "
   ]
  },
  {
   "cell_type": "code",
   "execution_count": 6,
   "id": "992c4f27",
   "metadata": {},
   "outputs": [],
   "source": [
    "def opt_conf(data, tune=False):\n",
    "    \n",
    "    # data: train and val (val for the eraly stopping)\n",
    "    \n",
    "    data_val = data[data['class'] == 'val']\n",
    "    \n",
    "    results = {}\n",
    "\n",
    "    # parameters grid\n",
    "    kernels = [(3, 4, 7)]\n",
    "    layers = [3]\n",
    "    lstm = [1, 2]\n",
    "    dense = [1, 3]\n",
    "    \n",
    "    for kern in kernels:\n",
    "        for l in layers:\n",
    "            for ls in lstm:\n",
    "                for d in dense:\n",
    "                    model_config = {\n",
    "                        'activation': 'tanh',\n",
    "                        'norm': True,\n",
    "                        'n_layers': l,\n",
    "                        'kernel_sizes': kern,\n",
    "                        'lstm': ls,\n",
    "                        'dense': d,\n",
    "                        'reshape_out': False,\n",
    "                        'epochs': 100\n",
    "                    }\n",
    "                    version = '_'.join([str(x) for x in [\"_\".join([str(i) for i in kern]), l, ls, d]])\n",
    "                    if tune:\n",
    "                        mod, trained = train(data, model_config, version)\n",
    "                    else:\n",
    "                        mod = get_mod(model_config, version)\n",
    "                        \n",
    "                    results[version] = (get_rmse(data_val, mod), model_config)\n",
    "    return results\n",
    "        "
   ]
  },
  {
   "cell_type": "markdown",
   "id": "08447003",
   "metadata": {},
   "source": [
    "## Tune hiperparameters"
   ]
  },
  {
   "cell_type": "code",
   "execution_count": 7,
   "id": "7c640d33",
   "metadata": {
    "scrolled": true
   },
   "outputs": [
    {
     "name": "stderr",
     "output_type": "stream",
     "text": [
      "2023-04-24 17:07:31.144286: I tensorflow/core/platform/cpu_feature_guard.cc:193] This TensorFlow binary is optimized with oneAPI Deep Neural Network Library (oneDNN) to use the following CPU instructions in performance-critical operations:  AVX2 FMA\n",
      "To enable them in other operations, rebuild TensorFlow with the appropriate compiler flags.\n",
      "2023-04-24 17:07:31.823300: I tensorflow/core/common_runtime/gpu/gpu_device.cc:1616] Created device /job:localhost/replica:0/task:0/device:GPU:0 with 7380 MB memory:  -> device: 0, name: NVIDIA GeForce GTX 1080, pci bus id: 0000:01:00.0, compute capability: 6.1\n"
     ]
    },
    {
     "name": "stdout",
     "output_type": "stream",
     "text": [
      "WARNING:tensorflow:`epsilon` argument is deprecated and will be removed, use `min_delta` instead.\n",
      "Epoch 1/100\n"
     ]
    },
    {
     "name": "stderr",
     "output_type": "stream",
     "text": [
      "2023-04-24 17:07:37.578370: I tensorflow/stream_executor/cuda/cuda_dnn.cc:384] Loaded cuDNN version 8204\n",
      "2023-04-24 17:07:37.856176: I tensorflow/core/platform/default/subprocess.cc:304] Start cannot spawn child process: No such file or directory\n",
      "2023-04-24 17:07:37.856535: I tensorflow/core/platform/default/subprocess.cc:304] Start cannot spawn child process: No such file or directory\n",
      "2023-04-24 17:07:37.856560: W tensorflow/stream_executor/gpu/asm_compiler.cc:80] Couldn't get ptxas version string: INTERNAL: Couldn't invoke ptxas --version\n",
      "2023-04-24 17:07:37.856963: I tensorflow/core/platform/default/subprocess.cc:304] Start cannot spawn child process: No such file or directory\n",
      "2023-04-24 17:07:37.857047: W tensorflow/stream_executor/gpu/redzone_allocator.cc:314] INTERNAL: Failed to launch ptxas\n",
      "Relying on driver to perform ptx compilation. \n",
      "Modify $PATH to customize ptxas location.\n",
      "This message will be only logged once.\n"
     ]
    },
    {
     "name": "stdout",
     "output_type": "stream",
     "text": [
      "63/63 [==============================] - 8s 124ms/sample - loss: 0.0365 - mae: 0.1099 - val_loss: 0.0270 - val_mae: 0.1116 - lr: 0.0010\n",
      "Epoch 2/100\n",
      "63/63 [==============================] - 1s 19ms/sample - loss: 0.0146 - mae: 0.0744 - val_loss: 0.0232 - val_mae: 0.0991 - lr: 0.0010\n",
      "Epoch 3/100\n",
      "63/63 [==============================] - 1s 19ms/sample - loss: 0.0112 - mae: 0.0670 - val_loss: 0.0165 - val_mae: 0.0777 - lr: 0.0010\n",
      "Epoch 4/100\n",
      "63/63 [==============================] - 1s 17ms/sample - loss: 0.0082 - mae: 0.0588 - val_loss: 0.0194 - val_mae: 0.0899 - lr: 0.0010\n",
      "Epoch 5/100\n",
      "63/63 [==============================] - 1s 16ms/sample - loss: 0.0062 - mae: 0.0518 - val_loss: 0.0208 - val_mae: 0.0880 - lr: 0.0010\n",
      "Epoch 6/100\n",
      "63/63 [==============================] - 1s 17ms/sample - loss: 0.0052 - mae: 0.0483 - val_loss: 0.0176 - val_mae: 0.0836 - lr: 0.0010\n",
      "Epoch 7/100\n",
      "63/63 [==============================] - 1s 19ms/sample - loss: 0.0046 - mae: 0.0458 - val_loss: 0.0161 - val_mae: 0.0764 - lr: 0.0010\n",
      "Epoch 8/100\n",
      "63/63 [==============================] - 1s 19ms/sample - loss: 0.0038 - mae: 0.0419 - val_loss: 0.0155 - val_mae: 0.0764 - lr: 0.0010\n",
      "Epoch 9/100\n",
      "63/63 [==============================] - 1s 16ms/sample - loss: 0.0037 - mae: 0.0404 - val_loss: 0.0163 - val_mae: 0.0771 - lr: 0.0010\n",
      "Epoch 10/100\n",
      "63/63 [==============================] - 1s 17ms/sample - loss: 0.0035 - mae: 0.0411 - val_loss: 0.0160 - val_mae: 0.0781 - lr: 0.0010\n",
      "Epoch 11/100\n",
      "63/63 [==============================] - 1s 16ms/sample - loss: 0.0029 - mae: 0.0370 - val_loss: 0.0160 - val_mae: 0.0776 - lr: 0.0010\n",
      "Epoch 12/100\n",
      "63/63 [==============================] - 1s 17ms/sample - loss: 0.0026 - mae: 0.0348 - val_loss: 0.0160 - val_mae: 0.0751 - lr: 0.0010\n",
      "Epoch 13/100\n",
      "63/63 [==============================] - 1s 17ms/sample - loss: 0.0021 - mae: 0.0317 - val_loss: 0.0159 - val_mae: 0.0744 - lr: 0.0010\n",
      "Epoch 14/100\n",
      "63/63 [==============================] - 1s 17ms/sample - loss: 0.0018 - mae: 0.0295 - val_loss: 0.0157 - val_mae: 0.0740 - lr: 0.0010\n",
      "Epoch 15/100\n",
      "63/63 [==============================] - 1s 19ms/sample - loss: 0.0020 - mae: 0.0309 - val_loss: 0.0149 - val_mae: 0.0726 - lr: 0.0010\n",
      "Epoch 16/100\n",
      "63/63 [==============================] - 1s 17ms/sample - loss: 0.0019 - mae: 0.0302 - val_loss: 0.0159 - val_mae: 0.0771 - lr: 0.0010\n",
      "Epoch 17/100\n",
      "63/63 [==============================] - 1s 20ms/sample - loss: 0.0020 - mae: 0.0308 - val_loss: 0.0148 - val_mae: 0.0724 - lr: 0.0010\n",
      "Epoch 18/100\n",
      "63/63 [==============================] - 1s 17ms/sample - loss: 0.0017 - mae: 0.0282 - val_loss: 0.0154 - val_mae: 0.0754 - lr: 0.0010\n",
      "Epoch 19/100\n",
      "63/63 [==============================] - 1s 17ms/sample - loss: 0.0020 - mae: 0.0308 - val_loss: 0.0149 - val_mae: 0.0725 - lr: 0.0010\n",
      "Epoch 20/100\n",
      "63/63 [==============================] - 1s 17ms/sample - loss: 0.0018 - mae: 0.0292 - val_loss: 0.0158 - val_mae: 0.0740 - lr: 0.0010\n",
      "Epoch 21/100\n",
      "63/63 [==============================] - 1s 17ms/sample - loss: 0.0018 - mae: 0.0288 - val_loss: 0.0148 - val_mae: 0.0716 - lr: 0.0010\n",
      "Epoch 22/100\n",
      "63/63 [==============================] - 1s 17ms/sample - loss: 0.0014 - mae: 0.0260 - val_loss: 0.0151 - val_mae: 0.0737 - lr: 0.0010\n",
      "Epoch 23/100\n",
      "63/63 [==============================] - 1s 17ms/sample - loss: 0.0021 - mae: 0.0303 - val_loss: 0.0150 - val_mae: 0.0729 - lr: 0.0010\n",
      "Epoch 24/100\n",
      " 0/63 [..............................] - ETA: 0s - loss: 0.0016 - mae: 0.0275\n",
      "Epoch 24: ReduceLROnPlateau reducing learning rate to 0.00010000000474974513.\n",
      "63/63 [==============================] - 1s 17ms/sample - loss: 0.0016 - mae: 0.0274 - val_loss: 0.0158 - val_mae: 0.0767 - lr: 0.0010\n",
      "Epoch 25/100\n",
      "63/63 [==============================] - 1s 19ms/sample - loss: 0.0011 - mae: 0.0232 - val_loss: 0.0142 - val_mae: 0.0699 - lr: 1.0000e-04\n",
      "Epoch 26/100\n",
      "63/63 [==============================] - 1s 19ms/sample - loss: 7.5261e-04 - mae: 0.0194 - val_loss: 0.0142 - val_mae: 0.0697 - lr: 1.0000e-04\n",
      "Epoch 27/100\n",
      "63/63 [==============================] - 1s 19ms/sample - loss: 6.5038e-04 - mae: 0.0182 - val_loss: 0.0142 - val_mae: 0.0699 - lr: 1.0000e-04\n",
      "Epoch 28/100\n",
      "63/63 [==============================] - 1s 17ms/sample - loss: 5.8428e-04 - mae: 0.0173 - val_loss: 0.0143 - val_mae: 0.0696 - lr: 1.0000e-04\n",
      "Epoch 29/100\n",
      "63/63 [==============================] - 1s 17ms/sample - loss: 5.7246e-04 - mae: 0.0172 - val_loss: 0.0144 - val_mae: 0.0697 - lr: 1.0000e-04\n",
      "Epoch 30/100\n",
      "63/63 [==============================] - 1s 17ms/sample - loss: 5.5989e-04 - mae: 0.0170 - val_loss: 0.0143 - val_mae: 0.0699 - lr: 1.0000e-04\n",
      "Epoch 31/100\n",
      "63/63 [==============================] - 1s 17ms/sample - loss: 4.9506e-04 - mae: 0.0161 - val_loss: 0.0143 - val_mae: 0.0698 - lr: 1.0000e-04\n",
      "Epoch 32/100\n",
      " 0/63 [..............................] - ETA: 0s - loss: 4.7849e-04 - mae: 0.0158\n",
      "Epoch 32: ReduceLROnPlateau reducing learning rate to 1.0000000474974514e-05.\n",
      "63/63 [==============================] - 1s 17ms/sample - loss: 4.7892e-04 - mae: 0.0159 - val_loss: 0.0143 - val_mae: 0.0698 - lr: 1.0000e-04\n",
      "Epoch 33/100\n",
      "63/63 [==============================] - 1s 17ms/sample - loss: 4.4500e-04 - mae: 0.0153 - val_loss: 0.0143 - val_mae: 0.0698 - lr: 1.0000e-05\n",
      "Epoch 34/100\n",
      "63/63 [==============================] - 1s 17ms/sample - loss: 4.4653e-04 - mae: 0.0153 - val_loss: 0.0143 - val_mae: 0.0697 - lr: 1.0000e-05\n",
      "Epoch 35/100\n",
      "63/63 [==============================] - 1s 16ms/sample - loss: 4.3215e-04 - mae: 0.0151 - val_loss: 0.0143 - val_mae: 0.0697 - lr: 1.0000e-05\n",
      "Epoch 36/100\n",
      "63/63 [==============================] - 1s 16ms/sample - loss: 4.4551e-04 - mae: 0.0153 - val_loss: 0.0143 - val_mae: 0.0697 - lr: 1.0000e-05\n",
      "Epoch 37/100\n",
      "63/63 [==============================] - 1s 17ms/sample - loss: 4.4229e-04 - mae: 0.0153 - val_loss: 0.0143 - val_mae: 0.0697 - lr: 1.0000e-05\n",
      "Epoch 38/100\n",
      "63/63 [==============================] - 1s 17ms/sample - loss: 4.3238e-04 - mae: 0.0151 - val_loss: 0.0143 - val_mae: 0.0697 - lr: 1.0000e-05\n",
      "Epoch 39/100\n",
      " 0/63 [..............................] - ETA: 0s - loss: 4.3428e-04 - mae: 0.0152\n",
      "Epoch 39: ReduceLROnPlateau reducing learning rate to 1.0000000656873453e-06.\n",
      "63/63 [==============================] - 1s 17ms/sample - loss: 4.3704e-04 - mae: 0.0152 - val_loss: 0.0143 - val_mae: 0.0697 - lr: 1.0000e-05\n",
      "Epoch 40/100\n",
      "63/63 [==============================] - 1s 17ms/sample - loss: 4.2989e-04 - mae: 0.0151 - val_loss: 0.0143 - val_mae: 0.0697 - lr: 1.0000e-06\n",
      "Epoch 41/100\n",
      "63/63 [==============================] - 1s 17ms/sample - loss: 4.2320e-04 - mae: 0.0150 - val_loss: 0.0143 - val_mae: 0.0697 - lr: 1.0000e-06\n",
      "Epoch 42/100\n",
      "63/63 [==============================] - 1s 17ms/sample - loss: 4.3156e-04 - mae: 0.0151 - val_loss: 0.0143 - val_mae: 0.0697 - lr: 1.0000e-06\n",
      "1/1 [==============================] - 1s 1s/step\n",
      "WARNING:tensorflow:`epsilon` argument is deprecated and will be removed, use `min_delta` instead.\n",
      "Epoch 1/100\n",
      "63/63 [==============================] - 7s 107ms/sample - loss: 0.0368 - mae: 0.1119 - val_loss: 0.0253 - val_mae: 0.1018 - lr: 0.0010\n",
      "Epoch 2/100\n",
      "63/63 [==============================] - 1s 21ms/sample - loss: 0.0158 - mae: 0.0773 - val_loss: 0.0180 - val_mae: 0.0836 - lr: 0.0010\n",
      "Epoch 3/100\n",
      "63/63 [==============================] - 1s 21ms/sample - loss: 0.0115 - mae: 0.0674 - val_loss: 0.0173 - val_mae: 0.0819 - lr: 0.0010\n",
      "Epoch 4/100\n",
      "63/63 [==============================] - 1s 18ms/sample - loss: 0.0081 - mae: 0.0578 - val_loss: 0.0174 - val_mae: 0.0824 - lr: 0.0010\n",
      "Epoch 5/100\n",
      "63/63 [==============================] - 1s 18ms/sample - loss: 0.0069 - mae: 0.0549 - val_loss: 0.0175 - val_mae: 0.0836 - lr: 0.0010\n",
      "Epoch 6/100\n",
      "63/63 [==============================] - 1s 21ms/sample - loss: 0.0050 - mae: 0.0468 - val_loss: 0.0171 - val_mae: 0.0811 - lr: 0.0010\n",
      "Epoch 7/100\n",
      "63/63 [==============================] - 1s 21ms/sample - loss: 0.0045 - mae: 0.0439 - val_loss: 0.0159 - val_mae: 0.0736 - lr: 0.0010\n",
      "Epoch 8/100\n",
      "63/63 [==============================] - 1s 18ms/sample - loss: 0.0033 - mae: 0.0381 - val_loss: 0.0161 - val_mae: 0.0764 - lr: 0.0010\n",
      "Epoch 9/100\n"
     ]
    },
    {
     "name": "stdout",
     "output_type": "stream",
     "text": [
      "63/63 [==============================] - 1s 23ms/sample - loss: 0.0031 - mae: 0.0368 - val_loss: 0.0159 - val_mae: 0.0746 - lr: 0.0010\n",
      "Epoch 10/100\n",
      "63/63 [==============================] - 1s 18ms/sample - loss: 0.0030 - mae: 0.0362 - val_loss: 0.0182 - val_mae: 0.0796 - lr: 0.0010\n",
      "Epoch 11/100\n",
      "63/63 [==============================] - 1s 21ms/sample - loss: 0.0030 - mae: 0.0368 - val_loss: 0.0156 - val_mae: 0.0759 - lr: 0.0010\n",
      "Epoch 12/100\n",
      "63/63 [==============================] - 1s 18ms/sample - loss: 0.0026 - mae: 0.0342 - val_loss: 0.0158 - val_mae: 0.0734 - lr: 0.0010\n",
      "Epoch 13/100\n",
      "63/63 [==============================] - 1s 20ms/sample - loss: 0.0024 - mae: 0.0332 - val_loss: 0.0155 - val_mae: 0.0742 - lr: 0.0010\n",
      "Epoch 14/100\n",
      "63/63 [==============================] - 1s 18ms/sample - loss: 0.0026 - mae: 0.0343 - val_loss: 0.0156 - val_mae: 0.0732 - lr: 0.0010\n",
      "Epoch 15/100\n",
      "63/63 [==============================] - 1s 21ms/sample - loss: 0.0027 - mae: 0.0340 - val_loss: 0.0152 - val_mae: 0.0733 - lr: 0.0010\n",
      "Epoch 16/100\n",
      "63/63 [==============================] - 1s 21ms/sample - loss: 0.0021 - mae: 0.0302 - val_loss: 0.0151 - val_mae: 0.0715 - lr: 0.0010\n",
      "Epoch 17/100\n",
      "63/63 [==============================] - 1s 21ms/sample - loss: 0.0017 - mae: 0.0270 - val_loss: 0.0150 - val_mae: 0.0724 - lr: 0.0010\n",
      "Epoch 18/100\n",
      "63/63 [==============================] - 1s 18ms/sample - loss: 0.0017 - mae: 0.0275 - val_loss: 0.0155 - val_mae: 0.0732 - lr: 0.0010\n",
      "Epoch 19/100\n",
      "63/63 [==============================] - 1s 18ms/sample - loss: 0.0015 - mae: 0.0260 - val_loss: 0.0150 - val_mae: 0.0709 - lr: 0.0010\n",
      "Epoch 20/100\n",
      "63/63 [==============================] - 1s 21ms/sample - loss: 0.0013 - mae: 0.0241 - val_loss: 0.0149 - val_mae: 0.0707 - lr: 0.0010\n",
      "Epoch 21/100\n",
      "63/63 [==============================] - 1s 18ms/sample - loss: 0.0012 - mae: 0.0231 - val_loss: 0.0151 - val_mae: 0.0721 - lr: 0.0010\n",
      "Epoch 22/100\n",
      "63/63 [==============================] - 1s 21ms/sample - loss: 0.0013 - mae: 0.0244 - val_loss: 0.0149 - val_mae: 0.0713 - lr: 0.0010\n",
      "Epoch 23/100\n",
      "63/63 [==============================] - 1s 21ms/sample - loss: 0.0014 - mae: 0.0247 - val_loss: 0.0147 - val_mae: 0.0708 - lr: 0.0010\n",
      "Epoch 24/100\n",
      "63/63 [==============================] - 1s 18ms/sample - loss: 0.0019 - mae: 0.0290 - val_loss: 0.0150 - val_mae: 0.0715 - lr: 0.0010\n",
      "Epoch 25/100\n",
      "63/63 [==============================] - 1s 17ms/sample - loss: 0.0014 - mae: 0.0247 - val_loss: 0.0155 - val_mae: 0.0722 - lr: 0.0010\n",
      "Epoch 26/100\n",
      "63/63 [==============================] - 1s 18ms/sample - loss: 0.0017 - mae: 0.0270 - val_loss: 0.0178 - val_mae: 0.0781 - lr: 0.0010\n",
      "Epoch 27/100\n",
      "63/63 [==============================] - 1s 18ms/sample - loss: 0.0016 - mae: 0.0267 - val_loss: 0.0149 - val_mae: 0.0718 - lr: 0.0010\n",
      "Epoch 28/100\n",
      "63/63 [==============================] - 1s 17ms/sample - loss: 0.0014 - mae: 0.0248 - val_loss: 0.0151 - val_mae: 0.0713 - lr: 0.0010\n",
      "Epoch 29/100\n",
      "63/63 [==============================] - 1s 17ms/sample - loss: 0.0013 - mae: 0.0244 - val_loss: 0.0154 - val_mae: 0.0721 - lr: 0.0010\n",
      "Epoch 30/100\n",
      " 0/63 [..............................] - ETA: 0s - loss: 0.0013 - mae: 0.0239\n",
      "Epoch 30: ReduceLROnPlateau reducing learning rate to 0.00010000000474974513.\n",
      "63/63 [==============================] - 1s 21ms/sample - loss: 0.0013 - mae: 0.0239 - val_loss: 0.0147 - val_mae: 0.0705 - lr: 0.0010\n",
      "Epoch 31/100\n",
      "63/63 [==============================] - 1s 20ms/sample - loss: 7.7763e-04 - mae: 0.0188 - val_loss: 0.0143 - val_mae: 0.0693 - lr: 1.0000e-04\n",
      "Epoch 32/100\n",
      "63/63 [==============================] - 1s 17ms/sample - loss: 5.6938e-04 - mae: 0.0163 - val_loss: 0.0144 - val_mae: 0.0689 - lr: 1.0000e-04\n",
      "Epoch 33/100\n",
      "63/63 [==============================] - 1s 17ms/sample - loss: 5.0098e-04 - mae: 0.0154 - val_loss: 0.0144 - val_mae: 0.0689 - lr: 1.0000e-04\n",
      "Epoch 34/100\n",
      "63/63 [==============================] - 1s 18ms/sample - loss: 4.2664e-04 - mae: 0.0143 - val_loss: 0.0145 - val_mae: 0.0689 - lr: 1.0000e-04\n",
      "Epoch 35/100\n",
      "63/63 [==============================] - 1s 18ms/sample - loss: 3.9512e-04 - mae: 0.0138 - val_loss: 0.0144 - val_mae: 0.0690 - lr: 1.0000e-04\n",
      "Epoch 36/100\n",
      "63/63 [==============================] - 1s 18ms/sample - loss: 3.6174e-04 - mae: 0.0133 - val_loss: 0.0144 - val_mae: 0.0691 - lr: 1.0000e-04\n",
      "Epoch 37/100\n",
      "63/63 [==============================] - 1s 17ms/sample - loss: 3.4113e-04 - mae: 0.0130 - val_loss: 0.0144 - val_mae: 0.0690 - lr: 1.0000e-04\n",
      "Epoch 38/100\n",
      " 0/63 [..............................] - ETA: 0s - loss: 3.3363e-04 - mae: 0.0128\n",
      "Epoch 38: ReduceLROnPlateau reducing learning rate to 1.0000000474974514e-05.\n",
      "63/63 [==============================] - 1s 18ms/sample - loss: 3.3212e-04 - mae: 0.0128 - val_loss: 0.0145 - val_mae: 0.0690 - lr: 1.0000e-04\n",
      "Epoch 39/100\n",
      "63/63 [==============================] - 1s 18ms/sample - loss: 3.0393e-04 - mae: 0.0123 - val_loss: 0.0144 - val_mae: 0.0689 - lr: 1.0000e-05\n",
      "Epoch 40/100\n",
      "63/63 [==============================] - 1s 18ms/sample - loss: 2.9772e-04 - mae: 0.0122 - val_loss: 0.0144 - val_mae: 0.0689 - lr: 1.0000e-05\n",
      "Epoch 41/100\n",
      "63/63 [==============================] - 1s 17ms/sample - loss: 2.8931e-04 - mae: 0.0120 - val_loss: 0.0144 - val_mae: 0.0689 - lr: 1.0000e-05\n",
      "Epoch 42/100\n",
      "63/63 [==============================] - 1s 17ms/sample - loss: 2.8281e-04 - mae: 0.0119 - val_loss: 0.0145 - val_mae: 0.0689 - lr: 1.0000e-05\n",
      "Epoch 43/100\n",
      "63/63 [==============================] - 1s 18ms/sample - loss: 2.8974e-04 - mae: 0.0120 - val_loss: 0.0144 - val_mae: 0.0690 - lr: 1.0000e-05\n",
      "Epoch 44/100\n",
      "63/63 [==============================] - 1s 17ms/sample - loss: 2.9143e-04 - mae: 0.0120 - val_loss: 0.0144 - val_mae: 0.0689 - lr: 1.0000e-05\n",
      "Epoch 45/100\n",
      " 0/63 [..............................] - ETA: 0s - loss: 3.0165e-04 - mae: 0.0123\n",
      "Epoch 45: ReduceLROnPlateau reducing learning rate to 1.0000000656873453e-06.\n",
      "63/63 [==============================] - 1s 18ms/sample - loss: 3.0167e-04 - mae: 0.0123 - val_loss: 0.0144 - val_mae: 0.0689 - lr: 1.0000e-05\n",
      "Epoch 46/100\n",
      "63/63 [==============================] - 1s 17ms/sample - loss: 2.8197e-04 - mae: 0.0119 - val_loss: 0.0144 - val_mae: 0.0689 - lr: 1.0000e-06\n",
      "1/1 [==============================] - 1s 870ms/step\n",
      "WARNING:tensorflow:`epsilon` argument is deprecated and will be removed, use `min_delta` instead.\n",
      "Epoch 1/100\n",
      "63/63 [==============================] - 10s 152ms/sample - loss: 0.0352 - mae: 0.1089 - val_loss: 0.0205 - val_mae: 0.0868 - lr: 0.0010\n",
      "Epoch 2/100\n",
      "63/63 [==============================] - 1s 24ms/sample - loss: 0.0144 - mae: 0.0742 - val_loss: 0.0172 - val_mae: 0.0803 - lr: 0.0010\n",
      "Epoch 3/100\n",
      "63/63 [==============================] - 1s 21ms/sample - loss: 0.0125 - mae: 0.0708 - val_loss: 0.0176 - val_mae: 0.0827 - lr: 0.0010\n",
      "Epoch 4/100\n",
      "63/63 [==============================] - 2s 24ms/sample - loss: 0.0083 - mae: 0.0587 - val_loss: 0.0155 - val_mae: 0.0775 - lr: 0.0010\n",
      "Epoch 5/100\n",
      "63/63 [==============================] - 1s 20ms/sample - loss: 0.0059 - mae: 0.0509 - val_loss: 0.0167 - val_mae: 0.0820 - lr: 0.0010\n",
      "Epoch 6/100\n",
      "63/63 [==============================] - 1s 20ms/sample - loss: 0.0052 - mae: 0.0479 - val_loss: 0.0161 - val_mae: 0.0785 - lr: 0.0010\n",
      "Epoch 7/100\n",
      "63/63 [==============================] - 2s 24ms/sample - loss: 0.0044 - mae: 0.0446 - val_loss: 0.0152 - val_mae: 0.0743 - lr: 0.0010\n",
      "Epoch 8/100\n",
      "63/63 [==============================] - 1s 21ms/sample - loss: 0.0042 - mae: 0.0425 - val_loss: 0.0158 - val_mae: 0.0752 - lr: 0.0010\n",
      "Epoch 9/100\n",
      "63/63 [==============================] - 2s 25ms/sample - loss: 0.0040 - mae: 0.0422 - val_loss: 0.0150 - val_mae: 0.0740 - lr: 0.0010\n",
      "Epoch 10/100\n",
      "63/63 [==============================] - 1s 23ms/sample - loss: 0.0033 - mae: 0.0388 - val_loss: 0.0149 - val_mae: 0.0731 - lr: 0.0010\n",
      "Epoch 11/100\n",
      "63/63 [==============================] - 2s 27ms/sample - loss: 0.0028 - mae: 0.0358 - val_loss: 0.0146 - val_mae: 0.0716 - lr: 0.0010\n",
      "Epoch 12/100\n",
      "63/63 [==============================] - 1s 20ms/sample - loss: 0.0026 - mae: 0.0334 - val_loss: 0.0147 - val_mae: 0.0727 - lr: 0.0010\n",
      "Epoch 13/100\n"
     ]
    },
    {
     "name": "stdout",
     "output_type": "stream",
     "text": [
      "63/63 [==============================] - 1s 21ms/sample - loss: 0.0022 - mae: 0.0311 - val_loss: 0.0147 - val_mae: 0.0737 - lr: 0.0010\n",
      "Epoch 14/100\n",
      "63/63 [==============================] - 1s 21ms/sample - loss: 0.0018 - mae: 0.0287 - val_loss: 0.0146 - val_mae: 0.0719 - lr: 0.0010\n",
      "Epoch 15/100\n",
      "63/63 [==============================] - 1s 21ms/sample - loss: 0.0017 - mae: 0.0271 - val_loss: 0.0163 - val_mae: 0.0762 - lr: 0.0010\n",
      "Epoch 16/100\n",
      "63/63 [==============================] - 1s 23ms/sample - loss: 0.0020 - mae: 0.0305 - val_loss: 0.0145 - val_mae: 0.0719 - lr: 0.0010\n",
      "Epoch 17/100\n",
      "63/63 [==============================] - 1s 21ms/sample - loss: 0.0019 - mae: 0.0294 - val_loss: 0.0148 - val_mae: 0.0718 - lr: 0.0010\n",
      "Epoch 18/100\n",
      " 0/63 [..............................] - ETA: 0s - loss: 0.0022 - mae: 0.0312\n",
      "Epoch 18: ReduceLROnPlateau reducing learning rate to 0.00010000000474974513.\n",
      "63/63 [==============================] - 1s 21ms/sample - loss: 0.0021 - mae: 0.0312 - val_loss: 0.0146 - val_mae: 0.0748 - lr: 0.0010\n",
      "Epoch 19/100\n",
      "63/63 [==============================] - 2s 25ms/sample - loss: 0.0015 - mae: 0.0266 - val_loss: 0.0138 - val_mae: 0.0695 - lr: 1.0000e-04\n",
      "Epoch 20/100\n",
      "63/63 [==============================] - 1s 23ms/sample - loss: 0.0011 - mae: 0.0230 - val_loss: 0.0137 - val_mae: 0.0693 - lr: 1.0000e-04\n",
      "Epoch 21/100\n",
      "63/63 [==============================] - 1s 20ms/sample - loss: 9.0946e-04 - mae: 0.0209 - val_loss: 0.0137 - val_mae: 0.0688 - lr: 1.0000e-04\n",
      "Epoch 22/100\n",
      "63/63 [==============================] - 1s 21ms/sample - loss: 8.3993e-04 - mae: 0.0200 - val_loss: 0.0141 - val_mae: 0.0693 - lr: 1.0000e-04\n",
      "Epoch 23/100\n",
      "63/63 [==============================] - 1s 21ms/sample - loss: 7.7453e-04 - mae: 0.0192 - val_loss: 0.0138 - val_mae: 0.0689 - lr: 1.0000e-04\n",
      "Epoch 24/100\n",
      "63/63 [==============================] - 1s 21ms/sample - loss: 7.2810e-04 - mae: 0.0187 - val_loss: 0.0137 - val_mae: 0.0687 - lr: 1.0000e-04\n",
      "Epoch 25/100\n",
      "63/63 [==============================] - 2s 24ms/sample - loss: 6.5220e-04 - mae: 0.0177 - val_loss: 0.0137 - val_mae: 0.0689 - lr: 1.0000e-04\n",
      "Epoch 26/100\n",
      "63/63 [==============================] - 1s 21ms/sample - loss: 6.2715e-04 - mae: 0.0174 - val_loss: 0.0137 - val_mae: 0.0687 - lr: 1.0000e-04\n",
      "Epoch 27/100\n",
      " 0/63 [..............................] - ETA: 0s - loss: 6.6055e-04 - mae: 0.0179\n",
      "Epoch 27: ReduceLROnPlateau reducing learning rate to 1.0000000474974514e-05.\n",
      "63/63 [==============================] - 1s 21ms/sample - loss: 6.6077e-04 - mae: 0.0179 - val_loss: 0.0138 - val_mae: 0.0687 - lr: 1.0000e-04\n",
      "Epoch 28/100\n",
      "63/63 [==============================] - 1s 21ms/sample - loss: 5.8681e-04 - mae: 0.0169 - val_loss: 0.0137 - val_mae: 0.0687 - lr: 1.0000e-05\n",
      "Epoch 29/100\n",
      "63/63 [==============================] - 1s 21ms/sample - loss: 5.8010e-04 - mae: 0.0167 - val_loss: 0.0138 - val_mae: 0.0687 - lr: 1.0000e-05\n",
      "Epoch 30/100\n",
      "63/63 [==============================] - 1s 21ms/sample - loss: 5.6994e-04 - mae: 0.0166 - val_loss: 0.0137 - val_mae: 0.0687 - lr: 1.0000e-05\n",
      "Epoch 31/100\n",
      "63/63 [==============================] - 1s 21ms/sample - loss: 5.8376e-04 - mae: 0.0168 - val_loss: 0.0137 - val_mae: 0.0687 - lr: 1.0000e-05\n",
      "Epoch 32/100\n",
      "63/63 [==============================] - 1s 21ms/sample - loss: 5.7099e-04 - mae: 0.0166 - val_loss: 0.0137 - val_mae: 0.0687 - lr: 1.0000e-05\n",
      "Epoch 33/100\n",
      "63/63 [==============================] - 1s 20ms/sample - loss: 5.7017e-04 - mae: 0.0166 - val_loss: 0.0137 - val_mae: 0.0687 - lr: 1.0000e-05\n",
      "Epoch 34/100\n",
      " 0/63 [..............................] - ETA: 0s - loss: 5.4343e-04 - mae: 0.0162\n",
      "Epoch 34: ReduceLROnPlateau reducing learning rate to 1.0000000656873453e-06.\n",
      "63/63 [==============================] - 1s 20ms/sample - loss: 5.4703e-04 - mae: 0.0162 - val_loss: 0.0137 - val_mae: 0.0687 - lr: 1.0000e-05\n",
      "Epoch 35/100\n",
      "63/63 [==============================] - 1s 20ms/sample - loss: 5.5067e-04 - mae: 0.0163 - val_loss: 0.0137 - val_mae: 0.0687 - lr: 1.0000e-06\n",
      "Epoch 36/100\n",
      "63/63 [==============================] - 1s 21ms/sample - loss: 5.7059e-04 - mae: 0.0166 - val_loss: 0.0138 - val_mae: 0.0687 - lr: 1.0000e-06\n",
      "Epoch 37/100\n",
      "63/63 [==============================] - 1s 21ms/sample - loss: 5.5268e-04 - mae: 0.0163 - val_loss: 0.0137 - val_mae: 0.0687 - lr: 1.0000e-06\n",
      "Epoch 38/100\n",
      "63/63 [==============================] - 1s 20ms/sample - loss: 5.5691e-04 - mae: 0.0164 - val_loss: 0.0138 - val_mae: 0.0686 - lr: 1.0000e-06\n",
      "Epoch 39/100\n",
      "63/63 [==============================] - 1s 20ms/sample - loss: 5.5048e-04 - mae: 0.0163 - val_loss: 0.0138 - val_mae: 0.0686 - lr: 1.0000e-06\n",
      "Epoch 40/100\n",
      "63/63 [==============================] - 1s 20ms/sample - loss: 5.6788e-04 - mae: 0.0166 - val_loss: 0.0138 - val_mae: 0.0686 - lr: 1.0000e-06\n",
      "1/1 [==============================] - 2s 2s/step\n",
      "WARNING:tensorflow:`epsilon` argument is deprecated and will be removed, use `min_delta` instead.\n",
      "Epoch 1/100\n",
      "63/63 [==============================] - 10s 157ms/sample - loss: 0.0359 - mae: 0.1098 - val_loss: 0.0228 - val_mae: 0.0968 - lr: 0.0010\n",
      "Epoch 2/100\n",
      "63/63 [==============================] - 2s 25ms/sample - loss: 0.0143 - mae: 0.0740 - val_loss: 0.0202 - val_mae: 0.0909 - lr: 0.0010\n",
      "Epoch 3/100\n",
      "63/63 [==============================] - 2s 24ms/sample - loss: 0.0109 - mae: 0.0675 - val_loss: 0.0175 - val_mae: 0.0849 - lr: 0.0010\n",
      "Epoch 4/100\n",
      "63/63 [==============================] - 1s 21ms/sample - loss: 0.0078 - mae: 0.0583 - val_loss: 0.0178 - val_mae: 0.0819 - lr: 0.0010\n",
      "Epoch 5/100\n",
      "63/63 [==============================] - 1s 21ms/sample - loss: 0.0057 - mae: 0.0497 - val_loss: 0.0188 - val_mae: 0.0819 - lr: 0.0010\n",
      "Epoch 6/100\n",
      "63/63 [==============================] - 2s 26ms/sample - loss: 0.0063 - mae: 0.0522 - val_loss: 0.0159 - val_mae: 0.0757 - lr: 0.0010\n",
      "Epoch 7/100\n",
      "63/63 [==============================] - 1s 21ms/sample - loss: 0.0045 - mae: 0.0446 - val_loss: 0.0162 - val_mae: 0.0780 - lr: 0.0010\n",
      "Epoch 8/100\n",
      "63/63 [==============================] - 1s 21ms/sample - loss: 0.0039 - mae: 0.0418 - val_loss: 0.0160 - val_mae: 0.0778 - lr: 0.0010\n",
      "Epoch 9/100\n",
      "63/63 [==============================] - 1s 21ms/sample - loss: 0.0035 - mae: 0.0402 - val_loss: 0.0177 - val_mae: 0.0792 - lr: 0.0010\n",
      "Epoch 10/100\n",
      "63/63 [==============================] - 2s 24ms/sample - loss: 0.0031 - mae: 0.0380 - val_loss: 0.0154 - val_mae: 0.0746 - lr: 0.0010\n",
      "Epoch 11/100\n",
      "63/63 [==============================] - 1s 22ms/sample - loss: 0.0034 - mae: 0.0375 - val_loss: 0.0158 - val_mae: 0.0775 - lr: 0.0010\n",
      "Epoch 12/100\n",
      "63/63 [==============================] - 2s 27ms/sample - loss: 0.0024 - mae: 0.0336 - val_loss: 0.0149 - val_mae: 0.0726 - lr: 0.0010\n",
      "Epoch 13/100\n",
      "63/63 [==============================] - 1s 22ms/sample - loss: 0.0022 - mae: 0.0313 - val_loss: 0.0155 - val_mae: 0.0725 - lr: 0.0010\n",
      "Epoch 14/100\n",
      "63/63 [==============================] - 2s 24ms/sample - loss: 0.0020 - mae: 0.0301 - val_loss: 0.0147 - val_mae: 0.0714 - lr: 0.0010\n",
      "Epoch 15/100\n",
      "63/63 [==============================] - 1s 22ms/sample - loss: 0.0022 - mae: 0.0320 - val_loss: 0.0161 - val_mae: 0.0746 - lr: 0.0010\n",
      "Epoch 16/100\n",
      "63/63 [==============================] - 1s 21ms/sample - loss: 0.0020 - mae: 0.0305 - val_loss: 0.0152 - val_mae: 0.0720 - lr: 0.0010\n",
      "Epoch 17/100\n",
      "63/63 [==============================] - 1s 21ms/sample - loss: 0.0018 - mae: 0.0291 - val_loss: 0.0149 - val_mae: 0.0708 - lr: 0.0010\n",
      "Epoch 18/100\n",
      "63/63 [==============================] - 2s 24ms/sample - loss: 0.0019 - mae: 0.0294 - val_loss: 0.0146 - val_mae: 0.0718 - lr: 0.0010\n",
      "Epoch 19/100\n",
      "63/63 [==============================] - 1s 21ms/sample - loss: 0.0015 - mae: 0.0259 - val_loss: 0.0147 - val_mae: 0.0718 - lr: 0.0010\n",
      "Epoch 20/100\n",
      "63/63 [==============================] - 1s 21ms/sample - loss: 0.0015 - mae: 0.0263 - val_loss: 0.0156 - val_mae: 0.0761 - lr: 0.0010\n",
      "Epoch 21/100\n",
      " 0/63 [..............................] - ETA: 0s - loss: 0.0020 - mae: 0.0307\n",
      "Epoch 21: ReduceLROnPlateau reducing learning rate to 0.00010000000474974513.\n",
      "63/63 [==============================] - 1s 21ms/sample - loss: 0.0020 - mae: 0.0305 - val_loss: 0.0166 - val_mae: 0.0750 - lr: 0.0010\n",
      "Epoch 22/100\n"
     ]
    },
    {
     "name": "stdout",
     "output_type": "stream",
     "text": [
      "63/63 [==============================] - 2s 25ms/sample - loss: 0.0012 - mae: 0.0234 - val_loss: 0.0143 - val_mae: 0.0699 - lr: 1.0000e-04\n",
      "Epoch 23/100\n",
      "63/63 [==============================] - 1s 22ms/sample - loss: 8.7441e-04 - mae: 0.0201 - val_loss: 0.0144 - val_mae: 0.0697 - lr: 1.0000e-04\n",
      "Epoch 24/100\n",
      "63/63 [==============================] - 1s 21ms/sample - loss: 7.4513e-04 - mae: 0.0186 - val_loss: 0.0145 - val_mae: 0.0696 - lr: 1.0000e-04\n",
      "Epoch 25/100\n",
      "63/63 [==============================] - 1s 21ms/sample - loss: 6.8054e-04 - mae: 0.0179 - val_loss: 0.0143 - val_mae: 0.0697 - lr: 1.0000e-04\n",
      "Epoch 26/100\n",
      "63/63 [==============================] - 1s 21ms/sample - loss: 6.2413e-04 - mae: 0.0172 - val_loss: 0.0144 - val_mae: 0.0696 - lr: 1.0000e-04\n",
      "Epoch 27/100\n",
      "63/63 [==============================] - 1s 21ms/sample - loss: 6.1249e-04 - mae: 0.0170 - val_loss: 0.0144 - val_mae: 0.0696 - lr: 1.0000e-04\n",
      "Epoch 28/100\n",
      "63/63 [==============================] - 1s 21ms/sample - loss: 5.3919e-04 - mae: 0.0160 - val_loss: 0.0144 - val_mae: 0.0699 - lr: 1.0000e-04\n",
      "Epoch 29/100\n",
      " 0/63 [..............................] - ETA: 0s - loss: 5.1457e-04 - mae: 0.0156\n",
      "Epoch 29: ReduceLROnPlateau reducing learning rate to 1.0000000474974514e-05.\n",
      "63/63 [==============================] - 1s 21ms/sample - loss: 5.1501e-04 - mae: 0.0156 - val_loss: 0.0144 - val_mae: 0.0697 - lr: 1.0000e-04\n",
      "Epoch 30/100\n",
      "63/63 [==============================] - 1s 21ms/sample - loss: 4.8746e-04 - mae: 0.0152 - val_loss: 0.0144 - val_mae: 0.0696 - lr: 1.0000e-05\n",
      "Epoch 31/100\n",
      "63/63 [==============================] - 1s 21ms/sample - loss: 4.6755e-04 - mae: 0.0149 - val_loss: 0.0144 - val_mae: 0.0696 - lr: 1.0000e-05\n",
      "Epoch 32/100\n",
      "63/63 [==============================] - 1s 21ms/sample - loss: 4.7865e-04 - mae: 0.0150 - val_loss: 0.0144 - val_mae: 0.0696 - lr: 1.0000e-05\n",
      "Epoch 33/100\n",
      "63/63 [==============================] - 1s 21ms/sample - loss: 4.6158e-04 - mae: 0.0148 - val_loss: 0.0144 - val_mae: 0.0696 - lr: 1.0000e-05\n",
      "Epoch 34/100\n",
      "63/63 [==============================] - 1s 21ms/sample - loss: 4.6737e-04 - mae: 0.0149 - val_loss: 0.0144 - val_mae: 0.0696 - lr: 1.0000e-05\n",
      "Epoch 35/100\n",
      "63/63 [==============================] - 1s 21ms/sample - loss: 4.6375e-04 - mae: 0.0148 - val_loss: 0.0144 - val_mae: 0.0696 - lr: 1.0000e-05\n",
      "Epoch 36/100\n",
      " 0/63 [..............................] - ETA: 0s - loss: 4.6872e-04 - mae: 0.0149\n",
      "Epoch 36: ReduceLROnPlateau reducing learning rate to 1.0000000656873453e-06.\n",
      "63/63 [==============================] - 1s 21ms/sample - loss: 4.7078e-04 - mae: 0.0149 - val_loss: 0.0144 - val_mae: 0.0696 - lr: 1.0000e-05\n",
      "Epoch 37/100\n",
      "63/63 [==============================] - 1s 21ms/sample - loss: 4.5201e-04 - mae: 0.0146 - val_loss: 0.0144 - val_mae: 0.0696 - lr: 1.0000e-06\n",
      "1/1 [==============================] - 2s 2s/step\n"
     ]
    }
   ],
   "source": [
    "opt_res = opt_conf(data, tune=True)  "
   ]
  },
  {
   "cell_type": "code",
   "execution_count": 8,
   "id": "d4181008",
   "metadata": {},
   "outputs": [
    {
     "name": "stdout",
     "output_type": "stream",
     "text": [
      "1 3_4_7_3_2_1 4.27\n",
      "2 3_4_7_3_1_1 4.35\n",
      "3 3_4_7_3_1_3 4.35\n",
      "4 3_4_7_3_2_3 4.39\n"
     ]
    }
   ],
   "source": [
    "# kern, layers, lstm, dense\n",
    "for pos, (k, (v, model_config)) in enumerate(sorted(opt_res.items(), key=lambda item: item[1])):\n",
    "    if pos==0:\n",
    "        best_model_config = model_config\n",
    "        best_file = k\n",
    "        \n",
    "    print(pos+1, k, round(v, 2))"
   ]
  },
  {
   "cell_type": "markdown",
   "id": "a0687c04",
   "metadata": {},
   "source": [
    "## Best Config"
   ]
  },
  {
   "cell_type": "code",
   "execution_count": 9,
   "id": "d5385783",
   "metadata": {},
   "outputs": [
    {
     "data": {
      "text/plain": [
       "{'activation': 'tanh',\n",
       " 'norm': True,\n",
       " 'n_layers': 3,\n",
       " 'kernel_sizes': (3, 4, 7),\n",
       " 'lstm': 2,\n",
       " 'dense': 1,\n",
       " 'reshape_out': False,\n",
       " 'epochs': 100,\n",
       " 'task': 'hamp_rot',\n",
       " 'version': '3_4_7_3_2_1',\n",
       " 'data_dir': '/home/users/sdunin/calc/HAMPpred/data/output/weights/hamp_rot/3_4_7_3_2_1'}"
      ]
     },
     "execution_count": 9,
     "metadata": {},
     "output_type": "execute_result"
    }
   ],
   "source": [
    "best_model_config"
   ]
  },
  {
   "cell_type": "code",
   "execution_count": 10,
   "id": "5f916320",
   "metadata": {},
   "outputs": [],
   "source": [
    "mod = get_mod(conf=best_model_config, version=best_file)"
   ]
  },
  {
   "cell_type": "markdown",
   "id": "72cc953f",
   "metadata": {},
   "source": [
    "# PDB set performance"
   ]
  },
  {
   "cell_type": "code",
   "execution_count": 11,
   "id": "3c8a096d",
   "metadata": {},
   "outputs": [],
   "source": [
    "test_data = pd.read_pickle(f'{DATA_DIR}/pdb_measure.p')"
   ]
  },
  {
   "cell_type": "code",
   "execution_count": 12,
   "id": "d8ed8519",
   "metadata": {},
   "outputs": [
    {
     "data": {
      "text/plain": [
       "11"
      ]
     },
     "execution_count": 12,
     "metadata": {},
     "output_type": "execute_result"
    }
   ],
   "source": [
    "test_data = pd.read_pickle(os.path.join(DATA_DIR, 'pdb_measure.p'))\n",
    "test_data = test_data[~test_data.mutant]\n",
    "test_data.rename(columns={'seq1':'n_seq', 'seq2':'c_seq', 'n_list':'n_crick_mut', 'c_list':'c_crick_mut'}, inplace=True)\n",
    "test_data['n_seq'] = test_data['n_seq'].apply(lambda x: x[1:-1])\n",
    "test_data['c_seq'] = test_data['c_seq'].apply(lambda x: x[1:-1])\n",
    "test_data['train_seq'] = test_data.apply(lambda x: x['n_seq'] + x['c_seq'], axis=1)\n",
    "len(test_data)"
   ]
  },
  {
   "cell_type": "code",
   "execution_count": 13,
   "id": "daa9ee05",
   "metadata": {},
   "outputs": [
    {
     "name": "stdout",
     "output_type": "stream",
     "text": [
      "WARNING:tensorflow:5 out of the last 5 calls to <function Model.make_predict_function.<locals>.predict_function at 0x7f98645253f0> triggered tf.function retracing. Tracing is expensive and the excessive number of tracings could be due to (1) creating @tf.function repeatedly in a loop, (2) passing tensors with different shapes, (3) passing Python objects instead of tensors. For (1), please define your @tf.function outside of the loop. For (2), @tf.function has reduce_retracing=True option that can avoid unnecessary retracing. For (3), please refer to https://www.tensorflow.org/guide/function#controlling_retracing and https://www.tensorflow.org/api_docs/python/tf/function for  more details.\n",
      "1/1 [==============================] - 2s 2s/step\n"
     ]
    }
   ],
   "source": [
    "seq = []\n",
    "tr = []\n",
    "for n,r in test_data.iterrows():\n",
    "    seq.append(r['n_seq'] + r['c_seq'])\n",
    "    tr.append(np.mean((r['rot'][0::2] + r['rot'][1::2]) / 2)/2)\n",
    "res = mod.predict(seq)\n",
    "pr = []\n",
    "for n,r in res.iterrows():\n",
    "    pr.append(np.mean(r['N_pred'])/2)"
   ]
  },
  {
   "cell_type": "code",
   "execution_count": 14,
   "id": "0e0039a9",
   "metadata": {},
   "outputs": [
    {
     "data": {
      "text/plain": [
       "Text(0.5, 1.0, 'HAMPpred predictions')"
      ]
     },
     "execution_count": 14,
     "metadata": {},
     "output_type": "execute_result"
    },
    {
     "data": {
      "image/png": "[encoded data removed]",
      "text/plain": [
       "<Figure size 800x800 with 1 Axes>"
      ]
     },
     "metadata": {
      "needs_background": "light"
     },
     "output_type": "display_data"
    }
   ],
   "source": [
    "title_font_size = 12\n",
    "label_font_size = 10\n",
    "tick_font_size = 8\n",
    "\n",
    "fig, ax = plt.subplots(1,1, figsize=(4, 4), dpi=200)\n",
    "\n",
    "colors = ['white' if i=='1_2l7i.pdb' else 'grey' for i in test_data.index]\n",
    "\n",
    "ax.scatter(pr, tr, color=colors, lw=0.75, edgecolors='k', s=50)\n",
    "\n",
    "ax.set_ylim(-26, 26)\n",
    "ax.set_xlim(-26, 26)\n",
    "ax.plot([0, 1], [0, 1], '--', transform=ax.transAxes, color='grey')\n",
    "\n",
    "ax.set_xlabel(r'Predicted rotation [$\\degree$]', size=label_font_size)\n",
    "ax.set_ylabel(r'Experimental structure rotation [$\\degree$]', size=label_font_size)\n",
    "\n",
    "ax.tick_params(axis='both', which='major', labelsize=tick_font_size)\n",
    "ax.tick_params(axis='both', which='minor', labelsize=tick_font_size)\n",
    "ax.set_title(\"HAMPpred predictions\", size=title_font_size)"
   ]
  },
  {
   "cell_type": "code",
   "execution_count": 15,
   "id": "161ec50c",
   "metadata": {},
   "outputs": [
    {
     "data": {
      "text/plain": [
       "5.070454741880346"
      ]
     },
     "execution_count": 15,
     "metadata": {},
     "output_type": "execute_result"
    }
   ],
   "source": [
    "np.mean((np.asarray(tr)-np.asarray(pr)) **2 ) ** 0.5"
   ]
  },
  {
   "cell_type": "code",
   "execution_count": null,
   "id": "25b63dbf",
   "metadata": {},
   "outputs": [],
   "source": []
  },
  {
   "cell_type": "code",
   "execution_count": null,
   "id": "c013c739",
   "metadata": {},
   "outputs": [],
   "source": []
  },
  {
   "cell_type": "code",
   "execution_count": null,
   "id": "0c55aece",
   "metadata": {},
   "outputs": [],
   "source": []
  },
  {
   "cell_type": "code",
   "execution_count": null,
   "id": "fc6cd53a",
   "metadata": {},
   "outputs": [],
   "source": []
  },
  {
   "cell_type": "code",
   "execution_count": null,
   "id": "c6a00dd6",
   "metadata": {},
   "outputs": [],
   "source": []
  }
 ],
 "metadata": {
  "kernelspec": {
   "display_name": "Python 3",
   "language": "python",
   "name": "python3"
  },
  "language_info": {
   "codemirror_mode": {
    "name": "ipython",
    "version": 3
   },
   "file_extension": ".py",
   "mimetype": "text/x-python",
   "name": "python",
   "nbconvert_exporter": "python",
   "pygments_lexer": "ipython3",
   "version": "3.10.4"
  }
 },
 "nbformat": 4,
 "nbformat_minor": 5
}
