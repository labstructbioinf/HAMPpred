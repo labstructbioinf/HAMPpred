{
 "cells": [
  {
   "cell_type": "code",
   "execution_count": 1,
   "id": "edd0a63a",
   "metadata": {},
   "outputs": [
    {
     "name": "stderr",
     "output_type": "stream",
     "text": [
      "2023-04-27 10:09:45.208963: I tensorflow/core/platform/cpu_feature_guard.cc:193] This TensorFlow binary is optimized with oneAPI Deep Neural Network Library (oneDNN) to use the following CPU instructions in performance-critical operations:  AVX2 FMA\n",
      "To enable them in other operations, rebuild TensorFlow with the appropriate compiler flags.\n",
      "2023-04-27 10:09:45.345851: E tensorflow/stream_executor/cuda/cuda_blas.cc:2981] Unable to register cuBLAS factory: Attempting to register factory for plugin cuBLAS when one has already been registered\n",
      "2023-04-27 10:09:45.914173: W tensorflow/stream_executor/platform/default/dso_loader.cc:64] Could not load dynamic library 'libnvinfer.so.7'; dlerror: libnvinfer.so.7: cannot open shared object file: No such file or directory\n",
      "2023-04-27 10:09:45.914271: W tensorflow/stream_executor/platform/default/dso_loader.cc:64] Could not load dynamic library 'libnvinfer_plugin.so.7'; dlerror: libnvinfer_plugin.so.7: cannot open shared object file: No such file or directory\n",
      "2023-04-27 10:09:45.914279: W tensorflow/compiler/tf2tensorrt/utils/py_utils.cc:38] TF-TRT Warning: Cannot dlopen some TensorRT libraries. If you would like to use Nvidia GPU with TensorRT, please make sure the missing libraries mentioned above are installed properly.\n"
     ]
    }
   ],
   "source": [
    "import sys\n",
    "import os\n",
    "import pandas as pd\n",
    "import numpy as np\n",
    "import matplotlib.pyplot as plt\n",
    "\n",
    "sys.path.append('../..')\n",
    "from hamp_pred.src.input_prep.prepare_sequence import MultiChainOperator, SeqWindow\n",
    "from hamp_pred.src.input_prep.encode import MultiEncoder, OneHotEncoderSeq, RadianEncoder #, MixedEncoder, \n",
    "from hamp_pred.src.input_prep.encode import RadiousPhobosEncoder\n",
    "from hamp_pred.src.predictor_config import PredictionConfig #,SEQ_ENCODING_EXTERNAL DEFAULT_CONF, \n",
    "from hamp_pred.src.models.common.models import BaseConvolutionalWrapper #, BaseLinearWrapper\n",
    "from hamp_pred.src.predictor import Predictor"
   ]
  },
  {
   "cell_type": "markdown",
   "id": "dd966887",
   "metadata": {},
   "source": [
    "## Prepare data"
   ]
  },
  {
   "cell_type": "code",
   "execution_count": 2,
   "id": "e41b843f",
   "metadata": {},
   "outputs": [],
   "source": [
    "DATA_DIR = '../../data/input'\n",
    "\n",
    "# data set contains train and validation sets\n",
    "# the val set is used for eraly stopping \n",
    "data = f'{DATA_DIR}/af2_clean_model_1.p'\n",
    "data = pd.read_pickle(data)\n",
    "data['n_seq'] = data['n_seq'].apply(lambda x: x[1:-1])\n",
    "data['c_seq'] = data['c_seq'].apply(lambda x: x[1:-1])\n",
    "data['train_seq'] = data.apply(lambda x: x['n_seq'] + x['c_seq'], axis=1)\n",
    "assert all(data['train_seq'].str.len() == 22)\n",
    "\n",
    "# separate test set used to pick the best model\n",
    "#data_test = f'{DATA_DIR}/af_clean_model_test.p'\n",
    "#data_test = pd.read_pickle(data_test)\n"
   ]
  },
  {
   "cell_type": "code",
   "execution_count": 3,
   "id": "c5f12335",
   "metadata": {},
   "outputs": [
    {
     "data": {
      "text/plain": [
       "train    3978\n",
       "val       994\n",
       "Name: class, dtype: int64"
      ]
     },
     "execution_count": 3,
     "metadata": {},
     "output_type": "execute_result"
    }
   ],
   "source": [
    "data['class'].value_counts()"
   ]
  },
  {
   "cell_type": "markdown",
   "id": "79fdae1e",
   "metadata": {},
   "source": [
    "## Train and validate"
   ]
  },
  {
   "cell_type": "code",
   "execution_count": 4,
   "id": "690f1c3e",
   "metadata": {},
   "outputs": [],
   "source": [
    "def get_rmse(val, mod):\n",
    "    seqs = list(val.train_seq)\n",
    "    tr=[]\n",
    "    for n,r in val.iterrows():\n",
    "        tr.append(np.mean((r['rot'][0::2] + r['rot'][1::2]) / 2)/2)\n",
    "    res = mod.predict(seqs)\n",
    "    pr = []\n",
    "    for n,r in res.iterrows():\n",
    "        pr.append(np.mean(r['N_pred'])/2)\n",
    "        \n",
    "    return np.mean((np.array(tr)-np.array(pr)) **2 ) ** 0.5"
   ]
  },
  {
   "cell_type": "code",
   "execution_count": 5,
   "id": "fc8ef27f",
   "metadata": {},
   "outputs": [],
   "source": [
    "def train(data, conf, version):\n",
    "    operator = MultiChainOperator(MultiEncoder([RadiousPhobosEncoder(), OneHotEncoderSeq()]), SeqWindow(11, 11), RadianEncoder(100),  SeqWindow(11, 11, null_char=[[0]]),\n",
    "                                          parallel=True)\n",
    "    conf = PredictionConfig(BaseConvolutionalWrapper, operator, conf)\n",
    "    mod = Predictor('hamp_rot', config=conf, version=version)\n",
    "    trained = mod.train(data)\n",
    "    return mod, trained\n",
    "\n",
    "def get_mod(conf=None, version=None):\n",
    "    operator = MultiChainOperator(MultiEncoder([RadiousPhobosEncoder(), OneHotEncoderSeq()]), SeqWindow(11, 11), RadianEncoder(100),  SeqWindow(11, 11, null_char=[[0]]),\n",
    "                                          parallel=True)\n",
    "    conf = PredictionConfig(BaseConvolutionalWrapper, operator, conf)\n",
    "    mod = Predictor('hamp_rot', config=conf, version=version)\n",
    "    return mod\n",
    "    "
   ]
  },
  {
   "cell_type": "code",
   "execution_count": 6,
   "id": "992c4f27",
   "metadata": {},
   "outputs": [],
   "source": [
    "def opt_conf(data, tune=False):\n",
    "    \n",
    "    # data: train and val (val for the eraly stopping)\n",
    "    \n",
    "    data_val = data[data['class'] == 'val']\n",
    "    \n",
    "    results = {}\n",
    "\n",
    "    # parameters grid\n",
    "    kernels = [(3, 4, 7)]\n",
    "    layers = [3]\n",
    "    lstm = [1, 2]\n",
    "    dense = [1, 3]\n",
    "    \n",
    "    for kern in kernels:\n",
    "        for l in layers:\n",
    "            for ls in lstm:\n",
    "                for d in dense:\n",
    "                    model_config = {\n",
    "                        'activation': 'tanh',\n",
    "                        'norm': True,\n",
    "                        'n_layers': l,\n",
    "                        'kernel_sizes': kern,\n",
    "                        'lstm': ls,\n",
    "                        'dense': d,\n",
    "                        'reshape_out': False,\n",
    "                        'epochs': 100\n",
    "                    }\n",
    "                    version = '_'.join([str(x) for x in [\"_\".join([str(i) for i in kern]), l, ls, d]])\n",
    "                    if tune:\n",
    "                        mod, trained = train(data, model_config, version)\n",
    "                    else:\n",
    "                        mod = get_mod(model_config, version)\n",
    "                        \n",
    "                    results[version] = (get_rmse(data_val, mod), model_config)\n",
    "    return results\n",
    "        "
   ]
  },
  {
   "cell_type": "markdown",
   "id": "08447003",
   "metadata": {},
   "source": [
    "## Tune hiperparameters"
   ]
  },
  {
   "cell_type": "code",
   "execution_count": 7,
   "id": "7c640d33",
   "metadata": {
    "scrolled": true
   },
   "outputs": [
    {
     "name": "stderr",
     "output_type": "stream",
     "text": [
      "2023-04-27 10:09:48.624403: I tensorflow/core/platform/cpu_feature_guard.cc:193] This TensorFlow binary is optimized with oneAPI Deep Neural Network Library (oneDNN) to use the following CPU instructions in performance-critical operations:  AVX2 FMA\n",
      "To enable them in other operations, rebuild TensorFlow with the appropriate compiler flags.\n",
      "2023-04-27 10:09:49.196704: I tensorflow/core/common_runtime/gpu/gpu_device.cc:1616] Created device /job:localhost/replica:0/task:0/device:GPU:0 with 7380 MB memory:  -> device: 0, name: NVIDIA GeForce GTX 1080, pci bus id: 0000:01:00.0, compute capability: 6.1\n"
     ]
    },
    {
     "name": "stdout",
     "output_type": "stream",
     "text": [
      "WARNING:tensorflow:`epsilon` argument is deprecated and will be removed, use `min_delta` instead.\n",
      "Epoch 1/100\n"
     ]
    },
    {
     "name": "stderr",
     "output_type": "stream",
     "text": [
      "2023-04-27 10:09:53.858462: I tensorflow/stream_executor/cuda/cuda_dnn.cc:384] Loaded cuDNN version 8204\n",
      "2023-04-27 10:09:54.097797: I tensorflow/core/platform/default/subprocess.cc:304] Start cannot spawn child process: No such file or directory\n",
      "2023-04-27 10:09:54.098269: I tensorflow/core/platform/default/subprocess.cc:304] Start cannot spawn child process: No such file or directory\n",
      "2023-04-27 10:09:54.098292: W tensorflow/stream_executor/gpu/asm_compiler.cc:80] Couldn't get ptxas version string: INTERNAL: Couldn't invoke ptxas --version\n",
      "2023-04-27 10:09:54.098895: I tensorflow/core/platform/default/subprocess.cc:304] Start cannot spawn child process: No such file or directory\n",
      "2023-04-27 10:09:54.098951: W tensorflow/stream_executor/gpu/redzone_allocator.cc:314] INTERNAL: Failed to launch ptxas\n",
      "Relying on driver to perform ptx compilation. \n",
      "Modify $PATH to customize ptxas location.\n",
      "This message will be only logged once.\n"
     ]
    },
    {
     "name": "stdout",
     "output_type": "stream",
     "text": [
      "63/63 [==============================] - 7s 109ms/sample - loss: 0.0359 - mae: 0.1095 - val_loss: 0.0490 - val_mae: 0.1492 - lr: 0.0010\n",
      "Epoch 2/100\n",
      "63/63 [==============================] - 1s 21ms/sample - loss: 0.0162 - mae: 0.0788 - val_loss: 0.0182 - val_mae: 0.0851 - lr: 0.0010\n",
      "Epoch 3/100\n",
      "63/63 [==============================] - 1s 21ms/sample - loss: 0.0120 - mae: 0.0688 - val_loss: 0.0174 - val_mae: 0.0833 - lr: 0.0010\n",
      "Epoch 4/100\n",
      "63/63 [==============================] - 1s 21ms/sample - loss: 0.0092 - mae: 0.0617 - val_loss: 0.0164 - val_mae: 0.0785 - lr: 0.0010\n",
      "Epoch 5/100\n",
      "63/63 [==============================] - 1s 18ms/sample - loss: 0.0069 - mae: 0.0546 - val_loss: 0.0175 - val_mae: 0.0789 - lr: 0.0010\n",
      "Epoch 6/100\n",
      "63/63 [==============================] - 1s 21ms/sample - loss: 0.0053 - mae: 0.0484 - val_loss: 0.0162 - val_mae: 0.0776 - lr: 0.0010\n",
      "Epoch 7/100\n",
      "63/63 [==============================] - 1s 18ms/sample - loss: 0.0043 - mae: 0.0440 - val_loss: 0.0168 - val_mae: 0.0768 - lr: 0.0010\n",
      "Epoch 8/100\n",
      "63/63 [==============================] - 1s 20ms/sample - loss: 0.0037 - mae: 0.0411 - val_loss: 0.0162 - val_mae: 0.0756 - lr: 0.0010\n",
      "Epoch 9/100\n",
      "63/63 [==============================] - 1s 18ms/sample - loss: 0.0035 - mae: 0.0398 - val_loss: 0.0163 - val_mae: 0.0796 - lr: 0.0010\n",
      "Epoch 10/100\n",
      "63/63 [==============================] - 1s 20ms/sample - loss: 0.0029 - mae: 0.0368 - val_loss: 0.0156 - val_mae: 0.0755 - lr: 0.0010\n",
      "Epoch 11/100\n",
      "63/63 [==============================] - 1s 18ms/sample - loss: 0.0026 - mae: 0.0346 - val_loss: 0.0159 - val_mae: 0.0760 - lr: 0.0010\n",
      "Epoch 12/100\n",
      "63/63 [==============================] - 1s 18ms/sample - loss: 0.0026 - mae: 0.0348 - val_loss: 0.0162 - val_mae: 0.0783 - lr: 0.0010\n",
      "Epoch 13/100\n",
      "63/63 [==============================] - 1s 20ms/sample - loss: 0.0028 - mae: 0.0363 - val_loss: 0.0155 - val_mae: 0.0746 - lr: 0.0010\n",
      "Epoch 14/100\n",
      "63/63 [==============================] - 1s 20ms/sample - loss: 0.0022 - mae: 0.0324 - val_loss: 0.0151 - val_mae: 0.0733 - lr: 0.0010\n",
      "Epoch 15/100\n",
      "63/63 [==============================] - 1s 18ms/sample - loss: 0.0022 - mae: 0.0322 - val_loss: 0.0155 - val_mae: 0.0746 - lr: 0.0010\n",
      "Epoch 16/100\n",
      "63/63 [==============================] - 1s 18ms/sample - loss: 0.0019 - mae: 0.0303 - val_loss: 0.0152 - val_mae: 0.0732 - lr: 0.0010\n",
      "Epoch 17/100\n",
      "63/63 [==============================] - 1s 21ms/sample - loss: 0.0019 - mae: 0.0298 - val_loss: 0.0150 - val_mae: 0.0732 - lr: 0.0010\n",
      "Epoch 18/100\n",
      "63/63 [==============================] - 1s 18ms/sample - loss: 0.0018 - mae: 0.0293 - val_loss: 0.0152 - val_mae: 0.0742 - lr: 0.0010\n",
      "Epoch 19/100\n",
      "63/63 [==============================] - 1s 18ms/sample - loss: 0.0018 - mae: 0.0291 - val_loss: 0.0154 - val_mae: 0.0750 - lr: 0.0010\n",
      "Epoch 20/100\n",
      "63/63 [==============================] - 1s 18ms/sample - loss: 0.0021 - mae: 0.0310 - val_loss: 0.0156 - val_mae: 0.0757 - lr: 0.0010\n",
      "Epoch 21/100\n",
      " 0/63 [..............................] - ETA: 0s - loss: 0.0019 - mae: 0.0298\n",
      "Epoch 21: ReduceLROnPlateau reducing learning rate to 0.00010000000474974513.\n",
      "63/63 [==============================] - 1s 18ms/sample - loss: 0.0019 - mae: 0.0297 - val_loss: 0.0153 - val_mae: 0.0733 - lr: 0.0010\n",
      "Epoch 22/100\n",
      "63/63 [==============================] - 1s 18ms/sample - loss: 0.0012 - mae: 0.0235 - val_loss: 0.0153 - val_mae: 0.0722 - lr: 1.0000e-04\n",
      "Epoch 23/100\n",
      "63/63 [==============================] - 1s 20ms/sample - loss: 9.0976e-04 - mae: 0.0211 - val_loss: 0.0148 - val_mae: 0.0717 - lr: 1.0000e-04\n",
      "Epoch 24/100\n",
      "63/63 [==============================] - 1s 20ms/sample - loss: 8.3386e-04 - mae: 0.0203 - val_loss: 0.0147 - val_mae: 0.0717 - lr: 1.0000e-04\n",
      "Epoch 25/100\n",
      "63/63 [==============================] - 1s 18ms/sample - loss: 7.2606e-04 - mae: 0.0191 - val_loss: 0.0150 - val_mae: 0.0716 - lr: 1.0000e-04\n",
      "Epoch 26/100\n",
      "63/63 [==============================] - 1s 18ms/sample - loss: 6.7975e-04 - mae: 0.0185 - val_loss: 0.0148 - val_mae: 0.0714 - lr: 1.0000e-04\n",
      "Epoch 27/100\n",
      "63/63 [==============================] - 1s 20ms/sample - loss: 6.4887e-04 - mae: 0.0181 - val_loss: 0.0147 - val_mae: 0.0714 - lr: 1.0000e-04\n",
      "Epoch 28/100\n",
      "63/63 [==============================] - 1s 18ms/sample - loss: 6.0902e-04 - mae: 0.0177 - val_loss: 0.0151 - val_mae: 0.0717 - lr: 1.0000e-04\n",
      "Epoch 29/100\n",
      "63/63 [==============================] - 1s 21ms/sample - loss: 6.2685e-04 - mae: 0.0179 - val_loss: 0.0147 - val_mae: 0.0715 - lr: 1.0000e-04\n",
      "Epoch 30/100\n",
      " 0/63 [..............................] - ETA: 0s - loss: 5.6225e-04 - mae: 0.0170\n",
      "Epoch 30: ReduceLROnPlateau reducing learning rate to 1.0000000474974514e-05.\n",
      "63/63 [==============================] - 1s 20ms/sample - loss: 5.6314e-04 - mae: 0.0170 - val_loss: 0.0147 - val_mae: 0.0714 - lr: 1.0000e-04\n",
      "Epoch 31/100\n",
      "63/63 [==============================] - 1s 18ms/sample - loss: 5.1606e-04 - mae: 0.0163 - val_loss: 0.0147 - val_mae: 0.0713 - lr: 1.0000e-05\n",
      "Epoch 32/100\n",
      "63/63 [==============================] - 1s 18ms/sample - loss: 5.0941e-04 - mae: 0.0162 - val_loss: 0.0147 - val_mae: 0.0713 - lr: 1.0000e-05\n",
      "Epoch 33/100\n",
      "63/63 [==============================] - 1s 18ms/sample - loss: 5.2144e-04 - mae: 0.0164 - val_loss: 0.0147 - val_mae: 0.0713 - lr: 1.0000e-05\n",
      "Epoch 34/100\n",
      "63/63 [==============================] - 1s 18ms/sample - loss: 5.3599e-04 - mae: 0.0165 - val_loss: 0.0147 - val_mae: 0.0713 - lr: 1.0000e-05\n",
      "Epoch 35/100\n",
      "63/63 [==============================] - 1s 18ms/sample - loss: 5.1613e-04 - mae: 0.0163 - val_loss: 0.0148 - val_mae: 0.0713 - lr: 1.0000e-05\n",
      "Epoch 36/100\n",
      "63/63 [==============================] - 1s 18ms/sample - loss: 5.1574e-04 - mae: 0.0163 - val_loss: 0.0147 - val_mae: 0.0714 - lr: 1.0000e-05\n",
      "Epoch 37/100\n",
      " 0/63 [..............................] - ETA: 0s - loss: 5.4186e-04 - mae: 0.0167\n",
      "Epoch 37: ReduceLROnPlateau reducing learning rate to 1.0000000656873453e-06.\n",
      "63/63 [==============================] - 1s 18ms/sample - loss: 5.4296e-04 - mae: 0.0167 - val_loss: 0.0147 - val_mae: 0.0713 - lr: 1.0000e-05\n",
      "Epoch 38/100\n",
      "63/63 [==============================] - 1s 18ms/sample - loss: 5.0316e-04 - mae: 0.0161 - val_loss: 0.0147 - val_mae: 0.0713 - lr: 1.0000e-06\n",
      "Epoch 39/100\n",
      "63/63 [==============================] - 1s 18ms/sample - loss: 5.1974e-04 - mae: 0.0164 - val_loss: 0.0147 - val_mae: 0.0713 - lr: 1.0000e-06\n",
      "Epoch 40/100\n",
      "63/63 [==============================] - 1s 18ms/sample - loss: 5.3114e-04 - mae: 0.0165 - val_loss: 0.0147 - val_mae: 0.0713 - lr: 1.0000e-06\n",
      "Epoch 41/100\n",
      "63/63 [==============================] - 1s 18ms/sample - loss: 4.9330e-04 - mae: 0.0160 - val_loss: 0.0147 - val_mae: 0.0713 - lr: 1.0000e-06\n",
      "Epoch 42/100\n",
      "63/63 [==============================] - 1s 18ms/sample - loss: 5.0607e-04 - mae: 0.0162 - val_loss: 0.0147 - val_mae: 0.0713 - lr: 1.0000e-06\n",
      "Epoch 43/100\n",
      "63/63 [==============================] - 1s 18ms/sample - loss: 4.9217e-04 - mae: 0.0159 - val_loss: 0.0147 - val_mae: 0.0713 - lr: 1.0000e-06\n",
      "Epoch 44/100\n",
      " 0/63 [..............................] - ETA: 0s - loss: 5.0515e-04 - mae: 0.0161\n",
      "Epoch 44: ReduceLROnPlateau reducing learning rate to 1.0000001111620805e-07.\n",
      "63/63 [==============================] - 1s 18ms/sample - loss: 5.0729e-04 - mae: 0.0161 - val_loss: 0.0147 - val_mae: 0.0713 - lr: 1.0000e-06\n",
      "Epoch 45/100\n",
      "63/63 [==============================] - 1s 18ms/sample - loss: 5.0694e-04 - mae: 0.0162 - val_loss: 0.0147 - val_mae: 0.0713 - lr: 1.0000e-07\n",
      "1/1 [==============================] - 1s 838ms/step\n",
      "WARNING:tensorflow:`epsilon` argument is deprecated and will be removed, use `min_delta` instead.\n",
      "Epoch 1/100\n",
      "63/63 [==============================] - 6s 91ms/sample - loss: 0.0398 - mae: 0.1155 - val_loss: 0.0209 - val_mae: 0.0889 - lr: 0.0010\n",
      "Epoch 2/100\n",
      "63/63 [==============================] - 1s 19ms/sample - loss: 0.0160 - mae: 0.0778 - val_loss: 0.0232 - val_mae: 0.0988 - lr: 0.0010\n",
      "Epoch 3/100\n",
      "63/63 [==============================] - 1s 21ms/sample - loss: 0.0116 - mae: 0.0671 - val_loss: 0.0178 - val_mae: 0.0818 - lr: 0.0010\n",
      "Epoch 4/100\n",
      "63/63 [==============================] - 1s 22ms/sample - loss: 0.0095 - mae: 0.0630 - val_loss: 0.0160 - val_mae: 0.0760 - lr: 0.0010\n"
     ]
    },
    {
     "name": "stdout",
     "output_type": "stream",
     "text": [
      "Epoch 5/100\n",
      "63/63 [==============================] - 1s 19ms/sample - loss: 0.0061 - mae: 0.0514 - val_loss: 0.0165 - val_mae: 0.0785 - lr: 0.0010\n",
      "Epoch 6/100\n",
      "63/63 [==============================] - 1s 19ms/sample - loss: 0.0049 - mae: 0.0464 - val_loss: 0.0160 - val_mae: 0.0783 - lr: 0.0010\n",
      "Epoch 7/100\n",
      "63/63 [==============================] - 1s 22ms/sample - loss: 0.0039 - mae: 0.0412 - val_loss: 0.0155 - val_mae: 0.0735 - lr: 0.0010\n",
      "Epoch 8/100\n",
      "63/63 [==============================] - 1s 19ms/sample - loss: 0.0033 - mae: 0.0383 - val_loss: 0.0170 - val_mae: 0.0774 - lr: 0.0010\n",
      "Epoch 9/100\n",
      "63/63 [==============================] - 1s 22ms/sample - loss: 0.0032 - mae: 0.0376 - val_loss: 0.0154 - val_mae: 0.0745 - lr: 0.0010\n",
      "Epoch 10/100\n",
      "63/63 [==============================] - 1s 19ms/sample - loss: 0.0028 - mae: 0.0357 - val_loss: 0.0162 - val_mae: 0.0747 - lr: 0.0010\n",
      "Epoch 11/100\n",
      "63/63 [==============================] - 1s 19ms/sample - loss: 0.0026 - mae: 0.0344 - val_loss: 0.0157 - val_mae: 0.0742 - lr: 0.0010\n",
      "Epoch 12/100\n",
      "63/63 [==============================] - 1s 19ms/sample - loss: 0.0027 - mae: 0.0348 - val_loss: 0.0159 - val_mae: 0.0736 - lr: 0.0010\n",
      "Epoch 13/100\n",
      "63/63 [==============================] - 1s 19ms/sample - loss: 0.0025 - mae: 0.0339 - val_loss: 0.0167 - val_mae: 0.0787 - lr: 0.0010\n",
      "Epoch 14/100\n",
      "63/63 [==============================] - 1s 19ms/sample - loss: 0.0022 - mae: 0.0315 - val_loss: 0.0155 - val_mae: 0.0731 - lr: 0.0010\n",
      "Epoch 15/100\n",
      "63/63 [==============================] - 1s 19ms/sample - loss: 0.0020 - mae: 0.0297 - val_loss: 0.0157 - val_mae: 0.0743 - lr: 0.0010\n",
      "Epoch 16/100\n",
      " 0/63 [..............................] - ETA: 0s - loss: 0.0018 - mae: 0.0285\n",
      "Epoch 16: ReduceLROnPlateau reducing learning rate to 0.00010000000474974513.\n",
      "63/63 [==============================] - 1s 22ms/sample - loss: 0.0018 - mae: 0.0285 - val_loss: 0.0153 - val_mae: 0.0722 - lr: 0.0010\n",
      "Epoch 17/100\n",
      "63/63 [==============================] - 1s 21ms/sample - loss: 0.0011 - mae: 0.0226 - val_loss: 0.0146 - val_mae: 0.0703 - lr: 1.0000e-04\n",
      "Epoch 18/100\n",
      "63/63 [==============================] - 1s 22ms/sample - loss: 8.8807e-04 - mae: 0.0203 - val_loss: 0.0146 - val_mae: 0.0704 - lr: 1.0000e-04\n",
      "Epoch 19/100\n",
      "63/63 [==============================] - 1s 19ms/sample - loss: 7.9989e-04 - mae: 0.0193 - val_loss: 0.0146 - val_mae: 0.0702 - lr: 1.0000e-04\n",
      "Epoch 20/100\n",
      "63/63 [==============================] - 1s 19ms/sample - loss: 7.1916e-04 - mae: 0.0185 - val_loss: 0.0146 - val_mae: 0.0703 - lr: 1.0000e-04\n",
      "Epoch 21/100\n",
      "63/63 [==============================] - 1s 19ms/sample - loss: 6.9017e-04 - mae: 0.0181 - val_loss: 0.0147 - val_mae: 0.0702 - lr: 1.0000e-04\n",
      "Epoch 22/100\n",
      "63/63 [==============================] - 1s 19ms/sample - loss: 6.3456e-04 - mae: 0.0174 - val_loss: 0.0147 - val_mae: 0.0701 - lr: 1.0000e-04\n",
      "Epoch 23/100\n",
      "63/63 [==============================] - 1s 19ms/sample - loss: 6.4025e-04 - mae: 0.0175 - val_loss: 0.0146 - val_mae: 0.0702 - lr: 1.0000e-04\n",
      "Epoch 24/100\n",
      " 0/63 [..............................] - ETA: 0s - loss: 5.7724e-04 - mae: 0.0167\n",
      "Epoch 24: ReduceLROnPlateau reducing learning rate to 1.0000000474974514e-05.\n",
      "63/63 [==============================] - 1s 19ms/sample - loss: 5.7835e-04 - mae: 0.0167 - val_loss: 0.0146 - val_mae: 0.0704 - lr: 1.0000e-04\n",
      "Epoch 25/100\n",
      "63/63 [==============================] - 1s 19ms/sample - loss: 5.3455e-04 - mae: 0.0161 - val_loss: 0.0147 - val_mae: 0.0702 - lr: 1.0000e-05\n",
      "Epoch 26/100\n",
      "63/63 [==============================] - 1s 19ms/sample - loss: 5.3183e-04 - mae: 0.0160 - val_loss: 0.0146 - val_mae: 0.0702 - lr: 1.0000e-05\n",
      "Epoch 27/100\n",
      "63/63 [==============================] - 1s 19ms/sample - loss: 5.2646e-04 - mae: 0.0159 - val_loss: 0.0146 - val_mae: 0.0702 - lr: 1.0000e-05\n",
      "Epoch 28/100\n",
      "63/63 [==============================] - 1s 18ms/sample - loss: 5.3714e-04 - mae: 0.0161 - val_loss: 0.0146 - val_mae: 0.0703 - lr: 1.0000e-05\n",
      "Epoch 29/100\n",
      "63/63 [==============================] - 1s 19ms/sample - loss: 5.2534e-04 - mae: 0.0159 - val_loss: 0.0147 - val_mae: 0.0702 - lr: 1.0000e-05\n",
      "Epoch 30/100\n",
      "63/63 [==============================] - 1s 19ms/sample - loss: 5.3751e-04 - mae: 0.0160 - val_loss: 0.0146 - val_mae: 0.0702 - lr: 1.0000e-05\n",
      "Epoch 31/100\n",
      " 0/63 [..............................] - ETA: 0s - loss: 5.3606e-04 - mae: 0.0161\n",
      "Epoch 31: ReduceLROnPlateau reducing learning rate to 1.0000000656873453e-06.\n",
      "63/63 [==============================] - 1s 19ms/sample - loss: 5.3740e-04 - mae: 0.0161 - val_loss: 0.0146 - val_mae: 0.0702 - lr: 1.0000e-05\n",
      "Epoch 32/100\n",
      "63/63 [==============================] - 1s 19ms/sample - loss: 5.1936e-04 - mae: 0.0158 - val_loss: 0.0146 - val_mae: 0.0702 - lr: 1.0000e-06\n",
      "Epoch 33/100\n",
      "63/63 [==============================] - 1s 19ms/sample - loss: 5.1526e-04 - mae: 0.0158 - val_loss: 0.0146 - val_mae: 0.0702 - lr: 1.0000e-06\n",
      "1/1 [==============================] - 1s 790ms/step\n",
      "WARNING:tensorflow:`epsilon` argument is deprecated and will be removed, use `min_delta` instead.\n",
      "Epoch 1/100\n",
      "63/63 [==============================] - 9s 135ms/sample - loss: 0.0360 - mae: 0.1109 - val_loss: 0.0265 - val_mae: 0.1071 - lr: 0.0010\n",
      "Epoch 2/100\n",
      "63/63 [==============================] - 2s 25ms/sample - loss: 0.0147 - mae: 0.0753 - val_loss: 0.0178 - val_mae: 0.0824 - lr: 0.0010\n",
      "Epoch 3/100\n",
      "63/63 [==============================] - 2s 25ms/sample - loss: 0.0108 - mae: 0.0653 - val_loss: 0.0164 - val_mae: 0.0775 - lr: 0.0010\n",
      "Epoch 4/100\n",
      "63/63 [==============================] - 2s 25ms/sample - loss: 0.0078 - mae: 0.0564 - val_loss: 0.0157 - val_mae: 0.0755 - lr: 0.0010\n",
      "Epoch 5/100\n",
      "63/63 [==============================] - 2s 25ms/sample - loss: 0.0059 - mae: 0.0502 - val_loss: 0.0153 - val_mae: 0.0757 - lr: 0.0010\n",
      "Epoch 6/100\n",
      "63/63 [==============================] - 1s 22ms/sample - loss: 0.0048 - mae: 0.0460 - val_loss: 0.0156 - val_mae: 0.0747 - lr: 0.0010\n",
      "Epoch 7/100\n",
      "63/63 [==============================] - 2s 25ms/sample - loss: 0.0042 - mae: 0.0431 - val_loss: 0.0152 - val_mae: 0.0751 - lr: 0.0010\n",
      "Epoch 8/100\n",
      "63/63 [==============================] - 2s 25ms/sample - loss: 0.0033 - mae: 0.0388 - val_loss: 0.0150 - val_mae: 0.0733 - lr: 0.0010\n",
      "Epoch 9/100\n",
      "63/63 [==============================] - 2s 25ms/sample - loss: 0.0036 - mae: 0.0404 - val_loss: 0.0150 - val_mae: 0.0737 - lr: 0.0010\n",
      "Epoch 10/100\n",
      "63/63 [==============================] - 1s 22ms/sample - loss: 0.0036 - mae: 0.0406 - val_loss: 0.0150 - val_mae: 0.0732 - lr: 0.0010\n",
      "Epoch 11/100\n",
      "63/63 [==============================] - 1s 22ms/sample - loss: 0.0029 - mae: 0.0354 - val_loss: 0.0156 - val_mae: 0.0749 - lr: 0.0010\n",
      "Epoch 12/100\n",
      "63/63 [==============================] - 2s 25ms/sample - loss: 0.0022 - mae: 0.0316 - val_loss: 0.0146 - val_mae: 0.0711 - lr: 0.0010\n",
      "Epoch 13/100\n",
      "63/63 [==============================] - 1s 22ms/sample - loss: 0.0020 - mae: 0.0296 - val_loss: 0.0190 - val_mae: 0.0881 - lr: 0.0010\n",
      "Epoch 14/100\n",
      "63/63 [==============================] - 1s 22ms/sample - loss: 0.0026 - mae: 0.0351 - val_loss: 0.0148 - val_mae: 0.0740 - lr: 0.0010\n",
      "Epoch 15/100\n",
      "63/63 [==============================] - 1s 22ms/sample - loss: 0.0024 - mae: 0.0333 - val_loss: 0.0155 - val_mae: 0.0743 - lr: 0.0010\n",
      "Epoch 16/100\n",
      "63/63 [==============================] - 1s 22ms/sample - loss: 0.0027 - mae: 0.0354 - val_loss: 0.0155 - val_mae: 0.0771 - lr: 0.0010\n",
      "Epoch 17/100\n",
      "63/63 [==============================] - 1s 22ms/sample - loss: 0.0021 - mae: 0.0305 - val_loss: 0.0146 - val_mae: 0.0715 - lr: 0.0010\n",
      "Epoch 18/100\n",
      "63/63 [==============================] - 2s 25ms/sample - loss: 0.0016 - mae: 0.0266 - val_loss: 0.0145 - val_mae: 0.0714 - lr: 0.0010\n",
      "Epoch 19/100\n",
      "63/63 [==============================] - 2s 25ms/sample - loss: 0.0014 - mae: 0.0254 - val_loss: 0.0144 - val_mae: 0.0708 - lr: 0.0010\n",
      "Epoch 20/100\n",
      "63/63 [==============================] - 1s 22ms/sample - loss: 0.0014 - mae: 0.0253 - val_loss: 0.0144 - val_mae: 0.0716 - lr: 0.0010\n",
      "Epoch 21/100\n",
      "63/63 [==============================] - 1s 22ms/sample - loss: 0.0013 - mae: 0.0242 - val_loss: 0.0146 - val_mae: 0.0709 - lr: 0.0010\n",
      "Epoch 22/100\n"
     ]
    },
    {
     "name": "stdout",
     "output_type": "stream",
     "text": [
      "63/63 [==============================] - 1s 22ms/sample - loss: 0.0022 - mae: 0.0295 - val_loss: 0.0150 - val_mae: 0.0720 - lr: 0.0010\n",
      "Epoch 23/100\n",
      "63/63 [==============================] - 1s 22ms/sample - loss: 0.0016 - mae: 0.0272 - val_loss: 0.0148 - val_mae: 0.0711 - lr: 0.0010\n",
      "Epoch 24/100\n",
      "63/63 [==============================] - 1s 22ms/sample - loss: 0.0013 - mae: 0.0245 - val_loss: 0.0144 - val_mae: 0.0716 - lr: 0.0010\n",
      "Epoch 25/100\n",
      "63/63 [==============================] - 1s 22ms/sample - loss: 0.0015 - mae: 0.0264 - val_loss: 0.0150 - val_mae: 0.0721 - lr: 0.0010\n",
      "Epoch 26/100\n",
      " 0/63 [..............................] - ETA: 0s - loss: 0.0013 - mae: 0.0246\n",
      "Epoch 26: ReduceLROnPlateau reducing learning rate to 0.00010000000474974513.\n",
      "63/63 [==============================] - 1s 22ms/sample - loss: 0.0013 - mae: 0.0246 - val_loss: 0.0148 - val_mae: 0.0713 - lr: 0.0010\n",
      "Epoch 27/100\n",
      "63/63 [==============================] - 2s 25ms/sample - loss: 8.3983e-04 - mae: 0.0197 - val_loss: 0.0141 - val_mae: 0.0693 - lr: 1.0000e-04\n",
      "Epoch 28/100\n",
      "63/63 [==============================] - 2s 25ms/sample - loss: 6.7076e-04 - mae: 0.0178 - val_loss: 0.0141 - val_mae: 0.0695 - lr: 1.0000e-04\n",
      "Epoch 29/100\n",
      "63/63 [==============================] - 1s 22ms/sample - loss: 5.6522e-04 - mae: 0.0164 - val_loss: 0.0141 - val_mae: 0.0693 - lr: 1.0000e-04\n",
      "Epoch 30/100\n",
      "63/63 [==============================] - 1s 22ms/sample - loss: 5.1097e-04 - mae: 0.0157 - val_loss: 0.0141 - val_mae: 0.0693 - lr: 1.0000e-04\n",
      "Epoch 31/100\n",
      "63/63 [==============================] - 1s 22ms/sample - loss: 5.0280e-04 - mae: 0.0156 - val_loss: 0.0141 - val_mae: 0.0692 - lr: 1.0000e-04\n",
      "Epoch 32/100\n",
      "63/63 [==============================] - 1s 22ms/sample - loss: 4.6535e-04 - mae: 0.0150 - val_loss: 0.0141 - val_mae: 0.0692 - lr: 1.0000e-04\n",
      "Epoch 33/100\n",
      "63/63 [==============================] - 2s 25ms/sample - loss: 4.6585e-04 - mae: 0.0150 - val_loss: 0.0140 - val_mae: 0.0696 - lr: 1.0000e-04\n",
      "Epoch 34/100\n",
      " 0/63 [..............................] - ETA: 0s - loss: 3.9826e-04 - mae: 0.0139\n",
      "Epoch 34: ReduceLROnPlateau reducing learning rate to 1.0000000474974514e-05.\n",
      "63/63 [==============================] - 1s 22ms/sample - loss: 3.9658e-04 - mae: 0.0139 - val_loss: 0.0140 - val_mae: 0.0693 - lr: 1.0000e-04\n",
      "Epoch 35/100\n",
      "63/63 [==============================] - 1s 22ms/sample - loss: 3.8210e-04 - mae: 0.0137 - val_loss: 0.0141 - val_mae: 0.0692 - lr: 1.0000e-05\n",
      "Epoch 36/100\n",
      "63/63 [==============================] - 1s 22ms/sample - loss: 3.8958e-04 - mae: 0.0138 - val_loss: 0.0141 - val_mae: 0.0692 - lr: 1.0000e-05\n",
      "Epoch 37/100\n",
      "63/63 [==============================] - 1s 22ms/sample - loss: 3.8334e-04 - mae: 0.0137 - val_loss: 0.0141 - val_mae: 0.0692 - lr: 1.0000e-05\n",
      "Epoch 38/100\n",
      "63/63 [==============================] - 1s 22ms/sample - loss: 3.7511e-04 - mae: 0.0135 - val_loss: 0.0141 - val_mae: 0.0692 - lr: 1.0000e-05\n",
      "Epoch 39/100\n",
      "63/63 [==============================] - 1s 22ms/sample - loss: 3.7966e-04 - mae: 0.0136 - val_loss: 0.0141 - val_mae: 0.0692 - lr: 1.0000e-05\n",
      "Epoch 40/100\n",
      "63/63 [==============================] - 1s 22ms/sample - loss: 3.8182e-04 - mae: 0.0136 - val_loss: 0.0141 - val_mae: 0.0692 - lr: 1.0000e-05\n",
      "Epoch 41/100\n",
      " 0/63 [..............................] - ETA: 0s - loss: 3.7692e-04 - mae: 0.0136\n",
      "Epoch 41: ReduceLROnPlateau reducing learning rate to 1.0000000656873453e-06.\n",
      "63/63 [==============================] - 1s 22ms/sample - loss: 3.7631e-04 - mae: 0.0136 - val_loss: 0.0141 - val_mae: 0.0692 - lr: 1.0000e-05\n",
      "Epoch 42/100\n",
      "63/63 [==============================] - 1s 22ms/sample - loss: 3.8802e-04 - mae: 0.0137 - val_loss: 0.0141 - val_mae: 0.0692 - lr: 1.0000e-06\n",
      "Epoch 43/100\n",
      "63/63 [==============================] - 1s 22ms/sample - loss: 3.8224e-04 - mae: 0.0136 - val_loss: 0.0141 - val_mae: 0.0692 - lr: 1.0000e-06\n",
      "Epoch 44/100\n",
      "63/63 [==============================] - 1s 22ms/sample - loss: 3.8187e-04 - mae: 0.0137 - val_loss: 0.0141 - val_mae: 0.0692 - lr: 1.0000e-06\n",
      "Epoch 45/100\n",
      "63/63 [==============================] - 1s 22ms/sample - loss: 3.7002e-04 - mae: 0.0134 - val_loss: 0.0141 - val_mae: 0.0692 - lr: 1.0000e-06\n",
      "Epoch 46/100\n",
      "63/63 [==============================] - 1s 22ms/sample - loss: 3.6820e-04 - mae: 0.0134 - val_loss: 0.0141 - val_mae: 0.0692 - lr: 1.0000e-06\n",
      "Epoch 47/100\n",
      "63/63 [==============================] - 1s 22ms/sample - loss: 3.6365e-04 - mae: 0.0133 - val_loss: 0.0141 - val_mae: 0.0692 - lr: 1.0000e-06\n",
      "Epoch 48/100\n",
      " 0/63 [..............................] - ETA: 0s - loss: 3.6469e-04 - mae: 0.0133\n",
      "Epoch 48: ReduceLROnPlateau reducing learning rate to 1.0000001111620805e-07.\n",
      "63/63 [==============================] - 1s 22ms/sample - loss: 3.6497e-04 - mae: 0.0133 - val_loss: 0.0141 - val_mae: 0.0692 - lr: 1.0000e-06\n",
      "1/1 [==============================] - 1s 1s/step\n",
      "WARNING:tensorflow:`epsilon` argument is deprecated and will be removed, use `min_delta` instead.\n",
      "Epoch 1/100\n",
      "63/63 [==============================] - 9s 138ms/sample - loss: 0.0431 - mae: 0.1193 - val_loss: 0.0236 - val_mae: 0.0964 - lr: 0.0010\n",
      "Epoch 2/100\n",
      "63/63 [==============================] - 2s 26ms/sample - loss: 0.0153 - mae: 0.0766 - val_loss: 0.0188 - val_mae: 0.0860 - lr: 0.0010\n",
      "Epoch 3/100\n",
      "63/63 [==============================] - 1s 23ms/sample - loss: 0.0106 - mae: 0.0649 - val_loss: 0.0195 - val_mae: 0.0898 - lr: 0.0010\n",
      "Epoch 4/100\n",
      "63/63 [==============================] - 2s 26ms/sample - loss: 0.0089 - mae: 0.0619 - val_loss: 0.0164 - val_mae: 0.0797 - lr: 0.0010\n",
      "Epoch 5/100\n",
      "63/63 [==============================] - 2s 25ms/sample - loss: 0.0061 - mae: 0.0510 - val_loss: 0.0151 - val_mae: 0.0730 - lr: 0.0010\n",
      "Epoch 6/100\n",
      "63/63 [==============================] - 1s 23ms/sample - loss: 0.0047 - mae: 0.0451 - val_loss: 0.0177 - val_mae: 0.0793 - lr: 0.0010\n",
      "Epoch 7/100\n",
      "63/63 [==============================] - 2s 26ms/sample - loss: 0.0043 - mae: 0.0438 - val_loss: 0.0150 - val_mae: 0.0747 - lr: 0.0010\n",
      "Epoch 8/100\n",
      "63/63 [==============================] - 1s 23ms/sample - loss: 0.0034 - mae: 0.0387 - val_loss: 0.0161 - val_mae: 0.0753 - lr: 0.0010\n",
      "Epoch 9/100\n",
      "63/63 [==============================] - 1s 23ms/sample - loss: 0.0033 - mae: 0.0383 - val_loss: 0.0171 - val_mae: 0.0772 - lr: 0.0010\n",
      "Epoch 10/100\n",
      "63/63 [==============================] - 1s 23ms/sample - loss: 0.0028 - mae: 0.0352 - val_loss: 0.0153 - val_mae: 0.0731 - lr: 0.0010\n",
      "Epoch 11/100\n",
      "63/63 [==============================] - 1s 23ms/sample - loss: 0.0026 - mae: 0.0346 - val_loss: 0.0159 - val_mae: 0.0746 - lr: 0.0010\n",
      "Epoch 12/100\n",
      " 0/63 [..............................] - ETA: 0s - loss: 0.0029 - mae: 0.0358\n",
      "Epoch 12: ReduceLROnPlateau reducing learning rate to 0.00010000000474974513.\n",
      "63/63 [==============================] - 1s 23ms/sample - loss: 0.0029 - mae: 0.0359 - val_loss: 0.0151 - val_mae: 0.0743 - lr: 0.0010\n",
      "Epoch 13/100\n",
      "63/63 [==============================] - 2s 26ms/sample - loss: 0.0018 - mae: 0.0287 - val_loss: 0.0144 - val_mae: 0.0707 - lr: 1.0000e-04\n",
      "Epoch 14/100\n",
      "63/63 [==============================] - 2s 26ms/sample - loss: 0.0015 - mae: 0.0258 - val_loss: 0.0144 - val_mae: 0.0706 - lr: 1.0000e-04\n",
      "Epoch 15/100\n",
      "63/63 [==============================] - 1s 23ms/sample - loss: 0.0012 - mae: 0.0240 - val_loss: 0.0145 - val_mae: 0.0705 - lr: 1.0000e-04\n",
      "Epoch 16/100\n",
      "63/63 [==============================] - 1s 23ms/sample - loss: 0.0011 - mae: 0.0229 - val_loss: 0.0144 - val_mae: 0.0707 - lr: 1.0000e-04\n",
      "Epoch 17/100\n",
      "63/63 [==============================] - 1s 23ms/sample - loss: 0.0010 - mae: 0.0217 - val_loss: 0.0144 - val_mae: 0.0703 - lr: 1.0000e-04\n",
      "Epoch 18/100\n",
      "63/63 [==============================] - 1s 23ms/sample - loss: 9.9200e-04 - mae: 0.0216 - val_loss: 0.0146 - val_mae: 0.0705 - lr: 1.0000e-04\n",
      "Epoch 19/100\n",
      "63/63 [==============================] - 1s 23ms/sample - loss: 9.5562e-04 - mae: 0.0212 - val_loss: 0.0144 - val_mae: 0.0703 - lr: 1.0000e-04\n",
      "Epoch 20/100\n",
      " 0/63 [..............................] - ETA: 0s - loss: 8.9706e-04 - mae: 0.0205\n",
      "Epoch 20: ReduceLROnPlateau reducing learning rate to 1.0000000474974514e-05.\n",
      "63/63 [==============================] - 1s 23ms/sample - loss: 8.9956e-04 - mae: 0.0205 - val_loss: 0.0144 - val_mae: 0.0705 - lr: 1.0000e-04\n"
     ]
    },
    {
     "name": "stdout",
     "output_type": "stream",
     "text": [
      "Epoch 21/100\n",
      "63/63 [==============================] - 1s 23ms/sample - loss: 8.3226e-04 - mae: 0.0197 - val_loss: 0.0144 - val_mae: 0.0704 - lr: 1.0000e-05\n",
      "Epoch 22/100\n",
      "63/63 [==============================] - 1s 23ms/sample - loss: 8.5229e-04 - mae: 0.0200 - val_loss: 0.0144 - val_mae: 0.0704 - lr: 1.0000e-05\n",
      "Epoch 23/100\n",
      "63/63 [==============================] - 1s 23ms/sample - loss: 8.3617e-04 - mae: 0.0198 - val_loss: 0.0144 - val_mae: 0.0703 - lr: 1.0000e-05\n",
      "Epoch 24/100\n",
      "63/63 [==============================] - 1s 23ms/sample - loss: 8.3338e-04 - mae: 0.0198 - val_loss: 0.0145 - val_mae: 0.0703 - lr: 1.0000e-05\n",
      "Epoch 25/100\n",
      "63/63 [==============================] - 1s 23ms/sample - loss: 8.3538e-04 - mae: 0.0198 - val_loss: 0.0144 - val_mae: 0.0704 - lr: 1.0000e-05\n",
      "Epoch 26/100\n",
      "63/63 [==============================] - 1s 22ms/sample - loss: 7.9470e-04 - mae: 0.0193 - val_loss: 0.0144 - val_mae: 0.0704 - lr: 1.0000e-05\n",
      "Epoch 27/100\n",
      " 0/63 [..............................] - ETA: 0s - loss: 8.1327e-04 - mae: 0.0195\n",
      "Epoch 27: ReduceLROnPlateau reducing learning rate to 1.0000000656873453e-06.\n",
      "63/63 [==============================] - 1s 23ms/sample - loss: 8.1343e-04 - mae: 0.0195 - val_loss: 0.0145 - val_mae: 0.0703 - lr: 1.0000e-05\n",
      "Epoch 28/100\n",
      "63/63 [==============================] - 1s 23ms/sample - loss: 7.9821e-04 - mae: 0.0193 - val_loss: 0.0145 - val_mae: 0.0703 - lr: 1.0000e-06\n",
      "Epoch 29/100\n",
      "63/63 [==============================] - 1s 24ms/sample - loss: 8.1091e-04 - mae: 0.0195 - val_loss: 0.0144 - val_mae: 0.0704 - lr: 1.0000e-06\n",
      "1/1 [==============================] - 1s 1s/step\n"
     ]
    }
   ],
   "source": [
    "opt_res = opt_conf(data, tune=True)  "
   ]
  },
  {
   "cell_type": "code",
   "execution_count": 8,
   "id": "d4181008",
   "metadata": {},
   "outputs": [
    {
     "name": "stdout",
     "output_type": "stream",
     "text": [
      "1 3_4_7_3_2_1 4.32\n",
      "2 3_4_7_3_2_3 4.4\n",
      "3 3_4_7_3_1_3 4.4\n",
      "4 3_4_7_3_1_1 4.42\n"
     ]
    }
   ],
   "source": [
    "# kern, layers, lstm, dense\n",
    "for pos, (k, (v, model_config)) in enumerate(sorted(opt_res.items(), key=lambda item: item[1])):\n",
    "    if pos==0:\n",
    "        best_model_config = model_config\n",
    "        best_file = k\n",
    "        \n",
    "    print(pos+1, k, round(v, 2))"
   ]
  },
  {
   "cell_type": "markdown",
   "id": "a0687c04",
   "metadata": {},
   "source": [
    "## Best Config"
   ]
  },
  {
   "cell_type": "code",
   "execution_count": 9,
   "id": "d5385783",
   "metadata": {},
   "outputs": [
    {
     "data": {
      "text/plain": [
       "{'activation': 'tanh',\n",
       " 'norm': True,\n",
       " 'n_layers': 3,\n",
       " 'kernel_sizes': (3, 4, 7),\n",
       " 'lstm': 2,\n",
       " 'dense': 1,\n",
       " 'reshape_out': False,\n",
       " 'epochs': 100,\n",
       " 'task': 'hamp_rot',\n",
       " 'version': '3_4_7_3_2_1',\n",
       " 'data_dir': '/home/users/sdunin/calc/HAMPpred/data/output/weights/hamp_rot/3_4_7_3_2_1'}"
      ]
     },
     "execution_count": 9,
     "metadata": {},
     "output_type": "execute_result"
    }
   ],
   "source": [
    "best_model_config"
   ]
  },
  {
   "cell_type": "code",
   "execution_count": 10,
   "id": "5f916320",
   "metadata": {},
   "outputs": [],
   "source": [
    "mod = get_mod(conf=best_model_config, version=best_file)"
   ]
  },
  {
   "cell_type": "markdown",
   "id": "72cc953f",
   "metadata": {},
   "source": [
    "# PDB set performance"
   ]
  },
  {
   "cell_type": "code",
   "execution_count": 11,
   "id": "3c8a096d",
   "metadata": {},
   "outputs": [],
   "source": [
    "test_data = pd.read_pickle(f'{DATA_DIR}/pdb_measure.p')"
   ]
  },
  {
   "cell_type": "code",
   "execution_count": 12,
   "id": "d8ed8519",
   "metadata": {},
   "outputs": [
    {
     "data": {
      "text/plain": [
       "11"
      ]
     },
     "execution_count": 12,
     "metadata": {},
     "output_type": "execute_result"
    }
   ],
   "source": [
    "test_data = pd.read_pickle(os.path.join(DATA_DIR, 'pdb_measure.p'))\n",
    "test_data = test_data[~test_data.mutant]\n",
    "test_data.rename(columns={'seq1':'n_seq', 'seq2':'c_seq', 'n_list':'n_crick_mut', 'c_list':'c_crick_mut'}, inplace=True)\n",
    "test_data['n_seq'] = test_data['n_seq'].apply(lambda x: x[1:-1])\n",
    "test_data['c_seq'] = test_data['c_seq'].apply(lambda x: x[1:-1])\n",
    "test_data['train_seq'] = test_data.apply(lambda x: x['n_seq'] + x['c_seq'], axis=1)\n",
    "len(test_data)"
   ]
  },
  {
   "cell_type": "code",
   "execution_count": 13,
   "id": "daa9ee05",
   "metadata": {},
   "outputs": [
    {
     "name": "stdout",
     "output_type": "stream",
     "text": [
      "WARNING:tensorflow:5 out of the last 5 calls to <function Model.make_predict_function.<locals>.predict_function at 0x7f3c84520a60> triggered tf.function retracing. Tracing is expensive and the excessive number of tracings could be due to (1) creating @tf.function repeatedly in a loop, (2) passing tensors with different shapes, (3) passing Python objects instead of tensors. For (1), please define your @tf.function outside of the loop. For (2), @tf.function has reduce_retracing=True option that can avoid unnecessary retracing. For (3), please refer to https://www.tensorflow.org/guide/function#controlling_retracing and https://www.tensorflow.org/api_docs/python/tf/function for  more details.\n",
      "1/1 [==============================] - 1s 1s/step\n"
     ]
    }
   ],
   "source": [
    "seq = []\n",
    "tr = []\n",
    "for n,r in test_data.iterrows():\n",
    "    seq.append(r['n_seq'] + r['c_seq'])\n",
    "    tr.append(np.mean((r['rot'][0::2] + r['rot'][1::2]) / 2)/2)\n",
    "res = mod.predict(seq)\n",
    "pr = []\n",
    "for n,r in res.iterrows():\n",
    "    pr.append(np.mean(r['N_pred'])/2)"
   ]
  },
  {
   "cell_type": "code",
   "execution_count": 14,
   "id": "0e0039a9",
   "metadata": {},
   "outputs": [
    {
     "data": {
      "text/plain": [
       "Text(0.5, 1.0, 'HAMPpred predictions')"
      ]
     },
     "execution_count": 14,
     "metadata": {},
     "output_type": "execute_result"
    },
    {
     "data": {
      "image/png": "[encoded data removed]",
      "text/plain": [
       "<Figure size 800x800 with 1 Axes>"
      ]
     },
     "metadata": {
      "needs_background": "light"
     },
     "output_type": "display_data"
    }
   ],
   "source": [
    "title_font_size = 12\n",
    "label_font_size = 10\n",
    "tick_font_size = 8\n",
    "\n",
    "fig, ax = plt.subplots(1,1, figsize=(4, 4), dpi=200)\n",
    "\n",
    "colors = ['white' if i=='1_2l7i.pdb' else 'grey' for i in test_data.index]\n",
    "\n",
    "ax.scatter(pr, tr, color=colors, lw=0.75, edgecolors='k', s=50)\n",
    "\n",
    "ax.set_ylim(-26, 26)\n",
    "ax.set_xlim(-26, 26)\n",
    "ax.plot([0, 1], [0, 1], '--', transform=ax.transAxes, color='grey')\n",
    "\n",
    "ax.set_xlabel(r'Predicted rotation [$\\degree$]', size=label_font_size)\n",
    "ax.set_ylabel(r'Experimental structure rotation [$\\degree$]', size=label_font_size)\n",
    "\n",
    "ax.tick_params(axis='both', which='major', labelsize=tick_font_size)\n",
    "ax.tick_params(axis='both', which='minor', labelsize=tick_font_size)\n",
    "ax.set_title(\"HAMPpred predictions\", size=title_font_size)"
   ]
  },
  {
   "cell_type": "code",
   "execution_count": 15,
   "id": "161ec50c",
   "metadata": {},
   "outputs": [
    {
     "data": {
      "text/plain": [
       "4.75618170787087"
      ]
     },
     "execution_count": 15,
     "metadata": {},
     "output_type": "execute_result"
    }
   ],
   "source": [
    "np.mean((np.asarray(tr)-np.asarray(pr)) **2 ) ** 0.5"
   ]
  },
  {
   "cell_type": "code",
   "execution_count": null,
   "id": "25b63dbf",
   "metadata": {},
   "outputs": [],
   "source": []
  },
  {
   "cell_type": "code",
   "execution_count": null,
   "id": "c013c739",
   "metadata": {},
   "outputs": [],
   "source": []
  },
  {
   "cell_type": "code",
   "execution_count": null,
   "id": "0c55aece",
   "metadata": {},
   "outputs": [],
   "source": []
  },
  {
   "cell_type": "code",
   "execution_count": null,
   "id": "fc6cd53a",
   "metadata": {},
   "outputs": [],
   "source": []
  },
  {
   "cell_type": "code",
   "execution_count": null,
   "id": "c6a00dd6",
   "metadata": {},
   "outputs": [],
   "source": []
  }
 ],
 "metadata": {
  "kernelspec": {
   "display_name": "Python 3",
   "language": "python",
   "name": "python3"
  },
  "language_info": {
   "codemirror_mode": {
    "name": "ipython",
    "version": 3
   },
   "file_extension": ".py",
   "mimetype": "text/x-python",
   "name": "python",
   "nbconvert_exporter": "python",
   "pygments_lexer": "ipython3",
   "version": "3.10.4"
  }
 },
 "nbformat": 4,
 "nbformat_minor": 5
}
