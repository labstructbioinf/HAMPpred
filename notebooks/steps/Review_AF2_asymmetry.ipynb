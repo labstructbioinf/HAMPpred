{
 "cells": [
  {
   "cell_type": "code",
   "execution_count": 30,
   "id": "9b3536f2",
   "metadata": {},
   "outputs": [],
   "source": [
    "import os\n",
    "from Bio.PDB import PDBParser, Superimposer\n",
    "\n",
    "from Bio.PDB.QCPSuperimposer import QCPSuperimposer\n",
    "\n",
    "from sklearn.metrics import mean_squared_error\n",
    "from copy import deepcopy\n",
    "import numpy as np\n",
    "import pandas as pd\n",
    "\n",
    "parser = PDBParser(QUIET=True)\n",
    "data_dir = '../../data/input'"
   ]
  },
  {
   "cell_type": "code",
   "execution_count": 80,
   "id": "d9315e74",
   "metadata": {},
   "outputs": [],
   "source": [
    "def calc_rmsd(ca_atoms_1, ca_atoms_2):\n",
    "    \n",
    "    ca_atoms_1 = np.array([i.coord for i in ca_atoms_1])\n",
    "    ca_atoms_2 = np.array([i.coord for i in ca_atoms_2])\n",
    "\n",
    "    rmsd = np.sqrt(((((ca_atoms_1 - ca_atoms_2) ** 2))*3).mean())\n",
    "        \n",
    "    return (rmsd)\n",
    "     "
   ]
  },
  {
   "cell_type": "code",
   "execution_count": 83,
   "id": "78786954",
   "metadata": {},
   "outputs": [],
   "source": [
    "hamp_groups_df = pd.read_csv('../../../TCST/offline_data/hamp/groupnames.csv', names=['paper_group', 'group'])\n",
    "hamp_groups_df['group'] = hamp_groups_df['group'].apply(lambda x:x.replace('.fas', ''))\n",
    "paper2group = dict(hamp_groups_df.values) #my_array\n",
    "group2paper = dict(hamp_groups_df.values[:, [1, 0]])"
   ]
  },
  {
   "cell_type": "code",
   "execution_count": 84,
   "id": "fc7b32cb",
   "metadata": {},
   "outputs": [],
   "source": [
    "data_df = pd.read_pickle(os.path.join(data_dir, 'af2.p'))\n",
    "data_df.group = data_df.group.apply(lambda x:group2paper[x] if x in group2paper else '?')"
   ]
  },
  {
   "cell_type": "code",
   "execution_count": 72,
   "id": "5489b44e",
   "metadata": {},
   "outputs": [],
   "source": []
  },
  {
   "cell_type": "code",
   "execution_count": null,
   "id": "32557d7e",
   "metadata": {},
   "outputs": [],
   "source": []
  },
  {
   "cell_type": "code",
   "execution_count": 41,
   "id": "be78947d",
   "metadata": {},
   "outputs": [],
   "source": [
    "def get_asymmetry(fname):\n",
    "\n",
    "    structure = parser.get_structure(\"protein\", fname)\n",
    "\n",
    "    # Extract CA atoms from chains A and B\n",
    "    ca_atoms_a = [atom for atom in structure[0]['A'].get_atoms() if atom.get_id() == 'CA']\n",
    "    ca_atoms_b = [atom for atom in structure[0]['B'].get_atoms() if atom.get_id() == 'CA']\n",
    "\n",
    "    # keep the initial coordinates\n",
    "    ca_atoms_a_copy = deepcopy(ca_atoms_a)\n",
    "    ca_atoms_b_copy = deepcopy(ca_atoms_b)\n",
    "\n",
    "    # calculate superposition\n",
    "    superimposer = Superimposer()\n",
    "    superimposer.set_atoms(ca_atoms_a, ca_atoms_b) # chain A fixed, chain B moving\n",
    "\n",
    "    # rmsd between chains A and B\n",
    "    chain_rmsd = superimposer.rms\n",
    "\n",
    "    superimposer.apply(ca_atoms_a)\n",
    "    superimposer.apply(ca_atoms_b)\n",
    "    \n",
    "    assert np.isclose(chain_rmsd, calc_rmsd(ca_atoms_a_copy, ca_atoms_b), atol=1e-6), fname\n",
    "    \n",
    "    return chain_rmsd, calc_rmsd(ca_atoms_b_copy, ca_atoms_a)"
   ]
  },
  {
   "cell_type": "code",
   "execution_count": 111,
   "id": "c6ddb799",
   "metadata": {
    "scrolled": true
   },
   "outputs": [
    {
     "name": "stdout",
     "output_type": "stream",
     "text": [
      "23 23/hamp_23_relaxed_rank_1_model_4.pdb 0.2556031954418722 0.30505165\n",
      "80 80/hamp_80_relaxed_rank_1_model_4.pdb 0.21011291728757678 0.23075429\n",
      "189 189/hamp_189_relaxed_rank_1_model_3.pdb 0.7308956122802386 0.7333654\n",
      "228 228/hamp_228_relaxed_rank_1_model_2.pdb 0.2647198625779824 0.28275958\n",
      "236 236/hamp_236_relaxed_rank_1_model_2.pdb 0.2879926336908882 0.36029047\n",
      "280 280/hamp_280_relaxed_rank_1_model_2.pdb 0.42199793899194393 0.48412174\n",
      "361 361/hamp_361_relaxed_rank_1_model_4.pdb 1.1533583821335152 1.2707852\n",
      "370 372/hamp_372_relaxed_rank_1_model_4.pdb 0.23149552164352175 0.31087962\n",
      "388 382/hamp_382_relaxed_rank_1_model_4.pdb 3.78134850892079 10.147657\n",
      "618 605/hamp_605_relaxed_rank_1_model_4.pdb 0.9732859994643113 1.0525085\n",
      "701 688/hamp_688_relaxed_rank_1_model_3.pdb 0.22697810366805599 0.23507322\n",
      "803 790/hamp_790_relaxed_rank_1_model_4.pdb 0.30912614635346447 0.3391928\n",
      "886 873/hamp_873_relaxed_rank_1_model_4.pdb 0.29884038795888207 0.32322\n",
      "933 920/hamp_920_relaxed_rank_1_model_2.pdb 0.6951725190968329 0.71283734\n",
      "977 964/hamp_964_relaxed_rank_1_model_4.pdb 0.20172466656830615 0.20269059\n",
      "1067 1054/hamp_1054_relaxed_rank_1_model_4.pdb 0.6906546831051954 0.7021915\n",
      "1214 1201/hamp_1201_relaxed_rank_1_model_3.pdb 0.27610306153273184 0.29609782\n",
      "1234 1221/hamp_1221_relaxed_rank_1_model_5.pdb 0.36494900445263073 0.5213505\n",
      "1300 1287/hamp_1287_relaxed_rank_1_model_2.pdb 1.313216033610826 1.4007729\n",
      "1351 1338/hamp_1338_relaxed_rank_1_model_4.pdb 0.2334187919839709 0.24979152\n",
      "1394 1381/hamp_1381_relaxed_rank_1_model_2.pdb 0.2865642411953333 0.31260768\n",
      "1484 1471/hamp_1471_relaxed_rank_1_model_4.pdb 0.3503395036624211 0.46999148\n",
      "1516 1503/hamp_1503_relaxed_rank_1_model_1.pdb 0.23105663611409263 0.23220575\n",
      "1566 1553/hamp_1553_relaxed_rank_1_model_3.pdb 0.21613807284523834 0.22688599\n",
      "1685 1672/hamp_1672_relaxed_rank_1_model_3.pdb 0.3801899879657446 0.41100675\n",
      "5435 1813/hamp_1813_relaxed_rank_1_model_4.pdb 0.29093389978328305 0.30408075\n",
      "3116 1818/hamp_1818_relaxed_rank_1_model_1.pdb 1.1075004193374327 1.2128696\n",
      "1866 1835/hamp_1835_relaxed_rank_1_model_1.pdb 1.2431517306767723 1.4021391\n",
      "1853 1848/hamp_1848_relaxed_rank_1_model_2.pdb 0.23646601058389025 0.24366641\n",
      "1852 1849/hamp_1849_relaxed_rank_1_model_2.pdb 0.3367678748405279 0.36916032\n",
      "1847 1854/hamp_1854_relaxed_rank_1_model_2.pdb 0.34654125814696457 0.34933588\n",
      "398 2071/hamp_2071_relaxed_rank_1_model_3.pdb 0.6633665841199164 0.69457835\n",
      "2701 2765/hamp_2765_relaxed_rank_1_model_1.pdb 0.4047351965912973 0.4327778\n",
      "2745 2809/hamp_2809_relaxed_rank_1_model_2.pdb 0.3807010151515723 0.52506506\n",
      "2756 2820/hamp_2820_relaxed_rank_1_model_4.pdb 0.3108057008660193 0.4013787\n",
      "2832 2896/hamp_2896_relaxed_rank_1_model_4.pdb 0.23763848531623166 0.34187776\n",
      "2878 2942/hamp_2942_relaxed_rank_1_model_2.pdb 0.3218562342748432 0.352117\n",
      "3035 3099/hamp_3099_relaxed_rank_1_model_4.pdb 0.3326241554546181 0.33626938\n",
      "3071 3136/hamp_3136_relaxed_rank_1_model_4.pdb 0.5783533380693018 0.6445939\n",
      "3131 3187/hamp_3187_relaxed_rank_1_model_4.pdb 0.2950141519564431 0.2998482\n",
      "3140 3196/hamp_3196_relaxed_rank_1_model_2.pdb 0.7694275068210223 0.78682935\n",
      "3164 3220/hamp_3220_relaxed_rank_1_model_4.pdb 0.23444152648112013 0.24571426\n",
      "3234 3290/hamp_3290_relaxed_rank_1_model_2.pdb 0.20254630966809323 0.20462207\n",
      "3295 3351/hamp_3351_relaxed_rank_1_model_4.pdb 0.23268149950798692 2.6567886\n",
      "3347 3403/hamp_3403_relaxed_rank_1_model_3.pdb 0.29078975530152856 0.2948391\n",
      "3406 3462/hamp_3462_relaxed_rank_1_model_3.pdb 0.2381806682723283 0.28148058\n",
      "3467 3523/hamp_3523_relaxed_rank_1_model_4.pdb 0.33647990523411825 0.40536726\n",
      "3482 3537/hamp_3537_relaxed_rank_1_model_2.pdb 0.2264331954408952 0.27673352\n",
      "3483 3538/hamp_3538_relaxed_rank_1_model_2.pdb 0.9353299916032822 0.99321973\n",
      "3521 3576/hamp_3576_relaxed_rank_1_model_2.pdb 0.26992935317699224 0.33506033\n",
      "3554 3609/hamp_3609_relaxed_rank_1_model_2.pdb 0.2250833110775221 0.25523663\n",
      "3589 3644/hamp_3644_relaxed_rank_1_model_2.pdb 0.20569846649680712 0.21441247\n",
      "3598 3653/hamp_3653_relaxed_rank_1_model_1.pdb 1.3947530229378067 1.5609394\n",
      "3648 3703/hamp_3703_relaxed_rank_1_model_4.pdb 0.23944342043155373 0.24841505\n",
      "3670 3725/hamp_3725_relaxed_rank_1_model_4.pdb 0.7765907844063457 0.7929563\n",
      "3859 3913/hamp_3913_relaxed_rank_1_model_2.pdb 0.25046107809846907 0.25783536\n",
      "3866 3920/hamp_3920_relaxed_rank_1_model_5.pdb 0.5437118208156329 0.653506\n",
      "3882 3936/hamp_3936_relaxed_rank_1_model_4.pdb 0.2754695319987712 0.27671388\n",
      "3887 3941/hamp_3941_relaxed_rank_1_model_2.pdb 0.3938566073155217 0.43302783\n",
      "3928 3982/hamp_3982_relaxed_rank_1_model_4.pdb 0.6686547646110156 0.6953762\n",
      "3935 3989/hamp_3989_relaxed_rank_1_model_1.pdb 0.25232120187309715 0.2862653\n",
      "3978 4026/hamp_4026_relaxed_rank_1_model_2.pdb 0.42929971986689264 0.4317716\n",
      "4094 4142/hamp_4142_relaxed_rank_1_model_4.pdb 0.26244572215564527 0.28557402\n",
      "4142 4190/hamp_4190_relaxed_rank_1_model_2.pdb 0.22320655097114137 0.23955543\n",
      "4150 4198/hamp_4198_relaxed_rank_1_model_4.pdb 0.2823369808799022 0.28748047\n",
      "4473 4520/hamp_4520_relaxed_rank_1_model_4.pdb 0.2685236072266263 0.29508263\n",
      "4521 4564/hamp_4564_relaxed_rank_1_model_3.pdb 0.3103380587968597 0.36387876\n",
      "4560 4596/hamp_4596_relaxed_rank_1_model_2.pdb 0.2826936997244941 0.29279563\n",
      "4564 4600/hamp_4600_relaxed_rank_1_model_1.pdb 0.2151461817546224 0.21737619\n",
      "4676 4707/hamp_4707_relaxed_rank_1_model_2.pdb 0.23973333694069382 0.28213635\n",
      "4701 4732/hamp_4732_relaxed_rank_1_model_2.pdb 0.2089948030129371 0.21232946\n",
      "4743 4759/hamp_4759_relaxed_rank_1_model_4.pdb 0.22108447884233576 0.22603999\n",
      "4847 4860/hamp_4860_relaxed_rank_1_model_2.pdb 0.22724818861327747 0.30273578\n",
      "4858 4871/hamp_4871_relaxed_rank_1_model_3.pdb 0.27408066207201914 0.37342152\n",
      "4898 4911/hamp_4911_relaxed_rank_1_model_2.pdb 0.20542565265993018 0.29696476\n",
      "4919 4932/hamp_4932_relaxed_rank_1_model_2.pdb 0.23531324885144453 0.31031635\n",
      "5102 5115/hamp_5115_relaxed_rank_1_model_2.pdb 0.7053618691593756 0.7198697\n",
      "5147 5160/hamp_5160_relaxed_rank_1_model_1.pdb 0.277922204103826 0.29041728\n",
      "5265 5278/hamp_5278_relaxed_rank_1_model_2.pdb 0.27024769222395556 0.4650566\n",
      "5273 5286/hamp_5286_relaxed_rank_1_model_2.pdb 0.3257631004953502 0.32758048\n",
      "5276 5289/hamp_5289_relaxed_rank_1_model_4.pdb 0.7429975873656535 0.8203479\n",
      "5377 5388/hamp_5388_relaxed_rank_1_model_4.pdb 0.3773418468356256 0.5082108\n",
      "5409 5420/hamp_5420_relaxed_rank_1_model_4.pdb 0.22136563712665275 0.25325376\n",
      "5413 5424/hamp_5424_relaxed_rank_1_model_4.pdb 0.7691367576762027 0.8020752\n",
      "5458 5463/hamp_5463_relaxed_rank_1_model_4.pdb 0.8449269176245529 0.97151905\n",
      "5490 5494/hamp_5494_relaxed_rank_1_model_4.pdb 0.28358793883869393 0.2865823\n",
      "5576 5580/hamp_5580_relaxed_rank_1_model_4.pdb 0.24709382179899125 0.2611236\n",
      "5586 5590/hamp_5590_relaxed_rank_1_model_1.pdb 0.45123539678479546 0.46985483\n",
      "5687 5691/hamp_5691_relaxed_rank_1_model_4.pdb 0.4439085990009883 0.4999667\n",
      "5706 5710/hamp_5710_relaxed_rank_1_model_4.pdb 0.5305625966546982 0.55929995\n",
      "5771 5775/hamp_5775_relaxed_rank_1_model_4.pdb 0.34660746708655626 0.3567873\n",
      "5805 5809/hamp_5809_relaxed_rank_1_model_5.pdb 0.6908425944398222 0.71756214\n",
      "5808 5812/hamp_5812_relaxed_rank_1_model_2.pdb 0.20992537088525254 0.22388512\n",
      "5812 5816/hamp_5816_relaxed_rank_1_model_4.pdb 0.2114709471397972 0.25253707\n",
      "5865 5869/hamp_5869_relaxed_rank_1_model_4.pdb 0.23858046943420577 0.23971443\n",
      "6058 6062/hamp_6062_relaxed_rank_1_model_5.pdb 0.252893827038287 0.26236606\n",
      "6097 6101/hamp_6101_relaxed_rank_1_model_2.pdb 0.3241885707026222 0.33701873\n",
      "6164 6168/hamp_6168_relaxed_rank_1_model_5.pdb 0.23538616120738198 0.26923487\n",
      "6179 6183/hamp_6183_relaxed_rank_1_model_2.pdb 0.2484665466294203 0.27272764\n",
      "6188 6192/hamp_6192_relaxed_rank_1_model_2.pdb 0.27543905959355536 0.35658693\n",
      "6202 6206/hamp_6206_relaxed_rank_1_model_1.pdb 0.9942943696720352 1.0288059\n",
      "6260 6263/hamp_6263_relaxed_rank_1_model_2.pdb 0.24496386341597612 0.2782468\n",
      "6297 6297/hamp_6297_relaxed_rank_1_model_3.pdb 0.3758636239132784 0.40529802\n",
      "6314 6314/hamp_6314_relaxed_rank_1_model_2.pdb 0.5420095438175112 1.2630421\n",
      "6446 6446/hamp_6446_relaxed_rank_1_model_4.pdb 0.30005488423702453 0.43364552\n"
     ]
    }
   ],
   "source": [
    "\n",
    "asym_list = []\n",
    "\n",
    "for ident, row in data_df.iterrows():\n",
    "    chain_rmsd, cross_rmsd = get_asymmetry(os.path.join(data_dir, 'af2_full', row.pdb_file))\n",
    "    asym_list.append(cross_rmsd)\n",
    "    if chain_rmsd>0.2:\n",
    "        print(ident, row.pdb_file, chain_rmsd, cross_rmsd)\n"
   ]
  },
  {
   "cell_type": "code",
   "execution_count": 112,
   "id": "30d4887d",
   "metadata": {},
   "outputs": [],
   "source": [
    "data_df['asym'] = asym_list"
   ]
  },
  {
   "cell_type": "code",
   "execution_count": null,
   "id": "6e226e25",
   "metadata": {},
   "outputs": [],
   "source": []
  },
  {
   "cell_type": "code",
   "execution_count": null,
   "id": "59e8bb19",
   "metadata": {},
   "outputs": [],
   "source": []
  },
  {
   "cell_type": "code",
   "execution_count": 90,
   "id": "a23892fc",
   "metadata": {},
   "outputs": [],
   "source": [
    "import seaborn as sns"
   ]
  },
  {
   "cell_type": "code",
   "execution_count": 146,
   "id": "aa60f67c",
   "metadata": {},
   "outputs": [
    {
     "data": {
      "text/plain": [
       "<AxesSubplot:>"
      ]
     },
     "execution_count": 146,
     "metadata": {},
     "output_type": "execute_result"
    },
    {
     "data": {
      "image/png": "[encoded data removed]",
      "text/plain": [
       "<Figure size 432x288 with 1 Axes>"
      ]
     },
     "metadata": {
      "needs_background": "light"
     },
     "output_type": "display_data"
    }
   ],
   "source": [
    "data_df.asym.hist(bins=100)"
   ]
  },
  {
   "cell_type": "code",
   "execution_count": 237,
   "id": "32bd9eac",
   "metadata": {},
   "outputs": [],
   "source": [
    "#colors=['Red' if c else 'Black' for c in data_df.group=='E.2']"
   ]
  },
  {
   "cell_type": "code",
   "execution_count": 240,
   "id": "0fa5456f",
   "metadata": {},
   "outputs": [
    {
     "data": {
      "text/plain": [
       "E.1     0.758065\n",
       "E.2     0.666667\n",
       "F.7     0.625000\n",
       "A.28    0.589041\n",
       "A.43    0.500000\n",
       "E.8     0.428571\n",
       "Name: group, dtype: float64"
      ]
     },
     "execution_count": 240,
     "metadata": {},
     "output_type": "execute_result"
    },
    {
     "data": {
      "image/png": "[encoded data removed]",
      "text/plain": [
       "<Figure size 1200x600 with 2 Axes>"
      ]
     },
     "metadata": {
      "needs_background": "light"
     },
     "output_type": "display_data"
    }
   ],
   "source": [
    "import matplotlib.pyplot as plt\n",
    "import seaborn as sns\n",
    "\n",
    "plddt_cut = 85\n",
    "pae_mean_cut = 4.5\n",
    "\n",
    "fig, axes = plt.subplots(1, 2, figsize=(6, 3), dpi=200, sharex=True)\n",
    "\n",
    "ax1 = axes[0]\n",
    "ax2 = axes[1]\n",
    "\n",
    "sns.kdeplot(data=data_df, x='plddt', y='pae_mean', fill=True, cmap='Greys', ax=ax1)\n",
    "ax2.scatter(data_df.plddt, data_df.pae_mean, zorder=0, s=0.5, c='Grey')\n",
    "\n",
    "for ax in [ax1, ax2]:\n",
    "\n",
    "    # Add horizontal and vertical lines\n",
    "    ax.axhline(y=pae_mean_cut, color='red', linestyle='--', label='Horizontal Line at y=6')\n",
    "    ax.axvline(x=plddt_cut, color='green', linestyle='--', label='Vertical Line at x=80')\n",
    "\n",
    "\n",
    "x=(data_df[(data_df.plddt <= plddt_cut) & (data_df.pae_mean >= pae_mean_cut)].group.value_counts() / data_df.group.value_counts()).dropna().sort_values(ascending=False)\n",
    "x[:6]\n"
   ]
  },
  {
   "cell_type": "code",
   "execution_count": 208,
   "id": "603c07bb",
   "metadata": {},
   "outputs": [],
   "source": [
    "# https://www.ncbi.nlm.nih.gov/protein/YP_001760340.1?report=fasta # E1 # E2\n",
    "# https://www.ncbi.nlm.nih.gov/protein/ZP_01998985.1?report=fasta # F7\n"
   ]
  },
  {
   "cell_type": "code",
   "execution_count": 229,
   "id": "a8ada892",
   "metadata": {},
   "outputs": [
    {
     "data": {
      "text/plain": [
       "Text(0.5, 0, 'sequence count')"
      ]
     },
     "execution_count": 229,
     "metadata": {},
     "output_type": "execute_result"
    },
    {
     "data": {
      "image/png": "[encoded data removed]",
      "text/plain": [
       "<Figure size 600x600 with 1 Axes>"
      ]
     },
     "metadata": {
      "needs_background": "light"
     },
     "output_type": "display_data"
    }
   ],
   "source": [
    "fig, ax = plt.subplots(1, 1, figsize=(3, 3), dpi=200)\n",
    "\n",
    "\n",
    "pd.merge(\n",
    "    data_df.group.value_counts(), x, how='left', left_index=True, right_index=True\n",
    "           ).plot.scatter('group_x', 'group_y', ax=ax, s=5)\n",
    "\n",
    "ax.set_xlim(0,200)\n",
    "ax.set_ylabel('fraction of bad AF2 models')\n",
    "ax.set_xlabel('sequence count')"
   ]
  },
  {
   "cell_type": "code",
   "execution_count": null,
   "id": "bd67ed18",
   "metadata": {},
   "outputs": [],
   "source": []
  },
  {
   "cell_type": "code",
   "execution_count": null,
   "id": "ddb785f9",
   "metadata": {},
   "outputs": [],
   "source": []
  },
  {
   "cell_type": "code",
   "execution_count": 230,
   "id": "07971b23",
   "metadata": {},
   "outputs": [
    {
     "data": {
      "text/html": [
       "<div>\n",
       "<style scoped>\n",
       "    .dataframe tbody tr th:only-of-type {\n",
       "        vertical-align: middle;\n",
       "    }\n",
       "\n",
       "    .dataframe tbody tr th {\n",
       "        vertical-align: top;\n",
       "    }\n",
       "\n",
       "    .dataframe thead th {\n",
       "        text-align: right;\n",
       "    }\n",
       "</style>\n",
       "<table border=\"1\" class=\"dataframe\">\n",
       "  <thead>\n",
       "    <tr style=\"text-align: right;\">\n",
       "      <th></th>\n",
       "      <th>group</th>\n",
       "      <th>n_rot</th>\n",
       "      <th>c_rot</th>\n",
       "      <th>rot</th>\n",
       "      <th>n_seq</th>\n",
       "      <th>c_seq</th>\n",
       "      <th>n_crick_mut</th>\n",
       "      <th>c_crick_mut</th>\n",
       "      <th>full_seq</th>\n",
       "      <th>pdb_file</th>\n",
       "      <th>max_pae</th>\n",
       "      <th>plddt</th>\n",
       "      <th>ptm</th>\n",
       "      <th>pae_mean</th>\n",
       "      <th>asym</th>\n",
       "    </tr>\n",
       "    <tr>\n",
       "      <th>idx</th>\n",
       "      <th></th>\n",
       "      <th></th>\n",
       "      <th></th>\n",
       "      <th></th>\n",
       "      <th></th>\n",
       "      <th></th>\n",
       "      <th></th>\n",
       "      <th></th>\n",
       "      <th></th>\n",
       "      <th></th>\n",
       "      <th></th>\n",
       "      <th></th>\n",
       "      <th></th>\n",
       "      <th></th>\n",
       "      <th></th>\n",
       "    </tr>\n",
       "  </thead>\n",
       "  <tbody>\n",
       "    <tr>\n",
       "      <th>6268</th>\n",
       "      <td>E.1</td>\n",
       "      <td>22.237017</td>\n",
       "      <td>5.581281</td>\n",
       "      <td>16.655736</td>\n",
       "      <td>EPAVLNEITRKIS</td>\n",
       "      <td>PKGSVFESMAAMQ</td>\n",
       "      <td>[55.00002735096564, 55.25126655948548, 154.853...</td>\n",
       "      <td>[164.68746248073953, 164.47904912725284, -126....</td>\n",
       "      <td>KALGTEPAVLNEITRKISAGDLAPIPLAQAAPKGSVFESMAAMQQS...</td>\n",
       "      <td>1808/hamp_1808_relaxed_rank_1_model_3.pdb</td>\n",
       "      <td>31.75</td>\n",
       "      <td>73.740865</td>\n",
       "      <td>0.65</td>\n",
       "      <td>6.440876</td>\n",
       "      <td>0.185208</td>\n",
       "    </tr>\n",
       "    <tr>\n",
       "      <th>6267</th>\n",
       "      <td>E.1</td>\n",
       "      <td>-0.296160</td>\n",
       "      <td>33.640113</td>\n",
       "      <td>-33.936273</td>\n",
       "      <td>EPGQLGTVAQRVA</td>\n",
       "      <td>PRGSVLASLGAMQ</td>\n",
       "      <td>[17.143580184545993, 16.94841113816554, 121.92...</td>\n",
       "      <td>[158.56900029823814, 158.7208717585301, -120.0...</td>\n",
       "      <td>RALGAEPGQLGTVAQRVAQGDLSRVDGAADAPRGSVLASLGAMQAS...</td>\n",
       "      <td>1809/hamp_1809_relaxed_rank_1_model_2.pdb</td>\n",
       "      <td>31.75</td>\n",
       "      <td>84.750962</td>\n",
       "      <td>0.75</td>\n",
       "      <td>4.299061</td>\n",
       "      <td>0.069475</td>\n",
       "    </tr>\n",
       "    <tr>\n",
       "      <th>6258</th>\n",
       "      <td>E.1</td>\n",
       "      <td>-13.467002</td>\n",
       "      <td>19.899271</td>\n",
       "      <td>-33.366274</td>\n",
       "      <td>EPSVAQHAAAQIA</td>\n",
       "      <td>DSSSLMSSLDAMR</td>\n",
       "      <td>[6.977223483347891, 7.166346899838016, 119.121...</td>\n",
       "      <td>[20.61928988890213, -161.6120128205636, 106.02...</td>\n",
       "      <td>RQLGGEPSVAQHAAAQIADGNLMIDLPVAHGDSSSLMSSLDAMRAR...</td>\n",
       "      <td>1810/hamp_1810_relaxed_rank_1_model_4.pdb</td>\n",
       "      <td>31.75</td>\n",
       "      <td>85.625192</td>\n",
       "      <td>0.81</td>\n",
       "      <td>5.513534</td>\n",
       "      <td>0.063133</td>\n",
       "    </tr>\n",
       "    <tr>\n",
       "      <th>5472</th>\n",
       "      <td>E.1</td>\n",
       "      <td>2.049084</td>\n",
       "      <td>4.858050</td>\n",
       "      <td>-2.808967</td>\n",
       "      <td>EPTAIADIANKLA</td>\n",
       "      <td>AETGVYAAMHNMV</td>\n",
       "      <td>[24.033324803574605, 24.20739981825064, 125.77...</td>\n",
       "      <td>[109.49521003642347, 109.33523328563592, -54.0...</td>\n",
       "      <td>RQLGGEPTAIADIANKLADGDLRIAFDTTGKAETGVYAAMHNMVEK...</td>\n",
       "      <td>1811/hamp_1811_relaxed_rank_1_model_2.pdb</td>\n",
       "      <td>31.75</td>\n",
       "      <td>74.321731</td>\n",
       "      <td>0.69</td>\n",
       "      <td>7.332439</td>\n",
       "      <td>0.065107</td>\n",
       "    </tr>\n",
       "    <tr>\n",
       "      <th>5456</th>\n",
       "      <td>E.1</td>\n",
       "      <td>-4.072221</td>\n",
       "      <td>1.632634</td>\n",
       "      <td>-5.704855</td>\n",
       "      <td>EPQAATEIMQRVA</td>\n",
       "      <td>PAGSLLHALGTMV</td>\n",
       "      <td>[18.107296431929463, 18.02453239199886, 120.06...</td>\n",
       "      <td>[171.8193754477148, 171.85333458793914, -127.8...</td>\n",
       "      <td>RQLGGEPQAATEIMQRVAGGDLTARLDNAPAGSLLHALGTMVGSLR...</td>\n",
       "      <td>1812/hamp_1812_relaxed_rank_1_model_2.pdb</td>\n",
       "      <td>31.75</td>\n",
       "      <td>81.230600</td>\n",
       "      <td>0.73</td>\n",
       "      <td>5.657957</td>\n",
       "      <td>0.057544</td>\n",
       "    </tr>\n",
       "    <tr>\n",
       "      <th>...</th>\n",
       "      <td>...</td>\n",
       "      <td>...</td>\n",
       "      <td>...</td>\n",
       "      <td>...</td>\n",
       "      <td>...</td>\n",
       "      <td>...</td>\n",
       "      <td>...</td>\n",
       "      <td>...</td>\n",
       "      <td>...</td>\n",
       "      <td>...</td>\n",
       "      <td>...</td>\n",
       "      <td>...</td>\n",
       "      <td>...</td>\n",
       "      <td>...</td>\n",
       "      <td>...</td>\n",
       "    </tr>\n",
       "    <tr>\n",
       "      <th>1825</th>\n",
       "      <td>E.1</td>\n",
       "      <td>-10.824706</td>\n",
       "      <td>-7.459836</td>\n",
       "      <td>-3.364870</td>\n",
       "      <td>SPEYAKAIVHATA</td>\n",
       "      <td>DSDSLIAGIADMQ</td>\n",
       "      <td>[10.573660739775573, 10.867865092240976, 116.0...</td>\n",
       "      <td>[15.810179901532392, 16.525014460000936, 108.6...</td>\n",
       "      <td>RMLGGSPEYAKAIVHATATGDLSIGIARHPNDSDSLIAGIADMQAR...</td>\n",
       "      <td>1876/hamp_1876_relaxed_rank_1_model_2.pdb</td>\n",
       "      <td>31.75</td>\n",
       "      <td>88.604327</td>\n",
       "      <td>0.84</td>\n",
       "      <td>4.146109</td>\n",
       "      <td>0.050868</td>\n",
       "    </tr>\n",
       "    <tr>\n",
       "      <th>1824</th>\n",
       "      <td>E.1</td>\n",
       "      <td>-25.345750</td>\n",
       "      <td>-3.604211</td>\n",
       "      <td>-21.741539</td>\n",
       "      <td>DPQDTVAVVKRIA</td>\n",
       "      <td>DGDSLMSAVGAMQ</td>\n",
       "      <td>[1.1860298819690078, 1.2132721088346938, 104.3...</td>\n",
       "      <td>[23.34465910441432, 23.229259629418976, 117.93...</td>\n",
       "      <td>SQLGGDPQDTVAVVKRIAAGHLDEEVAVKEGDGDSLMSAVGAMQRE...</td>\n",
       "      <td>1877/hamp_1877_relaxed_rank_1_model_1.pdb</td>\n",
       "      <td>31.75</td>\n",
       "      <td>84.998269</td>\n",
       "      <td>0.79</td>\n",
       "      <td>5.338663</td>\n",
       "      <td>0.062582</td>\n",
       "    </tr>\n",
       "    <tr>\n",
       "      <th>1823</th>\n",
       "      <td>E.1</td>\n",
       "      <td>-7.905259</td>\n",
       "      <td>25.727888</td>\n",
       "      <td>-33.633147</td>\n",
       "      <td>EPYIASYIVSKIA</td>\n",
       "      <td>NKDSILSSIASMQ</td>\n",
       "      <td>[17.54912590136121, 18.336034618605083, 118.93...</td>\n",
       "      <td>[-170.84628342801614, -170.70905403239973, -70...</td>\n",
       "      <td>RLLGGEPYIASYIVSKIANGDLSGHITYKNKDSILSSIASMQEGLR...</td>\n",
       "      <td>1878/hamp_1878_relaxed_rank_1_model_2.pdb</td>\n",
       "      <td>31.75</td>\n",
       "      <td>79.204300</td>\n",
       "      <td>0.69</td>\n",
       "      <td>6.033646</td>\n",
       "      <td>0.082649</td>\n",
       "    </tr>\n",
       "    <tr>\n",
       "      <th>1822</th>\n",
       "      <td>E.1</td>\n",
       "      <td>-10.322618</td>\n",
       "      <td>18.267040</td>\n",
       "      <td>-28.589658</td>\n",
       "      <td>EPSVAADIVREIA</td>\n",
       "      <td>HQDSLLAHIREMQ</td>\n",
       "      <td>[10.86120377531316, 9.529160467336958, 114.586...</td>\n",
       "      <td>[162.2354181466944, 161.46176810169163, -102.3...</td>\n",
       "      <td>RELGTEPSVAADIVREIAAGRLDREIEVDAGHQDSLLAHIREMQGQ...</td>\n",
       "      <td>1879/hamp_1879_relaxed_rank_1_model_1.pdb</td>\n",
       "      <td>31.75</td>\n",
       "      <td>79.962692</td>\n",
       "      <td>0.72</td>\n",
       "      <td>6.100538</td>\n",
       "      <td>0.133737</td>\n",
       "    </tr>\n",
       "    <tr>\n",
       "      <th>1821</th>\n",
       "      <td>E.1</td>\n",
       "      <td>-18.222292</td>\n",
       "      <td>0.050525</td>\n",
       "      <td>-18.272817</td>\n",
       "      <td>DPRIAAHMAGVIA</td>\n",
       "      <td>DRSSLMFAISQMR</td>\n",
       "      <td>[2.4726984117989113, -2.155833778970693, 107.9...</td>\n",
       "      <td>[13.96218099335632, 20.411894039552696, 115.72...</td>\n",
       "      <td>RMIGGDPRIAAHMAGVIASGDLATPFATRREDRSSLMFAISQMRDA...</td>\n",
       "      <td>1880/hamp_1880_relaxed_rank_1_model_2.pdb</td>\n",
       "      <td>31.75</td>\n",
       "      <td>79.302981</td>\n",
       "      <td>0.75</td>\n",
       "      <td>6.116701</td>\n",
       "      <td>0.118812</td>\n",
       "    </tr>\n",
       "  </tbody>\n",
       "</table>\n",
       "<p>62 rows × 15 columns</p>\n",
       "</div>"
      ],
      "text/plain": [
       "     group      n_rot      c_rot        rot          n_seq          c_seq  \\\n",
       "idx                                                                         \n",
       "6268   E.1  22.237017   5.581281  16.655736  EPAVLNEITRKIS  PKGSVFESMAAMQ   \n",
       "6267   E.1  -0.296160  33.640113 -33.936273  EPGQLGTVAQRVA  PRGSVLASLGAMQ   \n",
       "6258   E.1 -13.467002  19.899271 -33.366274  EPSVAQHAAAQIA  DSSSLMSSLDAMR   \n",
       "5472   E.1   2.049084   4.858050  -2.808967  EPTAIADIANKLA  AETGVYAAMHNMV   \n",
       "5456   E.1  -4.072221   1.632634  -5.704855  EPQAATEIMQRVA  PAGSLLHALGTMV   \n",
       "...    ...        ...        ...        ...            ...            ...   \n",
       "1825   E.1 -10.824706  -7.459836  -3.364870  SPEYAKAIVHATA  DSDSLIAGIADMQ   \n",
       "1824   E.1 -25.345750  -3.604211 -21.741539  DPQDTVAVVKRIA  DGDSLMSAVGAMQ   \n",
       "1823   E.1  -7.905259  25.727888 -33.633147  EPYIASYIVSKIA  NKDSILSSIASMQ   \n",
       "1822   E.1 -10.322618  18.267040 -28.589658  EPSVAADIVREIA  HQDSLLAHIREMQ   \n",
       "1821   E.1 -18.222292   0.050525 -18.272817  DPRIAAHMAGVIA  DRSSLMFAISQMR   \n",
       "\n",
       "                                            n_crick_mut  \\\n",
       "idx                                                       \n",
       "6268  [55.00002735096564, 55.25126655948548, 154.853...   \n",
       "6267  [17.143580184545993, 16.94841113816554, 121.92...   \n",
       "6258  [6.977223483347891, 7.166346899838016, 119.121...   \n",
       "5472  [24.033324803574605, 24.20739981825064, 125.77...   \n",
       "5456  [18.107296431929463, 18.02453239199886, 120.06...   \n",
       "...                                                 ...   \n",
       "1825  [10.573660739775573, 10.867865092240976, 116.0...   \n",
       "1824  [1.1860298819690078, 1.2132721088346938, 104.3...   \n",
       "1823  [17.54912590136121, 18.336034618605083, 118.93...   \n",
       "1822  [10.86120377531316, 9.529160467336958, 114.586...   \n",
       "1821  [2.4726984117989113, -2.155833778970693, 107.9...   \n",
       "\n",
       "                                            c_crick_mut  \\\n",
       "idx                                                       \n",
       "6268  [164.68746248073953, 164.47904912725284, -126....   \n",
       "6267  [158.56900029823814, 158.7208717585301, -120.0...   \n",
       "6258  [20.61928988890213, -161.6120128205636, 106.02...   \n",
       "5472  [109.49521003642347, 109.33523328563592, -54.0...   \n",
       "5456  [171.8193754477148, 171.85333458793914, -127.8...   \n",
       "...                                                 ...   \n",
       "1825  [15.810179901532392, 16.525014460000936, 108.6...   \n",
       "1824  [23.34465910441432, 23.229259629418976, 117.93...   \n",
       "1823  [-170.84628342801614, -170.70905403239973, -70...   \n",
       "1822  [162.2354181466944, 161.46176810169163, -102.3...   \n",
       "1821  [13.96218099335632, 20.411894039552696, 115.72...   \n",
       "\n",
       "                                               full_seq  \\\n",
       "idx                                                       \n",
       "6268  KALGTEPAVLNEITRKISAGDLAPIPLAQAAPKGSVFESMAAMQQS...   \n",
       "6267  RALGAEPGQLGTVAQRVAQGDLSRVDGAADAPRGSVLASLGAMQAS...   \n",
       "6258  RQLGGEPSVAQHAAAQIADGNLMIDLPVAHGDSSSLMSSLDAMRAR...   \n",
       "5472  RQLGGEPTAIADIANKLADGDLRIAFDTTGKAETGVYAAMHNMVEK...   \n",
       "5456  RQLGGEPQAATEIMQRVAGGDLTARLDNAPAGSLLHALGTMVGSLR...   \n",
       "...                                                 ...   \n",
       "1825  RMLGGSPEYAKAIVHATATGDLSIGIARHPNDSDSLIAGIADMQAR...   \n",
       "1824  SQLGGDPQDTVAVVKRIAAGHLDEEVAVKEGDGDSLMSAVGAMQRE...   \n",
       "1823  RLLGGEPYIASYIVSKIANGDLSGHITYKNKDSILSSIASMQEGLR...   \n",
       "1822  RELGTEPSVAADIVREIAAGRLDREIEVDAGHQDSLLAHIREMQGQ...   \n",
       "1821  RMIGGDPRIAAHMAGVIASGDLATPFATRREDRSSLMFAISQMRDA...   \n",
       "\n",
       "                                       pdb_file  max_pae      plddt   ptm  \\\n",
       "idx                                                                         \n",
       "6268  1808/hamp_1808_relaxed_rank_1_model_3.pdb    31.75  73.740865  0.65   \n",
       "6267  1809/hamp_1809_relaxed_rank_1_model_2.pdb    31.75  84.750962  0.75   \n",
       "6258  1810/hamp_1810_relaxed_rank_1_model_4.pdb    31.75  85.625192  0.81   \n",
       "5472  1811/hamp_1811_relaxed_rank_1_model_2.pdb    31.75  74.321731  0.69   \n",
       "5456  1812/hamp_1812_relaxed_rank_1_model_2.pdb    31.75  81.230600  0.73   \n",
       "...                                         ...      ...        ...   ...   \n",
       "1825  1876/hamp_1876_relaxed_rank_1_model_2.pdb    31.75  88.604327  0.84   \n",
       "1824  1877/hamp_1877_relaxed_rank_1_model_1.pdb    31.75  84.998269  0.79   \n",
       "1823  1878/hamp_1878_relaxed_rank_1_model_2.pdb    31.75  79.204300  0.69   \n",
       "1822  1879/hamp_1879_relaxed_rank_1_model_1.pdb    31.75  79.962692  0.72   \n",
       "1821  1880/hamp_1880_relaxed_rank_1_model_2.pdb    31.75  79.302981  0.75   \n",
       "\n",
       "      pae_mean      asym  \n",
       "idx                       \n",
       "6268  6.440876  0.185208  \n",
       "6267  4.299061  0.069475  \n",
       "6258  5.513534  0.063133  \n",
       "5472  7.332439  0.065107  \n",
       "5456  5.657957  0.057544  \n",
       "...        ...       ...  \n",
       "1825  4.146109  0.050868  \n",
       "1824  5.338663  0.062582  \n",
       "1823  6.033646  0.082649  \n",
       "1822  6.100538  0.133737  \n",
       "1821  6.116701  0.118812  \n",
       "\n",
       "[62 rows x 15 columns]"
      ]
     },
     "execution_count": 230,
     "metadata": {},
     "output_type": "execute_result"
    }
   ],
   "source": [
    "data_df[data_df.group=='E.1']"
   ]
  },
  {
   "cell_type": "code",
   "execution_count": null,
   "id": "9468c51d",
   "metadata": {},
   "outputs": [],
   "source": []
  },
  {
   "cell_type": "code",
   "execution_count": null,
   "id": "3bc9a338",
   "metadata": {},
   "outputs": [],
   "source": []
  },
  {
   "cell_type": "code",
   "execution_count": null,
   "id": "d5545eb9",
   "metadata": {},
   "outputs": [],
   "source": []
  },
  {
   "cell_type": "code",
   "execution_count": null,
   "id": "d28f2084",
   "metadata": {},
   "outputs": [],
   "source": []
  },
  {
   "cell_type": "code",
   "execution_count": 136,
   "id": "7602065a",
   "metadata": {},
   "outputs": [],
   "source": [
    "from Bio import SeqIO"
   ]
  },
  {
   "cell_type": "code",
   "execution_count": 137,
   "id": "33efa5f8",
   "metadata": {},
   "outputs": [],
   "source": [
    "# read and cluster sequences from https://pubmed.ncbi.nlm.nih.gov/20184894/\n",
    "msa = list(SeqIO.parse(os.path.join(data_dir, 'hamp_msa.fasta'), 'fasta'))\n",
    "\n",
    "msa_df = pd.DataFrame(\n",
    "        [(str(i.seq).replace('-', ''), i.id) for i in msa],\n",
    "    columns=['sequence', 'id']\n",
    ")"
   ]
  },
  {
   "cell_type": "code",
   "execution_count": 151,
   "id": "09dee2cc",
   "metadata": {},
   "outputs": [
    {
     "data": {
      "text/plain": [
       "sequence    DELTDSFRKLEVFAEEVGTGNFDTDIQVFDEEGDVGQSLAKMQNSL...\n",
       "id                           5439|E_group_4|gi|124008109|HAMP\n",
       "Name: 2048, dtype: object"
      ]
     },
     "execution_count": 151,
     "metadata": {},
     "output_type": "execute_result"
    }
   ],
   "source": [
    "msa_df.loc[2048]"
   ]
  },
  {
   "cell_type": "code",
   "execution_count": null,
   "id": "b2d7f9da",
   "metadata": {},
   "outputs": [],
   "source": []
  },
  {
   "cell_type": "code",
   "execution_count": null,
   "id": "b5cf475d",
   "metadata": {},
   "outputs": [],
   "source": []
  },
  {
   "cell_type": "code",
   "execution_count": null,
   "id": "c8e61b61",
   "metadata": {},
   "outputs": [],
   "source": []
  },
  {
   "cell_type": "code",
   "execution_count": null,
   "id": "2f29a878",
   "metadata": {},
   "outputs": [],
   "source": []
  },
  {
   "cell_type": "code",
   "execution_count": 109,
   "id": "c90ef7e1",
   "metadata": {},
   "outputs": [
    {
     "data": {
      "text/plain": [
       "(0.07056385735691044, 0.13442089)"
      ]
     },
     "execution_count": 109,
     "metadata": {},
     "output_type": "execute_result"
    }
   ],
   "source": [
    "get_asymmetry(\n",
    "       os.path.join(data_dir, 'af2_full', '2956/hamp_2956_relaxed_rank_1_model_4.pdb') \n",
    ")"
   ]
  },
  {
   "cell_type": "code",
   "execution_count": null,
   "id": "84bab612",
   "metadata": {},
   "outputs": [],
   "source": []
  }
 ],
 "metadata": {
  "kernelspec": {
   "display_name": "Python 3",
   "language": "python",
   "name": "python3"
  },
  "language_info": {
   "codemirror_mode": {
    "name": "ipython",
    "version": 3
   },
   "file_extension": ".py",
   "mimetype": "text/x-python",
   "name": "python",
   "nbconvert_exporter": "python",
   "pygments_lexer": "ipython3",
   "version": "3.10.4"
  }
 },
 "nbformat": 4,
 "nbformat_minor": 5
}
