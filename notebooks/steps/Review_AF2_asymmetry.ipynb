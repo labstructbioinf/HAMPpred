{
 "cells": [
  {
   "cell_type": "code",
   "execution_count": 2,
   "id": "9b3536f2",
   "metadata": {},
   "outputs": [],
   "source": [
    "import os\n",
    "from copy import deepcopy\n",
    "\n",
    "import numpy as np\n",
    "import pandas as pd\n",
    "import seaborn as sns\n",
    "import matplotlib.pyplot as plt\n",
    "\n",
    "from tqdm import tqdm\n",
    "from Bio.PDB import PDBParser, Superimposer\n",
    "from Bio.PDB.QCPSuperimposer import QCPSuperimposer\n",
    "from sklearn.metrics import mean_squared_error\n",
    "\n",
    "parser = PDBParser(QUIET=True)\n",
    "data_dir = '../../data/input'"
   ]
  },
  {
   "cell_type": "markdown",
   "id": "d06ac68e",
   "metadata": {},
   "source": [
    "# Functions"
   ]
  },
  {
   "cell_type": "code",
   "execution_count": 3,
   "id": "d9315e74",
   "metadata": {},
   "outputs": [],
   "source": [
    "def calc_rmsd(ca_atoms_1, ca_atoms_2):\n",
    "    \n",
    "    ca_atoms_1 = np.array([i.coord for i in ca_atoms_1])\n",
    "    ca_atoms_2 = np.array([i.coord for i in ca_atoms_2])\n",
    "\n",
    "    rmsd = np.sqrt(((((ca_atoms_1 - ca_atoms_2) ** 2))*3).mean())\n",
    "        \n",
    "    return (rmsd)\n",
    "     "
   ]
  },
  {
   "cell_type": "code",
   "execution_count": 4,
   "id": "be78947d",
   "metadata": {},
   "outputs": [],
   "source": [
    "def get_asymmetry(fname):\n",
    "\n",
    "    structure = parser.get_structure(\"protein\", fname)\n",
    "\n",
    "    # Extract CA atoms from chains A and B\n",
    "    ca_atoms_a = [atom for atom in structure[0]['A'].get_atoms() if atom.get_id() == 'CA']\n",
    "    ca_atoms_b = [atom for atom in structure[0]['B'].get_atoms() if atom.get_id() == 'CA']\n",
    "\n",
    "    # keep the initial coordinates\n",
    "    ca_atoms_a_copy = deepcopy(ca_atoms_a)\n",
    "    ca_atoms_b_copy = deepcopy(ca_atoms_b)\n",
    "\n",
    "    # calculate superposition\n",
    "    superimposer = Superimposer()\n",
    "    superimposer.set_atoms(ca_atoms_a, ca_atoms_b) # chain A fixed, chain B moving\n",
    "\n",
    "    # rmsd between chains A and B\n",
    "    chain_rmsd = superimposer.rms\n",
    "\n",
    "    superimposer.apply(ca_atoms_a)\n",
    "    superimposer.apply(ca_atoms_b)\n",
    "    \n",
    "    assert np.isclose(chain_rmsd, calc_rmsd(ca_atoms_a_copy, ca_atoms_b), atol=1e-6), fname\n",
    "    \n",
    "    return chain_rmsd, calc_rmsd(ca_atoms_b_copy, ca_atoms_a)"
   ]
  },
  {
   "cell_type": "markdown",
   "id": "0eb17949",
   "metadata": {},
   "source": [
    "# Get data"
   ]
  },
  {
   "cell_type": "code",
   "execution_count": 5,
   "id": "78786954",
   "metadata": {},
   "outputs": [],
   "source": [
    "hamp_groups_df = pd.read_csv('../../../TCST/offline_data/hamp/groupnames.csv', names=['paper_group', 'group'])\n",
    "hamp_groups_df['group'] = hamp_groups_df['group'].apply(lambda x:x.replace('.fas', ''))\n",
    "paper2group = dict(hamp_groups_df.values) #my_array\n",
    "group2paper = dict(hamp_groups_df.values[:, [1, 0]])"
   ]
  },
  {
   "cell_type": "code",
   "execution_count": 6,
   "id": "fc7b32cb",
   "metadata": {},
   "outputs": [],
   "source": [
    "#NEW_RUN = '_newrun'\n",
    "NEW_RUN = ''\n",
    "\n",
    "data_df = pd.read_pickle(os.path.join(data_dir, f'af2{NEW_RUN}.p'))\n",
    "data_df.group = data_df.group.apply(lambda x:group2paper[x] if x in group2paper else '?')"
   ]
  },
  {
   "cell_type": "markdown",
   "id": "4564a488",
   "metadata": {},
   "source": [
    "# Asymmetry"
   ]
  },
  {
   "cell_type": "code",
   "execution_count": 7,
   "id": "c6ddb799",
   "metadata": {
    "scrolled": true
   },
   "outputs": [
    {
     "name": "stderr",
     "output_type": "stream",
     "text": [
      "  0%|▍                                                                                                                      | 20/5314 [00:07<31:21,  2.81it/s]\n"
     ]
    },
    {
     "ename": "KeyboardInterrupt",
     "evalue": "",
     "output_type": "error",
     "traceback": [
      "\u001b[0;31m---------------------------------------------------------------------------\u001b[0m",
      "\u001b[0;31mKeyboardInterrupt\u001b[0m                         Traceback (most recent call last)",
      "Input \u001b[0;32mIn [7]\u001b[0m, in \u001b[0;36m<cell line: 3>\u001b[0;34m()\u001b[0m\n\u001b[1;32m      1\u001b[0m asym_list \u001b[38;5;241m=\u001b[39m []\n\u001b[1;32m      3\u001b[0m \u001b[38;5;28;01mfor\u001b[39;00m ident, row \u001b[38;5;129;01min\u001b[39;00m tqdm(data_df\u001b[38;5;241m.\u001b[39miterrows(), total\u001b[38;5;241m=\u001b[39m\u001b[38;5;28mlen\u001b[39m(data_df)):\n\u001b[0;32m----> 4\u001b[0m     chain_rmsd, cross_rmsd \u001b[38;5;241m=\u001b[39m \u001b[43mget_asymmetry\u001b[49m\u001b[43m(\u001b[49m\u001b[43mos\u001b[49m\u001b[38;5;241;43m.\u001b[39;49m\u001b[43mpath\u001b[49m\u001b[38;5;241;43m.\u001b[39;49m\u001b[43mjoin\u001b[49m\u001b[43m(\u001b[49m\u001b[43mdata_dir\u001b[49m\u001b[43m,\u001b[49m\u001b[43m \u001b[49m\u001b[38;5;124;43mf\u001b[39;49m\u001b[38;5;124;43m'\u001b[39;49m\u001b[38;5;124;43maf2_full\u001b[39;49m\u001b[38;5;132;43;01m{\u001b[39;49;00m\u001b[43mNEW_RUN\u001b[49m\u001b[38;5;132;43;01m}\u001b[39;49;00m\u001b[38;5;124;43m'\u001b[39;49m\u001b[43m,\u001b[49m\u001b[43m \u001b[49m\u001b[43mrow\u001b[49m\u001b[38;5;241;43m.\u001b[39;49m\u001b[43mpdb_file\u001b[49m\u001b[43m)\u001b[49m\u001b[43m)\u001b[49m\n\u001b[1;32m      5\u001b[0m     asym_list\u001b[38;5;241m.\u001b[39mappend(cross_rmsd)\n",
      "Input \u001b[0;32mIn [4]\u001b[0m, in \u001b[0;36mget_asymmetry\u001b[0;34m(fname)\u001b[0m\n\u001b[1;32m      9\u001b[0m \u001b[38;5;66;03m# keep the initial coordinates\u001b[39;00m\n\u001b[1;32m     10\u001b[0m ca_atoms_a_copy \u001b[38;5;241m=\u001b[39m deepcopy(ca_atoms_a)\n\u001b[0;32m---> 11\u001b[0m ca_atoms_b_copy \u001b[38;5;241m=\u001b[39m \u001b[43mdeepcopy\u001b[49m\u001b[43m(\u001b[49m\u001b[43mca_atoms_b\u001b[49m\u001b[43m)\u001b[49m\n\u001b[1;32m     13\u001b[0m \u001b[38;5;66;03m# calculate superposition\u001b[39;00m\n\u001b[1;32m     14\u001b[0m superimposer \u001b[38;5;241m=\u001b[39m Superimposer()\n",
      "File \u001b[0;32m~/miniconda3/envs/cc/lib/python3.10/copy.py:146\u001b[0m, in \u001b[0;36mdeepcopy\u001b[0;34m(x, memo, _nil)\u001b[0m\n\u001b[1;32m    144\u001b[0m copier \u001b[38;5;241m=\u001b[39m _deepcopy_dispatch\u001b[38;5;241m.\u001b[39mget(\u001b[38;5;28mcls\u001b[39m)\n\u001b[1;32m    145\u001b[0m \u001b[38;5;28;01mif\u001b[39;00m copier \u001b[38;5;129;01mis\u001b[39;00m \u001b[38;5;129;01mnot\u001b[39;00m \u001b[38;5;28;01mNone\u001b[39;00m:\n\u001b[0;32m--> 146\u001b[0m     y \u001b[38;5;241m=\u001b[39m \u001b[43mcopier\u001b[49m\u001b[43m(\u001b[49m\u001b[43mx\u001b[49m\u001b[43m,\u001b[49m\u001b[43m \u001b[49m\u001b[43mmemo\u001b[49m\u001b[43m)\u001b[49m\n\u001b[1;32m    147\u001b[0m \u001b[38;5;28;01melse\u001b[39;00m:\n\u001b[1;32m    148\u001b[0m     \u001b[38;5;28;01mif\u001b[39;00m \u001b[38;5;28missubclass\u001b[39m(\u001b[38;5;28mcls\u001b[39m, \u001b[38;5;28mtype\u001b[39m):\n",
      "File \u001b[0;32m~/miniconda3/envs/cc/lib/python3.10/copy.py:206\u001b[0m, in \u001b[0;36m_deepcopy_list\u001b[0;34m(x, memo, deepcopy)\u001b[0m\n\u001b[1;32m    204\u001b[0m append \u001b[38;5;241m=\u001b[39m y\u001b[38;5;241m.\u001b[39mappend\n\u001b[1;32m    205\u001b[0m \u001b[38;5;28;01mfor\u001b[39;00m a \u001b[38;5;129;01min\u001b[39;00m x:\n\u001b[0;32m--> 206\u001b[0m     append(\u001b[43mdeepcopy\u001b[49m\u001b[43m(\u001b[49m\u001b[43ma\u001b[49m\u001b[43m,\u001b[49m\u001b[43m \u001b[49m\u001b[43mmemo\u001b[49m\u001b[43m)\u001b[49m)\n\u001b[1;32m    207\u001b[0m \u001b[38;5;28;01mreturn\u001b[39;00m y\n",
      "File \u001b[0;32m~/miniconda3/envs/cc/lib/python3.10/copy.py:172\u001b[0m, in \u001b[0;36mdeepcopy\u001b[0;34m(x, memo, _nil)\u001b[0m\n\u001b[1;32m    170\u001b[0m                 y \u001b[38;5;241m=\u001b[39m x\n\u001b[1;32m    171\u001b[0m             \u001b[38;5;28;01melse\u001b[39;00m:\n\u001b[0;32m--> 172\u001b[0m                 y \u001b[38;5;241m=\u001b[39m \u001b[43m_reconstruct\u001b[49m\u001b[43m(\u001b[49m\u001b[43mx\u001b[49m\u001b[43m,\u001b[49m\u001b[43m \u001b[49m\u001b[43mmemo\u001b[49m\u001b[43m,\u001b[49m\u001b[43m \u001b[49m\u001b[38;5;241;43m*\u001b[39;49m\u001b[43mrv\u001b[49m\u001b[43m)\u001b[49m\n\u001b[1;32m    174\u001b[0m \u001b[38;5;66;03m# If is its own copy, don't memoize.\u001b[39;00m\n\u001b[1;32m    175\u001b[0m \u001b[38;5;28;01mif\u001b[39;00m y \u001b[38;5;129;01mis\u001b[39;00m \u001b[38;5;129;01mnot\u001b[39;00m x:\n",
      "File \u001b[0;32m~/miniconda3/envs/cc/lib/python3.10/copy.py:271\u001b[0m, in \u001b[0;36m_reconstruct\u001b[0;34m(x, memo, func, args, state, listiter, dictiter, deepcopy)\u001b[0m\n\u001b[1;32m    269\u001b[0m \u001b[38;5;28;01mif\u001b[39;00m state \u001b[38;5;129;01mis\u001b[39;00m \u001b[38;5;129;01mnot\u001b[39;00m \u001b[38;5;28;01mNone\u001b[39;00m:\n\u001b[1;32m    270\u001b[0m     \u001b[38;5;28;01mif\u001b[39;00m deep:\n\u001b[0;32m--> 271\u001b[0m         state \u001b[38;5;241m=\u001b[39m \u001b[43mdeepcopy\u001b[49m\u001b[43m(\u001b[49m\u001b[43mstate\u001b[49m\u001b[43m,\u001b[49m\u001b[43m \u001b[49m\u001b[43mmemo\u001b[49m\u001b[43m)\u001b[49m\n\u001b[1;32m    272\u001b[0m     \u001b[38;5;28;01mif\u001b[39;00m \u001b[38;5;28mhasattr\u001b[39m(y, \u001b[38;5;124m'\u001b[39m\u001b[38;5;124m__setstate__\u001b[39m\u001b[38;5;124m'\u001b[39m):\n\u001b[1;32m    273\u001b[0m         y\u001b[38;5;241m.\u001b[39m__setstate__(state)\n",
      "File \u001b[0;32m~/miniconda3/envs/cc/lib/python3.10/copy.py:146\u001b[0m, in \u001b[0;36mdeepcopy\u001b[0;34m(x, memo, _nil)\u001b[0m\n\u001b[1;32m    144\u001b[0m copier \u001b[38;5;241m=\u001b[39m _deepcopy_dispatch\u001b[38;5;241m.\u001b[39mget(\u001b[38;5;28mcls\u001b[39m)\n\u001b[1;32m    145\u001b[0m \u001b[38;5;28;01mif\u001b[39;00m copier \u001b[38;5;129;01mis\u001b[39;00m \u001b[38;5;129;01mnot\u001b[39;00m \u001b[38;5;28;01mNone\u001b[39;00m:\n\u001b[0;32m--> 146\u001b[0m     y \u001b[38;5;241m=\u001b[39m \u001b[43mcopier\u001b[49m\u001b[43m(\u001b[49m\u001b[43mx\u001b[49m\u001b[43m,\u001b[49m\u001b[43m \u001b[49m\u001b[43mmemo\u001b[49m\u001b[43m)\u001b[49m\n\u001b[1;32m    147\u001b[0m \u001b[38;5;28;01melse\u001b[39;00m:\n\u001b[1;32m    148\u001b[0m     \u001b[38;5;28;01mif\u001b[39;00m \u001b[38;5;28missubclass\u001b[39m(\u001b[38;5;28mcls\u001b[39m, \u001b[38;5;28mtype\u001b[39m):\n",
      "File \u001b[0;32m~/miniconda3/envs/cc/lib/python3.10/copy.py:231\u001b[0m, in \u001b[0;36m_deepcopy_dict\u001b[0;34m(x, memo, deepcopy)\u001b[0m\n\u001b[1;32m    229\u001b[0m memo[\u001b[38;5;28mid\u001b[39m(x)] \u001b[38;5;241m=\u001b[39m y\n\u001b[1;32m    230\u001b[0m \u001b[38;5;28;01mfor\u001b[39;00m key, value \u001b[38;5;129;01min\u001b[39;00m x\u001b[38;5;241m.\u001b[39mitems():\n\u001b[0;32m--> 231\u001b[0m     y[deepcopy(key, memo)] \u001b[38;5;241m=\u001b[39m \u001b[43mdeepcopy\u001b[49m\u001b[43m(\u001b[49m\u001b[43mvalue\u001b[49m\u001b[43m,\u001b[49m\u001b[43m \u001b[49m\u001b[43mmemo\u001b[49m\u001b[43m)\u001b[49m\n\u001b[1;32m    232\u001b[0m \u001b[38;5;28;01mreturn\u001b[39;00m y\n",
      "File \u001b[0;32m~/miniconda3/envs/cc/lib/python3.10/copy.py:172\u001b[0m, in \u001b[0;36mdeepcopy\u001b[0;34m(x, memo, _nil)\u001b[0m\n\u001b[1;32m    170\u001b[0m                 y \u001b[38;5;241m=\u001b[39m x\n\u001b[1;32m    171\u001b[0m             \u001b[38;5;28;01melse\u001b[39;00m:\n\u001b[0;32m--> 172\u001b[0m                 y \u001b[38;5;241m=\u001b[39m \u001b[43m_reconstruct\u001b[49m\u001b[43m(\u001b[49m\u001b[43mx\u001b[49m\u001b[43m,\u001b[49m\u001b[43m \u001b[49m\u001b[43mmemo\u001b[49m\u001b[43m,\u001b[49m\u001b[43m \u001b[49m\u001b[38;5;241;43m*\u001b[39;49m\u001b[43mrv\u001b[49m\u001b[43m)\u001b[49m\n\u001b[1;32m    174\u001b[0m \u001b[38;5;66;03m# If is its own copy, don't memoize.\u001b[39;00m\n\u001b[1;32m    175\u001b[0m \u001b[38;5;28;01mif\u001b[39;00m y \u001b[38;5;129;01mis\u001b[39;00m \u001b[38;5;129;01mnot\u001b[39;00m x:\n",
      "File \u001b[0;32m~/miniconda3/envs/cc/lib/python3.10/copy.py:271\u001b[0m, in \u001b[0;36m_reconstruct\u001b[0;34m(x, memo, func, args, state, listiter, dictiter, deepcopy)\u001b[0m\n\u001b[1;32m    269\u001b[0m \u001b[38;5;28;01mif\u001b[39;00m state \u001b[38;5;129;01mis\u001b[39;00m \u001b[38;5;129;01mnot\u001b[39;00m \u001b[38;5;28;01mNone\u001b[39;00m:\n\u001b[1;32m    270\u001b[0m     \u001b[38;5;28;01mif\u001b[39;00m deep:\n\u001b[0;32m--> 271\u001b[0m         state \u001b[38;5;241m=\u001b[39m \u001b[43mdeepcopy\u001b[49m\u001b[43m(\u001b[49m\u001b[43mstate\u001b[49m\u001b[43m,\u001b[49m\u001b[43m \u001b[49m\u001b[43mmemo\u001b[49m\u001b[43m)\u001b[49m\n\u001b[1;32m    272\u001b[0m     \u001b[38;5;28;01mif\u001b[39;00m \u001b[38;5;28mhasattr\u001b[39m(y, \u001b[38;5;124m'\u001b[39m\u001b[38;5;124m__setstate__\u001b[39m\u001b[38;5;124m'\u001b[39m):\n\u001b[1;32m    273\u001b[0m         y\u001b[38;5;241m.\u001b[39m__setstate__(state)\n",
      "    \u001b[0;31m[... skipping similar frames: deepcopy at line 146 (1 times)]\u001b[0m\n",
      "File \u001b[0;32m~/miniconda3/envs/cc/lib/python3.10/copy.py:231\u001b[0m, in \u001b[0;36m_deepcopy_dict\u001b[0;34m(x, memo, deepcopy)\u001b[0m\n\u001b[1;32m    229\u001b[0m memo[\u001b[38;5;28mid\u001b[39m(x)] \u001b[38;5;241m=\u001b[39m y\n\u001b[1;32m    230\u001b[0m \u001b[38;5;28;01mfor\u001b[39;00m key, value \u001b[38;5;129;01min\u001b[39;00m x\u001b[38;5;241m.\u001b[39mitems():\n\u001b[0;32m--> 231\u001b[0m     y[deepcopy(key, memo)] \u001b[38;5;241m=\u001b[39m \u001b[43mdeepcopy\u001b[49m\u001b[43m(\u001b[49m\u001b[43mvalue\u001b[49m\u001b[43m,\u001b[49m\u001b[43m \u001b[49m\u001b[43mmemo\u001b[49m\u001b[43m)\u001b[49m\n\u001b[1;32m    232\u001b[0m \u001b[38;5;28;01mreturn\u001b[39;00m y\n",
      "    \u001b[0;31m[... skipping similar frames: deepcopy at line 146 (3 times), _deepcopy_dict at line 231 (2 times), _reconstruct at line 271 (2 times), deepcopy at line 172 (2 times)]\u001b[0m\n",
      "File \u001b[0;32m~/miniconda3/envs/cc/lib/python3.10/copy.py:206\u001b[0m, in \u001b[0;36m_deepcopy_list\u001b[0;34m(x, memo, deepcopy)\u001b[0m\n\u001b[1;32m    204\u001b[0m append \u001b[38;5;241m=\u001b[39m y\u001b[38;5;241m.\u001b[39mappend\n\u001b[1;32m    205\u001b[0m \u001b[38;5;28;01mfor\u001b[39;00m a \u001b[38;5;129;01min\u001b[39;00m x:\n\u001b[0;32m--> 206\u001b[0m     append(\u001b[43mdeepcopy\u001b[49m\u001b[43m(\u001b[49m\u001b[43ma\u001b[49m\u001b[43m,\u001b[49m\u001b[43m \u001b[49m\u001b[43mmemo\u001b[49m\u001b[43m)\u001b[49m)\n\u001b[1;32m    207\u001b[0m \u001b[38;5;28;01mreturn\u001b[39;00m y\n",
      "    \u001b[0;31m[... skipping similar frames: deepcopy at line 146 (4 times), _deepcopy_dict at line 231 (2 times), _reconstruct at line 271 (2 times), deepcopy at line 172 (2 times), _deepcopy_list at line 206 (1 times)]\u001b[0m\n",
      "File \u001b[0;32m~/miniconda3/envs/cc/lib/python3.10/copy.py:206\u001b[0m, in \u001b[0;36m_deepcopy_list\u001b[0;34m(x, memo, deepcopy)\u001b[0m\n\u001b[1;32m    204\u001b[0m append \u001b[38;5;241m=\u001b[39m y\u001b[38;5;241m.\u001b[39mappend\n\u001b[1;32m    205\u001b[0m \u001b[38;5;28;01mfor\u001b[39;00m a \u001b[38;5;129;01min\u001b[39;00m x:\n\u001b[0;32m--> 206\u001b[0m     append(\u001b[43mdeepcopy\u001b[49m\u001b[43m(\u001b[49m\u001b[43ma\u001b[49m\u001b[43m,\u001b[49m\u001b[43m \u001b[49m\u001b[43mmemo\u001b[49m\u001b[43m)\u001b[49m)\n\u001b[1;32m    207\u001b[0m \u001b[38;5;28;01mreturn\u001b[39;00m y\n",
      "File \u001b[0;32m~/miniconda3/envs/cc/lib/python3.10/copy.py:172\u001b[0m, in \u001b[0;36mdeepcopy\u001b[0;34m(x, memo, _nil)\u001b[0m\n\u001b[1;32m    170\u001b[0m                 y \u001b[38;5;241m=\u001b[39m x\n\u001b[1;32m    171\u001b[0m             \u001b[38;5;28;01melse\u001b[39;00m:\n\u001b[0;32m--> 172\u001b[0m                 y \u001b[38;5;241m=\u001b[39m \u001b[43m_reconstruct\u001b[49m\u001b[43m(\u001b[49m\u001b[43mx\u001b[49m\u001b[43m,\u001b[49m\u001b[43m \u001b[49m\u001b[43mmemo\u001b[49m\u001b[43m,\u001b[49m\u001b[43m \u001b[49m\u001b[38;5;241;43m*\u001b[39;49m\u001b[43mrv\u001b[49m\u001b[43m)\u001b[49m\n\u001b[1;32m    174\u001b[0m \u001b[38;5;66;03m# If is its own copy, don't memoize.\u001b[39;00m\n\u001b[1;32m    175\u001b[0m \u001b[38;5;28;01mif\u001b[39;00m y \u001b[38;5;129;01mis\u001b[39;00m \u001b[38;5;129;01mnot\u001b[39;00m x:\n",
      "File \u001b[0;32m~/miniconda3/envs/cc/lib/python3.10/copy.py:271\u001b[0m, in \u001b[0;36m_reconstruct\u001b[0;34m(x, memo, func, args, state, listiter, dictiter, deepcopy)\u001b[0m\n\u001b[1;32m    269\u001b[0m \u001b[38;5;28;01mif\u001b[39;00m state \u001b[38;5;129;01mis\u001b[39;00m \u001b[38;5;129;01mnot\u001b[39;00m \u001b[38;5;28;01mNone\u001b[39;00m:\n\u001b[1;32m    270\u001b[0m     \u001b[38;5;28;01mif\u001b[39;00m deep:\n\u001b[0;32m--> 271\u001b[0m         state \u001b[38;5;241m=\u001b[39m \u001b[43mdeepcopy\u001b[49m\u001b[43m(\u001b[49m\u001b[43mstate\u001b[49m\u001b[43m,\u001b[49m\u001b[43m \u001b[49m\u001b[43mmemo\u001b[49m\u001b[43m)\u001b[49m\n\u001b[1;32m    272\u001b[0m     \u001b[38;5;28;01mif\u001b[39;00m \u001b[38;5;28mhasattr\u001b[39m(y, \u001b[38;5;124m'\u001b[39m\u001b[38;5;124m__setstate__\u001b[39m\u001b[38;5;124m'\u001b[39m):\n\u001b[1;32m    273\u001b[0m         y\u001b[38;5;241m.\u001b[39m__setstate__(state)\n",
      "    \u001b[0;31m[... skipping similar frames: deepcopy at line 146 (1 times)]\u001b[0m\n",
      "File \u001b[0;32m~/miniconda3/envs/cc/lib/python3.10/copy.py:231\u001b[0m, in \u001b[0;36m_deepcopy_dict\u001b[0;34m(x, memo, deepcopy)\u001b[0m\n\u001b[1;32m    229\u001b[0m memo[\u001b[38;5;28mid\u001b[39m(x)] \u001b[38;5;241m=\u001b[39m y\n\u001b[1;32m    230\u001b[0m \u001b[38;5;28;01mfor\u001b[39;00m key, value \u001b[38;5;129;01min\u001b[39;00m x\u001b[38;5;241m.\u001b[39mitems():\n\u001b[0;32m--> 231\u001b[0m     y[deepcopy(key, memo)] \u001b[38;5;241m=\u001b[39m \u001b[43mdeepcopy\u001b[49m\u001b[43m(\u001b[49m\u001b[43mvalue\u001b[49m\u001b[43m,\u001b[49m\u001b[43m \u001b[49m\u001b[43mmemo\u001b[49m\u001b[43m)\u001b[49m\n\u001b[1;32m    232\u001b[0m \u001b[38;5;28;01mreturn\u001b[39;00m y\n",
      "File \u001b[0;32m~/miniconda3/envs/cc/lib/python3.10/copy.py:146\u001b[0m, in \u001b[0;36mdeepcopy\u001b[0;34m(x, memo, _nil)\u001b[0m\n\u001b[1;32m    144\u001b[0m copier \u001b[38;5;241m=\u001b[39m _deepcopy_dispatch\u001b[38;5;241m.\u001b[39mget(\u001b[38;5;28mcls\u001b[39m)\n\u001b[1;32m    145\u001b[0m \u001b[38;5;28;01mif\u001b[39;00m copier \u001b[38;5;129;01mis\u001b[39;00m \u001b[38;5;129;01mnot\u001b[39;00m \u001b[38;5;28;01mNone\u001b[39;00m:\n\u001b[0;32m--> 146\u001b[0m     y \u001b[38;5;241m=\u001b[39m \u001b[43mcopier\u001b[49m\u001b[43m(\u001b[49m\u001b[43mx\u001b[49m\u001b[43m,\u001b[49m\u001b[43m \u001b[49m\u001b[43mmemo\u001b[49m\u001b[43m)\u001b[49m\n\u001b[1;32m    147\u001b[0m \u001b[38;5;28;01melse\u001b[39;00m:\n\u001b[1;32m    148\u001b[0m     \u001b[38;5;28;01mif\u001b[39;00m \u001b[38;5;28missubclass\u001b[39m(\u001b[38;5;28mcls\u001b[39m, \u001b[38;5;28mtype\u001b[39m):\n",
      "File \u001b[0;32m~/miniconda3/envs/cc/lib/python3.10/copy.py:230\u001b[0m, in \u001b[0;36m_deepcopy_dict\u001b[0;34m(x, memo, deepcopy)\u001b[0m\n\u001b[1;32m    228\u001b[0m y \u001b[38;5;241m=\u001b[39m {}\n\u001b[1;32m    229\u001b[0m memo[\u001b[38;5;28mid\u001b[39m(x)] \u001b[38;5;241m=\u001b[39m y\n\u001b[0;32m--> 230\u001b[0m \u001b[38;5;28;01mfor\u001b[39;00m key, value \u001b[38;5;129;01min\u001b[39;00m \u001b[43mx\u001b[49m\u001b[38;5;241;43m.\u001b[39;49m\u001b[43mitems\u001b[49m\u001b[43m(\u001b[49m\u001b[43m)\u001b[49m:\n\u001b[1;32m    231\u001b[0m     y[deepcopy(key, memo)] \u001b[38;5;241m=\u001b[39m deepcopy(value, memo)\n\u001b[1;32m    232\u001b[0m \u001b[38;5;28;01mreturn\u001b[39;00m y\n",
      "\u001b[0;31mKeyboardInterrupt\u001b[0m: "
     ]
    }
   ],
   "source": [
    "\n",
    "asym_list = []\n",
    "\n",
    "for ident, row in tqdm(data_df.iterrows(), total=len(data_df)):\n",
    "    chain_rmsd, cross_rmsd = get_asymmetry(os.path.join(data_dir, f'af2_full{NEW_RUN}', row.pdb_file))\n",
    "    asym_list.append(cross_rmsd)\n",
    "    #if chain_rmsd>0.2:\n",
    "    #    print(ident, row.pdb_file, chain_rmsd, cross_rmsd)\n"
   ]
  },
  {
   "cell_type": "code",
   "execution_count": 112,
   "id": "30d4887d",
   "metadata": {},
   "outputs": [],
   "source": [
    "data_df['asym'] = asym_list"
   ]
  },
  {
   "cell_type": "code",
   "execution_count": 146,
   "id": "aa60f67c",
   "metadata": {},
   "outputs": [
    {
     "data": {
      "text/plain": [
       "<AxesSubplot:>"
      ]
     },
     "execution_count": 146,
     "metadata": {},
     "output_type": "execute_result"
    },
    {
     "data": {
      "image/png": "[encoded data removed]",
      "text/plain": [
       "<Figure size 432x288 with 1 Axes>"
      ]
     },
     "metadata": {
      "needs_background": "light"
     },
     "output_type": "display_data"
    }
   ],
   "source": [
    "data_df.asym.hist(bins=100)"
   ]
  },
  {
   "cell_type": "code",
   "execution_count": 237,
   "id": "32bd9eac",
   "metadata": {},
   "outputs": [],
   "source": [
    "#colors=['Red' if c else 'Black' for c in data_df.group=='E.2']"
   ]
  },
  {
   "cell_type": "markdown",
   "id": "a566b1f2",
   "metadata": {},
   "source": [
    "# AF2 scores"
   ]
  },
  {
   "cell_type": "code",
   "execution_count": 8,
   "id": "978a6cb7",
   "metadata": {},
   "outputs": [
    {
     "name": "stdout",
     "output_type": "stream",
     "text": [
      "80 groups\n"
     ]
    }
   ],
   "source": [
    "# Group the data by 'group' and calculate the mean of 'pae_mean' and 'plddt' for each group\n",
    "grouped_means = data_df.groupby('group')[['pae_mean', 'plddt', 'ptm']].mean().reset_index()\n",
    "\n",
    "print(f'{len(grouped_means)} groups')\n",
    "\n",
    "# Create a list with mean values for each group\n",
    "mean_values_list = grouped_means.values.tolist()\n",
    "\n",
    "data_grouped_df = pd.DataFrame(mean_values_list, columns=['group', 'pae_mean', 'plddt', 'ptm'])\n",
    "data_grouped_df['size'] = data_df.groupby('group').size().tolist()\n"
   ]
  },
  {
   "cell_type": "code",
   "execution_count": 9,
   "id": "68f9fcf2",
   "metadata": {},
   "outputs": [
    {
     "data": {
      "text/html": [
       "<div>\n",
       "<style scoped>\n",
       "    .dataframe tbody tr th:only-of-type {\n",
       "        vertical-align: middle;\n",
       "    }\n",
       "\n",
       "    .dataframe tbody tr th {\n",
       "        vertical-align: top;\n",
       "    }\n",
       "\n",
       "    .dataframe thead th {\n",
       "        text-align: right;\n",
       "    }\n",
       "</style>\n",
       "<table border=\"1\" class=\"dataframe\">\n",
       "  <thead>\n",
       "    <tr style=\"text-align: right;\">\n",
       "      <th></th>\n",
       "      <th>group</th>\n",
       "      <th>pae_mean</th>\n",
       "      <th>plddt</th>\n",
       "      <th>ptm</th>\n",
       "      <th>size</th>\n",
       "    </tr>\n",
       "  </thead>\n",
       "  <tbody>\n",
       "    <tr>\n",
       "      <th>37</th>\n",
       "      <td>A.43</td>\n",
       "      <td>8.692899</td>\n",
       "      <td>72.587759</td>\n",
       "      <td>0.629167</td>\n",
       "      <td>12</td>\n",
       "    </tr>\n",
       "    <tr>\n",
       "      <th>59</th>\n",
       "      <td>E.2</td>\n",
       "      <td>6.248340</td>\n",
       "      <td>78.304191</td>\n",
       "      <td>0.695556</td>\n",
       "      <td>9</td>\n",
       "    </tr>\n",
       "    <tr>\n",
       "      <th>57</th>\n",
       "      <td>E.1</td>\n",
       "      <td>5.732185</td>\n",
       "      <td>81.567841</td>\n",
       "      <td>0.749677</td>\n",
       "      <td>62</td>\n",
       "    </tr>\n",
       "    <tr>\n",
       "      <th>73</th>\n",
       "      <td>F.7</td>\n",
       "      <td>5.061094</td>\n",
       "      <td>83.452227</td>\n",
       "      <td>0.750000</td>\n",
       "      <td>8</td>\n",
       "    </tr>\n",
       "    <tr>\n",
       "      <th>65</th>\n",
       "      <td>E.8</td>\n",
       "      <td>4.878387</td>\n",
       "      <td>84.587409</td>\n",
       "      <td>0.750000</td>\n",
       "      <td>7</td>\n",
       "    </tr>\n",
       "  </tbody>\n",
       "</table>\n",
       "</div>"
      ],
      "text/plain": [
       "   group  pae_mean      plddt       ptm  size\n",
       "37  A.43  8.692899  72.587759  0.629167    12\n",
       "59   E.2  6.248340  78.304191  0.695556     9\n",
       "57   E.1  5.732185  81.567841  0.749677    62\n",
       "73   F.7  5.061094  83.452227  0.750000     8\n",
       "65   E.8  4.878387  84.587409  0.750000     7"
      ]
     },
     "execution_count": 9,
     "metadata": {},
     "output_type": "execute_result"
    }
   ],
   "source": [
    "data_grouped_df.sort_values(by='pae_mean', ascending=False).head(5)"
   ]
  },
  {
   "cell_type": "code",
   "execution_count": 10,
   "id": "2df169c6",
   "metadata": {},
   "outputs": [
    {
     "data": {
      "text/html": [
       "<div>\n",
       "<style scoped>\n",
       "    .dataframe tbody tr th:only-of-type {\n",
       "        vertical-align: middle;\n",
       "    }\n",
       "\n",
       "    .dataframe tbody tr th {\n",
       "        vertical-align: top;\n",
       "    }\n",
       "\n",
       "    .dataframe thead th {\n",
       "        text-align: right;\n",
       "    }\n",
       "</style>\n",
       "<table border=\"1\" class=\"dataframe\">\n",
       "  <thead>\n",
       "    <tr style=\"text-align: right;\">\n",
       "      <th></th>\n",
       "      <th>group</th>\n",
       "      <th>pae_mean</th>\n",
       "      <th>plddt</th>\n",
       "      <th>ptm</th>\n",
       "      <th>size</th>\n",
       "    </tr>\n",
       "  </thead>\n",
       "  <tbody>\n",
       "    <tr>\n",
       "      <th>37</th>\n",
       "      <td>A.43</td>\n",
       "      <td>8.692899</td>\n",
       "      <td>72.587759</td>\n",
       "      <td>0.629167</td>\n",
       "      <td>12</td>\n",
       "    </tr>\n",
       "    <tr>\n",
       "      <th>59</th>\n",
       "      <td>E.2</td>\n",
       "      <td>6.248340</td>\n",
       "      <td>78.304191</td>\n",
       "      <td>0.695556</td>\n",
       "      <td>9</td>\n",
       "    </tr>\n",
       "    <tr>\n",
       "      <th>57</th>\n",
       "      <td>E.1</td>\n",
       "      <td>5.732185</td>\n",
       "      <td>81.567841</td>\n",
       "      <td>0.749677</td>\n",
       "      <td>62</td>\n",
       "    </tr>\n",
       "    <tr>\n",
       "      <th>73</th>\n",
       "      <td>F.7</td>\n",
       "      <td>5.061094</td>\n",
       "      <td>83.452227</td>\n",
       "      <td>0.750000</td>\n",
       "      <td>8</td>\n",
       "    </tr>\n",
       "    <tr>\n",
       "      <th>21</th>\n",
       "      <td>A.28</td>\n",
       "      <td>4.836333</td>\n",
       "      <td>84.095632</td>\n",
       "      <td>0.778288</td>\n",
       "      <td>146</td>\n",
       "    </tr>\n",
       "  </tbody>\n",
       "</table>\n",
       "</div>"
      ],
      "text/plain": [
       "   group  pae_mean      plddt       ptm  size\n",
       "37  A.43  8.692899  72.587759  0.629167    12\n",
       "59   E.2  6.248340  78.304191  0.695556     9\n",
       "57   E.1  5.732185  81.567841  0.749677    62\n",
       "73   F.7  5.061094  83.452227  0.750000     8\n",
       "21  A.28  4.836333  84.095632  0.778288   146"
      ]
     },
     "execution_count": 10,
     "metadata": {},
     "output_type": "execute_result"
    }
   ],
   "source": [
    "data_grouped_df.sort_values(by='plddt', ascending=True).head(5)"
   ]
  },
  {
   "cell_type": "code",
   "execution_count": 48,
   "id": "38f19bd9",
   "metadata": {},
   "outputs": [
    {
     "data": {
      "text/plain": [
       "'E_group_4'"
      ]
     },
     "execution_count": 48,
     "metadata": {},
     "output_type": "execute_result"
    }
   ],
   "source": [
    "paper2group['E.2']"
   ]
  },
  {
   "cell_type": "code",
   "execution_count": 47,
   "id": "32f115a3",
   "metadata": {},
   "outputs": [
    {
     "data": {
      "image/png": "[encoded data removed]",
      "text/plain": [
       "<Figure size 800x800 with 1 Axes>"
      ]
     },
     "metadata": {
      "needs_background": "light"
     },
     "output_type": "display_data"
    }
   ],
   "source": [
    "title_font_size = 12\n",
    "label_font_size = 10\n",
    "\n",
    "# Sort the DataFrame by 'pae_mean' in descending order and 'plddt' in ascending order\n",
    "sorted_df = data_grouped_df.sort_values(by=['pae_mean', 'plddt'], ascending=[False, True])\n",
    "\n",
    "# Get the top 3 groups\n",
    "top_3_groups = sorted_df.head(4)\n",
    "\n",
    "# Create the scatter plot\n",
    "fig, ax = plt.subplots(1, 1, figsize=(4, 4), dpi=200, sharex=True)\n",
    "ax.scatter(data_grouped_df.plddt, data_grouped_df.pae_mean, zorder=0, s=12, c='Grey')\n",
    "\n",
    "# Add text labels for the top 3 groups\n",
    "for index, row in top_3_groups.iterrows():\n",
    "    ax.annotate(row['group'], (row['plddt'] + 0.4, row['pae_mean'] - 0.12), fontsize=10, ha='left', va='bottom', color='red')\n",
    "\n",
    "# Set labels and title for the plot\n",
    "ax.set_xlabel('Mean pLDDT score', fontsize=label_font_size)\n",
    "ax.set_ylabel('Mean PAE score [Å]', fontsize=label_font_size)\n",
    "ax.set_title('Modelling accuracy per HAMP family', fontsize=title_font_size)\n",
    "\n",
    "# Show the plot\n",
    "plt.show()\n"
   ]
  },
  {
   "cell_type": "code",
   "execution_count": null,
   "id": "559793d4",
   "metadata": {},
   "outputs": [],
   "source": []
  },
  {
   "cell_type": "code",
   "execution_count": null,
   "id": "027fe08a",
   "metadata": {},
   "outputs": [],
   "source": []
  },
  {
   "cell_type": "code",
   "execution_count": null,
   "id": "3a562139",
   "metadata": {},
   "outputs": [],
   "source": []
  },
  {
   "cell_type": "code",
   "execution_count": null,
   "id": "999689d6",
   "metadata": {},
   "outputs": [],
   "source": []
  },
  {
   "cell_type": "code",
   "execution_count": null,
   "id": "d2095081",
   "metadata": {},
   "outputs": [],
   "source": []
  },
  {
   "cell_type": "code",
   "execution_count": null,
   "id": "7914a0bc",
   "metadata": {},
   "outputs": [],
   "source": []
  },
  {
   "cell_type": "code",
   "execution_count": 141,
   "id": "a7bd80f0",
   "metadata": {},
   "outputs": [
    {
     "data": {
      "text/plain": [
       "Text(0.5, 0, 'sequence count')"
      ]
     },
     "execution_count": 141,
     "metadata": {},
     "output_type": "execute_result"
    },
    {
     "data": {
      "image/png": "[encoded data removed]",
      "text/plain": [
       "<Figure size 600x600 with 1 Axes>"
      ]
     },
     "metadata": {
      "needs_background": "light"
     },
     "output_type": "display_data"
    }
   ],
   "source": [
    "fig, ax = plt.subplots(1, 1, figsize=(3, 3), dpi=200)\n",
    "\n",
    "\n",
    "pd.merge(\n",
    "    data_df.group.value_counts(), x, how='left', left_index=True, right_index=True\n",
    "           ).plot.scatter('group_x', 'group_y', ax=ax, s=5)\n",
    "\n",
    "ax.set_xlim(0,200)\n",
    "ax.set_ylabel('fraction of bad AF2 models')\n",
    "ax.set_xlabel('sequence count')"
   ]
  },
  {
   "cell_type": "code",
   "execution_count": null,
   "id": "970904f7",
   "metadata": {},
   "outputs": [],
   "source": []
  },
  {
   "cell_type": "code",
   "execution_count": null,
   "id": "1dbf1fa4",
   "metadata": {},
   "outputs": [],
   "source": []
  },
  {
   "cell_type": "code",
   "execution_count": null,
   "id": "350c6e52",
   "metadata": {},
   "outputs": [],
   "source": []
  },
  {
   "cell_type": "code",
   "execution_count": null,
   "id": "29477c9a",
   "metadata": {},
   "outputs": [],
   "source": []
  },
  {
   "cell_type": "code",
   "execution_count": null,
   "id": "35575ea0",
   "metadata": {},
   "outputs": [],
   "source": []
  },
  {
   "cell_type": "code",
   "execution_count": 15,
   "id": "0fa5456f",
   "metadata": {},
   "outputs": [
    {
     "data": {
      "text/plain": [
       "E.2     0.666667\n",
       "A.43    0.583333\n",
       "E.1     0.403226\n",
       "E.8     0.285714\n",
       "E.7     0.285714\n",
       "E.3     0.250000\n",
       "Name: group, dtype: float64"
      ]
     },
     "execution_count": 15,
     "metadata": {},
     "output_type": "execute_result"
    },
    {
     "data": {
      "image/png": "[encoded data removed]",
      "text/plain": [
       "<Figure size 1200x600 with 2 Axes>"
      ]
     },
     "metadata": {
      "needs_background": "light"
     },
     "output_type": "display_data"
    }
   ],
   "source": [
    "\n",
    "\n",
    "plddt_cut = 80\n",
    "pae_mean_cut = 6\n",
    "\n",
    "fig, axes = plt.subplots(1, 2, figsize=(6, 3), dpi=200, sharex=True)\n",
    "\n",
    "ax1 = axes[0]\n",
    "ax2 = axes[1]\n",
    "\n",
    "sns.kdeplot(data=data_df, x='plddt', y='pae_mean', fill=True, cmap='Greys', ax=ax1, bw_method=0.08)\n",
    "\n",
    "ax2.scatter(data_df.plddt, data_df.pae_mean, zorder=0, s=0.5, c='Grey')\n",
    "\n",
    "for ax in [ax1, ax2]:\n",
    "\n",
    "    # Add horizontal and vertical lines\n",
    "    ax.axhline(y=pae_mean_cut, color='red', linestyle='--', label='Horizontal Line at y=6')\n",
    "    ax.axvline(x=plddt_cut, color='green', linestyle='--', label='Vertical Line at x=80')\n",
    "\n",
    "\n",
    "x=(data_df[(data_df.plddt <= plddt_cut) & (data_df.pae_mean >= pae_mean_cut)].group.value_counts() / data_df.group.value_counts()).dropna().sort_values(ascending=False)\n",
    "x[:6]\n"
   ]
  },
  {
   "cell_type": "code",
   "execution_count": 55,
   "id": "e8c3510a",
   "metadata": {},
   "outputs": [
    {
     "data": {
      "text/plain": [
       "<matplotlib.collections.PathCollection at 0x7f7220e15f60>"
      ]
     },
     "execution_count": 55,
     "metadata": {},
     "output_type": "execute_result"
    },
    {
     "data": {
      "image/png": "[encoded data removed]",
      "text/plain": [
       "<Figure size 1200x600 with 2 Axes>"
      ]
     },
     "metadata": {
      "needs_background": "light"
     },
     "output_type": "display_data"
    }
   ],
   "source": []
  },
  {
   "cell_type": "code",
   "execution_count": null,
   "id": "0cb2fd35",
   "metadata": {},
   "outputs": [],
   "source": []
  },
  {
   "cell_type": "code",
   "execution_count": null,
   "id": "dea80a1c",
   "metadata": {},
   "outputs": [],
   "source": []
  },
  {
   "cell_type": "code",
   "execution_count": null,
   "id": "ba3d8a75",
   "metadata": {},
   "outputs": [],
   "source": []
  },
  {
   "cell_type": "code",
   "execution_count": null,
   "id": "d842616d",
   "metadata": {},
   "outputs": [],
   "source": []
  },
  {
   "cell_type": "code",
   "execution_count": null,
   "id": "a30e92c2",
   "metadata": {},
   "outputs": [],
   "source": []
  },
  {
   "cell_type": "code",
   "execution_count": 208,
   "id": "603c07bb",
   "metadata": {},
   "outputs": [],
   "source": [
    "# https://www.ncbi.nlm.nih.gov/protein/YP_001760340.1?report=fasta # E1 # E2\n",
    "# https://www.ncbi.nlm.nih.gov/protein/ZP_01998985.1?report=fasta # F7\n"
   ]
  },
  {
   "cell_type": "code",
   "execution_count": 16,
   "id": "a8ada892",
   "metadata": {},
   "outputs": [
    {
     "data": {
      "text/plain": [
       "Text(0.5, 0, 'sequence count')"
      ]
     },
     "execution_count": 16,
     "metadata": {},
     "output_type": "execute_result"
    },
    {
     "data": {
      "image/png": "[encoded data removed]",
      "text/plain": [
       "<Figure size 600x600 with 1 Axes>"
      ]
     },
     "metadata": {
      "needs_background": "light"
     },
     "output_type": "display_data"
    }
   ],
   "source": []
  },
  {
   "cell_type": "code",
   "execution_count": null,
   "id": "bd67ed18",
   "metadata": {},
   "outputs": [],
   "source": []
  },
  {
   "cell_type": "code",
   "execution_count": null,
   "id": "ddb785f9",
   "metadata": {},
   "outputs": [],
   "source": []
  },
  {
   "cell_type": "code",
   "execution_count": 230,
   "id": "07971b23",
   "metadata": {},
   "outputs": [
    {
     "data": {
      "text/html": [
       "<div>\n",
       "<style scoped>\n",
       "    .dataframe tbody tr th:only-of-type {\n",
       "        vertical-align: middle;\n",
       "    }\n",
       "\n",
       "    .dataframe tbody tr th {\n",
       "        vertical-align: top;\n",
       "    }\n",
       "\n",
       "    .dataframe thead th {\n",
       "        text-align: right;\n",
       "    }\n",
       "</style>\n",
       "<table border=\"1\" class=\"dataframe\">\n",
       "  <thead>\n",
       "    <tr style=\"text-align: right;\">\n",
       "      <th></th>\n",
       "      <th>group</th>\n",
       "      <th>n_rot</th>\n",
       "      <th>c_rot</th>\n",
       "      <th>rot</th>\n",
       "      <th>n_seq</th>\n",
       "      <th>c_seq</th>\n",
       "      <th>n_crick_mut</th>\n",
       "      <th>c_crick_mut</th>\n",
       "      <th>full_seq</th>\n",
       "      <th>pdb_file</th>\n",
       "      <th>max_pae</th>\n",
       "      <th>plddt</th>\n",
       "      <th>ptm</th>\n",
       "      <th>pae_mean</th>\n",
       "      <th>asym</th>\n",
       "    </tr>\n",
       "    <tr>\n",
       "      <th>idx</th>\n",
       "      <th></th>\n",
       "      <th></th>\n",
       "      <th></th>\n",
       "      <th></th>\n",
       "      <th></th>\n",
       "      <th></th>\n",
       "      <th></th>\n",
       "      <th></th>\n",
       "      <th></th>\n",
       "      <th></th>\n",
       "      <th></th>\n",
       "      <th></th>\n",
       "      <th></th>\n",
       "      <th></th>\n",
       "      <th></th>\n",
       "    </tr>\n",
       "  </thead>\n",
       "  <tbody>\n",
       "    <tr>\n",
       "      <th>6268</th>\n",
       "      <td>E.1</td>\n",
       "      <td>22.237017</td>\n",
       "      <td>5.581281</td>\n",
       "      <td>16.655736</td>\n",
       "      <td>EPAVLNEITRKIS</td>\n",
       "      <td>PKGSVFESMAAMQ</td>\n",
       "      <td>[55.00002735096564, 55.25126655948548, 154.853...</td>\n",
       "      <td>[164.68746248073953, 164.47904912725284, -126....</td>\n",
       "      <td>KALGTEPAVLNEITRKISAGDLAPIPLAQAAPKGSVFESMAAMQQS...</td>\n",
       "      <td>1808/hamp_1808_relaxed_rank_1_model_3.pdb</td>\n",
       "      <td>31.75</td>\n",
       "      <td>73.740865</td>\n",
       "      <td>0.65</td>\n",
       "      <td>6.440876</td>\n",
       "      <td>0.185208</td>\n",
       "    </tr>\n",
       "    <tr>\n",
       "      <th>6267</th>\n",
       "      <td>E.1</td>\n",
       "      <td>-0.296160</td>\n",
       "      <td>33.640113</td>\n",
       "      <td>-33.936273</td>\n",
       "      <td>EPGQLGTVAQRVA</td>\n",
       "      <td>PRGSVLASLGAMQ</td>\n",
       "      <td>[17.143580184545993, 16.94841113816554, 121.92...</td>\n",
       "      <td>[158.56900029823814, 158.7208717585301, -120.0...</td>\n",
       "      <td>RALGAEPGQLGTVAQRVAQGDLSRVDGAADAPRGSVLASLGAMQAS...</td>\n",
       "      <td>1809/hamp_1809_relaxed_rank_1_model_2.pdb</td>\n",
       "      <td>31.75</td>\n",
       "      <td>84.750962</td>\n",
       "      <td>0.75</td>\n",
       "      <td>4.299061</td>\n",
       "      <td>0.069475</td>\n",
       "    </tr>\n",
       "    <tr>\n",
       "      <th>6258</th>\n",
       "      <td>E.1</td>\n",
       "      <td>-13.467002</td>\n",
       "      <td>19.899271</td>\n",
       "      <td>-33.366274</td>\n",
       "      <td>EPSVAQHAAAQIA</td>\n",
       "      <td>DSSSLMSSLDAMR</td>\n",
       "      <td>[6.977223483347891, 7.166346899838016, 119.121...</td>\n",
       "      <td>[20.61928988890213, -161.6120128205636, 106.02...</td>\n",
       "      <td>RQLGGEPSVAQHAAAQIADGNLMIDLPVAHGDSSSLMSSLDAMRAR...</td>\n",
       "      <td>1810/hamp_1810_relaxed_rank_1_model_4.pdb</td>\n",
       "      <td>31.75</td>\n",
       "      <td>85.625192</td>\n",
       "      <td>0.81</td>\n",
       "      <td>5.513534</td>\n",
       "      <td>0.063133</td>\n",
       "    </tr>\n",
       "    <tr>\n",
       "      <th>5472</th>\n",
       "      <td>E.1</td>\n",
       "      <td>2.049084</td>\n",
       "      <td>4.858050</td>\n",
       "      <td>-2.808967</td>\n",
       "      <td>EPTAIADIANKLA</td>\n",
       "      <td>AETGVYAAMHNMV</td>\n",
       "      <td>[24.033324803574605, 24.20739981825064, 125.77...</td>\n",
       "      <td>[109.49521003642347, 109.33523328563592, -54.0...</td>\n",
       "      <td>RQLGGEPTAIADIANKLADGDLRIAFDTTGKAETGVYAAMHNMVEK...</td>\n",
       "      <td>1811/hamp_1811_relaxed_rank_1_model_2.pdb</td>\n",
       "      <td>31.75</td>\n",
       "      <td>74.321731</td>\n",
       "      <td>0.69</td>\n",
       "      <td>7.332439</td>\n",
       "      <td>0.065107</td>\n",
       "    </tr>\n",
       "    <tr>\n",
       "      <th>5456</th>\n",
       "      <td>E.1</td>\n",
       "      <td>-4.072221</td>\n",
       "      <td>1.632634</td>\n",
       "      <td>-5.704855</td>\n",
       "      <td>EPQAATEIMQRVA</td>\n",
       "      <td>PAGSLLHALGTMV</td>\n",
       "      <td>[18.107296431929463, 18.02453239199886, 120.06...</td>\n",
       "      <td>[171.8193754477148, 171.85333458793914, -127.8...</td>\n",
       "      <td>RQLGGEPQAATEIMQRVAGGDLTARLDNAPAGSLLHALGTMVGSLR...</td>\n",
       "      <td>1812/hamp_1812_relaxed_rank_1_model_2.pdb</td>\n",
       "      <td>31.75</td>\n",
       "      <td>81.230600</td>\n",
       "      <td>0.73</td>\n",
       "      <td>5.657957</td>\n",
       "      <td>0.057544</td>\n",
       "    </tr>\n",
       "    <tr>\n",
       "      <th>...</th>\n",
       "      <td>...</td>\n",
       "      <td>...</td>\n",
       "      <td>...</td>\n",
       "      <td>...</td>\n",
       "      <td>...</td>\n",
       "      <td>...</td>\n",
       "      <td>...</td>\n",
       "      <td>...</td>\n",
       "      <td>...</td>\n",
       "      <td>...</td>\n",
       "      <td>...</td>\n",
       "      <td>...</td>\n",
       "      <td>...</td>\n",
       "      <td>...</td>\n",
       "      <td>...</td>\n",
       "    </tr>\n",
       "    <tr>\n",
       "      <th>1825</th>\n",
       "      <td>E.1</td>\n",
       "      <td>-10.824706</td>\n",
       "      <td>-7.459836</td>\n",
       "      <td>-3.364870</td>\n",
       "      <td>SPEYAKAIVHATA</td>\n",
       "      <td>DSDSLIAGIADMQ</td>\n",
       "      <td>[10.573660739775573, 10.867865092240976, 116.0...</td>\n",
       "      <td>[15.810179901532392, 16.525014460000936, 108.6...</td>\n",
       "      <td>RMLGGSPEYAKAIVHATATGDLSIGIARHPNDSDSLIAGIADMQAR...</td>\n",
       "      <td>1876/hamp_1876_relaxed_rank_1_model_2.pdb</td>\n",
       "      <td>31.75</td>\n",
       "      <td>88.604327</td>\n",
       "      <td>0.84</td>\n",
       "      <td>4.146109</td>\n",
       "      <td>0.050868</td>\n",
       "    </tr>\n",
       "    <tr>\n",
       "      <th>1824</th>\n",
       "      <td>E.1</td>\n",
       "      <td>-25.345750</td>\n",
       "      <td>-3.604211</td>\n",
       "      <td>-21.741539</td>\n",
       "      <td>DPQDTVAVVKRIA</td>\n",
       "      <td>DGDSLMSAVGAMQ</td>\n",
       "      <td>[1.1860298819690078, 1.2132721088346938, 104.3...</td>\n",
       "      <td>[23.34465910441432, 23.229259629418976, 117.93...</td>\n",
       "      <td>SQLGGDPQDTVAVVKRIAAGHLDEEVAVKEGDGDSLMSAVGAMQRE...</td>\n",
       "      <td>1877/hamp_1877_relaxed_rank_1_model_1.pdb</td>\n",
       "      <td>31.75</td>\n",
       "      <td>84.998269</td>\n",
       "      <td>0.79</td>\n",
       "      <td>5.338663</td>\n",
       "      <td>0.062582</td>\n",
       "    </tr>\n",
       "    <tr>\n",
       "      <th>1823</th>\n",
       "      <td>E.1</td>\n",
       "      <td>-7.905259</td>\n",
       "      <td>25.727888</td>\n",
       "      <td>-33.633147</td>\n",
       "      <td>EPYIASYIVSKIA</td>\n",
       "      <td>NKDSILSSIASMQ</td>\n",
       "      <td>[17.54912590136121, 18.336034618605083, 118.93...</td>\n",
       "      <td>[-170.84628342801614, -170.70905403239973, -70...</td>\n",
       "      <td>RLLGGEPYIASYIVSKIANGDLSGHITYKNKDSILSSIASMQEGLR...</td>\n",
       "      <td>1878/hamp_1878_relaxed_rank_1_model_2.pdb</td>\n",
       "      <td>31.75</td>\n",
       "      <td>79.204300</td>\n",
       "      <td>0.69</td>\n",
       "      <td>6.033646</td>\n",
       "      <td>0.082649</td>\n",
       "    </tr>\n",
       "    <tr>\n",
       "      <th>1822</th>\n",
       "      <td>E.1</td>\n",
       "      <td>-10.322618</td>\n",
       "      <td>18.267040</td>\n",
       "      <td>-28.589658</td>\n",
       "      <td>EPSVAADIVREIA</td>\n",
       "      <td>HQDSLLAHIREMQ</td>\n",
       "      <td>[10.86120377531316, 9.529160467336958, 114.586...</td>\n",
       "      <td>[162.2354181466944, 161.46176810169163, -102.3...</td>\n",
       "      <td>RELGTEPSVAADIVREIAAGRLDREIEVDAGHQDSLLAHIREMQGQ...</td>\n",
       "      <td>1879/hamp_1879_relaxed_rank_1_model_1.pdb</td>\n",
       "      <td>31.75</td>\n",
       "      <td>79.962692</td>\n",
       "      <td>0.72</td>\n",
       "      <td>6.100538</td>\n",
       "      <td>0.133737</td>\n",
       "    </tr>\n",
       "    <tr>\n",
       "      <th>1821</th>\n",
       "      <td>E.1</td>\n",
       "      <td>-18.222292</td>\n",
       "      <td>0.050525</td>\n",
       "      <td>-18.272817</td>\n",
       "      <td>DPRIAAHMAGVIA</td>\n",
       "      <td>DRSSLMFAISQMR</td>\n",
       "      <td>[2.4726984117989113, -2.155833778970693, 107.9...</td>\n",
       "      <td>[13.96218099335632, 20.411894039552696, 115.72...</td>\n",
       "      <td>RMIGGDPRIAAHMAGVIASGDLATPFATRREDRSSLMFAISQMRDA...</td>\n",
       "      <td>1880/hamp_1880_relaxed_rank_1_model_2.pdb</td>\n",
       "      <td>31.75</td>\n",
       "      <td>79.302981</td>\n",
       "      <td>0.75</td>\n",
       "      <td>6.116701</td>\n",
       "      <td>0.118812</td>\n",
       "    </tr>\n",
       "  </tbody>\n",
       "</table>\n",
       "<p>62 rows × 15 columns</p>\n",
       "</div>"
      ],
      "text/plain": [
       "     group      n_rot      c_rot        rot          n_seq          c_seq  \\\n",
       "idx                                                                         \n",
       "6268   E.1  22.237017   5.581281  16.655736  EPAVLNEITRKIS  PKGSVFESMAAMQ   \n",
       "6267   E.1  -0.296160  33.640113 -33.936273  EPGQLGTVAQRVA  PRGSVLASLGAMQ   \n",
       "6258   E.1 -13.467002  19.899271 -33.366274  EPSVAQHAAAQIA  DSSSLMSSLDAMR   \n",
       "5472   E.1   2.049084   4.858050  -2.808967  EPTAIADIANKLA  AETGVYAAMHNMV   \n",
       "5456   E.1  -4.072221   1.632634  -5.704855  EPQAATEIMQRVA  PAGSLLHALGTMV   \n",
       "...    ...        ...        ...        ...            ...            ...   \n",
       "1825   E.1 -10.824706  -7.459836  -3.364870  SPEYAKAIVHATA  DSDSLIAGIADMQ   \n",
       "1824   E.1 -25.345750  -3.604211 -21.741539  DPQDTVAVVKRIA  DGDSLMSAVGAMQ   \n",
       "1823   E.1  -7.905259  25.727888 -33.633147  EPYIASYIVSKIA  NKDSILSSIASMQ   \n",
       "1822   E.1 -10.322618  18.267040 -28.589658  EPSVAADIVREIA  HQDSLLAHIREMQ   \n",
       "1821   E.1 -18.222292   0.050525 -18.272817  DPRIAAHMAGVIA  DRSSLMFAISQMR   \n",
       "\n",
       "                                            n_crick_mut  \\\n",
       "idx                                                       \n",
       "6268  [55.00002735096564, 55.25126655948548, 154.853...   \n",
       "6267  [17.143580184545993, 16.94841113816554, 121.92...   \n",
       "6258  [6.977223483347891, 7.166346899838016, 119.121...   \n",
       "5472  [24.033324803574605, 24.20739981825064, 125.77...   \n",
       "5456  [18.107296431929463, 18.02453239199886, 120.06...   \n",
       "...                                                 ...   \n",
       "1825  [10.573660739775573, 10.867865092240976, 116.0...   \n",
       "1824  [1.1860298819690078, 1.2132721088346938, 104.3...   \n",
       "1823  [17.54912590136121, 18.336034618605083, 118.93...   \n",
       "1822  [10.86120377531316, 9.529160467336958, 114.586...   \n",
       "1821  [2.4726984117989113, -2.155833778970693, 107.9...   \n",
       "\n",
       "                                            c_crick_mut  \\\n",
       "idx                                                       \n",
       "6268  [164.68746248073953, 164.47904912725284, -126....   \n",
       "6267  [158.56900029823814, 158.7208717585301, -120.0...   \n",
       "6258  [20.61928988890213, -161.6120128205636, 106.02...   \n",
       "5472  [109.49521003642347, 109.33523328563592, -54.0...   \n",
       "5456  [171.8193754477148, 171.85333458793914, -127.8...   \n",
       "...                                                 ...   \n",
       "1825  [15.810179901532392, 16.525014460000936, 108.6...   \n",
       "1824  [23.34465910441432, 23.229259629418976, 117.93...   \n",
       "1823  [-170.84628342801614, -170.70905403239973, -70...   \n",
       "1822  [162.2354181466944, 161.46176810169163, -102.3...   \n",
       "1821  [13.96218099335632, 20.411894039552696, 115.72...   \n",
       "\n",
       "                                               full_seq  \\\n",
       "idx                                                       \n",
       "6268  KALGTEPAVLNEITRKISAGDLAPIPLAQAAPKGSVFESMAAMQQS...   \n",
       "6267  RALGAEPGQLGTVAQRVAQGDLSRVDGAADAPRGSVLASLGAMQAS...   \n",
       "6258  RQLGGEPSVAQHAAAQIADGNLMIDLPVAHGDSSSLMSSLDAMRAR...   \n",
       "5472  RQLGGEPTAIADIANKLADGDLRIAFDTTGKAETGVYAAMHNMVEK...   \n",
       "5456  RQLGGEPQAATEIMQRVAGGDLTARLDNAPAGSLLHALGTMVGSLR...   \n",
       "...                                                 ...   \n",
       "1825  RMLGGSPEYAKAIVHATATGDLSIGIARHPNDSDSLIAGIADMQAR...   \n",
       "1824  SQLGGDPQDTVAVVKRIAAGHLDEEVAVKEGDGDSLMSAVGAMQRE...   \n",
       "1823  RLLGGEPYIASYIVSKIANGDLSGHITYKNKDSILSSIASMQEGLR...   \n",
       "1822  RELGTEPSVAADIVREIAAGRLDREIEVDAGHQDSLLAHIREMQGQ...   \n",
       "1821  RMIGGDPRIAAHMAGVIASGDLATPFATRREDRSSLMFAISQMRDA...   \n",
       "\n",
       "                                       pdb_file  max_pae      plddt   ptm  \\\n",
       "idx                                                                         \n",
       "6268  1808/hamp_1808_relaxed_rank_1_model_3.pdb    31.75  73.740865  0.65   \n",
       "6267  1809/hamp_1809_relaxed_rank_1_model_2.pdb    31.75  84.750962  0.75   \n",
       "6258  1810/hamp_1810_relaxed_rank_1_model_4.pdb    31.75  85.625192  0.81   \n",
       "5472  1811/hamp_1811_relaxed_rank_1_model_2.pdb    31.75  74.321731  0.69   \n",
       "5456  1812/hamp_1812_relaxed_rank_1_model_2.pdb    31.75  81.230600  0.73   \n",
       "...                                         ...      ...        ...   ...   \n",
       "1825  1876/hamp_1876_relaxed_rank_1_model_2.pdb    31.75  88.604327  0.84   \n",
       "1824  1877/hamp_1877_relaxed_rank_1_model_1.pdb    31.75  84.998269  0.79   \n",
       "1823  1878/hamp_1878_relaxed_rank_1_model_2.pdb    31.75  79.204300  0.69   \n",
       "1822  1879/hamp_1879_relaxed_rank_1_model_1.pdb    31.75  79.962692  0.72   \n",
       "1821  1880/hamp_1880_relaxed_rank_1_model_2.pdb    31.75  79.302981  0.75   \n",
       "\n",
       "      pae_mean      asym  \n",
       "idx                       \n",
       "6268  6.440876  0.185208  \n",
       "6267  4.299061  0.069475  \n",
       "6258  5.513534  0.063133  \n",
       "5472  7.332439  0.065107  \n",
       "5456  5.657957  0.057544  \n",
       "...        ...       ...  \n",
       "1825  4.146109  0.050868  \n",
       "1824  5.338663  0.062582  \n",
       "1823  6.033646  0.082649  \n",
       "1822  6.100538  0.133737  \n",
       "1821  6.116701  0.118812  \n",
       "\n",
       "[62 rows x 15 columns]"
      ]
     },
     "execution_count": 230,
     "metadata": {},
     "output_type": "execute_result"
    }
   ],
   "source": [
    "data_df[data_df.group=='E.1']"
   ]
  },
  {
   "cell_type": "code",
   "execution_count": null,
   "id": "9468c51d",
   "metadata": {},
   "outputs": [],
   "source": []
  },
  {
   "cell_type": "code",
   "execution_count": null,
   "id": "3bc9a338",
   "metadata": {},
   "outputs": [],
   "source": []
  },
  {
   "cell_type": "code",
   "execution_count": null,
   "id": "d5545eb9",
   "metadata": {},
   "outputs": [],
   "source": []
  },
  {
   "cell_type": "code",
   "execution_count": null,
   "id": "d28f2084",
   "metadata": {},
   "outputs": [],
   "source": []
  },
  {
   "cell_type": "code",
   "execution_count": 136,
   "id": "7602065a",
   "metadata": {},
   "outputs": [],
   "source": [
    "from Bio import SeqIO"
   ]
  },
  {
   "cell_type": "code",
   "execution_count": 137,
   "id": "33efa5f8",
   "metadata": {},
   "outputs": [],
   "source": [
    "# read and cluster sequences from https://pubmed.ncbi.nlm.nih.gov/20184894/\n",
    "msa = list(SeqIO.parse(os.path.join(data_dir, 'hamp_msa.fasta'), 'fasta'))\n",
    "\n",
    "msa_df = pd.DataFrame(\n",
    "        [(str(i.seq).replace('-', ''), i.id) for i in msa],\n",
    "    columns=['sequence', 'id']\n",
    ")"
   ]
  },
  {
   "cell_type": "code",
   "execution_count": 151,
   "id": "09dee2cc",
   "metadata": {},
   "outputs": [
    {
     "data": {
      "text/plain": [
       "sequence    DELTDSFRKLEVFAEEVGTGNFDTDIQVFDEEGDVGQSLAKMQNSL...\n",
       "id                           5439|E_group_4|gi|124008109|HAMP\n",
       "Name: 2048, dtype: object"
      ]
     },
     "execution_count": 151,
     "metadata": {},
     "output_type": "execute_result"
    }
   ],
   "source": [
    "msa_df.loc[2048]"
   ]
  },
  {
   "cell_type": "code",
   "execution_count": null,
   "id": "b2d7f9da",
   "metadata": {},
   "outputs": [],
   "source": []
  },
  {
   "cell_type": "code",
   "execution_count": null,
   "id": "b5cf475d",
   "metadata": {},
   "outputs": [],
   "source": []
  },
  {
   "cell_type": "code",
   "execution_count": null,
   "id": "c8e61b61",
   "metadata": {},
   "outputs": [],
   "source": []
  },
  {
   "cell_type": "code",
   "execution_count": null,
   "id": "2f29a878",
   "metadata": {},
   "outputs": [],
   "source": []
  },
  {
   "cell_type": "code",
   "execution_count": 109,
   "id": "c90ef7e1",
   "metadata": {},
   "outputs": [
    {
     "data": {
      "text/plain": [
       "(0.07056385735691044, 0.13442089)"
      ]
     },
     "execution_count": 109,
     "metadata": {},
     "output_type": "execute_result"
    }
   ],
   "source": [
    "get_asymmetry(\n",
    "       os.path.join(data_dir, 'af2_full', '2956/hamp_2956_relaxed_rank_1_model_4.pdb') \n",
    ")"
   ]
  },
  {
   "cell_type": "code",
   "execution_count": null,
   "id": "84bab612",
   "metadata": {},
   "outputs": [],
   "source": []
  }
 ],
 "metadata": {
  "kernelspec": {
   "display_name": "Python 3",
   "language": "python",
   "name": "python3"
  },
  "language_info": {
   "codemirror_mode": {
    "name": "ipython",
    "version": 3
   },
   "file_extension": ".py",
   "mimetype": "text/x-python",
   "name": "python",
   "nbconvert_exporter": "python",
   "pygments_lexer": "ipython3",
   "version": "3.10.4"
  }
 },
 "nbformat": 4,
 "nbformat_minor": 5
}
