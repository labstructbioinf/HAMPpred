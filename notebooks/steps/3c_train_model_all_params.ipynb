{
 "cells": [
  {
   "cell_type": "code",
   "execution_count": 1,
   "id": "edd0a63a",
   "metadata": {},
   "outputs": [],
   "source": [
    "import sys\n",
    "import os\n",
    "import pandas as pd\n",
    "import numpy as np\n",
    "import matplotlib.pyplot as plt\n",
    "\n",
    "sys.path.append('../..')\n",
    "from hamp_pred.src.input_prep.prepare_sequence import MultiChainOperator, SeqWindow\n",
    "from hamp_pred.src.input_prep.encode import MultiEncoder, OneHotEncoderSeq, RadianEncoder \n",
    "from hamp_pred.src.input_prep.encode import RadiousPhobosEncoder\n",
    "from hamp_pred.src.predictor_config import PredictionConfig \n",
    "from hamp_pred.src.models.common.models import BaseConvolutionalWrapper \n",
    "from hamp_pred.src.predictor import Predictor"
   ]
  },
  {
   "cell_type": "markdown",
   "id": "dd966887",
   "metadata": {},
   "source": [
    "## Prepare data"
   ]
  },
  {
   "cell_type": "code",
   "execution_count": 2,
   "id": "e41b843f",
   "metadata": {},
   "outputs": [],
   "source": [
    "DATA_DIR = '../../data/input'\n",
    "\n",
    "# data set contains train and validation sets\n",
    "# the val set is used for eraly stopping \n",
    "data = f'{DATA_DIR}/af2_all_params.p'\n",
    "data = pd.read_pickle(data)\n",
    "\n",
    "data['train_seq'] = data.apply(lambda x: x['n_seq'] + x['c_seq'], axis=1)\n",
    "\n",
    "\n",
    "assert all(data['train_seq'].str.len() == 22)\n",
    "\n",
    "# separate test set used to pick the best model\n",
    "#data_test = f'{DATA_DIR}/af_clean_model_test.p'\n",
    "#data_test = pd.read_pickle(data_test)"
   ]
  },
  {
   "cell_type": "code",
   "execution_count": null,
   "id": "aa0ab106",
   "metadata": {},
   "outputs": [],
   "source": []
  },
  {
   "cell_type": "code",
   "execution_count": 3,
   "id": "c5f12335",
   "metadata": {},
   "outputs": [
    {
     "data": {
      "text/plain": [
       "train    3978\n",
       "val       994\n",
       "Name: class, dtype: int64"
      ]
     },
     "execution_count": 3,
     "metadata": {},
     "output_type": "execute_result"
    }
   ],
   "source": [
    "data['class'].value_counts()"
   ]
  },
  {
   "cell_type": "markdown",
   "id": "79fdae1e",
   "metadata": {},
   "source": [
    "## Train and validate"
   ]
  },
  {
   "cell_type": "code",
   "execution_count": 4,
   "id": "690f1c3e",
   "metadata": {},
   "outputs": [],
   "source": [
    "def get_rmse(val, mod):\n",
    "    params_rmse = {\"rot\":0, \"shift_diff\":0, \"radius_diff\":0}\n",
    "    tr_d = {\"rot\":0, \"shift_diff\":0, \"radius_diff\":0}\n",
    "    pr_d = {\"rot\":0, \"shift_diff\":0, \"radius_diff\":0}\n",
    "    seqs = list(val.train_seq)\n",
    "    tr=[]\n",
    "    for key in params_rmse:\n",
    "        for n,r in val.iterrows():\n",
    "            tr.append(np.mean((r[key][0::2] + r[key][1::2]) / 2)/2)\n",
    "            tr_d[key] = tr\n",
    "    res = mod.predict(seqs)\n",
    "    pr = []\n",
    "    size=1\n",
    "    for key in params_rmse:\n",
    "        for n,r in res.iterrows():\n",
    "            pr.append(np.mean(r['predicted_params'])/2)\n",
    "            pr_d[key] = pr\n",
    "    for key in params_rmse:\n",
    "        params_rmse[key] = np.mean((np.array(tr_d[key])-np.array(pr_d[key])) **2 ) ** 0.5\n",
    "    return params_rmse"
   ]
  },
  {
   "cell_type": "code",
   "execution_count": 5,
   "id": "fc8ef27f",
   "metadata": {},
   "outputs": [],
   "source": [
    "def train(data, conf, version):\n",
    "    operator = MultiChainOperator(MultiEncoder([RadiousPhobosEncoder(), OneHotEncoderSeq()]), SeqWindow(11, 11), RadianEncoder(100),  SeqWindow(11, 11, null_char=[[0]]),\n",
    "                                          parallel=True)\n",
    "    conf = PredictionConfig(BaseConvolutionalWrapper, operator, conf)\n",
    "    mod = Predictor('hamp_full_params', config=conf, version=version)\n",
    "    trained = mod.train(data)\n",
    "    return mod, trained\n",
    "\n",
    "def get_mod(conf=None, version=None):\n",
    "    operator = MultiChainOperator(MultiEncoder([RadiousPhobosEncoder(), OneHotEncoderSeq()]), SeqWindow(11, 11), RadianEncoder(100),  SeqWindow(11, 11, null_char=[[0]]),\n",
    "                                          parallel=True)\n",
    "    conf = PredictionConfig(BaseConvolutionalWrapper, operator, conf)\n",
    "    mod = Predictor('hamp_full_params', config=conf, version=version)\n",
    "    return mod\n",
    "    "
   ]
  },
  {
   "cell_type": "code",
   "execution_count": 6,
   "id": "992c4f27",
   "metadata": {},
   "outputs": [],
   "source": [
    "def opt_conf(data, tune=False):\n",
    "    \n",
    "    # data: train and val (val for the eraly stopping)\n",
    "    \n",
    "    data_val = data[data['class'] == 'val']\n",
    "    \n",
    "    results = {}\n",
    "\n",
    "    # parameters grid\n",
    "    kernels = [(3, 4, 7)]\n",
    "    layers = [3]\n",
    "    lstm = [1, 2]\n",
    "    dense = [1, 3]\n",
    "    \n",
    "    for kern in kernels:\n",
    "        for l in layers:\n",
    "            for ls in lstm:\n",
    "                for d in dense:\n",
    "                    model_config = {\n",
    "                        'activation': 'tanh',\n",
    "                        'norm': True,\n",
    "                        'n_layers': l,\n",
    "                        'kernel_sizes': kern,\n",
    "                        'lstm': ls,\n",
    "                        'dense': d,\n",
    "                        'reshape_out': False,\n",
    "                        'epochs': 100\n",
    "                    }\n",
    "                    version = '_'.join([str(x) for x in [\"_\".join([str(i) for i in kern]), l, ls, d]])\n",
    "                    if tune:\n",
    "                        mod, trained = train(data, model_config, version)\n",
    "                    else:\n",
    "                        mod = get_mod(model_config, version)\n",
    "                        \n",
    "                    results[version] = (get_rmse(data_val, mod), model_config)\n",
    "    return results\n",
    "        "
   ]
  },
  {
   "cell_type": "markdown",
   "id": "08447003",
   "metadata": {},
   "source": [
    "## Tune hiperparameters"
   ]
  },
  {
   "cell_type": "code",
   "execution_count": 7,
   "id": "7c640d33",
   "metadata": {
    "scrolled": true
   },
   "outputs": [
    {
     "data": {
      "text/plain": [
       "10.617227642738216"
      ]
     },
     "execution_count": 7,
     "metadata": {},
     "output_type": "execute_result"
    }
   ],
   "source": [
    "# uncomment me \n",
    "# opt_res = opt_conf(data, tune=True)  \n",
    "np.max(np.concatenate(data['radius_diff'].values))"
   ]
  },
  {
   "cell_type": "code",
   "execution_count": 8,
   "id": "5bfd82d7",
   "metadata": {},
   "outputs": [],
   "source": [
    "# def get_seqs_vals(data, operator):\n",
    "#     if 'train_seq' not in data.columns:\n",
    "#         data['train_seq'] = data.apply(lambda x: x['n_seq'] + x['c_seq'], axis=1)\n",
    "#     params = [\"rot\", \"shift_diff\", \"radius_diff\"]\n",
    "#     seqs = list(data.train_seq.values)\n",
    "#     results = []\n",
    "#     for ind, row in data.iterrows():\n",
    "#         r = {param: list((row[param][0::2] + row[param][1::2]) / 2) for param in params}\n",
    "#         res = [list(zip(*list(r.values()))), list(zip(*list(r.values())))]\n",
    "#         results.append(res)\n",
    "#     train, valid, test = operator.get_for_train(seqs, results, test_size=0, valid_size=0)\n",
    "#     return results\n",
    "# get_seqs_vals(data, None)"
   ]
  },
  {
   "cell_type": "code",
   "execution_count": 9,
   "id": "d4181008",
   "metadata": {},
   "outputs": [
    {
     "ename": "NameError",
     "evalue": "name 'opt_res' is not defined",
     "output_type": "error",
     "traceback": [
      "\u001b[0;31m---------------------------------------------------------------------------\u001b[0m",
      "\u001b[0;31mNameError\u001b[0m                                 Traceback (most recent call last)",
      "Input \u001b[0;32mIn [9]\u001b[0m, in \u001b[0;36m<cell line: 2>\u001b[0;34m()\u001b[0m\n\u001b[1;32m      1\u001b[0m \u001b[38;5;66;03m# kern, layers, lstm, dense\u001b[39;00m\n\u001b[0;32m----> 2\u001b[0m \u001b[38;5;28;01mfor\u001b[39;00m pos, (k, (v, model_config)) \u001b[38;5;129;01min\u001b[39;00m \u001b[38;5;28menumerate\u001b[39m(\u001b[38;5;28msorted\u001b[39m(\u001b[43mopt_res\u001b[49m\u001b[38;5;241m.\u001b[39mitems(), key\u001b[38;5;241m=\u001b[39m\u001b[38;5;28;01mlambda\u001b[39;00m item: item[\u001b[38;5;241m1\u001b[39m])):\n\u001b[1;32m      3\u001b[0m     \u001b[38;5;28;01mif\u001b[39;00m pos\u001b[38;5;241m==\u001b[39m\u001b[38;5;241m0\u001b[39m:\n\u001b[1;32m      4\u001b[0m         best_model_config \u001b[38;5;241m=\u001b[39m model_config\n",
      "\u001b[0;31mNameError\u001b[0m: name 'opt_res' is not defined"
     ]
    }
   ],
   "source": [
    "# kern, layers, lstm, dense\n",
    "for pos, (k, (v, model_config)) in enumerate(sorted(opt_res.items(), key=lambda item: item[1])):\n",
    "    if pos==0:\n",
    "        best_model_config = model_config\n",
    "        best_file = k\n",
    "        \n",
    "    print(pos+1, k, round(v, 2))"
   ]
  },
  {
   "cell_type": "code",
   "execution_count": 10,
   "id": "d5385783",
   "metadata": {},
   "outputs": [
    {
     "ename": "NameError",
     "evalue": "name 'best_model_config' is not defined",
     "output_type": "error",
     "traceback": [
      "\u001b[0;31m---------------------------------------------------------------------------\u001b[0m",
      "\u001b[0;31mNameError\u001b[0m                                 Traceback (most recent call last)",
      "Input \u001b[0;32mIn [10]\u001b[0m, in \u001b[0;36m<cell line: 1>\u001b[0;34m()\u001b[0m\n\u001b[0;32m----> 1\u001b[0m \u001b[43mbest_model_config\u001b[49m\n",
      "\u001b[0;31mNameError\u001b[0m: name 'best_model_config' is not defined"
     ]
    }
   ],
   "source": [
    "best_model_config"
   ]
  },
  {
   "cell_type": "markdown",
   "id": "a0687c04",
   "metadata": {},
   "source": [
    "## Best Config"
   ]
  },
  {
   "cell_type": "code",
   "execution_count": 11,
   "id": "b592b1cc",
   "metadata": {},
   "outputs": [],
   "source": [
    "best_model_config = {'activation': 'tanh',\n",
    " 'norm': True,\n",
    " 'n_layers': 3,\n",
    " 'kernel_sizes': (3, 4, 7),\n",
    " 'lstm': 2,\n",
    " 'dense': 1,\n",
    " 'reshape_out': False,\n",
    " 'epochs': 100,\n",
    " 'task': 'hamp_rot',\n",
    " 'version': None,\n",
    " 'data_dir': '/home/users/sdunin/calc/HAMPpred/data/output/weights/hamp_rot/3_4_7_3_2_1'}\n",
    "\n",
    "best_file = None"
   ]
  },
  {
   "cell_type": "code",
   "execution_count": 12,
   "id": "58954576",
   "metadata": {},
   "outputs": [
    {
     "data": {
      "text/plain": [
       "array([1.28233791, 1.29882653, 1.27105743, 1.3027299 , 1.25885911,\n",
       "       1.30058658, 1.20543679, 1.21997438, 1.22522848, 1.27387911,\n",
       "       1.19880911, 1.06475964, 1.32753364, 1.17152734, 0.91577801,\n",
       "       1.29810288, 1.24977264, 1.07383172, 1.19186641, 1.08857211,\n",
       "       1.12753206, 1.16927619])"
      ]
     },
     "execution_count": 12,
     "metadata": {},
     "output_type": "execute_result"
    }
   ],
   "source": [
    "data.iloc[0][\"shift_diff\"]"
   ]
  },
  {
   "cell_type": "code",
   "execution_count": 13,
   "id": "5f916320",
   "metadata": {},
   "outputs": [
    {
     "name": "stderr",
     "output_type": "stream",
     "text": [
      "2023-09-15 20:19:42.577562: I tensorflow/core/platform/cpu_feature_guard.cc:151] This TensorFlow binary is optimized with oneAPI Deep Neural Network Library (oneDNN) to use the following CPU instructions in performance-critical operations:  AVX2 FMA\n",
      "To enable them in other operations, rebuild TensorFlow with the appropriate compiler flags.\n"
     ]
    },
    {
     "name": "stdout",
     "output_type": "stream",
     "text": [
      "5/5 [==============================] - 2s 191ms/step\n"
     ]
    },
    {
     "data": {
      "text/html": [
       "<div>\n",
       "<style scoped>\n",
       "    .dataframe tbody tr th:only-of-type {\n",
       "        vertical-align: middle;\n",
       "    }\n",
       "\n",
       "    .dataframe tbody tr th {\n",
       "        vertical-align: top;\n",
       "    }\n",
       "\n",
       "    .dataframe thead th {\n",
       "        text-align: right;\n",
       "    }\n",
       "</style>\n",
       "<table border=\"1\" class=\"dataframe\">\n",
       "  <thead>\n",
       "    <tr style=\"text-align: right;\">\n",
       "      <th></th>\n",
       "      <th>id</th>\n",
       "      <th>external_id</th>\n",
       "      <th>sequence</th>\n",
       "      <th>N</th>\n",
       "      <th>C</th>\n",
       "      <th>lengths</th>\n",
       "      <th>linkers</th>\n",
       "      <th>N_pred</th>\n",
       "      <th>C_pred</th>\n",
       "      <th>predicted_params</th>\n",
       "    </tr>\n",
       "  </thead>\n",
       "  <tbody>\n",
       "    <tr>\n",
       "      <th>0</th>\n",
       "      <td>0</td>\n",
       "      <td>None</td>\n",
       "      <td>LKELVQGVQRIIGELITSFNLM</td>\n",
       "      <td>LKELVQGVQRI</td>\n",
       "      <td>IGELITSFNLM</td>\n",
       "      <td>[11, 11]</td>\n",
       "      <td>[0]</td>\n",
       "      <td>[[-4.068075180053711, 0.642819344997406, 0.017...</td>\n",
       "      <td>[[-4.068075180053711, 0.642819344997406, 0.017...</td>\n",
       "      <td>[[-4.068075180053711, 0.642819344997406, 0.017...</td>\n",
       "    </tr>\n",
       "    <tr>\n",
       "      <th>1</th>\n",
       "      <td>1</td>\n",
       "      <td>None</td>\n",
       "      <td>IRELVEGVRSILGELIASFNDM</td>\n",
       "      <td>IRELVEGVRSI</td>\n",
       "      <td>LGELIASFNDM</td>\n",
       "      <td>[11, 11]</td>\n",
       "      <td>[0]</td>\n",
       "      <td>[[3.763925552368164, 0.8194202184677124, -0.38...</td>\n",
       "      <td>[[3.763925552368164, 0.8194202184677124, -0.38...</td>\n",
       "      <td>[[3.763925552368164, 0.8194202184677124, -0.38...</td>\n",
       "    </tr>\n",
       "    <tr>\n",
       "      <th>2</th>\n",
       "      <td>2</td>\n",
       "      <td>None</td>\n",
       "      <td>IKELLDGVKNILGELIVNFNEM</td>\n",
       "      <td>IKELLDGVKNI</td>\n",
       "      <td>LGELIVNFNEM</td>\n",
       "      <td>[11, 11]</td>\n",
       "      <td>[0]</td>\n",
       "      <td>[[14.137857437133789, 0.9143211841583252, -0.1...</td>\n",
       "      <td>[[14.137857437133789, 0.9143211841583252, -0.1...</td>\n",
       "      <td>[[14.137857437133789, 0.9143211841583252, -0.1...</td>\n",
       "    </tr>\n",
       "    <tr>\n",
       "      <th>3</th>\n",
       "      <td>3</td>\n",
       "      <td>None</td>\n",
       "      <td>LSELRKGIRRVLGDLILQFNDM</td>\n",
       "      <td>LSELRKGIRRV</td>\n",
       "      <td>LGDLILQFNDM</td>\n",
       "      <td>[11, 11]</td>\n",
       "      <td>[0]</td>\n",
       "      <td>[[6.561121940612793, 1.4681501388549805, 0.271...</td>\n",
       "      <td>[[6.561121940612793, 1.4681501388549805, 0.271...</td>\n",
       "      <td>[[6.561121940612793, 1.4681501388549805, 0.271...</td>\n",
       "    </tr>\n",
       "    <tr>\n",
       "      <th>4</th>\n",
       "      <td>4</td>\n",
       "      <td>None</td>\n",
       "      <td>VKELLRGVRAVLGELVNGFNDM</td>\n",
       "      <td>VKELLRGVRAV</td>\n",
       "      <td>LGELVNGFNDM</td>\n",
       "      <td>[11, 11]</td>\n",
       "      <td>[0]</td>\n",
       "      <td>[[4.83780574798584, 1.020297646522522, 0.52245...</td>\n",
       "      <td>[[4.83780574798584, 1.020297646522522, 0.52245...</td>\n",
       "      <td>[[4.83780574798584, 1.020297646522522, 0.52245...</td>\n",
       "    </tr>\n",
       "    <tr>\n",
       "      <th>...</th>\n",
       "      <td>...</td>\n",
       "      <td>...</td>\n",
       "      <td>...</td>\n",
       "      <td>...</td>\n",
       "      <td>...</td>\n",
       "      <td>...</td>\n",
       "      <td>...</td>\n",
       "      <td>...</td>\n",
       "      <td>...</td>\n",
       "      <td>...</td>\n",
       "    </tr>\n",
       "    <tr>\n",
       "      <th>4967</th>\n",
       "      <td>4967</td>\n",
       "      <td>None</td>\n",
       "      <td>IAVLKSHLSQLAGRLIPDIKRL</td>\n",
       "      <td>IAVLKSHLSQL</td>\n",
       "      <td>AGRLIPDIKRL</td>\n",
       "      <td>[11, 11]</td>\n",
       "      <td>[0]</td>\n",
       "      <td>[[-11.423006057739258, -0.3406451344490051, 1....</td>\n",
       "      <td>[[-11.423006057739258, -0.3406451344490051, 1....</td>\n",
       "      <td>[[-11.423006057739258, -0.3406451344490051, 1....</td>\n",
       "    </tr>\n",
       "    <tr>\n",
       "      <th>4968</th>\n",
       "      <td>4968</td>\n",
       "      <td>None</td>\n",
       "      <td>LQKIEWMTEKIIKKILETFGRM</td>\n",
       "      <td>LQKIEWMTEKI</td>\n",
       "      <td>IKKILETFGRM</td>\n",
       "      <td>[11, 11]</td>\n",
       "      <td>[0]</td>\n",
       "      <td>[[-0.9676144123077393, 0.3188813328742981, 0.1...</td>\n",
       "      <td>[[-0.9676144123077393, 0.3188813328742981, 0.1...</td>\n",
       "      <td>[[-0.9676144123077393, 0.3188813328742981, 0.1...</td>\n",
       "    </tr>\n",
       "    <tr>\n",
       "      <th>4969</th>\n",
       "      <td>4969</td>\n",
       "      <td>None</td>\n",
       "      <td>IRQLERRIFSLLVSLGERLTWL</td>\n",
       "      <td>IRQLERRIFSL</td>\n",
       "      <td>LVSLGERLTWL</td>\n",
       "      <td>[11, 11]</td>\n",
       "      <td>[0]</td>\n",
       "      <td>[[-1.2467646598815918, 0.5369485020637512, -0....</td>\n",
       "      <td>[[-1.2467646598815918, 0.5369485020637512, -0....</td>\n",
       "      <td>[[-1.2467646598815918, 0.5369485020637512, -0....</td>\n",
       "    </tr>\n",
       "    <tr>\n",
       "      <th>4970</th>\n",
       "      <td>4970</td>\n",
       "      <td>None</td>\n",
       "      <td>VKLLENRIHHIFLTINQRLDWL</td>\n",
       "      <td>VKLLENRIHHI</td>\n",
       "      <td>FLTINQRLDWL</td>\n",
       "      <td>[11, 11]</td>\n",
       "      <td>[0]</td>\n",
       "      <td>[[5.897941589355469, 0.6094955801963806, -0.38...</td>\n",
       "      <td>[[5.897941589355469, 0.6094955801963806, -0.38...</td>\n",
       "      <td>[[5.897941589355469, 0.6094955801963806, -0.38...</td>\n",
       "    </tr>\n",
       "    <tr>\n",
       "      <th>4971</th>\n",
       "      <td>4971</td>\n",
       "      <td>None</td>\n",
       "      <td>LDRACAEAARVLRALLAAVNAL</td>\n",
       "      <td>LDRACAEAARV</td>\n",
       "      <td>LRALLAAVNAL</td>\n",
       "      <td>[11, 11]</td>\n",
       "      <td>[0]</td>\n",
       "      <td>[[-17.716581344604492, -0.44129064679145813, -...</td>\n",
       "      <td>[[-17.716581344604492, -0.44129064679145813, -...</td>\n",
       "      <td>[[-17.716581344604492, -0.44129064679145813, -...</td>\n",
       "    </tr>\n",
       "  </tbody>\n",
       "</table>\n",
       "<p>4972 rows × 10 columns</p>\n",
       "</div>"
      ],
      "text/plain": [
       "        id external_id                sequence            N            C  \\\n",
       "0        0        None  LKELVQGVQRIIGELITSFNLM  LKELVQGVQRI  IGELITSFNLM   \n",
       "1        1        None  IRELVEGVRSILGELIASFNDM  IRELVEGVRSI  LGELIASFNDM   \n",
       "2        2        None  IKELLDGVKNILGELIVNFNEM  IKELLDGVKNI  LGELIVNFNEM   \n",
       "3        3        None  LSELRKGIRRVLGDLILQFNDM  LSELRKGIRRV  LGDLILQFNDM   \n",
       "4        4        None  VKELLRGVRAVLGELVNGFNDM  VKELLRGVRAV  LGELVNGFNDM   \n",
       "...    ...         ...                     ...          ...          ...   \n",
       "4967  4967        None  IAVLKSHLSQLAGRLIPDIKRL  IAVLKSHLSQL  AGRLIPDIKRL   \n",
       "4968  4968        None  LQKIEWMTEKIIKKILETFGRM  LQKIEWMTEKI  IKKILETFGRM   \n",
       "4969  4969        None  IRQLERRIFSLLVSLGERLTWL  IRQLERRIFSL  LVSLGERLTWL   \n",
       "4970  4970        None  VKLLENRIHHIFLTINQRLDWL  VKLLENRIHHI  FLTINQRLDWL   \n",
       "4971  4971        None  LDRACAEAARVLRALLAAVNAL  LDRACAEAARV  LRALLAAVNAL   \n",
       "\n",
       "       lengths linkers                                             N_pred  \\\n",
       "0     [11, 11]     [0]  [[-4.068075180053711, 0.642819344997406, 0.017...   \n",
       "1     [11, 11]     [0]  [[3.763925552368164, 0.8194202184677124, -0.38...   \n",
       "2     [11, 11]     [0]  [[14.137857437133789, 0.9143211841583252, -0.1...   \n",
       "3     [11, 11]     [0]  [[6.561121940612793, 1.4681501388549805, 0.271...   \n",
       "4     [11, 11]     [0]  [[4.83780574798584, 1.020297646522522, 0.52245...   \n",
       "...        ...     ...                                                ...   \n",
       "4967  [11, 11]     [0]  [[-11.423006057739258, -0.3406451344490051, 1....   \n",
       "4968  [11, 11]     [0]  [[-0.9676144123077393, 0.3188813328742981, 0.1...   \n",
       "4969  [11, 11]     [0]  [[-1.2467646598815918, 0.5369485020637512, -0....   \n",
       "4970  [11, 11]     [0]  [[5.897941589355469, 0.6094955801963806, -0.38...   \n",
       "4971  [11, 11]     [0]  [[-17.716581344604492, -0.44129064679145813, -...   \n",
       "\n",
       "                                                 C_pred  \\\n",
       "0     [[-4.068075180053711, 0.642819344997406, 0.017...   \n",
       "1     [[3.763925552368164, 0.8194202184677124, -0.38...   \n",
       "2     [[14.137857437133789, 0.9143211841583252, -0.1...   \n",
       "3     [[6.561121940612793, 1.4681501388549805, 0.271...   \n",
       "4     [[4.83780574798584, 1.020297646522522, 0.52245...   \n",
       "...                                                 ...   \n",
       "4967  [[-11.423006057739258, -0.3406451344490051, 1....   \n",
       "4968  [[-0.9676144123077393, 0.3188813328742981, 0.1...   \n",
       "4969  [[-1.2467646598815918, 0.5369485020637512, -0....   \n",
       "4970  [[5.897941589355469, 0.6094955801963806, -0.38...   \n",
       "4971  [[-17.716581344604492, -0.44129064679145813, -...   \n",
       "\n",
       "                                       predicted_params  \n",
       "0     [[-4.068075180053711, 0.642819344997406, 0.017...  \n",
       "1     [[3.763925552368164, 0.8194202184677124, -0.38...  \n",
       "2     [[14.137857437133789, 0.9143211841583252, -0.1...  \n",
       "3     [[6.561121940612793, 1.4681501388549805, 0.271...  \n",
       "4     [[4.83780574798584, 1.020297646522522, 0.52245...  \n",
       "...                                                 ...  \n",
       "4967  [[-11.423006057739258, -0.3406451344490051, 1....  \n",
       "4968  [[-0.9676144123077393, 0.3188813328742981, 0.1...  \n",
       "4969  [[-1.2467646598815918, 0.5369485020637512, -0....  \n",
       "4970  [[5.897941589355469, 0.6094955801963806, -0.38...  \n",
       "4971  [[-17.716581344604492, -0.44129064679145813, -...  \n",
       "\n",
       "[4972 rows x 10 columns]"
      ]
     },
     "execution_count": 13,
     "metadata": {},
     "output_type": "execute_result"
    }
   ],
   "source": [
    "mod = get_mod(conf=best_model_config, version=None)\n",
    "resmod.predict(list(data.train_seq.values))"
   ]
  },
  {
   "cell_type": "markdown",
   "id": "72cc953f",
   "metadata": {},
   "source": [
    "# PDB set performance"
   ]
  },
  {
   "cell_type": "code",
   "execution_count": 14,
   "id": "3c8a096d",
   "metadata": {},
   "outputs": [],
   "source": [
    "test_data = pd.read_pickle(f'{DATA_DIR}/pdb_measure.p')"
   ]
  },
  {
   "cell_type": "code",
   "execution_count": 15,
   "id": "d8ed8519",
   "metadata": {},
   "outputs": [
    {
     "data": {
      "text/plain": [
       "11"
      ]
     },
     "execution_count": 15,
     "metadata": {},
     "output_type": "execute_result"
    }
   ],
   "source": [
    "test_data = pd.read_pickle(os.path.join(DATA_DIR, 'pdb_measure.p'))\n",
    "test_data = test_data[~test_data.mutant]\n",
    "test_data.rename(columns={'seq1':'n_seq', 'seq2':'c_seq', 'n_list':'n_crick_mut', 'c_list':'c_crick_mut'}, inplace=True)\n",
    "test_data['n_seq'] = test_data['n_seq'].apply(lambda x: x[1:-1])\n",
    "test_data['c_seq'] = test_data['c_seq'].apply(lambda x: x[1:-1])\n",
    "test_data['train_seq'] = test_data.apply(lambda x: x['n_seq'] + x['c_seq'], axis=1)\n",
    "len(test_data)"
   ]
  },
  {
   "cell_type": "code",
   "execution_count": 17,
   "id": "daa9ee05",
   "metadata": {},
   "outputs": [
    {
     "name": "stdout",
     "output_type": "stream",
     "text": [
      "1/1 [==============================] - 1s 1s/step\n"
     ]
    }
   ],
   "source": [
    "seq = []\n",
    "tr = []\n",
    "for n,r in test_data.iterrows():\n",
    "    seq.append(r['n_seq'] + r['c_seq'])\n",
    "    tr.append(np.mean((r['rot'][0::2] + r['rot'][1::2]) / 2)/2)\n",
    "res = mod.predict(seq)\n",
    "pr = []\n",
    "for n,r in res.iterrows():\n",
    "    pr.append(np.mean(r['predicted_params'][0])/2)"
   ]
  },
  {
   "cell_type": "code",
   "execution_count": 18,
   "id": "0e0039a9",
   "metadata": {},
   "outputs": [
    {
     "data": {
      "text/plain": [
       "Text(0.5, 1.0, 'HAMPpred predictions')"
      ]
     },
     "execution_count": 18,
     "metadata": {},
     "output_type": "execute_result"
    },
    {
     "data": {
      "image/png": "[encoded data removed]",
      "text/plain": [
       "<Figure size 800x800 with 1 Axes>"
      ]
     },
     "metadata": {
      "needs_background": "light"
     },
     "output_type": "display_data"
    }
   ],
   "source": [
    "title_font_size = 12\n",
    "label_font_size = 10\n",
    "tick_font_size = 8\n",
    "\n",
    "fig, ax = plt.subplots(1,1, figsize=(4, 4), dpi=200)\n",
    "\n",
    "colors = ['white' if i=='1_2l7i.pdb' else 'grey' for i in test_data.index]\n",
    "\n",
    "ax.scatter(pr, tr, color=colors, lw=0.75, edgecolors='k', s=50)\n",
    "\n",
    "ax.set_ylim(-26, 26)\n",
    "ax.set_xlim(-26, 26)\n",
    "ax.plot([0, 1], [0, 1], '--', transform=ax.transAxes, color='grey')\n",
    "\n",
    "ax.set_xlabel(r'Predicted rotation [$\\degree$]', size=label_font_size)\n",
    "ax.set_ylabel(r'Experimental structure rotation [$\\degree$]', size=label_font_size)\n",
    "\n",
    "ax.tick_params(axis='both', which='major', labelsize=tick_font_size)\n",
    "ax.tick_params(axis='both', which='minor', labelsize=tick_font_size)\n",
    "ax.set_title(\"HAMPpred predictions\", size=title_font_size)"
   ]
  },
  {
   "cell_type": "code",
   "execution_count": 30,
   "id": "161ec50c",
   "metadata": {},
   "outputs": [
    {
     "data": {
      "text/plain": [
       "4.75618170787087"
      ]
     },
     "execution_count": 30,
     "metadata": {},
     "output_type": "execute_result"
    }
   ],
   "source": [
    "np.mean((np.asarray(tr)-np.asarray(pr)) **2 ) ** 0.5"
   ]
  },
  {
   "cell_type": "code",
   "execution_count": null,
   "id": "25b63dbf",
   "metadata": {},
   "outputs": [],
   "source": [
    "# Done!"
   ]
  },
  {
   "cell_type": "code",
   "execution_count": 33,
   "id": "c013c739",
   "metadata": {},
   "outputs": [
    {
     "data": {
      "text/plain": [
       "(11, 1)"
      ]
     },
     "execution_count": 33,
     "metadata": {},
     "output_type": "execute_result"
    }
   ],
   "source": [
    "res.iloc[0].N_pred.shape"
   ]
  },
  {
   "cell_type": "code",
   "execution_count": null,
   "id": "fc6cd53a",
   "metadata": {},
   "outputs": [],
   "source": []
  },
  {
   "cell_type": "code",
   "execution_count": null,
   "id": "c6a00dd6",
   "metadata": {},
   "outputs": [],
   "source": []
  }
 ],
 "metadata": {
  "kernelspec": {
   "display_name": "Python 3 (ipykernel)",
   "language": "python",
   "name": "python3"
  },
  "language_info": {
   "codemirror_mode": {
    "name": "ipython",
    "version": 3
   },
   "file_extension": ".py",
   "mimetype": "text/x-python",
   "name": "python",
   "nbconvert_exporter": "python",
   "pygments_lexer": "ipython3",
   "version": "3.9.16"
  }
 },
 "nbformat": 4,
 "nbformat_minor": 5
}
