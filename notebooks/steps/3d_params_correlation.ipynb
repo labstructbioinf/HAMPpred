{
 "cells": [
  {
   "cell_type": "code",
   "execution_count": 15,
   "id": "cff50031",
   "metadata": {},
   "outputs": [],
   "source": [
    "import sys\n",
    "import os\n",
    "import pandas as pd\n",
    "import numpy as np\n",
    "import matplotlib.pyplot as plt\n",
    "import seaborn as sns\n",
    "sys.path.append('../..')\n",
    "from hamp_pred.src.input_prep.prepare_sequence import MultiChainOperator, SeqWindow\n",
    "from hamp_pred.src.input_prep.encode import MultiEncoder, OneHotEncoderSeq, RadianEncoder \n",
    "from hamp_pred.src.input_prep.encode import RadiousPhobosEncoder\n",
    "from hamp_pred.src.predictor_config import PredictionConfig \n",
    "from hamp_pred.src.models.common.models import BaseConvolutionalWrapper \n",
    "from hamp_pred.src.predictor import Predictor"
   ]
  },
  {
   "cell_type": "markdown",
   "id": "0be13738",
   "metadata": {},
   "source": [
    "# Preapare data"
   ]
  },
  {
   "cell_type": "code",
   "execution_count": 2,
   "id": "73e0f4bb",
   "metadata": {},
   "outputs": [],
   "source": [
    "DATA_DIR = '../../data/input'\n",
    "\n",
    "# data set contains train and validation sets\n",
    "# the val set is used for eraly stopping \n",
    "data = f'{DATA_DIR}/af2_all_params.p'\n",
    "data = pd.read_pickle(data)\n",
    "\n",
    "data['train_seq'] = data.apply(lambda x: x['n_seq'] + x['c_seq'], axis=1)\n",
    "\n",
    "\n",
    "assert all(data['train_seq'].str.len() == 22)\n",
    "\n",
    "# separate test set used to pick the best model\n",
    "#data_test = f'{DATA_DIR}/af_clean_model_test.p'\n",
    "#data_test = pd.read_pickle(data_test)"
   ]
  },
  {
   "cell_type": "code",
   "execution_count": 11,
   "id": "874a33cb",
   "metadata": {},
   "outputs": [],
   "source": [
    "def get_mean_params(data):\n",
    "    results = []\n",
    "    for ind, row in data.iterrows():\n",
    "        results.append([np.mean(row[\"rot\"]), np.mean(row[\"shift_diff\"]), np.mean(row[\"radius_diff\"]), np.mean(row[\"pitch_diff\"])])\n",
    "    return pd.DataFrame(results, columns=[\"mean_rot\", \"mean_shift\", \"mean_radius\", \"mean_pitch\"])\n",
    "    \n"
   ]
  },
  {
   "cell_type": "markdown",
   "id": "a80ae468",
   "metadata": {},
   "source": [
    "# Compute correlation"
   ]
  },
  {
   "cell_type": "code",
   "execution_count": 20,
   "id": "7a31332b",
   "metadata": {},
   "outputs": [],
   "source": [
    "corr_frame = get_mean_params(data).corr()"
   ]
  },
  {
   "cell_type": "code",
   "execution_count": null,
   "id": "22da75ef",
   "metadata": {},
   "outputs": [],
   "source": []
  },
  {
   "cell_type": "code",
   "execution_count": 22,
   "id": "caf73ff3",
   "metadata": {},
   "outputs": [
    {
     "data": {
      "image/png": "[encoded data removed]",
      "text/plain": [
       "<Figure size 432x288 with 2 Axes>"
      ]
     },
     "metadata": {
      "needs_background": "light"
     },
     "output_type": "display_data"
    }
   ],
   "source": [
    "sns.heatmap(corr_frame, annot=True)\n",
    "plt.show()"
   ]
  },
  {
   "cell_type": "code",
   "execution_count": null,
   "id": "21122682",
   "metadata": {},
   "outputs": [],
   "source": []
  }
 ],
 "metadata": {
  "kernelspec": {
   "display_name": "Python 3 (ipykernel)",
   "language": "python",
   "name": "python3"
  },
  "language_info": {
   "codemirror_mode": {
    "name": "ipython",
    "version": 3
   },
   "file_extension": ".py",
   "mimetype": "text/x-python",
   "name": "python",
   "nbconvert_exporter": "python",
   "pygments_lexer": "ipython3",
   "version": "3.9.16"
  }
 },
 "nbformat": 4,
 "nbformat_minor": 5
}
