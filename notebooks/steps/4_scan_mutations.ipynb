{
 "cells": [
  {
   "cell_type": "code",
   "execution_count": 3,
   "id": "41bd0e2d",
   "metadata": {},
<<<<<<< HEAD
   "outputs": [
    {
     "name": "stderr",
     "output_type": "stream",
     "text": [
      "/home/users/sdunin/miniconda3/envs/hamppred/lib/python3.10/site-packages/Bio/SubsMat/__init__.py:126: BiopythonDeprecationWarning: Bio.SubsMat has been deprecated, and we intend to remove it in a future release of Biopython. As an alternative, please consider using Bio.Align.substitution_matrices as a replacement, and contact the Biopython developers if you still need the Bio.SubsMat module.\n",
      "  warnings.warn(\n",
      "2023-04-24 16:44:20.398696: I tensorflow/core/platform/cpu_feature_guard.cc:193] This TensorFlow binary is optimized with oneAPI Deep Neural Network Library (oneDNN) to use the following CPU instructions in performance-critical operations:  SSE4.1 SSE4.2 AVX AVX2 FMA\n",
      "To enable them in other operations, rebuild TensorFlow with the appropriate compiler flags.\n"
     ]
    }
   ],
=======
   "outputs": [],
>>>>>>> 97f2e99912a641e2fc149e5a02bc6ce09e997b57
   "source": [
    "import sys\n",
    "import os\n",
    "import pickle\n",
    "import pandas as pd\n",
    "import matplotlib.pyplot as plt\n",
    "import numpy as np\n",
    "import seaborn as sns\n",
    "\n",
    "from tqdm import tqdm\n",
    "from Bio import SeqIO\n",
    "from Bio.Align import substitution_matrices\n",
    "from Bio import pairwise2\n",
    "\n",
    "sys.path.append('../../')\n",
    "from hamp_pred.external.lbs.sequence import mmseqs2\n",
    "from hamp_pred.src.input_prep.encode import radius, phobos\n",
    "from hamp_pred.src.predictor import Predictor\n",
    "from hamp_pred.src.input_prep.prepare_sequence import MultiChainOperator, SeqWindow\n",
    "from hamp_pred.src.input_prep.encode import RadianEncoder, MultiEncoder, OneHotEncoderSeq, RadiousPhobosEncoder\n",
    "from hamp_pred.src.predictor_config import  PredictionConfig\n",
    "from hamp_pred.src.models.common.models import BaseConvolutionalWrapper"
   ]
  },
  {
   "cell_type": "code",
   "execution_count": 2,
   "id": "d337a0e2",
   "metadata": {},
   "outputs": [],
   "source": [
    "def sequence_identity(seq1, seq2):\n",
    "    identical = sum(1 for a, b in zip(seq1, seq2) if a == b)\n",
    "    identity = identical / len(seq1) * 100\n",
    "    return identity\n",
    "\n",
    "def sequence_similarity(seq1, seq2):\n",
    "    matrix = substitution_matrices.load('blosum62')\n",
    "    alignments = pairwise2.align.globalds(seq1, seq2, matrix, -10, -0.5)\n",
    "    best_alignment = alignments[0]\n",
    "    similarity = best_alignment[2] / best_alignment[4]\n",
    "    return similarity"
   ]
  },
  {
   "cell_type": "code",
   "execution_count": 3,
   "id": "2ec7765f",
   "metadata": {},
   "outputs": [],
   "source": [
    "DATA_DIR = './../../data/input/'"
   ]
  },
  {
   "cell_type": "markdown",
   "id": "f19fb695",
   "metadata": {},
   "source": [
    "# Load models"
   ]
  },
  {
   "cell_type": "code",
<<<<<<< HEAD
   "execution_count": 4,
=======
   "execution_count": 7,
>>>>>>> 97f2e99912a641e2fc149e5a02bc6ce09e997b57
   "id": "1a76364c",
   "metadata": {},
   "outputs": [],
   "source": [
    "operator = MultiChainOperator(MultiEncoder([RadiousPhobosEncoder(), OneHotEncoderSeq()]), SeqWindow(11, 11), RadianEncoder(100),  SeqWindow(11, 11, null_char=[[0]]),\n",
    "                                      parallel=True)\n",
    "model_conf = {'activation': 'tanh',\n",
    " 'norm': True,\n",
    " 'n_layers': 7,\n",
    " 'kernel_sizes': (3, 5, 7),\n",
    " 'lstm': 2,\n",
    " 'dense': 3,\n",
    " 'reshape_out': False,\n",
    " 'epochs': 100,\n",
    " 'task': 'hamp_rot',\n",
    " 'version': '3_5_7_7_2_3',\n",
    " 'data_dir': '/home/users/sdunin/calc/HAMPpred/data/output/weights/hamp_rot/3_5_7_7_2_3'}\n",
    "\n",
    "conf = PredictionConfig(BaseConvolutionalWrapper, operator, model_conf)\n",
    "clf_main = Predictor('hamp_rot', config=conf, version='3_5_7_7_2_3')\n"
   ]
  },
  {
   "cell_type": "markdown",
   "id": "53d69e22",
   "metadata": {},
   "source": [
    "### Check performance on validation set"
   ]
  },
  {
   "cell_type": "code",
<<<<<<< HEAD
   "execution_count": 5,
=======
   "execution_count": 8,
>>>>>>> 97f2e99912a641e2fc149e5a02bc6ce09e997b57
   "id": "52668d1e",
   "metadata": {},
   "outputs": [],
   "source": [
    "data = f'{DATA_DIR}/af2_clean_model_1.p'\n",
    "data = pd.read_pickle(data)\n",
    "\n",
    "data = data[data['class'] == 'val']\n",
    "data['n_seq'] = data['n_seq'].apply(lambda x: x[1:-1])\n",
    "data['c_seq'] = data['c_seq'].apply(lambda x: x[1:-1])\n",
    "data['sequence'] = data.apply(lambda x: x['n_seq'] + x['c_seq'], axis=1)\n"
   ]
  },
  {
   "cell_type": "code",
<<<<<<< HEAD
   "execution_count": 6,
=======
   "execution_count": 9,
>>>>>>> 97f2e99912a641e2fc149e5a02bc6ce09e997b57
   "id": "fb82d459",
   "metadata": {},
   "outputs": [
    {
<<<<<<< HEAD
     "name": "stderr",
     "output_type": "stream",
     "text": [
      "2023-04-24 16:44:23.252399: I tensorflow/core/platform/cpu_feature_guard.cc:193] This TensorFlow binary is optimized with oneAPI Deep Neural Network Library (oneDNN) to use the following CPU instructions in performance-critical operations:  SSE4.1 SSE4.2 AVX AVX2 FMA\n",
      "To enable them in other operations, rebuild TensorFlow with the appropriate compiler flags.\n",
      "2023-04-24 16:44:23.253972: I tensorflow/core/common_runtime/process_util.cc:146] Creating new thread pool with default inter op setting: 2. Tune using inter_op_parallelism_threads for best performance.\n"
     ]
    },
    {
=======
>>>>>>> 97f2e99912a641e2fc149e5a02bc6ce09e997b57
     "name": "stdout",
     "output_type": "stream",
     "text": [
      "1/1 [==============================] - 2s 2s/step\n"
     ]
    }
   ],
   "source": [
    "val_pred_main = clf_main.predict(data.sequence.tolist())"
   ]
  },
  {
   "cell_type": "code",
<<<<<<< HEAD
   "execution_count": 7,
=======
   "execution_count": 10,
>>>>>>> 97f2e99912a641e2fc149e5a02bc6ce09e997b57
   "id": "6a4a3e04",
   "metadata": {},
   "outputs": [],
   "source": [
    "data['rot_main'] = val_pred_main.N_pred.apply(lambda x:np.mean(x)/2).tolist()"
   ]
  },
  {
   "cell_type": "code",
<<<<<<< HEAD
   "execution_count": 8,
=======
   "execution_count": 11,
>>>>>>> 97f2e99912a641e2fc149e5a02bc6ce09e997b57
   "id": "19549852",
   "metadata": {},
   "outputs": [
    {
     "data": {
      "text/plain": [
       "(-26.0, 26.0)"
      ]
     },
<<<<<<< HEAD
     "execution_count": 8,
=======
     "execution_count": 11,
>>>>>>> 97f2e99912a641e2fc149e5a02bc6ce09e997b57
     "metadata": {},
     "output_type": "execute_result"
    },
    {
     "data": {
<<<<<<< HEAD
      "image/png": "iVBORw0KGgoAAAANSUhEUgAAAgwAAAH5CAYAAADtMWY4AAAAOXRFWHRTb2Z0d2FyZQBNYXRwbG90bGliIHZlcnNpb24zLjYuMiwgaHR0cHM6Ly9tYXRwbG90bGliLm9yZy8o6BhiAAAACXBIWXMAAA9hAAAPYQGoP6dpAAAc10lEQVR4nO3dcWzWhZ348c9TGI8U4Zmso6UDZje5nzMky9bzlrJNYTurxrB5l5hz/kIwUaMiGuIt3pjJiZdDNue4JXpzellwWaLbH7c5c+5+gdscauTM5DBu8pPfz0VtD+iPqaRloK2W7+8PR289GB/rtw9PW16v5Ens93n66affVvrmy9O2UhRFEQAAJ9DU6AUAgIlPMAAAKcEAAKQEAwCQEgwAQEowAAApwQAApKY3eoGyjhw5Env37o3Zs2dHpVJp9DoAMGkURREHDx6M9vb2aGo68TWESR8Me/fujYULFzZ6DQCYtHp7e2PBggUnfMykD4bZs2dHxDvv7Jw5cxq8DQBMHgMDA7Fw4cKRr6UnMumD4eg/Q8yZM0cwAMB78G7+Sd+THgGAlGAAAFKT/p8kACIi4nB/+RnNtfIzOD4fn0nPFQYAICUYAICUYAAAUoIBAEgJBgAgJRgAgJRgAABSggEASAkGACAlGACAlGAAAFKCAQBICQYAICUYAICUYAAAUoIBAEgJBgAgJRgAgJRgAABSggEASAkGACAlGACA1PRGLwAwLpprjd5g4jncX36G88rvucIAAKQEAwCQEgwAQEowAAApwQAApAQDAJASDABASjAAACnBAACkBAMAkBIMAEBKMAAAKcEAAKQEAwCQEgwAQEowAAApwQAApAQDAJASDABASjAAACnBAACk6hoMGzdujHPPPTdmz54d8+bNi0svvTR279496jFFUcT69eujvb09Zs6cGcuWLYvnn3++nmsBAGM0vZ7Dt23bFjfccEOce+658fbbb8ett94a3d3dsWvXrpg1a1ZERNx5552xadOmeOCBB+JP/uRP4u///u/jggsuiN27d8fs2bPruR5AXQz/7PulZ0zr+sI4bDKBNNcavQElVYqiKE7WG/vtb38b8+bNi23btsV5550XRVFEe3t7rF27Nv7mb/4mIiIGBwejtbU1vv71r8e1116bzhwYGIharRb9/f0xZ86cer8LAKkpFQy+0E9pY/kaelKfw9Df3x8REXPnzo2IiJdeein6+vqiu7t75DHVajXOP//8eOqpp447Y3BwMAYGBkbdAID6OmnBUBRF3HzzzfGZz3wmlixZEhERfX19ERHR2to66rGtra0j9/13GzdujFqtNnJbuHBhfRcHAE5eMKxZsyaee+65eOihh465r1KpjHq5KIpjjh21bt266O/vH7n19vbWZV8A4L/U9UmPR914443xyCOPxOOPPx4LFiwYOd7W1hYR71xpmD9//sjx/fv3H3PV4ahqtRrVarW+CwMAo9T1CkNRFLFmzZr40Y9+FD//+c+jo6Nj1P0dHR3R1tYWW7duHTk2NDQU27Zti6VLl9ZzNQBgDOp6heGGG26IBx98MH7yk5/E7NmzR56XUKvVYubMmVGpVGLt2rVxxx13xOLFi2Px4sVxxx13RHNzc1xxxRX1XA0AGIO6BsO9994bERHLli0bdXzz5s1x5ZVXRkTELbfcEm+88UasXr06Dhw4EJ/61Kdiy5YtfgYDAEwgJ/XnMNSDn8MATDR+DgOTxYT9OQwAwOQkGACAlGAAAFKCAQBICQYAICUYAICUYAAAUoIBAEgJBgAgJRgAgJRgAABSggEASNX1t1UCvCuH+8vPmEC/JGna51c2eoXxMx4fm4gJ9fHhvXGFAQBICQYAICUYAICUYAAAUoIBAEgJBgAgJRgAgJRgAABSggEASAkGACAlGACAlGAAAFKCAQBICQYAICUYAICUYAAAUoIBAEgJBgAgJRgAgJRgAABSggEASAkGACA1vdELAERzrfyMw/0TY4+IGH7oztIzpn3plnHYBMaPKwwAQEowAAApwQAApAQDAJASDABASjAAACnBAACkBAMAkBIMAEBKMAAAKcEAAKQEAwCQEgwAQEowAAApwQAApAQDAJASDABASjAAACnBAACkBAMAkBIMAEBKMAAAqemNXgBgPBzp2VV6RvHzh8svEhGVz11afsjh/vIzmmsTYwZTgisMAEBKMAAAKcEAAKQEAwCQEgwAQEowAAApwQAApAQDAJASDABASjAAACnBAACkBAMAkBIMAEBKMAAAKcEAAKQEAwCQEgwAQEowAAApwQAApOoaDI8//nisWLEi2tvbo1KpxMMPPzzq/qIoYv369dHe3h4zZ86MZcuWxfPPP1/PlQCA96CuwXDo0KH4+Mc/Hvfcc89x77/zzjtj06ZNcc8998Qvf/nLaGtriwsuuCAOHjxYz7UAgDGaXs/hF198cVx88cXHva8oivjWt74Vt956a/zlX/5lRER873vfi9bW1njwwQfj2muvPe7rDQ4OxuDg4MjLAwMD4784ADBKXYPhRF566aXo6+uL7u7ukWPVajXOP//8eOqpp/5oMGzcuDFuv/32k7UmTEyH+xu9wbga3v5I+SH795Wf8bvxubpZ/Pzh8kOuPKf8DBhHDXvSY19fX0REtLa2jjre2to6ct/xrFu3Lvr7+0duvb29dd0TAGjgFYajKpXKqJeLojjm2B+qVqtRrVbrvRYA8AcadoWhra0tIuKYqwn79+8/5qoDANBYDQuGjo6OaGtri61bt44cGxoaim3btsXSpUsbtRYAcBx1/SeJ3/3ud/Hiiy+OvPzSSy/Fs88+G3Pnzo1FixbF2rVr44477ojFixfH4sWL44477ojm5ua44oor6rkWADBGdQ2GZ555JpYvXz7y8s033xwREatWrYoHHnggbrnllnjjjTdi9erVceDAgfjUpz4VW7ZsidmzZ9dzLQBgjCpFURSNXqKMgYGBqNVq0d/fH3PmzGn0OnBy+LbKY43Ht1X2vlx+RkTE6eX/0jPtyq+W36O5Vn4GU9pYvob6XRIAQEowAAApwQAApAQDAJASDABASjAAACnBAACkBAMAkBIMAEBKMAAAKcEAAKQEAwCQEgwAQEowAAApwQAApKY3egGYTI68sL30jKazu8rv0bOr9Ixiz4ulZ0REFP/6k9IzjhwYKD3j//z8/5ae0TqvufSMiIi5d3yl9Izx+Bg3LTqn9IxorpWfwZTgCgMAkBIMAEBKMAAAKcEAAKQEAwCQEgwAQEowAAApwQAApAQDAJASDABASjAAACnBAACkBAMAkBIMAEBKMAAAKcEAAKQEAwCQEgwAQEowAAApwQAApAQDAJCa3ugFYDJpOrur/JDD/aVHFHteLD1j8N77Ss+IiPjfT/WWnvFP+w6UnrF0zmmlZ/zP6y8uPSMiYlrXF0rPONKzq/wizbXyM+D3XGEAAFKCAQBICQYAICUYAICUYAAAUoIBAEgJBgAgJRgAgJRgAABSggEASAkGACAlGACAlGAAAFKCAQBICQYAICUYAICUYAAAUoIBAEgJBgAgJRgAgJRgAABSggEASE1v9AIwqRzuLz1i+Cf3lZ7xu/sfLD3jfz27r/SMiIjnDg2VnvGhavk/ii5Y/IHSMypfWFl6RkTEkZ5dpWc0nd01DpvA+HGFAQBICQYAICUYAICUYAAAUoIBAEgJBgAgJRgAgJRgAABSggEASAkGACAlGACAlGAAAFKCAQBICQYAICUYAICUYAAAUhMiGL797W9HR0dHnHbaadHZ2RlPPPFEo1cCAP5Aw4Phhz/8YaxduzZuvfXW2LlzZ3z2s5+Niy++OHp6ehq9GgDwew0Phk2bNsVVV10VV199dXzsYx+Lb33rW7Fw4cK49957G70aAPB7DQ2GoaGh2LFjR3R3d4863t3dHU899dRxX2dwcDAGBgZG3QCA+mpoMLz66qsxPDwcra2to463trZGX1/fcV9n48aNUavVRm4LFy48GasCwCmt4f8kERFRqVRGvVwUxTHHjlq3bl309/eP3Hp7e0/GigBwSpveyDfe0tIS06ZNO+Zqwv79+4+56nBUtVqNarV6MtaDYwxvf6T0jLce/dfSM/7fnt+VnvGB6ePzv/8nTz9+3I/FeYs/UHrGGRd2lp4xXpoWndPoFWDcNfQKw4wZM6KzszO2bt066vjWrVtj6dKlDdoKAPjvGnqFISLi5ptvjpUrV8af/umfRldXV9x///3R09MT1113XaNXAwB+r+HB8Fd/9Vfx2muvxd/93d/Fvn37YsmSJfHTn/40PvzhDzd6NQDg9xoeDBERq1evjtWrVzd6DQDgj5gQ3yUBAExsggEASAkGACAlGACAlGAAAFKCAQBICQYAICUYAICUYAAAUoIBAEgJBgAgJRgAgJRgAABSggEASAkGACAlGACAlGAAAFKCAQBITW/0Akxxh/vLz2iulR4x/LPvl99jAnlz8O3SM944cmQcNolY+pEzSs+Yu3ZV+UXmzS89ounsrvJ7wBTlCgMAkBIMAEBKMAAAKcEAAKQEAwCQEgwAQEowAAApwQAApAQDAJASDABASjAAACnBAACkBAMAkBIMAEBKMAAAKcEAAKQEAwCQEgwAQEowAAApwQAApAQDAJCa3ugFmOKaa43e4B27fz0+c874QOkRr/56X+kZs2a9r/SMZWe3lJ4REVFdMHdc5pRV+dBZ5Ycc7i8/I2LifN7DOHKFAQBICQYAICUYAICUYAAAUoIBAEgJBgAgJRgAgJRgAABSggEASAkGACAlGACAlGAAAFKCAQBICQYAICUYAICUYAAAUoIBAEgJBgAgJRgAgJRgAABSggEASAkGACA1vdELQObIC9tLz6h87tLyi0REsfOJ0jPmdS4qPaPpQ22lZ1ROP730jIiI6OwqPaLyobNKz2g6u/wecbi//AyYolxhAABSggEASAkGACAlGACAlGAAAFKCAQBICQYAICUYAICUYAAAUoIBAEgJBgAgJRgAgJRgAABSggEASNU1GDZs2BBLly6N5ubmeP/733/cx/T09MSKFSti1qxZ0dLSEjfddFMMDQ3Vcy0AYIym13P40NBQXHbZZdHV1RXf/e53j7l/eHg4LrnkkvjgBz8YTz75ZLz22muxatWqKIoi7r777nquBgCMQV2D4fbbb4+IiAceeOC492/ZsiV27doVvb290d7eHhER3/zmN+PKK6+MDRs2xJw5c+q5HgDwLjX0OQzbt2+PJUuWjMRCRMSFF14Yg4ODsWPHjuO+zuDgYAwMDIy6AQD11dBg6Ovri9bW1lHHzjjjjJgxY0b09fUd93U2btwYtVpt5LZw4cKTsSoAnNLGHAzr16+PSqVywtszzzzzrudVKpVjjhVFcdzjERHr1q2L/v7+kVtvb+9Y3wUAYIzG/ByGNWvWxOWXX37Cx5x55pnvalZbW1s8/fTTo44dOHAg3nrrrWOuPBxVrVajWq2+q/kAwPgYczC0tLRES0vLuLzxrq6u2LBhQ+zbty/mz58fEe88EbJarUZnZ+e4vA0AoLy6fpdET09PvP7669HT0xPDw8Px7LPPRkTEWWedFaeffnp0d3fHOeecEytXroxvfOMb8frrr8eXv/zluOaaaybnd0gc7i8/o7lWfkZEHHlhe+kZTWd3lZ4x/NCdpWdM+9ItpWeMx/mIiIh580uPmPbnf15+jwOvlZ/xP5aUnzFOmhad0+gVgERdg+Fv//Zv43vf+97Iy5/4xCciIuKxxx6LZcuWxbRp0+LRRx+N1atXx6c//emYOXNmXHHFFXHXXXfVcy0AYIzqGgwPPPDAH/0ZDEctWrQo/uVf/qWeawAAJfldEgBASjAAACnBAACkBAMAkBIMAEBKMAAAKcEAAKQEAwCQEgwAQEowAAApwQAApAQDAJASDABASjAAACnBAACkBAMAkBIMAEBKMAAAKcEAAKQEAwCQmt7oBaaU5lr5GYf7y8+IiGLnE6VnHBmHPaZ98dryQ8bhnDSd3VV+j4gYfuT7pWdUvrCy9IzxeH+Gf1b+fZlyxuP/YZiiXGEAAFKCAQBICQYAICUYAICUYAAAUoIBAEgJBgAgJRgAgJRgAABSggEASAkGACAlGACAlGAAAFKCAQBICQYAICUYAICUYAAAUoIBAEgJBgAgJRgAgJRgAABSggEASE1v9AKMNrz9kfEZNG9+6RHFzifK77HonPIzJpBpazaWH9JcKz9jHEz7/MpGr/BfDvc3egMg4QoDAJASDABASjAAACnBAACkBAMAkBIMAEBKMAAAKcEAAKQEAwCQEgwAQEowAAApwQAApAQDAJASDABASjAAACnBAACkBAMAkBIMAEBKMAAAKcEAAKQEAwCQmt7oBaaS4Z99v/yQ3b8uPyMiir59pWdUPrak/CLNtfIzxsG4fGwiYtrnV47LHIDJxhUGACAlGACAlGAAAFKCAQBICQYAICUYAICUYAAAUoIBAEgJBgAgJRgAgJRgAABSggEASNUtGF5++eW46qqroqOjI2bOnBkf/ehH47bbbouhoaFRj+vp6YkVK1bErFmzoqWlJW666aZjHgMANFbdflvlCy+8EEeOHIn77rsvzjrrrPj1r38d11xzTRw6dCjuuuuuiIgYHh6OSy65JD74wQ/Gk08+Ga+99lqsWrUqiqKIu+++u16rAQBjVLdguOiii+Kiiy4aefkjH/lI7N69O+69996RYNiyZUvs2rUrent7o729PSIivvnNb8aVV14ZGzZsiDlz5tRrPQBgDE7qcxj6+/tj7ty5Iy9v3749lixZMhILEREXXnhhDA4Oxo4dO447Y3BwMAYGBkbdAID6OmnB8Jvf/CbuvvvuuO6660aO9fX1RWtr66jHnXHGGTFjxozo6+s77pyNGzdGrVYbuS1cuLCuewMA7yEY1q9fH5VK5YS3Z555ZtTr7N27Ny666KK47LLL4uqrrx51X6VSOeZtFEVx3OMREevWrYv+/v6RW29v71jfBQBgjMb8HIY1a9bE5ZdffsLHnHnmmSP/vXfv3li+fHl0dXXF/fffP+pxbW1t8fTTT486duDAgXjrrbeOufJwVLVajWq1Ota1AYASxhwMLS0t0dLS8q4eu2fPnli+fHl0dnbG5s2bo6lp9AWNrq6u2LBhQ+zbty/mz58fEe88EbJarUZnZ+dYVwMA6qRu3yWxd+/eWLZsWSxatCjuuuuu+O1vfztyX1tbW0REdHd3xznnnBMrV66Mb3zjG/H666/Hl7/85bjmmmt8hwQATCB1C4YtW7bEiy++GC+++GIsWLBg1H1FUURExLRp0+LRRx+N1atXx6c//emYOXNmXHHFFSPfdgkATAyV4uhX70lqYGAgarVa9Pf3N/6qxOH+xr79cXakZ1fpGU2Lzim/SHOt/IyJZDw+T6baORkPziuM2Vi+hvpdEgBASjAAACnBAACkBAMAkBIMAEBKMAAAKcEAAKQEAwCQEgwAQEowAAApwQAApAQDAJASDABASjAAACnBAACkBAMAkBIMAEBKMAAAKcEAAKQEAwCQEgwAQEowAACp6Y1eYEpprpWfcbi//Ixx0rTonPJDxuOcwLvhcw3qyhUGACAlGACAlGAAAFKCAQBICQYAICUYAICUYAAAUoIBAEgJBgAgJRgAgJRgAABSggEASAkGACAlGACAlGAAAFKCAQBICQYAICUYAICUYAAAUoIBAEgJBgAgJRgAgNT0Ri9QVlEUERExMDDQ4E3GS6XRC4yvKfNxGU/j8DF2XoFxcPRr59GvpScy6YPh4MGDERGxcOHCBm8CAJPTwYMHo1arnfAxleLdZMUEduTIkdi7d2/Mnj07KpWp87fzgYGBWLhwYfT29sacOXMavc6U5ByfHM5z/TnH9TdVz3FRFHHw4MFob2+PpqYTP0th0l9haGpqigULFjR6jbqZM2fOlPrknIic45PDea4/57j+puI5zq4sHOVJjwBASjAAACnBMEFVq9W47bbbolqtNnqVKcs5Pjmc5/pzjuvPOZ4CT3oEAOrPFQYAICUYAICUYAAAUoIBAEgJBgAgJRgmmJdffjmuuuqq6OjoiJkzZ8ZHP/rRuO2222JoaGjU43p6emLFihUxa9asaGlpiZtuuumYx/DHbdiwIZYuXRrNzc3x/ve//7iPcY7L+/a3vx0dHR1x2mmnRWdnZzzxxBONXmlSe/zxx2PFihXR3t4elUolHn744VH3F0UR69evj/b29pg5c2YsW7Ysnn/++cYsO0lt3Lgxzj333Jg9e3bMmzcvLr300ti9e/eox5yq51kwTDAvvPBCHDlyJO677754/vnn4x/+4R/iO9/5Tnz1q18deczw8HBccsklcejQoXjyySfjBz/4QfzzP/9z/PVf/3UDN59choaG4rLLLovrr7/+uPc7x+X98Ic/jLVr18att94aO3fujM9+9rNx8cUXR09PT6NXm7QOHToUH//4x+Oee+457v133nlnbNq0Ke6555745S9/GW1tbXHBBReM/JI+ctu2bYsbbrgh/v3f/z22bt0ab7/9dnR3d8ehQ4dGHnPKnueCCe/OO+8sOjo6Rl7+6U9/WjQ1NRV79uwZOfbQQw8V1Wq16O/vb8SKk9bmzZuLWq12zHHnuLw/+7M/K6677rpRx84+++ziK1/5SoM2mloiovjxj3888vKRI0eKtra24mtf+9rIsTfffLOo1WrFd77znQZsODXs37+/iIhi27ZtRVGc2ufZFYZJoL+/P+bOnTvy8vbt22PJkiXR3t4+cuzCCy+MwcHB2LFjRyNWnHKc43KGhoZix44d0d3dPep4d3d3PPXUUw3aamp76aWXoq+vb9Q5r1arcf755zvnJfT390dEjPwZfCqfZ8Ewwf3mN7+Ju+++O6677rqRY319fdHa2jrqcWeccUbMmDEj+vr6TvaKU5JzXM6rr74aw8PDx5zD1tZW569Ojp5X53z8FEURN998c3zmM5+JJUuWRMSpfZ4Fw0myfv36qFQqJ7w988wzo15n7969cdFFF8Vll10WV1999aj7KpXKMW+jKIrjHj9VvJdzfCLOcXn//Vw5f/XnnI+fNWvWxHPPPRcPPfTQMfediud5eqMXOFWsWbMmLr/88hM+5swzzxz5771798by5cujq6sr7r///lGPa2tri6effnrUsQMHDsRbb711TPWeSsZ6jk/EOS6npaUlpk2bdszfuPbv3+/81UlbW1tEvPM34Pnz548cd87fmxtvvDEeeeSRePzxx2PBggUjx0/l8ywYTpKWlpZoaWl5V4/ds2dPLF++PDo7O2Pz5s3R1DT6QlBXV1ds2LAh9u3bN/IJu2XLlqhWq9HZ2Tnuu08WYznHGee4nBkzZkRnZ2ds3bo1/uIv/mLk+NatW+OLX/xiAzebujo6OqKtrS22bt0an/jEJyLineeSbNu2Lb7+9a83eLvJoyiKuPHGG+PHP/5x/OIXv4iOjo5R95/S57mBT7jkOPbs2VOcddZZxec+97niP//zP4t9+/aN3I56++23iyVLlhSf//zni//4j/8o/u3f/q1YsGBBsWbNmgZuPrm88sorxc6dO4vbb7+9OP3004udO3cWO3fuLA4ePFgUhXM8Hn7wgx8U73vf+4rvfve7xa5du4q1a9cWs2bNKl5++eVGrzZpHTx4cORzNSKKTZs2FTt37ixeeeWVoiiK4mtf+1pRq9WKH/3oR8WvfvWr4ktf+lIxf/78YmBgoMGbTx7XX399UavVil/84hej/vw9fPjwyGNO1fMsGCaYzZs3FxFx3NsfeuWVV4pLLrmkmDlzZjF37txizZo1xZtvvtmgrSefVatWHfccP/bYYyOPcY7L+8d//Mfiwx/+cDFjxozik5/85Mi3pvHePPbYY8f9vF21alVRFO98y99tt91WtLW1FdVqtTjvvPOKX/3qV41depL5Y3/+bt68eeQxp+p5rhRFUZzECxoAwCTkuyQAgJRgAABSggEASAkGACAlGACAlGAAAFKCAQBICQYAICUYAICUYAAAUoIBAEj9f8DBqUr/3olcAAAAAElFTkSuQmCC\n",
=======
      "image/png": "iVBORw0KGgoAAAANSUhEUgAAAgwAAAH5CAYAAADtMWY4AAAAOXRFWHRTb2Z0d2FyZQBNYXRwbG90bGliIHZlcnNpb24zLjcuMSwgaHR0cHM6Ly9tYXRwbG90bGliLm9yZy/bCgiHAAAACXBIWXMAAA9hAAAPYQGoP6dpAAAc10lEQVR4nO3dcWzWhZ348c9TGI8U4Zmso6UDZje5nzMky9bzlrJNYTurxrB5l5hz/kIwUaMiGuIt3pjJiZdDNue4JXpzellwWaLbH7c5c+5+gdscauTM5DBu8pPfz0VtD+iPqaRloK2W7+8PR289GB/rtw9PW16v5Ens93n66affVvrmy9O2UhRFEQAAJ9DU6AUAgIlPMAAAKcEAAKQEAwCQEgwAQEowAAApwQAApKY3eoGyjhw5Env37o3Zs2dHpVJp9DoAMGkURREHDx6M9vb2aGo68TWESR8Me/fujYULFzZ6DQCYtHp7e2PBggUnfMykD4bZs2dHxDvv7Jw5cxq8DQBMHgMDA7Fw4cKRr6UnMumD4eg/Q8yZM0cwAMB78G7+Sd+THgGAlGAAAFKT/p8kACIi4nB/+RnNtfIzOD4fn0nPFQYAICUYAICUYAAAUoIBAEgJBgAgJRgAgJRgAABSggEASAkGACAlGACAlGAAAFKCAQBICQYAICUYAICUYAAAUoIBAEgJBgAgJRgAgJRgAABSggEASAkGACAlGACA1PRGLwAwLpprjd5g4jncX36G88rvucIAAKQEAwCQEgwAQEowAAApwQAApAQDAJASDABASjAAACnBAACkBAMAkBIMAEBKMAAAKcEAAKQEAwCQEgwAQEowAAApwQAApAQDAJASDABASjAAACnBAACk6hoMGzdujHPPPTdmz54d8+bNi0svvTR279496jFFUcT69eujvb09Zs6cGcuWLYvnn3++nmsBAGM0vZ7Dt23bFjfccEOce+658fbbb8ett94a3d3dsWvXrpg1a1ZERNx5552xadOmeOCBB+JP/uRP4u///u/jggsuiN27d8fs2bPruR5AXQz/7PulZ0zr+sI4bDKBNNcavQElVYqiKE7WG/vtb38b8+bNi23btsV5550XRVFEe3t7rF27Nv7mb/4mIiIGBwejtbU1vv71r8e1116bzhwYGIharRb9/f0xZ86cer8LAKkpFQy+0E9pY/kaelKfw9Df3x8REXPnzo2IiJdeein6+vqiu7t75DHVajXOP//8eOqpp447Y3BwMAYGBkbdAID6OmnBUBRF3HzzzfGZz3wmlixZEhERfX19ERHR2to66rGtra0j9/13GzdujFqtNnJbuHBhfRcHAE5eMKxZsyaee+65eOihh465r1KpjHq5KIpjjh21bt266O/vH7n19vbWZV8A4L/U9UmPR914443xyCOPxOOPPx4LFiwYOd7W1hYR71xpmD9//sjx/fv3H3PV4ahqtRrVarW+CwMAo9T1CkNRFLFmzZr40Y9+FD//+c+jo6Nj1P0dHR3R1tYWW7duHTk2NDQU27Zti6VLl9ZzNQBgDOp6heGGG26IBx98MH7yk5/E7NmzR56XUKvVYubMmVGpVGLt2rVxxx13xOLFi2Px4sVxxx13RHNzc1xxxRX1XA0AGIO6BsO9994bERHLli0bdXzz5s1x5ZVXRkTELbfcEm+88UasXr06Dhw4EJ/61Kdiy5YtfgYDAEwgJ/XnMNSDn8MATDR+DgOTxYT9OQwAwOQkGACAlGAAAFKCAQBICQYAICUYAICUYAAAUoIBAEgJBgAgJRgAgJRgAABSggEASNX1t1UCvCuH+8vPmEC/JGna51c2eoXxMx4fm4gJ9fHhvXGFAQBICQYAICUYAICUYAAAUoIBAEgJBgAgJRgAgJRgAABSggEASAkGACAlGACAlGAAAFKCAQBICQYAICUYAICUYAAAUoIBAEgJBgAgJRgAgJRgAABSggEASAkGACA1vdELAERzrfyMw/0TY4+IGH7oztIzpn3plnHYBMaPKwwAQEowAAApwQAApAQDAJASDABASjAAACnBAACkBAMAkBIMAEBKMAAAKcEAAKQEAwCQEgwAQEowAAApwQAApAQDAJASDABASjAAACnBAACkBAMAkBIMAEBKMAAAqemNXgBgPBzp2VV6RvHzh8svEhGVz11afsjh/vIzmmsTYwZTgisMAEBKMAAAKcEAAKQEAwCQEgwAQEowAAApwQAApAQDAJASDABASjAAACnBAACkBAMAkBIMAEBKMAAAKcEAAKQEAwCQEgwAQEowAAApwQAApOoaDI8//nisWLEi2tvbo1KpxMMPPzzq/qIoYv369dHe3h4zZ86MZcuWxfPPP1/PlQCA96CuwXDo0KH4+Mc/Hvfcc89x77/zzjtj06ZNcc8998Qvf/nLaGtriwsuuCAOHjxYz7UAgDGaXs/hF198cVx88cXHva8oivjWt74Vt956a/zlX/5lRER873vfi9bW1njwwQfj2muvPe7rDQ4OxuDg4MjLAwMD4784ADBKXYPhRF566aXo6+uL7u7ukWPVajXOP//8eOqpp/5oMGzcuDFuv/32k7UmTEyH+xu9wbga3v5I+SH795Wf8bvxubpZ/Pzh8kOuPKf8DBhHDXvSY19fX0REtLa2jjre2to6ct/xrFu3Lvr7+0duvb29dd0TAGjgFYajKpXKqJeLojjm2B+qVqtRrVbrvRYA8AcadoWhra0tIuKYqwn79+8/5qoDANBYDQuGjo6OaGtri61bt44cGxoaim3btsXSpUsbtRYAcBx1/SeJ3/3ud/Hiiy+OvPzSSy/Fs88+G3Pnzo1FixbF2rVr44477ojFixfH4sWL44477ojm5ua44oor6rkWADBGdQ2GZ555JpYvXz7y8s033xwREatWrYoHHnggbrnllnjjjTdi9erVceDAgfjUpz4VW7ZsidmzZ9dzLQBgjCpFURSNXqKMgYGBqNVq0d/fH3PmzGn0OnBy+LbKY43Ht1X2vlx+RkTE6eX/0jPtyq+W36O5Vn4GU9pYvob6XRIAQEowAAApwQAApAQDAJASDABASjAAACnBAACkBAMAkBIMAEBKMAAAKcEAAKQEAwCQEgwAQEowAAApwQAApKY3egGYTI68sL30jKazu8rv0bOr9Ixiz4ulZ0REFP/6k9IzjhwYKD3j//z8/5ae0TqvufSMiIi5d3yl9Izx+Bg3LTqn9IxorpWfwZTgCgMAkBIMAEBKMAAAKcEAAKQEAwCQEgwAQEowAAApwQAApAQDAJASDABASjAAACnBAACkBAMAkBIMAEBKMAAAKcEAAKQEAwCQEgwAQEowAAApwQAApAQDAJCa3ugFYDJpOrur/JDD/aVHFHteLD1j8N77Ss+IiPjfT/WWnvFP+w6UnrF0zmmlZ/zP6y8uPSMiYlrXF0rPONKzq/wizbXyM+D3XGEAAFKCAQBICQYAICUYAICUYAAAUoIBAEgJBgAgJRgAgJRgAABSggEASAkGACAlGACAlGAAAFKCAQBICQYAICUYAICUYAAAUoIBAEgJBgAgJRgAgJRgAABSggEASE1v9AIwqRzuLz1i+Cf3lZ7xu/sfLD3jfz27r/SMiIjnDg2VnvGhavk/ii5Y/IHSMypfWFl6RkTEkZ5dpWc0nd01DpvA+HGFAQBICQYAICUYAICUYAAAUoIBAEgJBgAgJRgAgJRgAABSggEASAkGACAlGACAlGAAAFKCAQBICQYAICUYAICUYAAAUhMiGL797W9HR0dHnHbaadHZ2RlPPPFEo1cCAP5Aw4Phhz/8YaxduzZuvfXW2LlzZ3z2s5+Niy++OHp6ehq9GgDwew0Phk2bNsVVV10VV199dXzsYx+Lb33rW7Fw4cK49957G70aAPB7DQ2GoaGh2LFjR3R3d4863t3dHU899dRxX2dwcDAGBgZG3QCA+mpoMLz66qsxPDwcra2to463trZGX1/fcV9n48aNUavVRm4LFy48GasCwCmt4f8kERFRqVRGvVwUxTHHjlq3bl309/eP3Hp7e0/GigBwSpveyDfe0tIS06ZNO+Zqwv79+4+56nBUtVqNarV6MtaDYwxvf6T0jLce/dfSM/7fnt+VnvGB6ePzv/8nTz9+3I/FeYs/UHrGGRd2lp4xXpoWndPoFWDcNfQKw4wZM6KzszO2bt066vjWrVtj6dKlDdoKAPjvGnqFISLi5ptvjpUrV8af/umfRldXV9x///3R09MT1113XaNXAwB+r+HB8Fd/9Vfx2muvxd/93d/Fvn37YsmSJfHTn/40PvzhDzd6NQDg9xoeDBERq1evjtWrVzd6DQDgj5gQ3yUBAExsggEASAkGACAlGACAlGAAAFKCAQBICQYAICUYAICUYAAAUoIBAEgJBgAgJRgAgJRgAABSggEASAkGACAlGACAlGAAAFKCAQBITW/0Akxxh/vLz2iulR4x/LPvl99jAnlz8O3SM944cmQcNolY+pEzSs+Yu3ZV+UXmzS89ounsrvJ7wBTlCgMAkBIMAEBKMAAAKcEAAKQEAwCQEgwAQEowAAApwQAApAQDAJASDABASjAAACnBAACkBAMAkBIMAEBKMAAAKcEAAKQEAwCQEgwAQEowAAApwQAApAQDAJCa3ugFmOKaa43e4B27fz0+c874QOkRr/56X+kZs2a9r/SMZWe3lJ4REVFdMHdc5pRV+dBZ5Ycc7i8/I2LifN7DOHKFAQBICQYAICUYAICUYAAAUoIBAEgJBgAgJRgAgJRgAABSggEASAkGACAlGACAlGAAAFKCAQBICQYAICUYAICUYAAAUoIBAEgJBgAgJRgAgJRgAABSggEASAkGACA1vdELQObIC9tLz6h87tLyi0REsfOJ0jPmdS4qPaPpQ22lZ1ROP730jIiI6OwqPaLyobNKz2g6u/wecbi//AyYolxhAABSggEASAkGACAlGACAlGAAAFKCAQBICQYAICUYAICUYAAAUoIBAEgJBgAgJRgAgJRgAABSggEASNU1GDZs2BBLly6N5ubmeP/733/cx/T09MSKFSti1qxZ0dLSEjfddFMMDQ3Vcy0AYIym13P40NBQXHbZZdHV1RXf/e53j7l/eHg4LrnkkvjgBz8YTz75ZLz22muxatWqKIoi7r777nquBgCMQV2D4fbbb4+IiAceeOC492/ZsiV27doVvb290d7eHhER3/zmN+PKK6+MDRs2xJw5c+q5HgDwLjX0OQzbt2+PJUuWjMRCRMSFF14Yg4ODsWPHjuO+zuDgYAwMDIy6AQD11dBg6Ovri9bW1lHHzjjjjJgxY0b09fUd93U2btwYtVpt5LZw4cKTsSoAnNLGHAzr16+PSqVywtszzzzzrudVKpVjjhVFcdzjERHr1q2L/v7+kVtvb+9Y3wUAYIzG/ByGNWvWxOWXX37Cx5x55pnvalZbW1s8/fTTo44dOHAg3nrrrWOuPBxVrVajWq2+q/kAwPgYczC0tLRES0vLuLzxrq6u2LBhQ+zbty/mz58fEe88EbJarUZnZ+e4vA0AoLy6fpdET09PvP7669HT0xPDw8Px7LPPRkTEWWedFaeffnp0d3fHOeecEytXroxvfOMb8frrr8eXv/zluOaaaybnd0gc7i8/o7lWfkZEHHlhe+kZTWd3lZ4x/NCdpWdM+9ItpWeMx/mIiIh580uPmPbnf15+jwOvlZ/xP5aUnzFOmhad0+gVgERdg+Fv//Zv43vf+97Iy5/4xCciIuKxxx6LZcuWxbRp0+LRRx+N1atXx6c//emYOXNmXHHFFXHXXXfVcy0AYIzqGgwPPPDAH/0ZDEctWrQo/uVf/qWeawAAJfldEgBASjAAACnBAACkBAMAkBIMAEBKMAAAKcEAAKQEAwCQEgwAQEowAAApwQAApAQDAJASDABASjAAACnBAACkBAMAkBIMAEBKMAAAKcEAAKQEAwCQmt7oBaaU5lr5GYf7y8+IiGLnE6VnHBmHPaZ98dryQ8bhnDSd3VV+j4gYfuT7pWdUvrCy9IzxeH+Gf1b+fZlyxuP/YZiiXGEAAFKCAQBICQYAICUYAICUYAAAUoIBAEgJBgAgJRgAgJRgAABSggEASAkGACAlGACAlGAAAFKCAQBICQYAICUYAICUYAAAUoIBAEgJBgAgJRgAgJRgAABSggEASE1v9AKMNrz9kfEZNG9+6RHFzifK77HonPIzJpBpazaWH9JcKz9jHEz7/MpGr/BfDvc3egMg4QoDAJASDABASjAAACnBAACkBAMAkBIMAEBKMAAAKcEAAKQEAwCQEgwAQEowAAApwQAApAQDAJASDABASjAAACnBAACkBAMAkBIMAEBKMAAAKcEAAKQEAwCQmt7oBaaS4Z99v/yQ3b8uPyMiir59pWdUPrak/CLNtfIzxsG4fGwiYtrnV47LHIDJxhUGACAlGACAlGAAAFKCAQBICQYAICUYAICUYAAAUoIBAEgJBgAgJRgAgJRgAABSggEASNUtGF5++eW46qqroqOjI2bOnBkf/ehH47bbbouhoaFRj+vp6YkVK1bErFmzoqWlJW666aZjHgMANFbdflvlCy+8EEeOHIn77rsvzjrrrPj1r38d11xzTRw6dCjuuuuuiIgYHh6OSy65JD74wQ/Gk08+Ga+99lqsWrUqiqKIu+++u16rAQBjVLdguOiii+Kiiy4aefkjH/lI7N69O+69996RYNiyZUvs2rUrent7o729PSIivvnNb8aVV14ZGzZsiDlz5tRrPQBgDE7qcxj6+/tj7ty5Iy9v3749lixZMhILEREXXnhhDA4Oxo4dO447Y3BwMAYGBkbdAID6OmnB8Jvf/CbuvvvuuO6660aO9fX1RWtr66jHnXHGGTFjxozo6+s77pyNGzdGrVYbuS1cuLCuewMA7yEY1q9fH5VK5YS3Z555ZtTr7N27Ny666KK47LLL4uqrrx51X6VSOeZtFEVx3OMREevWrYv+/v6RW29v71jfBQBgjMb8HIY1a9bE5ZdffsLHnHnmmSP/vXfv3li+fHl0dXXF/fffP+pxbW1t8fTTT486duDAgXjrrbeOufJwVLVajWq1Ota1AYASxhwMLS0t0dLS8q4eu2fPnli+fHl0dnbG5s2bo6lp9AWNrq6u2LBhQ+zbty/mz58fEe88EbJarUZnZ+dYVwMA6qRu3yWxd+/eWLZsWSxatCjuuuuu+O1vfztyX1tbW0REdHd3xznnnBMrV66Mb3zjG/H666/Hl7/85bjmmmt8hwQATCB1C4YtW7bEiy++GC+++GIsWLBg1H1FUURExLRp0+LRRx+N1atXx6c//emYOXNmXHHFFSPfdgkATAyV4uhX70lqYGAgarVa9Pf3N/6qxOH+xr79cXakZ1fpGU2Lzim/SHOt/IyJZDw+T6baORkPziuM2Vi+hvpdEgBASjAAACnBAACkBAMAkBIMAEBKMAAAKcEAAKQEAwCQEgwAQEowAAApwQAApAQDAJASDABASjAAACnBAACkBAMAkBIMAEBKMAAAKcEAAKQEAwCQEgwAQEowAACp6Y1eYEpprpWfcbi//Ixx0rTonPJDxuOcwLvhcw3qyhUGACAlGACAlGAAAFKCAQBICQYAICUYAICUYAAAUoIBAEgJBgAgJRgAgJRgAABSggEASAkGACAlGACAlGAAAFKCAQBICQYAICUYAICUYAAAUoIBAEgJBgAgJRgAgNT0Ri9QVlEUERExMDDQ4E3GS6XRC4yvKfNxGU/j8DF2XoFxcPRr59GvpScy6YPh4MGDERGxcOHCBm8CAJPTwYMHo1arnfAxleLdZMUEduTIkdi7d2/Mnj07KpWp87fzgYGBWLhwYfT29sacOXMavc6U5ByfHM5z/TnH9TdVz3FRFHHw4MFob2+PpqYTP0th0l9haGpqigULFjR6jbqZM2fOlPrknIic45PDea4/57j+puI5zq4sHOVJjwBASjAAACnBMEFVq9W47bbbolqtNnqVKcs5Pjmc5/pzjuvPOZ4CT3oEAOrPFQYAICUYAICUYAAAUoIBAEgJBgAgJRgmmJdffjmuuuqq6OjoiJkzZ8ZHP/rRuO2222JoaGjU43p6emLFihUxa9asaGlpiZtuuumYx/DHbdiwIZYuXRrNzc3x/ve//7iPcY7L+/a3vx0dHR1x2mmnRWdnZzzxxBONXmlSe/zxx2PFihXR3t4elUolHn744VH3F0UR69evj/b29pg5c2YsW7Ysnn/++cYsO0lt3Lgxzj333Jg9e3bMmzcvLr300ti9e/eox5yq51kwTDAvvPBCHDlyJO677754/vnn4x/+4R/iO9/5Tnz1q18deczw8HBccsklcejQoXjyySfjBz/4QfzzP/9z/PVf/3UDN59choaG4rLLLovrr7/+uPc7x+X98Ic/jLVr18att94aO3fujM9+9rNx8cUXR09PT6NXm7QOHToUH//4x+Oee+457v133nlnbNq0Ke6555745S9/GW1tbXHBBReM/JI+ctu2bYsbbrgh/v3f/z22bt0ab7/9dnR3d8ehQ4dGHnPKnueCCe/OO+8sOjo6Rl7+6U9/WjQ1NRV79uwZOfbQQw8V1Wq16O/vb8SKk9bmzZuLWq12zHHnuLw/+7M/K6677rpRx84+++ziK1/5SoM2mloiovjxj3888vKRI0eKtra24mtf+9rIsTfffLOo1WrFd77znQZsODXs37+/iIhi27ZtRVGc2ufZFYZJoL+/P+bOnTvy8vbt22PJkiXR3t4+cuzCCy+MwcHB2LFjRyNWnHKc43KGhoZix44d0d3dPep4d3d3PPXUUw3aamp76aWXoq+vb9Q5r1arcf755zvnJfT390dEjPwZfCqfZ8Ewwf3mN7+Ju+++O6677rqRY319fdHa2jrqcWeccUbMmDEj+vr6TvaKU5JzXM6rr74aw8PDx5zD1tZW569Ojp5X53z8FEURN998c3zmM5+JJUuWRMSpfZ4Fw0myfv36qFQqJ7w988wzo15n7969cdFFF8Vll10WV1999aj7KpXKMW+jKIrjHj9VvJdzfCLOcXn//Vw5f/XnnI+fNWvWxHPPPRcPPfTQMfediud5eqMXOFWsWbMmLr/88hM+5swzzxz5771798by5cujq6sr7r///lGPa2tri6effnrUsQMHDsRbb711TPWeSsZ6jk/EOS6npaUlpk2bdszfuPbv3+/81UlbW1tEvPM34Pnz548cd87fmxtvvDEeeeSRePzxx2PBggUjx0/l8ywYTpKWlpZoaWl5V4/ds2dPLF++PDo7O2Pz5s3R1DT6QlBXV1ds2LAh9u3bN/IJu2XLlqhWq9HZ2Tnuu08WYznHGee4nBkzZkRnZ2ds3bo1/uIv/mLk+NatW+OLX/xiAzebujo6OqKtrS22bt0an/jEJyLineeSbNu2Lb7+9a83eLvJoyiKuPHGG+PHP/5x/OIXv4iOjo5R95/S57mBT7jkOPbs2VOcddZZxec+97niP//zP4t9+/aN3I56++23iyVLlhSf//zni//4j/8o/u3f/q1YsGBBsWbNmgZuPrm88sorxc6dO4vbb7+9OP3004udO3cWO3fuLA4ePFgUhXM8Hn7wgx8U73vf+4rvfve7xa5du4q1a9cWs2bNKl5++eVGrzZpHTx4cORzNSKKTZs2FTt37ixeeeWVoiiK4mtf+1pRq9WKH/3oR8WvfvWr4ktf+lIxf/78YmBgoMGbTx7XX399UavVil/84hej/vw9fPjwyGNO1fMsGCaYzZs3FxFx3NsfeuWVV4pLLrmkmDlzZjF37txizZo1xZtvvtmgrSefVatWHfccP/bYYyOPcY7L+8d//Mfiwx/+cDFjxozik5/85Mi3pvHePPbYY8f9vF21alVRFO98y99tt91WtLW1FdVqtTjvvPOKX/3qV41depL5Y3/+bt68eeQxp+p5rhRFUZzECxoAwCTkuyQAgJRgAABSggEASAkGACAlGACAlGAAAFKCAQBICQYAICUYAICUYAAAUoIBAEj9f8DBqUr/3olcAAAAAElFTkSuQmCC",
>>>>>>> 97f2e99912a641e2fc149e5a02bc6ce09e997b57
      "text/plain": [
       "<Figure size 600x600 with 1 Axes>"
      ]
     },
     "metadata": {},
     "output_type": "display_data"
    }
   ],
   "source": [
    "import matplotlib as mpl\n",
    "fig, ax = plt.subplots(1,1, figsize=(6, 6), dpi=100)\n",
    "\n",
    "ax.hist2d(data.rot_main, data.rot_mean/2, bins=20, cmap='Reds', norm=mpl.colors.LogNorm());\n",
    "ax.set_xlim(-26, 26)\n",
    "ax.set_ylim(-26, 26)"
   ]
  },
  {
   "cell_type": "markdown",
   "id": "b4031038",
   "metadata": {},
   "source": [
    "# Score HAMP sequences"
   ]
  },
  {
   "cell_type": "markdown",
   "id": "253fabb1",
   "metadata": {},
   "source": [
    "### Get HAMP sequences"
   ]
  },
  {
   "cell_type": "code",
<<<<<<< HEAD
   "execution_count": 9,
=======
   "execution_count": 12,
>>>>>>> 97f2e99912a641e2fc149e5a02bc6ce09e997b57
   "id": "bbfc1986",
   "metadata": {},
   "outputs": [
    {
     "data": {
      "text/plain": [
       "71152"
      ]
     },
<<<<<<< HEAD
     "execution_count": 9,
=======
     "execution_count": 12,
>>>>>>> 97f2e99912a641e2fc149e5a02bc6ce09e997b57
     "metadata": {},
     "output_type": "execute_result"
    }
   ],
   "source": [
    "msa = SeqIO.parse(os.path.join(DATA_DIR, 'PF00672.alignment.full'), 'stockholm')\n",
    "\n",
    "res = []\n",
    "for s in msa:\n",
    "    n_helix = str(s.seq[35:52])\n",
    "    c_helix = str(s.seq[154:169])\n",
    "\n",
    "    # uniprot MSA\n",
    "    #n_helix = str(s.seq[8:50]).replace('-','')\n",
    "    #c_helix = str(s.seq[183:216]).replace('-','') \n",
    "    \n",
    "    n_helix_degap = n_helix.replace('-','')\n",
    "    c_helix_degap = c_helix.replace('-','')\n",
    "    \n",
    "    if len(n_helix_degap) == len(c_helix_degap) == 13:\n",
    "        res.append([n_helix_degap, c_helix_degap, s.description])\n",
    "    #else:\n",
    "        #print(n_helix, '   ', c_helix)\n",
    "        #break\n",
    "len(res)      "
   ]
  },
  {
   "cell_type": "code",
<<<<<<< HEAD
   "execution_count": 10,
=======
   "execution_count": 13,
>>>>>>> 97f2e99912a641e2fc149e5a02bc6ce09e997b57
   "id": "8f729efd",
   "metadata": {},
   "outputs": [
    {
     "data": {
      "text/plain": [
       "59456"
      ]
     },
<<<<<<< HEAD
     "execution_count": 10,
=======
     "execution_count": 13,
>>>>>>> 97f2e99912a641e2fc149e5a02bc6ce09e997b57
     "metadata": {},
     "output_type": "execute_result"
    }
   ],
   "source": [
    "data_df = pd.DataFrame(res, columns=['n_seq', 'c_seq', 'desc'])\n",
    "data_df['n_seq'] = data_df['n_seq'].apply(lambda x:x[1:-1])\n",
    "data_df['c_seq'] = data_df['c_seq'].apply(lambda x:x[1:-1])\n",
    "assert all(data_df['n_seq'].str.len() == 11)\n",
    "assert all(data_df['c_seq'].str.len() == 11)\n",
    "data_df['sequence'] = data_df['n_seq'] + data_df['c_seq'] # for mmseqs2 clustering\n",
    "data_df.drop_duplicates(subset = 'sequence', inplace=True)\n",
    "data_df.drop(data_df[data_df.sequence.str.find('X')>-1].index, inplace=True)\n",
    "len(data_df)"
   ]
  },
  {
   "cell_type": "markdown",
   "id": "7899dc0c",
   "metadata": {},
   "source": [
    "### Score with the main model"
   ]
  },
  {
   "cell_type": "code",
<<<<<<< HEAD
   "execution_count": 11,
=======
   "execution_count": 14,
>>>>>>> 97f2e99912a641e2fc149e5a02bc6ce09e997b57
   "id": "8c4575ab",
   "metadata": {},
   "outputs": [
    {
     "name": "stdout",
     "output_type": "stream",
     "text": [
<<<<<<< HEAD
      "59/59 [==============================] - 24s 390ms/step\n"
=======
      "59/59 [==============================] - 22s 341ms/step\n"
>>>>>>> 97f2e99912a641e2fc149e5a02bc6ce09e997b57
     ]
    }
   ],
   "source": [
    "#score with the main model \n",
    "res_pred = clf_main.predict(data_df.sequence.tolist())"
   ]
  },
  {
   "cell_type": "code",
   "execution_count": 12,
   "id": "fb3f22cf",
   "metadata": {},
   "outputs": [],
   "source": [
    "data_df['rot_main'] = res_pred.N_pred.apply(lambda x:np.mean(x)/2).tolist()"
   ]
  },
  {
   "cell_type": "code",
   "execution_count": 13,
   "id": "691f2d14",
   "metadata": {},
   "outputs": [],
   "source": [
    "data_df.to_pickle(os.path.join(DATA_DIR, 'scan.p'))"
   ]
  },
  {
   "cell_type": "markdown",
   "id": "e04fb631",
   "metadata": {},
   "source": [
    "### Set-up"
   ]
  },
  {
   "cell_type": "code",
   "execution_count": 14,
   "id": "1bb27ef4",
   "metadata": {},
   "outputs": [],
   "source": [
    "clusterTool = mmseqs2.MMSeqsClusterer()"
   ]
  },
  {
   "cell_type": "code",
   "execution_count": 15,
   "id": "4694a07f",
   "metadata": {},
   "outputs": [
    {
     "data": {
      "text/plain": [
       "59456"
      ]
     },
     "execution_count": 15,
     "metadata": {},
     "output_type": "execute_result"
    }
   ],
   "source": [
    "data_df = pd.read_pickle(os.path.join(DATA_DIR, 'scan.p'))\n",
    "len(data_df)"
   ]
  },
  {
   "cell_type": "markdown",
   "id": "b84ceb26",
   "metadata": {},
   "source": [
    "### Analyses"
   ]
  },
  {
   "cell_type": "code",
   "execution_count": 16,
   "id": "84d52479",
   "metadata": {},
   "outputs": [
    {
     "name": "stdout",
     "output_type": "stream",
     "text": [
      "createdb /tmp/5q6wk8xp tmp/14302019485240549804/input --max-seq-len 65535 --dont-split-seq-by-len 1 --dbtype 0 --dont-shuffle 1 --id-offset 0 --compressed 0 -v 3 \n",
      "\n",
      "Converting sequences\n",
      "[=====\n",
      "Time for merging files: 0h 0m 0s 34ms\n",
      "Time for merging files: 0h 0m 0s 33ms\n",
      "Time for merging files: 0h 0m 0s 6ms\n",
      "Time for processing: 0h 0m 0s 262ms\n",
      "cluster tmp/14302019485240549804/input tmp/14302019485240549804/clu tmp/14302019485240549804/clu_tmp -c 0.5 --cov-mode 0 --min-seq-id 0.8 --cluster-mode 1 \n",
      "\n",
      "Tmp tmp/14302019485240549804/clu_tmp folder does not exist or is not a directory.\n",
      "Created dir tmp/14302019485240549804/clu_tmp\n",
      "Set cluster settings automatically to s=1.000000\n",
      "connected component clustering produces less clusters in a single step clustering.\n",
      "Please use --single-step-clusterkmermatcher tmp/14302019485240549804/input tmp/14302019485240549804/clu_tmp/12889581036674216624/linclust/14338351609668363405/pref --sub-mat blosum62.out --alph-size 13 --min-seq-id 0.8 --kmer-per-seq 21 --adjust-kmer-len 0 --mask 0 --mask-lower-case 0 --cov-mode 0 -k 0 -c 0.5 --max-seq-len 65535 --hash-shift 5 --split-memory-limit 0 --include-only-extendable 0 --skip-n-repeat-kmer 0 --threads 20 --compressed 0 -v 3 \n",
      "\n",
      "Database size: 59456 type: Aminoacid\n",
      "Reduced amino acid alphabet: (A S T) (C) (D B N) (E Q Z) (F Y) (G) (H) (I V) (K R) (L J M) (P) (W) (X) \n",
      "\n",
      "Estimated memory consumption 11 MB\n",
      "Generate k-mers list for 1 split\n",
      "[=================================================================] 59.46K 0s 10ms\n",
      "Sort kmer 0h 0m 0s 39ms\n",
      "Sort by rep. sequence 0h 0m 0s 27ms\n",
      "Time for fill: 0h 0m 0s 11ms\n",
      "Time for merging files: 0h 0m 0s 31ms\n",
      "Time for processing: 0h 0m 0s 165ms\n",
      "rescorediagonal tmp/14302019485240549804/input tmp/14302019485240549804/input tmp/14302019485240549804/clu_tmp/12889581036674216624/linclust/14338351609668363405/pref tmp/14302019485240549804/clu_tmp/12889581036674216624/linclust/14338351609668363405/pref_rescore1 --sub-mat blosum62.out --rescore-mode 0 --filter-hits 0 -e 0.001 -c 0.5 -a 0 --cov-mode 0 --min-seq-id 0.8 --min-aln-len 0 --seq-id-mode 0 --add-self-matches 0 --sort-results 0 --global-alignment 0 --db-load-mode 0 --threads 20 --compressed 0 -v 3 \n",
      "\n",
      "[=================================================================] 59.46K 0s 11ms\n",
      "Time for merging files: 0h 0m 0s 36ms\n",
      "Time for processing: 0h 0m 0s 82ms\n",
      "clust tmp/14302019485240549804/input tmp/14302019485240549804/clu_tmp/12889581036674216624/linclust/14338351609668363405/pref_rescore1 tmp/14302019485240549804/clu_tmp/12889581036674216624/linclust/14338351609668363405/pre_clust --cluster-mode 1 --max-iterations 1000 --similarity-type 2 --threads 20 --compressed 0 -v 3 \n",
      "\n",
      "Clustering mode: Connected Component\n",
      "[=================================================================] 59.46K 0s 5ms\n",
      "Sort entries\n",
      "Find missing connections\n",
      "Found 27274 new connections.\n",
      "Reconstruct initial order\n",
      "[=================================================================] 59.46K 0s 4ms\n",
      "Add missing connections\n",
      "[=================================================================] 59.46K 0s 2ms\n",
      "\n",
      "Time for read in: 0h 0m 0s 32ms\n",
      "connected component mode\n",
      "Total time: 0h 0m 0s 49ms\n",
      "\n",
      "Size of the sequence database: 59456\n",
      "Size of the alignment database: 59456\n",
      "Number of clusters: 40607\n",
      "\n",
      "Writing results 0h 0m 0s 9ms\n",
      "Time for merging files: 0h 0m 0s 25ms\n",
      "Time for processing: 0h 0m 0s 115ms\n",
      "createsubdb tmp/14302019485240549804/clu_tmp/12889581036674216624/linclust/14338351609668363405/order_redundancy tmp/14302019485240549804/input tmp/14302019485240549804/clu_tmp/12889581036674216624/linclust/14338351609668363405/input_step_redundancy \n",
      "\n",
      "Time for merging files: 0h 0m 0s 4ms\n",
      "Time for processing: 0h 0m 0s 21ms\n",
      "createsubdb tmp/14302019485240549804/clu_tmp/12889581036674216624/linclust/14338351609668363405/order_redundancy tmp/14302019485240549804/clu_tmp/12889581036674216624/linclust/14338351609668363405/pref tmp/14302019485240549804/clu_tmp/12889581036674216624/linclust/14338351609668363405/pref_filter1 \n",
      "\n",
      "Time for merging files: 0h 0m 0s 4ms\n",
      "Time for processing: 0h 0m 0s 22ms\n",
      "filterdb tmp/14302019485240549804/clu_tmp/12889581036674216624/linclust/14338351609668363405/pref_filter1 tmp/14302019485240549804/clu_tmp/12889581036674216624/linclust/14338351609668363405/pref_filter2 --filter-file tmp/14302019485240549804/clu_tmp/12889581036674216624/linclust/14338351609668363405/order_redundancy \n",
      "\n",
      "Filtering with a filter files.\n",
      "[=================================================================] 40.61K 0s 8ms\n",
      "Time for merging files: 0h 0m 0s 30ms\n",
      "Time for processing: 0h 0m 0s 91ms\n",
      "rescorediagonal tmp/14302019485240549804/clu_tmp/12889581036674216624/linclust/14338351609668363405/input_step_redundancy tmp/14302019485240549804/clu_tmp/12889581036674216624/linclust/14338351609668363405/input_step_redundancy tmp/14302019485240549804/clu_tmp/12889581036674216624/linclust/14338351609668363405/pref_filter2 tmp/14302019485240549804/clu_tmp/12889581036674216624/linclust/14338351609668363405/pref_rescore2 --sub-mat blosum62.out --rescore-mode 1 --filter-hits 1 -e 0.001 -c 0.5 -a 0 --cov-mode 0 --min-seq-id 0.8 --min-aln-len 0 --seq-id-mode 0 --add-self-matches 0 --sort-results 0 --global-alignment 0 --db-load-mode 0 --threads 20 --compressed 0 -v 3 \n",
      "\n",
      "[=================================================================] 40.61K 0s 12ms\n",
      "Time for merging files: 0h 0m 0s 30ms\n",
      "Time for processing: 0h 0m 0s 76ms\n",
      "align tmp/14302019485240549804/clu_tmp/12889581036674216624/linclust/14338351609668363405/input_step_redundancy tmp/14302019485240549804/clu_tmp/12889581036674216624/linclust/14338351609668363405/input_step_redundancy tmp/14302019485240549804/clu_tmp/12889581036674216624/linclust/14338351609668363405/pref_rescore2 tmp/14302019485240549804/clu_tmp/12889581036674216624/linclust/14338351609668363405/aln --sub-mat blosum62.out -a 0 --alignment-mode 3 -e 0.001 --min-seq-id 0.8 --min-aln-len 0 --seq-id-mode 0 --alt-ali 0 -c 0.5 --cov-mode 0 --max-seq-len 65535 --comp-bias-corr 0 --realign 0 --max-rejected 2147483647 --max-accept 2147483647 --add-self-matches 0 --db-load-mode 0 --pca 1 --pcb 1.5 --score-bias 0 --gap-open 11 --gap-extend 1 --threads 20 --compressed 0 -v 3 \n",
      "\n",
      "Compute score, coverage and sequence identity\n",
      "Query database size: 40607 type: Aminoacid\n",
      "Target database size: 40607 type: Aminoacid\n",
      "Calculation of alignments\n",
      "[=================================================================] 40.61K 0s 51ms\n",
      "Time for merging files: 0h 0m 0s 31ms\n",
      "\n",
      "111523 alignments calculated.\n",
      "40898 sequence pairs passed the thresholds (0.366723 of overall calculated).\n",
      "1.007166 hits per query sequence.\n",
      "Time for processing: 0h 0m 0s 117ms\n",
      "clust tmp/14302019485240549804/clu_tmp/12889581036674216624/linclust/14338351609668363405/input_step_redundancy tmp/14302019485240549804/clu_tmp/12889581036674216624/linclust/14338351609668363405/aln tmp/14302019485240549804/clu_tmp/12889581036674216624/linclust/14338351609668363405/clust --cluster-mode 1 --max-iterations 1000 --similarity-type 2 --threads 20 --compressed 0 -v 3 \n",
      "\n",
      "Clustering mode: Connected Component\n",
      "[=================================================================] 40.61K 0s 4ms\n",
      "Sort entries\n",
      "Find missing connections\n",
      "Found 291 new connections.\n",
      "Reconstruct initial order\n",
      "[=================================================================] 40.61K 0s 3ms\n",
      "Add missing connections\n",
      "[=================================================================] 40.61K 0s 2ms\n",
      "\n",
      "Time for read in: 0h 0m 0s 28ms\n",
      "connected component mode\n",
      "Total time: 0h 0m 0s 41ms\n",
      "\n",
      "Size of the sequence database: 40607\n",
      "Size of the alignment database: 40607\n",
      "Number of clusters: 40317\n",
      "\n",
      "Writing results 0h 0m 0s 6ms\n",
      "Time for merging files: 0h 0m 0s 26ms\n",
      "Time for processing: 0h 0m 0s 102ms\n",
      "mergeclusters tmp/14302019485240549804/input tmp/14302019485240549804/clu_tmp/12889581036674216624/clu_redundancy tmp/14302019485240549804/clu_tmp/12889581036674216624/linclust/14338351609668363405/pre_clust tmp/14302019485240549804/clu_tmp/12889581036674216624/linclust/14338351609668363405/clust --threads 20 --compressed 0 -v 3 \n",
      "\n",
      "List amount 59456\n",
      "Clustering step 1\n",
      "Clustering step 2\n",
      "Writing the results\n",
      "Time for merging files: 0h 0m 0s 31ms\n",
      "Time for processing: 0h 0m 0s 67ms\n",
      "createsubdb tmp/14302019485240549804/clu_tmp/12889581036674216624/clu_redundancy tmp/14302019485240549804/input tmp/14302019485240549804/clu_tmp/12889581036674216624/input_step_redundancy \n",
      "\n",
      "Time for merging files: 0h 0m 0s 4ms\n",
      "Time for processing: 0h 0m 0s 18ms\n"
     ]
    },
    {
     "name": "stdout",
     "output_type": "stream",
     "text": [
      "prefilter tmp/14302019485240549804/clu_tmp/12889581036674216624/input_step_redundancy tmp/14302019485240549804/clu_tmp/12889581036674216624/input_step_redundancy tmp/14302019485240549804/clu_tmp/12889581036674216624/pref_step0 --sub-mat blosum62.out --seed-sub-mat VTML80.out -s 1 -k 0 --k-score 2147483647 --alph-size 21 --max-seq-len 65535 --max-seqs 20 --split 0 --split-mode 2 --split-memory-limit 0 -c 0.5 --cov-mode 0 --comp-bias-corr 0 --diag-score 0 --exact-kmer-matching 0 --mask 1 --mask-lower-case 0 --min-ungapped-score 0 --add-self-matches 0 --spaced-kmer-mode 1 --db-load-mode 0 --pca 1 --pcb 1.5 --threads 20 --compressed 0 -v 3 \n",
      "\n",
      "Using 20 threads.\n",
      "Estimated memory consumption 1020 MB\n",
      "Target database size: 40317 type: Aminoacid\n",
      "Query database size: 40317 type: Aminoacid\n",
      "Process prefiltering step 1 of 1\n",
      "\n",
      "Index table k-mer threshold: 154 at k-mer size 6 \n",
      "Index table: counting k-mers\n",
      "[=================================================================] 40.32K 0s 29ms\n",
      "Index table: Masked residues: 94\n",
      "Index table: fill\n",
      "[=================================================================] 40.32K 0s 5ms\n",
      "Index statistics\n",
      "Entries:          112501\n",
      "DB size:          488 MB\n",
      "Avg k-mer size:   0.001758\n",
      "Top 10 k-mers\n",
      "    IIQAFN\t271\n",
      "    IFEAFN\t146\n",
      "    IGMREV\t134\n",
      "    IGLRNR\t93\n",
      "    ILQGFN\t79\n",
      "    IGLRNQ\t79\n",
      "    MRLGAR\t68\n",
      "    IGMRQV\t67\n",
      "    IGLDNY\t58\n",
      "    VIQTFN\t52\n",
      "Time for index table init: 0h 0m 0s 511ms\n",
      "k-mer similarity threshold: 154\n",
      "\tk-mers per position = 0.245364, k-mer match probability: 0.000000\n",
      "k-mer match probability: 0.000000\n",
      "\n",
      "Starting prefiltering scores calculation (step 1 of 1)\n",
      "Query db start  1 to 40317\n",
      "Target db start  1 to 40317\n",
      "[=================================================================] 40.32K 0s 19ms\n",
      "\n",
      "0.183984 k-mers per position\n",
      "20 DB matches per sequence\n",
      "0 overflows\n",
      "6 sequences passed prefiltering per query sequence\n",
      "2 median result list length\n",
      "0 sequences with 0 size result lists\n",
      "\n",
      "Time for prefiltering scores calculation: 0h 0m 0s 30ms\n",
      "Time for merging files: 0h 0m 0s 31ms\n",
      "Time for processing: 0h 0m 0s 866ms\n",
      "align tmp/14302019485240549804/clu_tmp/12889581036674216624/input_step_redundancy tmp/14302019485240549804/clu_tmp/12889581036674216624/input_step_redundancy tmp/14302019485240549804/clu_tmp/12889581036674216624/pref_step0 tmp/14302019485240549804/clu_tmp/12889581036674216624/aln_step0 --sub-mat blosum62.out -a 0 --alignment-mode 3 -e 0.001 --min-seq-id 0.8 --min-aln-len 0 --seq-id-mode 0 --alt-ali 0 -c 0.5 --cov-mode 0 --max-seq-len 65535 --comp-bias-corr 0 --realign 0 --max-rejected 2147483647 --max-accept 2147483647 --add-self-matches 0 --db-load-mode 0 --pca 1 --pcb 1.5 --score-bias 0 --gap-open 11 --gap-extend 1 --threads 20 --compressed 0 -v 3 \n",
      "\n",
      "Compute score, coverage and sequence identity\n",
      "Query database size: 40317 type: Aminoacid\n",
      "Target database size: 40317 type: Aminoacid\n",
      "Calculation of alignments\n",
      "[=================================================================] 40.32K 0s 113ms\n",
      "Time for merging files: 0h 0m 0s 30ms\n",
      "\n",
      "270712 alignments calculated.\n",
      "44487 sequence pairs passed the thresholds (0.164333 of overall calculated).\n",
      "1.103430 hits per query sequence.\n",
      "Time for processing: 0h 0m 0s 182ms\n",
      "clust tmp/14302019485240549804/clu_tmp/12889581036674216624/input_step_redundancy tmp/14302019485240549804/clu_tmp/12889581036674216624/aln_step0 tmp/14302019485240549804/clu_tmp/12889581036674216624/clu_step0 --cluster-mode 1 --max-iterations 1000 --similarity-type 2 --threads 20 --compressed 0 -v 3 \n",
      "\n",
      "Clustering mode: Connected Component\n",
      "[=================================================================] 40.32K 0s 4ms\n",
      "Sort entries\n",
      "Find missing connections\n",
      "Found 492 new connections.\n",
      "Reconstruct initial order\n",
      "[=================================================================] 40.32K 0s 3ms\n",
      "Add missing connections\n",
      "[=================================================================] 40.32K 0s 1ms\n",
      "\n",
      "Time for read in: 0h 0m 0s 27ms\n",
      "connected component mode\n",
      "Total time: 0h 0m 0s 41ms\n",
      "\n",
      "Size of the sequence database: 40317\n",
      "Size of the alignment database: 40317\n",
      "Number of clusters: 38350\n",
      "\n",
      "Writing results 0h 0m 0s 7ms\n",
      "Time for merging files: 0h 0m 0s 26ms\n",
      "Time for processing: 0h 0m 0s 102ms\n",
      "mergeclusters tmp/14302019485240549804/input tmp/14302019485240549804/clu tmp/14302019485240549804/clu_tmp/12889581036674216624/clu_redundancy tmp/14302019485240549804/clu_tmp/12889581036674216624/clu_step0 --threads 20 --compressed 0 -v 3 \n",
      "\n",
      "List amount 59456\n",
      "Clustering step 1\n",
      "Clustering step 2\n",
      "Writing the results\n",
      "Time for merging files: 0h 0m 0s 34ms\n",
      "Time for processing: 0h 0m 0s 122ms\n",
      "createtsv tmp/14302019485240549804/input tmp/14302019485240549804/input tmp/14302019485240549804/clu tmp/14302019485240549804/cluster.tsv --threads 20 -v 3 \n",
      "\n",
      "Time for merging files: 0h 0m 0s 34ms\n",
      "Time for processing: 0h 0m 0s 68ms\n",
      "result2repseq tmp/14302019485240549804/input tmp/14302019485240549804/clu tmp/14302019485240549804/clu_rep --threads 20 -v 3 \n",
      "\n",
      "Start computing representative sequences.\n",
      "[=================================================================] 38.35K 0s 4ms\n",
      "\n",
      "Time for merging files: 0h 0m 0s 31ms\n",
      "Time for processing: 0h 0m 0s 65ms\n",
      "result2flat tmp/14302019485240549804/input tmp/14302019485240549804/input tmp/14302019485240549804/clu_rep tmp/14302019485240549804/rep_seq.fasta --use-fasta-header -v 3 \n",
      "\n",
      "Time for processing: 0h 0m 0s 41ms\n",
      "createseqfiledb tmp/14302019485240549804/input tmp/14302019485240549804/clu tmp/14302019485240549804/clu_seqs --threads 20 -v 3 \n",
      "\n",
      "Time for merging files: 0h 0m 0s 29ms\n",
      "Time for processing: 0h 0m 0s 100ms\n",
      "result2flat tmp/14302019485240549804/input tmp/14302019485240549804/input tmp/14302019485240549804/clu_seqs tmp/14302019485240549804/all_seqs.fasta -v 3 \n",
      "\n",
      "Time for processing: 0h 0m 0s 56ms\n"
     ]
    }
   ],
   "source": [
    "\n",
    "data_df = clusterTool.cluster(data_df, min_identity=0.8, coverage=0.5,\n",
    "                   cov_mode=0, cluster_mode=1)"
   ]
  },
  {
   "cell_type": "code",
   "execution_count": 17,
   "id": "5bdf2854",
   "metadata": {},
   "outputs": [],
   "source": [
    "def compare_sequences(seq1, seq2, method=\"\"):\n",
    "    spacer = '.' * 3\n",
    "    #print('IIELSNTADKI   IGILAKSIERL')\n",
    "    print('x  da  x  d'+(\" \"*len(spacer))+'a  x  da  x ')\n",
    "    print(f'{seq1.n_seq}{spacer}{seq1.c_seq} {np.round(seq1[\"rot_main\"],1)} {seq1.desc}')\n",
    "    r=\"\"\n",
    "    c=0\n",
    "    for i,j in zip(list(seq1.n_seq+spacer+seq1.c_seq), list(seq2.n_seq+spacer+seq2.c_seq)):\n",
    "        if i==j and i!=spacer[0]:\n",
    "            r+='|'\n",
    "        else:\n",
    "            r+=' '\n",
    "    print(r)\n",
    "    print(f'{seq2.n_seq}{spacer}{seq2.c_seq} {np.round(seq2[\"rot_main\"],1)} {seq2.desc}')"
   ]
  },
  {
   "cell_type": "code",
   "execution_count": 18,
   "id": "4ee2e693",
   "metadata": {},
   "outputs": [],
   "source": [
    "def max_ident(sequences):\n",
    "    m = [0, 0, 0]\n",
    "    for i in range(len(sequences)):\n",
    "        for j in range(len(sequences)):\n",
    "            if i>j:\n",
    "                ident = (sequence_identity(sequences[i], sequences[j]))\n",
    "                if ident>m[0]:\n",
    "                    \n",
    "                    # check if the difference is only in the core positions\n",
    "                    \n",
    "                    #       IIELSNTADKIIGILAKSIERL\n",
    "                    #       x  da  x  da  x  da  x\n",
    "                    mask = \"*  **  *  **  *  **  *\"\n",
    "                    \n",
    "                    OK=True\n",
    "                    for aa1, aa2, aam in zip(list(sequences[i]), list(sequences[j]), list(mask)):\n",
    "                        if aa1!=aa2 and aam!='*':\n",
    "                            OK=False\n",
    "                            break\n",
    "                            \n",
    "                            \n",
    "                    if OK:\n",
    "                        m = [ident, i, j]                \n",
    "    return m"
   ]
  },
  {
   "cell_type": "code",
   "execution_count": 19,
   "id": "96f0f283",
   "metadata": {},
   "outputs": [],
   "source": [
    "def all_ident(sequences):\n",
    "    res = []\n",
    "    for i in range(len(sequences)):\n",
    "        for j in range(len(sequences)):\n",
    "            if i>j:\n",
    "                # check if the difference is only in the core positions\n",
    "                \n",
    "                #       a  x  da  x   x  da  x  d    \n",
    "                #       EAGLAEMSRQH   AARIAKGVNEL\n",
    "                #       IIELSNTADKI   IGILAKSIERL\n",
    "                #       x  da  x  d   a  x  da  x\n",
    "                mask = \"*  **  *  *\"+\"*  *  **  *\"\n",
    "\n",
    "                OK=True\n",
    "                mut_pos = []\n",
    "                for aa1, aa2, aam, pos in zip(list(sequences[i]), \n",
    "                                              list(sequences[j]), \n",
    "                                              list(mask), \n",
    "                                              range(len(mask))):\n",
    "                    \n",
    "                    # we look for mutations only in the defined core positions (mask)\n",
    "                    if aa1!=aa2:\n",
    "                        if aam!='*':\n",
    "                            OK=False\n",
    "                            break\n",
    "                        else:\n",
    "                            mut_pos.append(pos)\n",
    "\n",
    "\n",
    "                if OK:\n",
    "                    ident = (sequence_identity(sequences[i], sequences[j]))\n",
    "                    res.append([ident, i, j, mut_pos])\n",
    "    return res"
   ]
  },
  {
   "cell_type": "code",
   "execution_count": 20,
   "id": "b36c01c1",
   "metadata": {
    "scrolled": true
   },
   "outputs": [],
   "source": [
    "def compare_similar(method, MIN_CLUST_SIZE=2, mark_clusters = []):\n",
    "\n",
    "    res = []\n",
    "\n",
    "    for clust_id, g in (data_df.groupby('clust_id')):\n",
    "        size = len(g)\n",
    "        if size<MIN_CLUST_SIZE: continue\n",
    "\n",
    "        # all-vs-all seq ident\n",
    "        for seq_diff, i, j, mut_pos in all_ident(g.sequence.tolist()):\n",
    "            if len(mut_pos) != 1: continue\n",
    "            mut_pos_new = mut_pos[0]\n",
    "\n",
    "            # gather data\n",
    "            rot_min = g.iloc[i][f'rot_{method}'] \n",
    "            rot_max = g.iloc[j][f'rot_{method}']\n",
    "\n",
    "            newi, newj = i,j\n",
    "            if rot_min>rot_max:\n",
    "                newi = j\n",
    "                newj = i\n",
    "\n",
    "            rot_diff = abs(rot_max - rot_min)\n",
    "            rot_min_row = g.iloc[newi]\n",
    "            rot_max_row = g.iloc[newj]  \n",
    "            rot_min_desc = rot_min_row.desc.split('/')[0]\n",
    "            rot_max_desc = rot_max_row.desc.split('/')[0]\n",
    "            \n",
    "            if clust_id in mark_clusters: \n",
    "                color = 'red'\n",
    "            else:\n",
    "                color = 'grey'\n",
    "\n",
    "            res.append([clust_id, seq_diff, rot_diff, rot_min, rot_max, rot_min_row.name, rot_max_row.name, color])\n",
    "\n",
    "    res_df = pd.DataFrame(res, columns=['clust_id', 'seq_diff', 'rot_diff', 'rot_min', 'rot_max', \n",
    "                                       'row_min_id', 'row_max_id', 'color'])\n",
    "    \n",
    "    \n",
    "    res_df['row_min_desc'] = res_df['row_min_id'].apply(lambda x:data_df.loc[x].desc.split('/')[0])\n",
    "    res_df['row_max_desc'] = res_df['row_max_id'].apply(lambda x:data_df.loc[x].desc.split('/')[0])\n",
    "    \n",
    "    return res_df"
   ]
  },
  {
   "cell_type": "code",
   "execution_count": 21,
   "id": "e66c1fb8",
   "metadata": {},
   "outputs": [],
   "source": [
    "def plot_res(res_df, m_n=\"\", bar_pos=0.98):\n",
    "    title_font_size = 10\n",
    "    label_font_size = 10\n",
    "    tick_font_size = 8\n",
    "\n",
    "    fig, ax = plt.subplots(1,1, figsize=(3, 7), dpi=200)\n",
    "    ax.axhline(y=res_df.rot_diff.quantile(bar_pos), color='red', linestyle='--', lw=0.75)\n",
    "    ax.tick_params(axis='both', which='major', labelsize=tick_font_size)\n",
    "    ax.tick_params(axis='both', which='minor', labelsize=tick_font_size)\n",
    "\n",
    "    ax.set_xlabel('', size=label_font_size)\n",
    "    ax.set_ylabel(r'Absolute difference in predicted rotation [$\\degree$]', size=label_font_size)\n",
    "    ax.set_title(\"Effects of point mutations\", size=title_font_size)\n",
    "\n",
    "    sns.swarmplot(res_df, y='rot_diff', ax=ax, s=2, c=res_df.color)\n",
    "\n",
    "    ax.set_xticks([]) "
   ]
  },
  {
   "cell_type": "code",
   "execution_count": 22,
   "id": "52ffe9f8",
   "metadata": {},
   "outputs": [],
   "source": [
    "mark_cluster = []\n",
    "res_df_main = compare_similar(method='main', mark_clusters = mark_cluster)\n"
   ]
  },
  {
   "cell_type": "code",
   "execution_count": 38,
   "id": "b0965f61",
   "metadata": {},
   "outputs": [
    {
     "data": {
      "image/png": "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\n",
      "text/plain": [
       "<Figure size 600x1400 with 1 Axes>"
      ]
     },
     "metadata": {},
     "output_type": "display_data"
    }
   ],
   "source": [
    "plot_res(res_df_main, bar_pos=0.98)"
   ]
  },
  {
   "cell_type": "code",
   "execution_count": 39,
   "id": "e2c96a46",
   "metadata": {
    "scrolled": false
   },
   "outputs": [
    {
     "name": "stdout",
     "output_type": "stream",
     "text": [
      "160 --------------------------------------------------\n",
      "x  da  x  d   a  x  da  x \n",
      "VRMAAGIVERL...IARLGEAFNKM -5.0 A0A1Q4YVI0_9ACTN/281-333\n",
      "||||||| |||   |||||||||||\n",
      "VRMAAGISERL...IARLGEAFNKM -0.9 A0A498DN17_9ACTN/296-348\n",
      "\n",
      "A0A1Q4YVI0_9ACTN A0A498DN17_9ACTN\n",
      "\n",
      "421 --------------------------------------------------\n",
      "x  da  x  d   a  x  da  x \n",
      "LRKAAAAAGKV...TDELARAVDAL -11.5 V6KEP3_STRNV/153-209\n",
      "|||||||||||   |||||||||| \n",
      "LRKAAAAAGKV...TDELARAVDAM -7.9 A0A1E5P8C5_9ACTN/153-209\n",
      "\n",
      "V6KEP3_STRNV A0A1E5P8C5_9ACTN\n",
      "\n",
      "552 --------------------------------------------------\n",
      "x  da  x  d   a  x  da  x \n",
      "VRNVAQVATAV...ILELKNTINTM -7.9 A0A1H5PQZ5_9ACTN/285-337\n",
      "|||||||||||   ||||||| |||\n",
      "VRNVAQVATAV...ILELKNTMNTM -3.6 A0A2W2M3F7_9ACTN/285-337\n",
      "\n",
      "A0A1H5PQZ5_9ACTN A0A2W2M3F7_9ACTN\n",
      "\n",
      "x  da  x  d   a  x  da  x \n",
      "VRNIADVATAI...ILQLKQTINTM -5.6 A0A4V1TR47_9BURK/366-418\n",
      "|||||||||||   ||||||| |||\n",
      "VRNIADVATAI...ILQLKQTMNTM -1.8 F5Y1S0_RAMTT/868-920\n",
      "\n",
      "A0A4V1TR47_9BURK F5Y1S0_RAMTT\n",
      "\n",
      "x  da  x  d   a  x  da  x \n",
      "VRNIAQVTTAV...ILQLKSTINTM -9.2 A0A7H8J4P9_9ACTN/266-318\n",
      "|||||||||||   ||||||| |||\n",
      "VRNIAQVTTAV...ILQLKSTMNTM -5.3 A0A1N7CPU7_9ACTN/566-617\n",
      "\n",
      "A0A7H8J4P9_9ACTN A0A1N7CPU7_9ACTN\n",
      "\n",
      "x  da  x  d   a  x  da  x \n",
      "VRNIAQVATAV...ILELKNTLNTM -7.2 C9Z230_STRSW/651-703\n",
      "|||| ||||||   |||||||||||\n",
      "VRNISQVATAV...ILELKNTLNTM -3.5 A0A239D8E5_9ACTN/204-256\n",
      "\n",
      "C9Z230_STRSW A0A239D8E5_9ACTN\n",
      "\n",
      "x  da  x  d   a  x  da  x \n",
      "VRNIAQVATAV...ILELKTTLNTM -7.4 G0G0R7_AMYMS/468-520\n",
      "|||| ||||||   |||||||||||\n",
      "VRNISQVATAV...ILELKTTLNTM -3.8 A0A4R4P399_9ACTN/576-628\n",
      "\n",
      "G0G0R7_AMYMS A0A4R4P399_9ACTN\n",
      "\n",
      "x  da  x  d   a  x  da  x \n",
      "VRNIADVTTAV...ILQLKDTINTM -8.6 A0A239F2H6_9BURK/837-889\n",
      "|||||||||||   ||||||| |||\n",
      "VRNIADVTTAV...ILQLKDTFNTM -5.2 A0A679HUJ9_9BACT/1124-1175\n",
      "\n",
      "A0A239F2H6_9BURK A0A679HUJ9_9BACT\n",
      "\n",
      "x  da  x  d   a  x  da  x \n",
      "VRNIADVTTAV...ILELKNTVNTM -8.1 A0A6H1TVY1_9CYAN/473-524\n",
      "|||||||||||   ||| |||||||\n",
      "VRNIADVTTAV...ILEVKNTVNTM -4.8 A0A1P8FE27_9PROT/273-325\n",
      "\n",
      "A0A6H1TVY1_9CYAN A0A1P8FE27_9PROT\n",
      "\n",
      "x  da  x  d   a  x  da  x \n",
      "VRNIAQVSTAV...ILELKNTVNTM -7.9 A0A0A6UW10_ACTUT/44-96\n",
      "|||| ||||||   |||||||||||\n",
      "VRNISQVSTAV...ILELKNTVNTM -4.5 A0A3N2PGR9_9ACTN/384-435\n",
      "\n",
      "A0A0A6UW10_ACTUT A0A3N2PGR9_9ACTN\n",
      "\n",
      "2578 --------------------------------------------------\n",
      "x  da  x  d   a  x  da  x \n",
      "VSQLQQALARL...FGQLSAGFNLM 0.4 A0A240TZU2_9BURK/179-230\n",
      "||||||| |||   |||||||||||\n",
      "VSQLQQAQARL...FGQLSAGFNLM 4.0 C5T4I9_ACIDE/194-245\n",
      "\n",
      "A0A240TZU2_9BURK C5T4I9_ACIDE\n",
      "\n",
      "5931 --------------------------------------------------\n",
      "x  da  x  d   a  x  da  x \n",
      "IEVVNQTAYRI...FDQLADNLNQM -1.2 A0A4R7JZJ7_9GAMM/188-241\n",
      "||| |||||||   |||||||||||\n",
      "IEVINQTAYRI...FDQLADNLNQM 2.5 A0A2A2FBY5_9GAMM/181-234\n",
      "\n",
      "A0A4R7JZJ7_9GAMM A0A2A2FBY5_9GAMM\n",
      "\n",
      "6615 --------------------------------------------------\n",
      "x  da  x  d   a  x  da  x \n",
      "LIHMTRVAERM...LADLGASLNTL -4.3 A0A0C2UNF1_9BACL/81-133\n",
      "|||| ||||||   |||||||||||\n",
      "LIHMKRVAERM...LADLGASLNTL -0.6 A0A0F5QYL5_9BACL/81-133\n",
      "\n",
      "A0A0C2UNF1_9BACL A0A0F5QYL5_9BACL\n",
      "\n",
      "11415 --------------------------------------------------\n",
      "x  da  x  d   a  x  da  x \n",
      "LQRVTATARRL...IKELADTFDAM -2.7 A0A2P4UCV7_9ACTN/126-179\n",
      "||| |||||||   |||||||||||\n",
      "LQRMTATARRL...IKELADTFDAM 1.1 A0A3A4AZT6_9ACTN/70-123\n",
      "\n",
      "A0A2P4UCV7_9ACTN A0A3A4AZT6_9ACTN\n",
      "\n",
      "x  da  x  d   a  x  da  x \n",
      "LLTVTETARRL...IKDLADTFDSM -3.0 A0A5M3W0N1_9ACTN/111-164\n",
      "||| |||||||   |||||||||||\n",
      "LLTMTETARRL...IKDLADTFDSM 0.6 A0A5M3XFD4_9ACTN/108-161\n",
      "\n",
      "A0A5M3W0N1_9ACTN A0A5M3XFD4_9ACTN\n",
      "\n",
      "12500 --------------------------------------------------\n",
      "x  da  x  d   a  x  da  x \n",
      "LRRVAHTATRV...VGQVGAALNRM -8.1 A0A1Q5KWC3_9ACTN/216-278\n",
      "||| |||||||   |||||||||||\n",
      "LRRMAHTATRV...VGQVGAALNRM -3.9 A0A1E7KC04_9ACTN/183-243\n",
      "\n",
      "A0A1Q5KWC3_9ACTN A0A1E7KC04_9ACTN\n",
      "\n",
      "x  da  x  d   a  x  da  x \n",
      "LRRVAATATRV...VGQVGAALNRM -9.9 A0A2R4T4H2_9ACTN/184-245\n",
      "||| |||||||   |||||||||||\n",
      "LRRLAATATRV...VGQVGAALNRM -6.1 A0A1C4J0K1_9ACTN/224-285\n",
      "\n",
      "A0A2R4T4H2_9ACTN A0A1C4J0K1_9ACTN\n",
      "\n",
      "13274 --------------------------------------------------\n",
      "x  da  x  d   a  x  da  x \n",
      "IDDVSRASQRI...FDRLSGNLNVM -4.8 Q2YMX4_BRUA2/183-236\n",
      "||| |||||||   |||||||||||\n",
      "IDDMSRASQRI...FDRLSGNLNVM -0.7 A0A502BS95_9RHIZ/183-236\n",
      "\n",
      "Q2YMX4_BRUA2 A0A502BS95_9RHIZ\n",
      "\n",
      "16988 --------------------------------------------------\n",
      "x  da  x  d   a  x  da  x \n",
      "IAVIVRFMRRV...MTLLARGINDL -7.4 A0A089KZE2_9BACL/323-375\n",
      "|||||||||||   ||||||| |||\n",
      "IAVIVRFMRRV...MTLLARGFNDL -3.6 A0A089K0G0_9BACL/323-375\n",
      "\n",
      "A0A089KZE2_9BACL A0A089K0G0_9BACL\n",
      "\n",
      "19253 --------------------------------------------------\n",
      "x  da  x  d   a  x  da  x \n",
      "ILSLAEGAKAV...LGQLTRLFNHM -13.1 A0A0B5CRW6_NEIEG/297-348\n",
      "|||| ||||||   |||||||||||\n",
      "ILSLSEGAKAV...LGQLTRLFNHM -6.7 L1NKF8_9NEIS/294-345\n",
      "\n",
      "A0A0B5CRW6_NEIEG L1NKF8_9NEIS\n",
      "\n",
      "23072 --------------------------------------------------\n",
      "x  da  x  d   a  x  da  x \n",
      "LHRVTETARRI...VKELADTFDVM -5.8 A0A4R4L1K8_9ACTN/123-181\n",
      "||| |||||||   |||||||||||\n",
      "LHRMTETARRI...VKELADTFDVM -1.6 A0A0H5CIR5_9PSEU/96-154\n",
      "\n",
      "A0A4R4L1K8_9ACTN A0A0H5CIR5_9PSEU\n",
      "\n",
      "31728 --------------------------------------------------\n",
      "x  da  x  d   a  x  da  x \n",
      "VRSIAQVATAV...VAALAGVINTM -8.6 A0A285LQG0_9NOCA/474-526\n",
      "|||| ||||||   |||||||||||\n",
      "VRSISQVATAV...VAALAGVINTM -4.7 A0A1R1S8V7_9ACTN/265-317\n",
      "\n",
      "A0A285LQG0_9NOCA A0A1R1S8V7_9ACTN\n",
      "\n",
      "x  da  x  d   a  x  da  x \n",
      "VRSIAQVATAV...VAALAGTINTM -8.2 D9XA72_STRVT/379-431\n",
      "|||| ||||||   |||||||||||\n",
      "VRSISQVATAV...VAALAGTINTM -4.9 A0A2V4P6M9_9ACTN/385-437\n",
      "\n",
      "D9XA72_STRVT A0A2V4P6M9_9ACTN\n",
      "\n",
      "31910 --------------------------------------------------\n",
      "x  da  x  d   a  x  da  x \n",
      "LTKLTIATNKI...IGQLADSVRNM -1.2 A0A1I5YAJ3_9BACI/182-234\n",
      "|||||||||||   ||||||| |||\n",
      "LTKLTIATNKI...IGQLADSFRNM 3.2 A0A5J6SI04_9BACI/182-234\n",
      "\n",
      "A0A1I5YAJ3_9BACI A0A5J6SI04_9BACI\n",
      "\n",
      "43966 --------------------------------------------------\n",
      "x  da  x  d   a  x  da  x \n",
      "LRRVAATAAEV...VGIVGNTLNRL -7.8 A0A1X1T8X6_9MYCO/201-263\n",
      "||| |||||||   |||||||||||\n",
      "LRRLAATAAEV...VGIVGNTLNRL -4.0 A0A557Y063_9MYCO/199-261\n",
      "\n",
      "A0A1X1T8X6_9MYCO A0A557Y063_9MYCO\n",
      "\n",
      "x  da  x  d   a  x  da  x \n",
      "LRRVAATAAEV...VGIVGHTLNRL -7.3 A0A1X1RPX3_MYCCE/197-259\n",
      "||| |||||||   |||||||||||\n",
      "LRRLAATAAEV...VGIVGHTLNRL -3.6 A0A1X2C3N9_9MYCO/205-267\n",
      "\n",
      "A0A1X1RPX3_MYCCE A0A1X2C3N9_9MYCO\n",
      "\n",
      "x  da  x  d   a  x  da  x \n",
      "LRRVAATAAEV...VGIVGQTLNRL -8.9 A0A0I9UZG7_9MYCO/204-266\n",
      "||| |||||||   |||||||||||\n",
      "LRRLAATAAEV...VGIVGQTLNRL -5.6 A0A498QWQ0_9MYCO/199-261\n",
      "\n",
      "A0A0I9UZG7_9MYCO A0A498QWQ0_9MYCO\n",
      "\n",
      "47874 --------------------------------------------------\n",
      "x  da  x  d   a  x  da  x \n",
      "LNTLKDVMLHV...VGQMASAFNAM -4.8 A0A1I4VFE0_9PSED/160-210\n",
      "||||||| |||   |||||||||||\n",
      "LNTLKDVILHV...VGQMASAFNAM -0.9 L1M7G5_PSEPU/159-209\n",
      "\n",
      "A0A1I4VFE0_9PSED L1M7G5_PSEPU\n",
      "\n"
     ]
    }
   ],
   "source": [
    "TOP = int(len(res_df_main)* 0.02)\n",
    "\n",
    "for g_name, g in res_df_main.sort_values(by='rot_diff', ascending=False).head(TOP).groupby('clust_id'):\n",
    "\n",
    "    print(str(g_name) + \" \" + '-'*50)\n",
    "    \n",
    "    for idx in g.index:\n",
    "        pair = g.loc[idx]\n",
    "        rot_min_row = data_df.loc[pair.row_min_id]\n",
    "        rot_max_row = data_df.loc[pair.row_max_id]\n",
    "        compare_sequences(rot_min_row, rot_max_row, 'main')\n",
    "\n",
    "        rot_min_desc = rot_min_row.desc.split('/')[0]\n",
    "        rot_max_desc = rot_max_row.desc.split('/')[0]  \n",
    "        print()\n",
    "        print(rot_min_desc, rot_max_desc)\n",
    "        print()\n"
   ]
  },
  {
   "cell_type": "code",
   "execution_count": null,
   "id": "e801ea02",
   "metadata": {},
   "outputs": [],
   "source": []
  },
  {
   "cell_type": "code",
   "execution_count": null,
   "id": "df92b0f0",
   "metadata": {},
   "outputs": [],
   "source": []
  },
  {
   "cell_type": "code",
   "execution_count": null,
   "id": "0cc29534",
   "metadata": {},
   "outputs": [],
   "source": []
  },
  {
   "cell_type": "code",
   "execution_count": null,
   "id": "21526e35",
   "metadata": {},
   "outputs": [],
   "source": []
  },
  {
   "cell_type": "markdown",
   "id": "6ffaf913",
   "metadata": {},
   "source": [
    "### Analyse poly-HAMPs"
   ]
  },
  {
   "cell_type": "code",
   "execution_count": 36,
   "id": "c07640c0",
   "metadata": {},
   "outputs": [
    {
     "name": "stdout",
     "output_type": "stream",
     "text": [
      "PYX32209.1\n",
      "PVZ04703.1\n",
      "AHM63257.1\n",
      "KZB82898.1\n",
      "OXM47601.1\n",
      "PZV96211.1\n",
      "PWC94807.1\n",
      "PZN69162.1\n",
      "PJZ31095.1\n",
      "QER85793.1\n",
      "AXA90328.1\n",
      "QDZ28531.1\n",
      "PYS18698.1\n",
      "PJZ57733.1\n",
      "OYV76641.1\n",
      "OLZ46002.1\n",
      "OAV48710.1\n",
      "PNV32409.1\n",
      "AYG80044.1\n",
      "QDE86919.1\n",
      "OKJ08435.1\n",
      "GAX40976.1\n",
      "BAC88576.1\n",
      "PCC69385.1\n",
      "ALU96599.1\n",
      "QHS64032.1\n",
      "OXM43487.1\n",
      "PYJ57525.1\n",
      "AGM04529.1\n",
      "GAP48851.1\n",
      "PYU97090.1\n",
      "QWA24468.1\n",
      "PDT02807.1\n",
      "QLE58993.1\n",
      "EME52012.1\n",
      "QKW09535.1\n",
      "AGY58915.1\n",
      "AZM51025.1\n",
      "OJH41560.1\n",
      "POX52225.1\n",
      "OWU92479.1\n",
      "TXS06642.1\n",
      "AKF79476.1\n",
      "APX88525.1\n",
      "TXJ23595.1\n",
      "TWJ24605.1\n",
      "ADL43896.1\n",
      "PTY01147.1\n",
      "CAC9974298.1\n",
      "AMY12078.1\n",
      "PZR27878.1\n",
      "ADJ23177.1\n",
      "OLZ45288.1\n",
      "ABF86070.1\n",
      "ELS57048.1\n",
      "OCX52005.1\n",
      "PYR68252.1\n",
      "CCD02174.1\n",
      "BCA54573.1\n",
      "OXM63166.1\n",
      "BDA75023.1\n",
      "BBH65628.1\n",
      "AKJ05961.1\n",
      "ALG73158.1\n",
      "ABK32300.1\n",
      "AVH67450.1\n",
      "OKH16128.1\n",
      "AMV20836.1\n",
      "OYD83186.1\n",
      "ANW01392.1\n",
      "AUI57076.1\n",
      "KUN41687.1\n",
      "OXM51161.1\n",
      "PWC40026.1\n",
      "PWC60148.1\n",
      "OJW55147.1\n",
      "OLO30478.1\n",
      "BBO33313.1\n",
      "PWR06051.1\n",
      "PZH15584.1\n",
      "GAQ63868.1\n",
      "AYL40104.1\n",
      "TXE24974.1\n",
      "ODH03206.1\n",
      "OKI54352.1\n",
      "PYS56188.1\n",
      "RDY65438.1\n",
      "AWL85723.1\n",
      "PWC89754.1\n",
      "QKZ21629.1\n",
      "BCJ27670.1\n",
      "QHT70483.1\n",
      "QSW88420.1\n",
      "OSZ81200.1\n",
      "AXE23279.1\n",
      "AZP22533.1\n",
      "PHK22693.1\n",
      "AGK57612.1\n",
      "PGH46364.1\n",
      "QRK04469.1\n",
      "QIO69095.1\n",
      "OXY84829.1\n",
      "OEZ55062.1\n",
      "OJT23200.1\n",
      "ANK77600.1\n",
      "KUN45893.1\n",
      "AZQ37840.1\n",
      "OAA25320.1\n",
      "GEN05851.1\n",
      "AIB15013.1\n",
      "AIG76292.1\n",
      "PSM42708.1\n",
      "QRM30949.1\n",
      "BCJ92249.1\n",
      "OHV23031.1\n",
      "KUN54795.1\n",
      "CDN52346.1\n",
      "RAJ49946.1\n",
      "EJE51105.1\n",
      "PCG84326.1\n",
      "RAK53020.1\n",
      "AYF30385.1\n",
      "PTA48322.1\n",
      "EJL76739.1\n",
      "OWZ88979.1\n",
      "PWU02858.1\n",
      "PZS16648.1\n",
      "QQR45213.1\n",
      "AFY43549.1\n",
      "TWW01926.1\n",
      "QDO97525.1\n",
      "QFZ73895.1\n",
      "PWK41640.1\n",
      "OKH51400.1\n",
      "EFL09696.1\n",
      "OKK00052.1\n",
      "ATY13716.1\n",
      "BAY63283.1\n",
      "BAY36526.1\n",
      "PGH55997.1\n",
      "OLD21479.1\n",
      "EWM66496.1\n",
      "OHB26489.1\n",
      "AYV56802.1\n",
      "PBC99111.1\n",
      "QSB25304.1\n",
      "APU44650.1\n",
      "OKI75879.1\n",
      "EFL37641.1\n",
      "QCO12394.1\n",
      "ALV31867.1\n",
      "ACC81226.1\n",
      "AYC43788.1\n",
      "AVH69038.1\n",
      "KUN75520.1\n",
      "PUU70955.1\n",
      "BAY21915.1\n",
      "GAX50099.1\n",
      "AEI62965.1\n",
      "QND72772.1\n",
      "BAS56942.1\n",
      "EMF30763.1\n",
      "GBF07867.1\n",
      "OKK01898.1\n",
      "PKT70336.1\n",
      "QDI68688.1\n",
      "GDY79169.1\n",
      "CDN58326.1\n",
      "PWF41753.1\n",
      "QDZ29798.1\n",
      "BAT55711.1\n",
      "PYQ33684.1\n",
      "PWC47455.1\n",
      "AWO01122.1\n",
      "PDS42288.1\n",
      "EYU65743.1\n",
      "CEJ85411.1\n",
      "AWK90144.1\n",
      "AFZ25912.1\n",
      "PYK02759.1\n",
      "OUM03876.1\n",
      "PLS77041.1\n",
      "OYE03589.1\n",
      "PMB47095.1\n",
      "BAL85401.1\n",
      "OYD92181.1\n",
      "OYD93881.1\n",
      "EIG58124.1\n",
      "CBN54296.1\n",
      "QNE74601.1\n",
      "PSB40801.1\n",
      "PBQ34911.1\n",
      "QGN45893.1\n",
      "ORT48654.1\n",
      "PRY29329.1\n",
      "PZS37825.1\n",
      "RAK56389.1\n",
      "RAO03736.1\n",
      "QGZ93559.1\n",
      "BAY31698.1\n",
      "AWL40930.1\n",
      "ACK72149.1\n",
      "EPX59531.1\n",
      "WP\n",
      "CDZ43530.1\n",
      "EEF60017.1\n",
      "OQP47887.1\n",
      "ADN14966.1\n",
      "EXG80149.1\n",
      "EJZ43468.1\n",
      "KXK62864.1\n",
      "PYQ04529.1\n",
      "QYN25773.1\n",
      "QFU16063.1\n",
      "OWY65808.1\n",
      "PSF36018.1\n",
      "EWS94960.1\n",
      "PZN79932.1\n",
      "ALC27162.1\n",
      "CUR34408.1\n",
      "BAZ17484.1\n",
      "OWA25477.1\n",
      "PYV83688.1\n",
      "PWU49089.1\n",
      "CAD0000429.1\n",
      "OKJ38228.1\n",
      "QLG31614.1\n",
      "POG44628.1\n",
      "ACJ66703.1\n",
      "AOU76228.1\n",
      "PLZ74680.1\n",
      "OMP79585.1\n",
      "PWT76809.1\n",
      "GBE91736.1\n",
      "EGK86443.1\n",
      "ACU69099.1\n",
      "OQW52892.1\n",
      "CBG73171.1\n",
      "EIV95483.1\n",
      "OUL18160.1\n",
      "RED22663.1\n",
      "ALA59114.1\n",
      "QKJ32612.1\n",
      "OHV43088.1\n",
      "ANN19688.1\n",
      "ASS58467.1\n",
      "EUB98600.1\n",
      "QIY73872.1\n",
      "QEL16236.1\n",
      "QIF06118.1\n",
      "APT34554.1\n",
      "CDZ26638.1\n",
      "PSC03050.1\n",
      "OSC71026.1\n",
      "QYN31922.1\n",
      "BCJ65235.1\n",
      "BAU08577.1\n",
      "PSB00964.1\n",
      "QER88058.1\n",
      "OKH39791.1\n",
      "QYA97231.1\n",
      "EST30417.1\n",
      "RCV51622.1\n",
      "PTL80703.1\n",
      "QEC80233.1\n",
      "PYX44998.1\n",
      "EFC83982.1\n",
      "OKJ72380.1\n",
      "ABQ36363.1\n",
      "QGZ38482.1\n",
      "AEV81295.1\n",
      "PKA15058.1\n",
      "AQT76821.1\n",
      "EHC08365.1\n",
      "AUC99812.1\n",
      "PYR95575.1\n",
      "ANY80177.1\n",
      "PAY06726.1\n",
      "AGZ38548.1\n",
      "BCB86295.1\n",
      "GAU86683.1\n",
      "PWU48419.1\n",
      "PLZ34423.1\n",
      "GAL83063.1\n",
      "QUW82069.1\n",
      "PWK75257.1\n",
      "CCH15383.1\n",
      "PJZ69491.1\n",
      "PDT11325.1\n",
      "PWT91833.1\n",
      "PXA84217.1\n",
      "AGM06937.1\n",
      "AVT31138.1\n",
      "OLP15536.1\n",
      "PSL22437.1\n",
      "OQQ14265.1\n",
      "PSK65972.1\n",
      "OON32880.1\n",
      "BCL36583.1\n",
      "OWV12985.1\n",
      "QHY98547.1\n",
      "PMR58061.1\n",
      "RAY16698.1\n",
      "KZC00475.1\n",
      "EGL19310.1\n",
      "QOZ21820.1\n",
      "AFZ15373.1\n",
      "QFS43795.1\n",
      "OWK37633.1\n",
      "ALV54602.1\n",
      "AWJ82591.1\n",
      "BAV10030.1\n",
      "QRV30550.1\n",
      "PYJ08595.1\n",
      "OMQ13695.1\n",
      "PYX34881.1\n",
      "AEB42298.1\n",
      "GAO41584.1\n",
      "RED95648.1\n",
      "QBQ35729.1\n",
      "OUL31523.1\n",
      "ARM92373.1\n",
      "OZM76122.1\n",
      "OOC01369.1\n",
      "QYX82553.1\n",
      "EFL38759.1\n",
      "OLE31860.1\n",
      "PLZ67664.1\n",
      "EMF56068.1\n",
      "PYX60852.1\n",
      "KUM76980.1\n",
      "GED89202.1\n",
      "OCC12100.1\n",
      "ONF49001.1\n",
      "RAK61834.1\n",
      "ATB41937.1\n",
      "OKI93475.1\n",
      "QCG90349.1\n",
      "CCE03479.1\n",
      "EFE78039.1\n",
      "OAA23173.1\n",
      "OCK55245.1\n",
      "ELP69677.1\n",
      "GAQ71395.1\n",
      "EGE41379.1\n",
      "ATO17919.1\n",
      "QSQ11298.1\n",
      "QYX77166.1\n",
      "OLD68974.1\n",
      "OUL26126.1\n",
      "AWB09298.1\n",
      "OKJ52766.1\n",
      "RAS08360.1\n",
      "CAX23941.1\n",
      "PZG23224.1\n",
      "QUQ62892.1\n",
      "PJM99605.1\n",
      "KWW99735.1\n",
      "KZA99466.1\n",
      "QDF02288.1\n",
      "OKI73916.1\n",
      "ONI48602.1\n",
      "ARF75659.1\n",
      "PJZ79134.1\n",
      "KYC38390.1\n",
      "CBG75647.1\n",
      "QDE72270.1\n",
      "ADJ48511.1\n",
      "KUN09000.1\n",
      "OPC83172.1\n",
      "POX44679.1\n",
      "PJZ72006.1\n",
      "EPG76170.1\n",
      "QPF88163.1\n",
      "ADI06478.1\n",
      "AGL13814.1\n",
      "KUO03189.1\n",
      "EFL36462.1\n",
      "OXL31185.1\n",
      "OJF15286.1\n",
      "OQW37342.1\n",
      "RAO43421.1\n",
      "OKJ14115.1\n",
      "AMN45326.1\n",
      "ACE94536.1\n",
      "BAY10757.1\n",
      "GCD90955.1\n",
      "GEL40228.1\n",
      "PJZ49277.1\n",
      "QMS87193.1\n",
      "OBY03017.1\n",
      "PXA95970.1\n",
      "EKX64714.1\n",
      "QQZ56834.1\n",
      "PYL97748.1\n",
      "BAZ19723.1\n",
      "QBE65604.1\n",
      "OKJ03623.1\n",
      "REF95819.1\n",
      "BAI75440.1\n",
      "EIM28108.1\n",
      "PJI37395.1\n",
      "RAV98760.1\n",
      "GEC52402.1\n",
      "OSJ10175.1\n",
      "PRX12998.1\n",
      "EHR01727.1\n",
      "OKJ00995.1\n",
      "PYS29555.1\n",
      "OLD70996.1\n",
      "ASG24871.1\n",
      "ACB74424.1\n",
      "PJZ26416.1\n",
      "QIG99106.1\n",
      "BAY14811.1\n",
      "QKW04043.1\n",
      "KUM84581.1\n",
      "QOC94166.1\n",
      "OEV21852.1\n",
      "AXK73318.1\n",
      "PWC41744.1\n",
      "QBI01022.1\n",
      "REG91648.1\n",
      "ACB25190.1\n",
      "KYK48640.1\n",
      "BAJ31118.1\n",
      "ARO33988.1\n",
      "PWB24158.1\n",
      "PYU21146.1\n",
      "QEU68475.1\n",
      "BAZ28066.1\n",
      "KRR26631.1\n",
      "OQP49673.1\n",
      "AJE81913.1\n",
      "PZM80779.1\n",
      "AWS48816.1\n",
      "TWJ00672.1\n",
      "AUI58527.1\n",
      "KTS09099.1\n",
      "AWV14235.1\n",
      "PYO93590.1\n",
      "QQO13322.1\n",
      "PJN25851.1\n",
      "QKQ75952.1\n",
      "PSB41342.1\n",
      "PUZ26454.1\n",
      "ACL61140.1\n",
      "PHJ56927.1\n",
      "OXE43116.1\n",
      "AXI85119.1\n",
      "RCJ38969.1\n",
      "PKA19020.1\n",
      "TWO70330.1\n",
      "CUS39139.1\n",
      "BCJ43812.1\n",
      "AFY46865.1\n",
      "BBD68902.1\n",
      "ONH58066.1\n",
      "PYK89306.1\n",
      "QES56987.1\n",
      "RDS61534.1\n",
      "QTA35181.1\n",
      "ATC63837.1\n",
      "KUN29725.1\n",
      "PZF85389.1\n",
      "APR78272.1\n",
      "QJW95097.1\n",
      "PYL30508.1\n",
      "AKQ69378.1\n",
      "CDZ34640.1\n",
      "QIJ73348.1\n",
      "QFI72124.1\n",
      "BCJ38228.1\n",
      "ACU57824.1\n",
      "KUN60346.1\n",
      "CAL77703.1\n",
      "ACS59322.1\n",
      "KYC42567.1\n",
      "OWW19165.1\n",
      "BCB80970.1\n",
      "RDL08170.1\n",
      "AFZ09704.1\n",
      "QSJ15156.1\n",
      "CAA9213457.1\n",
      "QSS93498.1\n",
      "PDT10061.1\n",
      "ACI58573.1\n",
      "AZO82210.1\n",
      "EQA52738.1\n",
      "QEH34531.1\n",
      "PNV36023.1\n",
      "AXA42711.1\n",
      "CUT11062.1\n",
      "OFA01689.1\n",
      "OAP92402.1\n",
      "CAN95270.1\n",
      "PYX20742.1\n",
      "ACN58987.1\n",
      "AFY30750.1\n",
      "QEC43053.1\n",
      "OLT00382.1\n",
      "BBD61214.1\n",
      "BCJ74350.1\n",
      "ANL31491.1\n",
      "EKS41496.1\n",
      "KUJ49440.1\n",
      "APS18806.1\n",
      "QKT03685.1\n",
      "PWC44733.1\n",
      "PYR20560.1\n",
      "KUL39000.1\n",
      "PYV91127.1\n",
      "EMF57685.1\n",
      "ALF53700.1\n",
      "ONF67413.1\n",
      "BAZ66646.1\n",
      "AXY72685.1\n",
      "ALV35751.1\n",
      "ANE53669.1\n",
      "PQM21970.1\n",
      "ABA24293.1\n",
      "AFY90302.1\n",
      "EMF27381.1\n",
      "QDE88069.1\n",
      "PMB48518.1\n",
      "QDP24617.1\n",
      "BAC73276.1\n",
      "EKX62156.1\n",
      "QLE40094.1\n",
      "BBJ48719.1\n",
      "OPY98619.1\n",
      "ADO75330.1\n",
      "PYY11755.1\n",
      "RAK63048.1\n",
      "CDZ40119.1\n",
      "TXL85201.1\n",
      "QIR38101.1\n",
      "EMR00736.1\n",
      "QXV58950.1\n",
      "PWI18024.1\n",
      "GCD96348.1\n",
      "PSM47630.1\n",
      "QOZ11312.1\n",
      "AEG92321.1\n",
      "CBS90017.1\n",
      "ACG78490.1\n",
      "RCJ23018.1\n",
      "ADP78609.1\n",
      "PYQ53014.1\n",
      "CAD0007437.1\n",
      "PJM92907.1\n",
      "TWJ31786.1\n",
      "OSI62606.1\n",
      "OXA75941.1\n",
      "QXQ99825.1\n",
      "PWC79795.1\n",
      "AIQ88053.1\n",
      "AKH85182.1\n",
      "QDL11507.1\n",
      "KUM69169.1\n",
      "QJY48777.1\n",
      "QRV43964.1\n",
      "PWJ04505.1\n",
      "AGC42043.1\n",
      "AEW00247.1\n",
      "BAG18602.1\n",
      "OIJ66512.1\n",
      "CCD88232.1\n",
      "RDI62539.1\n",
      "QCO18675.1\n",
      "QEC54736.1\n",
      "BAZ49292.1\n",
      "POX43666.1\n",
      "EMD26116.1\n",
      "OXB04452.1\n",
      "QLQ38840.1\n",
      "QKV81219.1\n",
      "PBC77526.1\n",
      "OKK22848.1\n",
      "AGK80551.1\n",
      "AWJ94299.1\n",
      "AWE50199.1\n",
      "PWS48298.1\n",
      "PLZ92450.1\n",
      "PRY00565.1\n",
      "APX87689.1\n",
      "QDO04304.1\n",
      "EJL61647.1\n",
      "EDY20755.1\n",
      "PPK98041.1\n",
      "ANP89509.1\n",
      "KUN62877.1\n",
      "AXO32646.1\n",
      "KUO12571.1\n",
      "QCO05954.1\n",
      "PDS78498.1\n",
      "AGP32639.1\n",
      "QTI48284.1\n",
      "BAJ26544.1\n",
      "OKJ25280.1\n",
      "BAY80186.1\n",
      "KRV51492.1\n",
      "OKO78942.1\n",
      "PXY34171.1\n",
      "QHG18685.1\n",
      "OKI42659.1\n",
      "OSI20587.1\n",
      "QKK32871.1\n",
      "ACK82838.1\n",
      "QSQ20606.1\n",
      "ALV48675.1\n",
      "QFQ94996.1\n",
      "EFE71228.1\n",
      "QWQ40767.1\n",
      "KTS45543.1\n",
      "PYL93482.1\n",
      "ANL44218.1\n",
      "QOZ67214.1\n",
      "BCL32877.1\n",
      "OLZ50213.1\n",
      "ATB45145.1\n",
      "QUC59559.1\n",
      "TWI67641.1\n",
      "AOP33260.1\n",
      "QEU71897.1\n",
      "AUS99509.1\n",
      "EMK01776.1\n",
      "AWM86842.1\n",
      "KUJ35554.1\n",
      "ARE74208.1\n",
      "ALJ38733.1\n",
      "AUW46439.1\n",
      "PWV54301.1\n",
      "PJN21571.1\n",
      "CDZ46194.1\n",
      "AFZ16358.1\n",
      "OHV32619.1\n",
      "QAU41097.1\n",
      "PZS12153.1\n",
      "KUL42937.1\n",
      "AVZ77412.1\n",
      "OKH57951.1\n",
      "CCE08705.1\n",
      "AUH40155.1\n",
      "QNG51281.1\n",
      "GEP45093.1\n",
      "RAN97713.1\n",
      "QDT55822.1\n",
      "AWU96496.1\n",
      "PKV99607.1\n",
      "AYB33435.1\n",
      "OXM68963.1\n",
      "ANM07978.1\n",
      "QCN98876.1\n",
      "PWC89271.1\n",
      "QKW16961.1\n",
      "ACS39475.1\n",
      "BCY05091.1\n",
      "EGY02571.1\n",
      "AWZ16553.1\n",
      "RBP40588.1\n",
      "RCJ29457.1\n",
      "PWC57798.1\n",
      "PYR53226.1\n",
      "AWB25887.1\n",
      "AUX34481.1\n",
      "QXV56695.1\n",
      "ANN18102.1\n",
      "AUB40753.1\n",
      "OQP52748.1\n",
      "QFR00696.1\n",
      "OLY94666.1\n",
      "QIY76935.1\n",
      "GAQ60622.1\n",
      "ARV61896.1\n",
      "AIG78795.1\n",
      "AXE89066.1\n",
      "PLZ23767.1\n",
      "ARO55475.1\n",
      "ERF79841.1\n",
      "PZN55345.1\n",
      "PSO32492.1\n",
      "KRQ96273.1\n",
      "PWR16932.1\n",
      "QDI67566.1\n",
      "GAQ00140.1\n",
      "PPQ60096.1\n",
      "EJT02234.1\n",
      "CDZ64116.1\n",
      "EKF00301.1\n",
      "RAJ35918.1\n",
      "ADU05856.1\n",
      "CAA2141077.1\n",
      "OYD82934.1\n",
      "QLE51440.1\n",
      "KWT92005.1\n",
      "OLZ46668.1\n",
      "PZF87190.1\n",
      "CAG1019061.1\n",
      "QOG00663.1\n",
      "ONF73841.1\n",
      "PLZ11455.1\n",
      "EEP72800.1\n",
      "QDY06001.1\n",
      "AXH90152.1\n",
      "QRO00305.1\n",
      "PLZ86398.1\n",
      "QIZ70605.1\n",
      "BAM89963.1\n",
      "EMF53152.1\n",
      "AUX26465.1\n",
      "PWJ08315.1\n",
      "ABS24754.1\n",
      "PYV90422.1\n",
      "OYU62076.1\n",
      "OQP61895.1\n",
      "QIZ01618.1\n",
      "EJC63771.1\n",
      "PYS29550.1\n",
      "QEC68888.1\n",
      "QCF26971.1\n",
      "OWW22368.1\n",
      "AWZ10738.1\n"
     ]
    }
   ],
   "source": [
    "ids = [ seq.id.split('_')[1] for seq in SeqIO.parse('/home/nfs/morlowska/HAMP/plecha_nr/HAMP/first_HAMP_ready_num_renamed.fst', 'fasta') ]\n",
    "\n",
    "for i in set(ids):\n",
    "    if i.find('|')>-1: continue\n",
    "    print(i)\n",
    "\n",
    "# map with UniProt to UniProt IDs"
   ]
  },
  {
   "cell_type": "code",
   "execution_count": 37,
   "id": "629640fe",
   "metadata": {},
   "outputs": [],
   "source": [
    "# read mappings\n",
    "poly_idmap = pd.read_csv('./data/uniprot-download_true_fields_accession_2Cid_format_tsv-2023.03.21-09.41.00.25.tsv',\n",
    "                        sep='\\t')\n",
    "\n",
    "poly_idmap.set_index('Entry Name', inplace=True)"
   ]
  },
  {
   "cell_type": "code",
   "execution_count": 48,
   "id": "6aa6d5a6",
   "metadata": {},
   "outputs": [
    {
     "ename": "KeyError",
     "evalue": "'A0A563EXG1_9PSEU'",
     "output_type": "error",
     "traceback": [
      "\u001b[0;31m---------------------------------------------------------------------------\u001b[0m",
      "\u001b[0;31mKeyError\u001b[0m                                  Traceback (most recent call last)",
      "File \u001b[0;32m~/miniconda3/envs/hamppred/lib/python3.10/site-packages/pandas/core/indexes/base.py:3803\u001b[0m, in \u001b[0;36mIndex.get_loc\u001b[0;34m(self, key, method, tolerance)\u001b[0m\n\u001b[1;32m   3802\u001b[0m \u001b[38;5;28;01mtry\u001b[39;00m:\n\u001b[0;32m-> 3803\u001b[0m     \u001b[38;5;28;01mreturn\u001b[39;00m \u001b[38;5;28;43mself\u001b[39;49m\u001b[38;5;241;43m.\u001b[39;49m\u001b[43m_engine\u001b[49m\u001b[38;5;241;43m.\u001b[39;49m\u001b[43mget_loc\u001b[49m\u001b[43m(\u001b[49m\u001b[43mcasted_key\u001b[49m\u001b[43m)\u001b[49m\n\u001b[1;32m   3804\u001b[0m \u001b[38;5;28;01mexcept\u001b[39;00m \u001b[38;5;167;01mKeyError\u001b[39;00m \u001b[38;5;28;01mas\u001b[39;00m err:\n",
      "File \u001b[0;32m~/miniconda3/envs/hamppred/lib/python3.10/site-packages/pandas/_libs/index.pyx:138\u001b[0m, in \u001b[0;36mpandas._libs.index.IndexEngine.get_loc\u001b[0;34m()\u001b[0m\n",
      "File \u001b[0;32m~/miniconda3/envs/hamppred/lib/python3.10/site-packages/pandas/_libs/index.pyx:165\u001b[0m, in \u001b[0;36mpandas._libs.index.IndexEngine.get_loc\u001b[0;34m()\u001b[0m\n",
      "File \u001b[0;32mpandas/_libs/hashtable_class_helper.pxi:5745\u001b[0m, in \u001b[0;36mpandas._libs.hashtable.PyObjectHashTable.get_item\u001b[0;34m()\u001b[0m\n",
      "File \u001b[0;32mpandas/_libs/hashtable_class_helper.pxi:5753\u001b[0m, in \u001b[0;36mpandas._libs.hashtable.PyObjectHashTable.get_item\u001b[0;34m()\u001b[0m\n",
      "\u001b[0;31mKeyError\u001b[0m: 'A0A563EXG1_9PSEU'",
      "\nThe above exception was the direct cause of the following exception:\n",
      "\u001b[0;31mKeyError\u001b[0m                                  Traceback (most recent call last)",
      "Cell \u001b[0;32mIn[48], line 1\u001b[0m\n\u001b[0;32m----> 1\u001b[0m \u001b[43mpoly_idmap\u001b[49m\u001b[38;5;241;43m.\u001b[39;49m\u001b[43mloc\u001b[49m\u001b[43m[\u001b[49m\u001b[38;5;124;43m'\u001b[39;49m\u001b[38;5;124;43mA0A563EXG1_9PSEU\u001b[39;49m\u001b[38;5;124;43m'\u001b[39;49m\u001b[43m]\u001b[49m\n",
      "File \u001b[0;32m~/miniconda3/envs/hamppred/lib/python3.10/site-packages/pandas/core/indexing.py:1073\u001b[0m, in \u001b[0;36m_LocationIndexer.__getitem__\u001b[0;34m(self, key)\u001b[0m\n\u001b[1;32m   1070\u001b[0m axis \u001b[38;5;241m=\u001b[39m \u001b[38;5;28mself\u001b[39m\u001b[38;5;241m.\u001b[39maxis \u001b[38;5;129;01mor\u001b[39;00m \u001b[38;5;241m0\u001b[39m\n\u001b[1;32m   1072\u001b[0m maybe_callable \u001b[38;5;241m=\u001b[39m com\u001b[38;5;241m.\u001b[39mapply_if_callable(key, \u001b[38;5;28mself\u001b[39m\u001b[38;5;241m.\u001b[39mobj)\n\u001b[0;32m-> 1073\u001b[0m \u001b[38;5;28;01mreturn\u001b[39;00m \u001b[38;5;28;43mself\u001b[39;49m\u001b[38;5;241;43m.\u001b[39;49m\u001b[43m_getitem_axis\u001b[49m\u001b[43m(\u001b[49m\u001b[43mmaybe_callable\u001b[49m\u001b[43m,\u001b[49m\u001b[43m \u001b[49m\u001b[43maxis\u001b[49m\u001b[38;5;241;43m=\u001b[39;49m\u001b[43maxis\u001b[49m\u001b[43m)\u001b[49m\n",
      "File \u001b[0;32m~/miniconda3/envs/hamppred/lib/python3.10/site-packages/pandas/core/indexing.py:1312\u001b[0m, in \u001b[0;36m_LocIndexer._getitem_axis\u001b[0;34m(self, key, axis)\u001b[0m\n\u001b[1;32m   1310\u001b[0m \u001b[38;5;66;03m# fall thru to straight lookup\u001b[39;00m\n\u001b[1;32m   1311\u001b[0m \u001b[38;5;28mself\u001b[39m\u001b[38;5;241m.\u001b[39m_validate_key(key, axis)\n\u001b[0;32m-> 1312\u001b[0m \u001b[38;5;28;01mreturn\u001b[39;00m \u001b[38;5;28;43mself\u001b[39;49m\u001b[38;5;241;43m.\u001b[39;49m\u001b[43m_get_label\u001b[49m\u001b[43m(\u001b[49m\u001b[43mkey\u001b[49m\u001b[43m,\u001b[49m\u001b[43m \u001b[49m\u001b[43maxis\u001b[49m\u001b[38;5;241;43m=\u001b[39;49m\u001b[43maxis\u001b[49m\u001b[43m)\u001b[49m\n",
      "File \u001b[0;32m~/miniconda3/envs/hamppred/lib/python3.10/site-packages/pandas/core/indexing.py:1260\u001b[0m, in \u001b[0;36m_LocIndexer._get_label\u001b[0;34m(self, label, axis)\u001b[0m\n\u001b[1;32m   1258\u001b[0m \u001b[38;5;28;01mdef\u001b[39;00m \u001b[38;5;21m_get_label\u001b[39m(\u001b[38;5;28mself\u001b[39m, label, axis: \u001b[38;5;28mint\u001b[39m):\n\u001b[1;32m   1259\u001b[0m     \u001b[38;5;66;03m# GH#5567 this will fail if the label is not present in the axis.\u001b[39;00m\n\u001b[0;32m-> 1260\u001b[0m     \u001b[38;5;28;01mreturn\u001b[39;00m \u001b[38;5;28;43mself\u001b[39;49m\u001b[38;5;241;43m.\u001b[39;49m\u001b[43mobj\u001b[49m\u001b[38;5;241;43m.\u001b[39;49m\u001b[43mxs\u001b[49m\u001b[43m(\u001b[49m\u001b[43mlabel\u001b[49m\u001b[43m,\u001b[49m\u001b[43m \u001b[49m\u001b[43maxis\u001b[49m\u001b[38;5;241;43m=\u001b[39;49m\u001b[43maxis\u001b[49m\u001b[43m)\u001b[49m\n",
      "File \u001b[0;32m~/miniconda3/envs/hamppred/lib/python3.10/site-packages/pandas/core/generic.py:4056\u001b[0m, in \u001b[0;36mNDFrame.xs\u001b[0;34m(self, key, axis, level, drop_level)\u001b[0m\n\u001b[1;32m   4054\u001b[0m             new_index \u001b[38;5;241m=\u001b[39m index[loc]\n\u001b[1;32m   4055\u001b[0m \u001b[38;5;28;01melse\u001b[39;00m:\n\u001b[0;32m-> 4056\u001b[0m     loc \u001b[38;5;241m=\u001b[39m \u001b[43mindex\u001b[49m\u001b[38;5;241;43m.\u001b[39;49m\u001b[43mget_loc\u001b[49m\u001b[43m(\u001b[49m\u001b[43mkey\u001b[49m\u001b[43m)\u001b[49m\n\u001b[1;32m   4058\u001b[0m     \u001b[38;5;28;01mif\u001b[39;00m \u001b[38;5;28misinstance\u001b[39m(loc, np\u001b[38;5;241m.\u001b[39mndarray):\n\u001b[1;32m   4059\u001b[0m         \u001b[38;5;28;01mif\u001b[39;00m loc\u001b[38;5;241m.\u001b[39mdtype \u001b[38;5;241m==\u001b[39m np\u001b[38;5;241m.\u001b[39mbool_:\n",
      "File \u001b[0;32m~/miniconda3/envs/hamppred/lib/python3.10/site-packages/pandas/core/indexes/base.py:3805\u001b[0m, in \u001b[0;36mIndex.get_loc\u001b[0;34m(self, key, method, tolerance)\u001b[0m\n\u001b[1;32m   3803\u001b[0m     \u001b[38;5;28;01mreturn\u001b[39;00m \u001b[38;5;28mself\u001b[39m\u001b[38;5;241m.\u001b[39m_engine\u001b[38;5;241m.\u001b[39mget_loc(casted_key)\n\u001b[1;32m   3804\u001b[0m \u001b[38;5;28;01mexcept\u001b[39;00m \u001b[38;5;167;01mKeyError\u001b[39;00m \u001b[38;5;28;01mas\u001b[39;00m err:\n\u001b[0;32m-> 3805\u001b[0m     \u001b[38;5;28;01mraise\u001b[39;00m \u001b[38;5;167;01mKeyError\u001b[39;00m(key) \u001b[38;5;28;01mfrom\u001b[39;00m \u001b[38;5;21;01merr\u001b[39;00m\n\u001b[1;32m   3806\u001b[0m \u001b[38;5;28;01mexcept\u001b[39;00m \u001b[38;5;167;01mTypeError\u001b[39;00m:\n\u001b[1;32m   3807\u001b[0m     \u001b[38;5;66;03m# If we have a listlike key, _check_indexing_error will raise\u001b[39;00m\n\u001b[1;32m   3808\u001b[0m     \u001b[38;5;66;03m#  InvalidIndexError. Otherwise we fall through and re-raise\u001b[39;00m\n\u001b[1;32m   3809\u001b[0m     \u001b[38;5;66;03m#  the TypeError.\u001b[39;00m\n\u001b[1;32m   3810\u001b[0m     \u001b[38;5;28mself\u001b[39m\u001b[38;5;241m.\u001b[39m_check_indexing_error(key)\n",
      "\u001b[0;31mKeyError\u001b[0m: 'A0A563EXG1_9PSEU'"
     ]
    }
   ],
   "source": [
    "poly_idmap.loc['A0A563EXG1_9PSEU']"
   ]
  },
  {
   "cell_type": "code",
   "execution_count": 223,
   "id": "d5609fbc",
   "metadata": {},
   "outputs": [],
   "source": [
    "# res_df_aux[\n",
    "#     (res_df_aux.row_min_desc.isin(poly_idmap.index)) & (res_df_aux.row_max_desc.isin(poly_idmap.index))\n",
    "# ].sort_values(by='rot_diff', ascending=False)"
   ]
  },
  {
   "cell_type": "code",
   "execution_count": 224,
   "id": "e09235e7",
   "metadata": {},
   "outputs": [],
   "source": [
    "#compare_sequences(data_df.loc[51172], data_df.loc[148], 'main')"
   ]
  },
  {
   "cell_type": "code",
   "execution_count": 225,
   "id": "57eba763",
   "metadata": {},
   "outputs": [],
   "source": [
    "# analyse poly-hamps (main method)\n",
    "#res_df_main[res_df_main.color == 'red'].sort_values(by='rot_diff', ascending=False)"
   ]
  },
  {
   "cell_type": "code",
   "execution_count": 229,
   "id": "382cda8f",
   "metadata": {},
   "outputs": [],
   "source": [
    "# analyse poly-hamps (aux method)\n",
    "#res_df_aux[res_df_aux.color == 'red'].sort_values(by='rot_diff', ascending=False)"
   ]
  },
  {
   "cell_type": "code",
   "execution_count": null,
   "id": "f09aae1e",
   "metadata": {},
   "outputs": [],
   "source": []
  },
  {
   "cell_type": "code",
   "execution_count": null,
   "id": "7f943482",
   "metadata": {},
   "outputs": [],
   "source": []
  },
  {
   "cell_type": "code",
   "execution_count": null,
   "id": "46927bab",
   "metadata": {},
   "outputs": [],
   "source": []
  },
  {
   "cell_type": "code",
   "execution_count": 40,
   "id": "f7a1e971",
   "metadata": {},
   "outputs": [
    {
     "data": {
      "text/html": [
       "<div>\n",
       "<style scoped>\n",
       "    .dataframe tbody tr th:only-of-type {\n",
       "        vertical-align: middle;\n",
       "    }\n",
       "\n",
       "    .dataframe tbody tr th {\n",
       "        vertical-align: top;\n",
       "    }\n",
       "\n",
       "    .dataframe thead th {\n",
       "        text-align: right;\n",
       "    }\n",
       "</style>\n",
       "<table border=\"1\" class=\"dataframe\">\n",
       "  <thead>\n",
       "    <tr style=\"text-align: right;\">\n",
       "      <th></th>\n",
       "      <th>clust_id</th>\n",
       "      <th>seq_diff</th>\n",
       "      <th>rot_diff</th>\n",
       "      <th>rot_min</th>\n",
       "      <th>rot_max</th>\n",
       "      <th>row_min_id</th>\n",
       "      <th>row_max_id</th>\n",
       "    </tr>\n",
       "  </thead>\n",
       "  <tbody>\n",
       "    <tr>\n",
       "      <th>1437</th>\n",
       "      <td>69577</td>\n",
       "      <td>95.454545</td>\n",
       "      <td>4.28534</td>\n",
       "      <td>1.25122</td>\n",
       "      <td>5.53656</td>\n",
       "      <td>52401</td>\n",
       "      <td>10577</td>\n",
       "    </tr>\n",
       "  </tbody>\n",
       "</table>\n",
       "</div>"
      ],
      "text/plain": [
       "      clust_id   seq_diff  rot_diff  rot_min  rot_max  row_min_id  row_max_id\n",
       "1437     69577  95.454545   4.28534  1.25122  5.53656       52401       10577"
      ]
     },
     "execution_count": 40,
     "metadata": {},
     "output_type": "execute_result"
    }
   ],
   "source": [
    "g"
   ]
  },
  {
   "cell_type": "code",
   "execution_count": null,
   "id": "66a3be69",
   "metadata": {},
   "outputs": [],
   "source": []
  },
  {
   "cell_type": "code",
   "execution_count": 28,
   "id": "a80bd253",
   "metadata": {},
   "outputs": [
    {
     "data": {
      "text/html": [
       "<div>\n",
       "<style scoped>\n",
       "    .dataframe tbody tr th:only-of-type {\n",
       "        vertical-align: middle;\n",
       "    }\n",
       "\n",
       "    .dataframe tbody tr th {\n",
       "        vertical-align: top;\n",
       "    }\n",
       "\n",
       "    .dataframe thead th {\n",
       "        text-align: right;\n",
       "    }\n",
       "</style>\n",
       "<table border=\"1\" class=\"dataframe\">\n",
       "  <thead>\n",
       "    <tr style=\"text-align: right;\">\n",
       "      <th></th>\n",
       "      <th>clust_id</th>\n",
       "      <th>seq_diff</th>\n",
       "      <th>rot_diff</th>\n",
       "      <th>rot_min</th>\n",
       "      <th>rot_max</th>\n",
       "      <th>row_min_id</th>\n",
       "      <th>row_max_id</th>\n",
       "    </tr>\n",
       "  </thead>\n",
       "  <tbody>\n",
       "    <tr>\n",
       "      <th>232</th>\n",
       "      <td>552</td>\n",
       "      <td>95.454545</td>\n",
       "      <td>10.538080</td>\n",
       "      <td>-11.086540</td>\n",
       "      <td>-0.548460</td>\n",
       "      <td>32230</td>\n",
       "      <td>8148</td>\n",
       "    </tr>\n",
       "    <tr>\n",
       "      <th>137</th>\n",
       "      <td>552</td>\n",
       "      <td>95.454545</td>\n",
       "      <td>13.897576</td>\n",
       "      <td>-14.242147</td>\n",
       "      <td>-0.344571</td>\n",
       "      <td>14112</td>\n",
       "      <td>7025</td>\n",
       "    </tr>\n",
       "    <tr>\n",
       "      <th>207</th>\n",
       "      <td>552</td>\n",
       "      <td>95.454545</td>\n",
       "      <td>10.040075</td>\n",
       "      <td>-0.181607</td>\n",
       "      <td>-10.221682</td>\n",
       "      <td>1993</td>\n",
       "      <td>25792</td>\n",
       "    </tr>\n",
       "    <tr>\n",
       "      <th>208</th>\n",
       "      <td>552</td>\n",
       "      <td>95.454545</td>\n",
       "      <td>15.230750</td>\n",
       "      <td>-0.181607</td>\n",
       "      <td>-15.412357</td>\n",
       "      <td>11040</td>\n",
       "      <td>25792</td>\n",
       "    </tr>\n",
       "    <tr>\n",
       "      <th>94</th>\n",
       "      <td>552</td>\n",
       "      <td>95.454545</td>\n",
       "      <td>9.667584</td>\n",
       "      <td>-0.344571</td>\n",
       "      <td>-10.012154</td>\n",
       "      <td>148</td>\n",
       "      <td>7025</td>\n",
       "    </tr>\n",
       "  </tbody>\n",
       "</table>\n",
       "</div>"
      ],
      "text/plain": [
       "     clust_id   seq_diff   rot_diff    rot_min    rot_max  row_min_id  \\\n",
       "232       552  95.454545  10.538080 -11.086540  -0.548460       32230   \n",
       "137       552  95.454545  13.897576 -14.242147  -0.344571       14112   \n",
       "207       552  95.454545  10.040075  -0.181607 -10.221682        1993   \n",
       "208       552  95.454545  15.230750  -0.181607 -15.412357       11040   \n",
       "94        552  95.454545   9.667584  -0.344571 -10.012154         148   \n",
       "\n",
       "     row_max_id  \n",
       "232        8148  \n",
       "137        7025  \n",
       "207       25792  \n",
       "208       25792  \n",
       "94         7025  "
      ]
     },
     "execution_count": 28,
     "metadata": {},
     "output_type": "execute_result"
    }
   ],
   "source": [
    "res_df_aux.loc[common]"
   ]
  },
  {
   "cell_type": "code",
   "execution_count": null,
   "id": "fe126fd4",
   "metadata": {},
   "outputs": [],
   "source": []
  },
  {
   "cell_type": "code",
   "execution_count": null,
   "id": "33846036",
   "metadata": {},
   "outputs": [],
   "source": []
  },
  {
   "cell_type": "code",
   "execution_count": null,
   "id": "4badc207",
   "metadata": {},
   "outputs": [],
   "source": []
  },
  {
   "cell_type": "code",
   "execution_count": null,
   "id": "d3cf5273",
   "metadata": {},
   "outputs": [],
   "source": []
  },
  {
   "cell_type": "code",
   "execution_count": null,
   "id": "87b4a7eb",
   "metadata": {},
   "outputs": [],
   "source": []
  },
  {
   "cell_type": "code",
   "execution_count": 35,
   "id": "4ee50257",
   "metadata": {},
   "outputs": [
    {
     "data": {
      "text/plain": [
       "189.9"
      ]
     },
     "execution_count": 35,
     "metadata": {},
     "output_type": "execute_result"
    }
   ],
   "source": [
    "radius['F']"
   ]
  },
  {
   "cell_type": "code",
   "execution_count": 36,
   "id": "fd228400",
   "metadata": {},
   "outputs": [
    {
     "data": {
      "text/plain": [
       "<AxesSubplot: >"
      ]
     },
     "execution_count": 36,
     "metadata": {},
     "output_type": "execute_result"
    },
    {
     "data": {
      "image/png": "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\n",
      "text/plain": [
       "<Figure size 640x480 with 1 Axes>"
      ]
     },
     "metadata": {},
     "output_type": "display_data"
    }
   ],
   "source": [
    "sns.scatterplot(x=profile_size_change, y=profile_rot_change, c=profile_phobos_change, alpha=0.2, cmap='coolwarm')"
   ]
  },
  {
   "cell_type": "code",
   "execution_count": 37,
   "id": "95cf3f2f",
   "metadata": {},
   "outputs": [
    {
     "data": {
      "text/plain": [
       "{17: 'cyan',\n",
       " 4: 'cyan',\n",
       " 14: 'cyan',\n",
       " 0: 'cyan',\n",
       " 11: 'cyan',\n",
       " 7: 'cyan',\n",
       " 3: 'cyan',\n",
       " 10: 'cyan',\n",
       " 21: 'cyan',\n",
       " 18: 'red'}"
      ]
     },
     "execution_count": 37,
     "metadata": {},
     "output_type": "execute_result"
    }
   ],
   "source": [
    "import matplotlib.cm as cm\n",
    "\n",
    "tmp = res_df.color.unique()\n",
    "    \n",
    "# i:cm.tab20c(pos)\n",
    "palette={i:'red' if i in [18] else 'cyan' for pos, i in enumerate(tmp)}\n",
    "palette"
   ]
  },
  {
   "cell_type": "code",
   "execution_count": 61,
   "id": "b13256dd",
   "metadata": {},
   "outputs": [
    {
     "data": {
      "text/plain": [
       "Text(0.5, 8.888888888888882, 'Mean sequence identity (%)')"
      ]
     },
     "execution_count": 61,
     "metadata": {},
     "output_type": "execute_result"
    }
   ],
   "source": [
    "\n",
    "ax.scatter(res_df['seq_diff'], res_df['rot_diff'], s=2, alpha=1)\n",
    "ax.set_title('HAMP (PF00672)', size=17)\n",
    "ax.set_ylabel('Predicted conformation variability (degrees)', size=13)\n",
    "ax.set_xlabel('Mean sequence identity (%)', size=13)"
   ]
  },
  {
   "cell_type": "code",
   "execution_count": null,
   "id": "ab9832df",
   "metadata": {},
   "outputs": [],
   "source": [
    "# compare neutral to changing substitutions!\n",
    "# color by function!"
   ]
  },
  {
   "cell_type": "code",
   "execution_count": null,
   "id": "7a915c38",
   "metadata": {},
   "outputs": [],
   "source": []
  },
  {
   "cell_type": "code",
   "execution_count": null,
   "id": "d6e5356f",
   "metadata": {},
   "outputs": [],
   "source": []
  },
  {
   "cell_type": "code",
   "execution_count": 16,
   "id": "e64a0529",
   "metadata": {},
   "outputs": [],
   "source": [
    "# def calculate_variability_index(values):\n",
    "#     max_val = max(values)\n",
    "#     min_val = min(values)\n",
    "#     return (max_val - min_val) / (max_val + min_val)\n",
    "\n",
    "# import statistics\n",
    "\n",
    "# def calculate_variability_index2(values):\n",
    "#     mean_val = statistics.mean(values)\n",
    "#     stdev_val = statistics.stdev(values)\n",
    "#     return stdev_val / mean_val\n",
    "\n",
    "\n",
    "# import statistics\n",
    "\n",
    "# def calculate_mad(values):\n",
    "#     median_val = statistics.median(values)\n",
    "#     deviations = [abs(x - median_val) for x in values]\n",
    "#     mad_val = statistics.median(deviations)\n",
    "#     return mad_val\n",
    "\n",
    "# import statistics\n",
    "\n",
    "# def calculate_iqr(values):\n",
    "#     q1 = statistics.median(values[:len(values)//2])\n",
    "#     q3 = statistics.median(values[(len(values)+1)//2:])\n",
    "#     iqr_val = q3 - q1\n",
    "#     return iqr_val"
   ]
  },
  {
   "cell_type": "code",
   "execution_count": 220,
   "id": "88ef28cf",
   "metadata": {},
   "outputs": [
    {
     "name": "stderr",
     "output_type": "stream",
     "text": [
      "  0%|                                                                                                                 | 20/30437 [00:00<00:16, 1794.74it/s]\n"
     ]
    }
   ],
   "source": [
    "method = 'main'\n",
    "\n",
    "res = []\n",
    "\n",
    "for clust_id, g in tqdm(data_df.groupby('clust_id')):\n",
    "    size = len(g)\n",
    "    if size!=2: continue\n",
    "\n",
    "    \n",
    "\n",
    "    break\n",
    "    \n",
    "    # descriptors\n",
    "    g_cons = np.mean(\n",
    "        msa_diversity(g.sequence.tolist())\n",
    "    )\n",
    "                \n",
    "    g_rot = g['rot_'+method].std() \n",
    "    #g_rot = calculate_mad(g['rot_'+method])\n",
    "    \n",
    "    #colors\n",
    "    (name_color, name_color_freq), (go_color, go_color_freq) = group2color(g)\n",
    "    \n",
    "    if go_color=='transcription_regulation':\n",
    "        color = 'red'\n",
    "    elif go_color=='chemotaxis':\n",
    "        color = 'green'\n",
    "    else:\n",
    "        color='lightgrey'\n",
    "\n",
    "            \n",
    "    #if color_freq < 0.25 or color=='x': continue\n",
    "       \n",
    "    # ['transcription_regulation', 'chemotaxis', 'cyclic_nucleotide_biosynthesis', \n",
    "    # 'signal_transduction_regulation', 'nitrogen_fixation', 'response_to_stress', \n",
    "    # 'osmosensory_signaling', 'transmembrane_transport']\n",
    "      \n",
    "        \n",
    "    res.append(\n",
    "        (g_cons, g_rot, color)\n",
    "    )\n",
    "    \n",
    "    if g_rot>4:\n",
    "        print((name_color, name_color_freq), (go_color, go_color_freq), (g_cons, g_rot))\n",
    "        print(g)\n",
    "        print()\n",
    "        #break\n",
    "\n"
   ]
  },
  {
   "cell_type": "code",
   "execution_count": 214,
   "id": "c9b8486f",
   "metadata": {},
   "outputs": [
    {
     "data": {
      "text/plain": [
       "2574"
      ]
     },
     "execution_count": 214,
     "metadata": {},
     "output_type": "execute_result"
    }
   ],
   "source": [
    "res_df = pd.DataFrame(res, columns=['conservation', 'rotation', 'color'])\n",
    "len(res_df)"
   ]
  },
  {
   "cell_type": "code",
   "execution_count": 215,
   "id": "8dba4408",
   "metadata": {},
   "outputs": [
    {
     "data": {
      "text/plain": [
       "Text(0.5, 0, 'Mean sequence identity (%)')"
      ]
     },
     "execution_count": 215,
     "metadata": {},
     "output_type": "execute_result"
    },
    {
     "data": {
      "image/png": "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\n",
      "text/plain": [
       "<Figure size 500x500 with 1 Axes>"
      ]
     },
     "metadata": {},
     "output_type": "display_data"
    }
   ],
   "source": [
    "fig, ax = plt.subplots(1,1, figsize=(5, 5), dpi=100)\n",
    "ax.scatter(res_df['conservation'], res_df['rotation'], c=res_df['color'], s=20, alpha=0.5)\n",
    "ax.set_title('HAMP (PF00672)', size=17)\n",
    "ax.set_ylabel('Predicted conformation variability (degrees)', size=13)\n",
    "ax.set_xlabel('Mean sequence identity (%)', size=13)"
   ]
  },
  {
   "cell_type": "code",
   "execution_count": null,
   "id": "cdcc41ff",
   "metadata": {},
   "outputs": [],
   "source": []
  },
  {
   "cell_type": "code",
   "execution_count": null,
   "id": "b767b68e",
   "metadata": {},
   "outputs": [],
   "source": []
  },
  {
   "cell_type": "code",
   "execution_count": 18,
   "id": "7e6f44f1",
   "metadata": {},
   "outputs": [],
   "source": [
    "# def list_to_freq_dict(lst, s):\n",
    "#     freq_dict = {}\n",
    "#     a = 1 / s\n",
    "#     #print(len(lst))\n",
    "#     for element in lst:\n",
    "#         if element in freq_dict:\n",
    "#             freq_dict[element] += a\n",
    "#         else:\n",
    "#             freq_dict[element] = a\n",
    "#     return freq_dict\n",
    "\n",
    "# def scan_cluster(g):\n",
    "#     go = []\n",
    "#     for sid, srow in g.iterrows():\n",
    "#         try:\n",
    "#             uni_desc = uni_df.loc[srow.desc.split('/')[0]]\n",
    "#             go.extend(\n",
    "#                 uni_desc['Gene Ontology (biological process)'].split('; ')\n",
    "#             )\n",
    "#         except KeyError:\n",
    "#             pass\n",
    "#         except AttributeError:\n",
    "#             pass\n",
    "#     return list_to_freq_dict(go, len(g))"
   ]
  },
  {
   "cell_type": "code",
   "execution_count": 19,
   "id": "18f3807a",
   "metadata": {},
   "outputs": [],
   "source": [
    "# from Bio.SubsMat import MatrixInfo\n",
    "\n",
    "\n",
    "# def conservation_index_blosum(sequences):\n",
    "#     \"\"\"\n",
    "#     Calculates the per-column conservation index for a list of protein sequences.\n",
    "    \n",
    "#     Args:\n",
    "#         sequences (list): A list of protein sequences.\n",
    "        \n",
    "#     Returns:\n",
    "#         cons_index (list): A list of conservation scores for each column of the MSA.\n",
    "#     \"\"\"\n",
    "#     # Load the BLOSUM62 substitution matrix\n",
    "#     blosum62 = MatrixInfo.blosum62\n",
    "\n",
    "#     # Dictionary to store the frequency of each amino acid at each position in the MSA\n",
    "#     aa_freq = {}\n",
    "\n",
    "#     # Calculate the frequency of each amino acid at each position\n",
    "#     for sequence in sequences:\n",
    "#         for i, aa in enumerate(sequence):\n",
    "#             if i not in aa_freq:\n",
    "#                 aa_freq[i] = {}\n",
    "#             if aa not in aa_freq[i]:\n",
    "#                 aa_freq[i][aa] = 0\n",
    "#             aa_freq[i][aa] += 1\n",
    "\n",
    "#     # Calculate the conservation score for each column\n",
    "#     cons_index = []\n",
    "#     for i in range(len(aa_freq)):\n",
    "#         col_scores = []\n",
    "#         for aa1 in aa_freq[i]:\n",
    "#             for aa2 in aa_freq[i]:\n",
    "#                 if aa1 != aa2:\n",
    "#                     score = blosum62.get((aa1, aa2), blosum62.get((aa2, aa1), -4))\n",
    "#                     col_scores.append(score * aa_freq[i][aa1] * aa_freq[i][aa2])\n",
    "#         if not col_scores:\n",
    "#             cons_index.append(0)\n",
    "#         else:\n",
    "#             cons_index.append(sum(col_scores) / (sum(aa_freq[i].values()) ** 2))\n",
    "\n",
    "#     return cons_index\n"
   ]
  },
  {
   "cell_type": "code",
   "execution_count": 20,
   "id": "4eca8f19",
   "metadata": {},
   "outputs": [],
   "source": [
    "# def conservation_index(sequences):\n",
    "#     \"\"\"\n",
    "#     Reads a protein MSA from a file in FASTA format and calculates the per-column conservation index.\n",
    "    \n",
    "#     Args:\n",
    "#         fasta_file (str): Path to the FASTA file containing the protein MSA.\n",
    "        \n",
    "#     Returns:\n",
    "#         cons_index (list): A list of conservation scores for each column of the MSA.\n",
    "#     \"\"\"\n",
    "#     # Dictionary to store the frequency of each amino acid at each position in the MSA\n",
    "#     aa_freq = {}\n",
    "\n",
    "#     # Calculate the frequency of each amino acid at each position\n",
    "#     for sequence in sequences:\n",
    "#         for i, aa in enumerate(sequence):\n",
    "#             if i not in aa_freq:\n",
    "#                 aa_freq[i] = {}\n",
    "#             if aa not in aa_freq[i]:\n",
    "#                 aa_freq[i][aa] = 0\n",
    "#             aa_freq[i][aa] += 1\n",
    "\n",
    "#     # Calculate the conservation score for each column\n",
    "#     cons_index = []\n",
    "#     for i in range(len(aa_freq)):\n",
    "#         total_aa = sum(aa_freq[i].values())\n",
    "#         if total_aa == 0:\n",
    "#             cons_index.append(0)\n",
    "#         else:\n",
    "#             max_freq = max(aa_freq[i].values())\n",
    "#             cons_index.append(max_freq / total_aa)\n",
    "\n",
    "#     return cons_index\n"
   ]
  },
  {
   "cell_type": "code",
   "execution_count": 21,
   "id": "4830355e",
   "metadata": {},
   "outputs": [],
   "source": [
    "# def group2fasta(g, fname):\n",
    "#     with open(fname, 'wt') as f:    \n",
    "#         for i, g in g.iterrows():\n",
    "#             f.write(f'>{i}\\n{g.sequence}\\n')\n",
    "        \n",
    "# def most_frequent_string(strings):\n",
    "#     string_counts = Counter(strings)\n",
    "#     most_common_string, frequency = string_counts.most_common(1)[0]\n",
    "#     return most_common_string, frequency / len(strings)\n"
   ]
  },
  {
   "cell_type": "markdown",
   "id": "bd72b1b0",
   "metadata": {},
   "source": [
    "### all-vs-all in clusters approach"
   ]
  },
  {
   "cell_type": "code",
   "execution_count": 638,
   "id": "e26636de",
   "metadata": {},
   "outputs": [
    {
     "name": "stderr",
     "output_type": "stream",
     "text": [
      "100%|██████████████████████████████████████████████████████████████████████████████████████████████████████████████| 30437/30437 [00:18<00:00, 1604.66it/s]\n"
     ]
    }
   ],
   "source": [
    "def compare_dataframe_rows(df, sequence_column):\n",
    "    n = len(df)\n",
    "    similarities = []\n",
    "    for i in range(n):\n",
    "        for j in range(i+1, n):\n",
    "            row1 = df.iloc[i]\n",
    "            row2 = df.iloc[j]\n",
    "            seq_similarity = sequence_identity(row1[sequence_column], row2[sequence_column])\n",
    "            rot_diff_main = abs(row1['rot_main'] - row2['rot_main'])\n",
    "            rot_diff_aux = abs(row1['rot_aux'] - row2['rot_aux'])\n",
    "            similarities.append((row1.desc.split('/')[0], row2.desc.split('/')[0], seq_similarity, rot_diff_main, \n",
    "                                 rot_diff_aux, row1.name, row2.name))\n",
    "    return similarities\n",
    "\n",
    "res_list=[]\n",
    "\n",
    "# iterate over groups defined by mmseqs2\n",
    "for i, g in tqdm(data_df.groupby('clust_id')):\n",
    "    if len(g)<MIN_CLU_SIZE: continue\n",
    "        \n",
    "    if len(g)>50: continue\n",
    "    \n",
    "    # in each group compare all the sequences all-vs-all\n",
    "    res = compare_dataframe_rows(g, 'sequence')\n",
    "    \n",
    "    \n",
    "    \n",
    "    # i,j are protein ids and i_idx, j_idx are indexes in data_df\n",
    "    res_df = pd.DataFrame(res, columns=['i', 'j', 'seq_sim', 'rot_diff_main', \"rot_diff_aux\", \"i_idx\", 'j_idx'])\n",
    "    res_df['cluster'] = i\n",
    "    res_list.append(res_df)\n",
    "    \n",
    "res_df = pd.concat(res_list)"
   ]
  },
  {
   "cell_type": "code",
   "execution_count": 645,
   "id": "07d94a04",
   "metadata": {
    "scrolled": true
   },
   "outputs": [
    {
     "name": "stdout",
     "output_type": "stream",
     "text": [
      "0\n"
     ]
    }
   ],
   "source": [
    "method = 'main'\n",
    "count=0\n",
    "X,Y, C=[],[],[]\n",
    "for clust_id, g in data_df.groupby('clust_id'):\n",
    "    size = len(g)\n",
    "    if size<5 or size>50: continue\n",
    "        \n",
    "    count+=1\n",
    "    continue\n",
    "        \n",
    "    g_res = res_df[res_df.cluster==clust_id]\n",
    "    \n",
    "    # full msa conservation vs hamp conservation\n",
    "    #( clustalo)\n",
    "    \n",
    "    # pair with the max predicted rot difference \n",
    "    rot_max_row = g_res.iloc[g_res['rot_diff_'+method].argmax()]\n",
    "    rm_seq_sim = rot_max_row.seq_sim\n",
    "    rm_rot = rot_max_row['rot_diff_'+method]\n",
    "    \n",
    "    # whole cluster\n",
    "    seq_sim_mean = g_res.seq_sim.mean()\n",
    "    rot_diff_mean = g_res['rot_diff_'+method].mean()\n",
    "    \n",
    "    # set color\n",
    "    \n",
    "    sc = scan_cluster(g)\n",
    "    \n",
    "    if len(sc)==0:\n",
    "        continue\n",
    "    else: \n",
    "        q = 'regulation of DNA-templated transcription [GO:0006355]' in sc.keys()\n",
    "        p = 'chemotaxis [GO:0006935]' in sc.keys()\n",
    "        \n",
    "        if p and not q:\n",
    "            color = 'red'\n",
    "        elif q and not p:\n",
    "            color='blue'\n",
    "        else:\n",
    "            color='grey'\n",
    "            #print(sc)\n",
    "            continue\n",
    "  \n",
    "    # show model proteins\n",
    "    #if clust_id in cluster2desc.keys():\n",
    "    #    color='red'\n",
    "    #else:\n",
    "    #    color='lightgrey'\n",
    "\n",
    "    Y.append(seq_sim_mean)\n",
    "    X.append(rm_rot)\n",
    "    C.append(color)\n",
    "    \n",
    "    if rot_diff_mean > 7 and seq_sim_mean > 70 and seq_sim_mean < 75:\n",
    "        print(\" \".join([p.split('/')[0] for p in g.desc.tolist()]))\n",
    "        print(\"\")\n",
    "        print(g)\n",
    "        print()\n",
    "        \n",
    "print(len(X))"
   ]
  },
  {
   "cell_type": "code",
   "execution_count": 646,
   "id": "6dbcf31b",
   "metadata": {},
   "outputs": [
    {
     "data": {
      "text/plain": [
       "1095"
      ]
     },
     "execution_count": 646,
     "metadata": {},
     "output_type": "execute_result"
    }
   ],
   "source": [
    "count"
   ]
  },
  {
   "cell_type": "code",
   "execution_count": 640,
   "id": "59e89dbf",
   "metadata": {
    "scrolled": false
   },
   "outputs": [
    {
     "name": "stderr",
     "output_type": "stream",
     "text": [
      "/tmp/ipykernel_32185/2380154057.py:3: UserWarning: No data for colormapping provided via 'c'. Parameters 'cmap' will be ignored\n",
      "  ax.scatter(X, Y, c=C, s=20, cmap='coolwarm', alpha=0.5)\n"
     ]
    },
    {
     "data": {
      "text/plain": [
       "Text(0, 0.5, 'Mean sequence identity (%)')"
      ]
     },
     "execution_count": 640,
     "metadata": {},
     "output_type": "execute_result"
    },
    {
     "data": {
      "image/png": "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\n",
      "text/plain": [
       "<Figure size 500x500 with 1 Axes>"
      ]
     },
     "metadata": {},
     "output_type": "display_data"
    }
   ],
   "source": [
    "fig, ax = plt.subplots(1,1, figsize=(5, 5), dpi=100)\n",
    "\n",
    "ax.scatter(X, Y, c=C, s=20, cmap='coolwarm', alpha=0.5)\n",
    "ax.set_title('HAMP (PF00672)', size=17)\n",
    "ax.set_xlabel('Predicted rotation variability (degrees)', size=13)\n",
    "ax.set_ylabel('Mean sequence identity (%)', size=13)"
   ]
  },
  {
   "cell_type": "code",
   "execution_count": 123,
   "id": "8f05e1f1",
   "metadata": {},
   "outputs": [
    {
     "data": {
      "text/plain": [
       "242"
      ]
     },
     "execution_count": 123,
     "metadata": {},
     "output_type": "execute_result"
    }
   ],
   "source": [
    "C.count('red')"
   ]
  },
  {
   "cell_type": "code",
   "execution_count": 125,
   "id": "d80b3318",
   "metadata": {},
   "outputs": [
    {
     "data": {
      "text/plain": [
       "64"
      ]
     },
     "execution_count": 125,
     "metadata": {},
     "output_type": "execute_result"
    }
   ],
   "source": [
    "C.count('blue')"
   ]
  },
  {
   "cell_type": "code",
   "execution_count": null,
   "id": "decf2f52",
   "metadata": {},
   "outputs": [],
   "source": []
  },
  {
   "cell_type": "code",
   "execution_count": null,
   "id": "1757994a",
   "metadata": {},
   "outputs": [],
   "source": [
    "#         for rowid, row in g.iterrows():\n",
    "#             ident = row.desc.split('/')[0]\n",
    "#             print(ident)\n",
    "#             if ident == 'Q9KL26_VIBCH':\n",
    "#                 #print(row.sequence, np.round(row['rot_'+method],1), row.desc)\n",
    "#                 #print(seq_sim_mean, rot_diff_mean)\n",
    "#                 pass\n",
    "                \n",
    "        \n",
    "#         #print(f'rot: {np.round(rm_rot, 1)}, sim: {np.round(rm_seq_sim, 1)}')\n",
    "    \n",
    "#         #compare_sequences(data_df.loc[rot_max_row.i_idx], data_df.loc[rot_max_row.j_idx],\n",
    "#         #                 method=method)\n",
    "        \n",
    "#         #for rowid, row in g.iterrows():\n",
    "#         #    if rowid in [rot_max_row.i_idx, rot_max_row.j_idx]: continue     \n",
    "#         #    print(row.sequence, np.round(row['rot_'+method],1), row.desc)\n",
    "        \n",
    "#         #print()\n",
    "#         #print(sc)"
   ]
  },
  {
   "cell_type": "code",
   "execution_count": null,
   "id": "01586e64",
   "metadata": {},
   "outputs": [],
   "source": [
    "# Tar/Tsr - where? comp of chimeras"
   ]
  },
  {
   "cell_type": "code",
   "execution_count": null,
   "id": "e0055518",
   "metadata": {},
   "outputs": [],
   "source": [
    "# chemoreceptors domain composition mapping"
   ]
  },
  {
   "cell_type": "code",
   "execution_count": null,
   "id": "af7afadf",
   "metadata": {},
   "outputs": [],
   "source": [
    "# compare taxonomy"
   ]
  },
  {
   "cell_type": "code",
   "execution_count": null,
   "id": "4690e73f",
   "metadata": {},
   "outputs": [],
   "source": [
    "# Vibrio cholerae, the etiological agent of cholera, was found to be attracted by \n",
    "taurine (2-aminoethanesulfonic acid), a major constituent of human bile. Mlp37, the closest homolog of the previously identified amino acid chemoreceptor Mlp24\n"
   ]
  },
  {
   "cell_type": "code",
   "execution_count": null,
   "id": "6910c038",
   "metadata": {},
   "outputs": [],
   "source": []
  },
  {
   "cell_type": "code",
   "execution_count": null,
   "id": "a5ac2ec4",
   "metadata": {},
   "outputs": [],
   "source": []
  },
  {
   "cell_type": "code",
   "execution_count": null,
   "id": "3a0d983b",
   "metadata": {},
   "outputs": [],
   "source": []
  },
  {
   "cell_type": "code",
   "execution_count": null,
   "id": "5093f695",
   "metadata": {},
   "outputs": [],
   "source": []
  },
  {
   "cell_type": "code",
   "execution_count": null,
   "id": "aa3ee69d",
   "metadata": {},
   "outputs": [],
   "source": []
  },
  {
   "cell_type": "code",
   "execution_count": null,
   "id": "b21e5d87",
   "metadata": {},
   "outputs": [],
   "source": []
  },
  {
   "cell_type": "code",
   "execution_count": 182,
   "id": "d16a5e78",
   "metadata": {},
   "outputs": [],
   "source": [
    "from itertools import chain"
   ]
  },
  {
   "cell_type": "code",
   "execution_count": 185,
   "id": "adf39a98",
   "metadata": {},
   "outputs": [
    {
     "data": {
      "text/plain": [
       "{'chemotaxis [GO:0006935]': 9794.0,\n",
       " 'signal transduction [GO:0007165]': 19591.0,\n",
       " 'cyclic nucleotide biosynthetic process [GO:0009190]': 932.0,\n",
       " 'intracellular signal transduction [GO:0035556]': 903.0,\n",
       " 'regulation of DNA-templated transcription [GO:0006355]': 2045.0,\n",
       " 'phosphorylation [GO:0016310]': 588.0,\n",
       " 'regulation of intracellular signal transduction [GO:1902531]': 857.0,\n",
       " 'protein phosphorylation [GO:0006468]': 51.0,\n",
       " 'osmosensory signaling via phosphorelay pathway [GO:0007234]': 20.0,\n",
       " 'protein autophosphorylation [GO:0046777]': 285.0,\n",
       " 'phosphorelay signal transduction system [GO:0000160]': 82.0,\n",
       " 'nitrogen fixation [GO:0009399]': 103.0,\n",
       " 'protein refolding [GO:0042026]': 1.0,\n",
       " 'phosphate ion transport [GO:0006817]': 18.0,\n",
       " 'cell adhesion involved in single-species biofilm formation [GO:0043709]': 3.0,\n",
       " 'negative regulation of bacterial-type flagellum-dependent cell motility [GO:1902201]': 3.0,\n",
       " 'organic substance transport [GO:0071702]': 2.0,\n",
       " 'transmembrane transport [GO:0055085]': 8.0,\n",
       " 'response to stress [GO:0006950]': 20.0,\n",
       " 'cellular hyperosmotic response [GO:0071474]': 1.0,\n",
       " 'filamentous growth of a population of unicellular organisms in response to biotic stimulus [GO:0036180]': 1.0,\n",
       " 'positive regulation of filamentous growth of a population of unicellular organisms in response to biotic stimulus [GO:1900445]': 1.0,\n",
       " 'DNA repair [GO:0006281]': 2.0,\n",
       " 'methylation [GO:0032259]': 5.0,\n",
       " 'cAMP biosynthetic process [GO:0006171]': 5.0,\n",
       " 'cell cycle [GO:0007049]': 2.0,\n",
       " 'cell division [GO:0051301]': 2.0,\n",
       " 'regulation of apoptotic process [GO:0042981]': 4.0,\n",
       " 'positive chemotaxis [GO:0050918]': 1.0,\n",
       " 'xenobiotic transport [GO:0042908]': 1.0,\n",
       " 'isoprenoid biosynthetic process [GO:0008299]': 1.0,\n",
       " 'proteolysis [GO:0006508]': 1.0,\n",
       " 'response to amino acid [GO:0043200]': 3.0,\n",
       " 'regulation of GTPase activity [GO:0043087]': 1.0,\n",
       " 'cellular response to phosphate starvation [GO:0016036]': 4.0,\n",
       " 'response to herbicide [GO:0009635]': 1.0,\n",
       " \"'de novo' AMP biosynthetic process [GO:0044208]\": 1.0,\n",
       " 'carbohydrate transport [GO:0008643]': 1.0,\n",
       " 'negative regulation of phosphorelay signal transduction system [GO:0070298]': 1.0,\n",
       " 'DNA integration [GO:0015074]': 1.0,\n",
       " 'intracellular protein transport [GO:0006886]': 1.0,\n",
       " 'coenzyme A metabolic process [GO:0015936]': 2.0,\n",
       " 'bacterial-type flagellum organization [GO:0044781]': 1.0,\n",
       " 'SRP-dependent cotranslational protein targeting to membrane [GO:0006614]': 1.0,\n",
       " 'malate transport [GO:0015743]': 1.0,\n",
       " 'positive regulation of cell motility [GO:2000147]': 1.0,\n",
       " 'positive regulation of secondary metabolite biosynthetic process [GO:1900378]': 1.0,\n",
       " 'polysaccharide catabolic process [GO:0000272]': 1.0,\n",
       " 'amino acid metabolic process [GO:0006520]': 1.0,\n",
       " 'protein transport [GO:0015031]': 1.0,\n",
       " 'protein secretion [GO:0009306]': 1.0,\n",
       " 'response to antibiotic [GO:0046677]': 1.0,\n",
       " 'anatomical structure development [GO:0048856]': 1.0,\n",
       " 'translation [GO:0006412]': 1.0}"
      ]
     },
     "execution_count": 185,
     "metadata": {},
     "output_type": "execute_result"
    }
   ],
   "source": [
    "list_to_freq_dict(list(chain(*uni_df['Gene Ontology (biological process)'].apply(lambda x:x.split('; ') if not pd.isna(x) else '').tolist())), 1)"
   ]
  },
  {
   "cell_type": "code",
   "execution_count": null,
   "id": "835c9227",
   "metadata": {},
   "outputs": [],
   "source": []
  },
  {
   "cell_type": "code",
   "execution_count": null,
   "id": "a92f5d50",
   "metadata": {},
   "outputs": [],
   "source": []
  },
  {
   "cell_type": "code",
   "execution_count": null,
   "id": "3c4e23e1",
   "metadata": {},
   "outputs": [],
   "source": []
  },
  {
   "cell_type": "code",
   "execution_count": null,
   "id": "3c126211",
   "metadata": {},
   "outputs": [],
   "source": []
  },
  {
   "cell_type": "code",
   "execution_count": null,
   "id": "64a85947",
   "metadata": {},
   "outputs": [],
   "source": []
  },
  {
   "cell_type": "code",
   "execution_count": 78,
   "id": "a030ba77",
   "metadata": {},
   "outputs": [
    {
     "data": {
      "text/plain": [
       "0.7272727272727273"
      ]
     },
     "execution_count": 78,
     "metadata": {},
     "output_type": "execute_result"
    }
   ],
   "source": [
    "16/22"
   ]
  },
  {
   "cell_type": "code",
   "execution_count": null,
   "id": "21dd9f97",
   "metadata": {},
   "outputs": [],
   "source": []
  },
  {
   "cell_type": "code",
   "execution_count": 354,
   "id": "5b8c3e2a",
   "metadata": {},
   "outputs": [],
   "source": [
    "\n",
    "# def run_al2co(sequences):\n",
    "#     with open('./data/tmp/temp.aln', 'wt') as f:    \n",
    "#         for s in sequences:\n",
    "#             f.write('Sequence  '+s+'\\n')\n",
    "#     os.system('~/apps/al2co/al2co -i ./data/tmp/temp.aln -o ./data/tmp/temp.cons -f 2')\n",
    "    \n",
    "#     cons = []\n",
    "#     with open('./data/tmp/temp.cons', 'rt') as f:\n",
    "#         while True:\n",
    "#             l = f.readline()\n",
    "#             if l[0] == '*': break\n",
    "#             cons.append(float(l.strip().split(' ')[-1]))\n",
    "#     assert len(cons) == 22\n",
    "    \n",
    "#     return np.mean(cons)\n",
    "    \n",
    "      \n"
   ]
  },
  {
   "cell_type": "code",
   "execution_count": 355,
   "id": "eaf7bda6",
   "metadata": {},
   "outputs": [],
   "source": [
    "def group2color(g):\n",
    "    colors=[]\n",
    "    func_arr = []\n",
    "    for i, seq in g.iterrows():\n",
    "        ident = seq.desc.split('/')[0]\n",
    "        try:\n",
    "            func = protein2function_df[protein2function_df.index == ident]\n",
    "            assert len(func)<2\n",
    "            if len(func)==0: raise KeyError\n",
    "            func = func.iloc[0].values\n",
    "        except KeyError:\n",
    "            pass\n",
    "            #func_arr.append(np.array(['UNK', 'UNK'], dtype=object))\n",
    "        else:\n",
    "            func_arr.append(func)\n",
    "    a = np.array(func_arr)\n",
    "    if len(a)>0:\n",
    "        return most_frequent_string(a[:,0]), most_frequent_string(a[:,1])\n",
    "    else:\n",
    "        return ('UNK', 1.0), ('UNK', 1.0)\n",
    "        \n"
   ]
  },
  {
   "cell_type": "code",
   "execution_count": 34,
   "id": "6f9af82b",
   "metadata": {},
   "outputs": [],
   "source": []
  },
  {
   "cell_type": "code",
   "execution_count": 122,
   "id": "ae61ce48",
   "metadata": {},
   "outputs": [],
   "source": [
    "tmp_df = pd.DataFrame(zip(X,Y,C), columns=['rot', 'seq', 'color'])"
   ]
  },
  {
   "cell_type": "code",
   "execution_count": 233,
   "id": "8e410f83",
   "metadata": {},
   "outputs": [
    {
     "name": "stderr",
     "output_type": "stream",
     "text": [
      "37598it [00:08, 4227.67it/s]\n"
     ]
    }
   ],
   "source": [
    "C=[]\n",
    "for _, row in tqdm(res_df.iterrows()):\n",
    "    try:\n",
    "        i_desc = uni_df.loc[row.i]['Gene Ontology (biological process)']\n",
    "        j_desc = uni_df.loc[row.j]['Gene Ontology (biological process)']\n",
    "        \n",
    "        if pd.isna(i_desc)or pd.isna(j_desc):\n",
    "            raise KeyError\n",
    "        \n",
    "    except KeyError:\n",
    "        C.append('white')\n",
    "        continue\n",
    "    \n",
    "    if i_desc.find('chemotaxis') and j_desc.find('chemotaxis'):\n",
    "        C.append('red')\n",
    "    else:\n",
    "        C.append('yellow')\n",
    "    "
   ]
  },
  {
   "cell_type": "code",
   "execution_count": 234,
   "id": "ec43c4dd",
   "metadata": {},
   "outputs": [],
   "source": [
    "assert len(res_df) == len(C)\n",
    "res_df['color'] = C"
   ]
  },
  {
   "cell_type": "code",
   "execution_count": 128,
   "id": "962869cc",
   "metadata": {},
   "outputs": [
    {
     "data": {
      "text/plain": [
       "<AxesSubplot: xlabel='seq', ylabel='Count'>"
      ]
     },
     "execution_count": 128,
     "metadata": {},
     "output_type": "execute_result"
    },
    {
     "data": {
      "image/png": "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\n",
      "text/plain": [
       "<Figure size 640x480 with 1 Axes>"
      ]
     },
     "metadata": {},
     "output_type": "display_data"
    }
   ],
   "source": [
    "sns.histplot(data=tmp_df, stat=\"count\", multiple=\"stack\",\n",
    "             x=\"seq\", kde=False,\n",
    "             palette=\"pastel\", hue=\"color\",\n",
    "             element=\"bars\", legend=True)\n"
   ]
  },
  {
   "cell_type": "code",
   "execution_count": null,
   "id": "dc1a702b",
   "metadata": {},
   "outputs": [],
   "source": []
  },
  {
   "cell_type": "code",
   "execution_count": 59,
   "id": "ccf14ebf",
   "metadata": {},
   "outputs": [],
   "source": [
    "x=np.asarray(X)\n",
    "c=np.asarray(C)"
   ]
  },
  {
   "cell_type": "code",
   "execution_count": 84,
   "id": "dfd62cce",
   "metadata": {},
   "outputs": [],
   "source": []
  },
  {
   "cell_type": "code",
   "execution_count": 601,
   "id": "7ae08e58",
   "metadata": {},
   "outputs": [
    {
     "data": {
      "text/plain": [
       "{49578: ['Tsr', 'Tar'], 5089: ['Trg'], 42689: ['Tap'], 31177: ['EnvZ']}"
      ]
     },
     "execution_count": 601,
     "metadata": {},
     "output_type": "execute_result"
    }
   ],
   "source": [
    "# map well-characterised proteins to mmseqs2 clusters\n",
    "\n",
    "cluster2desc = {}\n",
    "\n",
    "for ident, desc in [\n",
    "    # E. coli\n",
    "    ['A0A0H2V3U6_SHIFL/214-265', 'Tsr'],\n",
    "    ['A0A0H2V3U6_SHIFL/214-265', 'Tar'],\n",
    "    ['A0A0H2VWT4_SHIFL/221-272', 'Trg'],\n",
    "    ['MCP4_ECOLI/209-261', 'Tap'],\n",
    "    ['A0A0J8Y5H1_9ENTR/177-229', 'EnvZ'],\n",
    "    \n",
    "    # B. subtilis\n",
    "    #['MCPA_BACSU/300-352', 'McpA'],\n",
    "    #['MCPB_BACSU/301-353', 'McpB'],\n",
    "    #['MCPC_BACSU/295-347', 'McpC']\n",
    "    \n",
    "]:\n",
    "    tmp = data_df[data_df.desc==ident]\n",
    "    if len(tmp)==0:\n",
    "        print(desc, 'not found')\n",
    "        continue\n",
    "    cluster = tmp.iloc[0].clust_id\n",
    "    g = data_df[data_df.clust_id==cluster]\n",
    "    cluster_size = len(g)\n",
    "    \n",
    "    if cluster_size<MIN_CLU_SIZE:\n",
    "        print(desc, 'cluster too small', cluster_size)\n",
    "        print(g)\n",
    "        continue\n",
    "        \n",
    "    if cluster in cluster2desc:\n",
    "        cluster2desc[cluster].append(desc)\n",
    "    else:\n",
    "        cluster2desc[cluster] = [desc]\n",
    "    \n",
    "cluster2desc  "
   ]
  },
  {
   "cell_type": "code",
   "execution_count": 83,
   "id": "9e1f96cd",
   "metadata": {},
   "outputs": [],
   "source": []
  },
  {
   "cell_type": "code",
   "execution_count": 60,
   "id": "f2e97d49",
   "metadata": {
    "scrolled": false
   },
   "outputs": [
    {
     "data": {
      "text/plain": [
       "<AxesSubplot: ylabel='Count'>"
      ]
     },
     "execution_count": 60,
     "metadata": {},
     "output_type": "execute_result"
    },
    {
     "data": {
      "image/png": "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\n",
      "text/plain": [
       "<Figure size 640x480 with 1 Axes>"
      ]
     },
     "metadata": {},
     "output_type": "display_data"
    }
   ],
   "source": [
    "sns.histplot(x[c=='green'], color='green')\n",
    "sns.histplot(x[c=='red'], color='red')"
   ]
  },
  {
   "cell_type": "code",
   "execution_count": 18,
   "id": "964c1eed",
   "metadata": {},
   "outputs": [],
   "source": [
    "import seaborn as sns"
   ]
  },
  {
   "cell_type": "code",
   "execution_count": 274,
   "id": "6d3dbe11",
   "metadata": {},
   "outputs": [],
   "source": [
    "#sns.kdeplot(data=geyser, x=\"waiting\", y=\"duration\", hue=\"kind\")"
   ]
  },
  {
   "cell_type": "code",
   "execution_count": null,
   "id": "0f66118b",
   "metadata": {},
   "outputs": [],
   "source": []
  },
  {
   "cell_type": "code",
   "execution_count": null,
   "id": "ed9b7af4",
   "metadata": {},
   "outputs": [],
   "source": []
  },
  {
   "cell_type": "code",
   "execution_count": null,
   "id": "d067cbb8",
   "metadata": {},
   "outputs": [],
   "source": []
  },
  {
   "cell_type": "code",
   "execution_count": 62,
   "id": "fd48a2c9",
   "metadata": {},
   "outputs": [],
   "source": []
  },
  {
   "cell_type": "code",
   "execution_count": 190,
   "id": "b1f6510b",
   "metadata": {},
   "outputs": [],
   "source": [
    "#uni_df#['Protein names'].value_counts()[:10]"
   ]
  },
  {
   "cell_type": "code",
   "execution_count": null,
   "id": "54e28446",
   "metadata": {},
   "outputs": [],
   "source": []
  },
  {
   "cell_type": "code",
   "execution_count": null,
   "id": "c8764c02",
   "metadata": {},
   "outputs": [],
   "source": []
  },
  {
   "cell_type": "code",
   "execution_count": null,
   "id": "1e6f2305",
   "metadata": {},
   "outputs": [],
   "source": []
  },
  {
   "cell_type": "code",
   "execution_count": 52,
   "id": "8e5b884c",
   "metadata": {},
   "outputs": [],
   "source": [
    "res = []\n",
    "for i, g in data_df.groupby('clust_id'):\n",
    "    if len(g)!=2: continue\n",
    "    \n",
    "    sc = scan_cluster(g)\n",
    "    \n",
    "    if len(sc)==0:\n",
    "        continue\n",
    "    else:    \n",
    "        if 'chemotaxis [GO:0006935]' in sc.keys():\n",
    "            t='chemo'\n",
    "        elif 'regulation of DNA-templated transcription [GO:0006355]' in sc.keys():\n",
    "            t='hist'\n",
    "        else:\n",
    "            t='other'\n",
    "    res.append((i, g.rot_aux.min()-g.rot_aux.max(), t))\n",
    "    #break"
   ]
  },
  {
   "cell_type": "code",
   "execution_count": 53,
   "id": "dc5d9b7e",
   "metadata": {},
   "outputs": [
    {
     "data": {
      "text/plain": [
       "4"
      ]
     },
     "execution_count": 53,
     "metadata": {},
     "output_type": "execute_result"
    }
   ],
   "source": [
    "res_df = pd.DataFrame(res, columns=['clust_id', 'rot_main_max_diff', 'type'])\n",
    "len(res_df)"
   ]
  },
  {
   "cell_type": "code",
   "execution_count": 54,
   "id": "81358614",
   "metadata": {},
   "outputs": [
    {
     "data": {
      "text/html": [
       "<div>\n",
       "<style scoped>\n",
       "    .dataframe tbody tr th:only-of-type {\n",
       "        vertical-align: middle;\n",
       "    }\n",
       "\n",
       "    .dataframe tbody tr th {\n",
       "        vertical-align: top;\n",
       "    }\n",
       "\n",
       "    .dataframe thead th {\n",
       "        text-align: right;\n",
       "    }\n",
       "</style>\n",
       "<table border=\"1\" class=\"dataframe\">\n",
       "  <thead>\n",
       "    <tr style=\"text-align: right;\">\n",
       "      <th></th>\n",
       "      <th>clust_id</th>\n",
       "      <th>rot_main_max_diff</th>\n",
       "      <th>type</th>\n",
       "    </tr>\n",
       "  </thead>\n",
       "  <tbody>\n",
       "    <tr>\n",
       "      <th>2</th>\n",
       "      <td>31055</td>\n",
       "      <td>-6.260744</td>\n",
       "      <td>hist</td>\n",
       "    </tr>\n",
       "    <tr>\n",
       "      <th>1</th>\n",
       "      <td>6374</td>\n",
       "      <td>-3.893756</td>\n",
       "      <td>other</td>\n",
       "    </tr>\n",
       "    <tr>\n",
       "      <th>0</th>\n",
       "      <td>2707</td>\n",
       "      <td>-1.265798</td>\n",
       "      <td>other</td>\n",
       "    </tr>\n",
       "    <tr>\n",
       "      <th>3</th>\n",
       "      <td>53859</td>\n",
       "      <td>-0.907727</td>\n",
       "      <td>other</td>\n",
       "    </tr>\n",
       "  </tbody>\n",
       "</table>\n",
       "</div>"
      ],
      "text/plain": [
       "   clust_id  rot_main_max_diff   type\n",
       "2     31055          -6.260744   hist\n",
       "1      6374          -3.893756  other\n",
       "0      2707          -1.265798  other\n",
       "3     53859          -0.907727  other"
      ]
     },
     "execution_count": 54,
     "metadata": {},
     "output_type": "execute_result"
    }
   ],
   "source": [
    "res_df.sort_values(by='rot_main_max_diff', ascending=True)"
   ]
  },
  {
   "cell_type": "code",
   "execution_count": 50,
   "id": "67197a75",
   "metadata": {},
   "outputs": [
    {
     "data": {
      "text/plain": [
       "<AxesSubplot: xlabel='type', ylabel='rot_main_max_diff'>"
      ]
     },
     "execution_count": 50,
     "metadata": {},
     "output_type": "execute_result"
    },
    {
     "data": {
      "image/png": "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\n",
      "text/plain": [
       "<Figure size 640x480 with 1 Axes>"
      ]
     },
     "metadata": {},
     "output_type": "display_data"
    }
   ],
   "source": [
    "sns.histplot(data=res_df, y='rot_main_max_diff', x='type', bins=100)"
   ]
  },
  {
   "cell_type": "code",
   "execution_count": null,
   "id": "e23072b6",
   "metadata": {},
   "outputs": [],
   "source": []
  },
  {
   "cell_type": "code",
   "execution_count": 38,
   "id": "67088c02",
   "metadata": {},
   "outputs": [],
   "source": [
    "tmp=data_df[data_df.clust_id==722]"
   ]
  },
  {
   "cell_type": "code",
   "execution_count": 39,
   "id": "fc947a2d",
   "metadata": {},
   "outputs": [
    {
     "ename": "NameError",
     "evalue": "name 'compare_sequences' is not defined",
     "output_type": "error",
     "traceback": [
      "\u001b[0;31m---------------------------------------------------------------------------\u001b[0m",
      "\u001b[0;31mNameError\u001b[0m                                 Traceback (most recent call last)",
      "Cell \u001b[0;32mIn[39], line 1\u001b[0m\n\u001b[0;32m----> 1\u001b[0m \u001b[43mcompare_sequences\u001b[49m(tmp\u001b[38;5;241m.\u001b[39miloc[\u001b[38;5;241m0\u001b[39m], tmp\u001b[38;5;241m.\u001b[39miloc[\u001b[38;5;241m1\u001b[39m], \u001b[38;5;124m'\u001b[39m\u001b[38;5;124mmain\u001b[39m\u001b[38;5;124m'\u001b[39m)\n",
      "\u001b[0;31mNameError\u001b[0m: name 'compare_sequences' is not defined"
     ]
    }
   ],
   "source": [
    "compare_sequences(tmp.iloc[0], tmp.iloc[1], 'main')"
   ]
  },
  {
   "cell_type": "code",
   "execution_count": 137,
   "id": "3888efaf",
   "metadata": {},
   "outputs": [
    {
     "data": {
      "text/plain": [
       "Entry                                                                        A0A5J6SI04\n",
       "Entry Name                                                             A0A5J6SI04_9BACI\n",
       "Protein names                                            histidine kinase (EC 2.7.13.3)\n",
       "Gene Names                                                                   PB01_00560\n",
       "Organism                                                        Psychrobacillus glaciei\n",
       "Length                                                                              459\n",
       "Gene Ontology (biological process)                                                  NaN\n",
       "Gene Ontology (GO)                    membrane [GO:0016020]; ATP binding [GO:0005524...\n",
       "Repeat                                                                              NaN\n",
       "Taxonomic lineage                     Psychrobacillus (genus), Bacillaceae (family),...\n",
       "Pathway                                                                             NaN\n",
       "Name: A0A5J6SI04_9BACI, dtype: object"
      ]
     },
     "execution_count": 137,
     "metadata": {},
     "output_type": "execute_result"
    }
   ],
   "source": [
    "uni_df.loc['A0A5J6SI04_9BACI']"
   ]
  },
  {
   "cell_type": "code",
   "execution_count": null,
   "id": "15bfd55e",
   "metadata": {},
   "outputs": [],
   "source": []
  },
  {
   "cell_type": "code",
   "execution_count": null,
   "id": "3cb9976e",
   "metadata": {},
   "outputs": [],
   "source": []
  },
  {
   "cell_type": "code",
   "execution_count": null,
   "id": "55197c9a",
   "metadata": {},
   "outputs": [],
   "source": []
  },
  {
   "cell_type": "markdown",
   "id": "9aecaacc",
   "metadata": {},
   "source": [
    "# Importance"
   ]
  },
  {
   "cell_type": "code",
   "execution_count": 31,
   "id": "fcee9c45",
   "metadata": {},
   "outputs": [],
   "source": [
    "import itertools"
   ]
  },
  {
   "cell_type": "code",
   "execution_count": 242,
   "id": "ccd0e18d",
   "metadata": {},
   "outputs": [],
   "source": [
    "m = '***********' + '***********'\n",
    "s = 'IIELSNTADKI' + 'IGILAKSIERL'\n",
    "m_pos = [n for n,i in enumerate(list(m)) if i=='*']\n",
    "#m_pos, len(m_pos)"
   ]
  },
  {
   "cell_type": "code",
   "execution_count": 243,
   "id": "2ca0d9c8",
   "metadata": {},
   "outputs": [],
   "source": [
    "aas = ['V', 'I', 'L', 'M', 'F', 'A']\n",
    "\n",
    "def mutate(seq, pos, N):\n",
    "    for n in range(1,N+1):\n",
    "        for muts in itertools.combinations(pos, n):\n",
    "            combs = list(itertools.product(\n",
    "                *[list(itertools.product([mut], aas)) for mut in muts]\n",
    "            ))\n",
    "            \n",
    "            for comb in combs:\n",
    "                new_seq = seq[:]\n",
    "                for p, aa in comb:\n",
    "                    if new_seq[p] == aa: break\n",
    "                    new_seq = new_seq[:p] + aa + new_seq[p+1:]\n",
    "                else: \n",
    "                    yield (new_seq, comb)\n",
    "\n",
    "            \n",
    "                "
   ]
  },
  {
   "cell_type": "code",
   "execution_count": 250,
   "id": "c99b9533",
   "metadata": {},
   "outputs": [],
   "source": [
    "imp = []\n",
    "imp.append(('IIELSNTADKI', 'IGILAKSIERL', -1, 'IIELSNTADKIIGILAKSIERL'))\n",
    "\n",
    "for seq, comb in mutate(s, m_pos, 1):\n",
    "    n = seq[:11]\n",
    "    c = seq[11:]\n",
    "    imp.append((n, c, comb[0][0], n+c))\n",
    "    \n",
    "    \n",
    "imp_df = pd.DataFrame(imp, columns=['n_seq', 'c_seq', 'comb', 'sequence'])"
   ]
  },
  {
   "cell_type": "code",
   "execution_count": 251,
   "id": "242cd1c5",
   "metadata": {},
   "outputs": [],
   "source": [
    "imp_df['pred'] = clf_aux.predict(encode_df(imp_df)).mean(axis=1) / 2\n",
    "\n",
    "#imp_df['pred']= clf_main.predict(imp_df.sequence.tolist()).N_pred.apply(lambda x:np.mean(x)/2).tolist()"
   ]
  },
  {
   "cell_type": "code",
   "execution_count": 252,
   "id": "ab6718c3",
   "metadata": {},
   "outputs": [],
   "source": [
    "imp_df['diff'] = abs(imp_df['pred'] - imp_df.iloc[0].pred)"
   ]
  },
  {
   "cell_type": "code",
   "execution_count": 253,
   "id": "7883dce4",
   "metadata": {},
   "outputs": [
    {
     "data": {
      "text/plain": [
       "comb\n",
       "-1     0.000000\n",
       " 0     1.315285\n",
       " 1     0.475150\n",
       " 2     4.661668\n",
       " 3     2.458989\n",
       " 4     3.954425\n",
       " 5     0.674829\n",
       " 6     3.487037\n",
       " 7     2.736640\n",
       " 8     6.824503\n",
       " 9     1.329492\n",
       " 10    1.268235\n",
       " 11    0.580340\n",
       " 12    6.744746\n",
       " 13    1.681028\n",
       " 14    2.151079\n",
       " 15    6.346503\n",
       " 16    4.249150\n",
       " 17    5.541609\n",
       " 18    4.197907\n",
       " 19    6.724906\n",
       " 20    4.066050\n",
       " 21    4.451372\n",
       "Name: diff, dtype: float64"
      ]
     },
     "execution_count": 253,
     "metadata": {},
     "output_type": "execute_result"
    }
   ],
   "source": [
    "#imp_df['diff'].plot.hist(bins=30)\n",
    "imp_df.groupby('comb')['diff'].mean()"
   ]
  },
  {
   "cell_type": "code",
   "execution_count": 254,
   "id": "f0ae236a",
   "metadata": {},
   "outputs": [
    {
     "data": {
      "text/plain": [
       "<AxesSubplot: >"
      ]
     },
     "execution_count": 254,
     "metadata": {},
     "output_type": "execute_result"
    },
    {
     "data": {
      "image/png": "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\n",
      "text/plain": [
       "<Figure size 640x480 with 2 Axes>"
      ]
     },
     "metadata": {},
     "output_type": "display_data"
    }
   ],
   "source": [
    "sns.heatmap(\n",
    "imp_df.groupby('comb')['diff'].mean().values[1:].reshape(1,22),\n",
    "    cmap='coolwarm',\n",
    "    annot = np.asarray(list('IIELSNTADKIIGILAKSIERL')).reshape(1,22), fmt=\"\"\n",
    ")"
   ]
  },
  {
   "cell_type": "code",
   "execution_count": null,
   "id": "574a5abf",
   "metadata": {},
   "outputs": [],
   "source": []
  },
  {
   "cell_type": "code",
   "execution_count": 258,
   "id": "cb342903",
   "metadata": {},
   "outputs": [
    {
     "ename": "KeyboardInterrupt",
     "evalue": "",
     "output_type": "error",
     "traceback": [
      "\u001b[0;31m---------------------------------------------------------------------------\u001b[0m",
      "\u001b[0;31mKeyboardInterrupt\u001b[0m                         Traceback (most recent call last)",
      "Cell \u001b[0;32mIn[258], line 43\u001b[0m\n\u001b[1;32m     40\u001b[0m     newj \u001b[38;5;241m=\u001b[39m i\n\u001b[1;32m     42\u001b[0m rot_diff \u001b[38;5;241m=\u001b[39m \u001b[38;5;28mabs\u001b[39m(rot_max \u001b[38;5;241m-\u001b[39m rot_min)\n\u001b[0;32m---> 43\u001b[0m rot_min_row \u001b[38;5;241m=\u001b[39m \u001b[43mg\u001b[49m\u001b[38;5;241;43m.\u001b[39;49m\u001b[43miloc\u001b[49m\u001b[43m[\u001b[49m\u001b[43mnewi\u001b[49m\u001b[43m]\u001b[49m\n\u001b[1;32m     44\u001b[0m rot_max_row \u001b[38;5;241m=\u001b[39m g\u001b[38;5;241m.\u001b[39miloc[newj]  \n\u001b[1;32m     45\u001b[0m rot_min_desc \u001b[38;5;241m=\u001b[39m rot_min_row\u001b[38;5;241m.\u001b[39mdesc\u001b[38;5;241m.\u001b[39msplit(\u001b[38;5;124m'\u001b[39m\u001b[38;5;124m/\u001b[39m\u001b[38;5;124m'\u001b[39m)[\u001b[38;5;241m0\u001b[39m]\n",
      "File \u001b[0;32m~/miniconda3/envs/hamppred/lib/python3.10/site-packages/pandas/core/indexing.py:1073\u001b[0m, in \u001b[0;36m_LocationIndexer.__getitem__\u001b[0;34m(self, key)\u001b[0m\n\u001b[1;32m   1070\u001b[0m axis \u001b[38;5;241m=\u001b[39m \u001b[38;5;28mself\u001b[39m\u001b[38;5;241m.\u001b[39maxis \u001b[38;5;129;01mor\u001b[39;00m \u001b[38;5;241m0\u001b[39m\n\u001b[1;32m   1072\u001b[0m maybe_callable \u001b[38;5;241m=\u001b[39m com\u001b[38;5;241m.\u001b[39mapply_if_callable(key, \u001b[38;5;28mself\u001b[39m\u001b[38;5;241m.\u001b[39mobj)\n\u001b[0;32m-> 1073\u001b[0m \u001b[38;5;28;01mreturn\u001b[39;00m \u001b[38;5;28;43mself\u001b[39;49m\u001b[38;5;241;43m.\u001b[39;49m\u001b[43m_getitem_axis\u001b[49m\u001b[43m(\u001b[49m\u001b[43mmaybe_callable\u001b[49m\u001b[43m,\u001b[49m\u001b[43m \u001b[49m\u001b[43maxis\u001b[49m\u001b[38;5;241;43m=\u001b[39;49m\u001b[43maxis\u001b[49m\u001b[43m)\u001b[49m\n",
      "File \u001b[0;32m~/miniconda3/envs/hamppred/lib/python3.10/site-packages/pandas/core/indexing.py:1627\u001b[0m, in \u001b[0;36m_iLocIndexer._getitem_axis\u001b[0;34m(self, key, axis)\u001b[0m\n\u001b[1;32m   1624\u001b[0m \u001b[38;5;66;03m# validate the location\u001b[39;00m\n\u001b[1;32m   1625\u001b[0m \u001b[38;5;28mself\u001b[39m\u001b[38;5;241m.\u001b[39m_validate_integer(key, axis)\n\u001b[0;32m-> 1627\u001b[0m \u001b[38;5;28;01mreturn\u001b[39;00m \u001b[38;5;28;43mself\u001b[39;49m\u001b[38;5;241;43m.\u001b[39;49m\u001b[43mobj\u001b[49m\u001b[38;5;241;43m.\u001b[39;49m\u001b[43m_ixs\u001b[49m\u001b[43m(\u001b[49m\u001b[43mkey\u001b[49m\u001b[43m,\u001b[49m\u001b[43m \u001b[49m\u001b[43maxis\u001b[49m\u001b[38;5;241;43m=\u001b[39;49m\u001b[43maxis\u001b[49m\u001b[43m)\u001b[49m\n",
      "File \u001b[0;32m~/miniconda3/envs/hamppred/lib/python3.10/site-packages/pandas/core/frame.py:3714\u001b[0m, in \u001b[0;36mDataFrame._ixs\u001b[0;34m(self, i, axis)\u001b[0m\n\u001b[1;32m   3712\u001b[0m \u001b[38;5;66;03m# irow\u001b[39;00m\n\u001b[1;32m   3713\u001b[0m \u001b[38;5;28;01mif\u001b[39;00m axis \u001b[38;5;241m==\u001b[39m \u001b[38;5;241m0\u001b[39m:\n\u001b[0;32m-> 3714\u001b[0m     new_mgr \u001b[38;5;241m=\u001b[39m \u001b[38;5;28;43mself\u001b[39;49m\u001b[38;5;241;43m.\u001b[39;49m\u001b[43m_mgr\u001b[49m\u001b[38;5;241;43m.\u001b[39;49m\u001b[43mfast_xs\u001b[49m\u001b[43m(\u001b[49m\u001b[43mi\u001b[49m\u001b[43m)\u001b[49m\n\u001b[1;32m   3716\u001b[0m     \u001b[38;5;66;03m# if we are a copy, mark as such\u001b[39;00m\n\u001b[1;32m   3717\u001b[0m     copy \u001b[38;5;241m=\u001b[39m \u001b[38;5;28misinstance\u001b[39m(new_mgr\u001b[38;5;241m.\u001b[39marray, np\u001b[38;5;241m.\u001b[39mndarray) \u001b[38;5;129;01mand\u001b[39;00m new_mgr\u001b[38;5;241m.\u001b[39marray\u001b[38;5;241m.\u001b[39mbase \u001b[38;5;129;01mis\u001b[39;00m \u001b[38;5;28;01mNone\u001b[39;00m\n",
      "File \u001b[0;32m~/miniconda3/envs/hamppred/lib/python3.10/site-packages/pandas/core/internals/managers.py:1099\u001b[0m, in \u001b[0;36mBlockManager.fast_xs\u001b[0;34m(self, loc)\u001b[0m\n\u001b[1;32m   1096\u001b[0m     ref \u001b[38;5;241m=\u001b[39m weakref\u001b[38;5;241m.\u001b[39mref(\u001b[38;5;28mself\u001b[39m\u001b[38;5;241m.\u001b[39mblocks[\u001b[38;5;241m0\u001b[39m])\n\u001b[1;32m   1097\u001b[0m     \u001b[38;5;28;01mreturn\u001b[39;00m SingleBlockManager(block, \u001b[38;5;28mself\u001b[39m\u001b[38;5;241m.\u001b[39maxes[\u001b[38;5;241m0\u001b[39m], [ref], parent\u001b[38;5;241m=\u001b[39m\u001b[38;5;28mself\u001b[39m)\n\u001b[0;32m-> 1099\u001b[0m dtype \u001b[38;5;241m=\u001b[39m \u001b[43minterleaved_dtype\u001b[49m\u001b[43m(\u001b[49m\u001b[43m[\u001b[49m\u001b[43mblk\u001b[49m\u001b[38;5;241;43m.\u001b[39;49m\u001b[43mdtype\u001b[49m\u001b[43m \u001b[49m\u001b[38;5;28;43;01mfor\u001b[39;49;00m\u001b[43m \u001b[49m\u001b[43mblk\u001b[49m\u001b[43m \u001b[49m\u001b[38;5;129;43;01min\u001b[39;49;00m\u001b[43m \u001b[49m\u001b[38;5;28;43mself\u001b[39;49m\u001b[38;5;241;43m.\u001b[39;49m\u001b[43mblocks\u001b[49m\u001b[43m]\u001b[49m\u001b[43m)\u001b[49m\n\u001b[1;32m   1101\u001b[0m n \u001b[38;5;241m=\u001b[39m \u001b[38;5;28mlen\u001b[39m(\u001b[38;5;28mself\u001b[39m)\n\u001b[1;32m   1103\u001b[0m \u001b[38;5;66;03m# GH#46406\u001b[39;00m\n",
      "File \u001b[0;32m~/miniconda3/envs/hamppred/lib/python3.10/site-packages/pandas/core/internals/base.py:226\u001b[0m, in \u001b[0;36minterleaved_dtype\u001b[0;34m(dtypes)\u001b[0m\n\u001b[1;32m    223\u001b[0m \u001b[38;5;28;01mif\u001b[39;00m \u001b[38;5;129;01mnot\u001b[39;00m \u001b[38;5;28mlen\u001b[39m(dtypes):\n\u001b[1;32m    224\u001b[0m     \u001b[38;5;28;01mreturn\u001b[39;00m \u001b[38;5;28;01mNone\u001b[39;00m\n\u001b[0;32m--> 226\u001b[0m \u001b[38;5;28;01mreturn\u001b[39;00m \u001b[43mfind_common_type\u001b[49m\u001b[43m(\u001b[49m\u001b[43mdtypes\u001b[49m\u001b[43m)\u001b[49m\n",
      "File \u001b[0;32m~/miniconda3/envs/hamppred/lib/python3.10/site-packages/pandas/core/dtypes/cast.py:1619\u001b[0m, in \u001b[0;36mfind_common_type\u001b[0;34m(types)\u001b[0m\n\u001b[1;32m   1616\u001b[0m \u001b[38;5;66;03m# get unique types (dict.fromkeys is used as order-preserving set())\u001b[39;00m\n\u001b[1;32m   1617\u001b[0m types \u001b[38;5;241m=\u001b[39m \u001b[38;5;28mlist\u001b[39m(\u001b[38;5;28mdict\u001b[39m\u001b[38;5;241m.\u001b[39mfromkeys(types)\u001b[38;5;241m.\u001b[39mkeys())\n\u001b[0;32m-> 1619\u001b[0m \u001b[38;5;28;01mif\u001b[39;00m \u001b[38;5;28;43many\u001b[39;49m\u001b[43m(\u001b[49m\u001b[38;5;28;43misinstance\u001b[39;49m\u001b[43m(\u001b[49m\u001b[43mt\u001b[49m\u001b[43m,\u001b[49m\u001b[43m \u001b[49m\u001b[43mExtensionDtype\u001b[49m\u001b[43m)\u001b[49m\u001b[43m \u001b[49m\u001b[38;5;28;43;01mfor\u001b[39;49;00m\u001b[43m \u001b[49m\u001b[43mt\u001b[49m\u001b[43m \u001b[49m\u001b[38;5;129;43;01min\u001b[39;49;00m\u001b[43m \u001b[49m\u001b[43mtypes\u001b[49m\u001b[43m)\u001b[49m:\n\u001b[1;32m   1620\u001b[0m     \u001b[38;5;28;01mfor\u001b[39;00m t \u001b[38;5;129;01min\u001b[39;00m types:\n\u001b[1;32m   1621\u001b[0m         \u001b[38;5;28;01mif\u001b[39;00m \u001b[38;5;28misinstance\u001b[39m(t, ExtensionDtype):\n",
      "File \u001b[0;32m~/miniconda3/envs/hamppred/lib/python3.10/site-packages/pandas/core/dtypes/cast.py:1619\u001b[0m, in \u001b[0;36m<genexpr>\u001b[0;34m(.0)\u001b[0m\n\u001b[1;32m   1616\u001b[0m \u001b[38;5;66;03m# get unique types (dict.fromkeys is used as order-preserving set())\u001b[39;00m\n\u001b[1;32m   1617\u001b[0m types \u001b[38;5;241m=\u001b[39m \u001b[38;5;28mlist\u001b[39m(\u001b[38;5;28mdict\u001b[39m\u001b[38;5;241m.\u001b[39mfromkeys(types)\u001b[38;5;241m.\u001b[39mkeys())\n\u001b[0;32m-> 1619\u001b[0m \u001b[38;5;28;01mif\u001b[39;00m \u001b[38;5;28many\u001b[39m(\u001b[38;5;28;43misinstance\u001b[39;49m\u001b[43m(\u001b[49m\u001b[43mt\u001b[49m\u001b[43m,\u001b[49m\u001b[43m \u001b[49m\u001b[43mExtensionDtype\u001b[49m\u001b[43m)\u001b[49m \u001b[38;5;28;01mfor\u001b[39;00m t \u001b[38;5;129;01min\u001b[39;00m types):\n\u001b[1;32m   1620\u001b[0m     \u001b[38;5;28;01mfor\u001b[39;00m t \u001b[38;5;129;01min\u001b[39;00m types:\n\u001b[1;32m   1621\u001b[0m         \u001b[38;5;28;01mif\u001b[39;00m \u001b[38;5;28misinstance\u001b[39m(t, ExtensionDtype):\n",
      "\u001b[0;31mKeyboardInterrupt\u001b[0m: "
     ]
    }
   ],
   "source": [
    "method = 'aux'\n",
    "\n",
    "profile_phobos_change = []\n",
    "profile_size_change =[]\n",
    "profile_rot_change = []\n",
    "\n",
    "res = []\n",
    "\n",
    "for clust_id, g in (data_df.groupby('clust_id')):\n",
    "    size = len(g)\n",
    "    if size<2: continue\n",
    "        \n",
    "    # max rot diff\n",
    "#     rot_min_row = g.iloc[g[f'rot_{method}'].argmin()]\n",
    "#     rot_max_row = g.iloc[g[f'rot_{method}'].argmax()]\n",
    "#     rot_diff = rot_max_row[f'rot_{method}'] - rot_min_row[f'rot_{method}']\n",
    "#     seq_diff = sequence_identity(rot_max_row.sequence, rot_min_row.sequence)   \n",
    "        \n",
    "    # max seq ident    \n",
    "#     seq_diff, i, j = max_ident(g.sequence.tolist())\n",
    "#     rot_diff = abs(g.iloc[i][f'rot_{method}'] - g.iloc[j][f'rot_{method}'])\n",
    "#     rot_min_row = g.iloc[i]\n",
    "#     rot_max_row = g.iloc[j]\n",
    "    \n",
    "    # all-vs-all seq ident\n",
    "    for seq_diff, i, j, mut_pos in all_ident(g.sequence.tolist()):\n",
    "        if len(mut_pos) != 1: continue\n",
    "        mut_pos_new = mut_pos[0]\n",
    "            \n",
    "        # gather data\n",
    "        rot_min = g.iloc[i][f'rot_{method}'] \n",
    "        rot_max = g.iloc[j][f'rot_{method}']\n",
    "        \n",
    "        newi, newj = i,j\n",
    "        if rot_min>rot_max:\n",
    "            #tmp = rot_max\n",
    "            #rot_max = rot_min\n",
    "            #rot_min = tmp\n",
    "            newi = j\n",
    "            newj = i\n",
    "        \n",
    "        rot_diff = abs(rot_max - rot_min)\n",
    "        rot_min_row = g.iloc[newi]\n",
    "        rot_max_row = g.iloc[newj]  \n",
    "        rot_min_desc = rot_min_row.desc.split('/')[0]\n",
    "        rot_max_desc = rot_max_row.desc.split('/')[0]\n",
    "        \n",
    "        # describe mutation type\n",
    "#         aa1 = rot_min_row.sequence[mut_pos_new]\n",
    "#         aa2 = rot_max_row.sequence[mut_pos_new]\n",
    "#         phobos_diff = abs(phobos[aa2] - phobos[aa1])\n",
    "#         size_diff = abs(radius[aa1] - radius[aa2])\n",
    "        \n",
    "#         profile_phobos_change.append(phobos_diff)\n",
    "#         profile_size_change.append(size_diff)\n",
    "#         profile_rot_change.append(rot_diff)\n",
    "\n",
    "        #func_min = protein2function_df.loc[rot_min_desc]\n",
    "        #func_max = protein2function_df.loc[rot_max_desc]\n",
    "        \n",
    "        color = mut_pos_new\n",
    "                \n",
    "        #if len(data_df[data_df.desc.str.startswith(rot_min_desc)])>1:\n",
    "        #    color='red'\n",
    "            \n",
    "        res.append([clust_id, seq_diff, rot_diff, rot_min, rot_max, color, rot_min_row.name, rot_max_row.name])\n",
    "        \n",
    "#         if (rot_diff>=5 and method=='main') or (rot_diff>=9 and method=='aux'):\n",
    "#             compare_sequences(rot_min_row, rot_max_row, method)\n",
    "#             print(rot_min_desc, rot_max_desc, clust_id )\n",
    "#             print(phobos_diff, aa1, aa2)\n",
    "        \n",
    "        \n",
    "res_df = pd.DataFrame(res, columns=['clust_id', 'seq_diff', 'rot_diff', 'rot_min', 'rot_max', 'color', \n",
    "                                   'row_min_id', 'row_max_id'])\n",
    "len(res_df)"
   ]
  },
  {
   "cell_type": "code",
   "execution_count": null,
   "id": "50709d31",
   "metadata": {},
   "outputs": [],
   "source": []
  }
 ],
 "metadata": {
  "kernelspec": {
   "display_name": "Python 3 (ipykernel)",
   "language": "python",
   "name": "python3"
  },
  "language_info": {
   "codemirror_mode": {
    "name": "ipython",
    "version": 3
   },
   "file_extension": ".py",
   "mimetype": "text/x-python",
   "name": "python",
   "nbconvert_exporter": "python",
   "pygments_lexer": "ipython3",
   "version": "3.9.0"
  }
 },
 "nbformat": 4,
 "nbformat_minor": 5
}
