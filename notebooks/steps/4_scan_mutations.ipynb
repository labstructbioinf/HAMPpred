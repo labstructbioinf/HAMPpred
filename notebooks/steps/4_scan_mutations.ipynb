{
 "cells": [
  {
   "cell_type": "code",
   "execution_count": 1,
   "id": "41bd0e2d",
   "metadata": {},
   "outputs": [
    {
     "name": "stderr",
     "output_type": "stream",
     "text": [
      "2023-05-02 14:01:55.543697: I tensorflow/core/platform/cpu_feature_guard.cc:193] This TensorFlow binary is optimized with oneAPI Deep Neural Network Library (oneDNN) to use the following CPU instructions in performance-critical operations:  AVX2 FMA\n",
      "To enable them in other operations, rebuild TensorFlow with the appropriate compiler flags.\n",
      "2023-05-02 14:01:55.677489: E tensorflow/stream_executor/cuda/cuda_blas.cc:2981] Unable to register cuBLAS factory: Attempting to register factory for plugin cuBLAS when one has already been registered\n",
      "2023-05-02 14:01:56.248575: W tensorflow/stream_executor/platform/default/dso_loader.cc:64] Could not load dynamic library 'libnvinfer.so.7'; dlerror: libnvinfer.so.7: cannot open shared object file: No such file or directory\n",
      "2023-05-02 14:01:56.248658: W tensorflow/stream_executor/platform/default/dso_loader.cc:64] Could not load dynamic library 'libnvinfer_plugin.so.7'; dlerror: libnvinfer_plugin.so.7: cannot open shared object file: No such file or directory\n",
      "2023-05-02 14:01:56.248666: W tensorflow/compiler/tf2tensorrt/utils/py_utils.cc:38] TF-TRT Warning: Cannot dlopen some TensorRT libraries. If you would like to use Nvidia GPU with TensorRT, please make sure the missing libraries mentioned above are installed properly.\n"
     ]
    }
   ],
   "source": [
    "import sys\n",
    "import os\n",
    "import pickle\n",
    "import pandas as pd\n",
    "import matplotlib.pyplot as plt\n",
    "import numpy as np\n",
    "import seaborn as sns\n",
    "\n",
    "from tqdm import tqdm\n",
    "from Bio import SeqIO\n",
    "from Bio.Align import substitution_matrices\n",
    "from Bio import pairwise2\n",
    "\n",
    "sys.path.append('../../')\n",
    "from hamp_pred.external.lbs.sequence import mmseqs2\n",
    "from hamp_pred.src.input_prep.encode import radius, phobos\n",
    "from hamp_pred.src.predictor import Predictor\n",
    "from hamp_pred.src.input_prep.prepare_sequence import MultiChainOperator, SeqWindow\n",
    "from hamp_pred.src.input_prep.encode import RadianEncoder, MultiEncoder, OneHotEncoderSeq, RadiousPhobosEncoder\n",
    "from hamp_pred.src.predictor_config import  PredictionConfig\n",
    "from hamp_pred.src.models.common.models import BaseConvolutionalWrapper"
   ]
  },
  {
   "cell_type": "code",
   "execution_count": 2,
   "id": "d337a0e2",
   "metadata": {},
   "outputs": [],
   "source": [
    "def sequence_identity(seq1, seq2):\n",
    "    identical = sum(1 for a, b in zip(seq1, seq2) if a == b)\n",
    "    identity = identical / len(seq1) * 100\n",
    "    return identity\n",
    "\n",
    "def sequence_similarity(seq1, seq2):\n",
    "    matrix = substitution_matrices.load('blosum62')\n",
    "    alignments = pairwise2.align.globalds(seq1, seq2, matrix, -10, -0.5)\n",
    "    best_alignment = alignments[0]\n",
    "    similarity = best_alignment[2] / best_alignment[4]\n",
    "    return similarity"
   ]
  },
  {
   "cell_type": "code",
   "execution_count": 3,
   "id": "2ec7765f",
   "metadata": {},
   "outputs": [],
   "source": [
    "DATA_DIR = './../../data/input/'"
   ]
  },
  {
   "cell_type": "markdown",
   "id": "f19fb695",
   "metadata": {},
   "source": [
    "# Load model"
   ]
  },
  {
   "cell_type": "code",
   "execution_count": 4,
   "id": "1a76364c",
   "metadata": {},
   "outputs": [],
   "source": [
    "operator = MultiChainOperator(MultiEncoder([RadiousPhobosEncoder(), OneHotEncoderSeq()]), SeqWindow(11, 11), RadianEncoder(100),  SeqWindow(11, 11, null_char=[[0]]),\n",
    "                                      parallel=True)\n",
    "model_conf = {'activation': 'tanh',\n",
    " 'norm': True,\n",
    " 'n_layers': 3,\n",
    " 'kernel_sizes': (3, 4, 7),\n",
    " 'lstm': 2,\n",
    " 'dense': 1,\n",
    " 'reshape_out': False,\n",
    " 'epochs': 100,\n",
    " 'task': 'hamp_rot',\n",
    " 'version': '3_4_7_3_2_1',\n",
    " 'data_dir': '/home/users/sdunin/calc/HAMPpred/data/output/weights/hamp_rot/3_4_7_3_2_1'}\n",
    "\n",
    "conf = PredictionConfig(BaseConvolutionalWrapper, operator, model_conf)\n",
    "clf_main = Predictor('hamp_rot', config=conf, version='3_4_7_3_2_1')\n"
   ]
  },
  {
   "cell_type": "markdown",
   "id": "53d69e22",
   "metadata": {},
   "source": [
    "### Check performance on validation set"
   ]
  },
  {
   "cell_type": "code",
   "execution_count": 5,
   "id": "52668d1e",
   "metadata": {},
   "outputs": [],
   "source": [
    "data = f'{DATA_DIR}/af2_clean_model_1.p'\n",
    "data = pd.read_pickle(data)\n",
    "\n",
    "data = data[data['class'] == 'val']\n",
    "data['n_seq'] = data['n_seq'].apply(lambda x: x[1:-1])\n",
    "data['c_seq'] = data['c_seq'].apply(lambda x: x[1:-1])\n",
    "data['sequence'] = data.apply(lambda x: x['n_seq'] + x['c_seq'], axis=1)\n"
   ]
  },
  {
   "cell_type": "code",
   "execution_count": 6,
   "id": "fb82d459",
   "metadata": {},
   "outputs": [
    {
     "name": "stderr",
     "output_type": "stream",
     "text": [
      "2023-04-28 13:22:12.468909: I tensorflow/core/platform/cpu_feature_guard.cc:193] This TensorFlow binary is optimized with oneAPI Deep Neural Network Library (oneDNN) to use the following CPU instructions in performance-critical operations:  AVX2 FMA\n",
      "To enable them in other operations, rebuild TensorFlow with the appropriate compiler flags.\n",
      "2023-04-28 13:22:13.011141: I tensorflow/core/common_runtime/gpu/gpu_device.cc:1616] Created device /job:localhost/replica:0/task:0/device:GPU:0 with 7380 MB memory:  -> device: 0, name: NVIDIA GeForce GTX 1080, pci bus id: 0000:01:00.0, compute capability: 6.1\n",
      "2023-04-28 13:22:15.830903: I tensorflow/stream_executor/cuda/cuda_dnn.cc:384] Loaded cuDNN version 8204\n",
      "2023-04-28 13:22:16.076946: I tensorflow/core/platform/default/subprocess.cc:304] Start cannot spawn child process: No such file or directory\n",
      "2023-04-28 13:22:16.077301: I tensorflow/core/platform/default/subprocess.cc:304] Start cannot spawn child process: No such file or directory\n",
      "2023-04-28 13:22:16.077323: W tensorflow/stream_executor/gpu/asm_compiler.cc:80] Couldn't get ptxas version string: INTERNAL: Couldn't invoke ptxas --version\n",
      "2023-04-28 13:22:16.077974: I tensorflow/core/platform/default/subprocess.cc:304] Start cannot spawn child process: No such file or directory\n",
      "2023-04-28 13:22:16.078021: W tensorflow/stream_executor/gpu/redzone_allocator.cc:314] INTERNAL: Failed to launch ptxas\n",
      "Relying on driver to perform ptx compilation. \n",
      "Modify $PATH to customize ptxas location.\n",
      "This message will be only logged once.\n"
     ]
    },
    {
     "name": "stdout",
     "output_type": "stream",
     "text": [
      "1/1 [==============================] - 2s 2s/step\n"
     ]
    }
   ],
   "source": [
    "val_pred_main = clf_main.predict(data.sequence.tolist())"
   ]
  },
  {
   "cell_type": "code",
   "execution_count": 7,
   "id": "6a4a3e04",
   "metadata": {},
   "outputs": [],
   "source": [
    "data['rot_main'] = val_pred_main.N_pred.apply(lambda x:np.mean(x)/2).tolist()"
   ]
  },
  {
   "cell_type": "code",
   "execution_count": 8,
   "id": "19549852",
   "metadata": {},
   "outputs": [
    {
     "data": {
      "text/plain": [
       "(-26.0, 26.0)"
      ]
     },
     "execution_count": 8,
     "metadata": {},
     "output_type": "execute_result"
    },
    {
     "data": {
      "image/png": "[encoded data removed]",
      "text/plain": [
       "<Figure size 600x600 with 1 Axes>"
      ]
     },
     "metadata": {
      "needs_background": "light"
     },
     "output_type": "display_data"
    }
   ],
   "source": [
    "import matplotlib as mpl\n",
    "fig, ax = plt.subplots(1,1, figsize=(6, 6), dpi=100)\n",
    "\n",
    "ax.hist2d(data.rot_main, data.rot_mean/2, bins=20, cmap='Reds', norm=mpl.colors.LogNorm());\n",
    "ax.set_xlim(-26, 26)\n",
    "ax.set_ylim(-26, 26)"
   ]
  },
  {
   "cell_type": "markdown",
   "id": "b4031038",
   "metadata": {},
   "source": [
    "# Score HAMP sequences"
   ]
  },
  {
   "cell_type": "markdown",
   "id": "253fabb1",
   "metadata": {},
   "source": [
    "### Get HAMP sequences"
   ]
  },
  {
   "cell_type": "code",
   "execution_count": 9,
   "id": "bbfc1986",
   "metadata": {},
   "outputs": [
    {
     "data": {
      "text/plain": [
       "71152"
      ]
     },
     "execution_count": 9,
     "metadata": {},
     "output_type": "execute_result"
    }
   ],
   "source": [
    "msa = SeqIO.parse(os.path.join(DATA_DIR, 'PF00672.alignment.full'), 'stockholm')\n",
    "\n",
    "res = []\n",
    "for s in msa:\n",
    "    n_helix = str(s.seq[35:52])\n",
    "    c_helix = str(s.seq[154:169])\n",
    "\n",
    "    # uniprot MSA\n",
    "    #n_helix = str(s.seq[8:50]).replace('-','')\n",
    "    #c_helix = str(s.seq[183:216]).replace('-','') \n",
    "    \n",
    "    n_helix_degap = n_helix.replace('-','')\n",
    "    c_helix_degap = c_helix.replace('-','')\n",
    "    \n",
    "    if len(n_helix_degap) == len(c_helix_degap) == 13:\n",
    "        res.append([n_helix_degap, c_helix_degap, s.description])\n",
    "    #else:\n",
    "        #print(n_helix, '   ', c_helix)\n",
    "        #break\n",
    "len(res)      "
   ]
  },
  {
   "cell_type": "code",
   "execution_count": 10,
   "id": "8f729efd",
   "metadata": {},
   "outputs": [
    {
     "data": {
      "text/plain": [
       "59456"
      ]
     },
     "execution_count": 10,
     "metadata": {},
     "output_type": "execute_result"
    }
   ],
   "source": [
    "data_df = pd.DataFrame(res, columns=['n_seq', 'c_seq', 'desc'])\n",
    "data_df['n_seq'] = data_df['n_seq'].apply(lambda x:x[1:-1])\n",
    "data_df['c_seq'] = data_df['c_seq'].apply(lambda x:x[1:-1])\n",
    "assert all(data_df['n_seq'].str.len() == 11)\n",
    "assert all(data_df['c_seq'].str.len() == 11)\n",
    "data_df['sequence'] = data_df['n_seq'] + data_df['c_seq'] # for mmseqs2 clustering\n",
    "data_df.drop_duplicates(subset = 'sequence', inplace=True)\n",
    "data_df.drop(data_df[data_df.sequence.str.find('X')>-1].index, inplace=True)\n",
    "len(data_df)"
   ]
  },
  {
   "cell_type": "markdown",
   "id": "7899dc0c",
   "metadata": {},
   "source": [
    "### Score with the main model"
   ]
  },
  {
   "cell_type": "code",
   "execution_count": 11,
   "id": "8c4575ab",
   "metadata": {},
   "outputs": [
    {
     "name": "stdout",
     "output_type": "stream",
     "text": [
      "59/59 [==============================] - 2s 18ms/step\n"
     ]
    }
   ],
   "source": [
    "#score with the main model \n",
    "res_pred = clf_main.predict(data_df.sequence.tolist())"
   ]
  },
  {
   "cell_type": "code",
   "execution_count": 12,
   "id": "fb3f22cf",
   "metadata": {},
   "outputs": [],
   "source": [
    "data_df['rot_main'] = res_pred.N_pred.apply(lambda x:np.mean(x)/2).tolist()"
   ]
  },
  {
   "cell_type": "code",
   "execution_count": 13,
   "id": "691f2d14",
   "metadata": {},
   "outputs": [],
   "source": [
    "data_df.to_pickle(os.path.join(DATA_DIR, 'scan.p'))"
   ]
  },
  {
   "cell_type": "markdown",
   "id": "e04fb631",
   "metadata": {},
   "source": [
    "### Set-up"
   ]
  },
  {
   "cell_type": "code",
   "execution_count": 5,
   "id": "1bb27ef4",
   "metadata": {},
   "outputs": [],
   "source": [
    "clusterTool = mmseqs2.MMSeqsClusterer()"
   ]
  },
  {
   "cell_type": "code",
   "execution_count": 6,
   "id": "4694a07f",
   "metadata": {},
   "outputs": [
    {
     "data": {
      "text/plain": [
       "59456"
      ]
     },
     "execution_count": 6,
     "metadata": {},
     "output_type": "execute_result"
    }
   ],
   "source": [
    "data_df = pd.read_pickle(os.path.join(DATA_DIR, 'scan.p'))\n",
    "len(data_df)"
   ]
  },
  {
   "cell_type": "markdown",
   "id": "b84ceb26",
   "metadata": {},
   "source": [
    "### Analyses"
   ]
  },
  {
   "cell_type": "code",
   "execution_count": 7,
   "id": "84d52479",
   "metadata": {},
   "outputs": [
    {
     "name": "stdout",
     "output_type": "stream",
     "text": [
      "createdb /tmp/akybqjei tmp/10990835140230565654/input --max-seq-len 65535 --dont-split-seq-by-len 1 --dbtype 0 --dont-shuffle 1 --id-offset 0 --compressed 0 -v 3 \n",
      "\n",
      "Converting sequences\n",
      "[=====\n",
      "Time for merging files: 0h 0m 0s 21ms\n",
      "Time for merging files: 0h 0m 0s 19ms\n",
      "Time for merging files: 0h 0m 0s 4ms\n",
      "Time for processing: 0h 0m 0s 213ms\n",
      "cluster tmp/10990835140230565654/input tmp/10990835140230565654/clu tmp/10990835140230565654/clu_tmp -c 0.5 --cov-mode 0 --min-seq-id 0.8 --cluster-mode 1 \n",
      "\n",
      "Tmp tmp/10990835140230565654/clu_tmp folder does not exist or is not a directory.\n",
      "Created dir tmp/10990835140230565654/clu_tmp\n",
      "Set cluster settings automatically to s=1.000000\n",
      "connected component clustering produces less clusters in a single step clustering.\n",
      "Please use --single-step-clusterkmermatcher tmp/10990835140230565654/input tmp/10990835140230565654/clu_tmp/3427935024038527383/linclust/661200453242525062/pref --sub-mat blosum62.out --alph-size 13 --min-seq-id 0.8 --kmer-per-seq 21 --adjust-kmer-len 0 --mask 0 --mask-lower-case 0 --cov-mode 0 -k 0 -c 0.5 --max-seq-len 65535 --hash-shift 5 --split-memory-limit 0 --include-only-extendable 0 --skip-n-repeat-kmer 0 --threads 20 --compressed 0 -v 3 \n",
      "\n",
      "Database size: 59456 type: Aminoacid\n",
      "Reduced amino acid alphabet: (A S T) (C) (D B N) (E Q Z) (F Y) (G) (H) (I V) (K R) (L J M) (P) (W) (X) \n",
      "\n",
      "Estimated memory consumption 11 MB\n",
      "Generate k-mers list for 1 split\n",
      "[=================================================================] 59.46K 0s 8ms\n",
      "Sort kmer 0h 0m 0s 36ms\n",
      "Sort by rep. sequence 0h 0m 0s 19ms\n",
      "Time for fill: 0h 0m 0s 9ms\n",
      "Time for merging files: 0h 0m 0s 11ms\n",
      "Time for processing: 0h 0m 0s 127ms\n",
      "rescorediagonal tmp/10990835140230565654/input tmp/10990835140230565654/input tmp/10990835140230565654/clu_tmp/3427935024038527383/linclust/661200453242525062/pref tmp/10990835140230565654/clu_tmp/3427935024038527383/linclust/661200453242525062/pref_rescore1 --sub-mat blosum62.out --rescore-mode 0 --filter-hits 0 -e 0.001 -c 0.5 -a 0 --cov-mode 0 --min-seq-id 0.8 --min-aln-len 0 --seq-id-mode 0 --add-self-matches 0 --sort-results 0 --global-alignment 0 --db-load-mode 0 --threads 20 --compressed 0 -v 3 \n",
      "\n",
      "[=================================================================] 59.46K 0s 14ms\n",
      "Time for merging files: 0h 0m 0s 16ms\n",
      "Time for processing: 0h 0m 0s 46ms\n",
      "clust tmp/10990835140230565654/input tmp/10990835140230565654/clu_tmp/3427935024038527383/linclust/661200453242525062/pref_rescore1 tmp/10990835140230565654/clu_tmp/3427935024038527383/linclust/661200453242525062/pre_clust --cluster-mode 1 --max-iterations 1000 --similarity-type 2 --threads 20 --compressed 0 -v 3 \n",
      "\n",
      "Clustering mode: Connected Component\n",
      "[=================================================================] 59.46K 0s 3ms\n",
      "Sort entries\n",
      "Find missing connections\n",
      "Found 27274 new connections.\n",
      "Reconstruct initial order\n",
      "[=================================================================] 59.46K 0s 2ms\n",
      "Add missing connections\n",
      "[=================================================================] 59.46K 0s 2ms\n",
      "\n",
      "Time for read in: 0h 0m 0s 17ms\n",
      "connected component mode\n",
      "Total time: 0h 0m 0s 31ms\n",
      "\n",
      "Size of the sequence database: 59456\n",
      "Size of the alignment database: 59456\n",
      "Number of clusters: 40607\n",
      "\n",
      "Writing results 0h 0m 0s 7ms\n",
      "Time for merging files: 0h 0m 0s 11ms\n",
      "Time for processing: 0h 0m 0s 67ms\n",
      "createsubdb tmp/10990835140230565654/clu_tmp/3427935024038527383/linclust/661200453242525062/order_redundancy tmp/10990835140230565654/input tmp/10990835140230565654/clu_tmp/3427935024038527383/linclust/661200453242525062/input_step_redundancy \n",
      "\n",
      "Time for merging files: 0h 0m 0s 5ms\n",
      "Time for processing: 0h 0m 0s 22ms\n",
      "createsubdb tmp/10990835140230565654/clu_tmp/3427935024038527383/linclust/661200453242525062/order_redundancy tmp/10990835140230565654/clu_tmp/3427935024038527383/linclust/661200453242525062/pref tmp/10990835140230565654/clu_tmp/3427935024038527383/linclust/661200453242525062/pref_filter1 \n",
      "\n",
      "Time for merging files: 0h 0m 0s 4ms\n",
      "Time for processing: 0h 0m 0s 18ms\n",
      "filterdb tmp/10990835140230565654/clu_tmp/3427935024038527383/linclust/661200453242525062/pref_filter1 tmp/10990835140230565654/clu_tmp/3427935024038527383/linclust/661200453242525062/pref_filter2 --filter-file tmp/10990835140230565654/clu_tmp/3427935024038527383/linclust/661200453242525062/order_redundancy \n",
      "\n",
      "Filtering with a filter files.\n",
      "[=================================================================] 40.61K 0s 6ms\n",
      "Time for merging files: 0h 0m 0s 12ms\n",
      "Time for processing: 0h 0m 0s 34ms\n",
      "rescorediagonal tmp/10990835140230565654/clu_tmp/3427935024038527383/linclust/661200453242525062/input_step_redundancy tmp/10990835140230565654/clu_tmp/3427935024038527383/linclust/661200453242525062/input_step_redundancy tmp/10990835140230565654/clu_tmp/3427935024038527383/linclust/661200453242525062/pref_filter2 tmp/10990835140230565654/clu_tmp/3427935024038527383/linclust/661200453242525062/pref_rescore2 --sub-mat blosum62.out --rescore-mode 1 --filter-hits 1 -e 0.001 -c 0.5 -a 0 --cov-mode 0 --min-seq-id 0.8 --min-aln-len 0 --seq-id-mode 0 --add-self-matches 0 --sort-results 0 --global-alignment 0 --db-load-mode 0 --threads 20 --compressed 0 -v 3 \n",
      "\n",
      "[=================================================================] 40.61K 0s 12ms\n",
      "Time for merging files: 0h 0m 0s 13ms\n",
      "Time for processing: 0h 0m 0s 39ms\n",
      "align tmp/10990835140230565654/clu_tmp/3427935024038527383/linclust/661200453242525062/input_step_redundancy tmp/10990835140230565654/clu_tmp/3427935024038527383/linclust/661200453242525062/input_step_redundancy tmp/10990835140230565654/clu_tmp/3427935024038527383/linclust/661200453242525062/pref_rescore2 tmp/10990835140230565654/clu_tmp/3427935024038527383/linclust/661200453242525062/aln --sub-mat blosum62.out -a 0 --alignment-mode 3 -e 0.001 --min-seq-id 0.8 --min-aln-len 0 --seq-id-mode 0 --alt-ali 0 -c 0.5 --cov-mode 0 --max-seq-len 65535 --comp-bias-corr 0 --realign 0 --max-rejected 2147483647 --max-accept 2147483647 --add-self-matches 0 --db-load-mode 0 --pca 1 --pcb 1.5 --score-bias 0 --gap-open 11 --gap-extend 1 --threads 20 --compressed 0 -v 3 \n",
      "\n",
      "Compute score, coverage and sequence identity\n",
      "Query database size: 40607 type: Aminoacid\n",
      "Target database size: 40607 type: Aminoacid\n",
      "Calculation of alignments\n",
      "[=================================================================] 40.61K 0s 50ms\n",
      "Time for merging files: 0h 0m 0s 14ms\n",
      "\n",
      "111523 alignments calculated.\n",
      "40898 sequence pairs passed the thresholds (0.366723 of overall calculated).\n",
      "1.007166 hits per query sequence.\n",
      "Time for processing: 0h 0m 0s 83ms\n",
      "clust tmp/10990835140230565654/clu_tmp/3427935024038527383/linclust/661200453242525062/input_step_redundancy tmp/10990835140230565654/clu_tmp/3427935024038527383/linclust/661200453242525062/aln tmp/10990835140230565654/clu_tmp/3427935024038527383/linclust/661200453242525062/clust --cluster-mode 1 --max-iterations 1000 --similarity-type 2 --threads 20 --compressed 0 -v 3 \n",
      "\n",
      "Clustering mode: Connected Component\n",
      "[=================================================================] 40.61K 0s 4ms\n",
      "Sort entries\n",
      "Find missing connections\n",
      "Found 291 new connections.\n",
      "Reconstruct initial order\n",
      "[=================================================================] 40.61K 0s 2ms\n",
      "Add missing connections\n",
      "[=================================================================] 40.61K 0s 1ms\n",
      "\n",
      "Time for read in: 0h 0m 0s 16ms\n",
      "connected component mode\n",
      "Total time: 0h 0m 0s 26ms\n",
      "\n",
      "Size of the sequence database: 40607\n",
      "Size of the alignment database: 40607\n",
      "Number of clusters: 40317\n",
      "\n",
      "Writing results 0h 0m 0s 6ms\n",
      "Time for merging files: 0h 0m 0s 8ms\n",
      "Time for processing: 0h 0m 0s 52ms\n",
      "mergeclusters tmp/10990835140230565654/input tmp/10990835140230565654/clu_tmp/3427935024038527383/clu_redundancy tmp/10990835140230565654/clu_tmp/3427935024038527383/linclust/661200453242525062/pre_clust tmp/10990835140230565654/clu_tmp/3427935024038527383/linclust/661200453242525062/clust --threads 20 --compressed 0 -v 3 \n",
      "\n",
      "List amount 59456\n",
      "Clustering step 1\n",
      "Clustering step 2\n",
      "Writing the results\n",
      "Time for merging files: 0h 0m 0s 11ms\n",
      "Time for processing: 0h 0m 0s 41ms\n",
      "createsubdb tmp/10990835140230565654/clu_tmp/3427935024038527383/clu_redundancy tmp/10990835140230565654/input tmp/10990835140230565654/clu_tmp/3427935024038527383/input_step_redundancy \n",
      "\n",
      "Time for merging files: 0h 0m 0s 7ms\n",
      "Time for processing: 0h 0m 0s 25ms\n"
     ]
    },
    {
     "name": "stdout",
     "output_type": "stream",
     "text": [
      "prefilter tmp/10990835140230565654/clu_tmp/3427935024038527383/input_step_redundancy tmp/10990835140230565654/clu_tmp/3427935024038527383/input_step_redundancy tmp/10990835140230565654/clu_tmp/3427935024038527383/pref_step0 --sub-mat blosum62.out --seed-sub-mat VTML80.out -s 1 -k 0 --k-score 2147483647 --alph-size 21 --max-seq-len 65535 --max-seqs 20 --split 0 --split-mode 2 --split-memory-limit 0 -c 0.5 --cov-mode 0 --comp-bias-corr 0 --diag-score 0 --exact-kmer-matching 0 --mask 1 --mask-lower-case 0 --min-ungapped-score 0 --add-self-matches 0 --spaced-kmer-mode 1 --db-load-mode 0 --pca 1 --pcb 1.5 --threads 20 --compressed 0 -v 3 \n",
      "\n",
      "Using 20 threads.\n",
      "Estimated memory consumption 1020 MB\n",
      "Target database size: 40317 type: Aminoacid\n",
      "Query database size: 40317 type: Aminoacid\n",
      "Process prefiltering step 1 of 1\n",
      "\n",
      "Index table k-mer threshold: 154 at k-mer size 6 \n",
      "Index table: counting k-mers\n",
      "[=================================================================] 40.32K 0s 28ms\n",
      "Index table: Masked residues: 94\n",
      "Index table: fill\n",
      "[=================================================================] 40.32K 0s 4ms\n",
      "Index statistics\n",
      "Entries:          112501\n",
      "DB size:          488 MB\n",
      "Avg k-mer size:   0.001758\n",
      "Top 10 k-mers\n",
      "    IIQAFN\t271\n",
      "    IFEAFN\t146\n",
      "    IGMREV\t134\n",
      "    IGLRNR\t93\n",
      "    ILQGFN\t79\n",
      "    IGLRNQ\t79\n",
      "    MRLGAR\t68\n",
      "    IGMRQV\t67\n",
      "    IGLDNY\t58\n",
      "    VIQTFN\t52\n",
      "Time for index table init: 0h 0m 0s 493ms\n",
      "k-mer similarity threshold: 154\n",
      "\tk-mers per position = 0.245364, k-mer match probability: 0.000000\n",
      "k-mer match probability: 0.000000\n",
      "\n",
      "Starting prefiltering scores calculation (step 1 of 1)\n",
      "Query db start  1 to 40317\n",
      "Target db start  1 to 40317\n",
      "[=================================================================] 40.32K 0s 14ms\n",
      "\n",
      "0.183984 k-mers per position\n",
      "20 DB matches per sequence\n",
      "0 overflows\n",
      "6 sequences passed prefiltering per query sequence\n",
      "2 median result list length\n",
      "0 sequences with 0 size result lists\n",
      "\n",
      "Time for prefiltering scores calculation: 0h 0m 0s 21ms\n",
      "Time for merging files: 0h 0m 0s 12ms\n",
      "Time for processing: 0h 0m 0s 772ms\n",
      "align tmp/10990835140230565654/clu_tmp/3427935024038527383/input_step_redundancy tmp/10990835140230565654/clu_tmp/3427935024038527383/input_step_redundancy tmp/10990835140230565654/clu_tmp/3427935024038527383/pref_step0 tmp/10990835140230565654/clu_tmp/3427935024038527383/aln_step0 --sub-mat blosum62.out -a 0 --alignment-mode 3 -e 0.001 --min-seq-id 0.8 --min-aln-len 0 --seq-id-mode 0 --alt-ali 0 -c 0.5 --cov-mode 0 --max-seq-len 65535 --comp-bias-corr 0 --realign 0 --max-rejected 2147483647 --max-accept 2147483647 --add-self-matches 0 --db-load-mode 0 --pca 1 --pcb 1.5 --score-bias 0 --gap-open 11 --gap-extend 1 --threads 20 --compressed 0 -v 3 \n",
      "\n",
      "Compute score, coverage and sequence identity\n",
      "Query database size: 40317 type: Aminoacid\n",
      "Target database size: 40317 type: Aminoacid\n",
      "Calculation of alignments\n",
      "[=================================================================] 40.32K 0s 112ms\n",
      "Time for merging files: 0h 0m 0s 15ms\n",
      "\n",
      "270712 alignments calculated.\n",
      "44487 sequence pairs passed the thresholds (0.164333 of overall calculated).\n",
      "1.103430 hits per query sequence.\n",
      "Time for processing: 0h 0m 0s 148ms\n",
      "clust tmp/10990835140230565654/clu_tmp/3427935024038527383/input_step_redundancy tmp/10990835140230565654/clu_tmp/3427935024038527383/aln_step0 tmp/10990835140230565654/clu_tmp/3427935024038527383/clu_step0 --cluster-mode 1 --max-iterations 1000 --similarity-type 2 --threads 20 --compressed 0 -v 3 \n",
      "\n",
      "Clustering mode: Connected Component\n",
      "[=================================================================] 40.32K 0s 3ms\n",
      "Sort entries\n",
      "Find missing connections\n",
      "Found 492 new connections.\n",
      "Reconstruct initial order\n",
      "[=================================================================] 40.32K 0s 3ms\n",
      "Add missing connections\n",
      "[=================================================================] 40.32K 0s 1ms\n",
      "\n",
      "Time for read in: 0h 0m 0s 18ms\n",
      "connected component mode\n",
      "Total time: 0h 0m 0s 31ms\n",
      "\n",
      "Size of the sequence database: 40317\n",
      "Size of the alignment database: 40317\n",
      "Number of clusters: 38350\n",
      "\n",
      "Writing results 0h 0m 0s 5ms\n",
      "Time for merging files: 0h 0m 0s 9ms\n",
      "Time for processing: 0h 0m 0s 60ms\n",
      "mergeclusters tmp/10990835140230565654/input tmp/10990835140230565654/clu tmp/10990835140230565654/clu_tmp/3427935024038527383/clu_redundancy tmp/10990835140230565654/clu_tmp/3427935024038527383/clu_step0 --threads 20 --compressed 0 -v 3 \n",
      "\n",
      "List amount 59456\n",
      "Clustering step 1\n",
      "Clustering step 2\n",
      "Writing the results\n",
      "Time for merging files: 0h 0m 0s 13ms\n",
      "Time for processing: 0h 0m 0s 41ms\n",
      "createtsv tmp/10990835140230565654/input tmp/10990835140230565654/input tmp/10990835140230565654/clu tmp/10990835140230565654/cluster.tsv --threads 20 -v 3 \n",
      "\n",
      "Time for merging files: 0h 0m 0s 13ms\n",
      "Time for processing: 0h 0m 0s 32ms\n",
      "result2repseq tmp/10990835140230565654/input tmp/10990835140230565654/clu tmp/10990835140230565654/clu_rep --threads 20 -v 3 \n",
      "\n",
      "Start computing representative sequences.\n",
      "[=================================================================] 38.35K 0s 4ms\n",
      "\n",
      "Time for merging files: 0h 0m 0s 14ms\n",
      "Time for processing: 0h 0m 0s 32ms\n",
      "result2flat tmp/10990835140230565654/input tmp/10990835140230565654/input tmp/10990835140230565654/clu_rep tmp/10990835140230565654/rep_seq.fasta --use-fasta-header -v 3 \n",
      "\n",
      "Time for processing: 0h 0m 0s 29ms\n",
      "createseqfiledb tmp/10990835140230565654/input tmp/10990835140230565654/clu tmp/10990835140230565654/clu_seqs --threads 20 -v 3 \n",
      "\n",
      "Time for merging files: 0h 0m 0s 12ms\n",
      "Time for processing: 0h 0m 0s 68ms\n",
      "result2flat tmp/10990835140230565654/input tmp/10990835140230565654/input tmp/10990835140230565654/clu_seqs tmp/10990835140230565654/all_seqs.fasta -v 3 \n",
      "\n",
      "Time for processing: 0h 0m 0s 44ms\n"
     ]
    }
   ],
   "source": [
    "\n",
    "data_df = clusterTool.cluster(data_df, min_identity=0.8, coverage=0.5,\n",
    "                   cov_mode=0, cluster_mode=1)"
   ]
  },
  {
   "cell_type": "code",
   "execution_count": 8,
   "id": "5bdf2854",
   "metadata": {},
   "outputs": [],
   "source": [
    "def compare_sequences(seq1, seq2, method=\"\"):\n",
    "    spacer = '.' * 3\n",
    "    #print('IIELSNTADKI   IGILAKSIERL')\n",
    "    print(abs(seq1[\"rot_main\"]-seq2[\"rot_main\"]))\n",
    "    print('x  da  x  d'+(\" \"*len(spacer))+'a  x  da  x ')\n",
    "    print(f'{seq1.n_seq}{spacer}{seq1.c_seq} {np.round(seq1[\"rot_main\"],1)} {seq1.desc}')\n",
    "    r=\"\"\n",
    "    c=0\n",
    "    for i,j in zip(list(seq1.n_seq+spacer+seq1.c_seq), list(seq2.n_seq+spacer+seq2.c_seq)):\n",
    "        if i==j and i!=spacer[0]:\n",
    "            r+='|'\n",
    "        else:\n",
    "            r+=' '\n",
    "    print(r)\n",
    "    print(f'{seq2.n_seq}{spacer}{seq2.c_seq} {np.round(seq2[\"rot_main\"],1)} {seq2.desc}')"
   ]
  },
  {
   "cell_type": "code",
   "execution_count": 9,
   "id": "4ee2e693",
   "metadata": {},
   "outputs": [],
   "source": [
    "def max_ident(sequences):\n",
    "    m = [0, 0, 0]\n",
    "    for i in range(len(sequences)):\n",
    "        for j in range(len(sequences)):\n",
    "            if i>j:\n",
    "                ident = (sequence_identity(sequences[i], sequences[j]))\n",
    "                if ident>m[0]:\n",
    "                    \n",
    "                    # check if the difference is only in the core positions\n",
    "                    \n",
    "                    #       IIELSNTADKIIGILAKSIERL\n",
    "                    #       x  da  x  da  x  da  x\n",
    "                    mask = \"*  **  *  **  *  **  *\"\n",
    "                    \n",
    "                    OK=True\n",
    "                    for aa1, aa2, aam in zip(list(sequences[i]), list(sequences[j]), list(mask)):\n",
    "                        if aa1!=aa2 and aam!='*':\n",
    "                            OK=False\n",
    "                            break\n",
    "                            \n",
    "                            \n",
    "                    if OK:\n",
    "                        m = [ident, i, j]                \n",
    "    return m"
   ]
  },
  {
   "cell_type": "code",
   "execution_count": 10,
   "id": "96f0f283",
   "metadata": {},
   "outputs": [],
   "source": [
    "def all_ident(sequences):\n",
    "    res = []\n",
    "    for i in range(len(sequences)):\n",
    "        for j in range(len(sequences)):\n",
    "            if i>j:\n",
    "                # check if the difference is only in the core positions\n",
    "                \n",
    "                #       a  x  da  x   x  da  x  d    \n",
    "                #       EAGLAEMSRQH   AARIAKGVNEL\n",
    "                #       IIELSNTADKI   IGILAKSIERL\n",
    "                #       x  da  x  d   a  x  da  x\n",
    "                mask = \"*  **  *  *\"+\"*  *  **  *\"\n",
    "\n",
    "                OK=True\n",
    "                mut_pos = []\n",
    "                for aa1, aa2, aam, pos in zip(list(sequences[i]), \n",
    "                                              list(sequences[j]), \n",
    "                                              list(mask), \n",
    "                                              range(len(mask))):\n",
    "                    \n",
    "                    # we look for mutations only in the defined core positions (mask)\n",
    "                    if aa1!=aa2:\n",
    "                        if aam!='*':\n",
    "                            OK=False\n",
    "                            break\n",
    "                        else:\n",
    "                            mut_pos.append(pos)\n",
    "\n",
    "\n",
    "                if OK:\n",
    "                    ident = (sequence_identity(sequences[i], sequences[j]))\n",
    "                    res.append([ident, i, j, mut_pos])\n",
    "    return res"
   ]
  },
  {
   "cell_type": "code",
   "execution_count": 11,
   "id": "b36c01c1",
   "metadata": {
    "scrolled": true
   },
   "outputs": [],
   "source": [
    "def compare_similar(method, MIN_CLUST_SIZE=2, mark_clusters = []):\n",
    "\n",
    "    res = []\n",
    "\n",
    "    for clust_id, g in (data_df.groupby('clust_id')):\n",
    "        size = len(g)\n",
    "        if size<MIN_CLUST_SIZE: continue\n",
    "\n",
    "        # all-vs-all seq ident\n",
    "        for seq_diff, i, j, mut_pos in all_ident(g.sequence.tolist()):\n",
    "            if len(mut_pos) != 1: continue\n",
    "            mut_pos_new = mut_pos[0]\n",
    "\n",
    "            # gather data\n",
    "            rot_min = g.iloc[i][f'rot_{method}'] \n",
    "            rot_max = g.iloc[j][f'rot_{method}']\n",
    "\n",
    "            newi, newj = i,j\n",
    "            if rot_min>rot_max:\n",
    "                newi = j\n",
    "                newj = i\n",
    "\n",
    "            rot_diff = abs(rot_max - rot_min)\n",
    "            rot_min_row = g.iloc[newi]\n",
    "            rot_max_row = g.iloc[newj]  \n",
    "            rot_min_desc = rot_min_row.desc.split('/')[0]\n",
    "            rot_max_desc = rot_max_row.desc.split('/')[0]\n",
    "            \n",
    "            if clust_id in mark_clusters: \n",
    "                color = 'red'\n",
    "            else:\n",
    "                color = 'grey'\n",
    "\n",
    "            res.append([clust_id, seq_diff, rot_diff, rot_min, rot_max, rot_min_row.name, rot_max_row.name, color])\n",
    "\n",
    "    res_df = pd.DataFrame(res, columns=['clust_id', 'seq_diff', 'rot_diff', 'rot_min', 'rot_max', \n",
    "                                       'row_min_id', 'row_max_id', 'color'])\n",
    "    \n",
    "    \n",
    "    res_df['row_min_desc'] = res_df['row_min_id'].apply(lambda x:data_df.loc[x].desc.split('/')[0])\n",
    "    res_df['row_max_desc'] = res_df['row_max_id'].apply(lambda x:data_df.loc[x].desc.split('/')[0])\n",
    "    \n",
    "    return res_df"
   ]
  },
  {
   "cell_type": "code",
   "execution_count": 12,
   "id": "e66c1fb8",
   "metadata": {},
   "outputs": [],
   "source": [
    "def plot_res(res_df, m_n=\"\", bar_pos=0.98):\n",
    "    title_font_size = 10\n",
    "    label_font_size = 10\n",
    "    tick_font_size = 8\n",
    "\n",
    "    fig, ax = plt.subplots(1,1, figsize=(3, 7), dpi=200)\n",
    "    ax.axhline(y=res_df.rot_diff.quantile(bar_pos), color='red', linestyle='--', lw=0.75)\n",
    "    ax.tick_params(axis='both', which='major', labelsize=tick_font_size)\n",
    "    ax.tick_params(axis='both', which='minor', labelsize=tick_font_size)\n",
    "\n",
    "    ax.set_xlabel('', size=label_font_size)\n",
    "    ax.set_ylabel(r'Absolute difference in predicted rotation [$\\degree$]', size=label_font_size)\n",
    "    ax.set_title(\"Effects of point mutations\", size=title_font_size)\n",
    "\n",
    "    sns.swarmplot(res_df, y='rot_diff', ax=ax, s=2, c=res_df.color)\n",
    "\n",
    "    ax.set_xticks([]) "
   ]
  },
  {
   "cell_type": "code",
   "execution_count": 13,
   "id": "52ffe9f8",
   "metadata": {},
   "outputs": [],
   "source": [
    "mark_cluster = []\n",
    "res_df_main = compare_similar(method='main', mark_clusters = mark_cluster)\n"
   ]
  },
  {
   "cell_type": "code",
   "execution_count": 14,
   "id": "547a5c70",
   "metadata": {},
   "outputs": [
    {
     "data": {
      "text/plain": [
       "1442"
      ]
     },
     "execution_count": 14,
     "metadata": {},
     "output_type": "execute_result"
    }
   ],
   "source": [
    "len(res_df_main)"
   ]
  },
  {
   "cell_type": "code",
   "execution_count": 15,
   "id": "b0965f61",
   "metadata": {},
   "outputs": [
    {
     "data": {
      "image/png": "[encoded data removed]",
      "text/plain": [
       "<Figure size 600x1400 with 1 Axes>"
      ]
     },
     "metadata": {
      "needs_background": "light"
     },
     "output_type": "display_data"
    }
   ],
   "source": [
    "plot_res(res_df_main, bar_pos=0.97)"
   ]
  },
  {
   "cell_type": "code",
   "execution_count": 16,
   "id": "e2c96a46",
   "metadata": {
    "scrolled": false
   },
   "outputs": [
    {
     "name": "stdout",
     "output_type": "stream",
     "text": [
      "552 --------------------------------------------------\n",
      "3.7473034425215284\n",
      "x  da  x  d   a  x  da  x \n",
      "VRNIALVTTAV...ILELKTTINTM -10.0 A0A0U3NKM6_9ACTN/471-523\n",
      "|||||||||||   ||| |||||||\n",
      "VRNIALVTTAV...ILEMKTTINTM -6.2 A0A563EXG1_9PSEU/630-682\n",
      "\n",
      "A0A0U3NKM6_9ACTN A0A563EXG1_9PSEU\n",
      "\n",
      "3.7411909265951673\n",
      "x  da  x  d   a  x  da  x \n",
      "VRNIAEVTTAV...ILELKNTINTM -8.4 K9PBI3_9CYAN/655-707\n",
      "|||||||||||   ||||||| |||\n",
      "VRNIAEVTTAV...ILELKNTFNTM -4.6 A0A1N6G1D1_9BACT/411-463\n",
      "\n",
      "K9PBI3_9CYAN A0A1N6G1D1_9BACT\n",
      "\n",
      "3.72787882252173\n",
      "x  da  x  d   a  x  da  x \n",
      "VRNIATVTTAV...ILELKETINTM -7.3 A0A519EQI2_9BURK/312-371\n",
      "|||||||||||   ||||||| |||\n",
      "VRNIATVTTAV...ILELKETFNTM -3.6 A0A4Z0BGY9_9BURK/318-370\n",
      "\n",
      "A0A519EQI2_9BURK A0A4Z0BGY9_9BURK\n",
      "\n",
      "3.71587459878488\n",
      "x  da  x  d   a  x  da  x \n",
      "VRNIADVTTAV...ILQLKDTINTM -7.3 A0A239F2H6_9BURK/837-889\n",
      "|||||||||||   ||||||| |||\n",
      "VRNIADVTTAV...ILQLKDTFNTM -3.6 A0A679HUJ9_9BACT/1124-1175\n",
      "\n",
      "A0A239F2H6_9BURK A0A679HUJ9_9BACT\n",
      "\n",
      "3.553663513877175\n",
      "x  da  x  d   a  x  da  x \n",
      "VRSIASVATAV...ILELKNTINTM -7.3 A0A076MKF3_AMYME/201-253\n",
      "|||| ||||||   |||||||||||\n",
      "VRSISSVATAV...ILELKNTINTM -3.7 A0A1H0LZL6_9ACTN/861-913\n",
      "\n",
      "A0A076MKF3_AMYME A0A1H0LZL6_9ACTN\n",
      "\n",
      "3.257984611121091\n",
      "x  da  x  d   a  x  da  x \n",
      "VRNIAEVTTAV...ILELKNTVNTM -7.9 D8FVA6_9CYAN/380-432\n",
      "|||||||||||   ||||||| |||\n",
      "VRNIAEVTTAV...ILELKNTFNTM -4.6 A0A1N6G1D1_9BACT/411-463\n",
      "\n",
      "D8FVA6_9CYAN A0A1N6G1D1_9BACT\n",
      "\n",
      "3.2334579554471103\n",
      "x  da  x  d   a  x  da  x \n",
      "VRNIAQVATAV...ILELKTTINTM -8.9 A0A2G5J385_9ACTN/534-593\n",
      "|||| ||||||   |||||||||||\n",
      "VRNISQVATAV...ILELKTTINTM -5.6 A0A498DXR7_9ACTN/677-729\n",
      "\n",
      "A0A2G5J385_9ACTN A0A498DXR7_9ACTN\n",
      "\n",
      "3.1714233701879335\n",
      "x  da  x  d   a  x  da  x \n",
      "VRNVAQVATAV...ILELKTTINTM -7.8 A0A0X3XHH5_9ACTN/285-337\n",
      "|||||||||||   ||||||| |||\n",
      "VRNVAQVATAV...ILELKTTMNTM -4.6 A0A6I5CN72_9ACTN/40-92\n",
      "\n",
      "A0A0X3XHH5_9ACTN A0A6I5CN72_9ACTN\n",
      "\n",
      "3.131916132840244\n",
      "x  da  x  d   a  x  da  x \n",
      "VRNIAQVATAV...ILELKNTINTM -8.0 A0A5B2W6X9_9PSEU/1-52\n",
      "|||||||||||   ||||||| |||\n",
      "VRNIAQVATAV...ILELKNTLNTM -4.9 C9Z230_STRSW/651-703\n",
      "\n",
      "A0A5B2W6X9_9PSEU C9Z230_STRSW\n",
      "\n",
      "3.112636327743531\n",
      "x  da  x  d   a  x  da  x \n",
      "VRNIAQVATAV...ILELKNTINTM -8.0 A0A5B2W6X9_9PSEU/1-52\n",
      "|||| ||||||   |||||||||||\n",
      "VRNISQVATAV...ILELKNTINTM -4.9 A0A171DNK2_9ACTN/202-254\n",
      "\n",
      "A0A5B2W6X9_9PSEU A0A171DNK2_9ACTN\n",
      "\n",
      "2.9992199594324287\n",
      "x  da  x  d   a  x  da  x \n",
      "VRNIAEVTTAV...ILDLKSTINTM -8.4 A0A1U7JAJ8_9CYAN/287-339\n",
      "|||||||||||   ||||||| |||\n",
      "VRNIAEVTTAV...ILDLKSTFNTM -5.4 B0UB08_METS4/190-242\n",
      "\n",
      "A0A1U7JAJ8_9CYAN B0UB08_METS4\n",
      "\n",
      "2.9929445873607294\n",
      "x  da  x  d   a  x  da  x \n",
      "VRDIAQVATAV...ILELKNTINTM -9.4 G8RZI9_ACTS5/97-156\n",
      "|||||||||||   ||||||| |||\n",
      "VRDIAQVATAV...ILELKNTLNTM -6.4 C7QGD6_CATAD/111-163\n",
      "\n",
      "G8RZI9_ACTS5 C7QGD6_CATAD\n",
      "\n",
      "2.881789077411998\n",
      "x  da  x  d   a  x  da  x \n",
      "VRNIALVTTAV...ILELKTTINTM -10.0 A0A0U3NKM6_9ACTN/471-523\n",
      "|||||||||||   ||||||| |||\n",
      "VRNIALVTTAV...ILELKTTLNTM -7.1 A0A345T6I6_9ACTN/912-964\n",
      "\n",
      "A0A0U3NKM6_9ACTN A0A345T6I6_9ACTN\n",
      "\n",
      "2.8717156919566067\n",
      "x  da  x  d   a  x  da  x \n",
      "VRNVAQVATAV...ILELKNTINTM -6.4 A0A1H5PQZ5_9ACTN/285-337\n",
      "|||||||||||   ||||||| |||\n",
      "VRNVAQVATAV...ILELKNTMNTM -3.5 A0A2W2M3F7_9ACTN/285-337\n",
      "\n",
      "A0A1H5PQZ5_9ACTN A0A2W2M3F7_9ACTN\n",
      "\n",
      "2.788691303946755\n",
      "x  da  x  d   a  x  da  x \n",
      "VRNIAQVATAV...ILELKDTVNTM -7.2 A0A495XLD5_9PSEU/462-514\n",
      "|||| ||||||   |||||||||||\n",
      "VRNISQVATAV...ILELKDTVNTM -4.4 A0A6N7GD84_9ACTN/296-347\n",
      "\n",
      "A0A495XLD5_9PSEU A0A6N7GD84_9ACTN\n",
      "\n",
      "11415 --------------------------------------------------\n",
      "4.57662465355613\n",
      "x  da  x  d   a  x  da  x \n",
      "LQRVTATARRL...IKELADTFDAM -4.4 A0A2P4UCV7_9ACTN/126-179\n",
      "||| |||||||   |||||||||||\n",
      "LQRMTATARRL...IKELADTFDAM 0.2 A0A3A4AZT6_9ACTN/70-123\n",
      "\n",
      "A0A2P4UCV7_9ACTN A0A3A4AZT6_9ACTN\n",
      "\n",
      "4.334827490828254\n",
      "x  da  x  d   a  x  da  x \n",
      "LHRVTATARRL...IKDLADTFDRM -1.9 A0A4R5A831_9ACTN/107-160\n",
      "||| |||||||   |||||||||||\n",
      "LHRMTATARRL...IKDLADTFDRM 2.4 A0A4R4P201_9ACTN/92-145\n",
      "\n",
      "A0A4R5A831_9ACTN A0A4R4P201_9ACTN\n",
      "\n",
      "3.276731249960986\n",
      "x  da  x  d   a  x  da  x \n",
      "LLTVTETARRL...IKDLADTFDSM -3.3 A0A5M3W0N1_9ACTN/111-164\n",
      "||| |||||||   |||||||||||\n",
      "LLTMTETARRL...IKDLADTFDSM -0.0 A0A5M3XFD4_9ACTN/108-161\n",
      "\n",
      "A0A5M3W0N1_9ACTN A0A5M3XFD4_9ACTN\n",
      "\n",
      "12500 --------------------------------------------------\n",
      "4.14664871042425\n",
      "x  da  x  d   a  x  da  x \n",
      "LRRVAATATRV...VGQVGAALNRM -10.1 A0A2R4T4H2_9ACTN/184-245\n",
      "||| |||||||   |||||||||||\n",
      "LRRLAATATRV...VGQVGAALNRM -6.0 A0A1C4J0K1_9ACTN/224-285\n",
      "\n",
      "A0A2R4T4H2_9ACTN A0A1C4J0K1_9ACTN\n",
      "\n",
      "3.8897123336792\n",
      "x  da  x  d   a  x  da  x \n",
      "LSRVAATATRV...VGRMAAAFNRM -9.8 A0A1H5PJT4_9ACTN/198-256\n",
      "|||||||||||   ||| |||||||\n",
      "LSRVAATATRV...VGRTAAAFNRM -5.9 A0A2N0INM1_9ACTN/219-277\n",
      "\n",
      "A0A1H5PJT4_9ACTN A0A2N0INM1_9ACTN\n",
      "\n",
      "3.471368497068231\n",
      "x  da  x  d   a  x  da  x \n",
      "LRRVAHTATRV...VGQVGAALNRM -7.6 A0A1Q5KWC3_9ACTN/216-278\n",
      "||| |||||||   |||||||||||\n",
      "LRRMAHTATRV...VGQVGAALNRM -4.1 A0A1E7KC04_9ACTN/183-243\n",
      "\n",
      "A0A1Q5KWC3_9ACTN A0A1E7KC04_9ACTN\n",
      "\n"
     ]
    }
   ],
   "source": [
    "TOP = int(len(res_df_main)* 0.03)\n",
    "\n",
    "for g_name, g in res_df_main.sort_values(by='rot_diff', ascending=False).head(TOP).groupby('clust_id'):\n",
    "\n",
    "    if len(g)<2: continue\n",
    "    \n",
    "    print(str(g_name) + \" \" + '-'*50)\n",
    "    \n",
    "    for idx in g.index:\n",
    "        pair = g.loc[idx]\n",
    "        rot_min_row = data_df.loc[pair.row_min_id]\n",
    "        rot_max_row = data_df.loc[pair.row_max_id]\n",
    "        compare_sequences(rot_min_row, rot_max_row, 'main')\n",
    "\n",
    "        rot_min_desc = rot_min_row.desc.split('/')[0]\n",
    "        rot_max_desc = rot_max_row.desc.split('/')[0]  \n",
    "        print()\n",
    "        print(rot_min_desc, rot_max_desc)\n",
    "        print()\n"
   ]
  },
  {
   "cell_type": "code",
   "execution_count": null,
   "id": "e801ea02",
   "metadata": {},
   "outputs": [],
   "source": []
  },
  {
   "cell_type": "code",
   "execution_count": null,
   "id": "df92b0f0",
   "metadata": {},
   "outputs": [],
   "source": []
  },
  {
   "cell_type": "code",
   "execution_count": null,
   "id": "07791348",
   "metadata": {},
   "outputs": [],
   "source": []
  },
  {
   "cell_type": "code",
   "execution_count": null,
   "id": "3ccbe8c1",
   "metadata": {},
   "outputs": [],
   "source": []
  },
  {
   "cell_type": "code",
   "execution_count": null,
   "id": "c9a0cf23",
   "metadata": {},
   "outputs": [],
   "source": []
  },
  {
   "cell_type": "code",
   "execution_count": 19,
   "id": "54e757b3",
   "metadata": {},
   "outputs": [
    {
     "data": {
      "text/plain": [
       "<AxesSubplot: >"
      ]
     },
     "execution_count": 19,
     "metadata": {},
     "output_type": "execute_result"
    },
    {
     "data": {
      "image/png": "[encoded data removed]",
      "text/plain": [
       "<Figure size 432x288 with 1 Axes>"
      ]
     },
     "metadata": {
      "needs_background": "light"
     },
     "output_type": "display_data"
    }
   ],
   "source": [
    "res_df_main.rot_diff.hist(bins=20)"
   ]
  },
  {
   "cell_type": "code",
   "execution_count": 21,
   "id": "d1858a27",
   "metadata": {},
   "outputs": [
    {
     "data": {
      "text/plain": [
       "0.9167822468793343"
      ]
     },
     "execution_count": 21,
     "metadata": {},
     "output_type": "execute_result"
    }
   ],
   "source": [
    "len(res_df_main[res_df_main.rot_diff <= 2]) / len(res_df_main)"
   ]
  },
  {
   "cell_type": "code",
   "execution_count": null,
   "id": "b00ffad1",
   "metadata": {},
   "outputs": [],
   "source": []
  }
 ],
 "metadata": {
  "kernelspec": {
   "display_name": "Python 3",
   "language": "python",
   "name": "python3"
  },
  "language_info": {
   "codemirror_mode": {
    "name": "ipython",
    "version": 3
   },
   "file_extension": ".py",
   "mimetype": "text/x-python",
   "name": "python",
   "nbconvert_exporter": "python",
   "pygments_lexer": "ipython3",
   "version": "3.10.4"
  }
 },
 "nbformat": 4,
 "nbformat_minor": 5
}
