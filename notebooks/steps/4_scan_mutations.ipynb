{
 "cells": [
  {
   "cell_type": "code",
   "execution_count": 1,
   "id": "41bd0e2d",
   "metadata": {},
   "outputs": [
    {
     "name": "stderr",
     "output_type": "stream",
     "text": [
      "/home/users/sdunin/miniconda3/envs/hamppred/lib/python3.10/site-packages/Bio/SubsMat/__init__.py:126: BiopythonDeprecationWarning: Bio.SubsMat has been deprecated, and we intend to remove it in a future release of Biopython. As an alternative, please consider using Bio.Align.substitution_matrices as a replacement, and contact the Biopython developers if you still need the Bio.SubsMat module.\n",
      "  warnings.warn(\n",
      "2023-03-21 11:45:43.150355: I tensorflow/core/platform/cpu_feature_guard.cc:193] This TensorFlow binary is optimized with oneAPI Deep Neural Network Library (oneDNN) to use the following CPU instructions in performance-critical operations:  SSE4.1 SSE4.2 AVX AVX2 FMA\n",
      "To enable them in other operations, rebuild TensorFlow with the appropriate compiler flags.\n"
     ]
    }
   ],
   "source": [
    "import sys\n",
    "import os\n",
    "import pickle\n",
    "import pandas as pd\n",
    "import matplotlib.pyplot as plt\n",
    "import numpy as np\n",
    "import seaborn as sns\n",
    "\n",
    "from tqdm import tqdm\n",
    "from Bio import SeqIO\n",
    "from Bio.SubsMat import MatrixInfo\n",
    "from Bio import pairwise2\n",
    "\n",
    "sys.path.append('/home/nfs/sdunin/scr/lbs-tools/')\n",
    "from lbs.sequences import mmseqs2\n",
    "from lbs.dl.encoders import radius, phobos\n",
    "\n",
    "from hamp_pred.src.predictor import Predictor\n",
    "from hamp_pred.src.input_prep.prepare_sequence import MultiChainOperator, SeqWindow\n",
    "from hamp_pred.src.input_prep.encode import RadianEncoder, MultiEncoder, OneHotEncoderSeq, RadiousPhobosEncoder\n",
    "from hamp_pred.src.predictor_config import  PredictionConfig\n",
    "from hamp_pred.src.models.common.models import BaseConvolutionalWrapper"
   ]
  },
  {
   "cell_type": "code",
   "execution_count": 2,
   "id": "d337a0e2",
   "metadata": {},
   "outputs": [],
   "source": [
    "def sequence_identity(seq1, seq2):\n",
    "    identical = sum(1 for a, b in zip(seq1, seq2) if a == b)\n",
    "    identity = identical / len(seq1) * 100\n",
    "    return identity\n",
    "\n",
    "def sequence_similarity(seq1, seq2):\n",
    "    matrix = MatrixInfo.blosum62\n",
    "    alignments = pairwise2.align.globalds(seq1, seq2, matrix, -10, -0.5)\n",
    "    best_alignment = alignments[0]\n",
    "    similarity = best_alignment[2] / best_alignment[4]\n",
    "    return similarity"
   ]
  },
  {
   "cell_type": "code",
   "execution_count": 3,
   "id": "2ec7765f",
   "metadata": {},
   "outputs": [],
   "source": [
    "DATA_DIR = './data/'"
   ]
  },
  {
   "cell_type": "markdown",
   "id": "f19fb695",
   "metadata": {},
   "source": [
    "# Load models"
   ]
  },
  {
   "cell_type": "code",
   "execution_count": 4,
   "id": "1a76364c",
   "metadata": {},
   "outputs": [],
   "source": [
    "operator = MultiChainOperator(MultiEncoder([RadiousPhobosEncoder(), OneHotEncoderSeq()]), SeqWindow(11, 11), RadianEncoder(100),  SeqWindow(11, 11, null_char=[[0]]),\n",
    "                                      parallel=True)\n",
    "model_conf = model_config = {\n",
    "    'activation': 'tanh',\n",
    "    'norm': True,\n",
    "    'n_layers': 1,\n",
    "    'kernel_sizes': (3, 5, 7),\n",
    "    'lstm': 2,\n",
    "    'dense': 1,\n",
    "    'reshape_out': False,\n",
    "    'epochs': 30\n",
    "}\n",
    "conf = PredictionConfig(BaseConvolutionalWrapper, operator, model_conf)\n",
    "clf_main = Predictor('hamp_rot', config=conf)\n"
   ]
  },
  {
   "cell_type": "code",
   "execution_count": 5,
   "id": "7327570e",
   "metadata": {},
   "outputs": [],
   "source": [
    "from hamp_pred.utils.encode import encode_df\n",
    "filename = os.path.join(DATA_DIR, 'regressor_models.p')\n",
    "res_dict = pickle.load(open(filename, 'rb'))\n",
    "clf_aux = res_dict[1]"
   ]
  },
  {
   "cell_type": "markdown",
   "id": "53d69e22",
   "metadata": {},
   "source": [
    "### Check performance on validation set"
   ]
  },
  {
   "cell_type": "code",
   "execution_count": 6,
   "id": "52668d1e",
   "metadata": {},
   "outputs": [],
   "source": [
    "data = f'{DATA_DIR}/af2_clean_model_1.p'\n",
    "data = pd.read_pickle(data)\n",
    "\n",
    "data = data[data['class'] == 'val']\n",
    "data['n_seq'] = data['n_seq'].apply(lambda x: x[1:-1])\n",
    "data['c_seq'] = data['c_seq'].apply(lambda x: x[1:-1])\n",
    "data['sequence'] = data.apply(lambda x: x['n_seq'] + x['c_seq'], axis=1)\n"
   ]
  },
  {
   "cell_type": "code",
   "execution_count": 7,
   "id": "fb82d459",
   "metadata": {},
   "outputs": [
    {
     "name": "stderr",
     "output_type": "stream",
     "text": [
      "2023-03-21 11:46:00.671418: I tensorflow/core/platform/cpu_feature_guard.cc:193] This TensorFlow binary is optimized with oneAPI Deep Neural Network Library (oneDNN) to use the following CPU instructions in performance-critical operations:  SSE4.1 SSE4.2 AVX AVX2 FMA\n",
      "To enable them in other operations, rebuild TensorFlow with the appropriate compiler flags.\n",
      "2023-03-21 11:46:00.673064: I tensorflow/core/common_runtime/process_util.cc:146] Creating new thread pool with default inter op setting: 2. Tune using inter_op_parallelism_threads for best performance.\n"
     ]
    },
    {
     "name": "stdout",
     "output_type": "stream",
     "text": [
      "1/1 [==============================] - 2s 2s/step\n"
     ]
    }
   ],
   "source": [
    "val_pred_main = clf_main.predict(data.sequence.tolist())"
   ]
  },
  {
   "cell_type": "code",
   "execution_count": 8,
   "id": "6a4a3e04",
   "metadata": {},
   "outputs": [],
   "source": [
    "data['rot_main'] = val_pred_main.N_pred.apply(lambda x:np.mean(x)/2).tolist()"
   ]
  },
  {
   "cell_type": "code",
   "execution_count": 9,
   "id": "7b17a7cd",
   "metadata": {},
   "outputs": [],
   "source": [
    "val_pred_aux = clf_aux.predict(encode_df(data))\n",
    "data['rot_aux'] = val_pred_aux.mean(axis=1) / 2"
   ]
  },
  {
   "cell_type": "code",
   "execution_count": 10,
   "id": "19549852",
   "metadata": {},
   "outputs": [
    {
     "data": {
      "text/plain": [
       "(-26.0, 26.0)"
      ]
     },
     "execution_count": 10,
     "metadata": {},
     "output_type": "execute_result"
    },
    {
     "data": {
      "image/png": "[encoded data removed]",
      "text/plain": [
       "<Figure size 600x600 with 1 Axes>"
      ]
     },
     "metadata": {},
     "output_type": "display_data"
    }
   ],
   "source": [
    "import matplotlib as mpl\n",
    "fig, ax = plt.subplots(1,1, figsize=(6, 6), dpi=100)\n",
    "\n",
    "ax.hist2d(data.rot_main, data.rot_aux, bins=20, cmap='Reds', norm=mpl.colors.LogNorm());\n",
    "ax.set_xlim(-26, 26)\n",
    "ax.set_ylim(-26, 26)"
   ]
  },
  {
   "cell_type": "markdown",
   "id": "b4031038",
   "metadata": {},
   "source": [
    "# Score HAMP sequences"
   ]
  },
  {
   "cell_type": "markdown",
   "id": "253fabb1",
   "metadata": {},
   "source": [
    "### Get HAMP sequences"
   ]
  },
  {
   "cell_type": "code",
   "execution_count": 13,
   "id": "bbfc1986",
   "metadata": {},
   "outputs": [
    {
     "data": {
      "text/plain": [
       "71152"
      ]
     },
     "execution_count": 13,
     "metadata": {},
     "output_type": "execute_result"
    }
   ],
   "source": [
    "msa = SeqIO.parse('./data/PF00672.alignment.full', 'stockholm')\n",
    "\n",
    "res = []\n",
    "for s in msa:\n",
    "    n_helix = str(s.seq[35:52])\n",
    "    c_helix = str(s.seq[154:169])\n",
    "\n",
    "    # uniprot MSA\n",
    "    #n_helix = str(s.seq[8:50]).replace('-','')\n",
    "    #c_helix = str(s.seq[183:216]).replace('-','') \n",
    "    \n",
    "    n_helix_degap = n_helix.replace('-','')\n",
    "    c_helix_degap = c_helix.replace('-','')\n",
    "    \n",
    "    if len(n_helix_degap) == len(c_helix_degap) == 13:\n",
    "        res.append([n_helix_degap, c_helix_degap, s.description])\n",
    "    #else:\n",
    "        #print(n_helix, '   ', c_helix)\n",
    "        #break\n",
    "len(res)      "
   ]
  },
  {
   "cell_type": "code",
   "execution_count": 14,
   "id": "8f729efd",
   "metadata": {},
   "outputs": [
    {
     "data": {
      "text/plain": [
       "59456"
      ]
     },
     "execution_count": 14,
     "metadata": {},
     "output_type": "execute_result"
    }
   ],
   "source": [
    "data_df = pd.DataFrame(res, columns=['n_seq', 'c_seq', 'desc'])\n",
    "data_df['n_seq'] = data_df['n_seq'].apply(lambda x:x[1:-1])\n",
    "data_df['c_seq'] = data_df['c_seq'].apply(lambda x:x[1:-1])\n",
    "assert all(data_df['n_seq'].str.len() == 11)\n",
    "assert all(data_df['c_seq'].str.len() == 11)\n",
    "data_df['sequence'] = data_df['n_seq'] + data_df['c_seq'] # for mmseqs2 clustering\n",
    "data_df.drop_duplicates(subset = 'sequence', inplace=True)\n",
    "data_df.drop(data_df[data_df.sequence.str.find('X')>-1].index, inplace=True)\n",
    "len(data_df)"
   ]
  },
  {
   "cell_type": "markdown",
   "id": "7899dc0c",
   "metadata": {},
   "source": [
    "### Score with the main model"
   ]
  },
  {
   "cell_type": "code",
   "execution_count": 15,
   "id": "8c4575ab",
   "metadata": {},
   "outputs": [
    {
     "name": "stdout",
     "output_type": "stream",
     "text": [
      "59/59 [==============================] - 15s 227ms/step\n"
     ]
    }
   ],
   "source": [
    "#score with the main model \n",
    "res_pred = clf_main.predict(data_df.sequence.tolist())"
   ]
  },
  {
   "cell_type": "code",
   "execution_count": 16,
   "id": "fb3f22cf",
   "metadata": {},
   "outputs": [],
   "source": [
    "data_df['rot_main'] = res_pred.N_pred.apply(lambda x:np.mean(x)/2).tolist()"
   ]
  },
  {
   "cell_type": "markdown",
   "id": "7c2a0c1f",
   "metadata": {},
   "source": [
    "### Score with the auxiliary model"
   ]
  },
  {
   "cell_type": "code",
   "execution_count": 17,
   "id": "05b8075e",
   "metadata": {},
   "outputs": [],
   "source": [
    "res_pred = clf_aux.predict(encode_df(data_df))"
   ]
  },
  {
   "cell_type": "code",
   "execution_count": 18,
   "id": "3fe6cae1",
   "metadata": {},
   "outputs": [],
   "source": [
    "data_df['rot_aux'] = res_pred.mean(axis=1) / 2"
   ]
  },
  {
   "cell_type": "code",
   "execution_count": 19,
   "id": "814ff47a",
   "metadata": {},
   "outputs": [],
   "source": [
    "# save results. go to \"Analyse results\"\n",
    "data_df.to_pickle('./data/scan.p')"
   ]
  },
  {
   "cell_type": "markdown",
   "id": "1c064523",
   "metadata": {},
   "source": [
    "---\n"
   ]
  },
  {
   "cell_type": "markdown",
   "id": "aaccf068",
   "metadata": {},
   "source": [
    "# Analyse results"
   ]
  },
  {
   "cell_type": "markdown",
   "id": "e04fb631",
   "metadata": {},
   "source": [
    "### Set-up"
   ]
  },
  {
   "cell_type": "code",
   "execution_count": 20,
   "id": "1bb27ef4",
   "metadata": {},
   "outputs": [],
   "source": [
    "clusterTool = mmseqs2.MMSeqsClusterer()"
   ]
  },
  {
   "cell_type": "code",
   "execution_count": 21,
   "id": "ad22307c",
   "metadata": {},
   "outputs": [],
   "source": [
    "uf1 = './data/uniprot-download_true_fields_accession_2Cid_2Cprotein_name_2Cgene_na-2023.01.25-22.25.36.50.tsv'\n",
    "uf2 = './data/uniprot-download_true_fields_accession_2Cid_2Cprotein_name_2Cgene_na-2023.01.26-23.08.42.44.tsv'"
   ]
  },
  {
   "cell_type": "code",
   "execution_count": 22,
   "id": "9d4ea6f0",
   "metadata": {},
   "outputs": [],
   "source": [
    "uni_df = pd.read_csv(uf1, sep='\\t')\n",
    "assert uni_df.From.is_unique\n",
    "uni_df.set_index('From', inplace=True)"
   ]
  },
  {
   "cell_type": "code",
   "execution_count": 23,
   "id": "4694a07f",
   "metadata": {},
   "outputs": [
    {
     "data": {
      "text/plain": [
       "59456"
      ]
     },
     "execution_count": 23,
     "metadata": {},
     "output_type": "execute_result"
    }
   ],
   "source": [
    "data_df = pd.read_pickle('./data/scan.p')\n",
    "len(data_df)"
   ]
  },
  {
   "cell_type": "code",
   "execution_count": 24,
   "id": "01b028a5",
   "metadata": {
    "scrolled": true
   },
   "outputs": [],
   "source": [
    "# generate functional mappings\n",
    "res = []\n",
    "x=[]\n",
    "for i, seq in data_df.iterrows():\n",
    "    \n",
    "    ident = seq.desc.split('/')[0]\n",
    "    \n",
    "    try:\n",
    "        tmp = uni_df.loc[ident]\n",
    "        go_desc = str(tmp['Gene Ontology (biological process)'])\n",
    "        name_desc = tmp['Protein names'].lower()\n",
    "    except KeyError:\n",
    "        res.append(\n",
    "            (ident, 'ERR', 'ERR')\n",
    "        )\n",
    "        continue\n",
    "        \n",
    "    # assign functional class by name\n",
    "    name_category = 'UNK'\n",
    "    for n, c in zip(\n",
    "            # nitrogen removed\n",
    "            ['chemotaxis', 'methyl-accepting', 'kinase', 'chemotactic', 'cyclase'],\n",
    "            ['MA', 'MA', 'HK', 'MA', 'CYCc']\n",
    "        ):\n",
    "            if name_desc.find(n)>-1:\n",
    "                if name_category!='UNK' and name_category!=c:\n",
    "                    name_category = 'MIX'\n",
    "                    break\n",
    "                else:\n",
    "                    name_category = c\n",
    "               \n",
    "    # assign functional class by name\n",
    "    go_category='UNK'\n",
    "    for n, c in zip(\n",
    "            ['GO:0006355', 'GO:0006935', 'GO:0009190', 'GO:1902531', 'GO:0009399', 'GO:0006950', 'GO:0007234', 'GO:0055085'],\n",
    "            ['transcription_regulation', 'chemotaxis', 'cyclic_nucleotide_biosynthesis', 'signal_transduction_regulation', 'nitrogen_fixation', 'response_to_stress', 'osmosensory_signaling', 'transmembrane_transport']\n",
    "        ):\n",
    "            if go_desc.find(n)>-1:\n",
    "                if go_category!='UNK' and go_category!=c:\n",
    "                    go_category = 'MIX'\n",
    "                    break\n",
    "                else:\n",
    "                    go_category = c\n",
    "  \n",
    "    res.append(\n",
    "        (ident, name_category, go_category)\n",
    "    )\n",
    "\n",
    "\n",
    "protein2function_df = pd.DataFrame(res, columns=['ident', 'Name', 'GO'])\n",
    "\n",
    "# poly-HAMPs\n",
    "protein2function_df.drop_duplicates(subset='ident', inplace=True)\n",
    "protein2function_df.set_index('ident', inplace=True)\n",
    "\n",
    "# table = pd.crosstab(protein2function_df['Name'], protein2function_df['GO'])\n",
    "# sns.heatmap(table, annot=True, cmap='Blues', fmt='d')"
   ]
  },
  {
   "cell_type": "markdown",
   "id": "b84ceb26",
   "metadata": {},
   "source": [
    "### Analyses"
   ]
  },
  {
   "cell_type": "code",
   "execution_count": 25,
   "id": "84d52479",
   "metadata": {},
   "outputs": [
    {
     "name": "stdout",
     "output_type": "stream",
     "text": [
      "createdb /tmp/3gi4xivo tmp/14121415125808179585/input --max-seq-len 65535 --dont-split-seq-by-len 1 --dbtype 0 --dont-shuffle 1 --id-offset 0 --compressed 0 -v 3 \n",
      "\n",
      "Converting sequences\n",
      "[=====\n",
      "Time for merging files: 0h 0m 0s 22ms\n",
      "Time for merging files: 0h 0m 0s 17ms\n",
      "Time for merging files: 0h 0m 0s 5ms\n",
      "Time for processing: 0h 0m 0s 203ms\n",
      "cluster tmp/14121415125808179585/input tmp/14121415125808179585/clu tmp/14121415125808179585/clu_tmp -c 0.5 --cov-mode 0 --min-seq-id 0.8 --cluster-mode 1 \n",
      "\n",
      "Tmp tmp/14121415125808179585/clu_tmp folder does not exist or is not a directory.\n",
      "Created dir tmp/14121415125808179585/clu_tmp\n",
      "Set cluster settings automatically to s=1.000000\n",
      "connected component clustering produces less clusters in a single step clustering.\n",
      "Please use --single-step-clusterkmermatcher tmp/14121415125808179585/input tmp/14121415125808179585/clu_tmp/18154466120311272353/linclust/959697786361711550/pref --sub-mat blosum62.out --alph-size 13 --min-seq-id 0.8 --kmer-per-seq 21 --adjust-kmer-len 0 --mask 0 --mask-lower-case 0 --cov-mode 0 -k 0 -c 0.5 --max-seq-len 65535 --hash-shift 5 --split-memory-limit 0 --include-only-extendable 0 --skip-n-repeat-kmer 0 --threads 20 --compressed 0 -v 3 \n",
      "\n",
      "Database size: 59456 type: Aminoacid\n",
      "Reduced amino acid alphabet: (A S T) (C) (D B N) (E Q Z) (F Y) (G) (H) (I V) (K R) (L J M) (P) (W) (X) \n",
      "\n",
      "Estimated memory consumption 11 MB\n",
      "Generate k-mers list for 1 split\n",
      "[=================================================================] 59.46K 0s 9ms\n",
      "Sort kmer 0h 0m 0s 36ms\n",
      "Sort by rep. sequence 0h 0m 0s 23ms\n",
      "Time for fill: 0h 0m 0s 10ms\n",
      "Time for merging files: 0h 0m 0s 10ms\n",
      "Time for processing: 0h 0m 0s 133ms\n",
      "rescorediagonal tmp/14121415125808179585/input tmp/14121415125808179585/input tmp/14121415125808179585/clu_tmp/18154466120311272353/linclust/959697786361711550/pref tmp/14121415125808179585/clu_tmp/18154466120311272353/linclust/959697786361711550/pref_rescore1 --sub-mat blosum62.out --rescore-mode 0 --filter-hits 0 -e 0.001 -c 0.5 -a 0 --cov-mode 0 --min-seq-id 0.8 --min-aln-len 0 --seq-id-mode 0 --add-self-matches 0 --sort-results 0 --global-alignment 0 --db-load-mode 0 --threads 20 --compressed 0 -v 3 \n",
      "\n",
      "[=================================================================] 59.46K 0s 15ms\n",
      "Time for merging files: 0h 0m 0s 17ms\n",
      "Time for processing: 0h 0m 0s 48ms\n",
      "clust tmp/14121415125808179585/input tmp/14121415125808179585/clu_tmp/18154466120311272353/linclust/959697786361711550/pref_rescore1 tmp/14121415125808179585/clu_tmp/18154466120311272353/linclust/959697786361711550/pre_clust --cluster-mode 1 --max-iterations 1000 --similarity-type 2 --threads 20 --compressed 0 -v 3 \n",
      "\n",
      "Clustering mode: Connected Component\n",
      "[=================================================================] 59.46K 0s 4ms\n",
      "Sort entries\n",
      "Find missing connections\n",
      "Found 27274 new connections.\n",
      "Reconstruct initial order\n",
      "[=================================================================] 59.46K 0s 3ms\n",
      "Add missing connections\n",
      "[=================================================================] 59.46K 0s 2ms\n",
      "\n",
      "Time for read in: 0h 0m 0s 25ms\n",
      "connected component mode\n",
      "Total time: 0h 0m 0s 39ms\n",
      "\n",
      "Size of the sequence database: 59456\n",
      "Size of the alignment database: 59456\n",
      "Number of clusters: 40607\n",
      "\n",
      "Writing results 0h 0m 0s 7ms\n",
      "Time for merging files: 0h 0m 0s 5ms\n",
      "Time for processing: 0h 0m 0s 66ms\n",
      "createsubdb tmp/14121415125808179585/clu_tmp/18154466120311272353/linclust/959697786361711550/order_redundancy tmp/14121415125808179585/input tmp/14121415125808179585/clu_tmp/18154466120311272353/linclust/959697786361711550/input_step_redundancy \n",
      "\n",
      "Time for merging files: 0h 0m 0s 3ms\n",
      "Time for processing: 0h 0m 0s 16ms\n",
      "createsubdb tmp/14121415125808179585/clu_tmp/18154466120311272353/linclust/959697786361711550/order_redundancy tmp/14121415125808179585/clu_tmp/18154466120311272353/linclust/959697786361711550/pref tmp/14121415125808179585/clu_tmp/18154466120311272353/linclust/959697786361711550/pref_filter1 \n",
      "\n",
      "Time for merging files: 0h 0m 0s 4ms\n",
      "Time for processing: 0h 0m 0s 17ms\n",
      "filterdb tmp/14121415125808179585/clu_tmp/18154466120311272353/linclust/959697786361711550/pref_filter1 tmp/14121415125808179585/clu_tmp/18154466120311272353/linclust/959697786361711550/pref_filter2 --filter-file tmp/14121415125808179585/clu_tmp/18154466120311272353/linclust/959697786361711550/order_redundancy \n",
      "\n",
      "Filtering with a filter files.\n",
      "[=================================================================] 40.61K 0s 5ms\n",
      "Time for merging files: 0h 0m 0s 11ms\n",
      "Time for processing: 0h 0m 0s 35ms\n",
      "rescorediagonal tmp/14121415125808179585/clu_tmp/18154466120311272353/linclust/959697786361711550/input_step_redundancy tmp/14121415125808179585/clu_tmp/18154466120311272353/linclust/959697786361711550/input_step_redundancy tmp/14121415125808179585/clu_tmp/18154466120311272353/linclust/959697786361711550/pref_filter2 tmp/14121415125808179585/clu_tmp/18154466120311272353/linclust/959697786361711550/pref_rescore2 --sub-mat blosum62.out --rescore-mode 1 --filter-hits 1 -e 0.001 -c 0.5 -a 0 --cov-mode 0 --min-seq-id 0.8 --min-aln-len 0 --seq-id-mode 0 --add-self-matches 0 --sort-results 0 --global-alignment 0 --db-load-mode 0 --threads 20 --compressed 0 -v 3 \n",
      "\n",
      "[=================================================================] 40.61K 0s 12ms\n",
      "Time for merging files: 0h 0m 0s 11ms\n",
      "Time for processing: 0h 0m 0s 37ms\n",
      "align tmp/14121415125808179585/clu_tmp/18154466120311272353/linclust/959697786361711550/input_step_redundancy tmp/14121415125808179585/clu_tmp/18154466120311272353/linclust/959697786361711550/input_step_redundancy tmp/14121415125808179585/clu_tmp/18154466120311272353/linclust/959697786361711550/pref_rescore2 tmp/14121415125808179585/clu_tmp/18154466120311272353/linclust/959697786361711550/aln --sub-mat blosum62.out -a 0 --alignment-mode 3 -e 0.001 --min-seq-id 0.8 --min-aln-len 0 --seq-id-mode 0 --alt-ali 0 -c 0.5 --cov-mode 0 --max-seq-len 65535 --comp-bias-corr 0 --realign 0 --max-rejected 2147483647 --max-accept 2147483647 --add-self-matches 0 --db-load-mode 0 --pca 1 --pcb 1.5 --score-bias 0 --gap-open 11 --gap-extend 1 --threads 20 --compressed 0 -v 3 \n",
      "\n",
      "Compute score, coverage and sequence identity\n",
      "Query database size: 40607 type: Aminoacid\n",
      "Target database size: 40607 type: Aminoacid\n",
      "Calculation of alignments\n",
      "[=================================================================] 40.61K 0s 49ms\n",
      "Time for merging files: 0h 0m 0s 14ms\n",
      "\n",
      "111523 alignments calculated.\n",
      "40898 sequence pairs passed the thresholds (0.366723 of overall calculated).\n",
      "1.007166 hits per query sequence.\n",
      "Time for processing: 0h 0m 0s 79ms\n",
      "clust tmp/14121415125808179585/clu_tmp/18154466120311272353/linclust/959697786361711550/input_step_redundancy tmp/14121415125808179585/clu_tmp/18154466120311272353/linclust/959697786361711550/aln tmp/14121415125808179585/clu_tmp/18154466120311272353/linclust/959697786361711550/clust --cluster-mode 1 --max-iterations 1000 --similarity-type 2 --threads 20 --compressed 0 -v 3 \n",
      "\n",
      "Clustering mode: Connected Component\n",
      "[=================================================================] 40.61K 0s 2ms\n",
      "Sort entries\n",
      "Find missing connections\n",
      "Found 291 new connections.\n",
      "Reconstruct initial order\n",
      "[=================================================================] 40.61K 0s 3ms\n",
      "Add missing connections\n",
      "[=================================================================] 40.61K 0s 1ms\n",
      "\n",
      "Time for read in: 0h 0m 0s 17ms\n",
      "connected component mode\n",
      "Total time: 0h 0m 0s 28ms\n",
      "\n",
      "Size of the sequence database: 40607\n",
      "Size of the alignment database: 40607\n",
      "Number of clusters: 40317\n",
      "\n",
      "Writing results 0h 0m 0s 5ms\n",
      "Time for merging files: 0h 0m 0s 12ms\n",
      "Time for processing: 0h 0m 0s 56ms\n",
      "mergeclusters tmp/14121415125808179585/input tmp/14121415125808179585/clu_tmp/18154466120311272353/clu_redundancy tmp/14121415125808179585/clu_tmp/18154466120311272353/linclust/959697786361711550/pre_clust tmp/14121415125808179585/clu_tmp/18154466120311272353/linclust/959697786361711550/clust --threads 20 --compressed 0 -v 3 \n",
      "\n",
      "List amount 59456\n",
      "Clustering step 1\n",
      "Clustering step 2\n",
      "Writing the results\n",
      "Time for merging files: 0h 0m 0s 13ms\n",
      "Time for processing: 0h 0m 0s 41ms\n",
      "createsubdb tmp/14121415125808179585/clu_tmp/18154466120311272353/clu_redundancy tmp/14121415125808179585/input tmp/14121415125808179585/clu_tmp/18154466120311272353/input_step_redundancy \n",
      "\n",
      "Time for merging files: 0h 0m 0s 4ms\n",
      "Time for processing: 0h 0m 0s 18ms\n"
     ]
    },
    {
     "name": "stdout",
     "output_type": "stream",
     "text": [
      "prefilter tmp/14121415125808179585/clu_tmp/18154466120311272353/input_step_redundancy tmp/14121415125808179585/clu_tmp/18154466120311272353/input_step_redundancy tmp/14121415125808179585/clu_tmp/18154466120311272353/pref_step0 --sub-mat blosum62.out --seed-sub-mat VTML80.out -s 1 -k 0 --k-score 2147483647 --alph-size 21 --max-seq-len 65535 --max-seqs 20 --split 0 --split-mode 2 --split-memory-limit 0 -c 0.5 --cov-mode 0 --comp-bias-corr 0 --diag-score 0 --exact-kmer-matching 0 --mask 1 --mask-lower-case 0 --min-ungapped-score 0 --add-self-matches 0 --spaced-kmer-mode 1 --db-load-mode 0 --pca 1 --pcb 1.5 --threads 20 --compressed 0 -v 3 \n",
      "\n",
      "Using 20 threads.\n",
      "Estimated memory consumption 1020 MB\n",
      "Target database size: 40317 type: Aminoacid\n",
      "Query database size: 40317 type: Aminoacid\n",
      "Process prefiltering step 1 of 1\n",
      "\n",
      "Index table k-mer threshold: 154 at k-mer size 6 \n",
      "Index table: counting k-mers\n",
      "[=================================================================] 40.32K 0s 26ms\n",
      "Index table: Masked residues: 94\n",
      "Index table: fill\n",
      "[=================================================================] 40.32K 0s 2ms\n",
      "Index statistics\n",
      "Entries:          112501\n",
      "DB size:          488 MB\n",
      "Avg k-mer size:   0.001758\n",
      "Top 10 k-mers\n",
      "    IIQAFN\t271\n",
      "    IFEAFN\t146\n",
      "    IGMREV\t134\n",
      "    IGLRNR\t93\n",
      "    ILQGFN\t79\n",
      "    IGLRNQ\t79\n",
      "    MRLGAR\t68\n",
      "    IGMRQV\t67\n",
      "    IGLDNY\t58\n",
      "    VIQTFN\t52\n",
      "Time for index table init: 0h 0m 0s 468ms\n",
      "k-mer similarity threshold: 154\n",
      "\tk-mers per position = 0.245364, k-mer match probability: 0.000000\n",
      "k-mer match probability: 0.000000\n",
      "\n",
      "Starting prefiltering scores calculation (step 1 of 1)\n",
      "Query db start  1 to 40317\n",
      "Target db start  1 to 40317\n",
      "[=================================================================] 40.32K 0s 13ms\n",
      "\n",
      "0.183984 k-mers per position\n",
      "20 DB matches per sequence\n",
      "0 overflows\n",
      "6 sequences passed prefiltering per query sequence\n",
      "2 median result list length\n",
      "0 sequences with 0 size result lists\n",
      "\n",
      "Time for prefiltering scores calculation: 0h 0m 0s 20ms\n",
      "Time for merging files: 0h 0m 0s 14ms\n",
      "Time for processing: 0h 0m 0s 729ms\n",
      "align tmp/14121415125808179585/clu_tmp/18154466120311272353/input_step_redundancy tmp/14121415125808179585/clu_tmp/18154466120311272353/input_step_redundancy tmp/14121415125808179585/clu_tmp/18154466120311272353/pref_step0 tmp/14121415125808179585/clu_tmp/18154466120311272353/aln_step0 --sub-mat blosum62.out -a 0 --alignment-mode 3 -e 0.001 --min-seq-id 0.8 --min-aln-len 0 --seq-id-mode 0 --alt-ali 0 -c 0.5 --cov-mode 0 --max-seq-len 65535 --comp-bias-corr 0 --realign 0 --max-rejected 2147483647 --max-accept 2147483647 --add-self-matches 0 --db-load-mode 0 --pca 1 --pcb 1.5 --score-bias 0 --gap-open 11 --gap-extend 1 --threads 20 --compressed 0 -v 3 \n",
      "\n",
      "Compute score, coverage and sequence identity\n",
      "Query database size: 40317 type: Aminoacid\n",
      "Target database size: 40317 type: Aminoacid\n",
      "Calculation of alignments\n",
      "[=================================================================] 40.32K 0s 111ms\n",
      "Time for merging files: 0h 0m 0s 13ms\n",
      "\n",
      "270712 alignments calculated.\n",
      "44487 sequence pairs passed the thresholds (0.164333 of overall calculated).\n",
      "1.103430 hits per query sequence.\n",
      "Time for processing: 0h 0m 0s 141ms\n",
      "clust tmp/14121415125808179585/clu_tmp/18154466120311272353/input_step_redundancy tmp/14121415125808179585/clu_tmp/18154466120311272353/aln_step0 tmp/14121415125808179585/clu_tmp/18154466120311272353/clu_step0 --cluster-mode 1 --max-iterations 1000 --similarity-type 2 --threads 20 --compressed 0 -v 3 \n",
      "\n",
      "Clustering mode: Connected Component\n",
      "[=================================================================] 40.32K 0s 1ms\n",
      "Sort entries\n",
      "Find missing connections\n",
      "Found 492 new connections.\n",
      "Reconstruct initial order\n",
      "[=================================================================] 40.32K 0s 3ms\n",
      "Add missing connections\n",
      "[=================================================================] 40.32K 0s 2ms\n",
      "\n",
      "Time for read in: 0h 0m 0s 14ms\n",
      "connected component mode\n",
      "Total time: 0h 0m 0s 25ms\n",
      "\n",
      "Size of the sequence database: 40317\n",
      "Size of the alignment database: 40317\n",
      "Number of clusters: 38350\n",
      "\n",
      "Writing results 0h 0m 0s 5ms\n",
      "Time for merging files: 0h 0m 0s 5ms\n",
      "Time for processing: 0h 0m 0s 49ms\n",
      "mergeclusters tmp/14121415125808179585/input tmp/14121415125808179585/clu tmp/14121415125808179585/clu_tmp/18154466120311272353/clu_redundancy tmp/14121415125808179585/clu_tmp/18154466120311272353/clu_step0 --threads 20 --compressed 0 -v 3 \n",
      "\n",
      "List amount 59456\n",
      "Clustering step 1\n",
      "Clustering step 2\n",
      "Writing the results\n",
      "Time for merging files: 0h 0m 0s 11ms\n",
      "Time for processing: 0h 0m 0s 38ms\n",
      "createtsv tmp/14121415125808179585/input tmp/14121415125808179585/input tmp/14121415125808179585/clu tmp/14121415125808179585/cluster.tsv --threads 20 -v 3 \n",
      "\n",
      "Time for merging files: 0h 0m 0s 11ms\n",
      "Time for processing: 0h 0m 0s 28ms\n",
      "result2repseq tmp/14121415125808179585/input tmp/14121415125808179585/clu tmp/14121415125808179585/clu_rep --threads 20 -v 3 \n",
      "\n",
      "Start computing representative sequences.\n",
      "[=================================================================] 38.35K 0s 3ms\n",
      "\n",
      "Time for merging files: 0h 0m 0s 13ms\n",
      "Time for processing: 0h 0m 0s 27ms\n",
      "result2flat tmp/14121415125808179585/input tmp/14121415125808179585/input tmp/14121415125808179585/clu_rep tmp/14121415125808179585/rep_seq.fasta --use-fasta-header -v 3 \n",
      "\n",
      "Time for processing: 0h 0m 0s 29ms\n",
      "createseqfiledb tmp/14121415125808179585/input tmp/14121415125808179585/clu tmp/14121415125808179585/clu_seqs --threads 20 -v 3 \n",
      "\n",
      "Time for merging files: 0h 0m 0s 11ms\n",
      "Time for processing: 0h 0m 0s 68ms\n",
      "result2flat tmp/14121415125808179585/input tmp/14121415125808179585/input tmp/14121415125808179585/clu_seqs tmp/14121415125808179585/all_seqs.fasta -v 3 \n",
      "\n",
      "Time for processing: 0h 0m 0s 50ms\n"
     ]
    }
   ],
   "source": [
    "\n",
    "data_df = clusterTool.cluster(data_df, min_identity=0.8, coverage=0.5,\n",
    "                   cov_mode=0, cluster_mode=1)"
   ]
  },
  {
   "cell_type": "code",
   "execution_count": 26,
   "id": "5bdf2854",
   "metadata": {},
   "outputs": [],
   "source": [
    "def compare_sequences(seq1, seq2, method=\"\"):\n",
    "    spacer = '.' * 3\n",
    "    #print('IIELSNTADKI   IGILAKSIERL')\n",
    "    print('x  da  x  d'+(\" \"*len(spacer))+'a  x  da  x ')\n",
    "    print(f'{seq1.n_seq}{spacer}{seq1.c_seq} {np.round(seq1[\"rot_main\"],1)} {np.round(seq1[\"rot_aux\"],1)} {seq1.desc}')\n",
    "    r=\"\"\n",
    "    c=0\n",
    "    for i,j in zip(list(seq1.n_seq+spacer+seq1.c_seq), list(seq2.n_seq+spacer+seq2.c_seq)):\n",
    "        if i==j and i!=spacer[0]:\n",
    "            r+='|'\n",
    "        else:\n",
    "            r+=' '\n",
    "    print(r)\n",
    "    print(f'{seq2.n_seq}{spacer}{seq2.c_seq} {np.round(seq2[\"rot_main\"],1)} {np.round(seq2[\"rot_aux\"],1)} {seq2.desc}')"
   ]
  },
  {
   "cell_type": "code",
   "execution_count": 27,
   "id": "4ee2e693",
   "metadata": {},
   "outputs": [],
   "source": [
    "def max_ident(sequences):\n",
    "    m = [0, 0, 0]\n",
    "    for i in range(len(sequences)):\n",
    "        for j in range(len(sequences)):\n",
    "            if i>j:\n",
    "                ident = (sequence_identity(sequences[i], sequences[j]))\n",
    "                if ident>m[0]:\n",
    "                    \n",
    "                    # check if the difference is only in the core positions\n",
    "                    \n",
    "                    #       IIELSNTADKIIGILAKSIERL\n",
    "                    #       x  da  x  da  x  da  x\n",
    "                    mask = \"*  **  *  **  *  **  *\"\n",
    "                    \n",
    "                    OK=True\n",
    "                    for aa1, aa2, aam in zip(list(sequences[i]), list(sequences[j]), list(mask)):\n",
    "                        if aa1!=aa2 and aam!='*':\n",
    "                            OK=False\n",
    "                            break\n",
    "                            \n",
    "                            \n",
    "                    if OK:\n",
    "                        m = [ident, i, j]                \n",
    "    return m"
   ]
  },
  {
   "cell_type": "code",
   "execution_count": 28,
   "id": "96f0f283",
   "metadata": {},
   "outputs": [],
   "source": [
    "def all_ident(sequences):\n",
    "    res = []\n",
    "    for i in range(len(sequences)):\n",
    "        for j in range(len(sequences)):\n",
    "            if i>j:\n",
    "                # check if the difference is only in the core positions\n",
    "                \n",
    "                #       a  x  da  x   x  da  x  d    \n",
    "                #       EAGLAEMSRQH   AARIAKGVNEL\n",
    "                #       IIELSNTADKI   IGILAKSIERL\n",
    "                #       x  da  x  d   a  x  da  x\n",
    "                mask = \"*  **  *  *\"+\"*  *  **  *\"\n",
    "\n",
    "                OK=True\n",
    "                mut_pos = []\n",
    "                for aa1, aa2, aam, pos in zip(list(sequences[i]), \n",
    "                                              list(sequences[j]), \n",
    "                                              list(mask), \n",
    "                                              range(len(mask))):\n",
    "                    \n",
    "                    # we look for mutations only in the defined core positions (mask)\n",
    "                    if aa1!=aa2:\n",
    "                        if aam!='*':\n",
    "                            OK=False\n",
    "                            break\n",
    "                        else:\n",
    "                            mut_pos.append(pos)\n",
    "\n",
    "\n",
    "                if OK:\n",
    "                    ident = (sequence_identity(sequences[i], sequences[j]))\n",
    "                    res.append([ident, i, j, mut_pos])\n",
    "    return res"
   ]
  },
  {
   "cell_type": "code",
   "execution_count": 29,
   "id": "b36c01c1",
   "metadata": {
    "scrolled": true
   },
   "outputs": [],
   "source": [
    "def compare_similar(method, MIN_CLUST_SIZE=2, mark_clusters = []):\n",
    "\n",
    "    res = []\n",
    "\n",
    "    for clust_id, g in (data_df.groupby('clust_id')):\n",
    "        size = len(g)\n",
    "        if size<MIN_CLUST_SIZE: continue\n",
    "\n",
    "        # all-vs-all seq ident\n",
    "        for seq_diff, i, j, mut_pos in all_ident(g.sequence.tolist()):\n",
    "            if len(mut_pos) != 1: continue\n",
    "            mut_pos_new = mut_pos[0]\n",
    "\n",
    "            # gather data\n",
    "            rot_min = g.iloc[i][f'rot_{method}'] \n",
    "            rot_max = g.iloc[j][f'rot_{method}']\n",
    "\n",
    "            newi, newj = i,j\n",
    "            if rot_min>rot_max:\n",
    "                newi = j\n",
    "                newj = i\n",
    "\n",
    "            rot_diff = abs(rot_max - rot_min)\n",
    "            rot_min_row = g.iloc[newi]\n",
    "            rot_max_row = g.iloc[newj]  \n",
    "            rot_min_desc = rot_min_row.desc.split('/')[0]\n",
    "            rot_max_desc = rot_max_row.desc.split('/')[0]\n",
    "            \n",
    "            if clust_id in mark_clusters: \n",
    "                color = 'red'\n",
    "            else:\n",
    "                color = 'grey'\n",
    "\n",
    "            res.append([clust_id, seq_diff, rot_diff, rot_min, rot_max, rot_min_row.name, rot_max_row.name, color])\n",
    "\n",
    "    res_df = pd.DataFrame(res, columns=['clust_id', 'seq_diff', 'rot_diff', 'rot_min', 'rot_max', \n",
    "                                       'row_min_id', 'row_max_id', 'color'])\n",
    "    \n",
    "    \n",
    "    res_df['row_min_desc'] = res_df['row_min_id'].apply(lambda x:data_df.loc[x].desc.split('/')[0])\n",
    "    res_df['row_max_desc'] = res_df['row_max_id'].apply(lambda x:data_df.loc[x].desc.split('/')[0])\n",
    "    \n",
    "    return res_df"
   ]
  },
  {
   "cell_type": "code",
   "execution_count": 30,
   "id": "e66c1fb8",
   "metadata": {},
   "outputs": [],
   "source": [
    "def plot_res(res_df, m_n=\"\"):\n",
    "    title_font_size = 10\n",
    "    label_font_size = 10\n",
    "    tick_font_size = 8\n",
    "\n",
    "    fig, ax = plt.subplots(1,1, figsize=(3, 7), dpi=200)\n",
    "    ax.tick_params(axis='both', which='major', labelsize=tick_font_size)\n",
    "    ax.tick_params(axis='both', which='minor', labelsize=tick_font_size)\n",
    "\n",
    "    ax.set_xlabel('', size=label_font_size)\n",
    "    ax.set_ylabel(r'Absolute difference in predicted rotation [$\\degree$]', size=label_font_size)\n",
    "    ax.set_title(\"Effects of point mutations\\nHAMPpred model #\"+m_n, size=title_font_size)\n",
    "\n",
    "    sns.swarmplot(res_df, y='rot_diff', ax=ax, s=2, c=res_df.color)\n",
    "\n",
    "    ax.set_xticks([]) "
   ]
  },
  {
   "cell_type": "code",
   "execution_count": 31,
   "id": "52ffe9f8",
   "metadata": {},
   "outputs": [],
   "source": [
    "mark_cluster = [552]\n",
    "\n",
    "res_df_main = compare_similar(method='main', mark_clusters = mark_cluster)\n",
    "res_df_aux = compare_similar(method='aux', mark_clusters = mark_cluster)"
   ]
  },
  {
   "cell_type": "code",
   "execution_count": 32,
   "id": "b0965f61",
   "metadata": {},
   "outputs": [
    {
     "data": {
      "image/png": "[encoded data removed]",
      "text/plain": [
       "<Figure size 600x1400 with 1 Axes>"
      ]
     },
     "metadata": {},
     "output_type": "display_data"
    }
   ],
   "source": [
    "plot_res(res_df_main, \"1\")"
   ]
  },
  {
   "cell_type": "code",
   "execution_count": 33,
   "id": "f2105660",
   "metadata": {},
   "outputs": [],
   "source": [
    "#plot_res(res_df_aux, '2')"
   ]
  },
  {
   "cell_type": "code",
   "execution_count": 34,
   "id": "ab28562a",
   "metadata": {},
   "outputs": [
    {
     "data": {
      "text/plain": [
       "25"
      ]
     },
     "execution_count": 34,
     "metadata": {},
     "output_type": "execute_result"
    }
   ],
   "source": [
    "# find common\n",
    "TOP = 150\n",
    "\n",
    "common = list(\n",
    "    set(res_df_aux.sort_values(by='rot_diff', ascending=False).head(TOP).index) & \\\n",
    "    set(res_df_main.sort_values(by='rot_diff', ascending=False).head(TOP).index)\n",
    ")\n",
    "\n",
    "assert all(res_df_aux.loc[common][['row_min_id', 'row_max_id']] == res_df_main.loc[common][['row_min_id', 'row_max_id']])\n",
    "\n",
    "\n",
    "len(common)"
   ]
  },
  {
   "cell_type": "code",
   "execution_count": 221,
   "id": "e2c96a46",
   "metadata": {
    "scrolled": false
   },
   "outputs": [
    {
     "name": "stdout",
     "output_type": "stream",
     "text": [
      "552 --------------------------------------------------\n",
      "x  da  x  d   a  x  da  x \n",
      "VRNIAEVTTAV...ILELKNTINTM -8.8 -10.0 K9PBI3_9CYAN/655-707\n",
      "|||||||||||   ||||||| |||\n",
      "VRNIAEVTTAV...ILELKNTFNTM -1.5 -0.3 A0A1N6G1D1_9BACT/411-463\n",
      "\n",
      "K9PBI3_9CYAN A0A1N6G1D1_9BACT\n",
      "\n",
      "x  da  x  d   a  x  da  x \n",
      "VRNIAEVTTAV...ILDLKSTINTM -12.2 -11.1 A0A1U7JAJ8_9CYAN/287-339\n",
      "|||||||||||   ||||||| |||\n",
      "VRNIAEVTTAV...ILDLKSTFNTM -5.3 -0.5 B0UB08_METS4/190-242\n",
      "\n",
      "A0A1U7JAJ8_9CYAN B0UB08_METS4\n",
      "\n",
      "x  da  x  d   a  x  da  x \n",
      "VRNIAEVTTAV...ILELKSTINTM -11.8 -10.2 I4YVW6_9RHIZ/479-531\n",
      "|||||||||||   ||||||| |||\n",
      "VRNIAEVTTAV...ILELKSTFNTM -5.5 -0.2 A0A2U1VYS9_9PROT/282-334\n",
      "\n",
      "I4YVW6_9RHIZ A0A2U1VYS9_9PROT\n",
      "\n",
      "x  da  x  d   a  x  da  x \n",
      "VRNIAEVTTAV...ILELKNTVNTM -7.5 -14.2 D8FVA6_9CYAN/380-432\n",
      "|||||||||||   ||||||| |||\n",
      "VRNIAEVTTAV...ILELKNTFNTM -1.5 -0.3 A0A1N6G1D1_9BACT/411-463\n",
      "\n",
      "D8FVA6_9CYAN A0A1N6G1D1_9BACT\n",
      "\n",
      "x  da  x  d   a  x  da  x \n",
      "VRNIAEVTTAV...ILELKSTVNTM -11.3 -15.4 A0A542ZIX7_9MICO/669-721\n",
      "|||||||||||   ||||||| |||\n",
      "VRNIAEVTTAV...ILELKSTFNTM -5.5 -0.2 A0A2U1VYS9_9PROT/282-334\n",
      "\n",
      "A0A542ZIX7_9MICO A0A2U1VYS9_9PROT\n",
      "\n",
      "x  da  x  d   a  x  da  x \n",
      "VRNIAEVSTAI...ILQLKETINTM -5.0 -10.1 A0A248K2C0_9PROT/346-398\n",
      "|||||||||||   ||||||| |||\n",
      "VRNIAEVSTAI...ILQLKETMNTM 0.8 -3.7 A0A4Q5XVS4_9PROT/401-453\n",
      "\n",
      "A0A248K2C0_9PROT A0A4Q5XVS4_9PROT\n",
      "\n",
      "x  da  x  d   a  x  da  x \n",
      "VRNIATVTTAV...ILELKETINTM -6.2 -8.8 A0A519EQI2_9BURK/312-371\n",
      "|||||||||||   ||||||| |||\n",
      "VRNIATVTTAV...ILELKETFNTM -0.8 -0.1 A0A4Z0BGY9_9BURK/318-370\n",
      "\n",
      "A0A519EQI2_9BURK A0A4Z0BGY9_9BURK\n",
      "\n",
      "x  da  x  d   a  x  da  x \n",
      "VRNIAQVTTAV...ILELKETINTM -7.1 -10.4 A0A2D3U389_STRC0/111-163\n",
      "|||||||||||   ||||||| |||\n",
      "VRNIAQVTTAV...ILELKETMNTM -2.1 -4.4 A0A4Q5XVS4_9PROT/312-361\n",
      "\n",
      "A0A2D3U389_STRC0 A0A4Q5XVS4_9PROT\n",
      "\n",
      "x  da  x  d   a  x  da  x \n",
      "VRNIAQVTTAV...ILELKSTINTM -10.2 -10.2 A0A0M2RGC5_9ACTN/195-247\n",
      "|||||||||||   ||||||| |||\n",
      "VRNIAQVTTAV...ILELKSTMNTM -5.2 -3.4 A0A1G9HBX6_9ACTN/381-433\n",
      "\n",
      "A0A0M2RGC5_9ACTN A0A1G9HBX6_9ACTN\n",
      "\n",
      "x  da  x  d   a  x  da  x \n",
      "VRNIALVTTAV...ILELKTTINTM -10.5 -4.9 A0A0U3NKM6_9ACTN/471-523\n",
      "|||||||||||   ||| |||||||\n",
      "VRNIALVTTAV...ILEMKTTINTM -5.7 -9.5 A0A563EXG1_9PSEU/630-682\n",
      "\n",
      "A0A0U3NKM6_9ACTN A0A563EXG1_9PSEU\n",
      "\n",
      "x  da  x  d   a  x  da  x \n",
      "VRNIAQVTTAV...ILQLKSTINTM -7.9 -9.9 A0A7H8J4P9_9ACTN/266-318\n",
      "|||||||||||   ||||||| |||\n",
      "VRNIAQVTTAV...ILQLKSTMNTM -3.1 -3.3 A0A1N7CPU7_9ACTN/566-617\n",
      "\n",
      "A0A7H8J4P9_9ACTN A0A1N7CPU7_9ACTN\n",
      "\n",
      "x  da  x  d   a  x  da  x \n",
      "VRNIAQVTTAV...ILELKSTVNTM -10.0 -15.6 A0A1Q9RWB5_9PSEU/489-541\n",
      "|||||||||||   ||||||| |||\n",
      "VRNIAQVTTAV...ILELKSTMNTM -5.2 -3.4 A0A1G9HBX6_9ACTN/381-433\n",
      "\n",
      "A0A1Q9RWB5_9PSEU A0A1G9HBX6_9ACTN\n",
      "\n",
      "x  da  x  d   a  x  da  x \n",
      "VRNIAEVATAI...ILQLKETINTM -5.3 -4.8 A0A327L4C1_9RHIZ/355-407\n",
      "|||||||||||   ||||||| |||\n",
      "VRNIAEVATAI...ILQLKETMNTM -0.5 0.0 A0A512MED0_9BACT/33-85\n",
      "\n",
      "A0A327L4C1_9RHIZ A0A512MED0_9BACT\n",
      "\n",
      "x  da  x  d   a  x  da  x \n",
      "VRNIAQVTTAV...ILELKSTLNTM -9.9 -7.8 A0A2T0SV30_9PSEU/375-427\n",
      "|||||||||||   ||||||| |||\n",
      "VRNIAQVTTAV...ILELKSTMNTM -5.2 -3.4 A0A1G9HBX6_9ACTN/381-433\n",
      "\n",
      "A0A2T0SV30_9PSEU A0A1G9HBX6_9ACTN\n",
      "\n",
      "x  da  x  d   a  x  da  x \n",
      "VRNIAQVTTAV...ILQLKSTVNTM -7.6 -15.5 A0A0X3RTC7_9ACTN/315-367\n",
      "|||||||||||   ||||||| |||\n",
      "VRNIAQVTTAV...ILQLKSTMNTM -3.1 -3.3 A0A1N7CPU7_9ACTN/566-617\n",
      "\n",
      "A0A0X3RTC7_9ACTN A0A1N7CPU7_9ACTN\n",
      "\n",
      "x  da  x  d   a  x  da  x \n",
      "VRNIADVTTAV...ILQLKDTINTM -5.5 -8.1 A0A239F2H6_9BURK/837-889\n",
      "|||||||||||   ||||||| |||\n",
      "VRNIADVTTAV...ILQLKDTFNTM -1.3 -0.7 A0A679HUJ9_9BACT/1124-1175\n",
      "\n",
      "A0A239F2H6_9BURK A0A679HUJ9_9BACT\n",
      "\n",
      "x  da  x  d   a  x  da  x \n",
      "VRNIAQVTTAV...ILELKETVNTM -6.3 -14.8 A0A6F7W571_9ACTN/106-158\n",
      "|||||||||||   ||||||| |||\n",
      "VRNIAQVTTAV...ILELKETMNTM -2.1 -4.4 A0A4Q5XVS4_9PROT/312-361\n",
      "\n",
      "A0A6F7W571_9ACTN A0A4Q5XVS4_9PROT\n",
      "\n",
      "x  da  x  d   a  x  da  x \n",
      "VRNIAQVSTAV...ILELKNTVNTM -4.9 -13.1 A0A0A6UW10_ACTUT/44-96\n",
      "|||||||||||   ||||||| |||\n",
      "VRNIAQVSTAV...ILELKNTMNTM -0.7 -4.1 A0A6F8YJJ2_9ACTN/296-347\n",
      "\n",
      "A0A0A6UW10_ACTUT A0A6F8YJJ2_9ACTN\n",
      "\n",
      "x  da  x  d   a  x  da  x \n",
      "VRNIAEVTTAV...ILELKNTINIM -6.4 -12.5 B8HTK6_CYAP4/379-431\n",
      "|||||||||||   ||||||| |||\n",
      "VRNIAEVTTAV...ILELKNTMNIM -2.7 -7.7 K9W804_9CYAN/564-616\n",
      "\n",
      "B8HTK6_CYAP4 K9W804_9CYAN\n",
      "\n",
      "x  da  x  d   a  x  da  x \n",
      "VRNIAEVTTAV...IFELKNTVNIM -5.2 -12.8 K9W804_9CYAN/288-340\n",
      "|||||||||||   ||||||| |||\n",
      "VRNIAEVTTAV...IFELKNTMNIM -2.4 -7.2 K9W804_9CYAN/196-248\n",
      "\n",
      "K9W804_9CYAN K9W804_9CYAN\n",
      "\n",
      "x  da  x  d   a  x  da  x \n",
      "VRNIAEVTTAV...ILELKNTINTL -11.5 -14.5 A0A1S8FDU9_9BURK/564-615\n",
      "|||||||||||   |||||||||| \n",
      "VRNIAEVTTAV...ILELKNTINTM -8.8 -10.0 K9PBI3_9CYAN/655-707\n",
      "\n",
      "A0A1S8FDU9_9BURK K9PBI3_9CYAN\n",
      "\n",
      "5194 --------------------------------------------------\n",
      "x  da  x  d   a  x  da  x \n",
      "LRRMGEVAASV...LAELASTVNAM -2.9 -7.3 A0A6B3NTV6_9PSED/175-228\n",
      "|||||||||||   ||||||| |||\n",
      "LRRMGEVAASV...LAELASTMNAM 1.5 -0.8 A0A7K4EAJ4_PSEPU/170-223\n",
      "\n",
      "A0A6B3NTV6_9PSED A0A7K4EAJ4_PSEPU\n",
      "\n",
      "12500 --------------------------------------------------\n",
      "x  da  x  d   a  x  da  x \n",
      "LSRVAATATRV...VGRMAAAFNRM -10.8 -14.1 A0A1H5PJT4_9ACTN/198-256\n",
      "|||||||||||   ||| |||||||\n",
      "LSRVAATATRV...VGRTAAAFNRM -7.6 -3.7 A0A2N0INM1_9ACTN/219-277\n",
      "\n",
      "A0A1H5PJT4_9ACTN A0A2N0INM1_9ACTN\n",
      "\n",
      "31062 --------------------------------------------------\n",
      "x  da  x  d   a  x  da  x \n",
      "LKRITRVAEEV...IGNLARAFKRM -1.9 -6.3 K9R9B1_9CYAN/235-287\n",
      "||| |||||||   |||||||||||\n",
      "LKRMTRVAEEV...IGNLARAFKRM 1.4 -1.7 A0A2T1D4L2_9CYAN/236-288\n",
      "\n",
      "K9R9B1_9CYAN A0A2T1D4L2_9CYAN\n",
      "\n",
      "69577 --------------------------------------------------\n",
      "x  da  x  d   a  x  da  x \n",
      "LRTLRETADDI...ITALTRTVNGM 1.3 2.9 A1SI82_NOCSJ/226-278\n",
      "|||||||||||   ||||||| |||\n",
      "LRTLRETADDI...ITALTRTFNGM 5.5 7.2 A0A6L6XX35_9ACTN/215-267\n",
      "\n",
      "A1SI82_NOCSJ A0A6L6XX35_9ACTN\n",
      "\n"
     ]
    }
   ],
   "source": [
    "for g_name, g in res_df_main.loc[common].sort_values(by='rot_diff', ascending=False).groupby('clust_id'):\n",
    "\n",
    "    print(str(g_name) + \" \" + '-'*50)\n",
    "    \n",
    "    for idx in g.index:\n",
    "        pair = g.loc[idx]\n",
    "        rot_min_row = data_df.loc[pair.row_min_id]\n",
    "        rot_max_row = data_df.loc[pair.row_max_id]\n",
    "        compare_sequences(rot_min_row, rot_max_row, 'main')\n",
    "\n",
    "        rot_min_desc = rot_min_row.desc.split('/')[0]\n",
    "        rot_max_desc = rot_max_row.desc.split('/')[0]  \n",
    "        print()\n",
    "        print(rot_min_desc, rot_max_desc)\n",
    "        print()\n"
   ]
  },
  {
   "cell_type": "markdown",
   "id": "6ffaf913",
   "metadata": {},
   "source": [
    "### Analyse poly-HAMPs"
   ]
  },
  {
   "cell_type": "code",
   "execution_count": 36,
   "id": "c07640c0",
   "metadata": {},
   "outputs": [
    {
     "name": "stdout",
     "output_type": "stream",
     "text": [
      "PYX32209.1\n",
      "PVZ04703.1\n",
      "AHM63257.1\n",
      "KZB82898.1\n",
      "OXM47601.1\n",
      "PZV96211.1\n",
      "PWC94807.1\n",
      "PZN69162.1\n",
      "PJZ31095.1\n",
      "QER85793.1\n",
      "AXA90328.1\n",
      "QDZ28531.1\n",
      "PYS18698.1\n",
      "PJZ57733.1\n",
      "OYV76641.1\n",
      "OLZ46002.1\n",
      "OAV48710.1\n",
      "PNV32409.1\n",
      "AYG80044.1\n",
      "QDE86919.1\n",
      "OKJ08435.1\n",
      "GAX40976.1\n",
      "BAC88576.1\n",
      "PCC69385.1\n",
      "ALU96599.1\n",
      "QHS64032.1\n",
      "OXM43487.1\n",
      "PYJ57525.1\n",
      "AGM04529.1\n",
      "GAP48851.1\n",
      "PYU97090.1\n",
      "QWA24468.1\n",
      "PDT02807.1\n",
      "QLE58993.1\n",
      "EME52012.1\n",
      "QKW09535.1\n",
      "AGY58915.1\n",
      "AZM51025.1\n",
      "OJH41560.1\n",
      "POX52225.1\n",
      "OWU92479.1\n",
      "TXS06642.1\n",
      "AKF79476.1\n",
      "APX88525.1\n",
      "TXJ23595.1\n",
      "TWJ24605.1\n",
      "ADL43896.1\n",
      "PTY01147.1\n",
      "CAC9974298.1\n",
      "AMY12078.1\n",
      "PZR27878.1\n",
      "ADJ23177.1\n",
      "OLZ45288.1\n",
      "ABF86070.1\n",
      "ELS57048.1\n",
      "OCX52005.1\n",
      "PYR68252.1\n",
      "CCD02174.1\n",
      "BCA54573.1\n",
      "OXM63166.1\n",
      "BDA75023.1\n",
      "BBH65628.1\n",
      "AKJ05961.1\n",
      "ALG73158.1\n",
      "ABK32300.1\n",
      "AVH67450.1\n",
      "OKH16128.1\n",
      "AMV20836.1\n",
      "OYD83186.1\n",
      "ANW01392.1\n",
      "AUI57076.1\n",
      "KUN41687.1\n",
      "OXM51161.1\n",
      "PWC40026.1\n",
      "PWC60148.1\n",
      "OJW55147.1\n",
      "OLO30478.1\n",
      "BBO33313.1\n",
      "PWR06051.1\n",
      "PZH15584.1\n",
      "GAQ63868.1\n",
      "AYL40104.1\n",
      "TXE24974.1\n",
      "ODH03206.1\n",
      "OKI54352.1\n",
      "PYS56188.1\n",
      "RDY65438.1\n",
      "AWL85723.1\n",
      "PWC89754.1\n",
      "QKZ21629.1\n",
      "BCJ27670.1\n",
      "QHT70483.1\n",
      "QSW88420.1\n",
      "OSZ81200.1\n",
      "AXE23279.1\n",
      "AZP22533.1\n",
      "PHK22693.1\n",
      "AGK57612.1\n",
      "PGH46364.1\n",
      "QRK04469.1\n",
      "QIO69095.1\n",
      "OXY84829.1\n",
      "OEZ55062.1\n",
      "OJT23200.1\n",
      "ANK77600.1\n",
      "KUN45893.1\n",
      "AZQ37840.1\n",
      "OAA25320.1\n",
      "GEN05851.1\n",
      "AIB15013.1\n",
      "AIG76292.1\n",
      "PSM42708.1\n",
      "QRM30949.1\n",
      "BCJ92249.1\n",
      "OHV23031.1\n",
      "KUN54795.1\n",
      "CDN52346.1\n",
      "RAJ49946.1\n",
      "EJE51105.1\n",
      "PCG84326.1\n",
      "RAK53020.1\n",
      "AYF30385.1\n",
      "PTA48322.1\n",
      "EJL76739.1\n",
      "OWZ88979.1\n",
      "PWU02858.1\n",
      "PZS16648.1\n",
      "QQR45213.1\n",
      "AFY43549.1\n",
      "TWW01926.1\n",
      "QDO97525.1\n",
      "QFZ73895.1\n",
      "PWK41640.1\n",
      "OKH51400.1\n",
      "EFL09696.1\n",
      "OKK00052.1\n",
      "ATY13716.1\n",
      "BAY63283.1\n",
      "BAY36526.1\n",
      "PGH55997.1\n",
      "OLD21479.1\n",
      "EWM66496.1\n",
      "OHB26489.1\n",
      "AYV56802.1\n",
      "PBC99111.1\n",
      "QSB25304.1\n",
      "APU44650.1\n",
      "OKI75879.1\n",
      "EFL37641.1\n",
      "QCO12394.1\n",
      "ALV31867.1\n",
      "ACC81226.1\n",
      "AYC43788.1\n",
      "AVH69038.1\n",
      "KUN75520.1\n",
      "PUU70955.1\n",
      "BAY21915.1\n",
      "GAX50099.1\n",
      "AEI62965.1\n",
      "QND72772.1\n",
      "BAS56942.1\n",
      "EMF30763.1\n",
      "GBF07867.1\n",
      "OKK01898.1\n",
      "PKT70336.1\n",
      "QDI68688.1\n",
      "GDY79169.1\n",
      "CDN58326.1\n",
      "PWF41753.1\n",
      "QDZ29798.1\n",
      "BAT55711.1\n",
      "PYQ33684.1\n",
      "PWC47455.1\n",
      "AWO01122.1\n",
      "PDS42288.1\n",
      "EYU65743.1\n",
      "CEJ85411.1\n",
      "AWK90144.1\n",
      "AFZ25912.1\n",
      "PYK02759.1\n",
      "OUM03876.1\n",
      "PLS77041.1\n",
      "OYE03589.1\n",
      "PMB47095.1\n",
      "BAL85401.1\n",
      "OYD92181.1\n",
      "OYD93881.1\n",
      "EIG58124.1\n",
      "CBN54296.1\n",
      "QNE74601.1\n",
      "PSB40801.1\n",
      "PBQ34911.1\n",
      "QGN45893.1\n",
      "ORT48654.1\n",
      "PRY29329.1\n",
      "PZS37825.1\n",
      "RAK56389.1\n",
      "RAO03736.1\n",
      "QGZ93559.1\n",
      "BAY31698.1\n",
      "AWL40930.1\n",
      "ACK72149.1\n",
      "EPX59531.1\n",
      "WP\n",
      "CDZ43530.1\n",
      "EEF60017.1\n",
      "OQP47887.1\n",
      "ADN14966.1\n",
      "EXG80149.1\n",
      "EJZ43468.1\n",
      "KXK62864.1\n",
      "PYQ04529.1\n",
      "QYN25773.1\n",
      "QFU16063.1\n",
      "OWY65808.1\n",
      "PSF36018.1\n",
      "EWS94960.1\n",
      "PZN79932.1\n",
      "ALC27162.1\n",
      "CUR34408.1\n",
      "BAZ17484.1\n",
      "OWA25477.1\n",
      "PYV83688.1\n",
      "PWU49089.1\n",
      "CAD0000429.1\n",
      "OKJ38228.1\n",
      "QLG31614.1\n",
      "POG44628.1\n",
      "ACJ66703.1\n",
      "AOU76228.1\n",
      "PLZ74680.1\n",
      "OMP79585.1\n",
      "PWT76809.1\n",
      "GBE91736.1\n",
      "EGK86443.1\n",
      "ACU69099.1\n",
      "OQW52892.1\n",
      "CBG73171.1\n",
      "EIV95483.1\n",
      "OUL18160.1\n",
      "RED22663.1\n",
      "ALA59114.1\n",
      "QKJ32612.1\n",
      "OHV43088.1\n",
      "ANN19688.1\n",
      "ASS58467.1\n",
      "EUB98600.1\n",
      "QIY73872.1\n",
      "QEL16236.1\n",
      "QIF06118.1\n",
      "APT34554.1\n",
      "CDZ26638.1\n",
      "PSC03050.1\n",
      "OSC71026.1\n",
      "QYN31922.1\n",
      "BCJ65235.1\n",
      "BAU08577.1\n",
      "PSB00964.1\n",
      "QER88058.1\n",
      "OKH39791.1\n",
      "QYA97231.1\n",
      "EST30417.1\n",
      "RCV51622.1\n",
      "PTL80703.1\n",
      "QEC80233.1\n",
      "PYX44998.1\n",
      "EFC83982.1\n",
      "OKJ72380.1\n",
      "ABQ36363.1\n",
      "QGZ38482.1\n",
      "AEV81295.1\n",
      "PKA15058.1\n",
      "AQT76821.1\n",
      "EHC08365.1\n",
      "AUC99812.1\n",
      "PYR95575.1\n",
      "ANY80177.1\n",
      "PAY06726.1\n",
      "AGZ38548.1\n",
      "BCB86295.1\n",
      "GAU86683.1\n",
      "PWU48419.1\n",
      "PLZ34423.1\n",
      "GAL83063.1\n",
      "QUW82069.1\n",
      "PWK75257.1\n",
      "CCH15383.1\n",
      "PJZ69491.1\n",
      "PDT11325.1\n",
      "PWT91833.1\n",
      "PXA84217.1\n",
      "AGM06937.1\n",
      "AVT31138.1\n",
      "OLP15536.1\n",
      "PSL22437.1\n",
      "OQQ14265.1\n",
      "PSK65972.1\n",
      "OON32880.1\n",
      "BCL36583.1\n",
      "OWV12985.1\n",
      "QHY98547.1\n",
      "PMR58061.1\n",
      "RAY16698.1\n",
      "KZC00475.1\n",
      "EGL19310.1\n",
      "QOZ21820.1\n",
      "AFZ15373.1\n",
      "QFS43795.1\n",
      "OWK37633.1\n",
      "ALV54602.1\n",
      "AWJ82591.1\n",
      "BAV10030.1\n",
      "QRV30550.1\n",
      "PYJ08595.1\n",
      "OMQ13695.1\n",
      "PYX34881.1\n",
      "AEB42298.1\n",
      "GAO41584.1\n",
      "RED95648.1\n",
      "QBQ35729.1\n",
      "OUL31523.1\n",
      "ARM92373.1\n",
      "OZM76122.1\n",
      "OOC01369.1\n",
      "QYX82553.1\n",
      "EFL38759.1\n",
      "OLE31860.1\n",
      "PLZ67664.1\n",
      "EMF56068.1\n",
      "PYX60852.1\n",
      "KUM76980.1\n",
      "GED89202.1\n",
      "OCC12100.1\n",
      "ONF49001.1\n",
      "RAK61834.1\n",
      "ATB41937.1\n",
      "OKI93475.1\n",
      "QCG90349.1\n",
      "CCE03479.1\n",
      "EFE78039.1\n",
      "OAA23173.1\n",
      "OCK55245.1\n",
      "ELP69677.1\n",
      "GAQ71395.1\n",
      "EGE41379.1\n",
      "ATO17919.1\n",
      "QSQ11298.1\n",
      "QYX77166.1\n",
      "OLD68974.1\n",
      "OUL26126.1\n",
      "AWB09298.1\n",
      "OKJ52766.1\n",
      "RAS08360.1\n",
      "CAX23941.1\n",
      "PZG23224.1\n",
      "QUQ62892.1\n",
      "PJM99605.1\n",
      "KWW99735.1\n",
      "KZA99466.1\n",
      "QDF02288.1\n",
      "OKI73916.1\n",
      "ONI48602.1\n",
      "ARF75659.1\n",
      "PJZ79134.1\n",
      "KYC38390.1\n",
      "CBG75647.1\n",
      "QDE72270.1\n",
      "ADJ48511.1\n",
      "KUN09000.1\n",
      "OPC83172.1\n",
      "POX44679.1\n",
      "PJZ72006.1\n",
      "EPG76170.1\n",
      "QPF88163.1\n",
      "ADI06478.1\n",
      "AGL13814.1\n",
      "KUO03189.1\n",
      "EFL36462.1\n",
      "OXL31185.1\n",
      "OJF15286.1\n",
      "OQW37342.1\n",
      "RAO43421.1\n",
      "OKJ14115.1\n",
      "AMN45326.1\n",
      "ACE94536.1\n",
      "BAY10757.1\n",
      "GCD90955.1\n",
      "GEL40228.1\n",
      "PJZ49277.1\n",
      "QMS87193.1\n",
      "OBY03017.1\n",
      "PXA95970.1\n",
      "EKX64714.1\n",
      "QQZ56834.1\n",
      "PYL97748.1\n",
      "BAZ19723.1\n",
      "QBE65604.1\n",
      "OKJ03623.1\n",
      "REF95819.1\n",
      "BAI75440.1\n",
      "EIM28108.1\n",
      "PJI37395.1\n",
      "RAV98760.1\n",
      "GEC52402.1\n",
      "OSJ10175.1\n",
      "PRX12998.1\n",
      "EHR01727.1\n",
      "OKJ00995.1\n",
      "PYS29555.1\n",
      "OLD70996.1\n",
      "ASG24871.1\n",
      "ACB74424.1\n",
      "PJZ26416.1\n",
      "QIG99106.1\n",
      "BAY14811.1\n",
      "QKW04043.1\n",
      "KUM84581.1\n",
      "QOC94166.1\n",
      "OEV21852.1\n",
      "AXK73318.1\n",
      "PWC41744.1\n",
      "QBI01022.1\n",
      "REG91648.1\n",
      "ACB25190.1\n",
      "KYK48640.1\n",
      "BAJ31118.1\n",
      "ARO33988.1\n",
      "PWB24158.1\n",
      "PYU21146.1\n",
      "QEU68475.1\n",
      "BAZ28066.1\n",
      "KRR26631.1\n",
      "OQP49673.1\n",
      "AJE81913.1\n",
      "PZM80779.1\n",
      "AWS48816.1\n",
      "TWJ00672.1\n",
      "AUI58527.1\n",
      "KTS09099.1\n",
      "AWV14235.1\n",
      "PYO93590.1\n",
      "QQO13322.1\n",
      "PJN25851.1\n",
      "QKQ75952.1\n",
      "PSB41342.1\n",
      "PUZ26454.1\n",
      "ACL61140.1\n",
      "PHJ56927.1\n",
      "OXE43116.1\n",
      "AXI85119.1\n",
      "RCJ38969.1\n",
      "PKA19020.1\n",
      "TWO70330.1\n",
      "CUS39139.1\n",
      "BCJ43812.1\n",
      "AFY46865.1\n",
      "BBD68902.1\n",
      "ONH58066.1\n",
      "PYK89306.1\n",
      "QES56987.1\n",
      "RDS61534.1\n",
      "QTA35181.1\n",
      "ATC63837.1\n",
      "KUN29725.1\n",
      "PZF85389.1\n",
      "APR78272.1\n",
      "QJW95097.1\n",
      "PYL30508.1\n",
      "AKQ69378.1\n",
      "CDZ34640.1\n",
      "QIJ73348.1\n",
      "QFI72124.1\n",
      "BCJ38228.1\n",
      "ACU57824.1\n",
      "KUN60346.1\n",
      "CAL77703.1\n",
      "ACS59322.1\n",
      "KYC42567.1\n",
      "OWW19165.1\n",
      "BCB80970.1\n",
      "RDL08170.1\n",
      "AFZ09704.1\n",
      "QSJ15156.1\n",
      "CAA9213457.1\n",
      "QSS93498.1\n",
      "PDT10061.1\n",
      "ACI58573.1\n",
      "AZO82210.1\n",
      "EQA52738.1\n",
      "QEH34531.1\n",
      "PNV36023.1\n",
      "AXA42711.1\n",
      "CUT11062.1\n",
      "OFA01689.1\n",
      "OAP92402.1\n",
      "CAN95270.1\n",
      "PYX20742.1\n",
      "ACN58987.1\n",
      "AFY30750.1\n",
      "QEC43053.1\n",
      "OLT00382.1\n",
      "BBD61214.1\n",
      "BCJ74350.1\n",
      "ANL31491.1\n",
      "EKS41496.1\n",
      "KUJ49440.1\n",
      "APS18806.1\n",
      "QKT03685.1\n",
      "PWC44733.1\n",
      "PYR20560.1\n",
      "KUL39000.1\n",
      "PYV91127.1\n",
      "EMF57685.1\n",
      "ALF53700.1\n",
      "ONF67413.1\n",
      "BAZ66646.1\n",
      "AXY72685.1\n",
      "ALV35751.1\n",
      "ANE53669.1\n",
      "PQM21970.1\n",
      "ABA24293.1\n",
      "AFY90302.1\n",
      "EMF27381.1\n",
      "QDE88069.1\n",
      "PMB48518.1\n",
      "QDP24617.1\n",
      "BAC73276.1\n",
      "EKX62156.1\n",
      "QLE40094.1\n",
      "BBJ48719.1\n",
      "OPY98619.1\n",
      "ADO75330.1\n",
      "PYY11755.1\n",
      "RAK63048.1\n",
      "CDZ40119.1\n",
      "TXL85201.1\n",
      "QIR38101.1\n",
      "EMR00736.1\n",
      "QXV58950.1\n",
      "PWI18024.1\n",
      "GCD96348.1\n",
      "PSM47630.1\n",
      "QOZ11312.1\n",
      "AEG92321.1\n",
      "CBS90017.1\n",
      "ACG78490.1\n",
      "RCJ23018.1\n",
      "ADP78609.1\n",
      "PYQ53014.1\n",
      "CAD0007437.1\n",
      "PJM92907.1\n",
      "TWJ31786.1\n",
      "OSI62606.1\n",
      "OXA75941.1\n",
      "QXQ99825.1\n",
      "PWC79795.1\n",
      "AIQ88053.1\n",
      "AKH85182.1\n",
      "QDL11507.1\n",
      "KUM69169.1\n",
      "QJY48777.1\n",
      "QRV43964.1\n",
      "PWJ04505.1\n",
      "AGC42043.1\n",
      "AEW00247.1\n",
      "BAG18602.1\n",
      "OIJ66512.1\n",
      "CCD88232.1\n",
      "RDI62539.1\n",
      "QCO18675.1\n",
      "QEC54736.1\n",
      "BAZ49292.1\n",
      "POX43666.1\n",
      "EMD26116.1\n",
      "OXB04452.1\n",
      "QLQ38840.1\n",
      "QKV81219.1\n",
      "PBC77526.1\n",
      "OKK22848.1\n",
      "AGK80551.1\n",
      "AWJ94299.1\n",
      "AWE50199.1\n",
      "PWS48298.1\n",
      "PLZ92450.1\n",
      "PRY00565.1\n",
      "APX87689.1\n",
      "QDO04304.1\n",
      "EJL61647.1\n",
      "EDY20755.1\n",
      "PPK98041.1\n",
      "ANP89509.1\n",
      "KUN62877.1\n",
      "AXO32646.1\n",
      "KUO12571.1\n",
      "QCO05954.1\n",
      "PDS78498.1\n",
      "AGP32639.1\n",
      "QTI48284.1\n",
      "BAJ26544.1\n",
      "OKJ25280.1\n",
      "BAY80186.1\n",
      "KRV51492.1\n",
      "OKO78942.1\n",
      "PXY34171.1\n",
      "QHG18685.1\n",
      "OKI42659.1\n",
      "OSI20587.1\n",
      "QKK32871.1\n",
      "ACK82838.1\n",
      "QSQ20606.1\n",
      "ALV48675.1\n",
      "QFQ94996.1\n",
      "EFE71228.1\n",
      "QWQ40767.1\n",
      "KTS45543.1\n",
      "PYL93482.1\n",
      "ANL44218.1\n",
      "QOZ67214.1\n",
      "BCL32877.1\n",
      "OLZ50213.1\n",
      "ATB45145.1\n",
      "QUC59559.1\n",
      "TWI67641.1\n",
      "AOP33260.1\n",
      "QEU71897.1\n",
      "AUS99509.1\n",
      "EMK01776.1\n",
      "AWM86842.1\n",
      "KUJ35554.1\n",
      "ARE74208.1\n",
      "ALJ38733.1\n",
      "AUW46439.1\n",
      "PWV54301.1\n",
      "PJN21571.1\n",
      "CDZ46194.1\n",
      "AFZ16358.1\n",
      "OHV32619.1\n",
      "QAU41097.1\n",
      "PZS12153.1\n",
      "KUL42937.1\n",
      "AVZ77412.1\n",
      "OKH57951.1\n",
      "CCE08705.1\n",
      "AUH40155.1\n",
      "QNG51281.1\n",
      "GEP45093.1\n",
      "RAN97713.1\n",
      "QDT55822.1\n",
      "AWU96496.1\n",
      "PKV99607.1\n",
      "AYB33435.1\n",
      "OXM68963.1\n",
      "ANM07978.1\n",
      "QCN98876.1\n",
      "PWC89271.1\n",
      "QKW16961.1\n",
      "ACS39475.1\n",
      "BCY05091.1\n",
      "EGY02571.1\n",
      "AWZ16553.1\n",
      "RBP40588.1\n",
      "RCJ29457.1\n",
      "PWC57798.1\n",
      "PYR53226.1\n",
      "AWB25887.1\n",
      "AUX34481.1\n",
      "QXV56695.1\n",
      "ANN18102.1\n",
      "AUB40753.1\n",
      "OQP52748.1\n",
      "QFR00696.1\n",
      "OLY94666.1\n",
      "QIY76935.1\n",
      "GAQ60622.1\n",
      "ARV61896.1\n",
      "AIG78795.1\n",
      "AXE89066.1\n",
      "PLZ23767.1\n",
      "ARO55475.1\n",
      "ERF79841.1\n",
      "PZN55345.1\n",
      "PSO32492.1\n",
      "KRQ96273.1\n",
      "PWR16932.1\n",
      "QDI67566.1\n",
      "GAQ00140.1\n",
      "PPQ60096.1\n",
      "EJT02234.1\n",
      "CDZ64116.1\n",
      "EKF00301.1\n",
      "RAJ35918.1\n",
      "ADU05856.1\n",
      "CAA2141077.1\n",
      "OYD82934.1\n",
      "QLE51440.1\n",
      "KWT92005.1\n",
      "OLZ46668.1\n",
      "PZF87190.1\n",
      "CAG1019061.1\n",
      "QOG00663.1\n",
      "ONF73841.1\n",
      "PLZ11455.1\n",
      "EEP72800.1\n",
      "QDY06001.1\n",
      "AXH90152.1\n",
      "QRO00305.1\n",
      "PLZ86398.1\n",
      "QIZ70605.1\n",
      "BAM89963.1\n",
      "EMF53152.1\n",
      "AUX26465.1\n",
      "PWJ08315.1\n",
      "ABS24754.1\n",
      "PYV90422.1\n",
      "OYU62076.1\n",
      "OQP61895.1\n",
      "QIZ01618.1\n",
      "EJC63771.1\n",
      "PYS29550.1\n",
      "QEC68888.1\n",
      "QCF26971.1\n",
      "OWW22368.1\n",
      "AWZ10738.1\n"
     ]
    }
   ],
   "source": [
    "ids = [ seq.id.split('_')[1] for seq in SeqIO.parse('/home/nfs/morlowska/HAMP/plecha_nr/HAMP/first_HAMP_ready_num_renamed.fst', 'fasta') ]\n",
    "\n",
    "for i in set(ids):\n",
    "    if i.find('|')>-1: continue\n",
    "    print(i)\n",
    "\n",
    "# map with UniProt to UniProt IDs"
   ]
  },
  {
   "cell_type": "code",
   "execution_count": 37,
   "id": "629640fe",
   "metadata": {},
   "outputs": [],
   "source": [
    "# read mappings\n",
    "poly_idmap = pd.read_csv('./data/uniprot-download_true_fields_accession_2Cid_format_tsv-2023.03.21-09.41.00.25.tsv',\n",
    "                        sep='\\t')\n",
    "\n",
    "poly_idmap.set_index('Entry Name', inplace=True)"
   ]
  },
  {
   "cell_type": "code",
   "execution_count": 48,
   "id": "6aa6d5a6",
   "metadata": {},
   "outputs": [
    {
     "ename": "KeyError",
     "evalue": "'A0A563EXG1_9PSEU'",
     "output_type": "error",
     "traceback": [
      "\u001b[0;31m---------------------------------------------------------------------------\u001b[0m",
      "\u001b[0;31mKeyError\u001b[0m                                  Traceback (most recent call last)",
      "File \u001b[0;32m~/miniconda3/envs/hamppred/lib/python3.10/site-packages/pandas/core/indexes/base.py:3803\u001b[0m, in \u001b[0;36mIndex.get_loc\u001b[0;34m(self, key, method, tolerance)\u001b[0m\n\u001b[1;32m   3802\u001b[0m \u001b[38;5;28;01mtry\u001b[39;00m:\n\u001b[0;32m-> 3803\u001b[0m     \u001b[38;5;28;01mreturn\u001b[39;00m \u001b[38;5;28;43mself\u001b[39;49m\u001b[38;5;241;43m.\u001b[39;49m\u001b[43m_engine\u001b[49m\u001b[38;5;241;43m.\u001b[39;49m\u001b[43mget_loc\u001b[49m\u001b[43m(\u001b[49m\u001b[43mcasted_key\u001b[49m\u001b[43m)\u001b[49m\n\u001b[1;32m   3804\u001b[0m \u001b[38;5;28;01mexcept\u001b[39;00m \u001b[38;5;167;01mKeyError\u001b[39;00m \u001b[38;5;28;01mas\u001b[39;00m err:\n",
      "File \u001b[0;32m~/miniconda3/envs/hamppred/lib/python3.10/site-packages/pandas/_libs/index.pyx:138\u001b[0m, in \u001b[0;36mpandas._libs.index.IndexEngine.get_loc\u001b[0;34m()\u001b[0m\n",
      "File \u001b[0;32m~/miniconda3/envs/hamppred/lib/python3.10/site-packages/pandas/_libs/index.pyx:165\u001b[0m, in \u001b[0;36mpandas._libs.index.IndexEngine.get_loc\u001b[0;34m()\u001b[0m\n",
      "File \u001b[0;32mpandas/_libs/hashtable_class_helper.pxi:5745\u001b[0m, in \u001b[0;36mpandas._libs.hashtable.PyObjectHashTable.get_item\u001b[0;34m()\u001b[0m\n",
      "File \u001b[0;32mpandas/_libs/hashtable_class_helper.pxi:5753\u001b[0m, in \u001b[0;36mpandas._libs.hashtable.PyObjectHashTable.get_item\u001b[0;34m()\u001b[0m\n",
      "\u001b[0;31mKeyError\u001b[0m: 'A0A563EXG1_9PSEU'",
      "\nThe above exception was the direct cause of the following exception:\n",
      "\u001b[0;31mKeyError\u001b[0m                                  Traceback (most recent call last)",
      "Cell \u001b[0;32mIn[48], line 1\u001b[0m\n\u001b[0;32m----> 1\u001b[0m \u001b[43mpoly_idmap\u001b[49m\u001b[38;5;241;43m.\u001b[39;49m\u001b[43mloc\u001b[49m\u001b[43m[\u001b[49m\u001b[38;5;124;43m'\u001b[39;49m\u001b[38;5;124;43mA0A563EXG1_9PSEU\u001b[39;49m\u001b[38;5;124;43m'\u001b[39;49m\u001b[43m]\u001b[49m\n",
      "File \u001b[0;32m~/miniconda3/envs/hamppred/lib/python3.10/site-packages/pandas/core/indexing.py:1073\u001b[0m, in \u001b[0;36m_LocationIndexer.__getitem__\u001b[0;34m(self, key)\u001b[0m\n\u001b[1;32m   1070\u001b[0m axis \u001b[38;5;241m=\u001b[39m \u001b[38;5;28mself\u001b[39m\u001b[38;5;241m.\u001b[39maxis \u001b[38;5;129;01mor\u001b[39;00m \u001b[38;5;241m0\u001b[39m\n\u001b[1;32m   1072\u001b[0m maybe_callable \u001b[38;5;241m=\u001b[39m com\u001b[38;5;241m.\u001b[39mapply_if_callable(key, \u001b[38;5;28mself\u001b[39m\u001b[38;5;241m.\u001b[39mobj)\n\u001b[0;32m-> 1073\u001b[0m \u001b[38;5;28;01mreturn\u001b[39;00m \u001b[38;5;28;43mself\u001b[39;49m\u001b[38;5;241;43m.\u001b[39;49m\u001b[43m_getitem_axis\u001b[49m\u001b[43m(\u001b[49m\u001b[43mmaybe_callable\u001b[49m\u001b[43m,\u001b[49m\u001b[43m \u001b[49m\u001b[43maxis\u001b[49m\u001b[38;5;241;43m=\u001b[39;49m\u001b[43maxis\u001b[49m\u001b[43m)\u001b[49m\n",
      "File \u001b[0;32m~/miniconda3/envs/hamppred/lib/python3.10/site-packages/pandas/core/indexing.py:1312\u001b[0m, in \u001b[0;36m_LocIndexer._getitem_axis\u001b[0;34m(self, key, axis)\u001b[0m\n\u001b[1;32m   1310\u001b[0m \u001b[38;5;66;03m# fall thru to straight lookup\u001b[39;00m\n\u001b[1;32m   1311\u001b[0m \u001b[38;5;28mself\u001b[39m\u001b[38;5;241m.\u001b[39m_validate_key(key, axis)\n\u001b[0;32m-> 1312\u001b[0m \u001b[38;5;28;01mreturn\u001b[39;00m \u001b[38;5;28;43mself\u001b[39;49m\u001b[38;5;241;43m.\u001b[39;49m\u001b[43m_get_label\u001b[49m\u001b[43m(\u001b[49m\u001b[43mkey\u001b[49m\u001b[43m,\u001b[49m\u001b[43m \u001b[49m\u001b[43maxis\u001b[49m\u001b[38;5;241;43m=\u001b[39;49m\u001b[43maxis\u001b[49m\u001b[43m)\u001b[49m\n",
      "File \u001b[0;32m~/miniconda3/envs/hamppred/lib/python3.10/site-packages/pandas/core/indexing.py:1260\u001b[0m, in \u001b[0;36m_LocIndexer._get_label\u001b[0;34m(self, label, axis)\u001b[0m\n\u001b[1;32m   1258\u001b[0m \u001b[38;5;28;01mdef\u001b[39;00m \u001b[38;5;21m_get_label\u001b[39m(\u001b[38;5;28mself\u001b[39m, label, axis: \u001b[38;5;28mint\u001b[39m):\n\u001b[1;32m   1259\u001b[0m     \u001b[38;5;66;03m# GH#5567 this will fail if the label is not present in the axis.\u001b[39;00m\n\u001b[0;32m-> 1260\u001b[0m     \u001b[38;5;28;01mreturn\u001b[39;00m \u001b[38;5;28;43mself\u001b[39;49m\u001b[38;5;241;43m.\u001b[39;49m\u001b[43mobj\u001b[49m\u001b[38;5;241;43m.\u001b[39;49m\u001b[43mxs\u001b[49m\u001b[43m(\u001b[49m\u001b[43mlabel\u001b[49m\u001b[43m,\u001b[49m\u001b[43m \u001b[49m\u001b[43maxis\u001b[49m\u001b[38;5;241;43m=\u001b[39;49m\u001b[43maxis\u001b[49m\u001b[43m)\u001b[49m\n",
      "File \u001b[0;32m~/miniconda3/envs/hamppred/lib/python3.10/site-packages/pandas/core/generic.py:4056\u001b[0m, in \u001b[0;36mNDFrame.xs\u001b[0;34m(self, key, axis, level, drop_level)\u001b[0m\n\u001b[1;32m   4054\u001b[0m             new_index \u001b[38;5;241m=\u001b[39m index[loc]\n\u001b[1;32m   4055\u001b[0m \u001b[38;5;28;01melse\u001b[39;00m:\n\u001b[0;32m-> 4056\u001b[0m     loc \u001b[38;5;241m=\u001b[39m \u001b[43mindex\u001b[49m\u001b[38;5;241;43m.\u001b[39;49m\u001b[43mget_loc\u001b[49m\u001b[43m(\u001b[49m\u001b[43mkey\u001b[49m\u001b[43m)\u001b[49m\n\u001b[1;32m   4058\u001b[0m     \u001b[38;5;28;01mif\u001b[39;00m \u001b[38;5;28misinstance\u001b[39m(loc, np\u001b[38;5;241m.\u001b[39mndarray):\n\u001b[1;32m   4059\u001b[0m         \u001b[38;5;28;01mif\u001b[39;00m loc\u001b[38;5;241m.\u001b[39mdtype \u001b[38;5;241m==\u001b[39m np\u001b[38;5;241m.\u001b[39mbool_:\n",
      "File \u001b[0;32m~/miniconda3/envs/hamppred/lib/python3.10/site-packages/pandas/core/indexes/base.py:3805\u001b[0m, in \u001b[0;36mIndex.get_loc\u001b[0;34m(self, key, method, tolerance)\u001b[0m\n\u001b[1;32m   3803\u001b[0m     \u001b[38;5;28;01mreturn\u001b[39;00m \u001b[38;5;28mself\u001b[39m\u001b[38;5;241m.\u001b[39m_engine\u001b[38;5;241m.\u001b[39mget_loc(casted_key)\n\u001b[1;32m   3804\u001b[0m \u001b[38;5;28;01mexcept\u001b[39;00m \u001b[38;5;167;01mKeyError\u001b[39;00m \u001b[38;5;28;01mas\u001b[39;00m err:\n\u001b[0;32m-> 3805\u001b[0m     \u001b[38;5;28;01mraise\u001b[39;00m \u001b[38;5;167;01mKeyError\u001b[39;00m(key) \u001b[38;5;28;01mfrom\u001b[39;00m \u001b[38;5;21;01merr\u001b[39;00m\n\u001b[1;32m   3806\u001b[0m \u001b[38;5;28;01mexcept\u001b[39;00m \u001b[38;5;167;01mTypeError\u001b[39;00m:\n\u001b[1;32m   3807\u001b[0m     \u001b[38;5;66;03m# If we have a listlike key, _check_indexing_error will raise\u001b[39;00m\n\u001b[1;32m   3808\u001b[0m     \u001b[38;5;66;03m#  InvalidIndexError. Otherwise we fall through and re-raise\u001b[39;00m\n\u001b[1;32m   3809\u001b[0m     \u001b[38;5;66;03m#  the TypeError.\u001b[39;00m\n\u001b[1;32m   3810\u001b[0m     \u001b[38;5;28mself\u001b[39m\u001b[38;5;241m.\u001b[39m_check_indexing_error(key)\n",
      "\u001b[0;31mKeyError\u001b[0m: 'A0A563EXG1_9PSEU'"
     ]
    }
   ],
   "source": [
    "poly_idmap.loc['A0A563EXG1_9PSEU']"
   ]
  },
  {
   "cell_type": "code",
   "execution_count": 223,
   "id": "d5609fbc",
   "metadata": {},
   "outputs": [],
   "source": [
    "# res_df_aux[\n",
    "#     (res_df_aux.row_min_desc.isin(poly_idmap.index)) & (res_df_aux.row_max_desc.isin(poly_idmap.index))\n",
    "# ].sort_values(by='rot_diff', ascending=False)"
   ]
  },
  {
   "cell_type": "code",
   "execution_count": 224,
   "id": "e09235e7",
   "metadata": {},
   "outputs": [],
   "source": [
    "#compare_sequences(data_df.loc[51172], data_df.loc[148], 'main')"
   ]
  },
  {
   "cell_type": "code",
   "execution_count": 225,
   "id": "57eba763",
   "metadata": {},
   "outputs": [],
   "source": [
    "# analyse poly-hamps (main method)\n",
    "#res_df_main[res_df_main.color == 'red'].sort_values(by='rot_diff', ascending=False)"
   ]
  },
  {
   "cell_type": "code",
   "execution_count": 229,
   "id": "382cda8f",
   "metadata": {},
   "outputs": [],
   "source": [
    "# analyse poly-hamps (aux method)\n",
    "#res_df_aux[res_df_aux.color == 'red'].sort_values(by='rot_diff', ascending=False)"
   ]
  },
  {
   "cell_type": "code",
   "execution_count": null,
   "id": "f09aae1e",
   "metadata": {},
   "outputs": [],
   "source": []
  },
  {
   "cell_type": "code",
   "execution_count": null,
   "id": "7f943482",
   "metadata": {},
   "outputs": [],
   "source": []
  },
  {
   "cell_type": "code",
   "execution_count": null,
   "id": "46927bab",
   "metadata": {},
   "outputs": [],
   "source": []
  },
  {
   "cell_type": "code",
   "execution_count": 40,
   "id": "f7a1e971",
   "metadata": {},
   "outputs": [
    {
     "data": {
      "text/html": [
       "<div>\n",
       "<style scoped>\n",
       "    .dataframe tbody tr th:only-of-type {\n",
       "        vertical-align: middle;\n",
       "    }\n",
       "\n",
       "    .dataframe tbody tr th {\n",
       "        vertical-align: top;\n",
       "    }\n",
       "\n",
       "    .dataframe thead th {\n",
       "        text-align: right;\n",
       "    }\n",
       "</style>\n",
       "<table border=\"1\" class=\"dataframe\">\n",
       "  <thead>\n",
       "    <tr style=\"text-align: right;\">\n",
       "      <th></th>\n",
       "      <th>clust_id</th>\n",
       "      <th>seq_diff</th>\n",
       "      <th>rot_diff</th>\n",
       "      <th>rot_min</th>\n",
       "      <th>rot_max</th>\n",
       "      <th>row_min_id</th>\n",
       "      <th>row_max_id</th>\n",
       "    </tr>\n",
       "  </thead>\n",
       "  <tbody>\n",
       "    <tr>\n",
       "      <th>1437</th>\n",
       "      <td>69577</td>\n",
       "      <td>95.454545</td>\n",
       "      <td>4.28534</td>\n",
       "      <td>1.25122</td>\n",
       "      <td>5.53656</td>\n",
       "      <td>52401</td>\n",
       "      <td>10577</td>\n",
       "    </tr>\n",
       "  </tbody>\n",
       "</table>\n",
       "</div>"
      ],
      "text/plain": [
       "      clust_id   seq_diff  rot_diff  rot_min  rot_max  row_min_id  row_max_id\n",
       "1437     69577  95.454545   4.28534  1.25122  5.53656       52401       10577"
      ]
     },
     "execution_count": 40,
     "metadata": {},
     "output_type": "execute_result"
    }
   ],
   "source": [
    "g"
   ]
  },
  {
   "cell_type": "code",
   "execution_count": null,
   "id": "66a3be69",
   "metadata": {},
   "outputs": [],
   "source": []
  },
  {
   "cell_type": "code",
   "execution_count": 28,
   "id": "a80bd253",
   "metadata": {},
   "outputs": [
    {
     "data": {
      "text/html": [
       "<div>\n",
       "<style scoped>\n",
       "    .dataframe tbody tr th:only-of-type {\n",
       "        vertical-align: middle;\n",
       "    }\n",
       "\n",
       "    .dataframe tbody tr th {\n",
       "        vertical-align: top;\n",
       "    }\n",
       "\n",
       "    .dataframe thead th {\n",
       "        text-align: right;\n",
       "    }\n",
       "</style>\n",
       "<table border=\"1\" class=\"dataframe\">\n",
       "  <thead>\n",
       "    <tr style=\"text-align: right;\">\n",
       "      <th></th>\n",
       "      <th>clust_id</th>\n",
       "      <th>seq_diff</th>\n",
       "      <th>rot_diff</th>\n",
       "      <th>rot_min</th>\n",
       "      <th>rot_max</th>\n",
       "      <th>row_min_id</th>\n",
       "      <th>row_max_id</th>\n",
       "    </tr>\n",
       "  </thead>\n",
       "  <tbody>\n",
       "    <tr>\n",
       "      <th>232</th>\n",
       "      <td>552</td>\n",
       "      <td>95.454545</td>\n",
       "      <td>10.538080</td>\n",
       "      <td>-11.086540</td>\n",
       "      <td>-0.548460</td>\n",
       "      <td>32230</td>\n",
       "      <td>8148</td>\n",
       "    </tr>\n",
       "    <tr>\n",
       "      <th>137</th>\n",
       "      <td>552</td>\n",
       "      <td>95.454545</td>\n",
       "      <td>13.897576</td>\n",
       "      <td>-14.242147</td>\n",
       "      <td>-0.344571</td>\n",
       "      <td>14112</td>\n",
       "      <td>7025</td>\n",
       "    </tr>\n",
       "    <tr>\n",
       "      <th>207</th>\n",
       "      <td>552</td>\n",
       "      <td>95.454545</td>\n",
       "      <td>10.040075</td>\n",
       "      <td>-0.181607</td>\n",
       "      <td>-10.221682</td>\n",
       "      <td>1993</td>\n",
       "      <td>25792</td>\n",
       "    </tr>\n",
       "    <tr>\n",
       "      <th>208</th>\n",
       "      <td>552</td>\n",
       "      <td>95.454545</td>\n",
       "      <td>15.230750</td>\n",
       "      <td>-0.181607</td>\n",
       "      <td>-15.412357</td>\n",
       "      <td>11040</td>\n",
       "      <td>25792</td>\n",
       "    </tr>\n",
       "    <tr>\n",
       "      <th>94</th>\n",
       "      <td>552</td>\n",
       "      <td>95.454545</td>\n",
       "      <td>9.667584</td>\n",
       "      <td>-0.344571</td>\n",
       "      <td>-10.012154</td>\n",
       "      <td>148</td>\n",
       "      <td>7025</td>\n",
       "    </tr>\n",
       "  </tbody>\n",
       "</table>\n",
       "</div>"
      ],
      "text/plain": [
       "     clust_id   seq_diff   rot_diff    rot_min    rot_max  row_min_id  \\\n",
       "232       552  95.454545  10.538080 -11.086540  -0.548460       32230   \n",
       "137       552  95.454545  13.897576 -14.242147  -0.344571       14112   \n",
       "207       552  95.454545  10.040075  -0.181607 -10.221682        1993   \n",
       "208       552  95.454545  15.230750  -0.181607 -15.412357       11040   \n",
       "94        552  95.454545   9.667584  -0.344571 -10.012154         148   \n",
       "\n",
       "     row_max_id  \n",
       "232        8148  \n",
       "137        7025  \n",
       "207       25792  \n",
       "208       25792  \n",
       "94         7025  "
      ]
     },
     "execution_count": 28,
     "metadata": {},
     "output_type": "execute_result"
    }
   ],
   "source": [
    "res_df_aux.loc[common]"
   ]
  },
  {
   "cell_type": "code",
   "execution_count": null,
   "id": "fe126fd4",
   "metadata": {},
   "outputs": [],
   "source": []
  },
  {
   "cell_type": "code",
   "execution_count": null,
   "id": "33846036",
   "metadata": {},
   "outputs": [],
   "source": []
  },
  {
   "cell_type": "code",
   "execution_count": null,
   "id": "4badc207",
   "metadata": {},
   "outputs": [],
   "source": []
  },
  {
   "cell_type": "code",
   "execution_count": null,
   "id": "d3cf5273",
   "metadata": {},
   "outputs": [],
   "source": []
  },
  {
   "cell_type": "code",
   "execution_count": null,
   "id": "87b4a7eb",
   "metadata": {},
   "outputs": [],
   "source": []
  },
  {
   "cell_type": "code",
   "execution_count": 35,
   "id": "4ee50257",
   "metadata": {},
   "outputs": [
    {
     "data": {
      "text/plain": [
       "189.9"
      ]
     },
     "execution_count": 35,
     "metadata": {},
     "output_type": "execute_result"
    }
   ],
   "source": [
    "radius['F']"
   ]
  },
  {
   "cell_type": "code",
   "execution_count": 36,
   "id": "fd228400",
   "metadata": {},
   "outputs": [
    {
     "data": {
      "text/plain": [
       "<AxesSubplot: >"
      ]
     },
     "execution_count": 36,
     "metadata": {},
     "output_type": "execute_result"
    },
    {
     "data": {
      "image/png": "[encoded data removed]",
      "text/plain": [
       "<Figure size 640x480 with 1 Axes>"
      ]
     },
     "metadata": {},
     "output_type": "display_data"
    }
   ],
   "source": [
    "sns.scatterplot(x=profile_size_change, y=profile_rot_change, c=profile_phobos_change, alpha=0.2, cmap='coolwarm')"
   ]
  },
  {
   "cell_type": "code",
   "execution_count": 37,
   "id": "95cf3f2f",
   "metadata": {},
   "outputs": [
    {
     "data": {
      "text/plain": [
       "{17: 'cyan',\n",
       " 4: 'cyan',\n",
       " 14: 'cyan',\n",
       " 0: 'cyan',\n",
       " 11: 'cyan',\n",
       " 7: 'cyan',\n",
       " 3: 'cyan',\n",
       " 10: 'cyan',\n",
       " 21: 'cyan',\n",
       " 18: 'red'}"
      ]
     },
     "execution_count": 37,
     "metadata": {},
     "output_type": "execute_result"
    }
   ],
   "source": [
    "import matplotlib.cm as cm\n",
    "\n",
    "tmp = res_df.color.unique()\n",
    "    \n",
    "# i:cm.tab20c(pos)\n",
    "palette={i:'red' if i in [18] else 'cyan' for pos, i in enumerate(tmp)}\n",
    "palette"
   ]
  },
  {
   "cell_type": "code",
   "execution_count": 61,
   "id": "b13256dd",
   "metadata": {},
   "outputs": [
    {
     "data": {
      "text/plain": [
       "Text(0.5, 8.888888888888882, 'Mean sequence identity (%)')"
      ]
     },
     "execution_count": 61,
     "metadata": {},
     "output_type": "execute_result"
    }
   ],
   "source": [
    "\n",
    "ax.scatter(res_df['seq_diff'], res_df['rot_diff'], s=2, alpha=1)\n",
    "ax.set_title('HAMP (PF00672)', size=17)\n",
    "ax.set_ylabel('Predicted conformation variability (degrees)', size=13)\n",
    "ax.set_xlabel('Mean sequence identity (%)', size=13)"
   ]
  },
  {
   "cell_type": "code",
   "execution_count": null,
   "id": "ab9832df",
   "metadata": {},
   "outputs": [],
   "source": [
    "# compare neutral to changing substitutions!\n",
    "# color by function!"
   ]
  },
  {
   "cell_type": "code",
   "execution_count": null,
   "id": "7a915c38",
   "metadata": {},
   "outputs": [],
   "source": []
  },
  {
   "cell_type": "code",
   "execution_count": null,
   "id": "d6e5356f",
   "metadata": {},
   "outputs": [],
   "source": []
  },
  {
   "cell_type": "code",
   "execution_count": 16,
   "id": "e64a0529",
   "metadata": {},
   "outputs": [],
   "source": [
    "# def calculate_variability_index(values):\n",
    "#     max_val = max(values)\n",
    "#     min_val = min(values)\n",
    "#     return (max_val - min_val) / (max_val + min_val)\n",
    "\n",
    "# import statistics\n",
    "\n",
    "# def calculate_variability_index2(values):\n",
    "#     mean_val = statistics.mean(values)\n",
    "#     stdev_val = statistics.stdev(values)\n",
    "#     return stdev_val / mean_val\n",
    "\n",
    "\n",
    "# import statistics\n",
    "\n",
    "# def calculate_mad(values):\n",
    "#     median_val = statistics.median(values)\n",
    "#     deviations = [abs(x - median_val) for x in values]\n",
    "#     mad_val = statistics.median(deviations)\n",
    "#     return mad_val\n",
    "\n",
    "# import statistics\n",
    "\n",
    "# def calculate_iqr(values):\n",
    "#     q1 = statistics.median(values[:len(values)//2])\n",
    "#     q3 = statistics.median(values[(len(values)+1)//2:])\n",
    "#     iqr_val = q3 - q1\n",
    "#     return iqr_val"
   ]
  },
  {
   "cell_type": "code",
   "execution_count": 220,
   "id": "88ef28cf",
   "metadata": {},
   "outputs": [
    {
     "name": "stderr",
     "output_type": "stream",
     "text": [
      "  0%|                                                                                                                 | 20/30437 [00:00<00:16, 1794.74it/s]\n"
     ]
    }
   ],
   "source": [
    "method = 'main'\n",
    "\n",
    "res = []\n",
    "\n",
    "for clust_id, g in tqdm(data_df.groupby('clust_id')):\n",
    "    size = len(g)\n",
    "    if size!=2: continue\n",
    "\n",
    "    \n",
    "\n",
    "    break\n",
    "    \n",
    "    # descriptors\n",
    "    g_cons = np.mean(\n",
    "        msa_diversity(g.sequence.tolist())\n",
    "    )\n",
    "                \n",
    "    g_rot = g['rot_'+method].std() \n",
    "    #g_rot = calculate_mad(g['rot_'+method])\n",
    "    \n",
    "    #colors\n",
    "    (name_color, name_color_freq), (go_color, go_color_freq) = group2color(g)\n",
    "    \n",
    "    if go_color=='transcription_regulation':\n",
    "        color = 'red'\n",
    "    elif go_color=='chemotaxis':\n",
    "        color = 'green'\n",
    "    else:\n",
    "        color='lightgrey'\n",
    "\n",
    "            \n",
    "    #if color_freq < 0.25 or color=='x': continue\n",
    "       \n",
    "    # ['transcription_regulation', 'chemotaxis', 'cyclic_nucleotide_biosynthesis', \n",
    "    # 'signal_transduction_regulation', 'nitrogen_fixation', 'response_to_stress', \n",
    "    # 'osmosensory_signaling', 'transmembrane_transport']\n",
    "      \n",
    "        \n",
    "    res.append(\n",
    "        (g_cons, g_rot, color)\n",
    "    )\n",
    "    \n",
    "    if g_rot>4:\n",
    "        print((name_color, name_color_freq), (go_color, go_color_freq), (g_cons, g_rot))\n",
    "        print(g)\n",
    "        print()\n",
    "        #break\n",
    "\n"
   ]
  },
  {
   "cell_type": "code",
   "execution_count": 214,
   "id": "c9b8486f",
   "metadata": {},
   "outputs": [
    {
     "data": {
      "text/plain": [
       "2574"
      ]
     },
     "execution_count": 214,
     "metadata": {},
     "output_type": "execute_result"
    }
   ],
   "source": [
    "res_df = pd.DataFrame(res, columns=['conservation', 'rotation', 'color'])\n",
    "len(res_df)"
   ]
  },
  {
   "cell_type": "code",
   "execution_count": 215,
   "id": "8dba4408",
   "metadata": {},
   "outputs": [
    {
     "data": {
      "text/plain": [
       "Text(0.5, 0, 'Mean sequence identity (%)')"
      ]
     },
     "execution_count": 215,
     "metadata": {},
     "output_type": "execute_result"
    },
    {
     "data": {
      "image/png": "[encoded data removed]",
      "text/plain": [
       "<Figure size 500x500 with 1 Axes>"
      ]
     },
     "metadata": {},
     "output_type": "display_data"
    }
   ],
   "source": [
    "fig, ax = plt.subplots(1,1, figsize=(5, 5), dpi=100)\n",
    "ax.scatter(res_df['conservation'], res_df['rotation'], c=res_df['color'], s=20, alpha=0.5)\n",
    "ax.set_title('HAMP (PF00672)', size=17)\n",
    "ax.set_ylabel('Predicted conformation variability (degrees)', size=13)\n",
    "ax.set_xlabel('Mean sequence identity (%)', size=13)"
   ]
  },
  {
   "cell_type": "code",
   "execution_count": null,
   "id": "cdcc41ff",
   "metadata": {},
   "outputs": [],
   "source": []
  },
  {
   "cell_type": "code",
   "execution_count": null,
   "id": "b767b68e",
   "metadata": {},
   "outputs": [],
   "source": []
  },
  {
   "cell_type": "code",
   "execution_count": 18,
   "id": "7e6f44f1",
   "metadata": {},
   "outputs": [],
   "source": [
    "# def list_to_freq_dict(lst, s):\n",
    "#     freq_dict = {}\n",
    "#     a = 1 / s\n",
    "#     #print(len(lst))\n",
    "#     for element in lst:\n",
    "#         if element in freq_dict:\n",
    "#             freq_dict[element] += a\n",
    "#         else:\n",
    "#             freq_dict[element] = a\n",
    "#     return freq_dict\n",
    "\n",
    "# def scan_cluster(g):\n",
    "#     go = []\n",
    "#     for sid, srow in g.iterrows():\n",
    "#         try:\n",
    "#             uni_desc = uni_df.loc[srow.desc.split('/')[0]]\n",
    "#             go.extend(\n",
    "#                 uni_desc['Gene Ontology (biological process)'].split('; ')\n",
    "#             )\n",
    "#         except KeyError:\n",
    "#             pass\n",
    "#         except AttributeError:\n",
    "#             pass\n",
    "#     return list_to_freq_dict(go, len(g))"
   ]
  },
  {
   "cell_type": "code",
   "execution_count": 19,
   "id": "18f3807a",
   "metadata": {},
   "outputs": [],
   "source": [
    "# from Bio.SubsMat import MatrixInfo\n",
    "\n",
    "\n",
    "# def conservation_index_blosum(sequences):\n",
    "#     \"\"\"\n",
    "#     Calculates the per-column conservation index for a list of protein sequences.\n",
    "    \n",
    "#     Args:\n",
    "#         sequences (list): A list of protein sequences.\n",
    "        \n",
    "#     Returns:\n",
    "#         cons_index (list): A list of conservation scores for each column of the MSA.\n",
    "#     \"\"\"\n",
    "#     # Load the BLOSUM62 substitution matrix\n",
    "#     blosum62 = MatrixInfo.blosum62\n",
    "\n",
    "#     # Dictionary to store the frequency of each amino acid at each position in the MSA\n",
    "#     aa_freq = {}\n",
    "\n",
    "#     # Calculate the frequency of each amino acid at each position\n",
    "#     for sequence in sequences:\n",
    "#         for i, aa in enumerate(sequence):\n",
    "#             if i not in aa_freq:\n",
    "#                 aa_freq[i] = {}\n",
    "#             if aa not in aa_freq[i]:\n",
    "#                 aa_freq[i][aa] = 0\n",
    "#             aa_freq[i][aa] += 1\n",
    "\n",
    "#     # Calculate the conservation score for each column\n",
    "#     cons_index = []\n",
    "#     for i in range(len(aa_freq)):\n",
    "#         col_scores = []\n",
    "#         for aa1 in aa_freq[i]:\n",
    "#             for aa2 in aa_freq[i]:\n",
    "#                 if aa1 != aa2:\n",
    "#                     score = blosum62.get((aa1, aa2), blosum62.get((aa2, aa1), -4))\n",
    "#                     col_scores.append(score * aa_freq[i][aa1] * aa_freq[i][aa2])\n",
    "#         if not col_scores:\n",
    "#             cons_index.append(0)\n",
    "#         else:\n",
    "#             cons_index.append(sum(col_scores) / (sum(aa_freq[i].values()) ** 2))\n",
    "\n",
    "#     return cons_index\n"
   ]
  },
  {
   "cell_type": "code",
   "execution_count": 20,
   "id": "4eca8f19",
   "metadata": {},
   "outputs": [],
   "source": [
    "# def conservation_index(sequences):\n",
    "#     \"\"\"\n",
    "#     Reads a protein MSA from a file in FASTA format and calculates the per-column conservation index.\n",
    "    \n",
    "#     Args:\n",
    "#         fasta_file (str): Path to the FASTA file containing the protein MSA.\n",
    "        \n",
    "#     Returns:\n",
    "#         cons_index (list): A list of conservation scores for each column of the MSA.\n",
    "#     \"\"\"\n",
    "#     # Dictionary to store the frequency of each amino acid at each position in the MSA\n",
    "#     aa_freq = {}\n",
    "\n",
    "#     # Calculate the frequency of each amino acid at each position\n",
    "#     for sequence in sequences:\n",
    "#         for i, aa in enumerate(sequence):\n",
    "#             if i not in aa_freq:\n",
    "#                 aa_freq[i] = {}\n",
    "#             if aa not in aa_freq[i]:\n",
    "#                 aa_freq[i][aa] = 0\n",
    "#             aa_freq[i][aa] += 1\n",
    "\n",
    "#     # Calculate the conservation score for each column\n",
    "#     cons_index = []\n",
    "#     for i in range(len(aa_freq)):\n",
    "#         total_aa = sum(aa_freq[i].values())\n",
    "#         if total_aa == 0:\n",
    "#             cons_index.append(0)\n",
    "#         else:\n",
    "#             max_freq = max(aa_freq[i].values())\n",
    "#             cons_index.append(max_freq / total_aa)\n",
    "\n",
    "#     return cons_index\n"
   ]
  },
  {
   "cell_type": "code",
   "execution_count": 21,
   "id": "4830355e",
   "metadata": {},
   "outputs": [],
   "source": [
    "# def group2fasta(g, fname):\n",
    "#     with open(fname, 'wt') as f:    \n",
    "#         for i, g in g.iterrows():\n",
    "#             f.write(f'>{i}\\n{g.sequence}\\n')\n",
    "        \n",
    "# def most_frequent_string(strings):\n",
    "#     string_counts = Counter(strings)\n",
    "#     most_common_string, frequency = string_counts.most_common(1)[0]\n",
    "#     return most_common_string, frequency / len(strings)\n"
   ]
  },
  {
   "cell_type": "markdown",
   "id": "bd72b1b0",
   "metadata": {},
   "source": [
    "### all-vs-all in clusters approach"
   ]
  },
  {
   "cell_type": "code",
   "execution_count": 638,
   "id": "e26636de",
   "metadata": {},
   "outputs": [
    {
     "name": "stderr",
     "output_type": "stream",
     "text": [
      "100%|██████████████████████████████████████████████████████████████████████████████████████████████████████████████| 30437/30437 [00:18<00:00, 1604.66it/s]\n"
     ]
    }
   ],
   "source": [
    "def compare_dataframe_rows(df, sequence_column):\n",
    "    n = len(df)\n",
    "    similarities = []\n",
    "    for i in range(n):\n",
    "        for j in range(i+1, n):\n",
    "            row1 = df.iloc[i]\n",
    "            row2 = df.iloc[j]\n",
    "            seq_similarity = sequence_identity(row1[sequence_column], row2[sequence_column])\n",
    "            rot_diff_main = abs(row1['rot_main'] - row2['rot_main'])\n",
    "            rot_diff_aux = abs(row1['rot_aux'] - row2['rot_aux'])\n",
    "            similarities.append((row1.desc.split('/')[0], row2.desc.split('/')[0], seq_similarity, rot_diff_main, \n",
    "                                 rot_diff_aux, row1.name, row2.name))\n",
    "    return similarities\n",
    "\n",
    "res_list=[]\n",
    "\n",
    "# iterate over groups defined by mmseqs2\n",
    "for i, g in tqdm(data_df.groupby('clust_id')):\n",
    "    if len(g)<MIN_CLU_SIZE: continue\n",
    "        \n",
    "    if len(g)>50: continue\n",
    "    \n",
    "    # in each group compare all the sequences all-vs-all\n",
    "    res = compare_dataframe_rows(g, 'sequence')\n",
    "    \n",
    "    \n",
    "    \n",
    "    # i,j are protein ids and i_idx, j_idx are indexes in data_df\n",
    "    res_df = pd.DataFrame(res, columns=['i', 'j', 'seq_sim', 'rot_diff_main', \"rot_diff_aux\", \"i_idx\", 'j_idx'])\n",
    "    res_df['cluster'] = i\n",
    "    res_list.append(res_df)\n",
    "    \n",
    "res_df = pd.concat(res_list)"
   ]
  },
  {
   "cell_type": "code",
   "execution_count": 645,
   "id": "07d94a04",
   "metadata": {
    "scrolled": true
   },
   "outputs": [
    {
     "name": "stdout",
     "output_type": "stream",
     "text": [
      "0\n"
     ]
    }
   ],
   "source": [
    "method = 'main'\n",
    "count=0\n",
    "X,Y, C=[],[],[]\n",
    "for clust_id, g in data_df.groupby('clust_id'):\n",
    "    size = len(g)\n",
    "    if size<5 or size>50: continue\n",
    "        \n",
    "    count+=1\n",
    "    continue\n",
    "        \n",
    "    g_res = res_df[res_df.cluster==clust_id]\n",
    "    \n",
    "    # full msa conservation vs hamp conservation\n",
    "    #( clustalo)\n",
    "    \n",
    "    # pair with the max predicted rot difference \n",
    "    rot_max_row = g_res.iloc[g_res['rot_diff_'+method].argmax()]\n",
    "    rm_seq_sim = rot_max_row.seq_sim\n",
    "    rm_rot = rot_max_row['rot_diff_'+method]\n",
    "    \n",
    "    # whole cluster\n",
    "    seq_sim_mean = g_res.seq_sim.mean()\n",
    "    rot_diff_mean = g_res['rot_diff_'+method].mean()\n",
    "    \n",
    "    # set color\n",
    "    \n",
    "    sc = scan_cluster(g)\n",
    "    \n",
    "    if len(sc)==0:\n",
    "        continue\n",
    "    else: \n",
    "        q = 'regulation of DNA-templated transcription [GO:0006355]' in sc.keys()\n",
    "        p = 'chemotaxis [GO:0006935]' in sc.keys()\n",
    "        \n",
    "        if p and not q:\n",
    "            color = 'red'\n",
    "        elif q and not p:\n",
    "            color='blue'\n",
    "        else:\n",
    "            color='grey'\n",
    "            #print(sc)\n",
    "            continue\n",
    "  \n",
    "    # show model proteins\n",
    "    #if clust_id in cluster2desc.keys():\n",
    "    #    color='red'\n",
    "    #else:\n",
    "    #    color='lightgrey'\n",
    "\n",
    "    Y.append(seq_sim_mean)\n",
    "    X.append(rm_rot)\n",
    "    C.append(color)\n",
    "    \n",
    "    if rot_diff_mean > 7 and seq_sim_mean > 70 and seq_sim_mean < 75:\n",
    "        print(\" \".join([p.split('/')[0] for p in g.desc.tolist()]))\n",
    "        print(\"\")\n",
    "        print(g)\n",
    "        print()\n",
    "        \n",
    "print(len(X))"
   ]
  },
  {
   "cell_type": "code",
   "execution_count": 646,
   "id": "6dbcf31b",
   "metadata": {},
   "outputs": [
    {
     "data": {
      "text/plain": [
       "1095"
      ]
     },
     "execution_count": 646,
     "metadata": {},
     "output_type": "execute_result"
    }
   ],
   "source": [
    "count"
   ]
  },
  {
   "cell_type": "code",
   "execution_count": 640,
   "id": "59e89dbf",
   "metadata": {
    "scrolled": false
   },
   "outputs": [
    {
     "name": "stderr",
     "output_type": "stream",
     "text": [
      "/tmp/ipykernel_32185/2380154057.py:3: UserWarning: No data for colormapping provided via 'c'. Parameters 'cmap' will be ignored\n",
      "  ax.scatter(X, Y, c=C, s=20, cmap='coolwarm', alpha=0.5)\n"
     ]
    },
    {
     "data": {
      "text/plain": [
       "Text(0, 0.5, 'Mean sequence identity (%)')"
      ]
     },
     "execution_count": 640,
     "metadata": {},
     "output_type": "execute_result"
    },
    {
     "data": {
      "image/png": "[encoded data removed]",
      "text/plain": [
       "<Figure size 500x500 with 1 Axes>"
      ]
     },
     "metadata": {},
     "output_type": "display_data"
    }
   ],
   "source": [
    "fig, ax = plt.subplots(1,1, figsize=(5, 5), dpi=100)\n",
    "\n",
    "ax.scatter(X, Y, c=C, s=20, cmap='coolwarm', alpha=0.5)\n",
    "ax.set_title('HAMP (PF00672)', size=17)\n",
    "ax.set_xlabel('Predicted rotation variability (degrees)', size=13)\n",
    "ax.set_ylabel('Mean sequence identity (%)', size=13)"
   ]
  },
  {
   "cell_type": "code",
   "execution_count": 123,
   "id": "8f05e1f1",
   "metadata": {},
   "outputs": [
    {
     "data": {
      "text/plain": [
       "242"
      ]
     },
     "execution_count": 123,
     "metadata": {},
     "output_type": "execute_result"
    }
   ],
   "source": [
    "C.count('red')"
   ]
  },
  {
   "cell_type": "code",
   "execution_count": 125,
   "id": "d80b3318",
   "metadata": {},
   "outputs": [
    {
     "data": {
      "text/plain": [
       "64"
      ]
     },
     "execution_count": 125,
     "metadata": {},
     "output_type": "execute_result"
    }
   ],
   "source": [
    "C.count('blue')"
   ]
  },
  {
   "cell_type": "code",
   "execution_count": null,
   "id": "decf2f52",
   "metadata": {},
   "outputs": [],
   "source": []
  },
  {
   "cell_type": "code",
   "execution_count": null,
   "id": "1757994a",
   "metadata": {},
   "outputs": [],
   "source": [
    "#         for rowid, row in g.iterrows():\n",
    "#             ident = row.desc.split('/')[0]\n",
    "#             print(ident)\n",
    "#             if ident == 'Q9KL26_VIBCH':\n",
    "#                 #print(row.sequence, np.round(row['rot_'+method],1), row.desc)\n",
    "#                 #print(seq_sim_mean, rot_diff_mean)\n",
    "#                 pass\n",
    "                \n",
    "        \n",
    "#         #print(f'rot: {np.round(rm_rot, 1)}, sim: {np.round(rm_seq_sim, 1)}')\n",
    "    \n",
    "#         #compare_sequences(data_df.loc[rot_max_row.i_idx], data_df.loc[rot_max_row.j_idx],\n",
    "#         #                 method=method)\n",
    "        \n",
    "#         #for rowid, row in g.iterrows():\n",
    "#         #    if rowid in [rot_max_row.i_idx, rot_max_row.j_idx]: continue     \n",
    "#         #    print(row.sequence, np.round(row['rot_'+method],1), row.desc)\n",
    "        \n",
    "#         #print()\n",
    "#         #print(sc)"
   ]
  },
  {
   "cell_type": "code",
   "execution_count": null,
   "id": "01586e64",
   "metadata": {},
   "outputs": [],
   "source": [
    "# Tar/Tsr - where? comp of chimeras"
   ]
  },
  {
   "cell_type": "code",
   "execution_count": null,
   "id": "e0055518",
   "metadata": {},
   "outputs": [],
   "source": [
    "# chemoreceptors domain composition mapping"
   ]
  },
  {
   "cell_type": "code",
   "execution_count": null,
   "id": "af7afadf",
   "metadata": {},
   "outputs": [],
   "source": [
    "# compare taxonomy"
   ]
  },
  {
   "cell_type": "code",
   "execution_count": null,
   "id": "4690e73f",
   "metadata": {},
   "outputs": [],
   "source": [
    "# Vibrio cholerae, the etiological agent of cholera, was found to be attracted by \n",
    "taurine (2-aminoethanesulfonic acid), a major constituent of human bile. Mlp37, the closest homolog of the previously identified amino acid chemoreceptor Mlp24\n"
   ]
  },
  {
   "cell_type": "code",
   "execution_count": null,
   "id": "6910c038",
   "metadata": {},
   "outputs": [],
   "source": []
  },
  {
   "cell_type": "code",
   "execution_count": null,
   "id": "a5ac2ec4",
   "metadata": {},
   "outputs": [],
   "source": []
  },
  {
   "cell_type": "code",
   "execution_count": null,
   "id": "3a0d983b",
   "metadata": {},
   "outputs": [],
   "source": []
  },
  {
   "cell_type": "code",
   "execution_count": null,
   "id": "5093f695",
   "metadata": {},
   "outputs": [],
   "source": []
  },
  {
   "cell_type": "code",
   "execution_count": null,
   "id": "aa3ee69d",
   "metadata": {},
   "outputs": [],
   "source": []
  },
  {
   "cell_type": "code",
   "execution_count": null,
   "id": "b21e5d87",
   "metadata": {},
   "outputs": [],
   "source": []
  },
  {
   "cell_type": "code",
   "execution_count": 182,
   "id": "d16a5e78",
   "metadata": {},
   "outputs": [],
   "source": [
    "from itertools import chain"
   ]
  },
  {
   "cell_type": "code",
   "execution_count": 185,
   "id": "adf39a98",
   "metadata": {},
   "outputs": [
    {
     "data": {
      "text/plain": [
       "{'chemotaxis [GO:0006935]': 9794.0,\n",
       " 'signal transduction [GO:0007165]': 19591.0,\n",
       " 'cyclic nucleotide biosynthetic process [GO:0009190]': 932.0,\n",
       " 'intracellular signal transduction [GO:0035556]': 903.0,\n",
       " 'regulation of DNA-templated transcription [GO:0006355]': 2045.0,\n",
       " 'phosphorylation [GO:0016310]': 588.0,\n",
       " 'regulation of intracellular signal transduction [GO:1902531]': 857.0,\n",
       " 'protein phosphorylation [GO:0006468]': 51.0,\n",
       " 'osmosensory signaling via phosphorelay pathway [GO:0007234]': 20.0,\n",
       " 'protein autophosphorylation [GO:0046777]': 285.0,\n",
       " 'phosphorelay signal transduction system [GO:0000160]': 82.0,\n",
       " 'nitrogen fixation [GO:0009399]': 103.0,\n",
       " 'protein refolding [GO:0042026]': 1.0,\n",
       " 'phosphate ion transport [GO:0006817]': 18.0,\n",
       " 'cell adhesion involved in single-species biofilm formation [GO:0043709]': 3.0,\n",
       " 'negative regulation of bacterial-type flagellum-dependent cell motility [GO:1902201]': 3.0,\n",
       " 'organic substance transport [GO:0071702]': 2.0,\n",
       " 'transmembrane transport [GO:0055085]': 8.0,\n",
       " 'response to stress [GO:0006950]': 20.0,\n",
       " 'cellular hyperosmotic response [GO:0071474]': 1.0,\n",
       " 'filamentous growth of a population of unicellular organisms in response to biotic stimulus [GO:0036180]': 1.0,\n",
       " 'positive regulation of filamentous growth of a population of unicellular organisms in response to biotic stimulus [GO:1900445]': 1.0,\n",
       " 'DNA repair [GO:0006281]': 2.0,\n",
       " 'methylation [GO:0032259]': 5.0,\n",
       " 'cAMP biosynthetic process [GO:0006171]': 5.0,\n",
       " 'cell cycle [GO:0007049]': 2.0,\n",
       " 'cell division [GO:0051301]': 2.0,\n",
       " 'regulation of apoptotic process [GO:0042981]': 4.0,\n",
       " 'positive chemotaxis [GO:0050918]': 1.0,\n",
       " 'xenobiotic transport [GO:0042908]': 1.0,\n",
       " 'isoprenoid biosynthetic process [GO:0008299]': 1.0,\n",
       " 'proteolysis [GO:0006508]': 1.0,\n",
       " 'response to amino acid [GO:0043200]': 3.0,\n",
       " 'regulation of GTPase activity [GO:0043087]': 1.0,\n",
       " 'cellular response to phosphate starvation [GO:0016036]': 4.0,\n",
       " 'response to herbicide [GO:0009635]': 1.0,\n",
       " \"'de novo' AMP biosynthetic process [GO:0044208]\": 1.0,\n",
       " 'carbohydrate transport [GO:0008643]': 1.0,\n",
       " 'negative regulation of phosphorelay signal transduction system [GO:0070298]': 1.0,\n",
       " 'DNA integration [GO:0015074]': 1.0,\n",
       " 'intracellular protein transport [GO:0006886]': 1.0,\n",
       " 'coenzyme A metabolic process [GO:0015936]': 2.0,\n",
       " 'bacterial-type flagellum organization [GO:0044781]': 1.0,\n",
       " 'SRP-dependent cotranslational protein targeting to membrane [GO:0006614]': 1.0,\n",
       " 'malate transport [GO:0015743]': 1.0,\n",
       " 'positive regulation of cell motility [GO:2000147]': 1.0,\n",
       " 'positive regulation of secondary metabolite biosynthetic process [GO:1900378]': 1.0,\n",
       " 'polysaccharide catabolic process [GO:0000272]': 1.0,\n",
       " 'amino acid metabolic process [GO:0006520]': 1.0,\n",
       " 'protein transport [GO:0015031]': 1.0,\n",
       " 'protein secretion [GO:0009306]': 1.0,\n",
       " 'response to antibiotic [GO:0046677]': 1.0,\n",
       " 'anatomical structure development [GO:0048856]': 1.0,\n",
       " 'translation [GO:0006412]': 1.0}"
      ]
     },
     "execution_count": 185,
     "metadata": {},
     "output_type": "execute_result"
    }
   ],
   "source": [
    "list_to_freq_dict(list(chain(*uni_df['Gene Ontology (biological process)'].apply(lambda x:x.split('; ') if not pd.isna(x) else '').tolist())), 1)"
   ]
  },
  {
   "cell_type": "code",
   "execution_count": null,
   "id": "835c9227",
   "metadata": {},
   "outputs": [],
   "source": []
  },
  {
   "cell_type": "code",
   "execution_count": null,
   "id": "a92f5d50",
   "metadata": {},
   "outputs": [],
   "source": []
  },
  {
   "cell_type": "code",
   "execution_count": null,
   "id": "3c4e23e1",
   "metadata": {},
   "outputs": [],
   "source": []
  },
  {
   "cell_type": "code",
   "execution_count": null,
   "id": "3c126211",
   "metadata": {},
   "outputs": [],
   "source": []
  },
  {
   "cell_type": "code",
   "execution_count": null,
   "id": "64a85947",
   "metadata": {},
   "outputs": [],
   "source": []
  },
  {
   "cell_type": "code",
   "execution_count": 78,
   "id": "a030ba77",
   "metadata": {},
   "outputs": [
    {
     "data": {
      "text/plain": [
       "0.7272727272727273"
      ]
     },
     "execution_count": 78,
     "metadata": {},
     "output_type": "execute_result"
    }
   ],
   "source": [
    "16/22"
   ]
  },
  {
   "cell_type": "code",
   "execution_count": null,
   "id": "21dd9f97",
   "metadata": {},
   "outputs": [],
   "source": []
  },
  {
   "cell_type": "code",
   "execution_count": 354,
   "id": "5b8c3e2a",
   "metadata": {},
   "outputs": [],
   "source": [
    "\n",
    "# def run_al2co(sequences):\n",
    "#     with open('./data/tmp/temp.aln', 'wt') as f:    \n",
    "#         for s in sequences:\n",
    "#             f.write('Sequence  '+s+'\\n')\n",
    "#     os.system('~/apps/al2co/al2co -i ./data/tmp/temp.aln -o ./data/tmp/temp.cons -f 2')\n",
    "    \n",
    "#     cons = []\n",
    "#     with open('./data/tmp/temp.cons', 'rt') as f:\n",
    "#         while True:\n",
    "#             l = f.readline()\n",
    "#             if l[0] == '*': break\n",
    "#             cons.append(float(l.strip().split(' ')[-1]))\n",
    "#     assert len(cons) == 22\n",
    "    \n",
    "#     return np.mean(cons)\n",
    "    \n",
    "      \n"
   ]
  },
  {
   "cell_type": "code",
   "execution_count": 355,
   "id": "eaf7bda6",
   "metadata": {},
   "outputs": [],
   "source": [
    "def group2color(g):\n",
    "    colors=[]\n",
    "    func_arr = []\n",
    "    for i, seq in g.iterrows():\n",
    "        ident = seq.desc.split('/')[0]\n",
    "        try:\n",
    "            func = protein2function_df[protein2function_df.index == ident]\n",
    "            assert len(func)<2\n",
    "            if len(func)==0: raise KeyError\n",
    "            func = func.iloc[0].values\n",
    "        except KeyError:\n",
    "            pass\n",
    "            #func_arr.append(np.array(['UNK', 'UNK'], dtype=object))\n",
    "        else:\n",
    "            func_arr.append(func)\n",
    "    a = np.array(func_arr)\n",
    "    if len(a)>0:\n",
    "        return most_frequent_string(a[:,0]), most_frequent_string(a[:,1])\n",
    "    else:\n",
    "        return ('UNK', 1.0), ('UNK', 1.0)\n",
    "        \n"
   ]
  },
  {
   "cell_type": "code",
   "execution_count": 34,
   "id": "6f9af82b",
   "metadata": {},
   "outputs": [],
   "source": []
  },
  {
   "cell_type": "code",
   "execution_count": 122,
   "id": "ae61ce48",
   "metadata": {},
   "outputs": [],
   "source": [
    "tmp_df = pd.DataFrame(zip(X,Y,C), columns=['rot', 'seq', 'color'])"
   ]
  },
  {
   "cell_type": "code",
   "execution_count": 233,
   "id": "8e410f83",
   "metadata": {},
   "outputs": [
    {
     "name": "stderr",
     "output_type": "stream",
     "text": [
      "37598it [00:08, 4227.67it/s]\n"
     ]
    }
   ],
   "source": [
    "C=[]\n",
    "for _, row in tqdm(res_df.iterrows()):\n",
    "    try:\n",
    "        i_desc = uni_df.loc[row.i]['Gene Ontology (biological process)']\n",
    "        j_desc = uni_df.loc[row.j]['Gene Ontology (biological process)']\n",
    "        \n",
    "        if pd.isna(i_desc)or pd.isna(j_desc):\n",
    "            raise KeyError\n",
    "        \n",
    "    except KeyError:\n",
    "        C.append('white')\n",
    "        continue\n",
    "    \n",
    "    if i_desc.find('chemotaxis') and j_desc.find('chemotaxis'):\n",
    "        C.append('red')\n",
    "    else:\n",
    "        C.append('yellow')\n",
    "    "
   ]
  },
  {
   "cell_type": "code",
   "execution_count": 234,
   "id": "ec43c4dd",
   "metadata": {},
   "outputs": [],
   "source": [
    "assert len(res_df) == len(C)\n",
    "res_df['color'] = C"
   ]
  },
  {
   "cell_type": "code",
   "execution_count": 128,
   "id": "962869cc",
   "metadata": {},
   "outputs": [
    {
     "data": {
      "text/plain": [
       "<AxesSubplot: xlabel='seq', ylabel='Count'>"
      ]
     },
     "execution_count": 128,
     "metadata": {},
     "output_type": "execute_result"
    },
    {
     "data": {
      "image/png": "[encoded data removed]",
      "text/plain": [
       "<Figure size 640x480 with 1 Axes>"
      ]
     },
     "metadata": {},
     "output_type": "display_data"
    }
   ],
   "source": [
    "sns.histplot(data=tmp_df, stat=\"count\", multiple=\"stack\",\n",
    "             x=\"seq\", kde=False,\n",
    "             palette=\"pastel\", hue=\"color\",\n",
    "             element=\"bars\", legend=True)\n"
   ]
  },
  {
   "cell_type": "code",
   "execution_count": null,
   "id": "dc1a702b",
   "metadata": {},
   "outputs": [],
   "source": []
  },
  {
   "cell_type": "code",
   "execution_count": 59,
   "id": "ccf14ebf",
   "metadata": {},
   "outputs": [],
   "source": [
    "x=np.asarray(X)\n",
    "c=np.asarray(C)"
   ]
  },
  {
   "cell_type": "code",
   "execution_count": 84,
   "id": "dfd62cce",
   "metadata": {},
   "outputs": [],
   "source": []
  },
  {
   "cell_type": "code",
   "execution_count": 601,
   "id": "7ae08e58",
   "metadata": {},
   "outputs": [
    {
     "data": {
      "text/plain": [
       "{49578: ['Tsr', 'Tar'], 5089: ['Trg'], 42689: ['Tap'], 31177: ['EnvZ']}"
      ]
     },
     "execution_count": 601,
     "metadata": {},
     "output_type": "execute_result"
    }
   ],
   "source": [
    "# map well-characterised proteins to mmseqs2 clusters\n",
    "\n",
    "cluster2desc = {}\n",
    "\n",
    "for ident, desc in [\n",
    "    # E. coli\n",
    "    ['A0A0H2V3U6_SHIFL/214-265', 'Tsr'],\n",
    "    ['A0A0H2V3U6_SHIFL/214-265', 'Tar'],\n",
    "    ['A0A0H2VWT4_SHIFL/221-272', 'Trg'],\n",
    "    ['MCP4_ECOLI/209-261', 'Tap'],\n",
    "    ['A0A0J8Y5H1_9ENTR/177-229', 'EnvZ'],\n",
    "    \n",
    "    # B. subtilis\n",
    "    #['MCPA_BACSU/300-352', 'McpA'],\n",
    "    #['MCPB_BACSU/301-353', 'McpB'],\n",
    "    #['MCPC_BACSU/295-347', 'McpC']\n",
    "    \n",
    "]:\n",
    "    tmp = data_df[data_df.desc==ident]\n",
    "    if len(tmp)==0:\n",
    "        print(desc, 'not found')\n",
    "        continue\n",
    "    cluster = tmp.iloc[0].clust_id\n",
    "    g = data_df[data_df.clust_id==cluster]\n",
    "    cluster_size = len(g)\n",
    "    \n",
    "    if cluster_size<MIN_CLU_SIZE:\n",
    "        print(desc, 'cluster too small', cluster_size)\n",
    "        print(g)\n",
    "        continue\n",
    "        \n",
    "    if cluster in cluster2desc:\n",
    "        cluster2desc[cluster].append(desc)\n",
    "    else:\n",
    "        cluster2desc[cluster] = [desc]\n",
    "    \n",
    "cluster2desc  "
   ]
  },
  {
   "cell_type": "code",
   "execution_count": 83,
   "id": "9e1f96cd",
   "metadata": {},
   "outputs": [],
   "source": []
  },
  {
   "cell_type": "code",
   "execution_count": 60,
   "id": "f2e97d49",
   "metadata": {
    "scrolled": false
   },
   "outputs": [
    {
     "data": {
      "text/plain": [
       "<AxesSubplot: ylabel='Count'>"
      ]
     },
     "execution_count": 60,
     "metadata": {},
     "output_type": "execute_result"
    },
    {
     "data": {
      "image/png": "[encoded data removed]",
      "text/plain": [
       "<Figure size 640x480 with 1 Axes>"
      ]
     },
     "metadata": {},
     "output_type": "display_data"
    }
   ],
   "source": [
    "sns.histplot(x[c=='green'], color='green')\n",
    "sns.histplot(x[c=='red'], color='red')"
   ]
  },
  {
   "cell_type": "code",
   "execution_count": 18,
   "id": "964c1eed",
   "metadata": {},
   "outputs": [],
   "source": [
    "import seaborn as sns"
   ]
  },
  {
   "cell_type": "code",
   "execution_count": 274,
   "id": "6d3dbe11",
   "metadata": {},
   "outputs": [],
   "source": [
    "#sns.kdeplot(data=geyser, x=\"waiting\", y=\"duration\", hue=\"kind\")"
   ]
  },
  {
   "cell_type": "code",
   "execution_count": null,
   "id": "0f66118b",
   "metadata": {},
   "outputs": [],
   "source": []
  },
  {
   "cell_type": "code",
   "execution_count": null,
   "id": "ed9b7af4",
   "metadata": {},
   "outputs": [],
   "source": []
  },
  {
   "cell_type": "code",
   "execution_count": null,
   "id": "d067cbb8",
   "metadata": {},
   "outputs": [],
   "source": []
  },
  {
   "cell_type": "code",
   "execution_count": 62,
   "id": "fd48a2c9",
   "metadata": {},
   "outputs": [],
   "source": []
  },
  {
   "cell_type": "code",
   "execution_count": 190,
   "id": "b1f6510b",
   "metadata": {},
   "outputs": [],
   "source": [
    "#uni_df#['Protein names'].value_counts()[:10]"
   ]
  },
  {
   "cell_type": "code",
   "execution_count": null,
   "id": "54e28446",
   "metadata": {},
   "outputs": [],
   "source": []
  },
  {
   "cell_type": "code",
   "execution_count": null,
   "id": "c8764c02",
   "metadata": {},
   "outputs": [],
   "source": []
  },
  {
   "cell_type": "code",
   "execution_count": null,
   "id": "1e6f2305",
   "metadata": {},
   "outputs": [],
   "source": []
  },
  {
   "cell_type": "code",
   "execution_count": 52,
   "id": "8e5b884c",
   "metadata": {},
   "outputs": [],
   "source": [
    "res = []\n",
    "for i, g in data_df.groupby('clust_id'):\n",
    "    if len(g)!=2: continue\n",
    "    \n",
    "    sc = scan_cluster(g)\n",
    "    \n",
    "    if len(sc)==0:\n",
    "        continue\n",
    "    else:    \n",
    "        if 'chemotaxis [GO:0006935]' in sc.keys():\n",
    "            t='chemo'\n",
    "        elif 'regulation of DNA-templated transcription [GO:0006355]' in sc.keys():\n",
    "            t='hist'\n",
    "        else:\n",
    "            t='other'\n",
    "    res.append((i, g.rot_aux.min()-g.rot_aux.max(), t))\n",
    "    #break"
   ]
  },
  {
   "cell_type": "code",
   "execution_count": 53,
   "id": "dc5d9b7e",
   "metadata": {},
   "outputs": [
    {
     "data": {
      "text/plain": [
       "4"
      ]
     },
     "execution_count": 53,
     "metadata": {},
     "output_type": "execute_result"
    }
   ],
   "source": [
    "res_df = pd.DataFrame(res, columns=['clust_id', 'rot_main_max_diff', 'type'])\n",
    "len(res_df)"
   ]
  },
  {
   "cell_type": "code",
   "execution_count": 54,
   "id": "81358614",
   "metadata": {},
   "outputs": [
    {
     "data": {
      "text/html": [
       "<div>\n",
       "<style scoped>\n",
       "    .dataframe tbody tr th:only-of-type {\n",
       "        vertical-align: middle;\n",
       "    }\n",
       "\n",
       "    .dataframe tbody tr th {\n",
       "        vertical-align: top;\n",
       "    }\n",
       "\n",
       "    .dataframe thead th {\n",
       "        text-align: right;\n",
       "    }\n",
       "</style>\n",
       "<table border=\"1\" class=\"dataframe\">\n",
       "  <thead>\n",
       "    <tr style=\"text-align: right;\">\n",
       "      <th></th>\n",
       "      <th>clust_id</th>\n",
       "      <th>rot_main_max_diff</th>\n",
       "      <th>type</th>\n",
       "    </tr>\n",
       "  </thead>\n",
       "  <tbody>\n",
       "    <tr>\n",
       "      <th>2</th>\n",
       "      <td>31055</td>\n",
       "      <td>-6.260744</td>\n",
       "      <td>hist</td>\n",
       "    </tr>\n",
       "    <tr>\n",
       "      <th>1</th>\n",
       "      <td>6374</td>\n",
       "      <td>-3.893756</td>\n",
       "      <td>other</td>\n",
       "    </tr>\n",
       "    <tr>\n",
       "      <th>0</th>\n",
       "      <td>2707</td>\n",
       "      <td>-1.265798</td>\n",
       "      <td>other</td>\n",
       "    </tr>\n",
       "    <tr>\n",
       "      <th>3</th>\n",
       "      <td>53859</td>\n",
       "      <td>-0.907727</td>\n",
       "      <td>other</td>\n",
       "    </tr>\n",
       "  </tbody>\n",
       "</table>\n",
       "</div>"
      ],
      "text/plain": [
       "   clust_id  rot_main_max_diff   type\n",
       "2     31055          -6.260744   hist\n",
       "1      6374          -3.893756  other\n",
       "0      2707          -1.265798  other\n",
       "3     53859          -0.907727  other"
      ]
     },
     "execution_count": 54,
     "metadata": {},
     "output_type": "execute_result"
    }
   ],
   "source": [
    "res_df.sort_values(by='rot_main_max_diff', ascending=True)"
   ]
  },
  {
   "cell_type": "code",
   "execution_count": 50,
   "id": "67197a75",
   "metadata": {},
   "outputs": [
    {
     "data": {
      "text/plain": [
       "<AxesSubplot: xlabel='type', ylabel='rot_main_max_diff'>"
      ]
     },
     "execution_count": 50,
     "metadata": {},
     "output_type": "execute_result"
    },
    {
     "data": {
      "image/png": "[encoded data removed]",
      "text/plain": [
       "<Figure size 640x480 with 1 Axes>"
      ]
     },
     "metadata": {},
     "output_type": "display_data"
    }
   ],
   "source": [
    "sns.histplot(data=res_df, y='rot_main_max_diff', x='type', bins=100)"
   ]
  },
  {
   "cell_type": "code",
   "execution_count": null,
   "id": "e23072b6",
   "metadata": {},
   "outputs": [],
   "source": []
  },
  {
   "cell_type": "code",
   "execution_count": 38,
   "id": "67088c02",
   "metadata": {},
   "outputs": [],
   "source": [
    "tmp=data_df[data_df.clust_id==722]"
   ]
  },
  {
   "cell_type": "code",
   "execution_count": 39,
   "id": "fc947a2d",
   "metadata": {},
   "outputs": [
    {
     "ename": "NameError",
     "evalue": "name 'compare_sequences' is not defined",
     "output_type": "error",
     "traceback": [
      "\u001b[0;31m---------------------------------------------------------------------------\u001b[0m",
      "\u001b[0;31mNameError\u001b[0m                                 Traceback (most recent call last)",
      "Cell \u001b[0;32mIn[39], line 1\u001b[0m\n\u001b[0;32m----> 1\u001b[0m \u001b[43mcompare_sequences\u001b[49m(tmp\u001b[38;5;241m.\u001b[39miloc[\u001b[38;5;241m0\u001b[39m], tmp\u001b[38;5;241m.\u001b[39miloc[\u001b[38;5;241m1\u001b[39m], \u001b[38;5;124m'\u001b[39m\u001b[38;5;124mmain\u001b[39m\u001b[38;5;124m'\u001b[39m)\n",
      "\u001b[0;31mNameError\u001b[0m: name 'compare_sequences' is not defined"
     ]
    }
   ],
   "source": [
    "compare_sequences(tmp.iloc[0], tmp.iloc[1], 'main')"
   ]
  },
  {
   "cell_type": "code",
   "execution_count": 137,
   "id": "3888efaf",
   "metadata": {},
   "outputs": [
    {
     "data": {
      "text/plain": [
       "Entry                                                                        A0A5J6SI04\n",
       "Entry Name                                                             A0A5J6SI04_9BACI\n",
       "Protein names                                            histidine kinase (EC 2.7.13.3)\n",
       "Gene Names                                                                   PB01_00560\n",
       "Organism                                                        Psychrobacillus glaciei\n",
       "Length                                                                              459\n",
       "Gene Ontology (biological process)                                                  NaN\n",
       "Gene Ontology (GO)                    membrane [GO:0016020]; ATP binding [GO:0005524...\n",
       "Repeat                                                                              NaN\n",
       "Taxonomic lineage                     Psychrobacillus (genus), Bacillaceae (family),...\n",
       "Pathway                                                                             NaN\n",
       "Name: A0A5J6SI04_9BACI, dtype: object"
      ]
     },
     "execution_count": 137,
     "metadata": {},
     "output_type": "execute_result"
    }
   ],
   "source": [
    "uni_df.loc['A0A5J6SI04_9BACI']"
   ]
  },
  {
   "cell_type": "code",
   "execution_count": null,
   "id": "15bfd55e",
   "metadata": {},
   "outputs": [],
   "source": []
  },
  {
   "cell_type": "code",
   "execution_count": null,
   "id": "3cb9976e",
   "metadata": {},
   "outputs": [],
   "source": []
  },
  {
   "cell_type": "code",
   "execution_count": null,
   "id": "55197c9a",
   "metadata": {},
   "outputs": [],
   "source": []
  },
  {
   "cell_type": "markdown",
   "id": "9aecaacc",
   "metadata": {},
   "source": [
    "# Importance"
   ]
  },
  {
   "cell_type": "code",
   "execution_count": 31,
   "id": "fcee9c45",
   "metadata": {},
   "outputs": [],
   "source": [
    "import itertools"
   ]
  },
  {
   "cell_type": "code",
   "execution_count": 242,
   "id": "ccd0e18d",
   "metadata": {},
   "outputs": [],
   "source": [
    "m = '***********' + '***********'\n",
    "s = 'IIELSNTADKI' + 'IGILAKSIERL'\n",
    "m_pos = [n for n,i in enumerate(list(m)) if i=='*']\n",
    "#m_pos, len(m_pos)"
   ]
  },
  {
   "cell_type": "code",
   "execution_count": 243,
   "id": "2ca0d9c8",
   "metadata": {},
   "outputs": [],
   "source": [
    "aas = ['V', 'I', 'L', 'M', 'F', 'A']\n",
    "\n",
    "def mutate(seq, pos, N):\n",
    "    for n in range(1,N+1):\n",
    "        for muts in itertools.combinations(pos, n):\n",
    "            combs = list(itertools.product(\n",
    "                *[list(itertools.product([mut], aas)) for mut in muts]\n",
    "            ))\n",
    "            \n",
    "            for comb in combs:\n",
    "                new_seq = seq[:]\n",
    "                for p, aa in comb:\n",
    "                    if new_seq[p] == aa: break\n",
    "                    new_seq = new_seq[:p] + aa + new_seq[p+1:]\n",
    "                else: \n",
    "                    yield (new_seq, comb)\n",
    "\n",
    "            \n",
    "                "
   ]
  },
  {
   "cell_type": "code",
   "execution_count": 250,
   "id": "c99b9533",
   "metadata": {},
   "outputs": [],
   "source": [
    "imp = []\n",
    "imp.append(('IIELSNTADKI', 'IGILAKSIERL', -1, 'IIELSNTADKIIGILAKSIERL'))\n",
    "\n",
    "for seq, comb in mutate(s, m_pos, 1):\n",
    "    n = seq[:11]\n",
    "    c = seq[11:]\n",
    "    imp.append((n, c, comb[0][0], n+c))\n",
    "    \n",
    "    \n",
    "imp_df = pd.DataFrame(imp, columns=['n_seq', 'c_seq', 'comb', 'sequence'])"
   ]
  },
  {
   "cell_type": "code",
   "execution_count": 251,
   "id": "242cd1c5",
   "metadata": {},
   "outputs": [],
   "source": [
    "imp_df['pred'] = clf_aux.predict(encode_df(imp_df)).mean(axis=1) / 2\n",
    "\n",
    "#imp_df['pred']= clf_main.predict(imp_df.sequence.tolist()).N_pred.apply(lambda x:np.mean(x)/2).tolist()"
   ]
  },
  {
   "cell_type": "code",
   "execution_count": 252,
   "id": "ab6718c3",
   "metadata": {},
   "outputs": [],
   "source": [
    "imp_df['diff'] = abs(imp_df['pred'] - imp_df.iloc[0].pred)"
   ]
  },
  {
   "cell_type": "code",
   "execution_count": 253,
   "id": "7883dce4",
   "metadata": {},
   "outputs": [
    {
     "data": {
      "text/plain": [
       "comb\n",
       "-1     0.000000\n",
       " 0     1.315285\n",
       " 1     0.475150\n",
       " 2     4.661668\n",
       " 3     2.458989\n",
       " 4     3.954425\n",
       " 5     0.674829\n",
       " 6     3.487037\n",
       " 7     2.736640\n",
       " 8     6.824503\n",
       " 9     1.329492\n",
       " 10    1.268235\n",
       " 11    0.580340\n",
       " 12    6.744746\n",
       " 13    1.681028\n",
       " 14    2.151079\n",
       " 15    6.346503\n",
       " 16    4.249150\n",
       " 17    5.541609\n",
       " 18    4.197907\n",
       " 19    6.724906\n",
       " 20    4.066050\n",
       " 21    4.451372\n",
       "Name: diff, dtype: float64"
      ]
     },
     "execution_count": 253,
     "metadata": {},
     "output_type": "execute_result"
    }
   ],
   "source": [
    "#imp_df['diff'].plot.hist(bins=30)\n",
    "imp_df.groupby('comb')['diff'].mean()"
   ]
  },
  {
   "cell_type": "code",
   "execution_count": 254,
   "id": "f0ae236a",
   "metadata": {},
   "outputs": [
    {
     "data": {
      "text/plain": [
       "<AxesSubplot: >"
      ]
     },
     "execution_count": 254,
     "metadata": {},
     "output_type": "execute_result"
    },
    {
     "data": {
      "image/png": "[encoded data removed]",
      "text/plain": [
       "<Figure size 640x480 with 2 Axes>"
      ]
     },
     "metadata": {},
     "output_type": "display_data"
    }
   ],
   "source": [
    "sns.heatmap(\n",
    "imp_df.groupby('comb')['diff'].mean().values[1:].reshape(1,22),\n",
    "    cmap='coolwarm',\n",
    "    annot = np.asarray(list('IIELSNTADKIIGILAKSIERL')).reshape(1,22), fmt=\"\"\n",
    ")"
   ]
  },
  {
   "cell_type": "code",
   "execution_count": null,
   "id": "574a5abf",
   "metadata": {},
   "outputs": [],
   "source": []
  },
  {
   "cell_type": "code",
   "execution_count": 258,
   "id": "cb342903",
   "metadata": {},
   "outputs": [
    {
     "ename": "KeyboardInterrupt",
     "evalue": "",
     "output_type": "error",
     "traceback": [
      "\u001b[0;31m---------------------------------------------------------------------------\u001b[0m",
      "\u001b[0;31mKeyboardInterrupt\u001b[0m                         Traceback (most recent call last)",
      "Cell \u001b[0;32mIn[258], line 43\u001b[0m\n\u001b[1;32m     40\u001b[0m     newj \u001b[38;5;241m=\u001b[39m i\n\u001b[1;32m     42\u001b[0m rot_diff \u001b[38;5;241m=\u001b[39m \u001b[38;5;28mabs\u001b[39m(rot_max \u001b[38;5;241m-\u001b[39m rot_min)\n\u001b[0;32m---> 43\u001b[0m rot_min_row \u001b[38;5;241m=\u001b[39m \u001b[43mg\u001b[49m\u001b[38;5;241;43m.\u001b[39;49m\u001b[43miloc\u001b[49m\u001b[43m[\u001b[49m\u001b[43mnewi\u001b[49m\u001b[43m]\u001b[49m\n\u001b[1;32m     44\u001b[0m rot_max_row \u001b[38;5;241m=\u001b[39m g\u001b[38;5;241m.\u001b[39miloc[newj]  \n\u001b[1;32m     45\u001b[0m rot_min_desc \u001b[38;5;241m=\u001b[39m rot_min_row\u001b[38;5;241m.\u001b[39mdesc\u001b[38;5;241m.\u001b[39msplit(\u001b[38;5;124m'\u001b[39m\u001b[38;5;124m/\u001b[39m\u001b[38;5;124m'\u001b[39m)[\u001b[38;5;241m0\u001b[39m]\n",
      "File \u001b[0;32m~/miniconda3/envs/hamppred/lib/python3.10/site-packages/pandas/core/indexing.py:1073\u001b[0m, in \u001b[0;36m_LocationIndexer.__getitem__\u001b[0;34m(self, key)\u001b[0m\n\u001b[1;32m   1070\u001b[0m axis \u001b[38;5;241m=\u001b[39m \u001b[38;5;28mself\u001b[39m\u001b[38;5;241m.\u001b[39maxis \u001b[38;5;129;01mor\u001b[39;00m \u001b[38;5;241m0\u001b[39m\n\u001b[1;32m   1072\u001b[0m maybe_callable \u001b[38;5;241m=\u001b[39m com\u001b[38;5;241m.\u001b[39mapply_if_callable(key, \u001b[38;5;28mself\u001b[39m\u001b[38;5;241m.\u001b[39mobj)\n\u001b[0;32m-> 1073\u001b[0m \u001b[38;5;28;01mreturn\u001b[39;00m \u001b[38;5;28;43mself\u001b[39;49m\u001b[38;5;241;43m.\u001b[39;49m\u001b[43m_getitem_axis\u001b[49m\u001b[43m(\u001b[49m\u001b[43mmaybe_callable\u001b[49m\u001b[43m,\u001b[49m\u001b[43m \u001b[49m\u001b[43maxis\u001b[49m\u001b[38;5;241;43m=\u001b[39;49m\u001b[43maxis\u001b[49m\u001b[43m)\u001b[49m\n",
      "File \u001b[0;32m~/miniconda3/envs/hamppred/lib/python3.10/site-packages/pandas/core/indexing.py:1627\u001b[0m, in \u001b[0;36m_iLocIndexer._getitem_axis\u001b[0;34m(self, key, axis)\u001b[0m\n\u001b[1;32m   1624\u001b[0m \u001b[38;5;66;03m# validate the location\u001b[39;00m\n\u001b[1;32m   1625\u001b[0m \u001b[38;5;28mself\u001b[39m\u001b[38;5;241m.\u001b[39m_validate_integer(key, axis)\n\u001b[0;32m-> 1627\u001b[0m \u001b[38;5;28;01mreturn\u001b[39;00m \u001b[38;5;28;43mself\u001b[39;49m\u001b[38;5;241;43m.\u001b[39;49m\u001b[43mobj\u001b[49m\u001b[38;5;241;43m.\u001b[39;49m\u001b[43m_ixs\u001b[49m\u001b[43m(\u001b[49m\u001b[43mkey\u001b[49m\u001b[43m,\u001b[49m\u001b[43m \u001b[49m\u001b[43maxis\u001b[49m\u001b[38;5;241;43m=\u001b[39;49m\u001b[43maxis\u001b[49m\u001b[43m)\u001b[49m\n",
      "File \u001b[0;32m~/miniconda3/envs/hamppred/lib/python3.10/site-packages/pandas/core/frame.py:3714\u001b[0m, in \u001b[0;36mDataFrame._ixs\u001b[0;34m(self, i, axis)\u001b[0m\n\u001b[1;32m   3712\u001b[0m \u001b[38;5;66;03m# irow\u001b[39;00m\n\u001b[1;32m   3713\u001b[0m \u001b[38;5;28;01mif\u001b[39;00m axis \u001b[38;5;241m==\u001b[39m \u001b[38;5;241m0\u001b[39m:\n\u001b[0;32m-> 3714\u001b[0m     new_mgr \u001b[38;5;241m=\u001b[39m \u001b[38;5;28;43mself\u001b[39;49m\u001b[38;5;241;43m.\u001b[39;49m\u001b[43m_mgr\u001b[49m\u001b[38;5;241;43m.\u001b[39;49m\u001b[43mfast_xs\u001b[49m\u001b[43m(\u001b[49m\u001b[43mi\u001b[49m\u001b[43m)\u001b[49m\n\u001b[1;32m   3716\u001b[0m     \u001b[38;5;66;03m# if we are a copy, mark as such\u001b[39;00m\n\u001b[1;32m   3717\u001b[0m     copy \u001b[38;5;241m=\u001b[39m \u001b[38;5;28misinstance\u001b[39m(new_mgr\u001b[38;5;241m.\u001b[39marray, np\u001b[38;5;241m.\u001b[39mndarray) \u001b[38;5;129;01mand\u001b[39;00m new_mgr\u001b[38;5;241m.\u001b[39marray\u001b[38;5;241m.\u001b[39mbase \u001b[38;5;129;01mis\u001b[39;00m \u001b[38;5;28;01mNone\u001b[39;00m\n",
      "File \u001b[0;32m~/miniconda3/envs/hamppred/lib/python3.10/site-packages/pandas/core/internals/managers.py:1099\u001b[0m, in \u001b[0;36mBlockManager.fast_xs\u001b[0;34m(self, loc)\u001b[0m\n\u001b[1;32m   1096\u001b[0m     ref \u001b[38;5;241m=\u001b[39m weakref\u001b[38;5;241m.\u001b[39mref(\u001b[38;5;28mself\u001b[39m\u001b[38;5;241m.\u001b[39mblocks[\u001b[38;5;241m0\u001b[39m])\n\u001b[1;32m   1097\u001b[0m     \u001b[38;5;28;01mreturn\u001b[39;00m SingleBlockManager(block, \u001b[38;5;28mself\u001b[39m\u001b[38;5;241m.\u001b[39maxes[\u001b[38;5;241m0\u001b[39m], [ref], parent\u001b[38;5;241m=\u001b[39m\u001b[38;5;28mself\u001b[39m)\n\u001b[0;32m-> 1099\u001b[0m dtype \u001b[38;5;241m=\u001b[39m \u001b[43minterleaved_dtype\u001b[49m\u001b[43m(\u001b[49m\u001b[43m[\u001b[49m\u001b[43mblk\u001b[49m\u001b[38;5;241;43m.\u001b[39;49m\u001b[43mdtype\u001b[49m\u001b[43m \u001b[49m\u001b[38;5;28;43;01mfor\u001b[39;49;00m\u001b[43m \u001b[49m\u001b[43mblk\u001b[49m\u001b[43m \u001b[49m\u001b[38;5;129;43;01min\u001b[39;49;00m\u001b[43m \u001b[49m\u001b[38;5;28;43mself\u001b[39;49m\u001b[38;5;241;43m.\u001b[39;49m\u001b[43mblocks\u001b[49m\u001b[43m]\u001b[49m\u001b[43m)\u001b[49m\n\u001b[1;32m   1101\u001b[0m n \u001b[38;5;241m=\u001b[39m \u001b[38;5;28mlen\u001b[39m(\u001b[38;5;28mself\u001b[39m)\n\u001b[1;32m   1103\u001b[0m \u001b[38;5;66;03m# GH#46406\u001b[39;00m\n",
      "File \u001b[0;32m~/miniconda3/envs/hamppred/lib/python3.10/site-packages/pandas/core/internals/base.py:226\u001b[0m, in \u001b[0;36minterleaved_dtype\u001b[0;34m(dtypes)\u001b[0m\n\u001b[1;32m    223\u001b[0m \u001b[38;5;28;01mif\u001b[39;00m \u001b[38;5;129;01mnot\u001b[39;00m \u001b[38;5;28mlen\u001b[39m(dtypes):\n\u001b[1;32m    224\u001b[0m     \u001b[38;5;28;01mreturn\u001b[39;00m \u001b[38;5;28;01mNone\u001b[39;00m\n\u001b[0;32m--> 226\u001b[0m \u001b[38;5;28;01mreturn\u001b[39;00m \u001b[43mfind_common_type\u001b[49m\u001b[43m(\u001b[49m\u001b[43mdtypes\u001b[49m\u001b[43m)\u001b[49m\n",
      "File \u001b[0;32m~/miniconda3/envs/hamppred/lib/python3.10/site-packages/pandas/core/dtypes/cast.py:1619\u001b[0m, in \u001b[0;36mfind_common_type\u001b[0;34m(types)\u001b[0m\n\u001b[1;32m   1616\u001b[0m \u001b[38;5;66;03m# get unique types (dict.fromkeys is used as order-preserving set())\u001b[39;00m\n\u001b[1;32m   1617\u001b[0m types \u001b[38;5;241m=\u001b[39m \u001b[38;5;28mlist\u001b[39m(\u001b[38;5;28mdict\u001b[39m\u001b[38;5;241m.\u001b[39mfromkeys(types)\u001b[38;5;241m.\u001b[39mkeys())\n\u001b[0;32m-> 1619\u001b[0m \u001b[38;5;28;01mif\u001b[39;00m \u001b[38;5;28;43many\u001b[39;49m\u001b[43m(\u001b[49m\u001b[38;5;28;43misinstance\u001b[39;49m\u001b[43m(\u001b[49m\u001b[43mt\u001b[49m\u001b[43m,\u001b[49m\u001b[43m \u001b[49m\u001b[43mExtensionDtype\u001b[49m\u001b[43m)\u001b[49m\u001b[43m \u001b[49m\u001b[38;5;28;43;01mfor\u001b[39;49;00m\u001b[43m \u001b[49m\u001b[43mt\u001b[49m\u001b[43m \u001b[49m\u001b[38;5;129;43;01min\u001b[39;49;00m\u001b[43m \u001b[49m\u001b[43mtypes\u001b[49m\u001b[43m)\u001b[49m:\n\u001b[1;32m   1620\u001b[0m     \u001b[38;5;28;01mfor\u001b[39;00m t \u001b[38;5;129;01min\u001b[39;00m types:\n\u001b[1;32m   1621\u001b[0m         \u001b[38;5;28;01mif\u001b[39;00m \u001b[38;5;28misinstance\u001b[39m(t, ExtensionDtype):\n",
      "File \u001b[0;32m~/miniconda3/envs/hamppred/lib/python3.10/site-packages/pandas/core/dtypes/cast.py:1619\u001b[0m, in \u001b[0;36m<genexpr>\u001b[0;34m(.0)\u001b[0m\n\u001b[1;32m   1616\u001b[0m \u001b[38;5;66;03m# get unique types (dict.fromkeys is used as order-preserving set())\u001b[39;00m\n\u001b[1;32m   1617\u001b[0m types \u001b[38;5;241m=\u001b[39m \u001b[38;5;28mlist\u001b[39m(\u001b[38;5;28mdict\u001b[39m\u001b[38;5;241m.\u001b[39mfromkeys(types)\u001b[38;5;241m.\u001b[39mkeys())\n\u001b[0;32m-> 1619\u001b[0m \u001b[38;5;28;01mif\u001b[39;00m \u001b[38;5;28many\u001b[39m(\u001b[38;5;28;43misinstance\u001b[39;49m\u001b[43m(\u001b[49m\u001b[43mt\u001b[49m\u001b[43m,\u001b[49m\u001b[43m \u001b[49m\u001b[43mExtensionDtype\u001b[49m\u001b[43m)\u001b[49m \u001b[38;5;28;01mfor\u001b[39;00m t \u001b[38;5;129;01min\u001b[39;00m types):\n\u001b[1;32m   1620\u001b[0m     \u001b[38;5;28;01mfor\u001b[39;00m t \u001b[38;5;129;01min\u001b[39;00m types:\n\u001b[1;32m   1621\u001b[0m         \u001b[38;5;28;01mif\u001b[39;00m \u001b[38;5;28misinstance\u001b[39m(t, ExtensionDtype):\n",
      "\u001b[0;31mKeyboardInterrupt\u001b[0m: "
     ]
    }
   ],
   "source": [
    "method = 'aux'\n",
    "\n",
    "profile_phobos_change = []\n",
    "profile_size_change =[]\n",
    "profile_rot_change = []\n",
    "\n",
    "res = []\n",
    "\n",
    "for clust_id, g in (data_df.groupby('clust_id')):\n",
    "    size = len(g)\n",
    "    if size<2: continue\n",
    "        \n",
    "    # max rot diff\n",
    "#     rot_min_row = g.iloc[g[f'rot_{method}'].argmin()]\n",
    "#     rot_max_row = g.iloc[g[f'rot_{method}'].argmax()]\n",
    "#     rot_diff = rot_max_row[f'rot_{method}'] - rot_min_row[f'rot_{method}']\n",
    "#     seq_diff = sequence_identity(rot_max_row.sequence, rot_min_row.sequence)   \n",
    "        \n",
    "    # max seq ident    \n",
    "#     seq_diff, i, j = max_ident(g.sequence.tolist())\n",
    "#     rot_diff = abs(g.iloc[i][f'rot_{method}'] - g.iloc[j][f'rot_{method}'])\n",
    "#     rot_min_row = g.iloc[i]\n",
    "#     rot_max_row = g.iloc[j]\n",
    "    \n",
    "    # all-vs-all seq ident\n",
    "    for seq_diff, i, j, mut_pos in all_ident(g.sequence.tolist()):\n",
    "        if len(mut_pos) != 1: continue\n",
    "        mut_pos_new = mut_pos[0]\n",
    "            \n",
    "        # gather data\n",
    "        rot_min = g.iloc[i][f'rot_{method}'] \n",
    "        rot_max = g.iloc[j][f'rot_{method}']\n",
    "        \n",
    "        newi, newj = i,j\n",
    "        if rot_min>rot_max:\n",
    "            #tmp = rot_max\n",
    "            #rot_max = rot_min\n",
    "            #rot_min = tmp\n",
    "            newi = j\n",
    "            newj = i\n",
    "        \n",
    "        rot_diff = abs(rot_max - rot_min)\n",
    "        rot_min_row = g.iloc[newi]\n",
    "        rot_max_row = g.iloc[newj]  \n",
    "        rot_min_desc = rot_min_row.desc.split('/')[0]\n",
    "        rot_max_desc = rot_max_row.desc.split('/')[0]\n",
    "        \n",
    "        # describe mutation type\n",
    "#         aa1 = rot_min_row.sequence[mut_pos_new]\n",
    "#         aa2 = rot_max_row.sequence[mut_pos_new]\n",
    "#         phobos_diff = abs(phobos[aa2] - phobos[aa1])\n",
    "#         size_diff = abs(radius[aa1] - radius[aa2])\n",
    "        \n",
    "#         profile_phobos_change.append(phobos_diff)\n",
    "#         profile_size_change.append(size_diff)\n",
    "#         profile_rot_change.append(rot_diff)\n",
    "\n",
    "        #func_min = protein2function_df.loc[rot_min_desc]\n",
    "        #func_max = protein2function_df.loc[rot_max_desc]\n",
    "        \n",
    "        color = mut_pos_new\n",
    "                \n",
    "        #if len(data_df[data_df.desc.str.startswith(rot_min_desc)])>1:\n",
    "        #    color='red'\n",
    "            \n",
    "        res.append([clust_id, seq_diff, rot_diff, rot_min, rot_max, color, rot_min_row.name, rot_max_row.name])\n",
    "        \n",
    "#         if (rot_diff>=5 and method=='main') or (rot_diff>=9 and method=='aux'):\n",
    "#             compare_sequences(rot_min_row, rot_max_row, method)\n",
    "#             print(rot_min_desc, rot_max_desc, clust_id )\n",
    "#             print(phobos_diff, aa1, aa2)\n",
    "        \n",
    "        \n",
    "res_df = pd.DataFrame(res, columns=['clust_id', 'seq_diff', 'rot_diff', 'rot_min', 'rot_max', 'color', \n",
    "                                   'row_min_id', 'row_max_id'])\n",
    "len(res_df)"
   ]
  },
  {
   "cell_type": "code",
   "execution_count": null,
   "id": "50709d31",
   "metadata": {},
   "outputs": [],
   "source": []
  }
 ],
 "metadata": {
  "kernelspec": {
   "display_name": "hamppred",
   "language": "python",
   "name": "hamppred"
  },
  "language_info": {
   "codemirror_mode": {
    "name": "ipython",
    "version": 3
   },
   "file_extension": ".py",
   "mimetype": "text/x-python",
   "name": "python",
   "nbconvert_exporter": "python",
   "pygments_lexer": "ipython3",
   "version": "3.10.8"
  }
 },
 "nbformat": 4,
 "nbformat_minor": 5
}
