{
 "cells": [
  {
   "cell_type": "code",
   "execution_count": 1,
   "metadata": {},
   "outputs": [],
   "source": [
    "import os\n",
    "import sys\n",
    "import pandas as pd\n",
    "import numpy as np\n",
    "import pickle\n",
    "import glob\n",
    "\n",
    "from sklearn.neural_network import MLPRegressor\n",
    "from sklearn.metrics import mean_absolute_error\n",
    "from sklearn.model_selection import ParameterGrid\n",
    "from sklearn.preprocessing import MinMaxScaler\n",
    "\n",
    "from itertools import chain\n",
    "\n",
    "sys.path.append('../../hamp_pred/')\n",
    "from utils.tools import diffangle\n",
    "\n",
    "sys.path.append('/home/nfs/sdunin/scr/lbs-tools/')\n",
    "from lbs.dl.encoders import radius, phobos\n",
    "\n",
    "import matplotlib.pyplot as plt"
   ]
  },
  {
   "cell_type": "code",
   "execution_count": 2,
   "metadata": {},
   "outputs": [],
   "source": [
    "def scale_dict(d):\n",
    "    a = np.asarray(list(d.values())).reshape(-1, 1)\n",
    "    v = MinMaxScaler().fit_transform(a)\n",
    "    v = v.reshape(len(d)).tolist()\n",
    "    return dict(zip(d.keys(), v))\n",
    "\n",
    "phobos_scaled = scale_dict(phobos)\n",
    "radius_scaled = scale_dict(radius)\n",
    "\n",
    "def encode(seq):\n",
    "    return np.asarray(list(chain(*[(radius_scaled[i], phobos_scaled[i]) for i in list(seq)])))"
   ]
  },
  {
   "cell_type": "code",
   "execution_count": 3,
   "metadata": {},
   "outputs": [],
   "source": [
    "def encode_df(data_df):\n",
    "    n_enc = np.asarray([encode(i) for i in data_df.n_seq.tolist()])\n",
    "    c_enc = np.asarray([encode(i) for i in data_df.c_seq.tolist()])\n",
    "    return np.hstack([np.asarray(n_enc), np.asarray(c_enc)])"
   ]
  },
  {
   "cell_type": "code",
   "execution_count": 4,
   "metadata": {},
   "outputs": [],
   "source": [
    "def get_labels(df):\n",
    "    a = np.vstack(df['rot'].values)\n",
    "    return (a[:,0::2] + a[:,1::2]) / 2"
   ]
  },
  {
   "cell_type": "code",
   "execution_count": 5,
   "metadata": {},
   "outputs": [],
   "source": [
    "DATA_DIR = '../../data/input'\n",
    "DATA_OUT_DIR = '../../data/output/reg'"
   ]
  },
  {
   "cell_type": "markdown",
   "metadata": {},
   "source": [
    "### Train set"
   ]
  },
  {
   "cell_type": "code",
   "execution_count": 6,
   "metadata": {},
   "outputs": [
    {
     "data": {
      "text/plain": [
       "4972"
      ]
     },
     "execution_count": 6,
     "metadata": {},
     "output_type": "execute_result"
    }
   ],
   "source": [
    "data_set = os.path.join(DATA_DIR, 'af2_clean_model_1.p')\n",
    "data_df = pd.read_pickle(data_set)\n",
    "data_df['n_seq'] = data_df['n_seq'].apply(lambda x:x[1:-1])\n",
    "data_df['c_seq'] = data_df['c_seq'].apply(lambda x:x[1:-1])\n",
    "assert all(data_df['n_seq'].str.len() == 11)\n",
    "assert all(data_df['c_seq'].str.len() == 11)\n",
    "X = encode_df(data_df)\n",
    "data_df['emb'] = list(X)\n",
    "y = get_labels(data_df)\n",
    "len(data_df)"
   ]
  },
  {
   "cell_type": "code",
   "execution_count": 7,
   "metadata": {},
   "outputs": [],
   "source": [
    "# train set\n",
    "data_df_train = data_df[data_df['class']=='train']\n",
    "X = np.asarray(data_df_train.emb.tolist())\n",
    "y = get_labels(data_df_train)\n",
    "\n",
    "# validation set\n",
    "data_df_val = data_df[data_df['class']=='val']\n",
    "X_val = np.asarray(data_df_val.emb.tolist())\n",
    "y_val = get_labels(data_df_val)"
   ]
  },
  {
   "cell_type": "markdown",
   "metadata": {},
   "source": [
    "### Train model using the train set"
   ]
  },
  {
   "cell_type": "code",
   "execution_count": 8,
   "metadata": {},
   "outputs": [],
   "source": [
    "tuned_parameters = [\n",
    "    {\n",
    "        \"hidden_layer_sizes\": [  \n",
    "                                (32, 32, 16, ),\n",
    "                                (32, 64, 32, 16, ),\n",
    "                                (32, 64, 64, 32, 16, ),\n",
    "                                (32, 64, 128, 64, 32, 16,),\n",
    "                                (32, 64, 128, 128, 64, 32, 16,),\n",
    "                                (44, 64, 128, 128, 64, 32, 16, ),                               \n",
    "                                (32, 64, 128, 128, 128, 64, 32, 16,),\n",
    "                               ], \n",
    "        \"solver\": ['adam'],\n",
    "        \"n_iter_no_change\": [20], \n",
    "        \"max_iter\": [10000], \n",
    "        \"batch_size\": ['auto']\n",
    "    }\n",
    "]\n",
    "\n",
    "param_list = ParameterGrid(tuned_parameters)\n"
   ]
  },
  {
   "cell_type": "code",
   "execution_count": null,
   "metadata": {
    "scrolled": true
   },
   "outputs": [
    {
     "name": "stdout",
     "output_type": "stream",
     "text": [
      "1 mae_val 7.6\n",
      "2 mae_val 8.7\n",
      "3 mae_val 9.3\n"
     ]
    }
   ],
   "source": [
    "\n",
    "res_dict = {}\n",
    "for n, p in enumerate(param_list):\n",
    "    clf = MLPRegressor(**p, verbose=False)\n",
    "    clf.fit(X, y)    \n",
    "    y_pred = clf.predict(X_val)\n",
    "    mae_val = mean_absolute_error(y_val, y_pred)\n",
    "\n",
    "    res_dict[n] = clf\n",
    "    print(n+1, 'mae_val', np.round(mae_val, 1))\n"
   ]
  },
  {
   "cell_type": "code",
   "execution_count": null,
   "metadata": {},
   "outputs": [],
   "source": [
    "# save models\n",
    "filename = os.path.join(DATA_OUT_DIR, 'regressor_models.p')\n",
    "pickle.dump(res_dict, open(filename, 'wb'))"
   ]
  },
  {
   "cell_type": "markdown",
   "metadata": {},
   "source": [
    "### Performance on the PDB set"
   ]
  },
  {
   "cell_type": "code",
   "execution_count": null,
   "metadata": {},
   "outputs": [],
   "source": [
    "pdb_df = pd.read_pickle(os.path.join(DATA_DIR, 'pdb_measure.p'))\n",
    "pdb_df.rename(columns={'seq1':'n_seq', 'seq2':'c_seq'}, inplace=True)\n",
    "pdb_df = pdb_df[~pdb_df.mutant]\n",
    "pdb_df['sequence'] = pdb_df['n_seq'] + pdb_df['c_seq'] \n",
    "len(pdb_df)"
   ]
  },
  {
   "cell_type": "code",
   "execution_count": null,
   "metadata": {},
   "outputs": [],
   "source": [
    "pdb_df['n_seq'] = pdb_df['n_seq'].apply(lambda x:x[1:-1])\n",
    "pdb_df['c_seq'] = pdb_df['c_seq'].apply(lambda x:x[1:-1])\n",
    "assert all(pdb_df['n_seq'].str.len() == 11)\n",
    "assert all(pdb_df['c_seq'].str.len() == 11)"
   ]
  },
  {
   "cell_type": "code",
   "execution_count": null,
   "metadata": {},
   "outputs": [],
   "source": [
    "X_test = encode_df(pdb_df)\n",
    "y_test = get_labels(pdb_df)"
   ]
  },
  {
   "cell_type": "code",
   "execution_count": null,
   "metadata": {
    "scrolled": false
   },
   "outputs": [],
   "source": [
    "res_dict = pickle.load(open(os.path.join(DATA_OUT_DIR, 'regressor_models.p'), 'rb'))\n",
    "\n",
    "for pos, clf in enumerate(res_dict.values()):    \n",
    "    y_pred = clf.predict(X_test)\n",
    "    y_pred_mean = y_pred.mean(axis=1) / 2\n",
    "    y_test_mean = y_test.mean(axis=1) / 2\n",
    "\n",
    "    mae = mean_absolute_error(y_test, y_pred)\n",
    "\n",
    "\n",
    "    fig, ax = plt.subplots(1,1, figsize=(3, 3), dpi=100)\n",
    "    ax.scatter(y_pred_mean, y_test_mean, color='red', s=20, lw=0.5, edgecolors='k')\n",
    "    ax.set_ylim(-26, 26)\n",
    "    ax.set_xlim(-26, 26)\n",
    "    ax.plot([0, 1], [0, 1], '--', transform=ax.transAxes, color='grey', zorder=0)\n",
    "    ax.set_xlabel('Predicted', size=15)\n",
    "    ax.set_ylabel('PDB structure', size=15)\n",
    "    ax.set_title(f'{pos} {clf.hidden_layer_sizes} MAE:{np.round(mae,1)} {os.path.basename(filename)}')\n",
    "    pass"
   ]
  },
  {
   "cell_type": "markdown",
   "metadata": {},
   "source": [
    "# Paper figure"
   ]
  },
  {
   "cell_type": "code",
   "execution_count": 30,
   "metadata": {},
   "outputs": [],
   "source": [
    "#from hamp_pred.utils.encode import encode_df\n",
    "filename = os.path.join(DATA_OUT_DIR, 'regressor_models.p')\n",
    "res_dict = pickle.load(open(filename, 'rb'))\n",
    "clf_aux = res_dict[0]"
   ]
  },
  {
   "cell_type": "code",
   "execution_count": 31,
   "metadata": {},
   "outputs": [
    {
     "data": {
      "text/plain": [
       "Text(0.5, 1.0, 'HAMPpred model #2')"
      ]
     },
     "execution_count": 31,
     "metadata": {},
     "output_type": "execute_result"
    },
    {
     "data": {
      "image/png": "[encoded data removed]",
      "text/plain": [
       "<Figure size 800x800 with 1 Axes>"
      ]
     },
     "metadata": {
      "needs_background": "light"
     },
     "output_type": "display_data"
    }
   ],
   "source": [
    "y_pred = clf_aux.predict(X_test)\n",
    "y_pred_mean = y_pred.mean(axis=1) / 2\n",
    "y_test_mean = y_test.mean(axis=1) / 2\n",
    "\n",
    "\n",
    "title_font_size = 12\n",
    "label_font_size = 10\n",
    "tick_font_size = 8\n",
    "\n",
    "fig, ax = plt.subplots(1,1, figsize=(4, 4), dpi=200)\n",
    "\n",
    "colors = ['white' if i=='1_2l7i.pdb' else 'grey' for i in pdb_df.index]\n",
    "\n",
    "ax.scatter(y_pred_mean, y_test_mean, color=colors, lw=0.75, edgecolors='k', s=50)\n",
    "\n",
    "ax.set_ylim(-26, 26)\n",
    "ax.set_xlim(-26, 26)\n",
    "ax.plot([0, 1], [0, 1], '--', transform=ax.transAxes, color='grey')\n",
    "\n",
    "ax.set_xlabel(r'Predicted rotation [$\\degree$]', size=label_font_size)\n",
    "ax.set_ylabel(r'Experimental structure rotation [$\\degree$]', size=label_font_size)\n",
    "\n",
    "ax.tick_params(axis='both', which='major', labelsize=tick_font_size)\n",
    "ax.tick_params(axis='both', which='minor', labelsize=tick_font_size)\n",
    "ax.set_title(\"HAMPpred model #2\", size=title_font_size)\n"
   ]
  },
  {
   "cell_type": "code",
   "execution_count": null,
   "metadata": {},
   "outputs": [],
   "source": []
  },
  {
   "cell_type": "code",
   "execution_count": null,
   "metadata": {},
   "outputs": [],
   "source": []
  },
  {
   "cell_type": "code",
   "execution_count": null,
   "metadata": {},
   "outputs": [],
   "source": []
  },
  {
   "cell_type": "code",
   "execution_count": null,
   "metadata": {},
   "outputs": [],
   "source": []
  }
 ],
 "metadata": {
  "kernelspec": {
   "display_name": "Python 3",
   "language": "python",
   "name": "python3"
  },
  "language_info": {
   "codemirror_mode": {
    "name": "ipython",
    "version": 3
   },
   "file_extension": ".py",
   "mimetype": "text/x-python",
   "name": "python",
   "nbconvert_exporter": "python",
   "pygments_lexer": "ipython3",
   "version": "3.10.4"
  }
 },
 "nbformat": 4,
 "nbformat_minor": 2
}
