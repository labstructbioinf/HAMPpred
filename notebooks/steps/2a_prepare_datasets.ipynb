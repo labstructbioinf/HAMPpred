{
 "cells": [
  {
   "cell_type": "code",
   "execution_count": 122,
   "id": "c5800f9a",
   "metadata": {},
   "outputs": [],
   "source": [
    "import os \n",
    "import sys\n",
    "import pandas as pd\n",
    "import numpy as np\n",
    "import matplotlib.pyplot as plt\n",
    "\n",
    "from utils.tools import diffangle\n",
    "\n",
    "# lbs tools package is avaliable at https://github.com/labstructbioinf/lbs-tools\n",
    "sys.path.append('/home/nfs/sdunin/scr/lbs-tools/')\n",
    "from lbs.sequences import mmseqs2"
   ]
  },
  {
   "cell_type": "code",
   "execution_count": 123,
   "id": "343b6fe4",
   "metadata": {},
   "outputs": [],
   "source": [
    "data_dir = './data/'\n",
    "\n",
    "# referece Crick angles\n",
    "crangles = {'a':19.5,'b':122.35,'c':-134.78,'d': -31.92,'e':70.92 ,'f':173.78,'g':-83.35}"
   ]
  },
  {
   "cell_type": "code",
   "execution_count": 124,
   "id": "30147652",
   "metadata": {},
   "outputs": [],
   "source": [
    "def calc_balance(class_name, norm=True):\n",
    "    \n",
    "    BINS = list(np.linspace(-52, 52, 26))\n",
    "    \n",
    "    tmp = pd.cut(data_df[data_df['class']==class_name].rot_mean, bins=BINS, labels=False, retbins=False)#.value_counts().sort_index()\n",
    "    res_vec = np.zeros(len(BINS))\n",
    "    \n",
    "    for g_idx, g in tmp.groupby(tmp):\n",
    "        res_vec[g_idx] = len(g)\n",
    "\n",
    "    if norm:\n",
    "        res_vec = res_vec / res_vec.sum()\n",
    "        \n",
    "    return res_vec"
   ]
  },
  {
   "cell_type": "code",
   "execution_count": 125,
   "id": "f5b8898c",
   "metadata": {},
   "outputs": [],
   "source": [
    "\n",
    "def check_crick(row, MAXROT=55):\n",
    "    return (np.abs(diffangle(row.n_crick_mut[:2].mean(), crangles['a'])) <= MAXROT) and \\\n",
    "           (np.abs(diffangle(row.c_crick_mut[:2].mean(), crangles['a'])) <= MAXROT) \n",
    "\n",
    "def plot(df, BINS=26):\n",
    "    fig, ax = plt.subplots(1, 1, figsize=(5, 5), dpi=100)\n",
    "    df['rot_mean'].plot.hist(bins=BINS, ax=ax)\n",
    "    ax.axvline(x=-52, c='r')\n",
    "    ax.axvline(x=52, c='r')"
   ]
  },
  {
   "cell_type": "markdown",
   "id": "b55c745f",
   "metadata": {},
   "source": [
    "# Read & validate data"
   ]
  },
  {
   "cell_type": "code",
   "execution_count": 126,
   "id": "edc1eb6f",
   "metadata": {},
   "outputs": [
    {
     "data": {
      "text/plain": [
       "5314"
      ]
     },
     "execution_count": 126,
     "metadata": {},
     "output_type": "execute_result"
    }
   ],
   "source": [
    "data_df = pd.read_pickle(os.path.join(data_dir, 'af2.p')) \n",
    "# calculate the relative rotation (i.e., the per-layer difference between N and C helices rotation) \n",
    "data_df['rot'] = diffangle(data_df.n_crick_mut, data_df.c_crick_mut)\n",
    "data_df['rot_mean'] = data_df['rot'].apply(np.mean)\n",
    "data_df['rot_std'] = data_df['rot'].apply(np.std)\n",
    "data_df['sequence'] = data_df['n_seq'] + data_df['c_seq'] # for mmseqs2 clustering\n",
    "\n",
    "len(data_df)"
   ]
  },
  {
   "cell_type": "code",
   "execution_count": 127,
   "id": "75ef3650",
   "metadata": {},
   "outputs": [
    {
     "data": {
      "text/plain": [
       "5124"
      ]
     },
     "execution_count": 127,
     "metadata": {},
     "output_type": "execute_result"
    }
   ],
   "source": [
    "data_df = data_df[data_df.apply(check_crick, axis=1)]\n",
    "len(data_df)"
   ]
  },
  {
   "cell_type": "code",
   "execution_count": 128,
   "id": "7bcbd00b",
   "metadata": {},
   "outputs": [
    {
     "data": {
      "text/plain": [
       "<AxesSubplot: >"
      ]
     },
     "execution_count": 128,
     "metadata": {},
     "output_type": "execute_result"
    },
    {
     "data": {
      "image/png": "[encoded data removed]",
      "text/plain": [
       "<Figure size 432x288 with 1 Axes>"
      ]
     },
     "metadata": {
      "needs_background": "light"
     },
     "output_type": "display_data"
    }
   ],
   "source": [
    "data_df.rot_std.hist(bins=100)"
   ]
  },
  {
   "cell_type": "code",
   "execution_count": 129,
   "id": "2eada041",
   "metadata": {},
   "outputs": [
    {
     "data": {
      "text/plain": [
       "4972"
      ]
     },
     "execution_count": 129,
     "metadata": {},
     "output_type": "execute_result"
    }
   ],
   "source": [
    "data_df = data_df[data_df.rot_std <= 14]\n",
    "data_df = data_df[data_df.rot_mean.abs() <= 52]\n",
    "len(data_df)"
   ]
  },
  {
   "cell_type": "code",
   "execution_count": 130,
   "id": "ad84ccdc",
   "metadata": {},
   "outputs": [],
   "source": [
    "#plot(data_df)"
   ]
  },
  {
   "cell_type": "markdown",
   "id": "7e4c0ca0",
   "metadata": {},
   "source": [
    "# Generate validation set\n",
    "`random sampling`"
   ]
  },
  {
   "cell_type": "code",
   "execution_count": 151,
   "id": "fad64732",
   "metadata": {},
   "outputs": [],
   "source": [
    "MAX_VAL_FRAC = 0.15 # fraction of val in the whole set (model #1)\n",
    "#MAX_VAL_FRAC = 0.001 # fraction of val in the whole set (model #2)\n",
    "data_df['class'] = 'train'\n",
    "val_samples = int(len(data_df)*MAX_VAL_FRAC)\n",
    "val_idx = np.random.choice(data_df.index, size = val_samples, replace=False)\n",
    "data_df.loc[val_idx, 'class'] = 'val'\n"
   ]
  },
  {
   "cell_type": "code",
   "execution_count": 152,
   "id": "a2fff12e",
   "metadata": {},
   "outputs": [
    {
     "data": {
      "text/plain": [
       "train    4227\n",
       "val       745\n",
       "Name: class, dtype: int64"
      ]
     },
     "execution_count": 152,
     "metadata": {},
     "output_type": "execute_result"
    }
   ],
   "source": [
    "data_df['class'].value_counts()"
   ]
  },
  {
   "cell_type": "markdown",
   "id": "eff1c372",
   "metadata": {},
   "source": [
    "# Check and save"
   ]
  },
  {
   "cell_type": "code",
   "execution_count": 153,
   "id": "54c9656a",
   "metadata": {},
   "outputs": [
    {
     "data": {
      "text/plain": [
       "<matplotlib.legend.Legend at 0x7f2c18afe920>"
      ]
     },
     "execution_count": 153,
     "metadata": {},
     "output_type": "execute_result"
    },
    {
     "data": {
      "image/png": "[encoded data removed]",
      "text/plain": [
       "<Figure size 500x500 with 1 Axes>"
      ]
     },
     "metadata": {
      "needs_background": "light"
     },
     "output_type": "display_data"
    }
   ],
   "source": [
    "train_dist = calc_balance('train', norm=False)\n",
    "val_dist = calc_balance('val', norm=False)\n",
    "\n",
    "fig, ax = plt.subplots(1, 1, figsize=(5, 5), dpi=100)\n",
    "\n",
    "ax.plot(train_dist, label='train')\n",
    "ax.plot(val_dist, label='val')\n",
    "ax.legend()"
   ]
  },
  {
   "cell_type": "code",
   "execution_count": 154,
   "id": "1a3fac99",
   "metadata": {},
   "outputs": [
    {
     "data": {
      "text/plain": [
       "train    4227\n",
       "val       745\n",
       "Name: class, dtype: int64"
      ]
     },
     "execution_count": 154,
     "metadata": {},
     "output_type": "execute_result"
    }
   ],
   "source": [
    "data_df['class'].value_counts()"
   ]
  },
  {
   "cell_type": "code",
   "execution_count": 155,
   "id": "3b765e0f",
   "metadata": {},
   "outputs": [],
   "source": [
    "# no class balance, just the train-val split\n",
    "data_df.to_pickle(os.path.join(data_dir, 'af2_clean_model_1.p'))"
   ]
  },
  {
   "cell_type": "code",
   "execution_count": null,
   "id": "493395f2",
   "metadata": {},
   "outputs": [],
   "source": []
  },
  {
   "cell_type": "code",
   "execution_count": null,
   "id": "809cdaa6",
   "metadata": {},
   "outputs": [],
   "source": []
  },
  {
   "cell_type": "code",
   "execution_count": null,
   "id": "d842522e",
   "metadata": {},
   "outputs": [],
   "source": []
  },
  {
   "cell_type": "code",
   "execution_count": null,
   "id": "1211ed8a",
   "metadata": {},
   "outputs": [],
   "source": []
  },
  {
   "cell_type": "code",
   "execution_count": null,
   "id": "a9b502f4",
   "metadata": {},
   "outputs": [],
   "source": []
  },
  {
   "cell_type": "code",
   "execution_count": null,
   "id": "349245bc",
   "metadata": {},
   "outputs": [],
   "source": []
  },
  {
   "cell_type": "code",
   "execution_count": null,
   "id": "78d726b9",
   "metadata": {},
   "outputs": [],
   "source": []
  },
  {
   "cell_type": "markdown",
   "id": "cce1c29a",
   "metadata": {},
   "source": [
    "# Generate validation set\n",
    "`keep the same distribution to the train set`"
   ]
  },
  {
   "cell_type": "code",
   "execution_count": 147,
   "id": "9454bd92",
   "metadata": {},
   "outputs": [],
   "source": [
    "MAX_VAL_FRAC = 0.3 # fraction of val in the whole set\n",
    "MAX_IDENT = 0.3 # max seq ident between train and validation \n"
   ]
  },
  {
   "cell_type": "code",
   "execution_count": 10,
   "id": "af1a267f",
   "metadata": {},
   "outputs": [
    {
     "name": "stdout",
     "output_type": "stream",
     "text": [
      "createdb /tmp/esn0f2fl tmp/7054459524698818462/input --max-seq-len 65535 --dont-split-seq-by-len 1 --dbtype 0 --dont-shuffle 1 --id-offset 0 --compressed 0 -v 3 \n",
      "\n",
      "Converting sequences\n",
      "[\n",
      "Time for merging files: 0h 0m 0s 8ms\n",
      "Time for merging files: 0h 0m 0s 6ms\n",
      "Time for merging files: 0h 0m 0s 0ms\n",
      "Time for processing: 0h 0m 0s 33ms\n",
      "kmermatcher tmp/7054459524698818462/input tmp/7054459524698818462/clu_tmp/12475928386733316123/linclust/797861150045913196/pref --sub-mat blosum62.out --alph-size 13 --min-seq-id 0.3 --kmer-per-seq 21 --adjust-kmer-len 0 --mask 0 --mask-lower-case 0 --cov-mode 0 -k 0 -c 0.7 --max-seq-len 65535 --hash-shift 5 --split-memory-limit 0 --include-only-extendable 0 --skip-n-repeat-kmer 0 --threads 20 --compressed 0 -v 3 \n",
      "\n",
      "Database size: 4298 type: Aminoacid\n",
      "Reduced amino acid alphabet: (A S T) (C) (D B N) (E Q Z) (F Y) (G) (H) (I V) (K R) (L J M) (P) (W) (X) \n",
      "\n",
      "Estimated memory consumption 1 MB\n",
      "Generate k-mers list for 1 split\n",
      "[=================================================================] 4.30K 0s 3ms\n",
      "Sort kmer 0h 0m 0s 2ms\n",
      "Sort by rep. sequence 0h 0m 0s 0ms\n",
      "Time for fill: 0h 0m 0s 0ms\n",
      "Time for merging files: 0h 0m 0s 2ms\n",
      "Time for processing: 0h 0m 0s 28ms\n",
      "rescorediagonal tmp/7054459524698818462/input tmp/7054459524698818462/input tmp/7054459524698818462/clu_tmp/12475928386733316123/linclust/797861150045913196/pref tmp/7054459524698818462/clu_tmp/12475928386733316123/linclust/797861150045913196/pref_rescore1 --sub-mat blosum62.out --rescore-mode 0 --filter-hits 0 -e 0.001 -c 0.7 -a 0 --cov-mode 0 --min-seq-id 0.5 --min-aln-len 0 --seq-id-mode 0 --add-self-matches 0 --sort-results 0 --global-alignment 0 --db-load-mode 0 --threads 20 --compressed 0 -v 3 \n",
      "\n",
      "[=================================================================] 4.30K 0s 2ms\n",
      "Time for merging files: 0h 0m 0s 4ms\n",
      "Time for processing: 0h 0m 0s 13ms\n",
      "clust tmp/7054459524698818462/input tmp/7054459524698818462/clu_tmp/12475928386733316123/linclust/797861150045913196/pref_rescore1 tmp/7054459524698818462/clu_tmp/12475928386733316123/linclust/797861150045913196/pre_clust --cluster-mode 0 --max-iterations 1000 --similarity-type 2 --threads 20 --compressed 0 -v 3 \n",
      "\n",
      "Clustering mode: Set Cover\n",
      "[=================================================================] 4.30K 0s 2ms\n",
      "Sort entries\n",
      "Find missing connections\n",
      "Found 1427 new connections.\n",
      "Reconstruct initial order\n",
      "[=================================================================] 4.30K 0s 2ms\n",
      "Add missing connections\n",
      "[=================================================================] 4.30K 0s 1ms\n",
      "\n",
      "Time for read in: 0h 0m 0s 6ms\n",
      "Total time: 0h 0m 0s 10ms\n",
      "\n",
      "Size of the sequence database: 4298\n",
      "Size of the alignment database: 4298\n",
      "Number of clusters: 3452\n",
      "\n",
      "Writing results 0h 0m 0s 0ms\n",
      "Time for merging files: 0h 0m 0s 2ms\n",
      "Time for processing: 0h 0m 0s 17ms\n",
      "createsubdb tmp/7054459524698818462/clu_tmp/12475928386733316123/linclust/797861150045913196/order_redundancy tmp/7054459524698818462/input tmp/7054459524698818462/clu_tmp/12475928386733316123/linclust/797861150045913196/input_step_redundancy \n",
      "\n",
      "Time for merging files: 0h 0m 0s 0ms\n",
      "Time for processing: 0h 0m 0s 1ms\n",
      "createsubdb tmp/7054459524698818462/clu_tmp/12475928386733316123/linclust/797861150045913196/order_redundancy tmp/7054459524698818462/clu_tmp/12475928386733316123/linclust/797861150045913196/pref tmp/7054459524698818462/clu_tmp/12475928386733316123/linclust/797861150045913196/pref_filter1 \n",
      "\n",
      "Time for merging files: 0h 0m 0s 0ms\n",
      "Time for processing: 0h 0m 0s 1ms\n",
      "filterdb tmp/7054459524698818462/clu_tmp/12475928386733316123/linclust/797861150045913196/pref_filter1 tmp/7054459524698818462/clu_tmp/12475928386733316123/linclust/797861150045913196/pref_filter2 --filter-file tmp/7054459524698818462/clu_tmp/12475928386733316123/linclust/797861150045913196/order_redundancy \n",
      "\n",
      "Filtering with a filter files.\n",
      "[=================================================================] 3.45K 0s 3ms\n",
      "Time for merging files: 0h 0m 0s 5ms\n",
      "Time for processing: 0h 0m 0s 15ms\n",
      "rescorediagonal tmp/7054459524698818462/clu_tmp/12475928386733316123/linclust/797861150045913196/input_step_redundancy tmp/7054459524698818462/clu_tmp/12475928386733316123/linclust/797861150045913196/input_step_redundancy tmp/7054459524698818462/clu_tmp/12475928386733316123/linclust/797861150045913196/pref_filter2 tmp/7054459524698818462/clu_tmp/12475928386733316123/linclust/797861150045913196/pref_rescore2 --sub-mat blosum62.out --rescore-mode 1 --filter-hits 1 -e 0.001 -c 0.7 -a 0 --cov-mode 0 --min-seq-id 0.3 --min-aln-len 0 --seq-id-mode 0 --add-self-matches 0 --sort-results 0 --global-alignment 0 --db-load-mode 0 --threads 20 --compressed 0 -v 3 \n",
      "\n",
      "[=================================================================] 3.45K 0s 2ms\n",
      "Time for merging files: 0h 0m 0s 4ms\n",
      "Time for processing: 0h 0m 0s 15ms\n",
      "align tmp/7054459524698818462/clu_tmp/12475928386733316123/linclust/797861150045913196/input_step_redundancy tmp/7054459524698818462/clu_tmp/12475928386733316123/linclust/797861150045913196/input_step_redundancy tmp/7054459524698818462/clu_tmp/12475928386733316123/linclust/797861150045913196/pref_rescore2 tmp/7054459524698818462/clu_tmp/12475928386733316123/linclust/797861150045913196/aln --sub-mat blosum62.out -a 0 --alignment-mode 3 -e 0.001 --min-seq-id 0.3 --min-aln-len 0 --seq-id-mode 0 --alt-ali 0 -c 0.7 --cov-mode 0 --max-seq-len 65535 --comp-bias-corr 1 --realign 0 --max-rejected 2147483647 --max-accept 2147483647 --add-self-matches 0 --db-load-mode 0 --pca 1 --pcb 1.5 --score-bias 0 --gap-open 11 --gap-extend 1 --threads 20 --compressed 0 -v 3 \n",
      "\n",
      "Compute score, coverage and sequence identity\n",
      "Query database size: 3452 type: Aminoacid\n",
      "Target database size: 3452 type: Aminoacid\n",
      "Calculation of alignments\n",
      "[================================================================] 3.45K 0s 7ms\n",
      "=Time for merging files: 0h 0m 0s 6ms\n",
      "\n",
      "4795 alignments calculated.\n",
      "3798 sequence pairs passed the thresholds (0.792075 of overall calculated).\n",
      "1.100232 hits per query sequence.\n",
      "Time for processing: 0h 0m 0s 26ms\n",
      "clust tmp/7054459524698818462/clu_tmp/12475928386733316123/linclust/797861150045913196/input_step_redundancy tmp/7054459524698818462/clu_tmp/12475928386733316123/linclust/797861150045913196/aln tmp/7054459524698818462/clu_tmp/12475928386733316123/linclust/797861150045913196/clust --cluster-mode 0 --max-iterations 1000 --similarity-type 2 --threads 20 --compressed 0 -v 3 \n",
      "\n",
      "Clustering mode: Set Cover\n",
      "[=================================================================] 3.45K 0s 2ms\n",
      "Sort entries\n",
      "Find missing connections\n",
      "Found 346 new connections.\n",
      "Reconstruct initial order\n",
      "[=================================================================] 3.45K 0s 0ms\n",
      "Add missing connections\n",
      "[=================================================================] 3.45K 0s 0ms\n",
      "\n",
      "Time for read in: 0h 0m 0s 4ms\n",
      "Total time: 0h 0m 0s 7ms\n",
      "\n",
      "Size of the sequence database: 3452\n",
      "Size of the alignment database: 3452\n",
      "Number of clusters: 3174\n",
      "\n",
      "Writing results 0h 0m 0s 0ms\n",
      "Time for merging files: 0h 0m 0s 3ms\n",
      "Time for processing: 0h 0m 0s 16ms\n",
      "mergeclusters tmp/7054459524698818462/input tmp/7054459524698818462/clu_tmp/12475928386733316123/clu_redundancy tmp/7054459524698818462/clu_tmp/12475928386733316123/linclust/797861150045913196/pre_clust tmp/7054459524698818462/clu_tmp/12475928386733316123/linclust/797861150045913196/clust --threads 20 --compressed 0 -v 3 \n",
      "\n",
      "List amount 4298\n",
      "Clustering step 1\n",
      "Clustering step 2\n",
      "Writing the results\n",
      "Time for merging files: 0h 0m 0s 3ms\n",
      "Time for processing: 0h 0m 0s 16ms\n",
      "createsubdb tmp/7054459524698818462/clu_tmp/12475928386733316123/clu_redundancy tmp/7054459524698818462/input tmp/7054459524698818462/clu_tmp/12475928386733316123/input_step_redundancy \n",
      "\n",
      "Time for merging files: 0h 0m 0s 0ms\n",
      "Time for processing: 0h 0m 0s 1ms\n",
      "prefilter tmp/7054459524698818462/clu_tmp/12475928386733316123/input_step_redundancy tmp/7054459524698818462/clu_tmp/12475928386733316123/input_step_redundancy tmp/7054459524698818462/clu_tmp/12475928386733316123/pref_step0 --sub-mat blosum62.out --seed-sub-mat VTML80.out -s 1 -k 0 --k-score 2147483647 --alph-size 21 --max-seq-len 65535 --max-seqs 20 --split 0 --split-mode 2 --split-memory-limit 0 -c 0.7 --cov-mode 0 --comp-bias-corr 0 --diag-score 0 --exact-kmer-matching 0 --mask 1 --mask-lower-case 0 --min-ungapped-score 0 --add-self-matches 0 --spaced-kmer-mode 1 --db-load-mode 0 --pca 1 --pcb 1.5 --threads 20 --compressed 0 -v 3 \n",
      "\n",
      "Using 20 threads.\n",
      "Estimated memory consumption 981 MB\n",
      "Target database size: 3174 type: Aminoacid\n",
      "Query database size: 3174 type: Aminoacid\n",
      "Process prefiltering step 1 of 1\n",
      "\n",
      "Index table k-mer threshold: 154 at k-mer size 6 \n",
      "Index table: counting k-mers\n",
      "[=================================================================] 3.17K 0s 8ms\n",
      "Index table: Masked residues: 17\n",
      "Index table: fill\n"
     ]
    },
    {
     "name": "stdout",
     "output_type": "stream",
     "text": [
      "[=================================================================] 3.17K 0s 0ms\n",
      "Index statistics\n",
      "Entries:          12674\n",
      "DB size:          488 MB\n",
      "Avg k-mer size:   0.000198\n",
      "Top 10 k-mers\n",
      "    EIDAFN\t18\n",
      "    EFEAFN\t17\n",
      "    EIQAFN\t16\n",
      "    EIRAFN\t13\n",
      "    EIQGFN\t11\n",
      "    ELQGFN\t8\n",
      "    EIRGFN\t8\n",
      "    EFESFN\t8\n",
      "    EIQSFN\t7\n",
      "    EIEGFN\t6\n",
      "Time for index table init: 0h 0m 0s 468ms\n",
      "k-mer similarity threshold: 154\n",
      "\tk-mers per position = 0.254923, k-mer match probability: 0.000000\n",
      "k-mer match probability: 0.000000\n",
      "\n",
      "Starting prefiltering scores calculation (step 1 of 1)\n",
      "Query db start  1 to 3174\n",
      "Target db start  1 to 3174\n",
      "[================================================================] 3.17K 0s 1ms\n",
      "=\n",
      "0.234053 k-mers per position\n",
      "5 DB matches per sequence\n",
      "0 overflows\n",
      "2 sequences passed prefiltering per query sequence\n",
      "1 median result list length\n",
      "0 sequences with 0 size result lists\n",
      "\n",
      "Time for prefiltering scores calculation: 0h 0m 0s 5ms\n",
      "Time for merging files: 0h 0m 0s 6ms\n",
      "Time for processing: 0h 0m 0s 723ms\n",
      "align tmp/7054459524698818462/clu_tmp/12475928386733316123/input_step_redundancy tmp/7054459524698818462/clu_tmp/12475928386733316123/input_step_redundancy tmp/7054459524698818462/clu_tmp/12475928386733316123/pref_step0 tmp/7054459524698818462/clu_tmp/12475928386733316123/aln_step0 --sub-mat blosum62.out -a 0 --alignment-mode 3 -e 0.001 --min-seq-id 0.3 --min-aln-len 0 --seq-id-mode 0 --alt-ali 0 -c 0.7 --cov-mode 0 --max-seq-len 65535 --comp-bias-corr 0 --realign 0 --max-rejected 2147483647 --max-accept 2147483647 --add-self-matches 0 --db-load-mode 0 --pca 1 --pcb 1.5 --score-bias 0 --gap-open 11 --gap-extend 1 --threads 20 --compressed 0 -v 3 \n",
      "\n",
      "Compute score, coverage and sequence identity\n",
      "Query database size: 3174 type: Aminoacid\n",
      "Target database size: 3174 type: Aminoacid\n",
      "Calculation of alignments\n",
      "[=================================================================] 3.17K 0s 9ms\n",
      "Time for merging files: 0h 0m 0s 3ms\n",
      "\n",
      "6471 alignments calculated.\n",
      "4644 sequence pairs passed the thresholds (0.717663 of overall calculated).\n",
      "1.463138 hits per query sequence.\n",
      "Time for processing: 0h 0m 0s 26ms\n",
      "clust tmp/7054459524698818462/clu_tmp/12475928386733316123/input_step_redundancy tmp/7054459524698818462/clu_tmp/12475928386733316123/aln_step0 tmp/7054459524698818462/clu_tmp/12475928386733316123/clu_step0 --cluster-mode 0 --max-iterations 1000 --similarity-type 2 --threads 20 --compressed 0 -v 3 \n",
      "\n",
      "Clustering mode: Set Cover\n",
      "[=================================================================] 3.17K 0s 2ms\n",
      "Sort entries\n",
      "Find missing connections\n",
      "Found 2 new connections.\n",
      "Reconstruct initial order\n",
      "[=================================================================] 3.17K 0s 2ms\n",
      "Add missing connections\n",
      "[=================================================================] 3.17K 0s 1ms\n",
      "\n",
      "Time for read in: 0h 0m 0s 7ms\n",
      "Total time: 0h 0m 0s 10ms\n",
      "\n",
      "Size of the sequence database: 3174\n",
      "Size of the alignment database: 3174\n",
      "Number of clusters: 2769\n",
      "\n",
      "Writing results 0h 0m 0s 0ms\n",
      "Time for merging files: 0h 0m 0s 2ms\n",
      "Time for processing: 0h 0m 0s 18ms\n",
      "createsubdb tmp/7054459524698818462/clu_tmp/12475928386733316123/clu_step0 tmp/7054459524698818462/clu_tmp/12475928386733316123/input_step_redundancy tmp/7054459524698818462/clu_tmp/12475928386733316123/input_step1 \n",
      "\n",
      "Time for merging files: 0h 0m 0s 0ms\n",
      "Time for processing: 0h 0m 0s 2ms\n",
      "prefilter tmp/7054459524698818462/clu_tmp/12475928386733316123/input_step1 tmp/7054459524698818462/clu_tmp/12475928386733316123/input_step1 tmp/7054459524698818462/clu_tmp/12475928386733316123/pref_step1 --sub-mat blosum62.out --seed-sub-mat VTML80.out -s 3 -k 0 --k-score 2147483647 --alph-size 21 --max-seq-len 65535 --max-seqs 20 --split 0 --split-mode 2 --split-memory-limit 0 -c 0.7 --cov-mode 0 --comp-bias-corr 1 --diag-score 1 --exact-kmer-matching 0 --mask 1 --mask-lower-case 0 --min-ungapped-score 15 --add-self-matches 0 --spaced-kmer-mode 1 --db-load-mode 0 --pca 1 --pcb 1.5 --threads 20 --compressed 0 -v 3 \n",
      "\n",
      "Using 20 threads.\n",
      "Estimated memory consumption 980 MB\n",
      "Target database size: 2769 type: Aminoacid\n",
      "Query database size: 2769 type: Aminoacid\n",
      "Process prefiltering step 1 of 1\n",
      "\n",
      "Index table k-mer threshold: 136 at k-mer size 6 \n",
      "Index table: counting k-mers\n",
      "[=================================================================] 2.77K 0s 6ms\n",
      "Index table: Masked residues: 17\n",
      "Index table: fill\n",
      "[=================================================================] 2.77K 0s 1ms\n",
      "Index statistics\n",
      "Entries:          41853\n",
      "DB size:          488 MB\n",
      "Avg k-mer size:   0.000654\n",
      "Top 10 k-mers\n",
      "    AEGLSF\t48\n",
      "    ELEAFN\t26\n",
      "    ELDAFN\t21\n",
      "    EIEAFN\t21\n",
      "    ELRAFN\t16\n",
      "    AEGMAV\t14\n",
      "    AEIERL\t12\n",
      "    AEGLTL\t12\n",
      "    EVQAFN\t10\n",
      "    ALEGAR\t10\n",
      "Time for index table init: 0h 0m 0s 454ms\n",
      "k-mer similarity threshold: 136\n",
      "Starting prefiltering scores calculation (step 1 of 1)\n",
      "Query db start  1 to 2769\n",
      "Target db start  1 to 2769\n",
      "[=================================================================] 2.77K 0s 12ms\n",
      "\n",
      "3.902131 k-mers per position\n",
      "23 DB matches per sequence\n",
      "0 overflows\n",
      "7 sequences passed prefiltering per query sequence\n",
      "5 median result list length\n",
      "0 sequences with 0 size result lists\n",
      "\n",
      "Time for prefiltering scores calculation: 0h 0m 0s 17ms\n",
      "Time for merging files: 0h 0m 0s 3ms\n",
      "Time for processing: 0h 0m 0s 714ms\n",
      "align tmp/7054459524698818462/clu_tmp/12475928386733316123/input_step1 tmp/7054459524698818462/clu_tmp/12475928386733316123/input_step1 tmp/7054459524698818462/clu_tmp/12475928386733316123/pref_step1 tmp/7054459524698818462/clu_tmp/12475928386733316123/aln_step1 --sub-mat blosum62.out -a 0 --alignment-mode 3 -e 0.001 --min-seq-id 0.3 --min-aln-len 0 --seq-id-mode 0 --alt-ali 0 -c 0.7 --cov-mode 0 --max-seq-len 65535 --comp-bias-corr 1 --realign 0 --max-rejected 2147483647 --max-accept 2147483647 --add-self-matches 0 --db-load-mode 0 --pca 1 --pcb 1.5 --score-bias 0 --gap-open 11 --gap-extend 1 --threads 20 --compressed 0 -v 3 \n",
      "\n",
      "Compute score, coverage and sequence identity\n",
      "Query database size: 2769 type: Aminoacid\n",
      "Target database size: 2769 type: Aminoacid\n",
      "Calculation of alignments\n",
      "[=================================================================] 2.77K 0s 15ms\n",
      "Time for merging files: 0h 0m 0s 4ms\n",
      "\n",
      "20983 alignments calculated.\n",
      "8222 sequence pairs passed the thresholds (0.391841 of overall calculated).\n",
      "2.969303 hits per query sequence.\n",
      "Time for processing: 0h 0m 0s 30ms\n",
      "clust tmp/7054459524698818462/clu_tmp/12475928386733316123/input_step1 tmp/7054459524698818462/clu_tmp/12475928386733316123/aln_step1 tmp/7054459524698818462/clu_tmp/12475928386733316123/clu_step1 --cluster-mode 0 --max-iterations 1000 --similarity-type 2 --threads 20 --compressed 0 -v 3 \n",
      "\n",
      "Clustering mode: Set Cover\n",
      "[=================================================================] 2.77K 0s 1ms\n",
      "Sort entries\n",
      "Find missing connections\n",
      "Found 1657 new connections.\n",
      "Reconstruct initial order\n",
      "[=================================================================] 2.77K 0s 0ms\n",
      "Add missing connections\n",
      "[=================================================================] 2.77K 0s 0ms\n",
      "\n",
      "Time for read in: 0h 0m 0s 4ms\n",
      "Total time: 0h 0m 0s 6ms\n",
      "\n",
      "Size of the sequence database: 2769\n",
      "Size of the alignment database: 2769\n",
      "Number of clusters: 1789\n",
      "\n",
      "Writing results 0h 0m 0s 0ms\n",
      "Time for merging files: 0h 0m 0s 2ms\n",
      "Time for processing: 0h 0m 0s 13ms\n",
      "createsubdb tmp/7054459524698818462/clu_tmp/12475928386733316123/clu_step1 tmp/7054459524698818462/clu_tmp/12475928386733316123/input_step1 tmp/7054459524698818462/clu_tmp/12475928386733316123/input_step2 \n",
      "\n",
      "Time for merging files: 0h 0m 0s 0ms\n",
      "Time for processing: 0h 0m 0s 1ms\n",
      "prefilter tmp/7054459524698818462/clu_tmp/12475928386733316123/input_step2 tmp/7054459524698818462/clu_tmp/12475928386733316123/input_step2 tmp/7054459524698818462/clu_tmp/12475928386733316123/pref_step2 --sub-mat blosum62.out --seed-sub-mat VTML80.out -s 5 -k 0 --k-score 2147483647 --alph-size 21 --max-seq-len 65535 --max-seqs 20 --split 0 --split-mode 2 --split-memory-limit 0 -c 0.7 --cov-mode 0 --comp-bias-corr 1 --diag-score 1 --exact-kmer-matching 0 --mask 1 --mask-lower-case 0 --min-ungapped-score 15 --add-self-matches 0 --spaced-kmer-mode 1 --db-load-mode 0 --pca 1 --pcb 1.5 --threads 20 --compressed 0 -v 3 \n",
      "\n",
      "Using 20 threads.\n",
      "Estimated memory consumption 979 MB\n",
      "Target database size: 1789 type: Aminoacid\n",
      "Query database size: 1789 type: Aminoacid\n",
      "Process prefiltering step 1 of 1\n",
      "\n",
      "Index table k-mer threshold: 118 at k-mer size 6 \n",
      "Index table: counting k-mers\n",
      "[=================================================================] 1.79K 0s 6ms\n",
      "Index table: Masked residues: 17\n",
      "Index table: fill\n"
     ]
    },
    {
     "name": "stdout",
     "output_type": "stream",
     "text": [
      "[=================================================================] 1.79K 0s 2ms\n",
      "Index statistics\n",
      "Entries:          30377\n",
      "DB size:          488 MB\n",
      "Avg k-mer size:   0.000475\n",
      "Top 10 k-mers\n",
      "    AEGLAL\t21\n",
      "    AEGLSL\t17\n",
      "    AEGLAM\t8\n",
      "    AEALAL\t7\n",
      "    AEGMAL\t7\n",
      "    ELEAFN\t7\n",
      "    AEGLAV\t7\n",
      "    ELAAFN\t6\n",
      "    ELDAFN\t6\n",
      "    AEGVAV\t6\n",
      "Time for index table init: 0h 0m 0s 490ms\n",
      "k-mer similarity threshold: 118\n",
      "Starting prefiltering scores calculation (step 1 of 1)\n",
      "Query db start  1 to 1789\n",
      "Target db start  1 to 1789\n",
      "[=================================================================] 1.79K 0s 14ms\n",
      "\n",
      "39.135013 k-mers per position\n",
      "39 DB matches per sequence\n",
      "0 overflows\n",
      "12 sequences passed prefiltering per query sequence\n",
      "13 median result list length\n",
      "0 sequences with 0 size result lists\n",
      "\n",
      "Time for prefiltering scores calculation: 0h 0m 0s 19ms\n",
      "Time for merging files: 0h 0m 0s 6ms\n",
      "Time for processing: 0h 0m 0s 752ms\n",
      "align tmp/7054459524698818462/clu_tmp/12475928386733316123/input_step2 tmp/7054459524698818462/clu_tmp/12475928386733316123/input_step2 tmp/7054459524698818462/clu_tmp/12475928386733316123/pref_step2 tmp/7054459524698818462/clu_tmp/12475928386733316123/aln_step2 --sub-mat blosum62.out -a 0 --alignment-mode 3 -e 0.001 --min-seq-id 0.3 --min-aln-len 0 --seq-id-mode 0 --alt-ali 0 -c 0.7 --cov-mode 0 --max-seq-len 65535 --comp-bias-corr 1 --realign 0 --max-rejected 2147483647 --max-accept 2147483647 --add-self-matches 0 --db-load-mode 0 --pca 1 --pcb 1.5 --score-bias 0 --gap-open 11 --gap-extend 1 --threads 20 --compressed 0 -v 3 \n",
      "\n",
      "Compute score, coverage and sequence identity\n",
      "Query database size: 1789 type: Aminoacid\n",
      "Target database size: 1789 type: Aminoacid\n",
      "Calculation of alignments\n",
      "[=================================================================] 1.79K 0s 15ms\n",
      "Time for merging files: 0h 0m 0s 3ms\n",
      "\n",
      "22125 alignments calculated.\n",
      "4608 sequence pairs passed the thresholds (0.208271 of overall calculated).\n",
      "2.575741 hits per query sequence.\n",
      "Time for processing: 0h 0m 0s 30ms\n",
      "clust tmp/7054459524698818462/clu_tmp/12475928386733316123/input_step2 tmp/7054459524698818462/clu_tmp/12475928386733316123/aln_step2 tmp/7054459524698818462/clu_tmp/12475928386733316123/clu_step2 --cluster-mode 0 --max-iterations 1000 --similarity-type 2 --threads 20 --compressed 0 -v 3 \n",
      "\n",
      "Clustering mode: Set Cover\n",
      "[=================================================================] 1.79K 0s 2ms\n",
      "Sort entries\n",
      "Find missing connections\n",
      "Found 1107 new connections.\n",
      "Reconstruct initial order\n",
      "[=================================================================] 1.79K 0s 0ms\n",
      "Add missing connections\n",
      "[=================================================================] 1.79K 0s 1ms\n",
      "\n",
      "Time for read in: 0h 0m 0s 5ms\n",
      "Total time: 0h 0m 0s 9ms\n",
      "\n",
      "Size of the sequence database: 1789\n",
      "Size of the alignment database: 1789\n",
      "Number of clusters: 1084\n",
      "\n",
      "Writing results 0h 0m 0s 0ms\n",
      "Time for merging files: 0h 0m 0s 2ms\n",
      "Time for processing: 0h 0m 0s 15ms\n",
      "mergeclusters tmp/7054459524698818462/input tmp/7054459524698818462/clu tmp/7054459524698818462/clu_tmp/12475928386733316123/clu_redundancy tmp/7054459524698818462/clu_tmp/12475928386733316123/clu_step0 tmp/7054459524698818462/clu_tmp/12475928386733316123/clu_step1 tmp/7054459524698818462/clu_tmp/12475928386733316123/clu_step2 --threads 20 --compressed 0 -v 3 \n",
      "\n",
      "List amount 4298\n",
      "Clustering step 1\n",
      "Clustering step 2\n",
      "Clustering step 3\n",
      "Clustering step 4\n",
      "Writing the results\n",
      "Time for merging files: 0h 0m 0s 2ms\n",
      "Time for processing: 0h 0m 0s 22ms\n",
      "createtsv tmp/7054459524698818462/input tmp/7054459524698818462/input tmp/7054459524698818462/clu tmp/7054459524698818462/cluster.tsv --threads 20 -v 3 \n",
      "\n",
      "Time for merging files: 0h 0m 0s 3ms\n",
      "Time for processing: 0h 0m 0s 9ms\n",
      "result2repseq tmp/7054459524698818462/input tmp/7054459524698818462/clu tmp/7054459524698818462/clu_rep --threads 20 -v 3 \n",
      "\n",
      "Start computing representative sequences.\n",
      "[=================================================================] 1.08K 0s 1ms\n",
      "\n",
      "Time for merging files: 0h 0m 0s 3ms\n",
      "Time for processing: 0h 0m 0s 10ms\n",
      "result2flat tmp/7054459524698818462/input tmp/7054459524698818462/input tmp/7054459524698818462/clu_rep tmp/7054459524698818462/rep_seq.fasta --use-fasta-header -v 3 \n",
      "\n",
      "Time for processing: 0h 0m 0s 3ms\n",
      "createseqfiledb tmp/7054459524698818462/input tmp/7054459524698818462/clu tmp/7054459524698818462/clu_seqs --threads 20 -v 3 \n",
      "\n",
      "Time for merging files: 0h 0m 0s 3ms\n",
      "Time for processing: 0h 0m 0s 13ms\n",
      "result2flat tmp/7054459524698818462/input tmp/7054459524698818462/input tmp/7054459524698818462/clu_seqs tmp/7054459524698818462/all_seqs.fasta -v 3 \n",
      "\n",
      "Time for processing: 0h 0m 0s 6ms\n"
     ]
    }
   ],
   "source": [
    "c = mmseqs2.MMSeqsClusterer()\n",
    "data_df = c.cluster(data_df, min_identity=MAX_IDENT, coverage=0.7)\n"
   ]
  },
  {
   "cell_type": "code",
   "execution_count": 11,
   "id": "5b97affd",
   "metadata": {},
   "outputs": [
    {
     "data": {
      "text/plain": [
       "1084"
      ]
     },
     "execution_count": 11,
     "metadata": {},
     "output_type": "execute_result"
    }
   ],
   "source": [
    "len(data_df.clust_id.unique())"
   ]
  },
  {
   "cell_type": "code",
   "execution_count": 12,
   "id": "2bdb03af",
   "metadata": {
    "scrolled": true
   },
   "outputs": [
    {
     "name": "stdout",
     "output_type": "stream",
     "text": [
      "0.01 342\n"
     ]
    }
   ],
   "source": [
    "final_dist = 1\n",
    "\n",
    "while final_dist > 0.02:\n",
    "\n",
    "    data_df['class'] = 'train'\n",
    "    clusters = data_df.clust_id.unique().tolist()\n",
    "    prev_dist = 1\n",
    "    moved=0\n",
    "\n",
    "    while True:\n",
    "        # biggest first\n",
    "        # probability_distribution = \n",
    "        cl_move = np.random.choice(clusters)\n",
    "\n",
    "        data_df.loc[\n",
    "            data_df.clust_id == cl_move,\n",
    "            'class'\n",
    "        ] = 'val'\n",
    "\n",
    "        train_dist = list(calc_balance('train'))\n",
    "        val_dist = list(calc_balance('val'))\n",
    "        \n",
    "        RANG=6\n",
    "        train_dist = train_dist[:RANG] + train_dist[-RANG:]\n",
    "        val_dist = val_dist[:RANG] + val_dist[-RANG:]\n",
    "        \n",
    "        dist = np.linalg.norm(np.asarray(train_dist)-np.asarray(val_dist))\n",
    "\n",
    "        if dist < prev_dist: #or np.random.rand() >= 0.95:\n",
    "            # accept cluster move\n",
    "            clusters.remove(cl_move)\n",
    "            moved+=1\n",
    "        else:\n",
    "            # revert cluster move\n",
    "            data_df.loc[\n",
    "                data_df.clust_id == cl_move,\n",
    "                'class'\n",
    "            ] = 'train'        \n",
    "\n",
    "        val_frac = (data_df['class'] == 'val').sum() / len(data_df)\n",
    "\n",
    "        if val_frac >= MAX_VAL_FRAC: \n",
    "            final_dist = dist\n",
    "            print(final_dist.round(2), moved)\n",
    "            break\n",
    "\n"
   ]
  },
  {
   "cell_type": "markdown",
   "id": "ad83961c",
   "metadata": {},
   "source": [
    "# Class balance\n",
    "`may cause data loss`"
   ]
  },
  {
   "cell_type": "code",
   "execution_count": 114,
   "id": "0e3dace9",
   "metadata": {},
   "outputs": [],
   "source": [
    "def balance(df):\n",
    "    df['freq'] = 1./df.groupby('rot_mean_bin')['rot_mean_bin'].transform('count')\n",
    "    idx = [df.sample(1, weights = df.freq).iloc[0].name for _ in range(len(df))]\n",
    "    return idx"
   ]
  },
  {
   "cell_type": "code",
   "execution_count": 115,
   "id": "dc60f08c",
   "metadata": {},
   "outputs": [],
   "source": [
    "BINS = list(np.linspace(-52, 52, 26))\n",
    "\n",
    "data_df['rot_mean_bin'] = pd.cut(data_df.rot_mean, bins=BINS, labels=False)\n",
    "\n",
    "data_df_val = data_df[data_df['class'] == 'val'].copy()\n",
    "data_df_train = data_df[data_df['class'] == 'train'].copy()\n"
   ]
  },
  {
   "cell_type": "code",
   "execution_count": 116,
   "id": "a75316ec",
   "metadata": {},
   "outputs": [
    {
     "data": {
      "image/png": "[encoded data removed]",
      "text/plain": [
       "<Figure size 500x500 with 1 Axes>"
      ]
     },
     "metadata": {},
     "output_type": "display_data"
    }
   ],
   "source": [
    "idx_train = balance(data_df_train)\n",
    "plot(data_df_train.loc[idx_train])"
   ]
  },
  {
   "cell_type": "code",
   "execution_count": 117,
   "id": "2c2dffa4",
   "metadata": {},
   "outputs": [
    {
     "data": {
      "image/png": "[encoded data removed]",
      "text/plain": [
       "<Figure size 500x500 with 1 Axes>"
      ]
     },
     "metadata": {},
     "output_type": "display_data"
    }
   ],
   "source": [
    "idx_val = balance(data_df_val)\n",
    "plot(data_df_val.loc[idx_val])"
   ]
  },
  {
   "cell_type": "code",
   "execution_count": 118,
   "id": "aa810e52",
   "metadata": {},
   "outputs": [],
   "source": [
    "assert set(data_df_val.loc[idx_val].sequence) & set(data_df_train.loc[idx_train].sequence) == set()"
   ]
  },
  {
   "cell_type": "code",
   "execution_count": 119,
   "id": "1c008899",
   "metadata": {},
   "outputs": [],
   "source": [
    "# split with class balance\n",
    "pd.concat([\n",
    "    data_df_val.loc[idx_val], \n",
    "    data_df_train.loc[idx_train]\n",
    "]).to_pickle(os.path.join(data_dir, 'af2_balance_clean.p'))"
   ]
  },
  {
   "cell_type": "code",
   "execution_count": null,
   "id": "f916c60f",
   "metadata": {},
   "outputs": [],
   "source": []
  },
  {
   "cell_type": "code",
   "execution_count": null,
   "id": "559ec6c1",
   "metadata": {},
   "outputs": [],
   "source": []
  }
 ],
 "metadata": {
  "kernelspec": {
   "display_name": "Python 3",
   "language": "python",
   "name": "python3"
  },
  "language_info": {
   "codemirror_mode": {
    "name": "ipython",
    "version": 3
   },
   "file_extension": ".py",
   "mimetype": "text/x-python",
   "name": "python",
   "nbconvert_exporter": "python",
   "pygments_lexer": "ipython3",
   "version": "3.10.4"
  }
 },
 "nbformat": 4,
 "nbformat_minor": 5
}
