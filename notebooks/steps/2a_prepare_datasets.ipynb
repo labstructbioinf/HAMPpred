{
 "cells": [
  {
   "cell_type": "code",
   "execution_count": 1,
   "id": "c5800f9a",
   "metadata": {},
   "outputs": [],
   "source": [
    "import os \n",
    "import sys\n",
    "import pandas as pd\n",
    "import numpy as np\n",
    "import matplotlib.pyplot as plt\n",
    "\n",
    "sys.path.append('../../hamp_pred/')\n",
    "from utils.tools import diffangle\n",
    "\n",
    "# lbs tools package is avaliable at https://github.com/labstructbioinf/lbs-tools\n",
    "sys.path.append('/home/nfs/sdunin/scr/lbs-tools/')\n",
    "from lbs.sequences import mmseqs2"
   ]
  },
  {
   "cell_type": "code",
   "execution_count": 2,
   "id": "343b6fe4",
   "metadata": {},
   "outputs": [],
   "source": [
    "data_dir = '../../data/input'\n",
    "\n",
    "# referece Crick angles\n",
    "crangles = {'a':19.5,'b':122.35,'c':-134.78,'d': -31.92,'e':70.92 ,'f':173.78,'g':-83.35}"
   ]
  },
  {
   "cell_type": "code",
   "execution_count": 3,
   "id": "30147652",
   "metadata": {},
   "outputs": [],
   "source": [
    "def calc_balance(data_df, class_name, norm=True):\n",
    "    \n",
    "    BINS = list(np.linspace(-52, 52, 26))\n",
    "    \n",
    "    tmp = pd.cut(data_df[data_df['class']==class_name].rot_mean, bins=BINS, labels=False, retbins=False)#.value_counts().sort_index()\n",
    "    res_vec = np.zeros(len(BINS))\n",
    "    \n",
    "    for g_idx, g in tmp.groupby(tmp):\n",
    "        res_vec[g_idx] = len(g)\n",
    "\n",
    "    if norm:\n",
    "        res_vec = res_vec / res_vec.sum()\n",
    "        \n",
    "    return res_vec"
   ]
  },
  {
   "cell_type": "code",
   "execution_count": 4,
   "id": "f5b8898c",
   "metadata": {},
   "outputs": [],
   "source": [
    "\n",
    "def check_crick(row, MAXROT=55):\n",
    "    return (np.abs(diffangle(row.n_crick_mut[:2].mean(), crangles['a'])) <= MAXROT) and \\\n",
    "           (np.abs(diffangle(row.c_crick_mut[:2].mean(), crangles['a'])) <= MAXROT) \n",
    "\n",
    "def plot(df, BINS=26):\n",
    "    fig, ax = plt.subplots(1, 1, figsize=(5, 5), dpi=100)\n",
    "    df['rot_mean'].plot.hist(bins=BINS, ax=ax)\n",
    "    ax.axvline(x=-52, c='r')\n",
    "    ax.axvline(x=52, c='r')"
   ]
  },
  {
   "cell_type": "markdown",
   "id": "b55c745f",
   "metadata": {},
   "source": [
    "# Read & validate data"
   ]
  },
  {
   "cell_type": "code",
   "execution_count": 5,
   "id": "edc1eb6f",
   "metadata": {},
   "outputs": [
    {
     "data": {
      "text/plain": [
       "5314"
      ]
     },
     "execution_count": 5,
     "metadata": {},
     "output_type": "execute_result"
    }
   ],
   "source": [
    "data_df = pd.read_pickle(os.path.join(data_dir, 'af2.p')) \n",
    "data_df = data_df.sample(frac=1) # shuffle rows\n",
    "\n",
    "# calculate the relative rotation (i.e., the per-layer difference between N and C helices rotation) \n",
    "data_df['rot'] = diffangle(data_df.n_crick_mut, data_df.c_crick_mut)\n",
    "data_df['rot_mean'] = data_df['rot'].apply(np.mean)\n",
    "data_df['rot_std'] = data_df['rot'].apply(np.std)\n",
    "data_df['sequence'] = data_df['n_seq'] + data_df['c_seq'] # for mmseqs2 clustering\n",
    "\n",
    "len(data_df)"
   ]
  },
  {
   "cell_type": "code",
   "execution_count": 6,
   "id": "75ef3650",
   "metadata": {},
   "outputs": [
    {
     "data": {
      "text/plain": [
       "5124"
      ]
     },
     "execution_count": 6,
     "metadata": {},
     "output_type": "execute_result"
    }
   ],
   "source": [
    "data_df = data_df[data_df.apply(check_crick, axis=1)]\n",
    "len(data_df)"
   ]
  },
  {
   "cell_type": "code",
   "execution_count": 7,
   "id": "7bcbd00b",
   "metadata": {},
   "outputs": [
    {
     "data": {
      "text/plain": [
       "<AxesSubplot: >"
      ]
     },
     "execution_count": 7,
     "metadata": {},
     "output_type": "execute_result"
    },
    {
     "data": {
      "image/png": "[encoded data removed]",
      "text/plain": [
       "<Figure size 432x288 with 1 Axes>"
      ]
     },
     "metadata": {
      "needs_background": "light"
     },
     "output_type": "display_data"
    }
   ],
   "source": [
    "data_df.rot_std.hist(bins=100)"
   ]
  },
  {
   "cell_type": "code",
   "execution_count": 8,
   "id": "2eada041",
   "metadata": {},
   "outputs": [
    {
     "data": {
      "text/plain": [
       "4972"
      ]
     },
     "execution_count": 8,
     "metadata": {},
     "output_type": "execute_result"
    }
   ],
   "source": [
    "data_df = data_df[data_df.rot_std <= 14]\n",
    "data_df = data_df[data_df.rot_mean.abs() <= 52]\n",
    "len(data_df)"
   ]
  },
  {
   "cell_type": "code",
   "execution_count": 9,
   "id": "ad84ccdc",
   "metadata": {},
   "outputs": [
    {
     "data": {
      "image/png": "[encoded data removed]",
      "text/plain": [
       "<Figure size 500x500 with 1 Axes>"
      ]
     },
     "metadata": {
      "needs_background": "light"
     },
     "output_type": "display_data"
    }
   ],
   "source": [
    "plot(data_df)"
   ]
  },
  {
   "cell_type": "markdown",
   "id": "7e4c0ca0",
   "metadata": {},
   "source": [
    "# Generate validation set\n",
    "`random sampling`"
   ]
  },
  {
   "cell_type": "code",
   "execution_count": 12,
   "id": "fad64732",
   "metadata": {},
   "outputs": [],
   "source": [
    "MAX_VAL_FRAC = 0.2 # fraction of val in the whole set \n",
    "data_df['class'] = 'train'\n",
    "val_samples = int(len(data_df)*MAX_VAL_FRAC)\n",
    "val_idx = np.random.choice(data_df.index, size = val_samples, replace=False)\n",
    "data_df.loc[val_idx, 'class'] = 'val'\n"
   ]
  },
  {
   "cell_type": "code",
   "execution_count": 13,
   "id": "a2fff12e",
   "metadata": {},
   "outputs": [
    {
     "data": {
      "text/plain": [
       "train    3978\n",
       "val       994\n",
       "Name: class, dtype: int64"
      ]
     },
     "execution_count": 13,
     "metadata": {},
     "output_type": "execute_result"
    }
   ],
   "source": [
    "data_df['class'].value_counts()"
   ]
  },
  {
   "cell_type": "markdown",
   "id": "eff1c372",
   "metadata": {},
   "source": [
    "# Check and save"
   ]
  },
  {
   "cell_type": "code",
   "execution_count": 14,
   "id": "54c9656a",
   "metadata": {},
   "outputs": [
    {
     "data": {
      "text/plain": [
       "<matplotlib.legend.Legend at 0x7fe70c911000>"
      ]
     },
     "execution_count": 14,
     "metadata": {},
     "output_type": "execute_result"
    },
    {
     "data": {
      "image/png": "[encoded data removed]",
      "text/plain": [
       "<Figure size 500x500 with 1 Axes>"
      ]
     },
     "metadata": {
      "needs_background": "light"
     },
     "output_type": "display_data"
    }
   ],
   "source": [
    "train_dist = calc_balance(data_df, 'train', norm=False)\n",
    "val_dist = calc_balance(data_df, 'val', norm=False)\n",
    "\n",
    "fig, ax = plt.subplots(1, 1, figsize=(5, 5), dpi=100)\n",
    "\n",
    "ax.plot(train_dist, label='train')\n",
    "ax.plot(val_dist, label='val')\n",
    "ax.legend()"
   ]
  },
  {
   "cell_type": "code",
   "execution_count": 15,
   "id": "1a3fac99",
   "metadata": {},
   "outputs": [
    {
     "data": {
      "text/plain": [
       "train    3978\n",
       "val       994\n",
       "Name: class, dtype: int64"
      ]
     },
     "execution_count": 15,
     "metadata": {},
     "output_type": "execute_result"
    }
   ],
   "source": [
    "data_df['class'].value_counts()"
   ]
  },
  {
   "cell_type": "code",
   "execution_count": 14,
   "id": "3b765e0f",
   "metadata": {},
   "outputs": [],
   "source": [
    "# no class balance, just the train-val split\n",
    "data_df.to_pickle(os.path.join(data_dir, 'af2_clean_model_1.p'))"
   ]
  },
  {
   "cell_type": "markdown",
   "id": "63a576fc",
   "metadata": {},
   "source": [
    "# Train-validation-test split (not used)"
   ]
  },
  {
   "cell_type": "code",
   "execution_count": 16,
   "id": "d842522e",
   "metadata": {},
   "outputs": [],
   "source": [
    "data_df = pd.read_pickle(\n",
    "    os.path.join(data_dir, 'af2_clean_model_1.p')\n",
    ")"
   ]
  },
  {
   "cell_type": "code",
   "execution_count": 17,
   "id": "1a65b53d",
   "metadata": {},
   "outputs": [],
   "source": [
    "tmp_df = data_df[data_df['class'] == 'val']"
   ]
  },
  {
   "cell_type": "code",
   "execution_count": 18,
   "id": "be531da6",
   "metadata": {},
   "outputs": [],
   "source": [
    "split_pos = round(len(tmp_df) / 2)"
   ]
  },
  {
   "cell_type": "code",
   "execution_count": 19,
   "id": "eb681d6d",
   "metadata": {},
   "outputs": [],
   "source": [
    "test_df = tmp_df.iloc[:split_pos].copy().reset_index(drop=True)\n",
    "test_df['train_seq'] = test_df['n_seq'].apply(lambda x:x[1:-1]) + test_df['c_seq'].apply(lambda x:x[1:-1])\n",
    "test_df = test_df[['group', 'n_rot', 'c_rot', 'rot', 'n_crick_mut', 'c_crick_mut',\n",
    "       'rot_mean', 'rot_std', 'sequence', 'class', 'train_seq', 'n_seq',\n",
    "       'c_seq']]\n"
   ]
  },
  {
   "cell_type": "code",
   "execution_count": 20,
   "id": "730e816e",
   "metadata": {},
   "outputs": [],
   "source": [
    "train_val_df = pd.concat([\n",
    "    data_df[data_df['class'] == 'train'],\n",
    "    tmp_df.iloc[split_pos:]\n",
    "]).reset_index(drop=True)\n",
    "\n",
    "train_val_df['train_seq'] = train_val_df['n_seq'].apply(lambda x:x[1:-1]) + train_val_df['c_seq'].apply(lambda x:x[1:-1])\n",
    "train_val_df = train_val_df[['group', 'n_rot', 'c_rot', 'rot', 'n_crick_mut', 'c_crick_mut',\n",
    "       'rot_mean', 'rot_std', 'sequence', 'class', 'train_seq', 'n_seq',\n",
    "       'c_seq']]"
   ]
  },
  {
   "cell_type": "code",
   "execution_count": 21,
   "id": "1dc14bc6",
   "metadata": {},
   "outputs": [],
   "source": [
    "test_df.to_pickle(os.path.join(data_dir, 'af_clean_model_test.p'))\n",
    "train_val_df.to_pickle(os.path.join(data_dir, 'af_clean_model_train_val.p'))\n"
   ]
  },
  {
   "cell_type": "code",
   "execution_count": 22,
   "id": "1211ed8a",
   "metadata": {},
   "outputs": [],
   "source": [
    "# train_val_df_check = pd.read_pickle(\n",
    "#     os.path.join(data_dir, 'af_clean_model_train_val.p')\n",
    "# )\n",
    "# train_val_df_check['train_seq'] = train_val_df_check.apply(lambda x: x['n_seq'][1:-1] + x['c_seq'][1:-1], axis=1)\n",
    "# assert train_val_df_check.equals(train_val_df)\n",
    "\n",
    "\n",
    "# test_df_check = pd.read_pickle(\n",
    "#     os.path.join(data_dir, 'af_clean_model_test.p')\n",
    "# )\n",
    "# assert test_df_check.equals(test_df)"
   ]
  },
  {
   "cell_type": "code",
   "execution_count": 23,
   "id": "00e07446",
   "metadata": {},
   "outputs": [
    {
     "data": {
      "text/plain": [
       "497"
      ]
     },
     "execution_count": 23,
     "metadata": {},
     "output_type": "execute_result"
    }
   ],
   "source": [
    "len(train_val_df[train_val_df['class'] == 'val'])"
   ]
  },
  {
   "cell_type": "code",
   "execution_count": 24,
   "id": "6b65b9ea",
   "metadata": {},
   "outputs": [
    {
     "data": {
      "text/plain": [
       "497"
      ]
     },
     "execution_count": 24,
     "metadata": {},
     "output_type": "execute_result"
    }
   ],
   "source": [
    "len(test_df[test_df['class'] == 'val'])"
   ]
  },
  {
   "cell_type": "code",
   "execution_count": 25,
   "id": "8eb050ba",
   "metadata": {},
   "outputs": [
    {
     "data": {
      "text/plain": [
       "<matplotlib.legend.Legend at 0x7f6462c99d20>"
      ]
     },
     "execution_count": 25,
     "metadata": {},
     "output_type": "execute_result"
    },
    {
     "data": {
      "image/png": "[encoded data removed]",
      "text/plain": [
       "<Figure size 500x500 with 1 Axes>"
      ]
     },
     "metadata": {
      "needs_background": "light"
     },
     "output_type": "display_data"
    }
   ],
   "source": [
    "train_dist = calc_balance(train_val_df, 'train', norm=False)\n",
    "val_dist = calc_balance(train_val_df, 'val', norm=False)\n",
    "test_dist = calc_balance(test_df, 'val', norm=False)\n",
    "\n",
    "fig, ax = plt.subplots(1, 1, figsize=(5, 5), dpi=100)\n",
    "\n",
    "ax.plot(train_dist, label='train')\n",
    "ax.plot(val_dist, label='val')\n",
    "ax.plot(test_dist, label='test')\n",
    "ax.legend()"
   ]
  },
  {
   "cell_type": "code",
   "execution_count": null,
   "id": "084349f8",
   "metadata": {},
   "outputs": [],
   "source": []
  }
 ],
 "metadata": {
  "kernelspec": {
   "display_name": "Python 3",
   "language": "python",
   "name": "python3"
  },
  "language_info": {
   "codemirror_mode": {
    "name": "ipython",
    "version": 3
   },
   "file_extension": ".py",
   "mimetype": "text/x-python",
   "name": "python",
   "nbconvert_exporter": "python",
   "pygments_lexer": "ipython3",
   "version": "3.10.4"
  }
 },
 "nbformat": 4,
 "nbformat_minor": 5
}
