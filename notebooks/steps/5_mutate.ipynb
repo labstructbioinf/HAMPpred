{
 "cells": [
  {
   "cell_type": "code",
   "execution_count": 1,
   "id": "77b97c0c",
   "metadata": {},
   "outputs": [
    {
     "name": "stderr",
     "output_type": "stream",
     "text": [
      "2023-04-28 13:28:06.442676: I tensorflow/core/platform/cpu_feature_guard.cc:193] This TensorFlow binary is optimized with oneAPI Deep Neural Network Library (oneDNN) to use the following CPU instructions in performance-critical operations:  AVX2 FMA\n",
      "To enable them in other operations, rebuild TensorFlow with the appropriate compiler flags.\n",
      "2023-04-28 13:28:06.579184: E tensorflow/stream_executor/cuda/cuda_blas.cc:2981] Unable to register cuBLAS factory: Attempting to register factory for plugin cuBLAS when one has already been registered\n",
      "2023-04-28 13:28:07.134730: W tensorflow/stream_executor/platform/default/dso_loader.cc:64] Could not load dynamic library 'libnvinfer.so.7'; dlerror: libnvinfer.so.7: cannot open shared object file: No such file or directory\n",
      "2023-04-28 13:28:07.134818: W tensorflow/stream_executor/platform/default/dso_loader.cc:64] Could not load dynamic library 'libnvinfer_plugin.so.7'; dlerror: libnvinfer_plugin.so.7: cannot open shared object file: No such file or directory\n",
      "2023-04-28 13:28:07.134827: W tensorflow/compiler/tf2tensorrt/utils/py_utils.cc:38] TF-TRT Warning: Cannot dlopen some TensorRT libraries. If you would like to use Nvidia GPU with TensorRT, please make sure the missing libraries mentioned above are installed properly.\n"
     ]
    }
   ],
   "source": [
    "import sys\n",
    "import itertools\n",
    "import re\n",
    "\n",
    "import pandas as pd\n",
    "import numpy as np\n",
    "import matplotlib.pyplot as plt\n",
    "\n",
    "sys.path.append('../../')\n",
    "from hamp_pred.src.predictor import Predictor\n",
    "from hamp_pred.src.input_prep.prepare_sequence import MultiChainOperator, SeqWindow\n",
    "from hamp_pred.src.input_prep.encode import RadianEncoder, MultiEncoder, OneHotEncoderSeq, RadiousPhobosEncoder\n",
    "from hamp_pred.src.predictor_config import  PredictionConfig\n",
    "from hamp_pred.src.models.common.models import BaseConvolutionalWrapper"
   ]
  },
  {
   "cell_type": "code",
   "execution_count": 2,
   "id": "7e0f54ec",
   "metadata": {},
   "outputs": [],
   "source": [
    "# load prediction model\n",
    "operator = MultiChainOperator(MultiEncoder([RadiousPhobosEncoder(), OneHotEncoderSeq()]), SeqWindow(11, 11), RadianEncoder(100),  SeqWindow(11, 11, null_char=[[0]]),\n",
    "                                      parallel=True)\n",
    "model_conf = {'activation': 'tanh',\n",
    " 'norm': True,\n",
    " 'n_layers': 3,\n",
    " 'kernel_sizes': (3, 4, 7),\n",
    " 'lstm': 2,\n",
    " 'dense': 1,\n",
    " 'reshape_out': False,\n",
    " 'epochs': 100,\n",
    " 'task': 'hamp_rot',\n",
    " 'version': '3_4_7_3_2_1',\n",
    " 'data_dir': '/home/users/sdunin/calc/HAMPpred/data/output/weights/hamp_rot/3_4_7_3_2_1'}\n",
    "\n",
    "conf = PredictionConfig(BaseConvolutionalWrapper, operator, model_conf)\n",
    "clf_main = Predictor('hamp_rot', config=conf,\n",
    "                    version=model_conf['data_dir'].split('/')[-1])\n"
   ]
  },
  {
   "cell_type": "code",
   "execution_count": 10,
   "id": "35502097",
   "metadata": {},
   "outputs": [
    {
     "data": {
      "text/plain": [
       "[['R', 219, 'C', 2.27],\n",
       " ['R', 236, 'S', 15.63],\n",
       " ['P', 220, 'H', 3.16],\n",
       " ['L', 239, 'F', 7.09],\n",
       " ['I', 221, 'N', 1.29],\n",
       " ['L', 239, 'P', 5.6],\n",
       " ['R', 226, 'W', 3.02],\n",
       " ['P', 241, 'L', 1.84],\n",
       " ['E', 227, 'V', 2.74],\n",
       " ['P', 241, 'T', 1.46],\n",
       " ['E', 227, 'K', 15.1],\n",
       " ['E', 242, 'K', 1.37],\n",
       " ['V', 228, 'I', 3.64],\n",
       " ['T', 244, 'K', 9.68],\n",
       " ['R', 229, 'L', 4.97],\n",
       " ['R', 245, 'C', 2.35],\n",
       " ['E', 230, 'A', 13.29],\n",
       " ['R', 245, 'L', 9.63],\n",
       " ['E', 230, 'G', 19.33],\n",
       " ['E', 246, 'D', 2.02],\n",
       " ['E', 230, 'K', 12.48],\n",
       " ['L', 247, 'Q', 4.35],\n",
       " ['L', 231, 'F', 5.27],\n",
       " ['L', 247, 'P', 7.74],\n",
       " ['L', 231, 'R', 3.24],\n",
       " ['L', 250, 'H', 2.09],\n",
       " ['L', 231, 'I', 12.12],\n",
       " ['R', 252, 'C', 2.08],\n",
       " ['L', 231, 'V', 9.05],\n",
       " ['L', 254, 'I', 8.79],\n",
       " ['L', 231, 'P', 11.63],\n",
       " ['L', 254, 'F', 26.59],\n",
       " ['E', 232, 'G', 17.52],\n",
       " ['L', 254, 'V', 3.73],\n",
       " ['E', 232, 'K', 36.16],\n",
       " ['N', 255, 'T', 21.78],\n",
       " ['E', 232, 'V', 16.41],\n",
       " ['N', 255, 'I', 24.46],\n",
       " ['D', 233, 'G', 1.14],\n",
       " ['L', 257, 'Q', 0.84],\n",
       " ['D', 233, 'Y', 2.26],\n",
       " ['L', 258, 'F', 6.39],\n",
       " ['D', 233, 'V', 3.99],\n",
       " ['E', 261, 'K', 13.28],\n",
       " ['H', 234, 'Q', 5.69],\n",
       " ['Y', 265, 'C', 14.78],\n",
       " ['R', 236, 'H', 19.33],\n",
       " ['N', 266, 'S', 4.68]]"
      ]
     },
     "execution_count": 10,
     "metadata": {},
     "output_type": "execute_result"
    }
   ],
   "source": [
    "#data from:\n",
    "# https://journals.asm.org/action/downloadSupplement?doi=10.1128%2FmBio.00616-15&file=mbo003152324st1.pdf\n",
    "\n",
    "mut_data = '''\n",
    "R219C        2.27         R236S       15.63\n",
    "P220H        3.16         L239F        7.09\n",
    "I221N        1.29         L239P        5.60\n",
    "R226W        3.02         P241L        1.84\n",
    "E227V        2.74         P241T        1.46\n",
    "E227K       15.10         E242K        1.37\n",
    "V228I        3.64         T244K        9.68\n",
    "R229L        4.97         R245C        2.35\n",
    "E230A       13.29         R245L        9.63\n",
    "E230G       19.33         E246D        2.02\n",
    "E230K       12.48         L247Q        4.35\n",
    "L231F        5.27         L247P        7.74\n",
    "L231R        3.24         L250H        2.09\n",
    "L231I       12.12         R252C        2.08\n",
    "L231V        9.05         L254I        8.79\n",
    "L231P       11.63         L254F       26.59\n",
    "E232G       17.52         L254V        3.73\n",
    "E232K       36.16         N255T       21.78\n",
    "E232V       16.41         N255I       24.46\n",
    "D233G        1.14         L257Q        0.84\n",
    "D233Y        2.26         L258F        6.39\n",
    "D233V        3.99         E261K       13.28\n",
    "H234Q        5.69         Y265C       14.78\n",
    "R236H       19.33         N266S        4.68\n",
    "'''\n",
    "\n",
    "mutlist = []\n",
    "\n",
    "def parse_mut(mut):\n",
    "    wt = mut[0]\n",
    "    m = mut[-1]\n",
    "    pos = int(mut[1:-1])\n",
    "    return wt, pos, m\n",
    "\n",
    "for l in mut_data.split('\\n'):\n",
    "    l = l.strip()\n",
    "    if l == '': continue\n",
    "    \n",
    "    ll = re.split(r'\\s{1,}', l)\n",
    "    mutlist.append((list(parse_mut(ll[0])) + [float(ll[1])]))\n",
    "    \n",
    "    mutlist.append((list(parse_mut(ll[2])) + [float(ll[3])]))\n",
    "\n",
    "mutlist"
   ]
  },
  {
   "cell_type": "code",
   "execution_count": 11,
   "id": "122ff697",
   "metadata": {},
   "outputs": [],
   "source": [
    "def get_helices(seq):\n",
    "    h1 = seq[6:17]\n",
    "    h2 = seq[32:43]\n",
    "    return h1+h2\n",
    "\n",
    "seq_start = 215\n",
    "seq = 'WWSLRPIEALAREVRELEDHHREMLNPETTRELTSLVRNLNQLLKSERERYN'\n",
    "seq_min = get_helices(seq)\n",
    "\n",
    "res = []\n",
    "\n",
    "for m in mutlist:\n",
    "    pos = m[1]-seq_start\n",
    "    assert seq[pos] == m[0]\n",
    "    mutseq = seq[:pos] + m[2] + seq[pos+1:]\n",
    "    mutseq_min = get_helices(mutseq)\n",
    "    \n",
    "    if mutseq_min == seq_min: continue # mutation outside the hamppred range\n",
    "        \n",
    "    res.append((mutseq_min, m[3]))\n",
    "    \n",
    "res_df = pd.DataFrame(res, columns=['sequence', 'activity'])"
   ]
  },
  {
   "cell_type": "code",
   "execution_count": 12,
   "id": "27fd3fa2",
   "metadata": {},
   "outputs": [
    {
     "name": "stdout",
     "output_type": "stream",
     "text": [
      "1/1 [==============================] - 1s 1s/step\n"
     ]
    }
   ],
   "source": [
    "pred = clf_main.predict(res_df.sequence.tolist())"
   ]
  },
  {
   "cell_type": "code",
   "execution_count": 13,
   "id": "bbe40ed5",
   "metadata": {},
   "outputs": [],
   "source": [
    "res_df['full_pred'] = pred.predicted_rotation.apply(lambda i: np.array(list(itertools.chain(*i))))"
   ]
  },
  {
   "cell_type": "code",
   "execution_count": 14,
   "id": "b4b66bcd",
   "metadata": {},
   "outputs": [],
   "source": [
    "res_df['pred'] = res_df['full_pred'].apply(np.mean)"
   ]
  },
  {
   "cell_type": "code",
   "execution_count": 15,
   "id": "0694a67c",
   "metadata": {},
   "outputs": [
    {
     "data": {
      "text/plain": [
       "(-26.0, 26.0)"
      ]
     },
     "execution_count": 15,
     "metadata": {},
     "output_type": "execute_result"
    },
    {
     "data": {
      "image/png": "[encoded data removed]",
      "text/plain": [
       "<Figure size 500x500 with 1 Axes>"
      ]
     },
     "metadata": {
      "needs_background": "light"
     },
     "output_type": "display_data"
    }
   ],
   "source": [
    "fig, ax = plt.subplots(1,1, figsize=(5, 5), dpi=100)\n",
    "\n",
    "for k, v in res_df.iterrows():\n",
    "    if v.activity > 24:\n",
    "        c='red'\n",
    "    elif v.activity < 1:\n",
    "        c='green'\n",
    "    else:\n",
    "        c='lightgray'\n",
    "    ax.plot(v.full_pred, c=c)\n",
    "    \n",
    "ax.set_ylim(-26, 26)"
   ]
  },
  {
   "cell_type": "markdown",
   "id": "0b262c05",
   "metadata": {},
   "source": [
    "## "
   ]
  },
  {
   "cell_type": "code",
   "execution_count": 16,
   "id": "f1d58421",
   "metadata": {},
   "outputs": [
    {
     "name": "stderr",
     "output_type": "stream",
     "text": [
      "/home/users/sdunin/miniconda3/envs/jup/lib/python3.10/site-packages/pandas/plotting/_matplotlib/core.py:1114: UserWarning: No data for colormapping provided via 'c'. Parameters 'cmap' will be ignored\n",
      "  scatter = ax.scatter(\n"
     ]
    },
    {
     "data": {
      "text/plain": [
       "<AxesSubplot: xlabel='pred', ylabel='activity'>"
      ]
     },
     "execution_count": 16,
     "metadata": {},
     "output_type": "execute_result"
    },
    {
     "data": {
      "image/png": "[encoded data removed]",
      "text/plain": [
       "<Figure size 432x288 with 1 Axes>"
      ]
     },
     "metadata": {
      "needs_background": "light"
     },
     "output_type": "display_data"
    }
   ],
   "source": [
    "res_df.plot.scatter(x='pred', y='activity')"
   ]
  },
  {
   "cell_type": "code",
   "execution_count": null,
   "id": "b09bebc8",
   "metadata": {},
   "outputs": [],
   "source": []
  },
  {
   "cell_type": "code",
   "execution_count": null,
   "id": "04f0125b",
   "metadata": {},
   "outputs": [],
   "source": []
  },
  {
   "cell_type": "code",
   "execution_count": null,
   "id": "d97afe3b",
   "metadata": {},
   "outputs": [],
   "source": []
  },
  {
   "cell_type": "code",
   "execution_count": null,
   "id": "d67bb7ce",
   "metadata": {},
   "outputs": [],
   "source": []
  }
 ],
 "metadata": {
  "kernelspec": {
   "display_name": "Python 3",
   "language": "python",
   "name": "python3"
  },
  "language_info": {
   "codemirror_mode": {
    "name": "ipython",
    "version": 3
   },
   "file_extension": ".py",
   "mimetype": "text/x-python",
   "name": "python",
   "nbconvert_exporter": "python",
   "pygments_lexer": "ipython3",
   "version": "3.10.4"
  }
 },
 "nbformat": 4,
 "nbformat_minor": 5
}
